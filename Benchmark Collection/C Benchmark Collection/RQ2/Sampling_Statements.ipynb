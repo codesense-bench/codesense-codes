{
 "cells": [
  {
   "cell_type": "code",
   "execution_count": 3,
   "metadata": {},
   "outputs": [
    {
     "name": "stdout",
     "output_type": "stream",
     "text": [
      "39034\n"
     ]
    }
   ],
   "source": [
    "# Load C traces\n",
    "import pandas as pd\n",
    "import json\n",
    "import re\n",
    "from pprint import pp\n",
    "from tree_sitter_languages import get_parser\n",
    "import os\n",
    "from lxml import etree\n",
    "from pathlib import Path\n",
    "import tqdm\n",
    "from Sampling_Block import *\n",
    "\n",
    "#files = list(Path('C/Traces').glob(\"**/log_*.xml\"))\n",
    "\n",
    "# Define the base directory\n",
    "base_dir = Path('/home/XXX/trace-modeling-oss-fuzz-c/trace_test/traces')\n",
    "\n",
    "# List all directories ending with '_own'\n",
    "own_dirs = [d for d in base_dir.glob(\"*_own\") if d.is_dir()]\n",
    "\n",
    "log_files = []\n",
    "\n",
    "for trace_dir in own_dirs:\n",
    "    log_files.extend(Path(trace_dir).glob(\"**/log_*.xml\"))\n",
    "\n",
    "print(len(log_files))"
   ]
  },
  {
   "cell_type": "code",
   "execution_count": 4,
   "metadata": {},
   "outputs": [
    {
     "name": "stderr",
     "output_type": "stream",
     "text": [
      "  0%|          | 0/39034 [00:00<?, ?it/s]"
     ]
    },
    {
     "name": "stderr",
     "output_type": "stream",
     "text": [
      "Error processing source file: Source file not found: /home/XXX/trace-modeling-oss-fuzz-c/trace_test/traces/tarantool_own/trace_luaL_loadbuffer_fuzzer_exe/src_0.xml\n",
      "Falling back to HTML parser for /home/XXX/trace-modeling-oss-fuzz-c/trace_test/traces/tarantool_own/trace_swim_proto_member_fuzzer_exe/log_0.xml\n"
     ]
    },
    {
     "name": "stdout",
     "output_type": "stream",
     "text": [
      "Error generating signature: [Errno 2] No such file or directory: '/home/XXX/trace-modeling-oss-fuzz-c/trace_test/traces/tarantool_own/trace_luaL_loadbuffer_fuzzer_exe/src_0.xml'\n"
     ]
    },
    {
     "name": "stderr",
     "output_type": "stream",
     "text": [
      "Error processing call: 'NoneType' object has no attribute 'splitlines'\n",
      "  0%|          | 2/39034 [00:01<6:46:58,  1.60it/s]Falling back to HTML parser for /home/XXX/trace-modeling-oss-fuzz-c/trace_test/traces/tarantool_own/trace_csv_fuzzer_exe_exe/log_2.xml\n",
      "Fatal error processing trace file /home/XXX/trace-modeling-oss-fuzz-c/trace_test/traces/tarantool_own/trace_csv_fuzzer_exe_exe/log_2.xml: 'NoneType' object has no attribute 'xpath'\n",
      "Falling back to HTML parser for /home/XXX/trace-modeling-oss-fuzz-c/trace_test/traces/tarantool_own/trace_swim_proto_meta_fuzzer_exe/log_0.xml\n",
      "  0%|          | 11/39034 [00:02<1:46:03,  6.13it/s]"
     ]
    },
    {
     "name": "stdout",
     "output_type": "stream",
     "text": [
      "\n",
      "Processed 0/39034 files\n",
      "Current unique count: 24\n"
     ]
    },
    {
     "name": "stderr",
     "output_type": "stream",
     "text": [
      "  0%|          | 91/39034 [00:05<19:29, 33.30it/s]  "
     ]
    },
    {
     "name": "stdout",
     "output_type": "stream",
     "text": [
      "\n",
      "Processed 80/39034 files\n",
      "Current unique count: 24\n"
     ]
    },
    {
     "name": "stderr",
     "output_type": "stream",
     "text": [
      "  0%|          | 174/39034 [00:07<20:55, 30.96it/s]"
     ]
    },
    {
     "name": "stdout",
     "output_type": "stream",
     "text": [
      "\n",
      "Processed 160/39034 files\n",
      "Current unique count: 24\n"
     ]
    },
    {
     "name": "stderr",
     "output_type": "stream",
     "text": [
      "  1%|          | 271/39034 [00:08<05:13, 123.78it/s]"
     ]
    },
    {
     "name": "stdout",
     "output_type": "stream",
     "text": [
      "\n",
      "Processed 240/39034 files\n",
      "Current unique count: 25\n"
     ]
    },
    {
     "name": "stderr",
     "output_type": "stream",
     "text": [
      "  1%|          | 336/39034 [00:09<04:26, 145.13it/s]"
     ]
    },
    {
     "name": "stdout",
     "output_type": "stream",
     "text": [
      "\n",
      "Processed 320/39034 files\n",
      "Current unique count: 25\n"
     ]
    },
    {
     "name": "stderr",
     "output_type": "stream",
     "text": [
      "  1%|          | 425/39034 [00:09<04:48, 133.61it/s]"
     ]
    },
    {
     "name": "stdout",
     "output_type": "stream",
     "text": [
      "\n",
      "Processed 400/39034 files\n",
      "Current unique count: 25\n"
     ]
    },
    {
     "name": "stderr",
     "output_type": "stream",
     "text": [
      "  1%|▏         | 503/39034 [00:10<04:49, 133.21it/s]"
     ]
    },
    {
     "name": "stdout",
     "output_type": "stream",
     "text": [
      "\n",
      "Processed 480/39034 files\n",
      "Current unique count: 25\n"
     ]
    },
    {
     "name": "stderr",
     "output_type": "stream",
     "text": [
      "  1%|▏         | 585/39034 [00:11<05:36, 114.21it/s]"
     ]
    },
    {
     "name": "stdout",
     "output_type": "stream",
     "text": [
      "\n",
      "Processed 560/39034 files\n",
      "Current unique count: 25\n"
     ]
    },
    {
     "name": "stderr",
     "output_type": "stream",
     "text": [
      "  2%|▏         | 674/39034 [00:11<04:29, 142.28it/s]"
     ]
    },
    {
     "name": "stdout",
     "output_type": "stream",
     "text": [
      "\n",
      "Processed 640/39034 files\n",
      "Current unique count: 25\n"
     ]
    },
    {
     "name": "stderr",
     "output_type": "stream",
     "text": [
      "  2%|▏         | 748/39034 [00:12<04:36, 138.46it/s]"
     ]
    },
    {
     "name": "stdout",
     "output_type": "stream",
     "text": [
      "\n",
      "Processed 720/39034 files\n",
      "Current unique count: 25\n"
     ]
    },
    {
     "name": "stderr",
     "output_type": "stream",
     "text": [
      "  2%|▏         | 762/39034 [00:12<05:12, 122.38it/s]Falling back to HTML parser for /home/XXX/trace-modeling-oss-fuzz-c/trace_test/traces/tarantool_own/trace_xrow_decode_watch_fuzzer_exe/log_0.xml\n",
      "Falling back to HTML parser for /home/XXX/trace-modeling-oss-fuzz-c/trace_test/traces/tarantool_own/trace_mp_datetime_fuzzer_exe/log_12.xml\n",
      "Fatal error processing trace file /home/XXX/trace-modeling-oss-fuzz-c/trace_test/traces/tarantool_own/trace_mp_datetime_fuzzer_exe/log_12.xml: 'NoneType' object has no attribute 'xpath'\n",
      "  2%|▏         | 775/39034 [00:12<05:53, 108.13it/s]Falling back to HTML parser for /home/XXX/trace-modeling-oss-fuzz-c/trace_test/traces/tarantool_own/trace_xrow_decode_auth_fuzzer_exe/log_0.xml\n",
      "Error processing source file: Source file not found: /home/XXX/trace-modeling-oss-fuzz-c/trace_test/traces/tarantool_own/trace_xrow_decode_id_fuzzer_exe/src_0.xml\n",
      "Falling back to HTML parser for /home/XXX/trace-modeling-oss-fuzz-c/trace_test/traces/tarantool_own/trace_datetime_strptime_fuzzer_exe_exe/log_2.xml\n",
      "Fatal error processing trace file /home/XXX/trace-modeling-oss-fuzz-c/trace_test/traces/tarantool_own/trace_datetime_strptime_fuzzer_exe_exe/log_2.xml: 'NoneType' object has no attribute 'xpath'\n",
      "Error processing source file: Source file not found: /home/XXX/trace-modeling-oss-fuzz-c/trace_test/traces/tarantool_own/trace_xrow_decode_call_fuzzer_exe/src_0.xml\n",
      "Error processing source file: Source file not found: /home/XXX/trace-modeling-oss-fuzz-c/trace_test/traces/tarantool_own/trace_xrow_decode_dml_fuzzer_exe/src_0.xml\n",
      "  2%|▏         | 790/39034 [00:12<05:29, 116.15it/s]"
     ]
    },
    {
     "name": "stdout",
     "output_type": "stream",
     "text": [
      "Error generating signature: [Errno 2] No such file or directory: '/home/XXX/trace-modeling-oss-fuzz-c/trace_test/traces/tarantool_own/trace_xrow_decode_id_fuzzer_exe/src_0.xml'\n",
      "Error generating signature: [Errno 2] No such file or directory: '/home/XXX/trace-modeling-oss-fuzz-c/trace_test/traces/tarantool_own/trace_xrow_decode_call_fuzzer_exe/src_0.xml'\n",
      "Error generating signature: [Errno 2] No such file or directory: '/home/XXX/trace-modeling-oss-fuzz-c/trace_test/traces/tarantool_own/trace_xrow_decode_dml_fuzzer_exe/src_0.xml'\n"
     ]
    },
    {
     "name": "stderr",
     "output_type": "stream",
     "text": [
      "  2%|▏         | 813/39034 [00:13<08:20, 76.30it/s] "
     ]
    },
    {
     "name": "stdout",
     "output_type": "stream",
     "text": [
      "\n",
      "Processed 800/39034 files\n",
      "Current unique count: 33\n"
     ]
    },
    {
     "name": "stderr",
     "output_type": "stream",
     "text": [
      "  2%|▏         | 892/39034 [00:14<12:11, 52.13it/s]"
     ]
    },
    {
     "name": "stdout",
     "output_type": "stream",
     "text": [
      "\n",
      "Processed 880/39034 files\n",
      "Current unique count: 33\n"
     ]
    },
    {
     "name": "stderr",
     "output_type": "stream",
     "text": [
      "  2%|▏         | 973/39034 [00:15<11:17, 56.16it/s]"
     ]
    },
    {
     "name": "stdout",
     "output_type": "stream",
     "text": [
      "\n",
      "Processed 960/39034 files\n",
      "Current unique count: 33\n"
     ]
    },
    {
     "name": "stderr",
     "output_type": "stream",
     "text": [
      "  3%|▎         | 1053/39034 [00:17<12:28, 50.74it/s]"
     ]
    },
    {
     "name": "stdout",
     "output_type": "stream",
     "text": [
      "\n",
      "Processed 1040/39034 files\n",
      "Current unique count: 33\n"
     ]
    },
    {
     "name": "stderr",
     "output_type": "stream",
     "text": [
      "  3%|▎         | 1148/39034 [00:18<05:46, 109.49it/s]"
     ]
    },
    {
     "name": "stdout",
     "output_type": "stream",
     "text": [
      "\n",
      "Processed 1120/39034 files\n",
      "Current unique count: 33\n"
     ]
    },
    {
     "name": "stderr",
     "output_type": "stream",
     "text": [
      "  3%|▎         | 1220/39034 [00:19<05:08, 122.53it/s]"
     ]
    },
    {
     "name": "stdout",
     "output_type": "stream",
     "text": [
      "\n",
      "Processed 1200/39034 files\n",
      "Current unique count: 33\n"
     ]
    },
    {
     "name": "stderr",
     "output_type": "stream",
     "text": [
      "  3%|▎         | 1247/39034 [00:19<05:01, 125.33it/s]Error processing source file: Source file not found: /home/XXX/trace-modeling-oss-fuzz-c/trace_test/traces/tarantool_own/trace_xrow_decode_begin_fuzzer_exe/src_0.xml\n",
      "Error processing source file: Source file not found: /home/XXX/trace-modeling-oss-fuzz-c/trace_test/traces/tarantool_own/trace_xrow_decode_raft_fuzzer_exe/src_0.xml\n",
      "Falling back to HTML parser for /home/XXX/trace-modeling-oss-fuzz-c/trace_test/traces/tarantool_own/trace_xrow_decode_sql_fuzzer_exe/log_0.xml\n",
      "  3%|▎         | 1277/39034 [00:19<05:23, 116.72it/s]"
     ]
    },
    {
     "name": "stdout",
     "output_type": "stream",
     "text": [
      "Error generating signature: [Errno 2] No such file or directory: '/home/XXX/trace-modeling-oss-fuzz-c/trace_test/traces/tarantool_own/trace_xrow_decode_begin_fuzzer_exe/src_0.xml'\n",
      "Error generating signature: [Errno 2] No such file or directory: '/home/XXX/trace-modeling-oss-fuzz-c/trace_test/traces/tarantool_own/trace_xrow_decode_raft_fuzzer_exe/src_0.xml'\n"
     ]
    },
    {
     "name": "stderr",
     "output_type": "stream",
     "text": [
      "  3%|▎         | 1301/39034 [00:19<06:54, 90.94it/s] "
     ]
    },
    {
     "name": "stdout",
     "output_type": "stream",
     "text": [
      "\n",
      "Processed 1280/39034 files\n",
      "Current unique count: 33\n"
     ]
    },
    {
     "name": "stderr",
     "output_type": "stream",
     "text": [
      "  4%|▎         | 1383/39034 [00:20<07:41, 81.56it/s]"
     ]
    },
    {
     "name": "stdout",
     "output_type": "stream",
     "text": [
      "\n",
      "Processed 1360/39034 files\n",
      "Current unique count: 33\n"
     ]
    },
    {
     "name": "stderr",
     "output_type": "stream",
     "text": [
      "  4%|▎         | 1457/39034 [00:21<07:22, 84.92it/s]"
     ]
    },
    {
     "name": "stdout",
     "output_type": "stream",
     "text": [
      "\n",
      "Processed 1440/39034 files\n",
      "Current unique count: 33\n"
     ]
    },
    {
     "name": "stderr",
     "output_type": "stream",
     "text": [
      "  4%|▍         | 1496/39034 [00:22<07:12, 86.85it/s]Falling back to HTML parser for /home/XXX/trace-modeling-oss-fuzz-c/trace_test/traces/rabbitmq-c_own/trace_fuzz_server_exe_exe/log_0.xml\n",
      "Falling back to HTML parser for /home/XXX/trace-modeling-oss-fuzz-c/trace_test/traces/rabbitmq-c_own/trace_fuzz_server_exe_exe/log_1.xml\n",
      "Fatal error processing trace file /home/XXX/trace-modeling-oss-fuzz-c/trace_test/traces/rabbitmq-c_own/trace_fuzz_server_exe_exe/log_1.xml: 'NoneType' object has no attribute 'xpath'\n",
      "Falling back to HTML parser for /home/XXX/trace-modeling-oss-fuzz-c/trace_test/traces/rabbitmq-c_own/trace_fuzz_server_exe/log_0.xml\n",
      "Falling back to HTML parser for /home/XXX/trace-modeling-oss-fuzz-c/trace_test/traces/rabbitmq-c_own/trace_fuzz_server_exe/log_1.xml\n",
      "Fatal error processing trace file /home/XXX/trace-modeling-oss-fuzz-c/trace_test/traces/rabbitmq-c_own/trace_fuzz_server_exe/log_1.xml: 'NoneType' object has no attribute 'xpath'\n",
      "Falling back to HTML parser for /home/XXX/trace-modeling-oss-fuzz-c/trace_test/traces/rabbitmq-c_own/trace_fuzz_table_exe_exe/log_0.xml\n",
      "Falling back to HTML parser for /home/XXX/trace-modeling-oss-fuzz-c/trace_test/traces/rabbitmq-c_own/trace_fuzz_table_exe_exe/log_1.xml\n",
      "Fatal error processing trace file /home/XXX/trace-modeling-oss-fuzz-c/trace_test/traces/rabbitmq-c_own/trace_fuzz_table_exe_exe/log_1.xml: 'NoneType' object has no attribute 'xpath'\n",
      "Falling back to HTML parser for /home/XXX/trace-modeling-oss-fuzz-c/trace_test/traces/rabbitmq-c_own/trace_fuzz_url_exe_exe/log_0.xml\n",
      "Falling back to HTML parser for /home/XXX/trace-modeling-oss-fuzz-c/trace_test/traces/rabbitmq-c_own/trace_fuzz_url_exe_exe/log_1.xml\n",
      "Fatal error processing trace file /home/XXX/trace-modeling-oss-fuzz-c/trace_test/traces/rabbitmq-c_own/trace_fuzz_url_exe_exe/log_1.xml: 'NoneType' object has no attribute 'xpath'\n",
      "Falling back to HTML parser for /home/XXX/trace-modeling-oss-fuzz-c/trace_test/traces/rabbitmq-c_own/trace_fuzz_table_exe/log_0.xml\n",
      "Falling back to HTML parser for /home/XXX/trace-modeling-oss-fuzz-c/trace_test/traces/rabbitmq-c_own/trace_fuzz_table_exe/log_1.xml\n",
      "Fatal error processing trace file /home/XXX/trace-modeling-oss-fuzz-c/trace_test/traces/rabbitmq-c_own/trace_fuzz_table_exe/log_1.xml: 'NoneType' object has no attribute 'xpath'\n",
      "Falling back to HTML parser for /home/XXX/trace-modeling-oss-fuzz-c/trace_test/traces/rabbitmq-c_own/trace_fuzz_url_exe/log_0.xml\n",
      "Falling back to HTML parser for /home/XXX/trace-modeling-oss-fuzz-c/trace_test/traces/rabbitmq-c_own/trace_fuzz_url_exe/log_1.xml\n",
      "Fatal error processing trace file /home/XXX/trace-modeling-oss-fuzz-c/trace_test/traces/rabbitmq-c_own/trace_fuzz_url_exe/log_1.xml: 'NoneType' object has no attribute 'xpath'\n",
      "Falling back to HTML parser for /home/XXX/trace-modeling-oss-fuzz-c/trace_test/traces/civetweb_own/trace_civetweb_fuzz3_exe_exe/log_0.xml\n",
      "  4%|▍         | 1513/39034 [00:25<55:21, 11.30it/s]Falling back to HTML parser for /home/XXX/trace-modeling-oss-fuzz-c/trace_test/traces/civetweb_own/trace_civetweb_fuzz2_exe_exe/log_0.xml\n",
      "Falling back to HTML parser for /home/XXX/trace-modeling-oss-fuzz-c/trace_test/traces/civetweb_own/trace_civetweb_fuzz1_exe_exe/log_0.xml\n",
      "Falling back to HTML parser for /home/XXX/trace-modeling-oss-fuzz-c/trace_test/traces/libpg_query_own/trace_fuzz_parser_exe_exe/log_0.xml\n",
      "Falling back to HTML parser for /home/XXX/trace-modeling-oss-fuzz-c/trace_test/traces/libpg_query_own/trace_fuzz_parser_exe/log_0.xml\n",
      "  4%|▍         | 1535/39034 [00:35<1:58:51,  5.26it/s]"
     ]
    },
    {
     "name": "stdout",
     "output_type": "stream",
     "text": [
      "\n",
      "Processed 1520/39034 files\n",
      "Current unique count: 47\n"
     ]
    },
    {
     "name": "stderr",
     "output_type": "stream",
     "text": [
      "  4%|▍         | 1613/39034 [00:38<17:52, 34.89it/s]  "
     ]
    },
    {
     "name": "stdout",
     "output_type": "stream",
     "text": [
      "\n",
      "Processed 1600/39034 files\n",
      "Current unique count: 63\n",
      "Error generating signature: [Errno 2] No such file or directory: '/home/XXX/trace-modeling-oss-fuzz-c/trace_test/traces/nginx_own/trace_http_request_fuzzer_exe/src_0.xml'\n"
     ]
    },
    {
     "name": "stderr",
     "output_type": "stream",
     "text": [
      "Falling back to HTML parser for /home/XXX/trace-modeling-oss-fuzz-c/trace_test/traces/rtpproxy_own/trace_fuzz_rtcp_parser_exe/log_0.xml\n",
      "Falling back to HTML parser for /home/XXX/trace-modeling-oss-fuzz-c/trace_test/traces/rtpproxy_own/trace_fuzz_rtcp_parser_exe/log_1.xml\n",
      "Fatal error processing trace file /home/XXX/trace-modeling-oss-fuzz-c/trace_test/traces/rtpproxy_own/trace_fuzz_rtcp_parser_exe/log_1.xml: 'NoneType' object has no attribute 'xpath'\n",
      "Falling back to HTML parser for /home/XXX/trace-modeling-oss-fuzz-c/trace_test/traces/rtpproxy_own/trace_fuzz_rtp_parser_exe/log_0.xml\n",
      "Falling back to HTML parser for /home/XXX/trace-modeling-oss-fuzz-c/trace_test/traces/rtpproxy_own/trace_fuzz_rtp_parser_exe/log_1.xml\n",
      "Fatal error processing trace file /home/XXX/trace-modeling-oss-fuzz-c/trace_test/traces/rtpproxy_own/trace_fuzz_rtp_parser_exe/log_1.xml: 'NoneType' object has no attribute 'xpath'\n",
      "Falling back to HTML parser for /home/XXX/trace-modeling-oss-fuzz-c/trace_test/traces/rtpproxy_own/trace_fuzz_command_parser_exe/log_0.xml\n",
      "Falling back to HTML parser for /home/XXX/trace-modeling-oss-fuzz-c/trace_test/traces/rtpproxy_own/trace_fuzz_command_parser_exe/log_1.xml\n",
      "Fatal error processing trace file /home/XXX/trace-modeling-oss-fuzz-c/trace_test/traces/rtpproxy_own/trace_fuzz_command_parser_exe/log_1.xml: 'NoneType' object has no attribute 'xpath'\n",
      "Error processing source file: Source file not found: /home/XXX/trace-modeling-oss-fuzz-c/trace_test/traces/nginx_own/trace_http_request_fuzzer_exe/src_0.xml\n",
      "  5%|▍         | 1784/39034 [00:38<01:30, 411.34it/s]"
     ]
    },
    {
     "name": "stdout",
     "output_type": "stream",
     "text": [
      "\n",
      "Processed 1680/39034 files\n",
      "Current unique count: 63\n",
      "\n",
      "Processed 1760/39034 files\n",
      "Current unique count: 63\n",
      "\n",
      "Processed 1840/39034 files\n",
      "Current unique count: 63\n"
     ]
    },
    {
     "name": "stderr",
     "output_type": "stream",
     "text": [
      "  5%|▌         | 2025/39034 [00:39<00:55, 667.22it/s]"
     ]
    },
    {
     "name": "stdout",
     "output_type": "stream",
     "text": [
      "\n",
      "Processed 1920/39034 files\n",
      "Current unique count: 63\n",
      "\n",
      "Processed 2000/39034 files\n",
      "Current unique count: 63\n",
      "\n",
      "Processed 2080/39034 files\n",
      "Current unique count: 63\n"
     ]
    },
    {
     "name": "stderr",
     "output_type": "stream",
     "text": [
      "  5%|▌         | 2104/39034 [00:39<00:52, 701.51it/s]Falling back to HTML parser for /home/XXX/trace-modeling-oss-fuzz-c/trace_test/traces/lxc_own/trace_fuzz-lxc-config-read_exe_exe/log_2.xml\n",
      "Fatal error processing trace file /home/XXX/trace-modeling-oss-fuzz-c/trace_test/traces/lxc_own/trace_fuzz-lxc-config-read_exe_exe/log_2.xml: 'NoneType' object has no attribute 'xpath'\n",
      "  6%|▌         | 2320/39034 [00:39<00:41, 887.51it/s]"
     ]
    },
    {
     "name": "stdout",
     "output_type": "stream",
     "text": [
      "\n",
      "Processed 2160/39034 files\n",
      "Current unique count: 63\n",
      "\n",
      "Processed 2240/39034 files\n",
      "Current unique count: 63\n",
      "\n",
      "Processed 2320/39034 files\n",
      "Current unique count: 63\n"
     ]
    },
    {
     "name": "stderr",
     "output_type": "stream",
     "text": [
      "  6%|▌         | 2425/39034 [00:39<00:39, 933.44it/s]Falling back to HTML parser for /home/XXX/trace-modeling-oss-fuzz-c/trace_test/traces/lxc_own/trace_fuzz-lxc-define-load_exe_exe/log_2.xml\n",
      "Fatal error processing trace file /home/XXX/trace-modeling-oss-fuzz-c/trace_test/traces/lxc_own/trace_fuzz-lxc-define-load_exe_exe/log_2.xml: 'NoneType' object has no attribute 'xpath'\n",
      "  6%|▋         | 2520/39034 [00:39<00:43, 847.39it/s]"
     ]
    },
    {
     "name": "stdout",
     "output_type": "stream",
     "text": [
      "\n",
      "Processed 2400/39034 files\n",
      "Current unique count: 63\n",
      "\n",
      "Processed 2480/39034 files\n",
      "Current unique count: 63\n"
     ]
    },
    {
     "name": "stderr",
     "output_type": "stream",
     "text": [
      "  7%|▋         | 2607/39034 [00:39<00:48, 758.54it/s]"
     ]
    },
    {
     "name": "stdout",
     "output_type": "stream",
     "text": [
      "\n",
      "Processed 2560/39034 files\n",
      "Current unique count: 63\n",
      "\n",
      "Processed 2640/39034 files\n",
      "Current unique count: 63\n"
     ]
    },
    {
     "name": "stderr",
     "output_type": "stream",
     "text": [
      "Falling back to HTML parser for /home/XXX/trace-modeling-oss-fuzz-c/trace_test/traces/lxc_own/trace_fuzz-lxc-cgroup-init_exe_exe/log_2.xml\n",
      "Fatal error processing trace file /home/XXX/trace-modeling-oss-fuzz-c/trace_test/traces/lxc_own/trace_fuzz-lxc-cgroup-init_exe_exe/log_2.xml: 'NoneType' object has no attribute 'xpath'\n",
      "Falling back to HTML parser for /home/XXX/trace-modeling-oss-fuzz-c/trace_test/traces/apache-httpd_own/trace_fuzz_parse_exe_exe/log_2.xml\n",
      "Fatal error processing trace file /home/XXX/trace-modeling-oss-fuzz-c/trace_test/traces/apache-httpd_own/trace_fuzz_parse_exe_exe/log_2.xml: 'NoneType' object has no attribute 'xpath'\n",
      "Falling back to HTML parser for /home/XXX/trace-modeling-oss-fuzz-c/trace_test/traces/apache-httpd_own/trace_fuzz_preq_exe_exe_exe/log_2.xml\n",
      "Fatal error processing trace file /home/XXX/trace-modeling-oss-fuzz-c/trace_test/traces/apache-httpd_own/trace_fuzz_preq_exe_exe_exe/log_2.xml: 'NoneType' object has no attribute 'xpath'\n",
      "Falling back to HTML parser for /home/XXX/trace-modeling-oss-fuzz-c/trace_test/traces/apache-httpd_own/trace_fuzz_utils_exe_exe_exe/log_2.xml\n",
      "Fatal error processing trace file /home/XXX/trace-modeling-oss-fuzz-c/trace_test/traces/apache-httpd_own/trace_fuzz_utils_exe_exe_exe/log_2.xml: 'NoneType' object has no attribute 'xpath'\n",
      "Falling back to HTML parser for /home/XXX/trace-modeling-oss-fuzz-c/trace_test/traces/apache-httpd_own/trace_fuzz_tokenize_exe_exe_exe/log_2.xml\n",
      "Fatal error processing trace file /home/XXX/trace-modeling-oss-fuzz-c/trace_test/traces/apache-httpd_own/trace_fuzz_tokenize_exe_exe_exe/log_2.xml: 'NoneType' object has no attribute 'xpath'\n",
      "Falling back to HTML parser for /home/XXX/trace-modeling-oss-fuzz-c/trace_test/traces/apache-httpd_own/trace_fuzz_addr_parse_exe_exe_exe_exe/log_2.xml\n",
      "Fatal error processing trace file /home/XXX/trace-modeling-oss-fuzz-c/trace_test/traces/apache-httpd_own/trace_fuzz_addr_parse_exe_exe_exe_exe/log_2.xml: 'NoneType' object has no attribute 'xpath'\n",
      "Falling back to HTML parser for /home/XXX/trace-modeling-oss-fuzz-c/trace_test/traces/apache-httpd_own/trace_fuzz_addr_parse_exe_exe/log_0.xml\n",
      "Fatal error processing trace file /home/XXX/trace-modeling-oss-fuzz-c/trace_test/traces/apache-httpd_own/trace_fuzz_addr_parse_exe_exe/log_0.xml: 'NoneType' object has no attribute 'xpath'\n",
      "Falling back to HTML parser for /home/XXX/trace-modeling-oss-fuzz-c/trace_test/traces/apache-httpd_own/trace_fuzz_request_exe_exe_exe/log_2.xml\n",
      "Fatal error processing trace file /home/XXX/trace-modeling-oss-fuzz-c/trace_test/traces/apache-httpd_own/trace_fuzz_request_exe_exe_exe/log_2.xml: 'NoneType' object has no attribute 'xpath'\n",
      "Falling back to HTML parser for /home/XXX/trace-modeling-oss-fuzz-c/trace_test/traces/apache-httpd_own/trace_fuzz_preq_exe_exe/log_2.xml\n",
      "Fatal error processing trace file /home/XXX/trace-modeling-oss-fuzz-c/trace_test/traces/apache-httpd_own/trace_fuzz_preq_exe_exe/log_2.xml: 'NoneType' object has no attribute 'xpath'\n",
      "Falling back to HTML parser for /home/XXX/trace-modeling-oss-fuzz-c/trace_test/traces/apache-httpd_own/trace_fuzz_utils_exe_exe/log_2.xml\n",
      "Fatal error processing trace file /home/XXX/trace-modeling-oss-fuzz-c/trace_test/traces/apache-httpd_own/trace_fuzz_utils_exe_exe/log_2.xml: 'NoneType' object has no attribute 'xpath'\n",
      "Falling back to HTML parser for /home/XXX/trace-modeling-oss-fuzz-c/trace_test/traces/apache-httpd_own/trace_fuzz_parse_exe_exe_exe/log_2.xml\n",
      "Fatal error processing trace file /home/XXX/trace-modeling-oss-fuzz-c/trace_test/traces/apache-httpd_own/trace_fuzz_parse_exe_exe_exe/log_2.xml: 'NoneType' object has no attribute 'xpath'\n",
      "Falling back to HTML parser for /home/XXX/trace-modeling-oss-fuzz-c/trace_test/traces/apache-httpd_own/trace_fuzz_uri_exe_exe/log_2.xml\n",
      "Fatal error processing trace file /home/XXX/trace-modeling-oss-fuzz-c/trace_test/traces/apache-httpd_own/trace_fuzz_uri_exe_exe/log_2.xml: 'NoneType' object has no attribute 'xpath'\n",
      "Falling back to HTML parser for /home/XXX/trace-modeling-oss-fuzz-c/trace_test/traces/apache-httpd_own/trace_fuzz_tokenize_exe_exe/log_2.xml\n",
      "Fatal error processing trace file /home/XXX/trace-modeling-oss-fuzz-c/trace_test/traces/apache-httpd_own/trace_fuzz_tokenize_exe_exe/log_2.xml: 'NoneType' object has no attribute 'xpath'\n",
      "  7%|▋         | 2686/39034 [00:54<29:54, 20.26it/s] Falling back to HTML parser for /home/XXX/trace-modeling-oss-fuzz-c/trace_test/traces/apache-httpd_own/trace_fuzz_addr_parse_exe_exe_exe/log_2.xml\n",
      "Fatal error processing trace file /home/XXX/trace-modeling-oss-fuzz-c/trace_test/traces/apache-httpd_own/trace_fuzz_addr_parse_exe_exe_exe/log_2.xml: 'NoneType' object has no attribute 'xpath'\n",
      "  7%|▋         | 2688/39034 [00:54<29:56, 20.23it/s]Falling back to HTML parser for /home/XXX/trace-modeling-oss-fuzz-c/trace_test/traces/apache-httpd_own/trace_fuzz_uri_exe_exe_exe/log_2.xml\n",
      "Fatal error processing trace file /home/XXX/trace-modeling-oss-fuzz-c/trace_test/traces/apache-httpd_own/trace_fuzz_uri_exe_exe_exe/log_2.xml: 'NoneType' object has no attribute 'xpath'\n",
      "Falling back to HTML parser for /home/XXX/trace-modeling-oss-fuzz-c/trace_test/traces/apache-httpd_own/trace_fuzz_request_exe_exe/log_2.xml\n",
      "Fatal error processing trace file /home/XXX/trace-modeling-oss-fuzz-c/trace_test/traces/apache-httpd_own/trace_fuzz_request_exe_exe/log_2.xml: 'NoneType' object has no attribute 'xpath'\n",
      "Falling back to HTML parser for /home/XXX/trace-modeling-oss-fuzz-c/trace_test/traces/unit_own/trace_Fuzz_json_exe/log_5.xml\n",
      "Falling back to HTML parser for /home/XXX/trace-modeling-oss-fuzz-c/trace_test/traces/unit_own/trace_Fuzz_json_exe/log_10.xml\n",
      "Falling back to HTML parser for /home/XXX/trace-modeling-oss-fuzz-c/trace_test/traces/unit_own/trace_Fuzz_json_exe/log_6.xml\n",
      "Falling back to HTML parser for /home/XXX/trace-modeling-oss-fuzz-c/trace_test/traces/unit_own/trace_Fuzz_json_exe/log_4.xml\n",
      "Falling back to HTML parser for /home/XXX/trace-modeling-oss-fuzz-c/trace_test/traces/unit_own/trace_Fuzz_json_exe/log_8.xml\n",
      "Falling back to HTML parser for /home/XXX/trace-modeling-oss-fuzz-c/trace_test/traces/unit_own/trace_Fuzz_json_exe/log_7.xml\n",
      "Falling back to HTML parser for /home/XXX/trace-modeling-oss-fuzz-c/trace_test/traces/unit_own/trace_Fuzz_json_exe/log_9.xml\n",
      "Falling back to HTML parser for /home/XXX/trace-modeling-oss-fuzz-c/trace_test/traces/unit_own/trace_Fuzz_http_exe/log_5.xml\n",
      "Falling back to HTML parser for /home/XXX/trace-modeling-oss-fuzz-c/trace_test/traces/unit_own/trace_Fuzz_http_exe/log_3.xml\n",
      "Falling back to HTML parser for /home/XXX/trace-modeling-oss-fuzz-c/trace_test/traces/unit_own/trace_Fuzz_http_exe/log_1.xml\n",
      "Falling back to HTML parser for /home/XXX/trace-modeling-oss-fuzz-c/trace_test/traces/unit_own/trace_Fuzz_http_exe/log_2.xml\n",
      "Falling back to HTML parser for /home/XXX/trace-modeling-oss-fuzz-c/trace_test/traces/unit_own/trace_Fuzz_http_exe/log_6.xml\n",
      "Falling back to HTML parser for /home/XXX/trace-modeling-oss-fuzz-c/trace_test/traces/unit_own/trace_Fuzz_http_exe/log_4.xml\n",
      "  8%|▊         | 2977/39034 [01:02<17:43, 33.89it/s]"
     ]
    },
    {
     "name": "stdout",
     "output_type": "stream",
     "text": [
      "\n",
      "Processed 2720/39034 files\n",
      "Current unique count: 94\n",
      "\n",
      "Processed 2800/39034 files\n",
      "Current unique count: 94\n",
      "\n",
      "Processed 2880/39034 files\n",
      "Current unique count: 94\n",
      "\n",
      "Processed 2960/39034 files\n",
      "Current unique count: 94\n",
      "\n",
      "Processed 3040/39034 files\n",
      "Current unique count: 94\n",
      "\n",
      "Processed 3120/39034 files\n",
      "Current unique count: 94\n"
     ]
    },
    {
     "name": "stderr",
     "output_type": "stream",
     "text": [
      " 10%|▉         | 3721/39034 [01:03<03:25, 171.55it/s]"
     ]
    },
    {
     "name": "stdout",
     "output_type": "stream",
     "text": [
      "\n",
      "Processed 3200/39034 files\n",
      "Current unique count: 94\n",
      "\n",
      "Processed 3280/39034 files\n",
      "Current unique count: 94\n",
      "\n",
      "Processed 3360/39034 files\n",
      "Current unique count: 94\n",
      "\n",
      "Processed 3440/39034 files\n",
      "Current unique count: 94\n",
      "\n",
      "Processed 3520/39034 files\n",
      "Current unique count: 94\n",
      "\n",
      "Processed 3600/39034 files\n",
      "Current unique count: 94\n",
      "\n",
      "Processed 3680/39034 files\n",
      "Current unique count: 94\n"
     ]
    },
    {
     "name": "stderr",
     "output_type": "stream",
     "text": [
      " 12%|█▏        | 4728/39034 [01:03<01:01, 558.03it/s]"
     ]
    },
    {
     "name": "stdout",
     "output_type": "stream",
     "text": [
      "\n",
      "Processed 3760/39034 files\n",
      "Current unique count: 94\n",
      "\n",
      "Processed 3840/39034 files\n",
      "Current unique count: 94\n",
      "\n",
      "Processed 3920/39034 files\n",
      "Current unique count: 94\n",
      "\n",
      "Processed 4000/39034 files\n",
      "Current unique count: 94\n",
      "\n",
      "Processed 4080/39034 files\n",
      "Current unique count: 94\n",
      "\n",
      "Processed 4160/39034 files\n",
      "Current unique count: 94\n",
      "\n",
      "Processed 4240/39034 files\n",
      "Current unique count: 94\n",
      "\n",
      "Processed 4320/39034 files\n",
      "Current unique count: 94\n",
      "\n",
      "Processed 4400/39034 files\n",
      "Current unique count: 94\n",
      "\n",
      "Processed 4480/39034 files\n",
      "Current unique count: 94\n",
      "\n",
      "Processed 4560/39034 files\n",
      "Current unique count: 94\n",
      "\n",
      "Processed 4640/39034 files\n",
      "Current unique count: 94\n",
      "\n",
      "Processed 4720/39034 files\n",
      "Current unique count: 94\n"
     ]
    },
    {
     "name": "stderr",
     "output_type": "stream",
     "text": [
      " 14%|█▍        | 5651/39034 [01:03<00:29, 1114.23it/s]"
     ]
    },
    {
     "name": "stdout",
     "output_type": "stream",
     "text": [
      "\n",
      "Processed 4800/39034 files\n",
      "Current unique count: 94\n",
      "\n",
      "Processed 4880/39034 files\n",
      "Current unique count: 94\n",
      "\n",
      "Processed 4960/39034 files\n",
      "Current unique count: 94\n",
      "\n",
      "Processed 5040/39034 files\n",
      "Current unique count: 94\n",
      "\n",
      "Processed 5120/39034 files\n",
      "Current unique count: 94\n",
      "\n",
      "Processed 5200/39034 files\n",
      "Current unique count: 94\n",
      "\n",
      "Processed 5280/39034 files\n",
      "Current unique count: 94\n",
      "\n",
      "Processed 5360/39034 files\n",
      "Current unique count: 94\n",
      "\n",
      "Processed 5440/39034 files\n",
      "Current unique count: 94\n",
      "\n",
      "Processed 5520/39034 files\n",
      "Current unique count: 94\n",
      "\n",
      "Processed 5600/39034 files\n",
      "Current unique count: 94\n",
      "\n",
      "Processed 5680/39034 files\n",
      "Current unique count: 94\n"
     ]
    },
    {
     "name": "stderr",
     "output_type": "stream",
     "text": [
      "Falling back to HTML parser for /home/XXX/trace-modeling-oss-fuzz-c/trace_test/traces/ntpsec_own/trace_FuzzExtens_exe/log_2461.xml\n",
      "Fatal error processing trace file /home/XXX/trace-modeling-oss-fuzz-c/trace_test/traces/ntpsec_own/trace_FuzzExtens_exe/log_2461.xml: 'NoneType' object has no attribute 'xpath'\n",
      " 16%|█▌        | 6132/39034 [01:03<00:21, 1502.71it/s]Falling back to HTML parser for /home/XXX/trace-modeling-oss-fuzz-c/trace_test/traces/ntpsec_own/trace_FuzzServer_exe/log_411.xml\n",
      "Fatal error processing trace file /home/XXX/trace-modeling-oss-fuzz-c/trace_test/traces/ntpsec_own/trace_FuzzServer_exe/log_411.xml: 'NoneType' object has no attribute 'xpath'\n",
      "Falling back to HTML parser for /home/XXX/trace-modeling-oss-fuzz-c/trace_test/traces/croaring_own/trace_croaring_fuzzer_cc_exe_exe/log_0.xml\n"
     ]
    },
    {
     "name": "stdout",
     "output_type": "stream",
     "text": [
      "\n",
      "Processed 5760/39034 files\n",
      "Current unique count: 94\n",
      "\n",
      "Processed 5840/39034 files\n",
      "Current unique count: 94\n",
      "\n",
      "Processed 5920/39034 files\n",
      "Current unique count: 94\n",
      "\n",
      "Processed 6000/39034 files\n",
      "Current unique count: 94\n",
      "\n",
      "Processed 6080/39034 files\n",
      "Current unique count: 94\n",
      "\n",
      "Processed 6160/39034 files\n",
      "Current unique count: 94\n",
      "\n",
      "Processed 6240/39034 files\n",
      "Current unique count: 94\n",
      "\n",
      "Processed 6320/39034 files\n",
      "Current unique count: 94\n",
      "\n",
      "Processed 6400/39034 files\n",
      "Current unique count: 94\n"
     ]
    },
    {
     "name": "stderr",
     "output_type": "stream",
     "text": [
      "Falling back to HTML parser for /home/XXX/trace-modeling-oss-fuzz-c/trace_test/traces/croaring_own/trace_croaring_fuzzer_exe_exe/log_0.xml\n",
      "Falling back to HTML parser for /home/XXX/trace-modeling-oss-fuzz-c/trace_test/traces/flex_own/trace_fuzz-scanopt_exe_exe/log_0.xml\n",
      "Falling back to HTML parser for /home/XXX/trace-modeling-oss-fuzz-c/trace_test/traces/flex_own/trace_fuzz-scanopt_exe_exe/log_1.xml\n",
      "Fatal error processing trace file /home/XXX/trace-modeling-oss-fuzz-c/trace_test/traces/flex_own/trace_fuzz-scanopt_exe_exe/log_1.xml: 'NoneType' object has no attribute 'xpath'\n",
      "Falling back to HTML parser for /home/XXX/trace-modeling-oss-fuzz-c/trace_test/traces/flex_own/trace_fuzz-main_exe_exe/log_0.xml\n",
      "Falling back to HTML parser for /home/XXX/trace-modeling-oss-fuzz-c/trace_test/traces/flex_own/trace_fuzz-main_exe_exe/log_1.xml\n",
      "Fatal error processing trace file /home/XXX/trace-modeling-oss-fuzz-c/trace_test/traces/flex_own/trace_fuzz-main_exe_exe/log_1.xml: 'NoneType' object has no attribute 'xpath'\n",
      "Falling back to HTML parser for /home/XXX/trace-modeling-oss-fuzz-c/trace_test/traces/tmux_own/trace_input-fuzzer_exe/log_0.xml\n"
     ]
    },
    {
     "name": "stdout",
     "output_type": "stream",
     "text": [
      "\n",
      "Processed 6480/39034 files\n",
      "Current unique count: 101\n"
     ]
    },
    {
     "name": "stderr",
     "output_type": "stream",
     "text": [
      "Falling back to HTML parser for /home/XXX/trace-modeling-oss-fuzz-c/trace_test/traces/coturn_own/trace_FuzzStunClient_exe_exe/log_2.xml\n",
      "Fatal error processing trace file /home/XXX/trace-modeling-oss-fuzz-c/trace_test/traces/coturn_own/trace_FuzzStunClient_exe_exe/log_2.xml: 'NoneType' object has no attribute 'xpath'\n",
      " 17%|█▋        | 6560/39034 [01:07<01:41, 320.72it/s] "
     ]
    },
    {
     "name": "stdout",
     "output_type": "stream",
     "text": [
      "\n",
      "Processed 6560/39034 files\n",
      "Current unique count: 114\n"
     ]
    },
    {
     "name": "stderr",
     "output_type": "stream",
     "text": [
      "Falling back to HTML parser for /home/XXX/trace-modeling-oss-fuzz-c/trace_test/traces/coturn_own/trace_FuzzStunClient_exe/log_113.xml\n",
      "Fatal error processing trace file /home/XXX/trace-modeling-oss-fuzz-c/trace_test/traces/coturn_own/trace_FuzzStunClient_exe/log_113.xml: 'NoneType' object has no attribute 'xpath'\n"
     ]
    },
    {
     "name": "stdout",
     "output_type": "stream",
     "text": [
      "\n",
      "Processed 6640/39034 files\n",
      "Current unique count: 114\n"
     ]
    },
    {
     "name": "stderr",
     "output_type": "stream",
     "text": [
      " 17%|█▋        | 6671/39034 [01:18<07:06, 75.92it/s] "
     ]
    },
    {
     "name": "stdout",
     "output_type": "stream",
     "text": [
      "\n",
      "Processed 6720/39034 files\n",
      "Current unique count: 114\n"
     ]
    },
    {
     "name": "stderr",
     "output_type": "stream",
     "text": [
      " 17%|█▋        | 6794/39034 [01:38<21:59, 24.44it/s]"
     ]
    },
    {
     "name": "stdout",
     "output_type": "stream",
     "text": [
      "\n",
      "Processed 6800/39034 files\n",
      "Current unique count: 114\n"
     ]
    },
    {
     "name": "stderr",
     "output_type": "stream",
     "text": [
      "Falling back to HTML parser for /home/XXX/trace-modeling-oss-fuzz-c/trace_test/traces/coturn_own/trace_FuzzStun_exe/log_468.xml\n",
      "Fatal error processing trace file /home/XXX/trace-modeling-oss-fuzz-c/trace_test/traces/coturn_own/trace_FuzzStun_exe/log_468.xml: 'NoneType' object has no attribute 'xpath'\n"
     ]
    },
    {
     "name": "stdout",
     "output_type": "stream",
     "text": [
      "\n",
      "Processed 6880/39034 files\n",
      "Current unique count: 114\n"
     ]
    },
    {
     "name": "stderr",
     "output_type": "stream",
     "text": [
      " 18%|█▊        | 6907/39034 [01:59<40:45, 13.14it/s]"
     ]
    },
    {
     "name": "stdout",
     "output_type": "stream",
     "text": [
      "\n",
      "Processed 6960/39034 files\n",
      "Current unique count: 114\n"
     ]
    },
    {
     "name": "stderr",
     "output_type": "stream",
     "text": [
      " 18%|█▊        | 7014/39034 [02:12<49:41, 10.74it/s]"
     ]
    },
    {
     "name": "stdout",
     "output_type": "stream",
     "text": [
      "\n",
      "Processed 7040/39034 files\n",
      "Current unique count: 114\n"
     ]
    },
    {
     "name": "stderr",
     "output_type": "stream",
     "text": [
      "Falling back to HTML parser for /home/XXX/trace-modeling-oss-fuzz-c/trace_test/traces/coturn_own/trace_FuzzStun_exe_exe/log_2.xml\n",
      "Fatal error processing trace file /home/XXX/trace-modeling-oss-fuzz-c/trace_test/traces/coturn_own/trace_FuzzStun_exe_exe/log_2.xml: 'NoneType' object has no attribute 'xpath'\n",
      "Falling back to HTML parser for /home/XXX/trace-modeling-oss-fuzz-c/trace_test/traces/libcacard_own/trace_fuzz_simpletlv_exe/log_0.xml\n",
      "Falling back to HTML parser for /home/XXX/trace-modeling-oss-fuzz-c/trace_test/traces/libcacard_own/trace_fuzz_simpletlv_exe/log_1.xml\n",
      "Fatal error processing trace file /home/XXX/trace-modeling-oss-fuzz-c/trace_test/traces/libcacard_own/trace_fuzz_simpletlv_exe/log_1.xml: 'NoneType' object has no attribute 'xpath'\n",
      "Falling back to HTML parser for /home/XXX/trace-modeling-oss-fuzz-c/trace_test/traces/libcacard_own/trace_fuzz_options_exe/log_0.xml\n",
      "Falling back to HTML parser for /home/XXX/trace-modeling-oss-fuzz-c/trace_test/traces/libcacard_own/trace_fuzz_options_exe/log_1.xml\n",
      "Fatal error processing trace file /home/XXX/trace-modeling-oss-fuzz-c/trace_test/traces/libcacard_own/trace_fuzz_options_exe/log_1.xml: 'NoneType' object has no attribute 'xpath'\n",
      "Falling back to HTML parser for /home/XXX/trace-modeling-oss-fuzz-c/trace_test/traces/libcacard_own/trace_fuzz_xfer_exe/log_0.xml\n",
      "Falling back to HTML parser for /home/XXX/trace-modeling-oss-fuzz-c/trace_test/traces/libcacard_own/trace_fuzz_xfer_exe/log_1.xml\n",
      "Fatal error processing trace file /home/XXX/trace-modeling-oss-fuzz-c/trace_test/traces/libcacard_own/trace_fuzz_xfer_exe/log_1.xml: 'NoneType' object has no attribute 'xpath'\n",
      " 18%|█▊        | 7088/39034 [02:21<53:12, 10.01it/s]Falling back to HTML parser for /home/XXX/trace-modeling-oss-fuzz-c/trace_test/traces/clib_own/trace_fuzz_manifest_exe_exe/log_2.xml\n",
      "Fatal error processing trace file /home/XXX/trace-modeling-oss-fuzz-c/trace_test/traces/clib_own/trace_fuzz_manifest_exe_exe/log_2.xml: 'NoneType' object has no attribute 'xpath'\n"
     ]
    },
    {
     "name": "stdout",
     "output_type": "stream",
     "text": [
      "Error generating signature: [Errno 2] No such file or directory: '/home/XXX/trace-modeling-oss-fuzz-c/trace_test/traces/oniguruma_own/trace_fuzzer_exe/src_4.xml'\n"
     ]
    },
    {
     "name": "stderr",
     "output_type": "stream",
     "text": [
      "Error processing source file: Source file not found: /home/XXX/trace-modeling-oss-fuzz-c/trace_test/traces/oniguruma_own/trace_fuzzer_exe/src_4.xml\n",
      "Falling back to HTML parser for /home/XXX/trace-modeling-oss-fuzz-c/trace_test/traces/nokogiri_own/trace_parse_fuzzer_exe/log_0.xml\n",
      "Falling back to HTML parser for /home/XXX/trace-modeling-oss-fuzz-c/trace_test/traces/nokogiri_own/trace_parse_fuzzer_exe/log_1.xml\n",
      "Fatal error processing trace file /home/XXX/trace-modeling-oss-fuzz-c/trace_test/traces/nokogiri_own/trace_parse_fuzzer_exe/log_1.xml: 'NoneType' object has no attribute 'xpath'\n",
      "Falling back to HTML parser for /home/XXX/trace-modeling-oss-fuzz-c/trace_test/traces/numactl_own/trace_fuzz_parse_str_exe/log_0.xml\n",
      "Falling back to HTML parser for /home/XXX/trace-modeling-oss-fuzz-c/trace_test/traces/numactl_own/trace_fuzz_parse_str_exe/log_1.xml\n",
      "Fatal error processing trace file /home/XXX/trace-modeling-oss-fuzz-c/trace_test/traces/numactl_own/trace_fuzz_parse_str_exe/log_1.xml: 'NoneType' object has no attribute 'xpath'\n",
      "Falling back to HTML parser for /home/XXX/trace-modeling-oss-fuzz-c/trace_test/traces/cyclonedds_own/trace_fuzz_type_object_exe/log_0.xml\n",
      "Falling back to HTML parser for /home/XXX/trace-modeling-oss-fuzz-c/trace_test/traces/cyclonedds_own/trace_fuzz_type_object_exe_exe/log_0.xml\n",
      "Falling back to HTML parser for /home/XXX/trace-modeling-oss-fuzz-c/trace_test/traces/cyclonedds_own/trace_fuzz_handle_rtps_message_exe/log_0.xml\n",
      "Falling back to HTML parser for /home/XXX/trace-modeling-oss-fuzz-c/trace_test/traces/cyclonedds_own/trace_fuzz_sample_deser_exe/log_0.xml\n",
      "Falling back to HTML parser for /home/XXX/trace-modeling-oss-fuzz-c/trace_test/traces/cyclonedds_own/trace_fuzz_handle_rtps_message_exe_exe/log_0.xml\n",
      "Falling back to HTML parser for /home/XXX/trace-modeling-oss-fuzz-c/trace_test/traces/cyclonedds_own/trace_fuzz_config_init_exe_exe/log_1.xml\n",
      "Falling back to HTML parser for /home/XXX/trace-modeling-oss-fuzz-c/trace_test/traces/cyclonedds_own/trace_fuzz_config_init_exe/log_1.xml\n",
      "Falling back to HTML parser for /home/XXX/trace-modeling-oss-fuzz-c/trace_test/traces/cgif_own/trace_cgif_fuzzer_exe_exe/log_0.xml\n",
      "Falling back to HTML parser for /home/XXX/trace-modeling-oss-fuzz-c/trace_test/traces/cgif_own/trace_cgif_fuzzer_exe_exe/log_1.xml\n",
      "Fatal error processing trace file /home/XXX/trace-modeling-oss-fuzz-c/trace_test/traces/cgif_own/trace_cgif_fuzzer_exe_exe/log_1.xml: 'NoneType' object has no attribute 'xpath'\n"
     ]
    },
    {
     "name": "stdout",
     "output_type": "stream",
     "text": [
      "\n",
      "Processed 7120/39034 files\n",
      "Current unique count: 132\n"
     ]
    },
    {
     "name": "stderr",
     "output_type": "stream",
     "text": [
      " 18%|█▊        | 7141/39034 [02:34<1:13:25,  7.24it/s]Falling back to HTML parser for /home/XXX/trace-modeling-oss-fuzz-c/trace_test/traces/libucl_own/trace_ucl_add_string_fuzzer_exe_exe/log_2.xml\n",
      "Fatal error processing trace file /home/XXX/trace-modeling-oss-fuzz-c/trace_test/traces/libucl_own/trace_ucl_add_string_fuzzer_exe_exe/log_2.xml: 'NoneType' object has no attribute 'xpath'\n",
      "Falling back to HTML parser for /home/XXX/trace-modeling-oss-fuzz-c/trace_test/traces/utf8proc_own/trace_utf8proc_fuzzer_exe/log_2.xml\n",
      "Fatal error processing trace file /home/XXX/trace-modeling-oss-fuzz-c/trace_test/traces/utf8proc_own/trace_utf8proc_fuzzer_exe/log_2.xml: 'NoneType' object has no attribute 'xpath'\n",
      "Falling back to HTML parser for /home/XXX/trace-modeling-oss-fuzz-c/trace_test/traces/msquic_own/trace_spinquic_exe/log_1.xml\n"
     ]
    },
    {
     "name": "stdout",
     "output_type": "stream",
     "text": [
      "Error generating signature: [Errno 2] No such file or directory: '/home/XXX/trace-modeling-oss-fuzz-c/trace_test/traces/msquic_own/trace_fuzz_exe/src_0.xml'\n"
     ]
    },
    {
     "name": "stderr",
     "output_type": "stream",
     "text": [
      "Error processing source file: Source file not found: /home/XXX/trace-modeling-oss-fuzz-c/trace_test/traces/msquic_own/trace_fuzz_exe/src_0.xml\n",
      "Falling back to HTML parser for /home/XXX/trace-modeling-oss-fuzz-c/trace_test/traces/cmake_own/trace_xml_parser_fuzzer_exe_exe/log_0.xml\n",
      "Falling back to HTML parser for /home/XXX/trace-modeling-oss-fuzz-c/trace_test/traces/md4c_own/trace_fuzz-mdhtml_exe_exe/log_2.xml\n",
      "Fatal error processing trace file /home/XXX/trace-modeling-oss-fuzz-c/trace_test/traces/md4c_own/trace_fuzz-mdhtml_exe_exe/log_2.xml: 'NoneType' object has no attribute 'xpath'\n",
      "Falling back to HTML parser for /home/XXX/trace-modeling-oss-fuzz-c/trace_test/traces/md4c_own/trace_fuzz-mdhtml_exe/log_1.xml\n",
      "Error processing call: string indices must be integers\n",
      "Error processing call: 'str' object has no attribute 'keys'\n",
      "Error processing call: string indices must be integers\n",
      "Error processing call: 'str' object has no attribute 'keys'\n",
      " 18%|█▊        | 7204/39034 [02:39<57:48,  9.18it/s]  "
     ]
    },
    {
     "name": "stdout",
     "output_type": "stream",
     "text": [
      "\n",
      "Processed 7200/39034 files\n",
      "Current unique count: 158\n"
     ]
    },
    {
     "name": "stderr",
     "output_type": "stream",
     "text": [
      " 19%|█▊        | 7297/39034 [02:41<19:08, 27.63it/s]"
     ]
    },
    {
     "name": "stdout",
     "output_type": "stream",
     "text": [
      "\n",
      "Processed 7280/39034 files\n",
      "Current unique count: 159\n"
     ]
    },
    {
     "name": "stderr",
     "output_type": "stream",
     "text": [
      " 19%|█▉        | 7378/39034 [02:42<10:16, 51.36it/s]"
     ]
    },
    {
     "name": "stdout",
     "output_type": "stream",
     "text": [
      "\n",
      "Processed 7360/39034 files\n",
      "Current unique count: 159\n"
     ]
    },
    {
     "name": "stderr",
     "output_type": "stream",
     "text": [
      " 19%|█▉        | 7454/39034 [02:44<10:18, 51.04it/s]"
     ]
    },
    {
     "name": "stdout",
     "output_type": "stream",
     "text": [
      "\n",
      "Processed 7440/39034 files\n",
      "Current unique count: 159\n"
     ]
    },
    {
     "name": "stderr",
     "output_type": "stream",
     "text": [
      " 19%|█▉        | 7541/39034 [02:46<09:22, 55.96it/s]"
     ]
    },
    {
     "name": "stdout",
     "output_type": "stream",
     "text": [
      "\n",
      "Processed 7520/39034 files\n",
      "Current unique count: 161\n"
     ]
    },
    {
     "name": "stderr",
     "output_type": "stream",
     "text": [
      " 20%|█▉        | 7626/39034 [02:47<07:10, 72.88it/s]"
     ]
    },
    {
     "name": "stdout",
     "output_type": "stream",
     "text": [
      "\n",
      "Processed 7600/39034 files\n",
      "Current unique count: 161\n"
     ]
    },
    {
     "name": "stderr",
     "output_type": "stream",
     "text": [
      " 20%|█▉        | 7694/39034 [02:48<07:21, 71.05it/s]"
     ]
    },
    {
     "name": "stdout",
     "output_type": "stream",
     "text": [
      "\n",
      "Processed 7680/39034 files\n",
      "Current unique count: 161\n"
     ]
    },
    {
     "name": "stderr",
     "output_type": "stream",
     "text": [
      " 20%|█▉        | 7776/39034 [02:50<07:27, 69.90it/s]"
     ]
    },
    {
     "name": "stdout",
     "output_type": "stream",
     "text": [
      "\n",
      "Processed 7760/39034 files\n",
      "Current unique count: 161\n"
     ]
    },
    {
     "name": "stderr",
     "output_type": "stream",
     "text": [
      " 20%|██        | 7856/39034 [02:51<08:37, 60.25it/s]"
     ]
    },
    {
     "name": "stdout",
     "output_type": "stream",
     "text": [
      "\n",
      "Processed 7840/39034 files\n",
      "Current unique count: 161\n"
     ]
    },
    {
     "name": "stderr",
     "output_type": "stream",
     "text": [
      " 20%|██        | 7933/39034 [02:52<08:06, 63.91it/s]"
     ]
    },
    {
     "name": "stdout",
     "output_type": "stream",
     "text": [
      "\n",
      "Processed 7920/39034 files\n",
      "Current unique count: 161\n"
     ]
    },
    {
     "name": "stderr",
     "output_type": "stream",
     "text": [
      " 21%|██        | 8015/39034 [02:54<09:22, 55.16it/s]"
     ]
    },
    {
     "name": "stdout",
     "output_type": "stream",
     "text": [
      "\n",
      "Processed 8000/39034 files\n",
      "Current unique count: 161\n"
     ]
    },
    {
     "name": "stderr",
     "output_type": "stream",
     "text": [
      " 21%|██        | 8095/39034 [02:55<07:46, 66.38it/s]"
     ]
    },
    {
     "name": "stdout",
     "output_type": "stream",
     "text": [
      "\n",
      "Processed 8080/39034 files\n",
      "Current unique count: 161\n"
     ]
    },
    {
     "name": "stderr",
     "output_type": "stream",
     "text": [
      " 21%|██        | 8179/39034 [02:56<07:34, 67.85it/s]"
     ]
    },
    {
     "name": "stdout",
     "output_type": "stream",
     "text": [
      "\n",
      "Processed 8160/39034 files\n",
      "Current unique count: 161\n"
     ]
    },
    {
     "name": "stderr",
     "output_type": "stream",
     "text": [
      " 21%|██        | 8254/39034 [02:57<07:56, 64.53it/s]"
     ]
    },
    {
     "name": "stdout",
     "output_type": "stream",
     "text": [
      "\n",
      "Processed 8240/39034 files\n",
      "Current unique count: 161\n"
     ]
    },
    {
     "name": "stderr",
     "output_type": "stream",
     "text": [
      " 21%|██▏       | 8333/39034 [02:59<07:37, 67.17it/s]"
     ]
    },
    {
     "name": "stdout",
     "output_type": "stream",
     "text": [
      "\n",
      "Processed 8320/39034 files\n",
      "Current unique count: 161\n"
     ]
    },
    {
     "name": "stderr",
     "output_type": "stream",
     "text": [
      " 21%|██▏       | 8367/39034 [02:59<07:53, 64.75it/s]Error processing call: 'str' object has no attribute 'keys'\n",
      " 22%|██▏       | 8422/39034 [03:00<06:14, 81.78it/s]"
     ]
    },
    {
     "name": "stdout",
     "output_type": "stream",
     "text": [
      "\n",
      "Processed 8400/39034 files\n",
      "Current unique count: 162\n"
     ]
    },
    {
     "name": "stderr",
     "output_type": "stream",
     "text": [
      " 22%|██▏       | 8498/39034 [03:01<05:38, 90.26it/s]"
     ]
    },
    {
     "name": "stdout",
     "output_type": "stream",
     "text": [
      "\n",
      "Processed 8480/39034 files\n",
      "Current unique count: 162\n"
     ]
    },
    {
     "name": "stderr",
     "output_type": "stream",
     "text": [
      " 22%|██▏       | 8583/39034 [03:02<05:48, 87.33it/s]"
     ]
    },
    {
     "name": "stdout",
     "output_type": "stream",
     "text": [
      "\n",
      "Processed 8560/39034 files\n",
      "Current unique count: 162\n"
     ]
    },
    {
     "name": "stderr",
     "output_type": "stream",
     "text": [
      " 22%|██▏       | 8662/39034 [03:03<05:27, 92.61it/s]"
     ]
    },
    {
     "name": "stdout",
     "output_type": "stream",
     "text": [
      "\n",
      "Processed 8640/39034 files\n",
      "Current unique count: 162\n"
     ]
    },
    {
     "name": "stderr",
     "output_type": "stream",
     "text": [
      " 22%|██▏       | 8745/39034 [03:03<05:49, 86.57it/s]"
     ]
    },
    {
     "name": "stdout",
     "output_type": "stream",
     "text": [
      "\n",
      "Processed 8720/39034 files\n",
      "Current unique count: 162\n"
     ]
    },
    {
     "name": "stderr",
     "output_type": "stream",
     "text": [
      " 23%|██▎       | 8820/39034 [03:04<05:40, 88.73it/s]"
     ]
    },
    {
     "name": "stdout",
     "output_type": "stream",
     "text": [
      "\n",
      "Processed 8800/39034 files\n",
      "Current unique count: 162\n"
     ]
    },
    {
     "name": "stderr",
     "output_type": "stream",
     "text": [
      " 23%|██▎       | 8897/39034 [03:05<05:33, 90.29it/s]"
     ]
    },
    {
     "name": "stdout",
     "output_type": "stream",
     "text": [
      "\n",
      "Processed 8880/39034 files\n",
      "Current unique count: 162\n"
     ]
    },
    {
     "name": "stderr",
     "output_type": "stream",
     "text": [
      " 23%|██▎       | 8984/39034 [03:06<05:35, 89.50it/s]"
     ]
    },
    {
     "name": "stdout",
     "output_type": "stream",
     "text": [
      "\n",
      "Processed 8960/39034 files\n",
      "Current unique count: 162\n"
     ]
    },
    {
     "name": "stderr",
     "output_type": "stream",
     "text": [
      " 23%|██▎       | 9062/39034 [03:07<05:34, 89.62it/s]"
     ]
    },
    {
     "name": "stdout",
     "output_type": "stream",
     "text": [
      "\n",
      "Processed 9040/39034 files\n",
      "Current unique count: 162\n"
     ]
    },
    {
     "name": "stderr",
     "output_type": "stream",
     "text": [
      " 23%|██▎       | 9141/39034 [03:08<05:34, 89.49it/s]"
     ]
    },
    {
     "name": "stdout",
     "output_type": "stream",
     "text": [
      "\n",
      "Processed 9120/39034 files\n",
      "Current unique count: 162\n"
     ]
    },
    {
     "name": "stderr",
     "output_type": "stream",
     "text": [
      " 24%|██▎       | 9222/39034 [03:09<06:14, 79.62it/s]"
     ]
    },
    {
     "name": "stdout",
     "output_type": "stream",
     "text": [
      "\n",
      "Processed 9200/39034 files\n",
      "Current unique count: 162\n"
     ]
    },
    {
     "name": "stderr",
     "output_type": "stream",
     "text": [
      " 24%|██▍       | 9297/39034 [03:10<05:29, 90.15it/s]"
     ]
    },
    {
     "name": "stdout",
     "output_type": "stream",
     "text": [
      "\n",
      "Processed 9280/39034 files\n",
      "Current unique count: 162\n"
     ]
    },
    {
     "name": "stderr",
     "output_type": "stream",
     "text": [
      " 24%|██▍       | 9384/39034 [03:11<05:20, 92.62it/s]"
     ]
    },
    {
     "name": "stdout",
     "output_type": "stream",
     "text": [
      "\n",
      "Processed 9360/39034 files\n",
      "Current unique count: 162\n"
     ]
    },
    {
     "name": "stderr",
     "output_type": "stream",
     "text": [
      " 24%|██▍       | 9462/39034 [03:12<05:32, 88.91it/s]"
     ]
    },
    {
     "name": "stdout",
     "output_type": "stream",
     "text": [
      "\n",
      "Processed 9440/39034 files\n",
      "Current unique count: 162\n"
     ]
    },
    {
     "name": "stderr",
     "output_type": "stream",
     "text": [
      " 24%|██▍       | 9538/39034 [03:13<06:03, 81.11it/s]"
     ]
    },
    {
     "name": "stdout",
     "output_type": "stream",
     "text": [
      "\n",
      "Processed 9520/39034 files\n",
      "Current unique count: 162\n"
     ]
    },
    {
     "name": "stderr",
     "output_type": "stream",
     "text": [
      " 25%|██▍       | 9616/39034 [03:14<05:25, 90.36it/s]"
     ]
    },
    {
     "name": "stdout",
     "output_type": "stream",
     "text": [
      "\n",
      "Processed 9600/39034 files\n",
      "Current unique count: 162\n"
     ]
    },
    {
     "name": "stderr",
     "output_type": "stream",
     "text": [
      " 25%|██▍       | 9696/39034 [03:14<06:11, 78.98it/s]"
     ]
    },
    {
     "name": "stdout",
     "output_type": "stream",
     "text": [
      "\n",
      "Processed 9680/39034 files\n",
      "Current unique count: 162\n"
     ]
    },
    {
     "name": "stderr",
     "output_type": "stream",
     "text": [
      " 25%|██▌       | 9774/39034 [03:16<11:22, 42.84it/s]"
     ]
    },
    {
     "name": "stdout",
     "output_type": "stream",
     "text": [
      "\n",
      "Processed 9760/39034 files\n",
      "Current unique count: 163\n"
     ]
    },
    {
     "name": "stderr",
     "output_type": "stream",
     "text": [
      " 25%|██▌       | 9856/39034 [03:18<09:39, 50.33it/s]"
     ]
    },
    {
     "name": "stdout",
     "output_type": "stream",
     "text": [
      "\n",
      "Processed 9840/39034 files\n",
      "Current unique count: 163\n"
     ]
    },
    {
     "name": "stderr",
     "output_type": "stream",
     "text": [
      " 25%|██▌       | 9938/39034 [03:19<08:52, 54.69it/s]"
     ]
    },
    {
     "name": "stdout",
     "output_type": "stream",
     "text": [
      "\n",
      "Processed 9920/39034 files\n",
      "Current unique count: 163\n"
     ]
    },
    {
     "name": "stderr",
     "output_type": "stream",
     "text": [
      " 26%|██▌       | 10014/39034 [03:20<09:28, 51.08it/s]"
     ]
    },
    {
     "name": "stdout",
     "output_type": "stream",
     "text": [
      "\n",
      "Processed 10000/39034 files\n",
      "Current unique count: 163\n"
     ]
    },
    {
     "name": "stderr",
     "output_type": "stream",
     "text": [
      " 26%|██▌       | 10100/39034 [03:22<07:52, 61.24it/s]"
     ]
    },
    {
     "name": "stdout",
     "output_type": "stream",
     "text": [
      "\n",
      "Processed 10080/39034 files\n",
      "Current unique count: 163\n"
     ]
    },
    {
     "name": "stderr",
     "output_type": "stream",
     "text": [
      " 26%|██▌       | 10176/39034 [03:23<08:25, 57.09it/s]"
     ]
    },
    {
     "name": "stdout",
     "output_type": "stream",
     "text": [
      "\n",
      "Processed 10160/39034 files\n",
      "Current unique count: 163\n"
     ]
    },
    {
     "name": "stderr",
     "output_type": "stream",
     "text": [
      " 26%|██▋       | 10263/39034 [03:25<06:53, 69.63it/s]"
     ]
    },
    {
     "name": "stdout",
     "output_type": "stream",
     "text": [
      "\n",
      "Processed 10240/39034 files\n",
      "Current unique count: 170\n"
     ]
    },
    {
     "name": "stderr",
     "output_type": "stream",
     "text": [
      " 26%|██▋       | 10341/39034 [03:26<06:27, 74.01it/s]"
     ]
    },
    {
     "name": "stdout",
     "output_type": "stream",
     "text": [
      "\n",
      "Processed 10320/39034 files\n",
      "Current unique count: 170\n"
     ]
    },
    {
     "name": "stderr",
     "output_type": "stream",
     "text": [
      " 27%|██▋       | 10417/39034 [03:27<06:28, 73.57it/s] "
     ]
    },
    {
     "name": "stdout",
     "output_type": "stream",
     "text": [
      "\n",
      "Processed 10400/39034 files\n",
      "Current unique count: 170\n"
     ]
    },
    {
     "name": "stderr",
     "output_type": "stream",
     "text": [
      " 27%|██▋       | 10503/39034 [03:28<06:08, 77.33it/s]"
     ]
    },
    {
     "name": "stdout",
     "output_type": "stream",
     "text": [
      "\n",
      "Processed 10480/39034 files\n",
      "Current unique count: 170\n"
     ]
    },
    {
     "name": "stderr",
     "output_type": "stream",
     "text": [
      " 27%|██▋       | 10576/39034 [03:29<05:08, 92.26it/s]"
     ]
    },
    {
     "name": "stdout",
     "output_type": "stream",
     "text": [
      "\n",
      "Processed 10560/39034 files\n",
      "Current unique count: 170\n"
     ]
    },
    {
     "name": "stderr",
     "output_type": "stream",
     "text": [
      " 27%|██▋       | 10660/39034 [03:30<06:16, 75.43it/s]"
     ]
    },
    {
     "name": "stdout",
     "output_type": "stream",
     "text": [
      "\n",
      "Processed 10640/39034 files\n",
      "Current unique count: 170\n"
     ]
    },
    {
     "name": "stderr",
     "output_type": "stream",
     "text": [
      " 28%|██▊       | 10742/39034 [03:31<05:06, 92.45it/s]"
     ]
    },
    {
     "name": "stdout",
     "output_type": "stream",
     "text": [
      "\n",
      "Processed 10720/39034 files\n",
      "Current unique count: 170\n"
     ]
    },
    {
     "name": "stderr",
     "output_type": "stream",
     "text": [
      " 28%|██▊       | 10812/39034 [03:32<05:53, 79.81it/s]"
     ]
    },
    {
     "name": "stdout",
     "output_type": "stream",
     "text": [
      "\n",
      "Processed 10800/39034 files\n",
      "Current unique count: 170\n"
     ]
    },
    {
     "name": "stderr",
     "output_type": "stream",
     "text": [
      " 28%|██▊       | 10901/39034 [03:33<05:17, 88.68it/s]"
     ]
    },
    {
     "name": "stdout",
     "output_type": "stream",
     "text": [
      "\n",
      "Processed 10880/39034 files\n",
      "Current unique count: 170\n"
     ]
    },
    {
     "name": "stderr",
     "output_type": "stream",
     "text": [
      " 28%|██▊       | 10982/39034 [03:34<06:03, 77.18it/s]"
     ]
    },
    {
     "name": "stdout",
     "output_type": "stream",
     "text": [
      "\n",
      "Processed 10960/39034 files\n",
      "Current unique count: 170\n"
     ]
    },
    {
     "name": "stderr",
     "output_type": "stream",
     "text": [
      " 28%|██▊       | 11021/39034 [03:34<05:25, 86.17it/s]Falling back to HTML parser for /home/XXX/trace-modeling-oss-fuzz-c/trace_test/traces/opusfile_own/trace_opusfile_fuzzer_exe/log_0.xml\n",
      " 28%|██▊       | 11037/39034 [03:37<33:57, 13.74it/s]"
     ]
    },
    {
     "name": "stdout",
     "output_type": "stream",
     "text": [
      "Error generating signature: [Errno 2] No such file or directory: '/home/XXX/trace-modeling-oss-fuzz-c/trace_test/traces/lldpd_own/trace_fuzz_sonmp_exe/src_30.xml'\n"
     ]
    },
    {
     "name": "stderr",
     "output_type": "stream",
     "text": [
      "Error processing source file: Source file not found: /home/XXX/trace-modeling-oss-fuzz-c/trace_test/traces/lldpd_own/trace_fuzz_sonmp_exe/src_30.xml\n",
      " 28%|██▊       | 11049/39034 [03:40<1:11:40,  6.51it/s]"
     ]
    },
    {
     "name": "stdout",
     "output_type": "stream",
     "text": [
      "\n",
      "Processed 11040/39034 files\n",
      "Current unique count: 175\n"
     ]
    },
    {
     "name": "stderr",
     "output_type": "stream",
     "text": [
      " 28%|██▊       | 11059/39034 [03:41<1:09:17,  6.73it/s]Falling back to HTML parser for /home/XXX/trace-modeling-oss-fuzz-c/trace_test/traces/lldpd_own/trace_fuzz_cdp_exe_exe/log_2.xml\n",
      "Fatal error processing trace file /home/XXX/trace-modeling-oss-fuzz-c/trace_test/traces/lldpd_own/trace_fuzz_cdp_exe_exe/log_2.xml: 'NoneType' object has no attribute 'xpath'\n",
      " 29%|██▊       | 11130/39034 [03:47<40:50, 11.39it/s]  "
     ]
    },
    {
     "name": "stdout",
     "output_type": "stream",
     "text": [
      "\n",
      "Processed 11120/39034 files\n",
      "Current unique count: 179\n"
     ]
    },
    {
     "name": "stderr",
     "output_type": "stream",
     "text": [
      " 29%|██▊       | 11208/39034 [03:52<23:25, 19.79it/s]Falling back to HTML parser for /home/XXX/trace-modeling-oss-fuzz-c/trace_test/traces/lldpd_own/trace_fuzz_edp_exe_exe/log_2.xml\n",
      "Fatal error processing trace file /home/XXX/trace-modeling-oss-fuzz-c/trace_test/traces/lldpd_own/trace_fuzz_edp_exe_exe/log_2.xml: 'NoneType' object has no attribute 'xpath'\n"
     ]
    },
    {
     "name": "stdout",
     "output_type": "stream",
     "text": [
      "\n",
      "Processed 11200/39034 files\n",
      "Current unique count: 179\n"
     ]
    },
    {
     "name": "stderr",
     "output_type": "stream",
     "text": [
      " 29%|██▉       | 11257/39034 [03:57<46:30,  9.95it/s]Falling back to HTML parser for /home/XXX/trace-modeling-oss-fuzz-c/trace_test/traces/lldpd_own/trace_fuzz_sonmp_exe_exe/log_2.xml\n",
      "Fatal error processing trace file /home/XXX/trace-modeling-oss-fuzz-c/trace_test/traces/lldpd_own/trace_fuzz_sonmp_exe_exe/log_2.xml: 'NoneType' object has no attribute 'xpath'\n",
      "Falling back to HTML parser for /home/XXX/trace-modeling-oss-fuzz-c/trace_test/traces/lldpd_own/trace_fuzz_lldp_exe_exe/log_2.xml\n",
      "Fatal error processing trace file /home/XXX/trace-modeling-oss-fuzz-c/trace_test/traces/lldpd_own/trace_fuzz_lldp_exe_exe/log_2.xml: 'NoneType' object has no attribute 'xpath'\n",
      "Falling back to HTML parser for /home/XXX/trace-modeling-oss-fuzz-c/trace_test/traces/oss-fuzz-example_own/trace_fuzz_char_lib_exe/log_0.xml\n",
      "Falling back to HTML parser for /home/XXX/trace-modeling-oss-fuzz-c/trace_test/traces/oss-fuzz-example_own/trace_fuzz_char_lib_exe/log_1.xml\n",
      "Fatal error processing trace file /home/XXX/trace-modeling-oss-fuzz-c/trace_test/traces/oss-fuzz-example_own/trace_fuzz_char_lib_exe/log_1.xml: 'NoneType' object has no attribute 'xpath'\n",
      "Falling back to HTML parser for /home/XXX/trace-modeling-oss-fuzz-c/trace_test/traces/oss-fuzz-example_own/trace_fuzz_complex_parser_exe/log_0.xml\n",
      "Falling back to HTML parser for /home/XXX/trace-modeling-oss-fuzz-c/trace_test/traces/oss-fuzz-example_own/trace_fuzz_complex_parser_exe/log_1.xml\n",
      "Fatal error processing trace file /home/XXX/trace-modeling-oss-fuzz-c/trace_test/traces/oss-fuzz-example_own/trace_fuzz_complex_parser_exe/log_1.xml: 'NoneType' object has no attribute 'xpath'\n",
      " 29%|██▉       | 11268/39034 [03:59<53:22,  8.67it/s]Error processing source file: Source file not found: /home/XXX/trace-modeling-oss-fuzz-c/trace_test/traces/selinux_own/trace_secilc-fuzzer_exe/src_1.xml\n",
      " 29%|██▉       | 11269/39034 [03:59<53:14,  8.69it/s]"
     ]
    },
    {
     "name": "stdout",
     "output_type": "stream",
     "text": [
      "Error generating signature: [Errno 2] No such file or directory: '/home/XXX/trace-modeling-oss-fuzz-c/trace_test/traces/selinux_own/trace_secilc-fuzzer_exe/src_1.xml'\n"
     ]
    },
    {
     "name": "stderr",
     "output_type": "stream",
     "text": [
      " 29%|██▉       | 11272/39034 [04:01<2:13:02,  3.48it/s]Error processing source file: Source file not found: /home/XXX/trace-modeling-oss-fuzz-c/trace_test/traces/selinux_own/trace_checkpolicy-fuzzer_exe/src_13.xml\n"
     ]
    },
    {
     "name": "stdout",
     "output_type": "stream",
     "text": [
      "Error generating signature: [Errno 2] No such file or directory: '/home/XXX/trace-modeling-oss-fuzz-c/trace_test/traces/selinux_own/trace_checkpolicy-fuzzer_exe/src_13.xml'\n"
     ]
    },
    {
     "name": "stderr",
     "output_type": "stream",
     "text": [
      " 29%|██▉       | 11285/39034 [04:03<1:32:50,  4.98it/s]Error processing source file: Source file not found: /home/XXX/trace-modeling-oss-fuzz-c/trace_test/traces/selinux_own/trace_binpolicy-fuzzer_exe/src_2.xml\n"
     ]
    },
    {
     "name": "stdout",
     "output_type": "stream",
     "text": [
      "Error generating signature: [Errno 2] No such file or directory: '/home/XXX/trace-modeling-oss-fuzz-c/trace_test/traces/selinux_own/trace_binpolicy-fuzzer_exe/src_2.xml'\n"
     ]
    },
    {
     "name": "stderr",
     "output_type": "stream",
     "text": [
      " 29%|██▉       | 11410/39034 [04:03<05:30, 83.58it/s]  "
     ]
    },
    {
     "name": "stdout",
     "output_type": "stream",
     "text": [
      "\n",
      "Processed 11280/39034 files\n",
      "Current unique count: 204\n",
      "\n",
      "Processed 11360/39034 files\n",
      "Current unique count: 204\n"
     ]
    },
    {
     "name": "stderr",
     "output_type": "stream",
     "text": [
      " 30%|██▉       | 11527/39034 [04:04<02:29, 183.82it/s]"
     ]
    },
    {
     "name": "stdout",
     "output_type": "stream",
     "text": [
      "\n",
      "Processed 11440/39034 files\n",
      "Current unique count: 204\n",
      "\n",
      "Processed 11520/39034 files\n",
      "Current unique count: 204\n"
     ]
    },
    {
     "name": "stderr",
     "output_type": "stream",
     "text": [
      " 30%|██▉       | 11675/39034 [04:04<01:24, 322.06it/s]"
     ]
    },
    {
     "name": "stdout",
     "output_type": "stream",
     "text": [
      "\n",
      "Processed 11600/39034 files\n",
      "Current unique count: 204\n",
      "\n",
      "Processed 11680/39034 files\n",
      "Current unique count: 204\n"
     ]
    },
    {
     "name": "stderr",
     "output_type": "stream",
     "text": [
      " 30%|███       | 11833/39034 [04:04<01:06, 406.41it/s]"
     ]
    },
    {
     "name": "stdout",
     "output_type": "stream",
     "text": [
      "\n",
      "Processed 11760/39034 files\n",
      "Current unique count: 204\n",
      "\n",
      "Processed 11840/39034 files\n",
      "Current unique count: 204\n"
     ]
    },
    {
     "name": "stderr",
     "output_type": "stream",
     "text": [
      " 31%|███       | 11991/39034 [04:04<00:58, 462.59it/s]"
     ]
    },
    {
     "name": "stdout",
     "output_type": "stream",
     "text": [
      "\n",
      "Processed 11920/39034 files\n",
      "Current unique count: 204\n",
      "\n",
      "Processed 12000/39034 files\n",
      "Current unique count: 204\n"
     ]
    },
    {
     "name": "stderr",
     "output_type": "stream",
     "text": [
      " 31%|███       | 12163/39034 [04:05<00:52, 511.92it/s]"
     ]
    },
    {
     "name": "stdout",
     "output_type": "stream",
     "text": [
      "\n",
      "Processed 12080/39034 files\n",
      "Current unique count: 204\n",
      "\n",
      "Processed 12160/39034 files\n",
      "Current unique count: 204\n"
     ]
    },
    {
     "name": "stderr",
     "output_type": "stream",
     "text": [
      " 32%|███▏      | 12340/39034 [04:05<00:50, 526.36it/s]"
     ]
    },
    {
     "name": "stdout",
     "output_type": "stream",
     "text": [
      "\n",
      "Processed 12240/39034 files\n",
      "Current unique count: 204\n",
      "\n",
      "Processed 12320/39034 files\n",
      "Current unique count: 204\n"
     ]
    },
    {
     "name": "stderr",
     "output_type": "stream",
     "text": [
      " 32%|███▏      | 12518/39034 [04:05<00:50, 522.97it/s]"
     ]
    },
    {
     "name": "stdout",
     "output_type": "stream",
     "text": [
      "\n",
      "Processed 12400/39034 files\n",
      "Current unique count: 204\n",
      "\n",
      "Processed 12480/39034 files\n",
      "Current unique count: 204\n"
     ]
    },
    {
     "name": "stderr",
     "output_type": "stream",
     "text": [
      " 32%|███▏      | 12624/39034 [04:06<00:51, 508.29it/s]"
     ]
    },
    {
     "name": "stdout",
     "output_type": "stream",
     "text": [
      "\n",
      "Processed 12560/39034 files\n",
      "Current unique count: 204\n",
      "\n",
      "Processed 12640/39034 files\n",
      "Current unique count: 204\n"
     ]
    },
    {
     "name": "stderr",
     "output_type": "stream",
     "text": [
      " 33%|███▎      | 12784/39034 [04:06<00:51, 514.65it/s]"
     ]
    },
    {
     "name": "stdout",
     "output_type": "stream",
     "text": [
      "\n",
      "Processed 12720/39034 files\n",
      "Current unique count: 204\n",
      "\n",
      "Processed 12800/39034 files\n",
      "Current unique count: 204\n"
     ]
    },
    {
     "name": "stderr",
     "output_type": "stream",
     "text": [
      " 33%|███▎      | 12836/39034 [04:06<00:52, 498.58it/s]Falling back to HTML parser for /home/XXX/trace-modeling-oss-fuzz-c/trace_test/traces/libcue_own/trace_fuzz_exe/log_0.xml\n",
      "Falling back to HTML parser for /home/XXX/trace-modeling-oss-fuzz-c/trace_test/traces/libcue_own/trace_fuzz_exe/log_1.xml\n",
      "Fatal error processing trace file /home/XXX/trace-modeling-oss-fuzz-c/trace_test/traces/libcue_own/trace_fuzz_exe/log_1.xml: 'NoneType' object has no attribute 'xpath'\n",
      "Falling back to HTML parser for /home/XXX/trace-modeling-oss-fuzz-c/trace_test/traces/mdbtools_own/trace_fuzz_mdb_exe/log_2.xml\n",
      "Fatal error processing trace file /home/XXX/trace-modeling-oss-fuzz-c/trace_test/traces/mdbtools_own/trace_fuzz_mdb_exe/log_2.xml: 'NoneType' object has no attribute 'xpath'\n",
      "Falling back to HTML parser for /home/XXX/trace-modeling-oss-fuzz-c/trace_test/traces/mdbtools_own/trace_fuzz_mdb_exe_exe/log_2.xml\n",
      "Fatal error processing trace file /home/XXX/trace-modeling-oss-fuzz-c/trace_test/traces/mdbtools_own/trace_fuzz_mdb_exe_exe/log_2.xml: 'NoneType' object has no attribute 'xpath'\n",
      "Falling back to HTML parser for /home/XXX/trace-modeling-oss-fuzz-c/trace_test/traces/cpuinfo_own/trace_fuzz_cpuinfo_exe_exe/log_0.xml\n",
      "Falling back to HTML parser for /home/XXX/trace-modeling-oss-fuzz-c/trace_test/traces/cpuinfo_own/trace_fuzz_cpuinfo_exe_exe/log_1.xml\n",
      "Fatal error processing trace file /home/XXX/trace-modeling-oss-fuzz-c/trace_test/traces/cpuinfo_own/trace_fuzz_cpuinfo_exe_exe/log_1.xml: 'NoneType' object has no attribute 'xpath'\n",
      "Error processing source file: Source file not found: /home/XXX/trace-modeling-oss-fuzz-c/trace_test/traces/quickjs_own/trace_fuzz_eval_exe/src_0.xml\n",
      "Error processing source file: Source file not found: /home/XXX/trace-modeling-oss-fuzz-c/trace_test/traces/quickjs_own/trace_fuzz_compile_exe/src_0.xml\n",
      "Error processing source file: Source file not found: /home/XXX/trace-modeling-oss-fuzz-c/trace_test/traces/quickjs_own/trace_fuzz_regexp_exe/src_0.xml\n"
     ]
    },
    {
     "name": "stdout",
     "output_type": "stream",
     "text": [
      "Error generating signature: [Errno 2] No such file or directory: '/home/XXX/trace-modeling-oss-fuzz-c/trace_test/traces/quickjs_own/trace_fuzz_eval_exe/src_0.xml'\n",
      "Error generating signature: [Errno 2] No such file or directory: '/home/XXX/trace-modeling-oss-fuzz-c/trace_test/traces/quickjs_own/trace_fuzz_compile_exe/src_0.xml'\n",
      "Error generating signature: [Errno 2] No such file or directory: '/home/XXX/trace-modeling-oss-fuzz-c/trace_test/traces/quickjs_own/trace_fuzz_regexp_exe/src_0.xml'\n"
     ]
    },
    {
     "name": "stderr",
     "output_type": "stream",
     "text": [
      " 33%|███▎      | 12887/39034 [04:11<12:39, 34.43it/s] "
     ]
    },
    {
     "name": "stdout",
     "output_type": "stream",
     "text": [
      "\n",
      "Processed 12880/39034 files\n",
      "Current unique count: 217\n"
     ]
    },
    {
     "name": "stderr",
     "output_type": "stream",
     "text": [
      " 33%|███▎      | 12949/39034 [04:14<14:57, 29.07it/s]Error processing source file: Source file not found: /home/XXX/trace-modeling-oss-fuzz-c/trace_test/traces/libyal_own/trace_libfwnt_lzxpress_fuzzer_exe/src_184.xml\n"
     ]
    },
    {
     "name": "stdout",
     "output_type": "stream",
     "text": [
      "Error generating signature: [Errno 2] No such file or directory: '/home/XXX/trace-modeling-oss-fuzz-c/trace_test/traces/libyal_own/trace_libfwnt_lzxpress_fuzzer_exe/src_184.xml'\n"
     ]
    },
    {
     "name": "stderr",
     "output_type": "stream",
     "text": [
      " 33%|███▎      | 12968/39034 [04:15<16:54, 25.70it/s]"
     ]
    },
    {
     "name": "stdout",
     "output_type": "stream",
     "text": [
      "\n",
      "Processed 12960/39034 files\n",
      "Current unique count: 217\n"
     ]
    },
    {
     "name": "stderr",
     "output_type": "stream",
     "text": [
      " 33%|███▎      | 13050/39034 [04:18<14:24, 30.06it/s]"
     ]
    },
    {
     "name": "stdout",
     "output_type": "stream",
     "text": [
      "\n",
      "Processed 13040/39034 files\n",
      "Current unique count: 217\n"
     ]
    },
    {
     "name": "stderr",
     "output_type": "stream",
     "text": [
      " 34%|███▎      | 13129/39034 [04:26<44:13,  9.76it/s]"
     ]
    },
    {
     "name": "stdout",
     "output_type": "stream",
     "text": [
      "\n",
      "Processed 13120/39034 files\n",
      "Current unique count: 226\n"
     ]
    },
    {
     "name": "stderr",
     "output_type": "stream",
     "text": [
      " 34%|███▍      | 13210/39034 [04:43<3:12:49,  2.23it/s]"
     ]
    },
    {
     "name": "stdout",
     "output_type": "stream",
     "text": [
      "\n",
      "Processed 13200/39034 files\n",
      "Current unique count: 228\n"
     ]
    },
    {
     "name": "stderr",
     "output_type": "stream",
     "text": [
      " 34%|███▍      | 13289/39034 [04:53<28:11, 15.22it/s]  "
     ]
    },
    {
     "name": "stdout",
     "output_type": "stream",
     "text": [
      "\n",
      "Processed 13280/39034 files\n",
      "Current unique count: 228\n"
     ]
    },
    {
     "name": "stderr",
     "output_type": "stream",
     "text": [
      " 34%|███▍      | 13368/39034 [05:24<2:20:08,  3.05it/s]"
     ]
    },
    {
     "name": "stdout",
     "output_type": "stream",
     "text": [
      "\n",
      "Processed 13360/39034 files\n",
      "Current unique count: 228\n"
     ]
    },
    {
     "name": "stderr",
     "output_type": "stream",
     "text": [
      " 34%|███▍      | 13448/39034 [05:35<1:43:52,  4.11it/s]"
     ]
    },
    {
     "name": "stdout",
     "output_type": "stream",
     "text": [
      "\n",
      "Processed 13440/39034 files\n",
      "Current unique count: 230\n"
     ]
    },
    {
     "name": "stderr",
     "output_type": "stream",
     "text": [
      " 34%|███▍      | 13454/39034 [05:37<1:57:53,  3.62it/s]Falling back to HTML parser for /home/XXX/trace-modeling-oss-fuzz-c/trace_test/traces/libyal_own/trace_libfcrypto_crypt_serpent_cbc_fuzzer_exe/log_101.xml\n",
      "Fatal error processing trace file /home/XXX/trace-modeling-oss-fuzz-c/trace_test/traces/libyal_own/trace_libfcrypto_crypt_serpent_cbc_fuzzer_exe/log_101.xml: 'NoneType' object has no attribute 'xpath'\n",
      " 35%|███▍      | 13528/39034 [05:58<2:09:11,  3.29it/s]"
     ]
    },
    {
     "name": "stdout",
     "output_type": "stream",
     "text": [
      "\n",
      "Processed 13520/39034 files\n",
      "Current unique count: 230\n"
     ]
    },
    {
     "name": "stderr",
     "output_type": "stream",
     "text": [
      " 35%|███▍      | 13609/39034 [06:06<49:09,  8.62it/s]  "
     ]
    },
    {
     "name": "stdout",
     "output_type": "stream",
     "text": [
      "\n",
      "Processed 13600/39034 files\n",
      "Current unique count: 237\n"
     ]
    },
    {
     "name": "stderr",
     "output_type": "stream",
     "text": [
      " 35%|███▌      | 13690/39034 [06:15<46:37,  9.06it/s]"
     ]
    },
    {
     "name": "stdout",
     "output_type": "stream",
     "text": [
      "\n",
      "Processed 13680/39034 files\n",
      "Current unique count: 245\n"
     ]
    },
    {
     "name": "stderr",
     "output_type": "stream",
     "text": [
      " 35%|███▌      | 13769/39034 [06:24<46:29,  9.06it/s]"
     ]
    },
    {
     "name": "stdout",
     "output_type": "stream",
     "text": [
      "\n",
      "Processed 13760/39034 files\n",
      "Current unique count: 245\n"
     ]
    },
    {
     "name": "stderr",
     "output_type": "stream",
     "text": [
      " 35%|███▌      | 13849/39034 [06:41<51:12,  8.20it/s]  "
     ]
    },
    {
     "name": "stdout",
     "output_type": "stream",
     "text": [
      "\n",
      "Processed 13840/39034 files\n",
      "Current unique count: 249\n"
     ]
    },
    {
     "name": "stderr",
     "output_type": "stream",
     "text": [
      " 36%|███▌      | 13929/39034 [06:57<49:40,  8.42it/s]  "
     ]
    },
    {
     "name": "stdout",
     "output_type": "stream",
     "text": [
      "\n",
      "Processed 13920/39034 files\n",
      "Current unique count: 250\n"
     ]
    },
    {
     "name": "stderr",
     "output_type": "stream",
     "text": [
      " 36%|███▌      | 14009/39034 [07:05<47:37,  8.76it/s]"
     ]
    },
    {
     "name": "stdout",
     "output_type": "stream",
     "text": [
      "\n",
      "Processed 14000/39034 files\n",
      "Current unique count: 250\n"
     ]
    },
    {
     "name": "stderr",
     "output_type": "stream",
     "text": [
      " 36%|███▌      | 14039/39034 [08:43<100:24:04, 14.46s/it]Error processing source file: Source file not found: /home/XXX/trace-modeling-oss-fuzz-c/trace_test/traces/libyal_own/trace_libfcrypto_crypt_blowfish_ecb_fuzzer_exe/src_2.xml\n"
     ]
    },
    {
     "name": "stdout",
     "output_type": "stream",
     "text": [
      "Error generating signature: [Errno 2] No such file or directory: '/home/XXX/trace-modeling-oss-fuzz-c/trace_test/traces/libyal_own/trace_libfcrypto_crypt_blowfish_ecb_fuzzer_exe/src_2.xml'\n"
     ]
    },
    {
     "name": "stderr",
     "output_type": "stream",
     "text": [
      " 36%|███▌      | 14089/39034 [08:52<1:06:30,  6.25it/s]  "
     ]
    },
    {
     "name": "stdout",
     "output_type": "stream",
     "text": [
      "\n",
      "Processed 14080/39034 files\n",
      "Current unique count: 261\n"
     ]
    },
    {
     "name": "stderr",
     "output_type": "stream",
     "text": [
      " 36%|███▋      | 14169/39034 [09:07<1:12:58,  5.68it/s]"
     ]
    },
    {
     "name": "stdout",
     "output_type": "stream",
     "text": [
      "\n",
      "Processed 14160/39034 files\n",
      "Current unique count: 267\n"
     ]
    },
    {
     "name": "stderr",
     "output_type": "stream",
     "text": [
      " 37%|███▋      | 14249/39034 [09:20<43:05,  9.59it/s]  "
     ]
    },
    {
     "name": "stdout",
     "output_type": "stream",
     "text": [
      "\n",
      "Processed 14240/39034 files\n",
      "Current unique count: 268\n"
     ]
    },
    {
     "name": "stderr",
     "output_type": "stream",
     "text": [
      " 37%|███▋      | 14330/39034 [09:28<38:15, 10.76it/s]"
     ]
    },
    {
     "name": "stdout",
     "output_type": "stream",
     "text": [
      "\n",
      "Processed 14320/39034 files\n",
      "Current unique count: 268\n"
     ]
    },
    {
     "name": "stderr",
     "output_type": "stream",
     "text": [
      " 37%|███▋      | 14337/39034 [10:55<105:06:44, 15.32s/it]Falling back to HTML parser for /home/XXX/trace-modeling-oss-fuzz-c/trace_test/traces/libyal_own/trace_libcaes_crypt_ecb_fuzzer_exe/log_31.xml\n",
      "Fatal error processing trace file /home/XXX/trace-modeling-oss-fuzz-c/trace_test/traces/libyal_own/trace_libcaes_crypt_ecb_fuzzer_exe/log_31.xml: 'NoneType' object has no attribute 'xpath'\n",
      " 37%|███▋      | 14409/39034 [14:21<4:22:05,  1.57it/s]  "
     ]
    },
    {
     "name": "stdout",
     "output_type": "stream",
     "text": [
      "\n",
      "Processed 14400/39034 files\n",
      "Current unique count: 277\n"
     ]
    },
    {
     "name": "stderr",
     "output_type": "stream",
     "text": [
      " 37%|███▋      | 14462/39034 [14:42<12:42, 32.24it/s]   Falling back to HTML parser for /home/XXX/trace-modeling-oss-fuzz-c/trace_test/traces/libyal_own/trace_libfusn_record_fuzzer_exe/log_161.xml\n",
      "Fatal error processing trace file /home/XXX/trace-modeling-oss-fuzz-c/trace_test/traces/libyal_own/trace_libfusn_record_fuzzer_exe/log_161.xml: 'NoneType' object has no attribute 'xpath'\n",
      " 37%|███▋      | 14509/39034 [14:43<04:51, 84.15it/s]"
     ]
    },
    {
     "name": "stdout",
     "output_type": "stream",
     "text": [
      "\n",
      "Processed 14480/39034 files\n",
      "Current unique count: 280\n"
     ]
    },
    {
     "name": "stderr",
     "output_type": "stream",
     "text": [
      " 37%|███▋      | 14581/39034 [14:43<03:09, 129.24it/s]"
     ]
    },
    {
     "name": "stdout",
     "output_type": "stream",
     "text": [
      "\n",
      "Processed 14560/39034 files\n",
      "Current unique count: 280\n"
     ]
    },
    {
     "name": "stderr",
     "output_type": "stream",
     "text": [
      " 38%|███▊      | 14643/39034 [35:29<99:53:53, 14.74s/it]   Error processing source file: Source file not found: /home/XXX/trace-modeling-oss-fuzz-c/trace_test/traces/libyal_own/trace_libfplist_property_list_fuzzer_exe/src_24.xml\n"
     ]
    },
    {
     "name": "stdout",
     "output_type": "stream",
     "text": [
      "Error generating signature: [Errno 2] No such file or directory: '/home/XXX/trace-modeling-oss-fuzz-c/trace_test/traces/libyal_own/trace_libfplist_property_list_fuzzer_exe/src_24.xml'\n"
     ]
    },
    {
     "name": "stderr",
     "output_type": "stream",
     "text": [
      " 38%|███▊      | 14648/39034 [35:33<37:47:32,  5.58s/it]"
     ]
    },
    {
     "name": "stdout",
     "output_type": "stream",
     "text": [
      "\n",
      "Processed 14640/39034 files\n",
      "Current unique count: 287\n"
     ]
    },
    {
     "name": "stderr",
     "output_type": "stream",
     "text": [
      " 38%|███▊      | 14729/39034 [36:14<46:39,  8.68it/s]   "
     ]
    },
    {
     "name": "stdout",
     "output_type": "stream",
     "text": [
      "\n",
      "Processed 14720/39034 files\n",
      "Current unique count: 309\n"
     ]
    },
    {
     "name": "stderr",
     "output_type": "stream",
     "text": [
      " 38%|███▊      | 14742/39034 [36:16<46:55,  8.63it/s]Falling back to HTML parser for /home/XXX/trace-modeling-oss-fuzz-c/trace_test/traces/libyal_own/trace_libfcrypto_crypt_serpent_ecb_fuzzer_exe/log_130.xml\n",
      "Fatal error processing trace file /home/XXX/trace-modeling-oss-fuzz-c/trace_test/traces/libyal_own/trace_libfcrypto_crypt_serpent_ecb_fuzzer_exe/log_130.xml: 'NoneType' object has no attribute 'xpath'\n",
      " 38%|███▊      | 14808/39034 [36:32<1:45:05,  3.84it/s]"
     ]
    },
    {
     "name": "stdout",
     "output_type": "stream",
     "text": [
      "\n",
      "Processed 14800/39034 files\n",
      "Current unique count: 310\n"
     ]
    },
    {
     "name": "stderr",
     "output_type": "stream",
     "text": [
      " 38%|███▊      | 14889/39034 [36:51<54:48,  7.34it/s]  "
     ]
    },
    {
     "name": "stdout",
     "output_type": "stream",
     "text": [
      "\n",
      "Processed 14880/39034 files\n",
      "Current unique count: 311\n"
     ]
    },
    {
     "name": "stderr",
     "output_type": "stream",
     "text": [
      " 38%|███▊      | 14969/39034 [37:04<53:54,  7.44it/s]  "
     ]
    },
    {
     "name": "stdout",
     "output_type": "stream",
     "text": [
      "\n",
      "Processed 14960/39034 files\n",
      "Current unique count: 311\n"
     ]
    },
    {
     "name": "stderr",
     "output_type": "stream",
     "text": [
      " 38%|███▊      | 14998/39034 [37:25<27:50:35,  4.17s/it]Error processing source file: Source file not found: /home/XXX/trace-modeling-oss-fuzz-c/trace_test/traces/libyal_own/trace_libfcrypto_crypt_des3_ecb_fuzzer_exe/src_43.xml\n",
      " 38%|███▊      | 15004/39034 [37:27<8:17:39,  1.24s/it] "
     ]
    },
    {
     "name": "stdout",
     "output_type": "stream",
     "text": [
      "Error generating signature: [Errno 2] No such file or directory: '/home/XXX/trace-modeling-oss-fuzz-c/trace_test/traces/libyal_own/trace_libfcrypto_crypt_des3_ecb_fuzzer_exe/src_43.xml'\n"
     ]
    },
    {
     "name": "stderr",
     "output_type": "stream",
     "text": [
      " 39%|███▊      | 15057/39034 [37:47<40:10,  9.95it/s]   "
     ]
    },
    {
     "name": "stdout",
     "output_type": "stream",
     "text": [
      "\n",
      "Processed 15040/39034 files\n",
      "Current unique count: 315\n"
     ]
    },
    {
     "name": "stderr",
     "output_type": "stream",
     "text": [
      " 39%|███▉      | 15132/39034 [37:49<09:15, 43.02it/s]"
     ]
    },
    {
     "name": "stdout",
     "output_type": "stream",
     "text": [
      "\n",
      "Processed 15120/39034 files\n",
      "Current unique count: 315\n"
     ]
    },
    {
     "name": "stderr",
     "output_type": "stream",
     "text": [
      " 39%|███▉      | 15215/39034 [37:50<08:23, 47.28it/s]"
     ]
    },
    {
     "name": "stdout",
     "output_type": "stream",
     "text": [
      "\n",
      "Processed 15200/39034 files\n",
      "Current unique count: 315\n"
     ]
    },
    {
     "name": "stderr",
     "output_type": "stream",
     "text": [
      " 39%|███▉      | 15289/39034 [37:52<12:25, 31.85it/s]"
     ]
    },
    {
     "name": "stdout",
     "output_type": "stream",
     "text": [
      "\n",
      "Processed 15280/39034 files\n",
      "Current unique count: 315\n"
     ]
    },
    {
     "name": "stderr",
     "output_type": "stream",
     "text": [
      " 39%|███▉      | 15369/39034 [37:54<10:00, 39.42it/s]"
     ]
    },
    {
     "name": "stdout",
     "output_type": "stream",
     "text": [
      "\n",
      "Processed 15360/39034 files\n",
      "Current unique count: 315\n"
     ]
    },
    {
     "name": "stderr",
     "output_type": "stream",
     "text": [
      " 40%|███▉      | 15456/39034 [37:56<08:54, 44.08it/s]"
     ]
    },
    {
     "name": "stdout",
     "output_type": "stream",
     "text": [
      "\n",
      "Processed 15440/39034 files\n",
      "Current unique count: 315\n"
     ]
    },
    {
     "name": "stderr",
     "output_type": "stream",
     "text": [
      " 40%|███▉      | 15537/39034 [37:58<07:50, 49.98it/s]"
     ]
    },
    {
     "name": "stdout",
     "output_type": "stream",
     "text": [
      "\n",
      "Processed 15520/39034 files\n",
      "Current unique count: 315\n"
     ]
    },
    {
     "name": "stderr",
     "output_type": "stream",
     "text": [
      " 40%|████      | 15614/39034 [38:00<11:18, 34.53it/s]"
     ]
    },
    {
     "name": "stdout",
     "output_type": "stream",
     "text": [
      "\n",
      "Processed 15600/39034 files\n",
      "Current unique count: 315\n"
     ]
    },
    {
     "name": "stderr",
     "output_type": "stream",
     "text": [
      " 40%|████      | 15693/39034 [38:02<10:40, 36.45it/s]"
     ]
    },
    {
     "name": "stdout",
     "output_type": "stream",
     "text": [
      "\n",
      "Processed 15680/39034 files\n",
      "Current unique count: 315\n"
     ]
    },
    {
     "name": "stderr",
     "output_type": "stream",
     "text": [
      " 40%|████      | 15775/39034 [38:04<09:28, 40.92it/s]"
     ]
    },
    {
     "name": "stdout",
     "output_type": "stream",
     "text": [
      "\n",
      "Processed 15760/39034 files\n",
      "Current unique count: 315\n"
     ]
    },
    {
     "name": "stderr",
     "output_type": "stream",
     "text": [
      " 41%|████      | 15851/39034 [38:06<11:12, 34.47it/s]"
     ]
    },
    {
     "name": "stdout",
     "output_type": "stream",
     "text": [
      "\n",
      "Processed 15840/39034 files\n",
      "Current unique count: 315\n"
     ]
    },
    {
     "name": "stderr",
     "output_type": "stream",
     "text": [
      " 41%|████      | 15928/39034 [38:55<15:47:41,  2.46s/it]"
     ]
    },
    {
     "name": "stdout",
     "output_type": "stream",
     "text": [
      "\n",
      "Processed 15920/39034 files\n",
      "Current unique count: 316\n"
     ]
    },
    {
     "name": "stderr",
     "output_type": "stream",
     "text": [
      " 41%|████      | 15929/39034 [39:42<35:45:10,  5.57s/it]Error processing source file: Source file not found: /home/XXX/trace-modeling-oss-fuzz-c/trace_test/traces/libyal_own/trace_libfcrypto_crypt_blowfish_cbc_fuzzer_exe/src_2.xml\n"
     ]
    },
    {
     "name": "stdout",
     "output_type": "stream",
     "text": [
      "Error generating signature: [Errno 2] No such file or directory: '/home/XXX/trace-modeling-oss-fuzz-c/trace_test/traces/libyal_own/trace_libfcrypto_crypt_blowfish_cbc_fuzzer_exe/src_2.xml'\n"
     ]
    },
    {
     "name": "stderr",
     "output_type": "stream",
     "text": [
      " 41%|████      | 15985/39034 [40:02<1:16:48,  5.00it/s] Falling back to HTML parser for /home/XXX/trace-modeling-oss-fuzz-c/trace_test/traces/libyal_own/trace_libfmapi_lzfu_fuzzer_exe/log_178.xml\n",
      "Fatal error processing trace file /home/XXX/trace-modeling-oss-fuzz-c/trace_test/traces/libyal_own/trace_libfmapi_lzfu_fuzzer_exe/log_178.xml: 'NoneType' object has no attribute 'xpath'\n",
      " 41%|████      | 16009/39034 [40:07<1:27:42,  4.38it/s]"
     ]
    },
    {
     "name": "stdout",
     "output_type": "stream",
     "text": [
      "\n",
      "Processed 16000/39034 files\n",
      "Current unique count: 319\n"
     ]
    },
    {
     "name": "stderr",
     "output_type": "stream",
     "text": [
      " 41%|████      | 16088/39034 [40:18<35:07, 10.89it/s]  "
     ]
    },
    {
     "name": "stdout",
     "output_type": "stream",
     "text": [
      "\n",
      "Processed 16080/39034 files\n",
      "Current unique count: 319\n"
     ]
    },
    {
     "name": "stderr",
     "output_type": "stream",
     "text": [
      " 41%|████▏     | 16108/39034 [40:19<32:38, 11.71it/s]Error processing source file: Source file not found: /home/XXX/trace-modeling-oss-fuzz-c/trace_test/traces/libyal_own/trace_libfwnt_security_descriptor_fuzzer_exe/src_130.xml\n",
      " 41%|████▏     | 16110/39034 [40:20<34:13, 11.16it/s]"
     ]
    },
    {
     "name": "stdout",
     "output_type": "stream",
     "text": [
      "Error generating signature: [Errno 2] No such file or directory: '/home/XXX/trace-modeling-oss-fuzz-c/trace_test/traces/libyal_own/trace_libfwnt_security_descriptor_fuzzer_exe/src_130.xml'\n"
     ]
    },
    {
     "name": "stderr",
     "output_type": "stream",
     "text": [
      " 41%|████▏     | 16186/39034 [40:23<06:48, 55.99it/s]  "
     ]
    },
    {
     "name": "stdout",
     "output_type": "stream",
     "text": [
      "\n",
      "Processed 16160/39034 files\n",
      "Current unique count: 319\n"
     ]
    },
    {
     "name": "stderr",
     "output_type": "stream",
     "text": [
      " 42%|████▏     | 16250/39034 [40:25<17:27, 21.75it/s]"
     ]
    },
    {
     "name": "stdout",
     "output_type": "stream",
     "text": [
      "\n",
      "Processed 16240/39034 files\n",
      "Current unique count: 320\n"
     ]
    },
    {
     "name": "stderr",
     "output_type": "stream",
     "text": [
      " 42%|████▏     | 16329/39034 [40:33<38:49,  9.75it/s]"
     ]
    },
    {
     "name": "stdout",
     "output_type": "stream",
     "text": [
      "\n",
      "Processed 16320/39034 files\n",
      "Current unique count: 320\n"
     ]
    },
    {
     "name": "stderr",
     "output_type": "stream",
     "text": [
      " 42%|████▏     | 16408/39034 [40:44<1:03:31,  5.94it/s]"
     ]
    },
    {
     "name": "stdout",
     "output_type": "stream",
     "text": [
      "\n",
      "Processed 16400/39034 files\n",
      "Current unique count: 333\n"
     ]
    },
    {
     "name": "stderr",
     "output_type": "stream",
     "text": [
      " 42%|████▏     | 16488/39034 [41:11<7:57:30,  1.27s/it] "
     ]
    },
    {
     "name": "stdout",
     "output_type": "stream",
     "text": [
      "\n",
      "Processed 16480/39034 files\n",
      "Current unique count: 340\n"
     ]
    },
    {
     "name": "stderr",
     "output_type": "stream",
     "text": [
      " 42%|████▏     | 16568/39034 [41:48<2:41:52,  2.31it/s] Falling back to HTML parser for /home/XXX/trace-modeling-oss-fuzz-c/trace_test/traces/libyal_own/trace_libfcrypto_crypt_rc4_fuzzer_exe/log_51.xml\n",
      "Fatal error processing trace file /home/XXX/trace-modeling-oss-fuzz-c/trace_test/traces/libyal_own/trace_libfcrypto_crypt_rc4_fuzzer_exe/log_51.xml: 'NoneType' object has no attribute 'xpath'\n"
     ]
    },
    {
     "name": "stdout",
     "output_type": "stream",
     "text": [
      "\n",
      "Processed 16560/39034 files\n",
      "Current unique count: 342\n"
     ]
    },
    {
     "name": "stderr",
     "output_type": "stream",
     "text": [
      " 43%|████▎     | 16649/39034 [42:04<1:10:12,  5.31it/s]"
     ]
    },
    {
     "name": "stdout",
     "output_type": "stream",
     "text": [
      "\n",
      "Processed 16640/39034 files\n",
      "Current unique count: 345\n"
     ]
    },
    {
     "name": "stderr",
     "output_type": "stream",
     "text": [
      " 43%|████▎     | 16730/39034 [42:12<28:44, 12.93it/s]  "
     ]
    },
    {
     "name": "stdout",
     "output_type": "stream",
     "text": [
      "\n",
      "Processed 16720/39034 files\n",
      "Current unique count: 351\n"
     ]
    },
    {
     "name": "stderr",
     "output_type": "stream",
     "text": [
      " 43%|████▎     | 16764/39034 [42:14<27:22, 13.56it/s]Error processing source file: Source file not found: /home/XXX/trace-modeling-oss-fuzz-c/trace_test/traces/libyal_own/trace_libcreg_value_fuzzer_exe/src_133.xml\n",
      " 43%|████▎     | 16767/39034 [42:14<23:25, 15.84it/s]"
     ]
    },
    {
     "name": "stdout",
     "output_type": "stream",
     "text": [
      "Error generating signature: [Errno 2] No such file or directory: '/home/XXX/trace-modeling-oss-fuzz-c/trace_test/traces/libyal_own/trace_libcreg_value_fuzzer_exe/src_133.xml'\n"
     ]
    },
    {
     "name": "stderr",
     "output_type": "stream",
     "text": [
      " 43%|████▎     | 16812/39034 [42:56<8:17:22,  1.34s/it] "
     ]
    },
    {
     "name": "stdout",
     "output_type": "stream",
     "text": [
      "\n",
      "Processed 16800/39034 files\n",
      "Current unique count: 352\n"
     ]
    },
    {
     "name": "stderr",
     "output_type": "stream",
     "text": [
      " 43%|████▎     | 16889/39034 [45:48<48:14,  7.65it/s]   "
     ]
    },
    {
     "name": "stdout",
     "output_type": "stream",
     "text": [
      "\n",
      "Processed 16880/39034 files\n",
      "Current unique count: 359\n"
     ]
    },
    {
     "name": "stderr",
     "output_type": "stream",
     "text": [
      " 43%|████▎     | 16969/39034 [45:58<47:53,  7.68it/s]"
     ]
    },
    {
     "name": "stdout",
     "output_type": "stream",
     "text": [
      "\n",
      "Processed 16960/39034 files\n",
      "Current unique count: 359\n"
     ]
    },
    {
     "name": "stderr",
     "output_type": "stream",
     "text": [
      " 44%|████▎     | 17049/39034 [46:06<36:24, 10.07it/s]"
     ]
    },
    {
     "name": "stdout",
     "output_type": "stream",
     "text": [
      "\n",
      "Processed 17040/39034 files\n",
      "Current unique count: 360\n"
     ]
    },
    {
     "name": "stderr",
     "output_type": "stream",
     "text": [
      " 44%|████▍     | 17130/39034 [46:13<26:57, 13.54it/s]"
     ]
    },
    {
     "name": "stdout",
     "output_type": "stream",
     "text": [
      "\n",
      "Processed 17120/39034 files\n",
      "Current unique count: 360\n"
     ]
    },
    {
     "name": "stderr",
     "output_type": "stream",
     "text": [
      " 44%|████▍     | 17209/39034 [46:32<27:04, 13.44it/s]  "
     ]
    },
    {
     "name": "stdout",
     "output_type": "stream",
     "text": [
      "\n",
      "Processed 17200/39034 files\n",
      "Current unique count: 362\n"
     ]
    },
    {
     "name": "stderr",
     "output_type": "stream",
     "text": [
      " 44%|████▍     | 17231/39034 [46:33<27:22, 13.27it/s]Error processing source file: Source file not found: /home/XXX/trace-modeling-oss-fuzz-c/trace_test/traces/libyal_own/trace_libcreg_key_fuzzer_exe/src_166.xml\n",
      " 44%|████▍     | 17233/39034 [46:33<26:03, 13.94it/s]"
     ]
    },
    {
     "name": "stdout",
     "output_type": "stream",
     "text": [
      "Error generating signature: [Errno 2] No such file or directory: '/home/XXX/trace-modeling-oss-fuzz-c/trace_test/traces/libyal_own/trace_libcreg_key_fuzzer_exe/src_166.xml'\n"
     ]
    },
    {
     "name": "stderr",
     "output_type": "stream",
     "text": [
      " 44%|████▍     | 17289/39034 [46:38<28:49, 12.57it/s]"
     ]
    },
    {
     "name": "stdout",
     "output_type": "stream",
     "text": [
      "\n",
      "Processed 17280/39034 files\n",
      "Current unique count: 362\n"
     ]
    },
    {
     "name": "stderr",
     "output_type": "stream",
     "text": [
      " 44%|████▍     | 17370/39034 [46:44<20:02, 18.01it/s]"
     ]
    },
    {
     "name": "stdout",
     "output_type": "stream",
     "text": [
      "\n",
      "Processed 17360/39034 files\n",
      "Current unique count: 364\n"
     ]
    },
    {
     "name": "stderr",
     "output_type": "stream",
     "text": [
      " 45%|████▍     | 17449/39034 [46:49<27:17, 13.18it/s]"
     ]
    },
    {
     "name": "stdout",
     "output_type": "stream",
     "text": [
      "\n",
      "Processed 17440/39034 files\n",
      "Current unique count: 364\n"
     ]
    },
    {
     "name": "stderr",
     "output_type": "stream",
     "text": [
      " 45%|████▍     | 17531/39034 [46:53<17:20, 20.66it/s]"
     ]
    },
    {
     "name": "stdout",
     "output_type": "stream",
     "text": [
      "\n",
      "Processed 17520/39034 files\n",
      "Current unique count: 364\n"
     ]
    },
    {
     "name": "stderr",
     "output_type": "stream",
     "text": [
      " 45%|████▌     | 17606/39034 [46:57<18:24, 19.41it/s]"
     ]
    },
    {
     "name": "stdout",
     "output_type": "stream",
     "text": [
      "\n",
      "Processed 17600/39034 files\n",
      "Current unique count: 364\n"
     ]
    },
    {
     "name": "stderr",
     "output_type": "stream",
     "text": [
      " 45%|████▌     | 17690/39034 [47:03<32:37, 10.90it/s]"
     ]
    },
    {
     "name": "stdout",
     "output_type": "stream",
     "text": [
      "\n",
      "Processed 17680/39034 files\n",
      "Current unique count: 367\n"
     ]
    },
    {
     "name": "stderr",
     "output_type": "stream",
     "text": [
      " 46%|████▌     | 17770/39034 [47:10<28:34, 12.40it/s]"
     ]
    },
    {
     "name": "stdout",
     "output_type": "stream",
     "text": [
      "\n",
      "Processed 17760/39034 files\n",
      "Current unique count: 367\n"
     ]
    },
    {
     "name": "stderr",
     "output_type": "stream",
     "text": [
      " 46%|████▌     | 17850/39034 [47:17<33:17, 10.60it/s]"
     ]
    },
    {
     "name": "stdout",
     "output_type": "stream",
     "text": [
      "\n",
      "Processed 17840/39034 files\n",
      "Current unique count: 368\n"
     ]
    },
    {
     "name": "stderr",
     "output_type": "stream",
     "text": [
      " 46%|████▌     | 17929/39034 [47:24<31:26, 11.18it/s]"
     ]
    },
    {
     "name": "stdout",
     "output_type": "stream",
     "text": [
      "\n",
      "Processed 17920/39034 files\n",
      "Current unique count: 368\n"
     ]
    },
    {
     "name": "stderr",
     "output_type": "stream",
     "text": [
      " 46%|████▌     | 18009/39034 [47:32<31:51, 11.00it/s]"
     ]
    },
    {
     "name": "stdout",
     "output_type": "stream",
     "text": [
      "\n",
      "Processed 18000/39034 files\n",
      "Current unique count: 372\n"
     ]
    },
    {
     "name": "stderr",
     "output_type": "stream",
     "text": [
      " 46%|████▋     | 18089/39034 [47:39<28:22, 12.30it/s]"
     ]
    },
    {
     "name": "stdout",
     "output_type": "stream",
     "text": [
      "\n",
      "Processed 18080/39034 files\n",
      "Current unique count: 372\n"
     ]
    },
    {
     "name": "stderr",
     "output_type": "stream",
     "text": [
      " 47%|████▋     | 18168/39034 [47:48<32:50, 10.59it/s]  "
     ]
    },
    {
     "name": "stdout",
     "output_type": "stream",
     "text": [
      "\n",
      "Processed 18160/39034 files\n",
      "Current unique count: 385\n"
     ]
    },
    {
     "name": "stderr",
     "output_type": "stream",
     "text": [
      " 47%|████▋     | 18252/39034 [47:53<07:23, 46.88it/s]"
     ]
    },
    {
     "name": "stdout",
     "output_type": "stream",
     "text": [
      "\n",
      "Processed 18240/39034 files\n",
      "Current unique count: 387\n"
     ]
    },
    {
     "name": "stderr",
     "output_type": "stream",
     "text": [
      " 47%|████▋     | 18336/39034 [47:55<07:28, 46.11it/s]"
     ]
    },
    {
     "name": "stdout",
     "output_type": "stream",
     "text": [
      "\n",
      "Processed 18320/39034 files\n",
      "Current unique count: 387\n"
     ]
    },
    {
     "name": "stderr",
     "output_type": "stream",
     "text": [
      " 47%|████▋     | 18418/39034 [47:56<07:39, 44.86it/s]"
     ]
    },
    {
     "name": "stdout",
     "output_type": "stream",
     "text": [
      "\n",
      "Processed 18400/39034 files\n",
      "Current unique count: 387\n"
     ]
    },
    {
     "name": "stderr",
     "output_type": "stream",
     "text": [
      " 47%|████▋     | 18493/39034 [47:58<09:20, 36.66it/s]"
     ]
    },
    {
     "name": "stdout",
     "output_type": "stream",
     "text": [
      "\n",
      "Processed 18480/39034 files\n",
      "Current unique count: 387\n"
     ]
    },
    {
     "name": "stderr",
     "output_type": "stream",
     "text": [
      " 48%|████▊     | 18572/39034 [48:00<08:12, 41.54it/s]"
     ]
    },
    {
     "name": "stdout",
     "output_type": "stream",
     "text": [
      "\n",
      "Processed 18560/39034 files\n",
      "Current unique count: 387\n"
     ]
    },
    {
     "name": "stderr",
     "output_type": "stream",
     "text": [
      " 48%|████▊     | 18656/39034 [48:02<08:15, 41.09it/s]"
     ]
    },
    {
     "name": "stdout",
     "output_type": "stream",
     "text": [
      "\n",
      "Processed 18640/39034 files\n",
      "Current unique count: 387\n"
     ]
    },
    {
     "name": "stderr",
     "output_type": "stream",
     "text": [
      " 48%|████▊     | 18733/39034 [48:04<07:36, 44.48it/s]"
     ]
    },
    {
     "name": "stdout",
     "output_type": "stream",
     "text": [
      "\n",
      "Processed 18720/39034 files\n",
      "Current unique count: 387\n"
     ]
    },
    {
     "name": "stderr",
     "output_type": "stream",
     "text": [
      "Falling back to HTML parser for /home/XXX/trace-modeling-oss-fuzz-c/trace_test/traces/libyal_own/trace_libftxf_record_fuzzer_exe/log_768.xml\n",
      "Fatal error processing trace file /home/XXX/trace-modeling-oss-fuzz-c/trace_test/traces/libyal_own/trace_libftxf_record_fuzzer_exe/log_768.xml: 'NoneType' object has no attribute 'xpath'\n",
      " 48%|████▊     | 18814/39034 [48:06<08:03, 41.86it/s]"
     ]
    },
    {
     "name": "stdout",
     "output_type": "stream",
     "text": [
      "\n",
      "Processed 18800/39034 files\n",
      "Current unique count: 387\n"
     ]
    },
    {
     "name": "stderr",
     "output_type": "stream",
     "text": [
      " 48%|████▊     | 18893/39034 [48:08<08:15, 40.61it/s]"
     ]
    },
    {
     "name": "stdout",
     "output_type": "stream",
     "text": [
      "\n",
      "Processed 18880/39034 files\n",
      "Current unique count: 387\n"
     ]
    },
    {
     "name": "stderr",
     "output_type": "stream",
     "text": [
      " 49%|████▊     | 18967/39034 [48:10<14:54, 22.43it/s]"
     ]
    },
    {
     "name": "stdout",
     "output_type": "stream",
     "text": [
      "\n",
      "Processed 18960/39034 files\n",
      "Current unique count: 388\n"
     ]
    },
    {
     "name": "stderr",
     "output_type": "stream",
     "text": [
      " 49%|████▉     | 19031/39034 [48:15<24:24, 13.66it/s]Error processing source file: Source file not found: /home/XXX/trace-modeling-oss-fuzz-c/trace_test/traces/libyal_own/trace_libcreg_file_fuzzer_exe/src_82.xml\n",
      " 49%|████▉     | 19034/39034 [48:15<20:15, 16.46it/s]"
     ]
    },
    {
     "name": "stdout",
     "output_type": "stream",
     "text": [
      "Error generating signature: [Errno 2] No such file or directory: '/home/XXX/trace-modeling-oss-fuzz-c/trace_test/traces/libyal_own/trace_libcreg_file_fuzzer_exe/src_82.xml'\n"
     ]
    },
    {
     "name": "stderr",
     "output_type": "stream",
     "text": [
      " 49%|████▉     | 19048/39034 [48:16<38:26,  8.67it/s]"
     ]
    },
    {
     "name": "stdout",
     "output_type": "stream",
     "text": [
      "\n",
      "Processed 19040/39034 files\n",
      "Current unique count: 391\n"
     ]
    },
    {
     "name": "stderr",
     "output_type": "stream",
     "text": [
      " 49%|████▉     | 19128/39034 [48:23<30:03, 11.04it/s]"
     ]
    },
    {
     "name": "stdout",
     "output_type": "stream",
     "text": [
      "\n",
      "Processed 19120/39034 files\n",
      "Current unique count: 391\n"
     ]
    },
    {
     "name": "stderr",
     "output_type": "stream",
     "text": [
      " 49%|████▉     | 19210/39034 [48:29<21:12, 15.57it/s]"
     ]
    },
    {
     "name": "stdout",
     "output_type": "stream",
     "text": [
      "\n",
      "Processed 19200/39034 files\n",
      "Current unique count: 391\n"
     ]
    },
    {
     "name": "stderr",
     "output_type": "stream",
     "text": [
      " 49%|████▉     | 19233/39034 [48:31<26:33, 12.42it/s]Falling back to HTML parser for /home/XXX/trace-modeling-oss-fuzz-c/trace_test/traces/libyal_own/trace_libfmapi_entry_identifier_fuzzer_exe/log_29.xml\n",
      "Fatal error processing trace file /home/XXX/trace-modeling-oss-fuzz-c/trace_test/traces/libyal_own/trace_libfmapi_entry_identifier_fuzzer_exe/log_29.xml: 'NoneType' object has no attribute 'xpath'\n",
      " 49%|████▉     | 19263/39034 [48:31<07:40, 42.97it/s]Error processing source file: Source file not found: /home/XXX/trace-modeling-oss-fuzz-c/trace_test/traces/libyal_own/trace_libfmos_lzfse_fuzzer_exe/src_43.xml\n",
      " 49%|████▉     | 19267/39034 [48:31<09:35, 34.32it/s]"
     ]
    },
    {
     "name": "stdout",
     "output_type": "stream",
     "text": [
      "Error generating signature: [Errno 2] No such file or directory: '/home/XXX/trace-modeling-oss-fuzz-c/trace_test/traces/libyal_own/trace_libfmos_lzfse_fuzzer_exe/src_43.xml'\n"
     ]
    },
    {
     "name": "stderr",
     "output_type": "stream",
     "text": [
      " 49%|████▉     | 19288/39034 [48:36<1:04:48,  5.08it/s]"
     ]
    },
    {
     "name": "stdout",
     "output_type": "stream",
     "text": [
      "\n",
      "Processed 19280/39034 files\n",
      "Current unique count: 396\n"
     ]
    },
    {
     "name": "stderr",
     "output_type": "stream",
     "text": [
      " 50%|████▉     | 19369/39034 [48:47<27:12, 12.05it/s]  "
     ]
    },
    {
     "name": "stdout",
     "output_type": "stream",
     "text": [
      "\n",
      "Processed 19360/39034 files\n",
      "Current unique count: 397\n"
     ]
    },
    {
     "name": "stderr",
     "output_type": "stream",
     "text": [
      " 50%|████▉     | 19449/39034 [48:54<29:53, 10.92it/s]"
     ]
    },
    {
     "name": "stdout",
     "output_type": "stream",
     "text": [
      "\n",
      "Processed 19440/39034 files\n",
      "Current unique count: 397\n"
     ]
    },
    {
     "name": "stderr",
     "output_type": "stream",
     "text": [
      " 50%|█████     | 19529/39034 [49:03<34:30,  9.42it/s]"
     ]
    },
    {
     "name": "stdout",
     "output_type": "stream",
     "text": [
      "\n",
      "Processed 19520/39034 files\n",
      "Current unique count: 405\n"
     ]
    },
    {
     "name": "stderr",
     "output_type": "stream",
     "text": [
      " 50%|█████     | 19609/39034 [49:12<49:05,  6.59it/s]"
     ]
    },
    {
     "name": "stdout",
     "output_type": "stream",
     "text": [
      "\n",
      "Processed 19600/39034 files\n",
      "Current unique count: 406\n"
     ]
    },
    {
     "name": "stderr",
     "output_type": "stream",
     "text": [
      " 50%|█████     | 19690/39034 [49:22<39:08,  8.24it/s]  "
     ]
    },
    {
     "name": "stdout",
     "output_type": "stream",
     "text": [
      "\n",
      "Processed 19680/39034 files\n",
      "Current unique count: 407\n"
     ]
    },
    {
     "name": "stderr",
     "output_type": "stream",
     "text": [
      " 51%|█████     | 19769/39034 [49:30<35:17,  9.10it/s]"
     ]
    },
    {
     "name": "stdout",
     "output_type": "stream",
     "text": [
      "\n",
      "Processed 19760/39034 files\n",
      "Current unique count: 407\n"
     ]
    },
    {
     "name": "stderr",
     "output_type": "stream",
     "text": [
      " 51%|█████     | 19849/39034 [49:38<33:48,  9.46it/s]"
     ]
    },
    {
     "name": "stdout",
     "output_type": "stream",
     "text": [
      "\n",
      "Processed 19840/39034 files\n",
      "Current unique count: 408\n"
     ]
    },
    {
     "name": "stderr",
     "output_type": "stream",
     "text": [
      " 51%|█████     | 19930/39034 [49:45<20:34, 15.48it/s]  "
     ]
    },
    {
     "name": "stdout",
     "output_type": "stream",
     "text": [
      "\n",
      "Processed 19920/39034 files\n",
      "Current unique count: 412\n"
     ]
    },
    {
     "name": "stderr",
     "output_type": "stream",
     "text": [
      " 51%|█████▏    | 20008/39034 [49:50<21:49, 14.53it/s]"
     ]
    },
    {
     "name": "stdout",
     "output_type": "stream",
     "text": [
      "\n",
      "Processed 20000/39034 files\n",
      "Current unique count: 412\n"
     ]
    },
    {
     "name": "stderr",
     "output_type": "stream",
     "text": [
      " 51%|█████▏    | 20090/39034 [49:56<20:17, 15.56it/s]"
     ]
    },
    {
     "name": "stdout",
     "output_type": "stream",
     "text": [
      "\n",
      "Processed 20080/39034 files\n",
      "Current unique count: 412\n"
     ]
    },
    {
     "name": "stderr",
     "output_type": "stream",
     "text": [
      " 52%|█████▏    | 20170/39034 [50:01<21:23, 14.70it/s]"
     ]
    },
    {
     "name": "stdout",
     "output_type": "stream",
     "text": [
      "\n",
      "Processed 20160/39034 files\n",
      "Current unique count: 412\n"
     ]
    },
    {
     "name": "stderr",
     "output_type": "stream",
     "text": [
      " 52%|█████▏    | 20249/39034 [51:14<26:18, 11.90it/s]   "
     ]
    },
    {
     "name": "stdout",
     "output_type": "stream",
     "text": [
      "\n",
      "Processed 20240/39034 files\n",
      "Current unique count: 414\n"
     ]
    },
    {
     "name": "stderr",
     "output_type": "stream",
     "text": [
      " 52%|█████▏    | 20334/39034 [51:21<12:31, 24.89it/s]"
     ]
    },
    {
     "name": "stdout",
     "output_type": "stream",
     "text": [
      "\n",
      "Processed 20320/39034 files\n",
      "Current unique count: 416\n"
     ]
    },
    {
     "name": "stderr",
     "output_type": "stream",
     "text": [
      " 52%|█████▏    | 20408/39034 [51:25<14:25, 21.51it/s]"
     ]
    },
    {
     "name": "stdout",
     "output_type": "stream",
     "text": [
      "\n",
      "Processed 20400/39034 files\n",
      "Current unique count: 416\n"
     ]
    },
    {
     "name": "stderr",
     "output_type": "stream",
     "text": [
      " 52%|█████▏    | 20491/39034 [51:31<24:06, 12.82it/s]"
     ]
    },
    {
     "name": "stdout",
     "output_type": "stream",
     "text": [
      "\n",
      "Processed 20480/39034 files\n",
      "Current unique count: 416\n"
     ]
    },
    {
     "name": "stderr",
     "output_type": "stream",
     "text": [
      " 53%|█████▎    | 20572/39034 [51:35<18:18, 16.81it/s]"
     ]
    },
    {
     "name": "stdout",
     "output_type": "stream",
     "text": [
      "\n",
      "Processed 20560/39034 files\n",
      "Current unique count: 416\n"
     ]
    },
    {
     "name": "stderr",
     "output_type": "stream",
     "text": [
      " 53%|█████▎    | 20649/39034 [51:42<29:45, 10.30it/s]"
     ]
    },
    {
     "name": "stdout",
     "output_type": "stream",
     "text": [
      "\n",
      "Processed 20640/39034 files\n",
      "Current unique count: 417\n"
     ]
    },
    {
     "name": "stderr",
     "output_type": "stream",
     "text": [
      " 53%|█████▎    | 20681/39034 [51:45<28:49, 10.61it/s]Error processing source file: Source file not found: /home/XXX/trace-modeling-oss-fuzz-c/trace_test/traces/libyal_own/trace_libfsapfs_container_fuzzer_exe/src_90.xml\n",
      " 53%|█████▎    | 20684/39034 [51:45<24:48, 12.33it/s]"
     ]
    },
    {
     "name": "stdout",
     "output_type": "stream",
     "text": [
      "Error generating signature: [Errno 2] No such file or directory: '/home/XXX/trace-modeling-oss-fuzz-c/trace_test/traces/libyal_own/trace_libfsapfs_container_fuzzer_exe/src_90.xml'\n"
     ]
    },
    {
     "name": "stderr",
     "output_type": "stream",
     "text": [
      " 53%|█████▎    | 20730/39034 [51:49<26:54, 11.34it/s]"
     ]
    },
    {
     "name": "stdout",
     "output_type": "stream",
     "text": [
      "\n",
      "Processed 20720/39034 files\n",
      "Current unique count: 418\n"
     ]
    },
    {
     "name": "stderr",
     "output_type": "stream",
     "text": [
      " 53%|█████▎    | 20810/39034 [51:56<24:04, 12.62it/s]"
     ]
    },
    {
     "name": "stdout",
     "output_type": "stream",
     "text": [
      "\n",
      "Processed 20800/39034 files\n",
      "Current unique count: 418\n"
     ]
    },
    {
     "name": "stderr",
     "output_type": "stream",
     "text": [
      " 53%|█████▎    | 20856/39034 [52:00<27:06, 11.18it/s]Falling back to HTML parser for /home/XXX/trace-modeling-oss-fuzz-c/trace_test/traces/qemu_own/trace_qemu-fuzz-i386-target-generic-fuzz-virtio-9p-synth_exe/log_0.xml\n",
      "Fatal error processing trace file /home/XXX/trace-modeling-oss-fuzz-c/trace_test/traces/qemu_own/trace_qemu-fuzz-i386-target-generic-fuzz-virtio-9p-synth_exe/log_0.xml: 'NoneType' object has no attribute 'xpath'\n",
      "Falling back to HTML parser for /home/XXX/trace-modeling-oss-fuzz-c/trace_test/traces/qemu_own/trace_qemu-fuzz-i386-target-generic-fuzz-ne2k_pci_exe/log_0.xml\n",
      "Fatal error processing trace file /home/XXX/trace-modeling-oss-fuzz-c/trace_test/traces/qemu_own/trace_qemu-fuzz-i386-target-generic-fuzz-ne2k_pci_exe/log_0.xml: 'NoneType' object has no attribute 'xpath'\n",
      "Falling back to HTML parser for /home/XXX/trace-modeling-oss-fuzz-c/trace_test/traces/qemu_own/trace_qemu-fuzz-i386-target-generic-fuzz-virtio-vga_exe/log_0.xml\n",
      "Fatal error processing trace file /home/XXX/trace-modeling-oss-fuzz-c/trace_test/traces/qemu_own/trace_qemu-fuzz-i386-target-generic-fuzz-virtio-vga_exe/log_0.xml: 'NoneType' object has no attribute 'xpath'\n",
      "Falling back to HTML parser for /home/XXX/trace-modeling-oss-fuzz-c/trace_test/traces/qemu_own/trace_qemu-fuzz-i386-target-generic-fuzz-pc-q35_exe/log_0.xml\n",
      "Fatal error processing trace file /home/XXX/trace-modeling-oss-fuzz-c/trace_test/traces/qemu_own/trace_qemu-fuzz-i386-target-generic-fuzz-pc-q35_exe/log_0.xml: 'NoneType' object has no attribute 'xpath'\n",
      "Falling back to HTML parser for /home/XXX/trace-modeling-oss-fuzz-c/trace_test/traces/qemu_own/trace_qemu-fuzz-i386-target-generic-fuzz-e1000_exe/log_0.xml\n",
      "Fatal error processing trace file /home/XXX/trace-modeling-oss-fuzz-c/trace_test/traces/qemu_own/trace_qemu-fuzz-i386-target-generic-fuzz-e1000_exe/log_0.xml: 'NoneType' object has no attribute 'xpath'\n",
      "Falling back to HTML parser for /home/XXX/trace-modeling-oss-fuzz-c/trace_test/traces/qemu_own/trace_qemu-fuzz-i386-target-generic-fuzz-es1370_exe/log_0.xml\n",
      "Fatal error processing trace file /home/XXX/trace-modeling-oss-fuzz-c/trace_test/traces/qemu_own/trace_qemu-fuzz-i386-target-generic-fuzz-es1370_exe/log_0.xml: 'NoneType' object has no attribute 'xpath'\n",
      "Falling back to HTML parser for /home/XXX/trace-modeling-oss-fuzz-c/trace_test/traces/qemu_own/trace_qemu-fuzz-i386-target-generic-fuzz-virtio-rng_exe/log_0.xml\n",
      "Fatal error processing trace file /home/XXX/trace-modeling-oss-fuzz-c/trace_test/traces/qemu_own/trace_qemu-fuzz-i386-target-generic-fuzz-virtio-rng_exe/log_0.xml: 'NoneType' object has no attribute 'xpath'\n",
      "Falling back to HTML parser for /home/XXX/trace-modeling-oss-fuzz-c/trace_test/traces/qemu_own/trace_qemu-fuzz-i386-target-generic-fuzz-parallel_exe/log_0.xml\n",
      "Fatal error processing trace file /home/XXX/trace-modeling-oss-fuzz-c/trace_test/traces/qemu_own/trace_qemu-fuzz-i386-target-generic-fuzz-parallel_exe/log_0.xml: 'NoneType' object has no attribute 'xpath'\n",
      "Falling back to HTML parser for /home/XXX/trace-modeling-oss-fuzz-c/trace_test/traces/qemu_own/trace_qemu-fuzz-i386-target-generic-fuzz-ahci-hd_exe/log_0.xml\n",
      "Fatal error processing trace file /home/XXX/trace-modeling-oss-fuzz-c/trace_test/traces/qemu_own/trace_qemu-fuzz-i386-target-generic-fuzz-ahci-hd_exe/log_0.xml: 'NoneType' object has no attribute 'xpath'\n",
      "Falling back to HTML parser for /home/XXX/trace-modeling-oss-fuzz-c/trace_test/traces/qemu_own/trace_qemu-fuzz-i386-target-generic-fuzz-bochs-display_exe/log_0.xml\n",
      "Fatal error processing trace file /home/XXX/trace-modeling-oss-fuzz-c/trace_test/traces/qemu_own/trace_qemu-fuzz-i386-target-generic-fuzz-bochs-display_exe/log_0.xml: 'NoneType' object has no attribute 'xpath'\n",
      "Falling back to HTML parser for /home/XXX/trace-modeling-oss-fuzz-c/trace_test/traces/qemu_own/trace_qemu-fuzz-i386-target-generic-fuzz-ide-atapi_exe/log_0.xml\n",
      "Fatal error processing trace file /home/XXX/trace-modeling-oss-fuzz-c/trace_test/traces/qemu_own/trace_qemu-fuzz-i386-target-generic-fuzz-ide-atapi_exe/log_0.xml: 'NoneType' object has no attribute 'xpath'\n",
      "Falling back to HTML parser for /home/XXX/trace-modeling-oss-fuzz-c/trace_test/traces/qemu_own/trace_qemu-fuzz-i386-target-generic-fuzz-virtio-blk_exe/log_0.xml\n",
      "Fatal error processing trace file /home/XXX/trace-modeling-oss-fuzz-c/trace_test/traces/qemu_own/trace_qemu-fuzz-i386-target-generic-fuzz-virtio-blk_exe/log_0.xml: 'NoneType' object has no attribute 'xpath'\n",
      "Falling back to HTML parser for /home/XXX/trace-modeling-oss-fuzz-c/trace_test/traces/qemu_own/trace_qemu-fuzz-i386-target-generic-fuzz-virtio-gpu_exe/log_0.xml\n",
      "Fatal error processing trace file /home/XXX/trace-modeling-oss-fuzz-c/trace_test/traces/qemu_own/trace_qemu-fuzz-i386-target-generic-fuzz-virtio-gpu_exe/log_0.xml: 'NoneType' object has no attribute 'xpath'\n",
      "Falling back to HTML parser for /home/XXX/trace-modeling-oss-fuzz-c/trace_test/traces/qemu_own/trace_qemu-fuzz-i386-target-generic-fuzz-rtl8139_exe/log_0.xml\n",
      "Fatal error processing trace file /home/XXX/trace-modeling-oss-fuzz-c/trace_test/traces/qemu_own/trace_qemu-fuzz-i386-target-generic-fuzz-rtl8139_exe/log_0.xml: 'NoneType' object has no attribute 'xpath'\n",
      "Falling back to HTML parser for /home/XXX/trace-modeling-oss-fuzz-c/trace_test/traces/qemu_own/trace_qemu-fuzz-i386-target-generic-fuzz-virtio-net-pci-slirp_exe/log_0.xml\n",
      "Fatal error processing trace file /home/XXX/trace-modeling-oss-fuzz-c/trace_test/traces/qemu_own/trace_qemu-fuzz-i386-target-generic-fuzz-virtio-net-pci-slirp_exe/log_0.xml: 'NoneType' object has no attribute 'xpath'\n",
      "Falling back to HTML parser for /home/XXX/trace-modeling-oss-fuzz-c/trace_test/traces/qemu_own/trace_qemu-fuzz-i386-target-generic-fuzz-igb_exe/log_0.xml\n",
      "Fatal error processing trace file /home/XXX/trace-modeling-oss-fuzz-c/trace_test/traces/qemu_own/trace_qemu-fuzz-i386-target-generic-fuzz-igb_exe/log_0.xml: 'NoneType' object has no attribute 'xpath'\n",
      "Falling back to HTML parser for /home/XXX/trace-modeling-oss-fuzz-c/trace_test/traces/qemu_own/trace_qemu-fuzz-i386-target-generic-fuzz-ehci_exe/log_0.xml\n",
      "Fatal error processing trace file /home/XXX/trace-modeling-oss-fuzz-c/trace_test/traces/qemu_own/trace_qemu-fuzz-i386-target-generic-fuzz-ehci_exe/log_0.xml: 'NoneType' object has no attribute 'xpath'\n",
      "Falling back to HTML parser for /home/XXX/trace-modeling-oss-fuzz-c/trace_test/traces/qemu_own/trace_qemu-fuzz-i386-target-generic-fuzz-floppy_exe/log_0.xml\n",
      "Fatal error processing trace file /home/XXX/trace-modeling-oss-fuzz-c/trace_test/traces/qemu_own/trace_qemu-fuzz-i386-target-generic-fuzz-floppy_exe/log_0.xml: 'NoneType' object has no attribute 'xpath'\n",
      "Falling back to HTML parser for /home/XXX/trace-modeling-oss-fuzz-c/trace_test/traces/qemu_own/trace_qemu-fuzz-i386-target-generic-fuzz-virtio-balloon_exe/log_0.xml\n",
      "Fatal error processing trace file /home/XXX/trace-modeling-oss-fuzz-c/trace_test/traces/qemu_own/trace_qemu-fuzz-i386-target-generic-fuzz-virtio-balloon_exe/log_0.xml: 'NoneType' object has no attribute 'xpath'\n",
      "Falling back to HTML parser for /home/XXX/trace-modeling-oss-fuzz-c/trace_test/traces/qemu_own/trace_qemu-fuzz-i386-target-generic-fuzz-ohci_exe/log_0.xml\n",
      "Fatal error processing trace file /home/XXX/trace-modeling-oss-fuzz-c/trace_test/traces/qemu_own/trace_qemu-fuzz-i386-target-generic-fuzz-ohci_exe/log_0.xml: 'NoneType' object has no attribute 'xpath'\n",
      "Falling back to HTML parser for /home/XXX/trace-modeling-oss-fuzz-c/trace_test/traces/qemu_own/trace_qemu-fuzz-i386-target-generic-fuzz-ide-hd_exe/log_0.xml\n",
      "Fatal error processing trace file /home/XXX/trace-modeling-oss-fuzz-c/trace_test/traces/qemu_own/trace_qemu-fuzz-i386-target-generic-fuzz-ide-hd_exe/log_0.xml: 'NoneType' object has no attribute 'xpath'\n",
      "Falling back to HTML parser for /home/XXX/trace-modeling-oss-fuzz-c/trace_test/traces/qemu_own/trace_qemu-fuzz-i386-target-generic-fuzz-ahci-atapi_exe/log_0.xml\n",
      "Fatal error processing trace file /home/XXX/trace-modeling-oss-fuzz-c/trace_test/traces/qemu_own/trace_qemu-fuzz-i386-target-generic-fuzz-ahci-atapi_exe/log_0.xml: 'NoneType' object has no attribute 'xpath'\n",
      "Falling back to HTML parser for /home/XXX/trace-modeling-oss-fuzz-c/trace_test/traces/qemu_own/trace_qemu-fuzz-i386-target-generic-fuzz-i82550_exe/log_0.xml\n",
      "Fatal error processing trace file /home/XXX/trace-modeling-oss-fuzz-c/trace_test/traces/qemu_own/trace_qemu-fuzz-i386-target-generic-fuzz-i82550_exe/log_0.xml: 'NoneType' object has no attribute 'xpath'\n",
      "Falling back to HTML parser for /home/XXX/trace-modeling-oss-fuzz-c/trace_test/traces/qemu_own/trace_qemu-fuzz-i386-target-generic-fuzz-pc-i440fx_exe/log_0.xml\n",
      "Fatal error processing trace file /home/XXX/trace-modeling-oss-fuzz-c/trace_test/traces/qemu_own/trace_qemu-fuzz-i386-target-generic-fuzz-pc-i440fx_exe/log_0.xml: 'NoneType' object has no attribute 'xpath'\n",
      "Falling back to HTML parser for /home/XXX/trace-modeling-oss-fuzz-c/trace_test/traces/qemu_own/trace_qemu-fuzz-i386-target-generic-fuzz-xhci_exe/log_0.xml\n",
      "Fatal error processing trace file /home/XXX/trace-modeling-oss-fuzz-c/trace_test/traces/qemu_own/trace_qemu-fuzz-i386-target-generic-fuzz-xhci_exe/log_0.xml: 'NoneType' object has no attribute 'xpath'\n",
      "Falling back to HTML parser for /home/XXX/trace-modeling-oss-fuzz-c/trace_test/traces/qemu_own/trace_qemu-fuzz-i386-target-generic-fuzz-intel-hda_exe/log_0.xml\n",
      "Fatal error processing trace file /home/XXX/trace-modeling-oss-fuzz-c/trace_test/traces/qemu_own/trace_qemu-fuzz-i386-target-generic-fuzz-intel-hda_exe/log_0.xml: 'NoneType' object has no attribute 'xpath'\n",
      "Falling back to HTML parser for /home/XXX/trace-modeling-oss-fuzz-c/trace_test/traces/qemu_own/trace_qemu-fuzz-i386-target-generic-fuzz-virtio-scsi_exe/log_0.xml\n",
      "Fatal error processing trace file /home/XXX/trace-modeling-oss-fuzz-c/trace_test/traces/qemu_own/trace_qemu-fuzz-i386-target-generic-fuzz-virtio-scsi_exe/log_0.xml: 'NoneType' object has no attribute 'xpath'\n",
      "Falling back to HTML parser for /home/XXX/trace-modeling-oss-fuzz-c/trace_test/traces/qemu_own/trace_qemu-fuzz-i386-target-generic-fuzz-megaraid_exe/log_0.xml\n",
      "Fatal error processing trace file /home/XXX/trace-modeling-oss-fuzz-c/trace_test/traces/qemu_own/trace_qemu-fuzz-i386-target-generic-fuzz-megaraid_exe/log_0.xml: 'NoneType' object has no attribute 'xpath'\n",
      "Falling back to HTML parser for /home/XXX/trace-modeling-oss-fuzz-c/trace_test/traces/qemu_own/trace_qemu-fuzz-i386-target-generic-fuzz-virtio-serial_exe/log_0.xml\n",
      "Fatal error processing trace file /home/XXX/trace-modeling-oss-fuzz-c/trace_test/traces/qemu_own/trace_qemu-fuzz-i386-target-generic-fuzz-virtio-serial_exe/log_0.xml: 'NoneType' object has no attribute 'xpath'\n",
      "Falling back to HTML parser for /home/XXX/trace-modeling-oss-fuzz-c/trace_test/traces/qemu_own/trace_qemu-fuzz-i386-target-generic-fuzz-e1000e_exe/log_0.xml\n",
      "Fatal error processing trace file /home/XXX/trace-modeling-oss-fuzz-c/trace_test/traces/qemu_own/trace_qemu-fuzz-i386-target-generic-fuzz-e1000e_exe/log_0.xml: 'NoneType' object has no attribute 'xpath'\n",
      "Falling back to HTML parser for /home/XXX/trace-modeling-oss-fuzz-c/trace_test/traces/qemu_own/trace_qemu-fuzz-i386-target-generic-fuzz-cirrus-vga_exe/log_0.xml\n",
      "Fatal error processing trace file /home/XXX/trace-modeling-oss-fuzz-c/trace_test/traces/qemu_own/trace_qemu-fuzz-i386-target-generic-fuzz-cirrus-vga_exe/log_0.xml: 'NoneType' object has no attribute 'xpath'\n",
      "Falling back to HTML parser for /home/XXX/trace-modeling-oss-fuzz-c/trace_test/traces/qemu_own/trace_qemu-fuzz-i386-target-generic-fuzz-sdhci-v3_exe/log_0.xml\n",
      "Fatal error processing trace file /home/XXX/trace-modeling-oss-fuzz-c/trace_test/traces/qemu_own/trace_qemu-fuzz-i386-target-generic-fuzz-sdhci-v3_exe/log_0.xml: 'NoneType' object has no attribute 'xpath'\n",
      "Falling back to HTML parser for /home/XXX/trace-modeling-oss-fuzz-c/trace_test/traces/qemu_own/trace_qemu-fuzz-i386-target-generic-fuzz-virtio-mouse_exe/log_0.xml\n",
      "Fatal error processing trace file /home/XXX/trace-modeling-oss-fuzz-c/trace_test/traces/qemu_own/trace_qemu-fuzz-i386-target-generic-fuzz-virtio-mouse_exe/log_0.xml: 'NoneType' object has no attribute 'xpath'\n",
      "Falling back to HTML parser for /home/XXX/trace-modeling-oss-fuzz-c/trace_test/traces/qemu_own/trace_qemu-fuzz-i386-target-generic-fuzz-pcnet_exe/log_0.xml\n",
      "Fatal error processing trace file /home/XXX/trace-modeling-oss-fuzz-c/trace_test/traces/qemu_own/trace_qemu-fuzz-i386-target-generic-fuzz-pcnet_exe/log_0.xml: 'NoneType' object has no attribute 'xpath'\n",
      "Falling back to HTML parser for /home/XXX/trace-modeling-oss-fuzz-c/trace_test/traces/qemu_own/trace_qemu-fuzz-i386-target-generic-fuzz-sb16_exe/log_0.xml\n",
      "Fatal error processing trace file /home/XXX/trace-modeling-oss-fuzz-c/trace_test/traces/qemu_own/trace_qemu-fuzz-i386-target-generic-fuzz-sb16_exe/log_0.xml: 'NoneType' object has no attribute 'xpath'\n",
      "Falling back to HTML parser for /home/XXX/trace-modeling-oss-fuzz-c/trace_test/traces/qemu_own/trace_qemu-fuzz-i386-target-generic-fuzz-virtio-9p_exe/log_0.xml\n",
      "Fatal error processing trace file /home/XXX/trace-modeling-oss-fuzz-c/trace_test/traces/qemu_own/trace_qemu-fuzz-i386-target-generic-fuzz-virtio-9p_exe/log_0.xml: 'NoneType' object has no attribute 'xpath'\n",
      "Falling back to HTML parser for /home/XXX/trace-modeling-oss-fuzz-c/trace_test/traces/qemu_own/trace_qemu-fuzz-i386-target-generic-fuzz-vmxnet3_exe/log_0.xml\n",
      "Fatal error processing trace file /home/XXX/trace-modeling-oss-fuzz-c/trace_test/traces/qemu_own/trace_qemu-fuzz-i386-target-generic-fuzz-vmxnet3_exe/log_0.xml: 'NoneType' object has no attribute 'xpath'\n",
      "Falling back to HTML parser for /home/XXX/trace-modeling-oss-fuzz-c/trace_test/traces/qemu_own/trace_qemu-fuzz-i386-target-generic-fuzz-ac97_exe/log_0.xml\n",
      "Fatal error processing trace file /home/XXX/trace-modeling-oss-fuzz-c/trace_test/traces/qemu_own/trace_qemu-fuzz-i386-target-generic-fuzz-ac97_exe/log_0.xml: 'NoneType' object has no attribute 'xpath'\n",
      "Falling back to HTML parser for /home/XXX/trace-modeling-oss-fuzz-c/trace_test/traces/qemu_own/trace_qemu-fuzz-i386-target-generic-fuzz-cs4231a_exe/log_0.xml\n",
      "Fatal error processing trace file /home/XXX/trace-modeling-oss-fuzz-c/trace_test/traces/qemu_own/trace_qemu-fuzz-i386-target-generic-fuzz-cs4231a_exe/log_0.xml: 'NoneType' object has no attribute 'xpath'\n",
      "Falling back to HTML parser for /home/XXX/trace-modeling-oss-fuzz-c/trace_test/traces/qemu_own/trace_qemu-fuzz-i386-target-generic-fuzz-am53c974_exe/log_0.xml\n",
      "Fatal error processing trace file /home/XXX/trace-modeling-oss-fuzz-c/trace_test/traces/qemu_own/trace_qemu-fuzz-i386-target-generic-fuzz-am53c974_exe/log_0.xml: 'NoneType' object has no attribute 'xpath'\n"
     ]
    },
    {
     "name": "stdout",
     "output_type": "stream",
     "text": [
      "\n",
      "Processed 20880/39034 files\n",
      "Current unique count: 418\n"
     ]
    },
    {
     "name": "stderr",
     "output_type": "stream",
     "text": [
      " 54%|█████▎    | 20931/39034 [52:03<17:43, 17.03it/s]Error processing source file: Source file not found: /home/XXX/trace-modeling-oss-fuzz-c/trace_test/traces/sudoers_own/trace_fuzz_iosrc_timing_exe/src_200.xml\n",
      "Error processing source file: Source file not found: /home/XXX/trace-modeling-oss-fuzz-c/trace_test/traces/sudoers_own/trace_fuzz_iosrc_timing_exe/src_130.xml\n",
      "Error processing source file: Source file not found: /home/XXX/trace-modeling-oss-fuzz-c/trace_test/traces/sudoers_own/trace_fuzz_iosrc_timing_exe/src_239.xml\n",
      "Error processing source file: Source file not found: /home/XXX/trace-modeling-oss-fuzz-c/trace_test/traces/sudoers_own/trace_fuzz_iosrc_timing_exe/src_376.xml\n",
      "Error processing source file: Source file not found: /home/XXX/trace-modeling-oss-fuzz-c/trace_test/traces/sudoers_own/trace_fuzz_iosrc_timing_exe/src_221.xml\n",
      "Error processing source file: Source file not found: /home/XXX/trace-modeling-oss-fuzz-c/trace_test/traces/sudoers_own/trace_fuzz_iosrc_timing_exe/src_69.xml\n",
      "Error processing source file: Source file not found: /home/XXX/trace-modeling-oss-fuzz-c/trace_test/traces/sudoers_own/trace_fuzz_iosrc_timing_exe/src_220.xml\n",
      "Error processing source file: Source file not found: /home/XXX/trace-modeling-oss-fuzz-c/trace_test/traces/sudoers_own/trace_fuzz_iosrc_timing_exe/src_93.xml\n",
      "Error processing source file: Source file not found: /home/XXX/trace-modeling-oss-fuzz-c/trace_test/traces/sudoers_own/trace_fuzz_iosrc_timing_exe/src_140.xml\n",
      "Error processing source file: Source file not found: /home/XXX/trace-modeling-oss-fuzz-c/trace_test/traces/sudoers_own/trace_fuzz_iosrc_timing_exe/src_311.xml\n",
      "Error processing source file: Source file not found: /home/XXX/trace-modeling-oss-fuzz-c/trace_test/traces/sudoers_own/trace_fuzz_iosrc_timing_exe/src_164.xml\n",
      "Error processing source file: Source file not found: /home/XXX/trace-modeling-oss-fuzz-c/trace_test/traces/sudoers_own/trace_fuzz_iosrc_timing_exe/src_304.xml\n",
      "Error processing source file: Source file not found: /home/XXX/trace-modeling-oss-fuzz-c/trace_test/traces/sudoers_own/trace_fuzz_iosrc_timing_exe/src_292.xml\n",
      "Error processing source file: Source file not found: /home/XXX/trace-modeling-oss-fuzz-c/trace_test/traces/sudoers_own/trace_fuzz_iosrc_timing_exe/src_319.xml\n",
      "Error processing source file: Source file not found: /home/XXX/trace-modeling-oss-fuzz-c/trace_test/traces/sudoers_own/trace_fuzz_iosrc_timing_exe/src_98.xml\n",
      "Error processing source file: Source file not found: /home/XXX/trace-modeling-oss-fuzz-c/trace_test/traces/sudoers_own/trace_fuzz_iosrc_timing_exe/src_354.xml\n",
      "Error processing source file: Source file not found: /home/XXX/trace-modeling-oss-fuzz-c/trace_test/traces/sudoers_own/trace_fuzz_iosrc_timing_exe/src_0.xml\n",
      "Error processing source file: Source file not found: /home/XXX/trace-modeling-oss-fuzz-c/trace_test/traces/sudoers_own/trace_fuzz_iosrc_timing_exe/src_31.xml\n",
      "Error processing source file: Source file not found: /home/XXX/trace-modeling-oss-fuzz-c/trace_test/traces/sudoers_own/trace_fuzz_iosrc_timing_exe/src_41.xml\n",
      "Error processing source file: Source file not found: /home/XXX/trace-modeling-oss-fuzz-c/trace_test/traces/sudoers_own/trace_fuzz_iosrc_timing_exe/src_191.xml\n",
      "Error processing source file: Source file not found: /home/XXX/trace-modeling-oss-fuzz-c/trace_test/traces/sudoers_own/trace_fuzz_iosrc_timing_exe/src_182.xml\n",
      "Error processing source file: Source file not found: /home/XXX/trace-modeling-oss-fuzz-c/trace_test/traces/sudoers_own/trace_fuzz_iosrc_timing_exe/src_250.xml\n",
      "Error processing source file: Source file not found: /home/XXX/trace-modeling-oss-fuzz-c/trace_test/traces/sudoers_own/trace_fuzz_iosrc_timing_exe/src_136.xml\n",
      "Error processing source file: Source file not found: /home/XXX/trace-modeling-oss-fuzz-c/trace_test/traces/sudoers_own/trace_fuzz_iosrc_timing_exe/src_91.xml\n",
      "Error processing source file: Source file not found: /home/XXX/trace-modeling-oss-fuzz-c/trace_test/traces/sudoers_own/trace_fuzz_iosrc_timing_exe/src_129.xml\n",
      "Error processing source file: Source file not found: /home/XXX/trace-modeling-oss-fuzz-c/trace_test/traces/sudoers_own/trace_fuzz_iosrc_timing_exe/src_128.xml\n",
      "Error processing source file: Source file not found: /home/XXX/trace-modeling-oss-fuzz-c/trace_test/traces/sudoers_own/trace_fuzz_iosrc_timing_exe/src_298.xml\n",
      "Error processing source file: Source file not found: /home/XXX/trace-modeling-oss-fuzz-c/trace_test/traces/sudoers_own/trace_fuzz_iosrc_timing_exe/src_71.xml\n",
      "Error processing source file: Source file not found: /home/XXX/trace-modeling-oss-fuzz-c/trace_test/traces/sudoers_own/trace_fuzz_iosrc_timing_exe/src_333.xml\n",
      "Error processing source file: Source file not found: /home/XXX/trace-modeling-oss-fuzz-c/trace_test/traces/sudoers_own/trace_fuzz_iosrc_timing_exe/src_142.xml\n",
      "Error processing source file: Source file not found: /home/XXX/trace-modeling-oss-fuzz-c/trace_test/traces/sudoers_own/trace_fuzz_iosrc_timing_exe/src_70.xml\n",
      "Error processing source file: Source file not found: /home/XXX/trace-modeling-oss-fuzz-c/trace_test/traces/sudoers_own/trace_fuzz_iosrc_timing_exe/src_43.xml\n",
      "Error processing source file: Source file not found: /home/XXX/trace-modeling-oss-fuzz-c/trace_test/traces/sudoers_own/trace_fuzz_iosrc_timing_exe/src_290.xml\n",
      "Error processing source file: Source file not found: /home/XXX/trace-modeling-oss-fuzz-c/trace_test/traces/sudoers_own/trace_fuzz_iosrc_timing_exe/src_269.xml\n",
      "Error processing source file: Source file not found: /home/XXX/trace-modeling-oss-fuzz-c/trace_test/traces/sudoers_own/trace_fuzz_iosrc_timing_exe/src_309.xml\n",
      "Error processing source file: Source file not found: /home/XXX/trace-modeling-oss-fuzz-c/trace_test/traces/sudoers_own/trace_fuzz_iosrc_timing_exe/src_254.xml\n",
      "Error processing source file: Source file not found: /home/XXX/trace-modeling-oss-fuzz-c/trace_test/traces/sudoers_own/trace_fuzz_iosrc_timing_exe/src_116.xml\n",
      "Error processing source file: Source file not found: /home/XXX/trace-modeling-oss-fuzz-c/trace_test/traces/sudoers_own/trace_fuzz_iosrc_timing_exe/src_181.xml\n",
      "Error processing source file: Source file not found: /home/XXX/trace-modeling-oss-fuzz-c/trace_test/traces/sudoers_own/trace_fuzz_iosrc_timing_exe/src_19.xml\n",
      "Error processing source file: Source file not found: /home/XXX/trace-modeling-oss-fuzz-c/trace_test/traces/sudoers_own/trace_fuzz_iosrc_timing_exe/src_165.xml\n",
      "Error processing source file: Source file not found: /home/XXX/trace-modeling-oss-fuzz-c/trace_test/traces/sudoers_own/trace_fuzz_iosrc_timing_exe/src_49.xml\n",
      "Error processing source file: Source file not found: /home/XXX/trace-modeling-oss-fuzz-c/trace_test/traces/sudoers_own/trace_fuzz_iosrc_timing_exe/src_61.xml\n",
      "Error processing source file: Source file not found: /home/XXX/trace-modeling-oss-fuzz-c/trace_test/traces/sudoers_own/trace_fuzz_iosrc_timing_exe/src_276.xml\n",
      "Error processing source file: Source file not found: /home/XXX/trace-modeling-oss-fuzz-c/trace_test/traces/sudoers_own/trace_fuzz_iosrc_timing_exe/src_284.xml\n",
      "Error processing source file: Source file not found: /home/XXX/trace-modeling-oss-fuzz-c/trace_test/traces/sudoers_own/trace_fuzz_iosrc_timing_exe/src_342.xml\n",
      "Error processing source file: Source file not found: /home/XXX/trace-modeling-oss-fuzz-c/trace_test/traces/sudoers_own/trace_fuzz_iosrc_timing_exe/src_172.xml\n",
      "Error processing source file: Source file not found: /home/XXX/trace-modeling-oss-fuzz-c/trace_test/traces/sudoers_own/trace_fuzz_iosrc_timing_exe/src_313.xml\n",
      "Error processing source file: Source file not found: /home/XXX/trace-modeling-oss-fuzz-c/trace_test/traces/sudoers_own/trace_fuzz_iosrc_timing_exe/src_192.xml\n",
      "Error processing source file: Source file not found: /home/XXX/trace-modeling-oss-fuzz-c/trace_test/traces/sudoers_own/trace_fuzz_iosrc_timing_exe/src_78.xml\n",
      "Error processing source file: Source file not found: /home/XXX/trace-modeling-oss-fuzz-c/trace_test/traces/sudoers_own/trace_fuzz_iosrc_timing_exe/src_248.xml\n",
      "Error processing source file: Source file not found: /home/XXX/trace-modeling-oss-fuzz-c/trace_test/traces/sudoers_own/trace_fuzz_iosrc_timing_exe/src_255.xml\n",
      "Error processing source file: Source file not found: /home/XXX/trace-modeling-oss-fuzz-c/trace_test/traces/sudoers_own/trace_fuzz_iosrc_timing_exe/src_375.xml\n",
      "Error processing source file: Source file not found: /home/XXX/trace-modeling-oss-fuzz-c/trace_test/traces/sudoers_own/trace_fuzz_iosrc_timing_exe/src_53.xml\n",
      "Error processing source file: Source file not found: /home/XXX/trace-modeling-oss-fuzz-c/trace_test/traces/sudoers_own/trace_fuzz_iosrc_timing_exe/src_169.xml\n",
      "Error processing source file: Source file not found: /home/XXX/trace-modeling-oss-fuzz-c/trace_test/traces/sudoers_own/trace_fuzz_iosrc_timing_exe/src_291.xml\n",
      "Error processing source file: Source file not found: /home/XXX/trace-modeling-oss-fuzz-c/trace_test/traces/sudoers_own/trace_fuzz_iosrc_timing_exe/src_179.xml\n",
      "Error processing source file: Source file not found: /home/XXX/trace-modeling-oss-fuzz-c/trace_test/traces/sudoers_own/trace_fuzz_iosrc_timing_exe/src_168.xml\n",
      "Error processing source file: Source file not found: /home/XXX/trace-modeling-oss-fuzz-c/trace_test/traces/sudoers_own/trace_fuzz_iosrc_timing_exe/src_171.xml\n",
      "Error processing source file: Source file not found: /home/XXX/trace-modeling-oss-fuzz-c/trace_test/traces/sudoers_own/trace_fuzz_iosrc_timing_exe/src_153.xml\n",
      "Error processing source file: Source file not found: /home/XXX/trace-modeling-oss-fuzz-c/trace_test/traces/sudoers_own/trace_fuzz_iosrc_timing_exe/src_65.xml\n",
      "Error processing source file: Source file not found: /home/XXX/trace-modeling-oss-fuzz-c/trace_test/traces/sudoers_own/trace_fuzz_iosrc_timing_exe/src_205.xml\n",
      "Error processing source file: Source file not found: /home/XXX/trace-modeling-oss-fuzz-c/trace_test/traces/sudoers_own/trace_fuzz_iosrc_timing_exe/src_211.xml\n",
      "Error processing source file: Source file not found: /home/XXX/trace-modeling-oss-fuzz-c/trace_test/traces/sudoers_own/trace_fuzz_iosrc_timing_exe/src_258.xml\n",
      "Error processing source file: Source file not found: /home/XXX/trace-modeling-oss-fuzz-c/trace_test/traces/sudoers_own/trace_fuzz_iosrc_timing_exe/src_238.xml\n",
      "Error processing source file: Source file not found: /home/XXX/trace-modeling-oss-fuzz-c/trace_test/traces/sudoers_own/trace_fuzz_iosrc_timing_exe/src_155.xml\n",
      "Error processing source file: Source file not found: /home/XXX/trace-modeling-oss-fuzz-c/trace_test/traces/sudoers_own/trace_fuzz_iosrc_timing_exe/src_150.xml\n",
      "Error processing source file: Source file not found: /home/XXX/trace-modeling-oss-fuzz-c/trace_test/traces/sudoers_own/trace_fuzz_iosrc_timing_exe/src_89.xml\n",
      "Error processing source file: Source file not found: /home/XXX/trace-modeling-oss-fuzz-c/trace_test/traces/sudoers_own/trace_fuzz_iosrc_timing_exe/src_5.xml\n",
      "Error processing source file: Source file not found: /home/XXX/trace-modeling-oss-fuzz-c/trace_test/traces/sudoers_own/trace_fuzz_iosrc_timing_exe/src_243.xml\n",
      "Error processing source file: Source file not found: /home/XXX/trace-modeling-oss-fuzz-c/trace_test/traces/sudoers_own/trace_fuzz_iosrc_timing_exe/src_103.xml\n",
      "Error processing source file: Source file not found: /home/XXX/trace-modeling-oss-fuzz-c/trace_test/traces/sudoers_own/trace_fuzz_iosrc_timing_exe/src_242.xml\n",
      "Error processing source file: Source file not found: /home/XXX/trace-modeling-oss-fuzz-c/trace_test/traces/sudoers_own/trace_fuzz_iosrc_timing_exe/src_15.xml\n",
      "Error processing source file: Source file not found: /home/XXX/trace-modeling-oss-fuzz-c/trace_test/traces/sudoers_own/trace_fuzz_iosrc_timing_exe/src_323.xml\n",
      "Error processing source file: Source file not found: /home/XXX/trace-modeling-oss-fuzz-c/trace_test/traces/sudoers_own/trace_fuzz_iosrc_timing_exe/src_233.xml\n",
      "Error processing source file: Source file not found: /home/XXX/trace-modeling-oss-fuzz-c/trace_test/traces/sudoers_own/trace_fuzz_iosrc_timing_exe/src_378.xml\n",
      "Error processing source file: Source file not found: /home/XXX/trace-modeling-oss-fuzz-c/trace_test/traces/sudoers_own/trace_fuzz_iosrc_timing_exe/src_360.xml\n",
      "Error processing source file: Source file not found: /home/XXX/trace-modeling-oss-fuzz-c/trace_test/traces/sudoers_own/trace_fuzz_iosrc_timing_exe/src_222.xml\n",
      "Error processing source file: Source file not found: /home/XXX/trace-modeling-oss-fuzz-c/trace_test/traces/sudoers_own/trace_fuzz_iosrc_timing_exe/src_351.xml\n",
      "Error processing source file: Source file not found: /home/XXX/trace-modeling-oss-fuzz-c/trace_test/traces/sudoers_own/trace_fuzz_iosrc_timing_exe/src_109.xml\n",
      "Error processing source file: Source file not found: /home/XXX/trace-modeling-oss-fuzz-c/trace_test/traces/sudoers_own/trace_fuzz_iosrc_timing_exe/src_10.xml\n",
      "Error processing source file: Source file not found: /home/XXX/trace-modeling-oss-fuzz-c/trace_test/traces/sudoers_own/trace_fuzz_iosrc_timing_exe/src_13.xml\n",
      "Error processing source file: Source file not found: /home/XXX/trace-modeling-oss-fuzz-c/trace_test/traces/sudoers_own/trace_fuzz_iosrc_timing_exe/src_12.xml\n",
      "Error processing source file: Source file not found: /home/XXX/trace-modeling-oss-fuzz-c/trace_test/traces/sudoers_own/trace_fuzz_iosrc_timing_exe/src_161.xml\n",
      "Error processing source file: Source file not found: /home/XXX/trace-modeling-oss-fuzz-c/trace_test/traces/sudoers_own/trace_fuzz_iosrc_timing_exe/src_356.xml\n",
      "Error processing source file: Source file not found: /home/XXX/trace-modeling-oss-fuzz-c/trace_test/traces/sudoers_own/trace_fuzz_iosrc_timing_exe/src_343.xml\n",
      "Error processing source file: Source file not found: /home/XXX/trace-modeling-oss-fuzz-c/trace_test/traces/sudoers_own/trace_fuzz_iosrc_timing_exe/src_3.xml\n",
      "Error processing source file: Source file not found: /home/XXX/trace-modeling-oss-fuzz-c/trace_test/traces/sudoers_own/trace_fuzz_iosrc_timing_exe/src_117.xml\n",
      "Error processing source file: Source file not found: /home/XXX/trace-modeling-oss-fuzz-c/trace_test/traces/sudoers_own/trace_fuzz_iosrc_timing_exe/src_280.xml\n",
      "Error processing source file: Source file not found: /home/XXX/trace-modeling-oss-fuzz-c/trace_test/traces/sudoers_own/trace_fuzz_iosrc_timing_exe/src_364.xml\n",
      "Error processing source file: Source file not found: /home/XXX/trace-modeling-oss-fuzz-c/trace_test/traces/sudoers_own/trace_fuzz_iosrc_timing_exe/src_206.xml\n",
      "Error processing source file: Source file not found: /home/XXX/trace-modeling-oss-fuzz-c/trace_test/traces/sudoers_own/trace_fuzz_iosrc_timing_exe/src_308.xml\n",
      "Error processing source file: Source file not found: /home/XXX/trace-modeling-oss-fuzz-c/trace_test/traces/sudoers_own/trace_fuzz_iosrc_timing_exe/src_158.xml\n",
      "Error processing source file: Source file not found: /home/XXX/trace-modeling-oss-fuzz-c/trace_test/traces/sudoers_own/trace_fuzz_iosrc_timing_exe/src_27.xml\n",
      "Error processing source file: Source file not found: /home/XXX/trace-modeling-oss-fuzz-c/trace_test/traces/sudoers_own/trace_fuzz_iosrc_timing_exe/src_359.xml\n",
      "Error processing source file: Source file not found: /home/XXX/trace-modeling-oss-fuzz-c/trace_test/traces/sudoers_own/trace_fuzz_iosrc_timing_exe/src_20.xml\n",
      "Error processing source file: Source file not found: /home/XXX/trace-modeling-oss-fuzz-c/trace_test/traces/sudoers_own/trace_fuzz_iosrc_timing_exe/src_347.xml\n",
      "Error processing source file: Source file not found: /home/XXX/trace-modeling-oss-fuzz-c/trace_test/traces/sudoers_own/trace_fuzz_iosrc_timing_exe/src_252.xml\n",
      "Error processing source file: Source file not found: /home/XXX/trace-modeling-oss-fuzz-c/trace_test/traces/sudoers_own/trace_fuzz_iosrc_timing_exe/src_166.xml\n",
      "Error processing source file: Source file not found: /home/XXX/trace-modeling-oss-fuzz-c/trace_test/traces/sudoers_own/trace_fuzz_iosrc_timing_exe/src_327.xml\n",
      "Error processing source file: Source file not found: /home/XXX/trace-modeling-oss-fuzz-c/trace_test/traces/sudoers_own/trace_fuzz_iosrc_timing_exe/src_60.xml\n",
      "Error processing source file: Source file not found: /home/XXX/trace-modeling-oss-fuzz-c/trace_test/traces/sudoers_own/trace_fuzz_iosrc_timing_exe/src_183.xml\n",
      "Error processing source file: Source file not found: /home/XXX/trace-modeling-oss-fuzz-c/trace_test/traces/sudoers_own/trace_fuzz_iosrc_timing_exe/src_106.xml\n",
      "Error processing source file: Source file not found: /home/XXX/trace-modeling-oss-fuzz-c/trace_test/traces/sudoers_own/trace_fuzz_iosrc_timing_exe/src_263.xml\n",
      "Error processing source file: Source file not found: /home/XXX/trace-modeling-oss-fuzz-c/trace_test/traces/sudoers_own/trace_fuzz_iosrc_timing_exe/src_100.xml\n",
      "Error processing source file: Source file not found: /home/XXX/trace-modeling-oss-fuzz-c/trace_test/traces/sudoers_own/trace_fuzz_iosrc_timing_exe/src_86.xml\n",
      "Error processing source file: Source file not found: /home/XXX/trace-modeling-oss-fuzz-c/trace_test/traces/sudoers_own/trace_fuzz_iosrc_timing_exe/src_146.xml\n",
      "Error processing source file: Source file not found: /home/XXX/trace-modeling-oss-fuzz-c/trace_test/traces/sudoers_own/trace_fuzz_iosrc_timing_exe/src_344.xml\n",
      "Error processing source file: Source file not found: /home/XXX/trace-modeling-oss-fuzz-c/trace_test/traces/sudoers_own/trace_fuzz_iosrc_timing_exe/src_219.xml\n",
      "Error processing source file: Source file not found: /home/XXX/trace-modeling-oss-fuzz-c/trace_test/traces/sudoers_own/trace_fuzz_iosrc_timing_exe/src_315.xml\n",
      "Error processing source file: Source file not found: /home/XXX/trace-modeling-oss-fuzz-c/trace_test/traces/sudoers_own/trace_fuzz_iosrc_timing_exe/src_228.xml\n",
      "Error processing source file: Source file not found: /home/XXX/trace-modeling-oss-fuzz-c/trace_test/traces/sudoers_own/trace_fuzz_iosrc_timing_exe/src_287.xml\n",
      "Error processing source file: Source file not found: /home/XXX/trace-modeling-oss-fuzz-c/trace_test/traces/sudoers_own/trace_fuzz_iosrc_timing_exe/src_264.xml\n",
      "Error processing source file: Source file not found: /home/XXX/trace-modeling-oss-fuzz-c/trace_test/traces/sudoers_own/trace_fuzz_iosrc_timing_exe/src_101.xml\n",
      "Error processing source file: Source file not found: /home/XXX/trace-modeling-oss-fuzz-c/trace_test/traces/sudoers_own/trace_fuzz_iosrc_timing_exe/src_120.xml\n",
      "Error processing source file: Source file not found: /home/XXX/trace-modeling-oss-fuzz-c/trace_test/traces/sudoers_own/trace_fuzz_iosrc_timing_exe/src_204.xml\n",
      "Error processing source file: Source file not found: /home/XXX/trace-modeling-oss-fuzz-c/trace_test/traces/sudoers_own/trace_fuzz_iosrc_timing_exe/src_107.xml\n",
      "Error processing source file: Source file not found: /home/XXX/trace-modeling-oss-fuzz-c/trace_test/traces/sudoers_own/trace_fuzz_iosrc_timing_exe/src_178.xml\n",
      "Error processing source file: Source file not found: /home/XXX/trace-modeling-oss-fuzz-c/trace_test/traces/sudoers_own/trace_fuzz_iosrc_timing_exe/src_372.xml\n",
      "Error processing source file: Source file not found: /home/XXX/trace-modeling-oss-fuzz-c/trace_test/traces/sudoers_own/trace_fuzz_iosrc_timing_exe/src_110.xml\n",
      "Error processing source file: Source file not found: /home/XXX/trace-modeling-oss-fuzz-c/trace_test/traces/sudoers_own/trace_fuzz_iosrc_timing_exe/src_366.xml\n",
      "Error processing source file: Source file not found: /home/XXX/trace-modeling-oss-fuzz-c/trace_test/traces/sudoers_own/trace_fuzz_iosrc_timing_exe/src_144.xml\n",
      "Error processing source file: Source file not found: /home/XXX/trace-modeling-oss-fuzz-c/trace_test/traces/sudoers_own/trace_fuzz_iosrc_timing_exe/src_240.xml\n",
      "Error processing source file: Source file not found: /home/XXX/trace-modeling-oss-fuzz-c/trace_test/traces/sudoers_own/trace_fuzz_iosrc_timing_exe/src_261.xml\n",
      "Error processing source file: Source file not found: /home/XXX/trace-modeling-oss-fuzz-c/trace_test/traces/sudoers_own/trace_fuzz_iosrc_timing_exe/src_198.xml\n",
      "Error processing source file: Source file not found: /home/XXX/trace-modeling-oss-fuzz-c/trace_test/traces/sudoers_own/trace_fuzz_iosrc_timing_exe/src_371.xml\n",
      "Error processing source file: Source file not found: /home/XXX/trace-modeling-oss-fuzz-c/trace_test/traces/sudoers_own/trace_fuzz_iosrc_timing_exe/src_303.xml\n",
      "Error processing source file: Source file not found: /home/XXX/trace-modeling-oss-fuzz-c/trace_test/traces/sudoers_own/trace_fuzz_iosrc_timing_exe/src_268.xml\n",
      "Error processing source file: Source file not found: /home/XXX/trace-modeling-oss-fuzz-c/trace_test/traces/sudoers_own/trace_fuzz_iosrc_timing_exe/src_318.xml\n",
      "Error processing source file: Source file not found: /home/XXX/trace-modeling-oss-fuzz-c/trace_test/traces/sudoers_own/trace_fuzz_iosrc_timing_exe/src_272.xml\n",
      "Error processing source file: Source file not found: /home/XXX/trace-modeling-oss-fuzz-c/trace_test/traces/sudoers_own/trace_fuzz_iosrc_timing_exe/src_135.xml\n",
      "Error processing source file: Source file not found: /home/XXX/trace-modeling-oss-fuzz-c/trace_test/traces/sudoers_own/trace_fuzz_iosrc_timing_exe/src_314.xml\n",
      "Error processing source file: Source file not found: /home/XXX/trace-modeling-oss-fuzz-c/trace_test/traces/sudoers_own/trace_fuzz_iosrc_timing_exe/src_88.xml\n",
      "Error processing source file: Source file not found: /home/XXX/trace-modeling-oss-fuzz-c/trace_test/traces/sudoers_own/trace_fuzz_iosrc_timing_exe/src_125.xml\n",
      "Error processing source file: Source file not found: /home/XXX/trace-modeling-oss-fuzz-c/trace_test/traces/sudoers_own/trace_fuzz_iosrc_timing_exe/src_300.xml\n",
      "Error processing source file: Source file not found: /home/XXX/trace-modeling-oss-fuzz-c/trace_test/traces/sudoers_own/trace_fuzz_iosrc_timing_exe/src_44.xml\n",
      "Error processing source file: Source file not found: /home/XXX/trace-modeling-oss-fuzz-c/trace_test/traces/sudoers_own/trace_fuzz_iosrc_timing_exe/src_141.xml\n",
      "Error processing source file: Source file not found: /home/XXX/trace-modeling-oss-fuzz-c/trace_test/traces/sudoers_own/trace_fuzz_iosrc_timing_exe/src_330.xml\n",
      "Error processing source file: Source file not found: /home/XXX/trace-modeling-oss-fuzz-c/trace_test/traces/sudoers_own/trace_fuzz_iosrc_timing_exe/src_316.xml\n",
      "Error processing source file: Source file not found: /home/XXX/trace-modeling-oss-fuzz-c/trace_test/traces/sudoers_own/trace_fuzz_iosrc_timing_exe/src_310.xml\n",
      "Error processing source file: Source file not found: /home/XXX/trace-modeling-oss-fuzz-c/trace_test/traces/sudoers_own/trace_fuzz_iosrc_timing_exe/src_237.xml\n",
      "Error processing source file: Source file not found: /home/XXX/trace-modeling-oss-fuzz-c/trace_test/traces/sudoers_own/trace_fuzz_iosrc_timing_exe/src_365.xml\n",
      "Error processing source file: Source file not found: /home/XXX/trace-modeling-oss-fuzz-c/trace_test/traces/sudoers_own/trace_fuzz_iosrc_timing_exe/src_40.xml\n",
      "Error processing source file: Source file not found: /home/XXX/trace-modeling-oss-fuzz-c/trace_test/traces/sudoers_own/trace_fuzz_iosrc_timing_exe/src_85.xml\n",
      "Error processing source file: Source file not found: /home/XXX/trace-modeling-oss-fuzz-c/trace_test/traces/sudoers_own/trace_fuzz_iosrc_timing_exe/src_336.xml\n",
      "Error processing source file: Source file not found: /home/XXX/trace-modeling-oss-fuzz-c/trace_test/traces/sudoers_own/trace_fuzz_iosrc_timing_exe/src_188.xml\n",
      "Error processing source file: Source file not found: /home/XXX/trace-modeling-oss-fuzz-c/trace_test/traces/sudoers_own/trace_fuzz_iosrc_timing_exe/src_189.xml\n",
      "Error processing source file: Source file not found: /home/XXX/trace-modeling-oss-fuzz-c/trace_test/traces/sudoers_own/trace_fuzz_iosrc_timing_exe/src_21.xml\n",
      "Error processing source file: Source file not found: /home/XXX/trace-modeling-oss-fuzz-c/trace_test/traces/sudoers_own/trace_fuzz_iosrc_timing_exe/src_167.xml\n",
      "Error processing source file: Source file not found: /home/XXX/trace-modeling-oss-fuzz-c/trace_test/traces/sudoers_own/trace_fuzz_iosrc_timing_exe/src_87.xml\n",
      "Error processing source file: Source file not found: /home/XXX/trace-modeling-oss-fuzz-c/trace_test/traces/sudoers_own/trace_fuzz_iosrc_timing_exe/src_170.xml\n",
      "Error processing source file: Source file not found: /home/XXX/trace-modeling-oss-fuzz-c/trace_test/traces/sudoers_own/trace_fuzz_iosrc_timing_exe/src_213.xml\n",
      "Error processing source file: Source file not found: /home/XXX/trace-modeling-oss-fuzz-c/trace_test/traces/sudoers_own/trace_fuzz_iosrc_timing_exe/src_331.xml\n",
      "Error processing source file: Source file not found: /home/XXX/trace-modeling-oss-fuzz-c/trace_test/traces/sudoers_own/trace_fuzz_iosrc_timing_exe/src_194.xml\n",
      "Error processing source file: Source file not found: /home/XXX/trace-modeling-oss-fuzz-c/trace_test/traces/sudoers_own/trace_fuzz_iosrc_timing_exe/src_225.xml\n",
      "Error processing source file: Source file not found: /home/XXX/trace-modeling-oss-fuzz-c/trace_test/traces/sudoers_own/trace_fuzz_iosrc_timing_exe/src_30.xml\n",
      "Error processing source file: Source file not found: /home/XXX/trace-modeling-oss-fuzz-c/trace_test/traces/sudoers_own/trace_fuzz_iosrc_timing_exe/src_286.xml\n",
      "Error processing source file: Source file not found: /home/XXX/trace-modeling-oss-fuzz-c/trace_test/traces/sudoers_own/trace_fuzz_iosrc_timing_exe/src_215.xml\n",
      "Error processing source file: Source file not found: /home/XXX/trace-modeling-oss-fuzz-c/trace_test/traces/sudoers_own/trace_fuzz_iosrc_timing_exe/src_26.xml\n",
      "Error processing source file: Source file not found: /home/XXX/trace-modeling-oss-fuzz-c/trace_test/traces/sudoers_own/trace_fuzz_iosrc_timing_exe/src_262.xml\n",
      "Error processing source file: Source file not found: /home/XXX/trace-modeling-oss-fuzz-c/trace_test/traces/sudoers_own/trace_fuzz_iosrc_timing_exe/src_184.xml\n",
      "Error processing source file: Source file not found: /home/XXX/trace-modeling-oss-fuzz-c/trace_test/traces/sudoers_own/trace_fuzz_iosrc_timing_exe/src_105.xml\n",
      "Error processing source file: Source file not found: /home/XXX/trace-modeling-oss-fuzz-c/trace_test/traces/sudoers_own/trace_fuzz_iosrc_timing_exe/src_176.xml\n",
      "Error processing source file: Source file not found: /home/XXX/trace-modeling-oss-fuzz-c/trace_test/traces/sudoers_own/trace_fuzz_iosrc_timing_exe/src_37.xml\n",
      "Error processing source file: Source file not found: /home/XXX/trace-modeling-oss-fuzz-c/trace_test/traces/sudoers_own/trace_fuzz_iosrc_timing_exe/src_42.xml\n",
      "Error processing source file: Source file not found: /home/XXX/trace-modeling-oss-fuzz-c/trace_test/traces/sudoers_own/trace_fuzz_iosrc_timing_exe/src_152.xml\n",
      "Error processing source file: Source file not found: /home/XXX/trace-modeling-oss-fuzz-c/trace_test/traces/sudoers_own/trace_fuzz_iosrc_timing_exe/src_348.xml\n",
      "Error processing source file: Source file not found: /home/XXX/trace-modeling-oss-fuzz-c/trace_test/traces/sudoers_own/trace_fuzz_iosrc_timing_exe/src_373.xml\n",
      "Error processing source file: Source file not found: /home/XXX/trace-modeling-oss-fuzz-c/trace_test/traces/sudoers_own/trace_fuzz_iosrc_timing_exe/src_159.xml\n",
      "Error processing source file: Source file not found: /home/XXX/trace-modeling-oss-fuzz-c/trace_test/traces/sudoers_own/trace_fuzz_iosrc_timing_exe/src_180.xml\n",
      "Error processing source file: Source file not found: /home/XXX/trace-modeling-oss-fuzz-c/trace_test/traces/sudoers_own/trace_fuzz_iosrc_timing_exe/src_218.xml\n",
      "Error processing source file: Source file not found: /home/XXX/trace-modeling-oss-fuzz-c/trace_test/traces/sudoers_own/trace_fuzz_iosrc_timing_exe/src_282.xml\n",
      "Error processing source file: Source file not found: /home/XXX/trace-modeling-oss-fuzz-c/trace_test/traces/sudoers_own/trace_fuzz_iosrc_timing_exe/src_223.xml\n",
      "Error processing source file: Source file not found: /home/XXX/trace-modeling-oss-fuzz-c/trace_test/traces/sudoers_own/trace_fuzz_iosrc_timing_exe/src_149.xml\n",
      "Error processing source file: Source file not found: /home/XXX/trace-modeling-oss-fuzz-c/trace_test/traces/sudoers_own/trace_fuzz_iosrc_timing_exe/src_132.xml\n",
      "Error processing source file: Source file not found: /home/XXX/trace-modeling-oss-fuzz-c/trace_test/traces/sudoers_own/trace_fuzz_iosrc_timing_exe/src_54.xml\n",
      "Error processing source file: Source file not found: /home/XXX/trace-modeling-oss-fuzz-c/trace_test/traces/sudoers_own/trace_fuzz_iosrc_timing_exe/src_350.xml\n",
      "Error processing source file: Source file not found: /home/XXX/trace-modeling-oss-fuzz-c/trace_test/traces/sudoers_own/trace_fuzz_iosrc_timing_exe/src_338.xml\n",
      "Error processing source file: Source file not found: /home/XXX/trace-modeling-oss-fuzz-c/trace_test/traces/sudoers_own/trace_fuzz_iosrc_timing_exe/src_209.xml\n",
      "Error processing source file: Source file not found: /home/XXX/trace-modeling-oss-fuzz-c/trace_test/traces/sudoers_own/trace_fuzz_iosrc_timing_exe/src_118.xml\n",
      "Error processing source file: Source file not found: /home/XXX/trace-modeling-oss-fuzz-c/trace_test/traces/sudoers_own/trace_fuzz_iosrc_timing_exe/src_14.xml\n",
      "Error processing source file: Source file not found: /home/XXX/trace-modeling-oss-fuzz-c/trace_test/traces/sudoers_own/trace_fuzz_iosrc_timing_exe/src_293.xml\n",
      "Error processing source file: Source file not found: /home/XXX/trace-modeling-oss-fuzz-c/trace_test/traces/sudoers_own/trace_fuzz_iosrc_timing_exe/src_257.xml\n",
      "Error processing source file: Source file not found: /home/XXX/trace-modeling-oss-fuzz-c/trace_test/traces/sudoers_own/trace_fuzz_iosrc_timing_exe/src_266.xml\n",
      "Error processing source file: Source file not found: /home/XXX/trace-modeling-oss-fuzz-c/trace_test/traces/sudoers_own/trace_fuzz_iosrc_timing_exe/src_260.xml\n",
      "Error processing source file: Source file not found: /home/XXX/trace-modeling-oss-fuzz-c/trace_test/traces/sudoers_own/trace_fuzz_iosrc_timing_exe/src_73.xml\n",
      "Error processing source file: Source file not found: /home/XXX/trace-modeling-oss-fuzz-c/trace_test/traces/sudoers_own/trace_fuzz_iosrc_timing_exe/src_345.xml\n",
      "Error processing source file: Source file not found: /home/XXX/trace-modeling-oss-fuzz-c/trace_test/traces/sudoers_own/trace_fuzz_iosrc_timing_exe/src_283.xml\n",
      "Error processing source file: Source file not found: /home/XXX/trace-modeling-oss-fuzz-c/trace_test/traces/sudoers_own/trace_fuzz_iosrc_timing_exe/src_72.xml\n",
      "Error processing source file: Source file not found: /home/XXX/trace-modeling-oss-fuzz-c/trace_test/traces/sudoers_own/trace_fuzz_iosrc_timing_exe/src_236.xml\n",
      "Error processing source file: Source file not found: /home/XXX/trace-modeling-oss-fuzz-c/trace_test/traces/sudoers_own/trace_fuzz_iosrc_timing_exe/src_119.xml\n",
      "Error processing source file: Source file not found: /home/XXX/trace-modeling-oss-fuzz-c/trace_test/traces/sudoers_own/trace_fuzz_iosrc_timing_exe/src_46.xml\n",
      "Error processing source file: Source file not found: /home/XXX/trace-modeling-oss-fuzz-c/trace_test/traces/sudoers_own/trace_fuzz_iosrc_timing_exe/src_312.xml\n",
      "Error processing source file: Source file not found: /home/XXX/trace-modeling-oss-fuzz-c/trace_test/traces/sudoers_own/trace_fuzz_iosrc_timing_exe/src_352.xml\n",
      "Error processing source file: Source file not found: /home/XXX/trace-modeling-oss-fuzz-c/trace_test/traces/sudoers_own/trace_fuzz_iosrc_timing_exe/src_340.xml\n",
      "Error processing source file: Source file not found: /home/XXX/trace-modeling-oss-fuzz-c/trace_test/traces/sudoers_own/trace_fuzz_iosrc_timing_exe/src_265.xml\n",
      "Error processing source file: Source file not found: /home/XXX/trace-modeling-oss-fuzz-c/trace_test/traces/sudoers_own/trace_fuzz_iosrc_timing_exe/src_25.xml\n",
      "Error processing source file: Source file not found: /home/XXX/trace-modeling-oss-fuzz-c/trace_test/traces/sudoers_own/trace_fuzz_iosrc_timing_exe/src_81.xml\n",
      "Error processing source file: Source file not found: /home/XXX/trace-modeling-oss-fuzz-c/trace_test/traces/sudoers_own/trace_fuzz_iosrc_timing_exe/src_277.xml\n",
      "Error processing source file: Source file not found: /home/XXX/trace-modeling-oss-fuzz-c/trace_test/traces/sudoers_own/trace_fuzz_iosrc_timing_exe/src_226.xml\n",
      "Error processing source file: Source file not found: /home/XXX/trace-modeling-oss-fuzz-c/trace_test/traces/sudoers_own/trace_fuzz_iosrc_timing_exe/src_67.xml\n",
      "Error processing source file: Source file not found: /home/XXX/trace-modeling-oss-fuzz-c/trace_test/traces/sudoers_own/trace_fuzz_iosrc_timing_exe/src_76.xml\n",
      "Error processing source file: Source file not found: /home/XXX/trace-modeling-oss-fuzz-c/trace_test/traces/sudoers_own/trace_fuzz_iosrc_timing_exe/src_104.xml\n",
      "Error processing source file: Source file not found: /home/XXX/trace-modeling-oss-fuzz-c/trace_test/traces/sudoers_own/trace_fuzz_iosrc_timing_exe/src_289.xml\n",
      "Error processing source file: Source file not found: /home/XXX/trace-modeling-oss-fuzz-c/trace_test/traces/sudoers_own/trace_fuzz_iosrc_timing_exe/src_370.xml\n",
      "Error processing source file: Source file not found: /home/XXX/trace-modeling-oss-fuzz-c/trace_test/traces/sudoers_own/trace_fuzz_iosrc_timing_exe/src_341.xml\n",
      "Error processing source file: Source file not found: /home/XXX/trace-modeling-oss-fuzz-c/trace_test/traces/sudoers_own/trace_fuzz_iosrc_timing_exe/src_28.xml\n",
      "Error processing source file: Source file not found: /home/XXX/trace-modeling-oss-fuzz-c/trace_test/traces/sudoers_own/trace_fuzz_iosrc_timing_exe/src_245.xml\n",
      "Error processing source file: Source file not found: /home/XXX/trace-modeling-oss-fuzz-c/trace_test/traces/sudoers_own/trace_fuzz_iosrc_timing_exe/src_231.xml\n",
      "Error processing source file: Source file not found: /home/XXX/trace-modeling-oss-fuzz-c/trace_test/traces/sudoers_own/trace_fuzz_iosrc_timing_exe/src_45.xml\n",
      "Error processing source file: Source file not found: /home/XXX/trace-modeling-oss-fuzz-c/trace_test/traces/sudoers_own/trace_fuzz_iosrc_timing_exe/src_32.xml\n",
      "Error processing source file: Source file not found: /home/XXX/trace-modeling-oss-fuzz-c/trace_test/traces/sudoers_own/trace_fuzz_iosrc_timing_exe/src_187.xml\n",
      "Error processing source file: Source file not found: /home/XXX/trace-modeling-oss-fuzz-c/trace_test/traces/sudoers_own/trace_fuzz_iosrc_timing_exe/src_17.xml\n",
      "Error processing source file: Source file not found: /home/XXX/trace-modeling-oss-fuzz-c/trace_test/traces/sudoers_own/trace_fuzz_iosrc_timing_exe/src_203.xml\n",
      "Error processing source file: Source file not found: /home/XXX/trace-modeling-oss-fuzz-c/trace_test/traces/sudoers_own/trace_fuzz_iosrc_timing_exe/src_320.xml\n",
      "Error processing source file: Source file not found: /home/XXX/trace-modeling-oss-fuzz-c/trace_test/traces/sudoers_own/trace_fuzz_iosrc_timing_exe/src_96.xml\n",
      "Error processing source file: Source file not found: /home/XXX/trace-modeling-oss-fuzz-c/trace_test/traces/sudoers_own/trace_fuzz_iosrc_timing_exe/src_143.xml\n",
      "Error processing source file: Source file not found: /home/XXX/trace-modeling-oss-fuzz-c/trace_test/traces/sudoers_own/trace_fuzz_iosrc_timing_exe/src_134.xml\n",
      "Error processing source file: Source file not found: /home/XXX/trace-modeling-oss-fuzz-c/trace_test/traces/sudoers_own/trace_fuzz_iosrc_timing_exe/src_22.xml\n",
      "Error processing source file: Source file not found: /home/XXX/trace-modeling-oss-fuzz-c/trace_test/traces/sudoers_own/trace_fuzz_iosrc_timing_exe/src_199.xml\n",
      "Error processing source file: Source file not found: /home/XXX/trace-modeling-oss-fuzz-c/trace_test/traces/sudoers_own/trace_fuzz_iosrc_timing_exe/src_227.xml\n",
      "Error processing source file: Source file not found: /home/XXX/trace-modeling-oss-fuzz-c/trace_test/traces/sudoers_own/trace_fuzz_iosrc_timing_exe/src_99.xml\n",
      "Error processing source file: Source file not found: /home/XXX/trace-modeling-oss-fuzz-c/trace_test/traces/sudoers_own/trace_fuzz_iosrc_timing_exe/src_279.xml\n",
      "Error processing source file: Source file not found: /home/XXX/trace-modeling-oss-fuzz-c/trace_test/traces/sudoers_own/trace_fuzz_iosrc_timing_exe/src_253.xml\n",
      "Error processing source file: Source file not found: /home/XXX/trace-modeling-oss-fuzz-c/trace_test/traces/sudoers_own/trace_fuzz_iosrc_timing_exe/src_217.xml\n",
      "Error processing source file: Source file not found: /home/XXX/trace-modeling-oss-fuzz-c/trace_test/traces/sudoers_own/trace_fuzz_iosrc_timing_exe/src_324.xml\n",
      "Error processing source file: Source file not found: /home/XXX/trace-modeling-oss-fuzz-c/trace_test/traces/sudoers_own/trace_fuzz_iosrc_timing_exe/src_322.xml\n",
      "Error processing source file: Source file not found: /home/XXX/trace-modeling-oss-fuzz-c/trace_test/traces/sudoers_own/trace_fuzz_iosrc_timing_exe/src_244.xml\n",
      "Error processing source file: Source file not found: /home/XXX/trace-modeling-oss-fuzz-c/trace_test/traces/sudoers_own/trace_fuzz_iosrc_timing_exe/src_173.xml\n",
      "Error processing source file: Source file not found: /home/XXX/trace-modeling-oss-fuzz-c/trace_test/traces/sudoers_own/trace_fuzz_iosrc_timing_exe/src_246.xml\n",
      "Error processing source file: Source file not found: /home/XXX/trace-modeling-oss-fuzz-c/trace_test/traces/sudoers_own/trace_fuzz_iosrc_timing_exe/src_349.xml\n",
      "Error processing source file: Source file not found: /home/XXX/trace-modeling-oss-fuzz-c/trace_test/traces/sudoers_own/trace_fuzz_iosrc_timing_exe/src_38.xml\n",
      "Error processing source file: Source file not found: /home/XXX/trace-modeling-oss-fuzz-c/trace_test/traces/sudoers_own/trace_fuzz_iosrc_timing_exe/src_123.xml\n",
      "Error processing source file: Source file not found: /home/XXX/trace-modeling-oss-fuzz-c/trace_test/traces/sudoers_own/trace_fuzz_iosrc_timing_exe/src_208.xml\n",
      "Error processing source file: Source file not found: /home/XXX/trace-modeling-oss-fuzz-c/trace_test/traces/sudoers_own/trace_fuzz_iosrc_timing_exe/src_147.xml\n",
      "Error processing source file: Source file not found: /home/XXX/trace-modeling-oss-fuzz-c/trace_test/traces/sudoers_own/trace_fuzz_iosrc_timing_exe/src_175.xml\n",
      "Error processing source file: Source file not found: /home/XXX/trace-modeling-oss-fuzz-c/trace_test/traces/sudoers_own/trace_fuzz_iosrc_timing_exe/src_80.xml\n",
      "Error processing source file: Source file not found: /home/XXX/trace-modeling-oss-fuzz-c/trace_test/traces/sudoers_own/trace_fuzz_iosrc_timing_exe/src_63.xml\n",
      "Error processing source file: Source file not found: /home/XXX/trace-modeling-oss-fuzz-c/trace_test/traces/sudoers_own/trace_fuzz_iosrc_timing_exe/src_64.xml\n",
      "Error processing source file: Source file not found: /home/XXX/trace-modeling-oss-fuzz-c/trace_test/traces/sudoers_own/trace_fuzz_iosrc_timing_exe/src_185.xml\n",
      "Error processing source file: Source file not found: /home/XXX/trace-modeling-oss-fuzz-c/trace_test/traces/sudoers_own/trace_fuzz_iosrc_timing_exe/src_157.xml\n",
      "Error processing source file: Source file not found: /home/XXX/trace-modeling-oss-fuzz-c/trace_test/traces/sudoers_own/trace_fuzz_iosrc_timing_exe/src_62.xml\n",
      "Error processing source file: Source file not found: /home/XXX/trace-modeling-oss-fuzz-c/trace_test/traces/sudoers_own/trace_fuzz_iosrc_timing_exe/src_325.xml\n",
      "Error processing source file: Source file not found: /home/XXX/trace-modeling-oss-fuzz-c/trace_test/traces/sudoers_own/trace_fuzz_iosrc_timing_exe/src_33.xml\n",
      "Error processing source file: Source file not found: /home/XXX/trace-modeling-oss-fuzz-c/trace_test/traces/sudoers_own/trace_fuzz_iosrc_timing_exe/src_36.xml\n",
      "Error processing source file: Source file not found: /home/XXX/trace-modeling-oss-fuzz-c/trace_test/traces/sudoers_own/trace_fuzz_iosrc_timing_exe/src_115.xml\n",
      "Error processing source file: Source file not found: /home/XXX/trace-modeling-oss-fuzz-c/trace_test/traces/sudoers_own/trace_fuzz_iosrc_timing_exe/src_281.xml\n",
      "Error processing source file: Source file not found: /home/XXX/trace-modeling-oss-fuzz-c/trace_test/traces/sudoers_own/trace_fuzz_iosrc_timing_exe/src_193.xml\n",
      "Error processing source file: Source file not found: /home/XXX/trace-modeling-oss-fuzz-c/trace_test/traces/sudoers_own/trace_fuzz_iosrc_timing_exe/src_363.xml\n",
      "Error processing source file: Source file not found: /home/XXX/trace-modeling-oss-fuzz-c/trace_test/traces/sudoers_own/trace_fuzz_iosrc_timing_exe/src_24.xml\n",
      "Error processing source file: Source file not found: /home/XXX/trace-modeling-oss-fuzz-c/trace_test/traces/sudoers_own/trace_fuzz_iosrc_timing_exe/src_108.xml\n",
      "Error processing source file: Source file not found: /home/XXX/trace-modeling-oss-fuzz-c/trace_test/traces/sudoers_own/trace_fuzz_iosrc_timing_exe/src_329.xml\n",
      "Error processing source file: Source file not found: /home/XXX/trace-modeling-oss-fuzz-c/trace_test/traces/sudoers_own/trace_fuzz_iosrc_timing_exe/src_274.xml\n",
      "Error processing source file: Source file not found: /home/XXX/trace-modeling-oss-fuzz-c/trace_test/traces/sudoers_own/trace_fuzz_iosrc_timing_exe/src_121.xml\n",
      "Error processing source file: Source file not found: /home/XXX/trace-modeling-oss-fuzz-c/trace_test/traces/sudoers_own/trace_fuzz_iosrc_timing_exe/src_294.xml\n",
      "Error processing source file: Source file not found: /home/XXX/trace-modeling-oss-fuzz-c/trace_test/traces/sudoers_own/trace_fuzz_iosrc_timing_exe/src_275.xml\n",
      "Error processing source file: Source file not found: /home/XXX/trace-modeling-oss-fuzz-c/trace_test/traces/sudoers_own/trace_fuzz_iosrc_timing_exe/src_112.xml\n",
      "Error processing source file: Source file not found: /home/XXX/trace-modeling-oss-fuzz-c/trace_test/traces/sudoers_own/trace_fuzz_iosrc_timing_exe/src_256.xml\n",
      "Error processing source file: Source file not found: /home/XXX/trace-modeling-oss-fuzz-c/trace_test/traces/sudoers_own/trace_fuzz_iosrc_timing_exe/src_174.xml\n",
      "Error processing source file: Source file not found: /home/XXX/trace-modeling-oss-fuzz-c/trace_test/traces/sudoers_own/trace_fuzz_iosrc_timing_exe/src_302.xml\n",
      "Error processing source file: Source file not found: /home/XXX/trace-modeling-oss-fuzz-c/trace_test/traces/sudoers_own/trace_fuzz_iosrc_timing_exe/src_271.xml\n",
      "Error processing source file: Source file not found: /home/XXX/trace-modeling-oss-fuzz-c/trace_test/traces/sudoers_own/trace_fuzz_iosrc_timing_exe/src_288.xml\n",
      "Error processing source file: Source file not found: /home/XXX/trace-modeling-oss-fuzz-c/trace_test/traces/sudoers_own/trace_fuzz_iosrc_timing_exe/src_369.xml\n",
      "Error processing source file: Source file not found: /home/XXX/trace-modeling-oss-fuzz-c/trace_test/traces/sudoers_own/trace_fuzz_iosrc_timing_exe/src_317.xml\n",
      "Error processing source file: Source file not found: /home/XXX/trace-modeling-oss-fuzz-c/trace_test/traces/sudoers_own/trace_fuzz_iosrc_timing_exe/src_306.xml\n",
      "Error processing source file: Source file not found: /home/XXX/trace-modeling-oss-fuzz-c/trace_test/traces/sudoers_own/trace_fuzz_iosrc_timing_exe/src_1.xml\n",
      "Error processing source file: Source file not found: /home/XXX/trace-modeling-oss-fuzz-c/trace_test/traces/sudoers_own/trace_fuzz_iosrc_timing_exe/src_92.xml\n",
      "Error processing source file: Source file not found: /home/XXX/trace-modeling-oss-fuzz-c/trace_test/traces/sudoers_own/trace_fuzz_iosrc_timing_exe/src_34.xml\n",
      "Error processing source file: Source file not found: /home/XXX/trace-modeling-oss-fuzz-c/trace_test/traces/sudoers_own/trace_fuzz_iosrc_timing_exe/src_113.xml\n",
      "Error processing source file: Source file not found: /home/XXX/trace-modeling-oss-fuzz-c/trace_test/traces/sudoers_own/trace_fuzz_iosrc_timing_exe/src_137.xml\n",
      "Error processing source file: Source file not found: /home/XXX/trace-modeling-oss-fuzz-c/trace_test/traces/sudoers_own/trace_fuzz_iosrc_timing_exe/src_75.xml\n",
      "Error processing source file: Source file not found: /home/XXX/trace-modeling-oss-fuzz-c/trace_test/traces/sudoers_own/trace_fuzz_iosrc_timing_exe/src_162.xml\n",
      "Error processing source file: Source file not found: /home/XXX/trace-modeling-oss-fuzz-c/trace_test/traces/sudoers_own/trace_fuzz_iosrc_timing_exe/src_229.xml\n",
      "Error processing source file: Source file not found: /home/XXX/trace-modeling-oss-fuzz-c/trace_test/traces/sudoers_own/trace_fuzz_iosrc_timing_exe/src_127.xml\n",
      "Error processing source file: Source file not found: /home/XXX/trace-modeling-oss-fuzz-c/trace_test/traces/sudoers_own/trace_fuzz_iosrc_timing_exe/src_83.xml\n",
      "Error processing source file: Source file not found: /home/XXX/trace-modeling-oss-fuzz-c/trace_test/traces/sudoers_own/trace_fuzz_iosrc_timing_exe/src_332.xml\n",
      "Error processing source file: Source file not found: /home/XXX/trace-modeling-oss-fuzz-c/trace_test/traces/sudoers_own/trace_fuzz_iosrc_timing_exe/src_160.xml\n",
      "Error processing source file: Source file not found: /home/XXX/trace-modeling-oss-fuzz-c/trace_test/traces/sudoers_own/trace_fuzz_iosrc_timing_exe/src_285.xml\n",
      "Error processing source file: Source file not found: /home/XXX/trace-modeling-oss-fuzz-c/trace_test/traces/sudoers_own/trace_fuzz_iosrc_timing_exe/src_47.xml\n",
      "Error processing source file: Source file not found: /home/XXX/trace-modeling-oss-fuzz-c/trace_test/traces/sudoers_own/trace_fuzz_iosrc_timing_exe/src_52.xml\n",
      "Error processing source file: Source file not found: /home/XXX/trace-modeling-oss-fuzz-c/trace_test/traces/sudoers_own/trace_fuzz_iosrc_timing_exe/src_177.xml\n",
      "Error processing source file: Source file not found: /home/XXX/trace-modeling-oss-fuzz-c/trace_test/traces/sudoers_own/trace_fuzz_iosrc_timing_exe/src_48.xml\n",
      "Error processing source file: Source file not found: /home/XXX/trace-modeling-oss-fuzz-c/trace_test/traces/sudoers_own/trace_fuzz_iosrc_timing_exe/src_2.xml\n",
      "Error processing source file: Source file not found: /home/XXX/trace-modeling-oss-fuzz-c/trace_test/traces/sudoers_own/trace_fuzz_iosrc_timing_exe/src_29.xml\n",
      "Error processing source file: Source file not found: /home/XXX/trace-modeling-oss-fuzz-c/trace_test/traces/sudoers_own/trace_fuzz_iosrc_timing_exe/src_299.xml\n",
      "Error processing source file: Source file not found: /home/XXX/trace-modeling-oss-fuzz-c/trace_test/traces/sudoers_own/trace_fuzz_iosrc_timing_exe/src_139.xml\n",
      "Error processing source file: Source file not found: /home/XXX/trace-modeling-oss-fuzz-c/trace_test/traces/sudoers_own/trace_fuzz_iosrc_timing_exe/src_51.xml\n",
      "Error processing source file: Source file not found: /home/XXX/trace-modeling-oss-fuzz-c/trace_test/traces/sudoers_own/trace_fuzz_iosrc_timing_exe/src_216.xml\n",
      "Error processing source file: Source file not found: /home/XXX/trace-modeling-oss-fuzz-c/trace_test/traces/sudoers_own/trace_fuzz_iosrc_timing_exe/src_295.xml\n",
      "Error processing source file: Source file not found: /home/XXX/trace-modeling-oss-fuzz-c/trace_test/traces/sudoers_own/trace_fuzz_iosrc_timing_exe/src_163.xml\n",
      "Error processing source file: Source file not found: /home/XXX/trace-modeling-oss-fuzz-c/trace_test/traces/sudoers_own/trace_fuzz_iosrc_timing_exe/src_68.xml\n",
      "Error processing source file: Source file not found: /home/XXX/trace-modeling-oss-fuzz-c/trace_test/traces/sudoers_own/trace_fuzz_iosrc_timing_exe/src_361.xml\n",
      "Error processing source file: Source file not found: /home/XXX/trace-modeling-oss-fuzz-c/trace_test/traces/sudoers_own/trace_fuzz_iosrc_timing_exe/src_210.xml\n",
      "Error processing source file: Source file not found: /home/XXX/trace-modeling-oss-fuzz-c/trace_test/traces/sudoers_own/trace_fuzz_iosrc_timing_exe/src_377.xml\n",
      "Error processing source file: Source file not found: /home/XXX/trace-modeling-oss-fuzz-c/trace_test/traces/sudoers_own/trace_fuzz_iosrc_timing_exe/src_230.xml\n",
      "Error processing source file: Source file not found: /home/XXX/trace-modeling-oss-fuzz-c/trace_test/traces/sudoers_own/trace_fuzz_iosrc_timing_exe/src_214.xml\n",
      "Error processing source file: Source file not found: /home/XXX/trace-modeling-oss-fuzz-c/trace_test/traces/sudoers_own/trace_fuzz_iosrc_timing_exe/src_232.xml\n",
      "Error processing source file: Source file not found: /home/XXX/trace-modeling-oss-fuzz-c/trace_test/traces/sudoers_own/trace_fuzz_iosrc_timing_exe/src_296.xml\n",
      "Error processing source file: Source file not found: /home/XXX/trace-modeling-oss-fuzz-c/trace_test/traces/sudoers_own/trace_fuzz_iosrc_timing_exe/src_124.xml\n",
      "Error processing source file: Source file not found: /home/XXX/trace-modeling-oss-fuzz-c/trace_test/traces/sudoers_own/trace_fuzz_iosrc_timing_exe/src_251.xml\n",
      "Error processing source file: Source file not found: /home/XXX/trace-modeling-oss-fuzz-c/trace_test/traces/sudoers_own/trace_fuzz_iosrc_timing_exe/src_57.xml\n",
      "Error processing source file: Source file not found: /home/XXX/trace-modeling-oss-fuzz-c/trace_test/traces/sudoers_own/trace_fuzz_iosrc_timing_exe/src_234.xml\n",
      "Error processing source file: Source file not found: /home/XXX/trace-modeling-oss-fuzz-c/trace_test/traces/sudoers_own/trace_fuzz_iosrc_timing_exe/src_270.xml\n",
      "Error processing source file: Source file not found: /home/XXX/trace-modeling-oss-fuzz-c/trace_test/traces/sudoers_own/trace_fuzz_iosrc_timing_exe/src_6.xml\n",
      "Error processing source file: Source file not found: /home/XXX/trace-modeling-oss-fuzz-c/trace_test/traces/sudoers_own/trace_fuzz_iosrc_timing_exe/src_77.xml\n",
      "Error processing source file: Source file not found: /home/XXX/trace-modeling-oss-fuzz-c/trace_test/traces/sudoers_own/trace_fuzz_iosrc_timing_exe/src_357.xml\n",
      "Error processing source file: Source file not found: /home/XXX/trace-modeling-oss-fuzz-c/trace_test/traces/sudoers_own/trace_fuzz_iosrc_timing_exe/src_151.xml\n",
      "Error processing source file: Source file not found: /home/XXX/trace-modeling-oss-fuzz-c/trace_test/traces/sudoers_own/trace_fuzz_iosrc_timing_exe/src_145.xml\n",
      "Error processing source file: Source file not found: /home/XXX/trace-modeling-oss-fuzz-c/trace_test/traces/sudoers_own/trace_fuzz_iosrc_timing_exe/src_334.xml\n",
      "Error processing source file: Source file not found: /home/XXX/trace-modeling-oss-fuzz-c/trace_test/traces/sudoers_own/trace_fuzz_iosrc_timing_exe/src_212.xml\n",
      "Error processing source file: Source file not found: /home/XXX/trace-modeling-oss-fuzz-c/trace_test/traces/sudoers_own/trace_fuzz_iosrc_timing_exe/src_94.xml\n",
      "Error processing source file: Source file not found: /home/XXX/trace-modeling-oss-fuzz-c/trace_test/traces/sudoers_own/trace_fuzz_iosrc_timing_exe/src_11.xml\n",
      "Error processing source file: Source file not found: /home/XXX/trace-modeling-oss-fuzz-c/trace_test/traces/sudoers_own/trace_fuzz_iosrc_timing_exe/src_368.xml\n",
      "Error processing source file: Source file not found: /home/XXX/trace-modeling-oss-fuzz-c/trace_test/traces/sudoers_own/trace_fuzz_iosrc_timing_exe/src_196.xml\n",
      "Error processing source file: Source file not found: /home/XXX/trace-modeling-oss-fuzz-c/trace_test/traces/sudoers_own/trace_fuzz_iosrc_timing_exe/src_114.xml\n",
      "Error processing source file: Source file not found: /home/XXX/trace-modeling-oss-fuzz-c/trace_test/traces/sudoers_own/trace_fuzz_iosrc_timing_exe/src_90.xml\n",
      "Error processing source file: Source file not found: /home/XXX/trace-modeling-oss-fuzz-c/trace_test/traces/sudoers_own/trace_fuzz_iosrc_timing_exe/src_122.xml\n",
      "Error processing source file: Source file not found: /home/XXX/trace-modeling-oss-fuzz-c/trace_test/traces/sudoers_own/trace_fuzz_iosrc_timing_exe/src_241.xml\n",
      "Error processing source file: Source file not found: /home/XXX/trace-modeling-oss-fuzz-c/trace_test/traces/sudoers_own/trace_fuzz_iosrc_timing_exe/src_202.xml\n",
      "Error processing source file: Source file not found: /home/XXX/trace-modeling-oss-fuzz-c/trace_test/traces/sudoers_own/trace_fuzz_iosrc_timing_exe/src_148.xml\n",
      "Error processing source file: Source file not found: /home/XXX/trace-modeling-oss-fuzz-c/trace_test/traces/sudoers_own/trace_fuzz_iosrc_timing_exe/src_133.xml\n",
      "Error processing source file: Source file not found: /home/XXX/trace-modeling-oss-fuzz-c/trace_test/traces/sudoers_own/trace_fuzz_iosrc_timing_exe/src_207.xml\n",
      "Error processing source file: Source file not found: /home/XXX/trace-modeling-oss-fuzz-c/trace_test/traces/sudoers_own/trace_fuzz_iosrc_timing_exe/src_4.xml\n",
      "Error processing source file: Source file not found: /home/XXX/trace-modeling-oss-fuzz-c/trace_test/traces/sudoers_own/trace_fuzz_iosrc_timing_exe/src_39.xml\n",
      "Error processing source file: Source file not found: /home/XXX/trace-modeling-oss-fuzz-c/trace_test/traces/sudoers_own/trace_fuzz_iosrc_timing_exe/src_297.xml\n",
      "Error processing source file: Source file not found: /home/XXX/trace-modeling-oss-fuzz-c/trace_test/traces/sudoers_own/trace_fuzz_iosrc_timing_exe/src_66.xml\n",
      "Error processing source file: Source file not found: /home/XXX/trace-modeling-oss-fuzz-c/trace_test/traces/sudoers_own/trace_fuzz_iosrc_timing_exe/src_247.xml\n",
      "Error processing source file: Source file not found: /home/XXX/trace-modeling-oss-fuzz-c/trace_test/traces/sudoers_own/trace_fuzz_iosrc_timing_exe/src_102.xml\n",
      "Error processing source file: Source file not found: /home/XXX/trace-modeling-oss-fuzz-c/trace_test/traces/sudoers_own/trace_fuzz_iosrc_timing_exe/src_197.xml\n",
      "Error processing source file: Source file not found: /home/XXX/trace-modeling-oss-fuzz-c/trace_test/traces/sudoers_own/trace_fuzz_iosrc_timing_exe/src_355.xml\n",
      "Error processing source file: Source file not found: /home/XXX/trace-modeling-oss-fuzz-c/trace_test/traces/sudoers_own/trace_fuzz_iosrc_timing_exe/src_8.xml\n",
      "Error processing source file: Source file not found: /home/XXX/trace-modeling-oss-fuzz-c/trace_test/traces/sudoers_own/trace_fuzz_iosrc_timing_exe/src_82.xml\n",
      "Error processing source file: Source file not found: /home/XXX/trace-modeling-oss-fuzz-c/trace_test/traces/sudoers_own/trace_fuzz_iosrc_timing_exe/src_111.xml\n",
      "Error processing source file: Source file not found: /home/XXX/trace-modeling-oss-fuzz-c/trace_test/traces/sudoers_own/trace_fuzz_iosrc_timing_exe/src_126.xml\n",
      "Error processing source file: Source file not found: /home/XXX/trace-modeling-oss-fuzz-c/trace_test/traces/sudoers_own/trace_fuzz_iosrc_timing_exe/src_84.xml\n",
      "Error processing source file: Source file not found: /home/XXX/trace-modeling-oss-fuzz-c/trace_test/traces/sudoers_own/trace_fuzz_iosrc_timing_exe/src_335.xml\n",
      "Error processing source file: Source file not found: /home/XXX/trace-modeling-oss-fuzz-c/trace_test/traces/sudoers_own/trace_fuzz_iosrc_timing_exe/src_195.xml\n",
      "Error processing source file: Source file not found: /home/XXX/trace-modeling-oss-fuzz-c/trace_test/traces/sudoers_own/trace_fuzz_iosrc_timing_exe/src_301.xml\n",
      "Error processing source file: Source file not found: /home/XXX/trace-modeling-oss-fuzz-c/trace_test/traces/sudoers_own/trace_fuzz_iosrc_timing_exe/src_16.xml\n",
      "Error processing source file: Source file not found: /home/XXX/trace-modeling-oss-fuzz-c/trace_test/traces/sudoers_own/trace_fuzz_iosrc_timing_exe/src_267.xml\n",
      "Error processing source file: Source file not found: /home/XXX/trace-modeling-oss-fuzz-c/trace_test/traces/sudoers_own/trace_fuzz_iosrc_timing_exe/src_305.xml\n",
      "Error processing source file: Source file not found: /home/XXX/trace-modeling-oss-fuzz-c/trace_test/traces/sudoers_own/trace_fuzz_iosrc_timing_exe/src_186.xml\n",
      "Error processing source file: Source file not found: /home/XXX/trace-modeling-oss-fuzz-c/trace_test/traces/sudoers_own/trace_fuzz_iosrc_timing_exe/src_321.xml\n",
      "Error processing source file: Source file not found: /home/XXX/trace-modeling-oss-fuzz-c/trace_test/traces/sudoers_own/trace_fuzz_iosrc_timing_exe/src_337.xml\n",
      "Error processing source file: Source file not found: /home/XXX/trace-modeling-oss-fuzz-c/trace_test/traces/sudoers_own/trace_fuzz_iosrc_timing_exe/src_273.xml\n",
      "Error processing source file: Source file not found: /home/XXX/trace-modeling-oss-fuzz-c/trace_test/traces/sudoers_own/trace_fuzz_iosrc_timing_exe/src_58.xml\n",
      "Error processing source file: Source file not found: /home/XXX/trace-modeling-oss-fuzz-c/trace_test/traces/sudoers_own/trace_fuzz_iosrc_timing_exe/src_374.xml\n",
      "Error processing source file: Source file not found: /home/XXX/trace-modeling-oss-fuzz-c/trace_test/traces/sudoers_own/trace_fuzz_iosrc_timing_exe/src_346.xml\n",
      "Error processing source file: Source file not found: /home/XXX/trace-modeling-oss-fuzz-c/trace_test/traces/sudoers_own/trace_fuzz_iosrc_timing_exe/src_190.xml\n",
      "Error processing source file: Source file not found: /home/XXX/trace-modeling-oss-fuzz-c/trace_test/traces/sudoers_own/trace_fuzz_iosrc_timing_exe/src_367.xml\n",
      "Error processing source file: Source file not found: /home/XXX/trace-modeling-oss-fuzz-c/trace_test/traces/sudoers_own/trace_fuzz_iosrc_timing_exe/src_18.xml\n",
      "Error processing source file: Source file not found: /home/XXX/trace-modeling-oss-fuzz-c/trace_test/traces/sudoers_own/trace_fuzz_iosrc_timing_exe/src_79.xml\n",
      "Error processing source file: Source file not found: /home/XXX/trace-modeling-oss-fuzz-c/trace_test/traces/sudoers_own/trace_fuzz_iosrc_timing_exe/src_35.xml\n",
      "Error processing source file: Source file not found: /home/XXX/trace-modeling-oss-fuzz-c/trace_test/traces/sudoers_own/trace_fuzz_iosrc_timing_exe/src_362.xml\n",
      "Error processing source file: Source file not found: /home/XXX/trace-modeling-oss-fuzz-c/trace_test/traces/sudoers_own/trace_fuzz_iosrc_timing_exe/src_259.xml\n",
      "Error processing source file: Source file not found: /home/XXX/trace-modeling-oss-fuzz-c/trace_test/traces/sudoers_own/trace_fuzz_iosrc_timing_exe/src_97.xml\n",
      "Error processing source file: Source file not found: /home/XXX/trace-modeling-oss-fuzz-c/trace_test/traces/sudoers_own/trace_fuzz_iosrc_timing_exe/src_358.xml\n",
      "Error processing source file: Source file not found: /home/XXX/trace-modeling-oss-fuzz-c/trace_test/traces/sudoers_own/trace_fuzz_iosrc_timing_exe/src_249.xml\n",
      "Error processing source file: Source file not found: /home/XXX/trace-modeling-oss-fuzz-c/trace_test/traces/sudoers_own/trace_fuzz_iosrc_timing_exe/src_307.xml\n",
      "Error processing source file: Source file not found: /home/XXX/trace-modeling-oss-fuzz-c/trace_test/traces/sudoers_own/trace_fuzz_iosrc_timing_exe/src_154.xml\n",
      "Error processing source file: Source file not found: /home/XXX/trace-modeling-oss-fuzz-c/trace_test/traces/sudoers_own/trace_fuzz_iosrc_timing_exe/src_326.xml\n",
      "Error processing source file: Source file not found: /home/XXX/trace-modeling-oss-fuzz-c/trace_test/traces/sudoers_own/trace_fuzz_iosrc_timing_exe/src_56.xml\n",
      "Error processing source file: Source file not found: /home/XXX/trace-modeling-oss-fuzz-c/trace_test/traces/sudoers_own/trace_fuzz_iosrc_timing_exe/src_138.xml\n",
      "Error processing source file: Source file not found: /home/XXX/trace-modeling-oss-fuzz-c/trace_test/traces/sudoers_own/trace_fuzz_iosrc_timing_exe/src_50.xml\n",
      "Error processing source file: Source file not found: /home/XXX/trace-modeling-oss-fuzz-c/trace_test/traces/sudoers_own/trace_fuzz_iosrc_timing_exe/src_235.xml\n",
      "Error processing source file: Source file not found: /home/XXX/trace-modeling-oss-fuzz-c/trace_test/traces/sudoers_own/trace_fuzz_iosrc_timing_exe/src_55.xml\n",
      "Error processing source file: Source file not found: /home/XXX/trace-modeling-oss-fuzz-c/trace_test/traces/sudoers_own/trace_fuzz_iosrc_timing_exe/src_339.xml\n",
      "Error processing source file: Source file not found: /home/XXX/trace-modeling-oss-fuzz-c/trace_test/traces/sudoers_own/trace_fuzz_iosrc_timing_exe/src_224.xml\n",
      "Error processing source file: Source file not found: /home/XXX/trace-modeling-oss-fuzz-c/trace_test/traces/sudoers_own/trace_fuzz_iosrc_timing_exe/src_7.xml\n",
      "Error processing source file: Source file not found: /home/XXX/trace-modeling-oss-fuzz-c/trace_test/traces/sudoers_own/trace_fuzz_iosrc_timing_exe/src_95.xml\n",
      "Error processing source file: Source file not found: /home/XXX/trace-modeling-oss-fuzz-c/trace_test/traces/sudoers_own/trace_fuzz_iosrc_timing_exe/src_74.xml\n",
      "Error processing source file: Source file not found: /home/XXX/trace-modeling-oss-fuzz-c/trace_test/traces/sudoers_own/trace_fuzz_iosrc_timing_exe/src_328.xml\n",
      "Error processing source file: Source file not found: /home/XXX/trace-modeling-oss-fuzz-c/trace_test/traces/sudoers_own/trace_fuzz_iosrc_timing_exe/src_9.xml\n",
      "Error processing source file: Source file not found: /home/XXX/trace-modeling-oss-fuzz-c/trace_test/traces/sudoers_own/trace_fuzz_iosrc_timing_exe/src_23.xml\n",
      "Error processing source file: Source file not found: /home/XXX/trace-modeling-oss-fuzz-c/trace_test/traces/sudoers_own/trace_fuzz_iosrc_timing_exe/src_278.xml\n",
      "Error processing source file: Source file not found: /home/XXX/trace-modeling-oss-fuzz-c/trace_test/traces/sudoers_own/trace_fuzz_iosrc_timing_exe/src_201.xml\n",
      "Error processing source file: Source file not found: /home/XXX/trace-modeling-oss-fuzz-c/trace_test/traces/sudoers_own/trace_fuzz_iosrc_timing_exe/src_156.xml\n",
      "Error processing source file: Source file not found: /home/XXX/trace-modeling-oss-fuzz-c/trace_test/traces/sudoers_own/trace_fuzz_iosrc_timing_exe/src_353.xml\n",
      "Error processing source file: Source file not found: /home/XXX/trace-modeling-oss-fuzz-c/trace_test/traces/sudoers_own/trace_fuzz_iosrc_timing_exe/src_59.xml\n",
      "Error processing source file: Source file not found: /home/XXX/trace-modeling-oss-fuzz-c/trace_test/traces/sudoers_own/trace_fuzz_iosrc_timing_exe/src_131.xml\n",
      "Error processing source file: Source file not found: /home/XXX/trace-modeling-oss-fuzz-c/trace_test/traces/sudoers_own/trace_fuzz_sudoers_exe/src_2.xml\n",
      " 55%|█████▌    | 21488/39034 [52:03<00:17, 1004.06it/s]"
     ]
    },
    {
     "name": "stdout",
     "output_type": "stream",
     "text": [
      "Error generating signature: [Errno 2] No such file or directory: '/home/XXX/trace-modeling-oss-fuzz-c/trace_test/traces/sudoers_own/trace_fuzz_iosrc_timing_exe/src_200.xml'\n",
      "Error generating signature: [Errno 2] No such file or directory: '/home/XXX/trace-modeling-oss-fuzz-c/trace_test/traces/sudoers_own/trace_fuzz_iosrc_timing_exe/src_130.xml'\n",
      "Error generating signature: [Errno 2] No such file or directory: '/home/XXX/trace-modeling-oss-fuzz-c/trace_test/traces/sudoers_own/trace_fuzz_iosrc_timing_exe/src_239.xml'\n",
      "Error generating signature: [Errno 2] No such file or directory: '/home/XXX/trace-modeling-oss-fuzz-c/trace_test/traces/sudoers_own/trace_fuzz_iosrc_timing_exe/src_376.xml'\n",
      "Error generating signature: [Errno 2] No such file or directory: '/home/XXX/trace-modeling-oss-fuzz-c/trace_test/traces/sudoers_own/trace_fuzz_iosrc_timing_exe/src_221.xml'\n",
      "Error generating signature: [Errno 2] No such file or directory: '/home/XXX/trace-modeling-oss-fuzz-c/trace_test/traces/sudoers_own/trace_fuzz_iosrc_timing_exe/src_69.xml'\n",
      "Error generating signature: [Errno 2] No such file or directory: '/home/XXX/trace-modeling-oss-fuzz-c/trace_test/traces/sudoers_own/trace_fuzz_iosrc_timing_exe/src_220.xml'\n",
      "Error generating signature: [Errno 2] No such file or directory: '/home/XXX/trace-modeling-oss-fuzz-c/trace_test/traces/sudoers_own/trace_fuzz_iosrc_timing_exe/src_93.xml'\n",
      "Error generating signature: [Errno 2] No such file or directory: '/home/XXX/trace-modeling-oss-fuzz-c/trace_test/traces/sudoers_own/trace_fuzz_iosrc_timing_exe/src_140.xml'\n",
      "Error generating signature: [Errno 2] No such file or directory: '/home/XXX/trace-modeling-oss-fuzz-c/trace_test/traces/sudoers_own/trace_fuzz_iosrc_timing_exe/src_311.xml'\n",
      "Error generating signature: [Errno 2] No such file or directory: '/home/XXX/trace-modeling-oss-fuzz-c/trace_test/traces/sudoers_own/trace_fuzz_iosrc_timing_exe/src_164.xml'\n",
      "Error generating signature: [Errno 2] No such file or directory: '/home/XXX/trace-modeling-oss-fuzz-c/trace_test/traces/sudoers_own/trace_fuzz_iosrc_timing_exe/src_304.xml'\n",
      "Error generating signature: [Errno 2] No such file or directory: '/home/XXX/trace-modeling-oss-fuzz-c/trace_test/traces/sudoers_own/trace_fuzz_iosrc_timing_exe/src_292.xml'\n",
      "Error generating signature: [Errno 2] No such file or directory: '/home/XXX/trace-modeling-oss-fuzz-c/trace_test/traces/sudoers_own/trace_fuzz_iosrc_timing_exe/src_319.xml'\n",
      "Error generating signature: [Errno 2] No such file or directory: '/home/XXX/trace-modeling-oss-fuzz-c/trace_test/traces/sudoers_own/trace_fuzz_iosrc_timing_exe/src_98.xml'\n",
      "Error generating signature: [Errno 2] No such file or directory: '/home/XXX/trace-modeling-oss-fuzz-c/trace_test/traces/sudoers_own/trace_fuzz_iosrc_timing_exe/src_354.xml'\n",
      "Error generating signature: [Errno 2] No such file or directory: '/home/XXX/trace-modeling-oss-fuzz-c/trace_test/traces/sudoers_own/trace_fuzz_iosrc_timing_exe/src_0.xml'\n",
      "Error generating signature: [Errno 2] No such file or directory: '/home/XXX/trace-modeling-oss-fuzz-c/trace_test/traces/sudoers_own/trace_fuzz_iosrc_timing_exe/src_31.xml'\n",
      "Error generating signature: [Errno 2] No such file or directory: '/home/XXX/trace-modeling-oss-fuzz-c/trace_test/traces/sudoers_own/trace_fuzz_iosrc_timing_exe/src_41.xml'\n",
      "Error generating signature: [Errno 2] No such file or directory: '/home/XXX/trace-modeling-oss-fuzz-c/trace_test/traces/sudoers_own/trace_fuzz_iosrc_timing_exe/src_191.xml'\n",
      "Error generating signature: [Errno 2] No such file or directory: '/home/XXX/trace-modeling-oss-fuzz-c/trace_test/traces/sudoers_own/trace_fuzz_iosrc_timing_exe/src_182.xml'\n",
      "Error generating signature: [Errno 2] No such file or directory: '/home/XXX/trace-modeling-oss-fuzz-c/trace_test/traces/sudoers_own/trace_fuzz_iosrc_timing_exe/src_250.xml'\n",
      "Error generating signature: [Errno 2] No such file or directory: '/home/XXX/trace-modeling-oss-fuzz-c/trace_test/traces/sudoers_own/trace_fuzz_iosrc_timing_exe/src_136.xml'\n",
      "Error generating signature: [Errno 2] No such file or directory: '/home/XXX/trace-modeling-oss-fuzz-c/trace_test/traces/sudoers_own/trace_fuzz_iosrc_timing_exe/src_91.xml'\n",
      "Error generating signature: [Errno 2] No such file or directory: '/home/XXX/trace-modeling-oss-fuzz-c/trace_test/traces/sudoers_own/trace_fuzz_iosrc_timing_exe/src_129.xml'\n",
      "Error generating signature: [Errno 2] No such file or directory: '/home/XXX/trace-modeling-oss-fuzz-c/trace_test/traces/sudoers_own/trace_fuzz_iosrc_timing_exe/src_128.xml'\n",
      "Error generating signature: [Errno 2] No such file or directory: '/home/XXX/trace-modeling-oss-fuzz-c/trace_test/traces/sudoers_own/trace_fuzz_iosrc_timing_exe/src_298.xml'\n",
      "Error generating signature: [Errno 2] No such file or directory: '/home/XXX/trace-modeling-oss-fuzz-c/trace_test/traces/sudoers_own/trace_fuzz_iosrc_timing_exe/src_71.xml'\n",
      "Error generating signature: [Errno 2] No such file or directory: '/home/XXX/trace-modeling-oss-fuzz-c/trace_test/traces/sudoers_own/trace_fuzz_iosrc_timing_exe/src_333.xml'\n",
      "Error generating signature: [Errno 2] No such file or directory: '/home/XXX/trace-modeling-oss-fuzz-c/trace_test/traces/sudoers_own/trace_fuzz_iosrc_timing_exe/src_142.xml'\n",
      "Error generating signature: [Errno 2] No such file or directory: '/home/XXX/trace-modeling-oss-fuzz-c/trace_test/traces/sudoers_own/trace_fuzz_iosrc_timing_exe/src_70.xml'\n",
      "Error generating signature: [Errno 2] No such file or directory: '/home/XXX/trace-modeling-oss-fuzz-c/trace_test/traces/sudoers_own/trace_fuzz_iosrc_timing_exe/src_43.xml'\n",
      "Error generating signature: [Errno 2] No such file or directory: '/home/XXX/trace-modeling-oss-fuzz-c/trace_test/traces/sudoers_own/trace_fuzz_iosrc_timing_exe/src_290.xml'\n",
      "Error generating signature: [Errno 2] No such file or directory: '/home/XXX/trace-modeling-oss-fuzz-c/trace_test/traces/sudoers_own/trace_fuzz_iosrc_timing_exe/src_269.xml'\n",
      "Error generating signature: [Errno 2] No such file or directory: '/home/XXX/trace-modeling-oss-fuzz-c/trace_test/traces/sudoers_own/trace_fuzz_iosrc_timing_exe/src_309.xml'\n",
      "Error generating signature: [Errno 2] No such file or directory: '/home/XXX/trace-modeling-oss-fuzz-c/trace_test/traces/sudoers_own/trace_fuzz_iosrc_timing_exe/src_254.xml'\n",
      "Error generating signature: [Errno 2] No such file or directory: '/home/XXX/trace-modeling-oss-fuzz-c/trace_test/traces/sudoers_own/trace_fuzz_iosrc_timing_exe/src_116.xml'\n",
      "\n",
      "Processed 20960/39034 files\n",
      "Current unique count: 419\n",
      "Error generating signature: [Errno 2] No such file or directory: '/home/XXX/trace-modeling-oss-fuzz-c/trace_test/traces/sudoers_own/trace_fuzz_iosrc_timing_exe/src_181.xml'\n",
      "Error generating signature: [Errno 2] No such file or directory: '/home/XXX/trace-modeling-oss-fuzz-c/trace_test/traces/sudoers_own/trace_fuzz_iosrc_timing_exe/src_19.xml'\n",
      "Error generating signature: [Errno 2] No such file or directory: '/home/XXX/trace-modeling-oss-fuzz-c/trace_test/traces/sudoers_own/trace_fuzz_iosrc_timing_exe/src_165.xml'\n",
      "Error generating signature: [Errno 2] No such file or directory: '/home/XXX/trace-modeling-oss-fuzz-c/trace_test/traces/sudoers_own/trace_fuzz_iosrc_timing_exe/src_49.xml'\n",
      "Error generating signature: [Errno 2] No such file or directory: '/home/XXX/trace-modeling-oss-fuzz-c/trace_test/traces/sudoers_own/trace_fuzz_iosrc_timing_exe/src_61.xml'\n",
      "Error generating signature: [Errno 2] No such file or directory: '/home/XXX/trace-modeling-oss-fuzz-c/trace_test/traces/sudoers_own/trace_fuzz_iosrc_timing_exe/src_276.xml'\n",
      "Error generating signature: [Errno 2] No such file or directory: '/home/XXX/trace-modeling-oss-fuzz-c/trace_test/traces/sudoers_own/trace_fuzz_iosrc_timing_exe/src_284.xml'\n",
      "Error generating signature: [Errno 2] No such file or directory: '/home/XXX/trace-modeling-oss-fuzz-c/trace_test/traces/sudoers_own/trace_fuzz_iosrc_timing_exe/src_342.xml'\n",
      "Error generating signature: [Errno 2] No such file or directory: '/home/XXX/trace-modeling-oss-fuzz-c/trace_test/traces/sudoers_own/trace_fuzz_iosrc_timing_exe/src_172.xml'\n",
      "Error generating signature: [Errno 2] No such file or directory: '/home/XXX/trace-modeling-oss-fuzz-c/trace_test/traces/sudoers_own/trace_fuzz_iosrc_timing_exe/src_313.xml'\n",
      "Error generating signature: [Errno 2] No such file or directory: '/home/XXX/trace-modeling-oss-fuzz-c/trace_test/traces/sudoers_own/trace_fuzz_iosrc_timing_exe/src_192.xml'\n",
      "Error generating signature: [Errno 2] No such file or directory: '/home/XXX/trace-modeling-oss-fuzz-c/trace_test/traces/sudoers_own/trace_fuzz_iosrc_timing_exe/src_78.xml'\n",
      "Error generating signature: [Errno 2] No such file or directory: '/home/XXX/trace-modeling-oss-fuzz-c/trace_test/traces/sudoers_own/trace_fuzz_iosrc_timing_exe/src_248.xml'\n",
      "Error generating signature: [Errno 2] No such file or directory: '/home/XXX/trace-modeling-oss-fuzz-c/trace_test/traces/sudoers_own/trace_fuzz_iosrc_timing_exe/src_255.xml'\n",
      "Error generating signature: [Errno 2] No such file or directory: '/home/XXX/trace-modeling-oss-fuzz-c/trace_test/traces/sudoers_own/trace_fuzz_iosrc_timing_exe/src_375.xml'\n",
      "Error generating signature: [Errno 2] No such file or directory: '/home/XXX/trace-modeling-oss-fuzz-c/trace_test/traces/sudoers_own/trace_fuzz_iosrc_timing_exe/src_53.xml'\n",
      "Error generating signature: [Errno 2] No such file or directory: '/home/XXX/trace-modeling-oss-fuzz-c/trace_test/traces/sudoers_own/trace_fuzz_iosrc_timing_exe/src_169.xml'\n",
      "Error generating signature: [Errno 2] No such file or directory: '/home/XXX/trace-modeling-oss-fuzz-c/trace_test/traces/sudoers_own/trace_fuzz_iosrc_timing_exe/src_291.xml'\n",
      "Error generating signature: [Errno 2] No such file or directory: '/home/XXX/trace-modeling-oss-fuzz-c/trace_test/traces/sudoers_own/trace_fuzz_iosrc_timing_exe/src_179.xml'\n",
      "Error generating signature: [Errno 2] No such file or directory: '/home/XXX/trace-modeling-oss-fuzz-c/trace_test/traces/sudoers_own/trace_fuzz_iosrc_timing_exe/src_168.xml'\n",
      "Error generating signature: [Errno 2] No such file or directory: '/home/XXX/trace-modeling-oss-fuzz-c/trace_test/traces/sudoers_own/trace_fuzz_iosrc_timing_exe/src_171.xml'\n",
      "Error generating signature: [Errno 2] No such file or directory: '/home/XXX/trace-modeling-oss-fuzz-c/trace_test/traces/sudoers_own/trace_fuzz_iosrc_timing_exe/src_153.xml'\n",
      "Error generating signature: [Errno 2] No such file or directory: '/home/XXX/trace-modeling-oss-fuzz-c/trace_test/traces/sudoers_own/trace_fuzz_iosrc_timing_exe/src_65.xml'\n",
      "Error generating signature: [Errno 2] No such file or directory: '/home/XXX/trace-modeling-oss-fuzz-c/trace_test/traces/sudoers_own/trace_fuzz_iosrc_timing_exe/src_205.xml'\n",
      "Error generating signature: [Errno 2] No such file or directory: '/home/XXX/trace-modeling-oss-fuzz-c/trace_test/traces/sudoers_own/trace_fuzz_iosrc_timing_exe/src_211.xml'\n",
      "Error generating signature: [Errno 2] No such file or directory: '/home/XXX/trace-modeling-oss-fuzz-c/trace_test/traces/sudoers_own/trace_fuzz_iosrc_timing_exe/src_258.xml'\n",
      "Error generating signature: [Errno 2] No such file or directory: '/home/XXX/trace-modeling-oss-fuzz-c/trace_test/traces/sudoers_own/trace_fuzz_iosrc_timing_exe/src_238.xml'\n",
      "Error generating signature: [Errno 2] No such file or directory: '/home/XXX/trace-modeling-oss-fuzz-c/trace_test/traces/sudoers_own/trace_fuzz_iosrc_timing_exe/src_155.xml'\n",
      "Error generating signature: [Errno 2] No such file or directory: '/home/XXX/trace-modeling-oss-fuzz-c/trace_test/traces/sudoers_own/trace_fuzz_iosrc_timing_exe/src_150.xml'\n",
      "Error generating signature: [Errno 2] No such file or directory: '/home/XXX/trace-modeling-oss-fuzz-c/trace_test/traces/sudoers_own/trace_fuzz_iosrc_timing_exe/src_89.xml'\n",
      "Error generating signature: [Errno 2] No such file or directory: '/home/XXX/trace-modeling-oss-fuzz-c/trace_test/traces/sudoers_own/trace_fuzz_iosrc_timing_exe/src_5.xml'\n",
      "Error generating signature: [Errno 2] No such file or directory: '/home/XXX/trace-modeling-oss-fuzz-c/trace_test/traces/sudoers_own/trace_fuzz_iosrc_timing_exe/src_243.xml'\n",
      "Error generating signature: [Errno 2] No such file or directory: '/home/XXX/trace-modeling-oss-fuzz-c/trace_test/traces/sudoers_own/trace_fuzz_iosrc_timing_exe/src_103.xml'\n",
      "Error generating signature: [Errno 2] No such file or directory: '/home/XXX/trace-modeling-oss-fuzz-c/trace_test/traces/sudoers_own/trace_fuzz_iosrc_timing_exe/src_242.xml'\n",
      "Error generating signature: [Errno 2] No such file or directory: '/home/XXX/trace-modeling-oss-fuzz-c/trace_test/traces/sudoers_own/trace_fuzz_iosrc_timing_exe/src_15.xml'\n",
      "Error generating signature: [Errno 2] No such file or directory: '/home/XXX/trace-modeling-oss-fuzz-c/trace_test/traces/sudoers_own/trace_fuzz_iosrc_timing_exe/src_323.xml'\n",
      "Error generating signature: [Errno 2] No such file or directory: '/home/XXX/trace-modeling-oss-fuzz-c/trace_test/traces/sudoers_own/trace_fuzz_iosrc_timing_exe/src_233.xml'\n",
      "Error generating signature: [Errno 2] No such file or directory: '/home/XXX/trace-modeling-oss-fuzz-c/trace_test/traces/sudoers_own/trace_fuzz_iosrc_timing_exe/src_378.xml'\n",
      "Error generating signature: [Errno 2] No such file or directory: '/home/XXX/trace-modeling-oss-fuzz-c/trace_test/traces/sudoers_own/trace_fuzz_iosrc_timing_exe/src_360.xml'\n",
      "Error generating signature: [Errno 2] No such file or directory: '/home/XXX/trace-modeling-oss-fuzz-c/trace_test/traces/sudoers_own/trace_fuzz_iosrc_timing_exe/src_222.xml'\n",
      "Error generating signature: [Errno 2] No such file or directory: '/home/XXX/trace-modeling-oss-fuzz-c/trace_test/traces/sudoers_own/trace_fuzz_iosrc_timing_exe/src_351.xml'\n",
      "Error generating signature: [Errno 2] No such file or directory: '/home/XXX/trace-modeling-oss-fuzz-c/trace_test/traces/sudoers_own/trace_fuzz_iosrc_timing_exe/src_109.xml'\n",
      "Error generating signature: [Errno 2] No such file or directory: '/home/XXX/trace-modeling-oss-fuzz-c/trace_test/traces/sudoers_own/trace_fuzz_iosrc_timing_exe/src_10.xml'\n",
      "Error generating signature: [Errno 2] No such file or directory: '/home/XXX/trace-modeling-oss-fuzz-c/trace_test/traces/sudoers_own/trace_fuzz_iosrc_timing_exe/src_13.xml'\n",
      "Error generating signature: [Errno 2] No such file or directory: '/home/XXX/trace-modeling-oss-fuzz-c/trace_test/traces/sudoers_own/trace_fuzz_iosrc_timing_exe/src_12.xml'\n",
      "Error generating signature: [Errno 2] No such file or directory: '/home/XXX/trace-modeling-oss-fuzz-c/trace_test/traces/sudoers_own/trace_fuzz_iosrc_timing_exe/src_161.xml'\n",
      "Error generating signature: [Errno 2] No such file or directory: '/home/XXX/trace-modeling-oss-fuzz-c/trace_test/traces/sudoers_own/trace_fuzz_iosrc_timing_exe/src_356.xml'\n",
      "Error generating signature: [Errno 2] No such file or directory: '/home/XXX/trace-modeling-oss-fuzz-c/trace_test/traces/sudoers_own/trace_fuzz_iosrc_timing_exe/src_343.xml'\n",
      "Error generating signature: [Errno 2] No such file or directory: '/home/XXX/trace-modeling-oss-fuzz-c/trace_test/traces/sudoers_own/trace_fuzz_iosrc_timing_exe/src_3.xml'\n",
      "Error generating signature: [Errno 2] No such file or directory: '/home/XXX/trace-modeling-oss-fuzz-c/trace_test/traces/sudoers_own/trace_fuzz_iosrc_timing_exe/src_117.xml'\n",
      "Error generating signature: [Errno 2] No such file or directory: '/home/XXX/trace-modeling-oss-fuzz-c/trace_test/traces/sudoers_own/trace_fuzz_iosrc_timing_exe/src_280.xml'\n",
      "Error generating signature: [Errno 2] No such file or directory: '/home/XXX/trace-modeling-oss-fuzz-c/trace_test/traces/sudoers_own/trace_fuzz_iosrc_timing_exe/src_364.xml'\n",
      "Error generating signature: [Errno 2] No such file or directory: '/home/XXX/trace-modeling-oss-fuzz-c/trace_test/traces/sudoers_own/trace_fuzz_iosrc_timing_exe/src_206.xml'\n",
      "Error generating signature: [Errno 2] No such file or directory: '/home/XXX/trace-modeling-oss-fuzz-c/trace_test/traces/sudoers_own/trace_fuzz_iosrc_timing_exe/src_308.xml'\n",
      "Error generating signature: [Errno 2] No such file or directory: '/home/XXX/trace-modeling-oss-fuzz-c/trace_test/traces/sudoers_own/trace_fuzz_iosrc_timing_exe/src_158.xml'\n",
      "Error generating signature: [Errno 2] No such file or directory: '/home/XXX/trace-modeling-oss-fuzz-c/trace_test/traces/sudoers_own/trace_fuzz_iosrc_timing_exe/src_27.xml'\n",
      "Error generating signature: [Errno 2] No such file or directory: '/home/XXX/trace-modeling-oss-fuzz-c/trace_test/traces/sudoers_own/trace_fuzz_iosrc_timing_exe/src_359.xml'\n",
      "Error generating signature: [Errno 2] No such file or directory: '/home/XXX/trace-modeling-oss-fuzz-c/trace_test/traces/sudoers_own/trace_fuzz_iosrc_timing_exe/src_20.xml'\n",
      "Error generating signature: [Errno 2] No such file or directory: '/home/XXX/trace-modeling-oss-fuzz-c/trace_test/traces/sudoers_own/trace_fuzz_iosrc_timing_exe/src_347.xml'\n",
      "Error generating signature: [Errno 2] No such file or directory: '/home/XXX/trace-modeling-oss-fuzz-c/trace_test/traces/sudoers_own/trace_fuzz_iosrc_timing_exe/src_252.xml'\n",
      "Error generating signature: [Errno 2] No such file or directory: '/home/XXX/trace-modeling-oss-fuzz-c/trace_test/traces/sudoers_own/trace_fuzz_iosrc_timing_exe/src_166.xml'\n",
      "Error generating signature: [Errno 2] No such file or directory: '/home/XXX/trace-modeling-oss-fuzz-c/trace_test/traces/sudoers_own/trace_fuzz_iosrc_timing_exe/src_327.xml'\n",
      "Error generating signature: [Errno 2] No such file or directory: '/home/XXX/trace-modeling-oss-fuzz-c/trace_test/traces/sudoers_own/trace_fuzz_iosrc_timing_exe/src_60.xml'\n",
      "Error generating signature: [Errno 2] No such file or directory: '/home/XXX/trace-modeling-oss-fuzz-c/trace_test/traces/sudoers_own/trace_fuzz_iosrc_timing_exe/src_183.xml'\n",
      "Error generating signature: [Errno 2] No such file or directory: '/home/XXX/trace-modeling-oss-fuzz-c/trace_test/traces/sudoers_own/trace_fuzz_iosrc_timing_exe/src_106.xml'\n",
      "Error generating signature: [Errno 2] No such file or directory: '/home/XXX/trace-modeling-oss-fuzz-c/trace_test/traces/sudoers_own/trace_fuzz_iosrc_timing_exe/src_263.xml'\n",
      "Error generating signature: [Errno 2] No such file or directory: '/home/XXX/trace-modeling-oss-fuzz-c/trace_test/traces/sudoers_own/trace_fuzz_iosrc_timing_exe/src_100.xml'\n",
      "Error generating signature: [Errno 2] No such file or directory: '/home/XXX/trace-modeling-oss-fuzz-c/trace_test/traces/sudoers_own/trace_fuzz_iosrc_timing_exe/src_86.xml'\n",
      "Error generating signature: [Errno 2] No such file or directory: '/home/XXX/trace-modeling-oss-fuzz-c/trace_test/traces/sudoers_own/trace_fuzz_iosrc_timing_exe/src_146.xml'\n",
      "Error generating signature: [Errno 2] No such file or directory: '/home/XXX/trace-modeling-oss-fuzz-c/trace_test/traces/sudoers_own/trace_fuzz_iosrc_timing_exe/src_344.xml'\n",
      "Error generating signature: [Errno 2] No such file or directory: '/home/XXX/trace-modeling-oss-fuzz-c/trace_test/traces/sudoers_own/trace_fuzz_iosrc_timing_exe/src_219.xml'\n",
      "Error generating signature: [Errno 2] No such file or directory: '/home/XXX/trace-modeling-oss-fuzz-c/trace_test/traces/sudoers_own/trace_fuzz_iosrc_timing_exe/src_315.xml'\n",
      "Error generating signature: [Errno 2] No such file or directory: '/home/XXX/trace-modeling-oss-fuzz-c/trace_test/traces/sudoers_own/trace_fuzz_iosrc_timing_exe/src_228.xml'\n",
      "Error generating signature: [Errno 2] No such file or directory: '/home/XXX/trace-modeling-oss-fuzz-c/trace_test/traces/sudoers_own/trace_fuzz_iosrc_timing_exe/src_287.xml'\n",
      "Error generating signature: [Errno 2] No such file or directory: '/home/XXX/trace-modeling-oss-fuzz-c/trace_test/traces/sudoers_own/trace_fuzz_iosrc_timing_exe/src_264.xml'\n",
      "Error generating signature: [Errno 2] No such file or directory: '/home/XXX/trace-modeling-oss-fuzz-c/trace_test/traces/sudoers_own/trace_fuzz_iosrc_timing_exe/src_101.xml'\n",
      "Error generating signature: [Errno 2] No such file or directory: '/home/XXX/trace-modeling-oss-fuzz-c/trace_test/traces/sudoers_own/trace_fuzz_iosrc_timing_exe/src_120.xml'\n",
      "Error generating signature: [Errno 2] No such file or directory: '/home/XXX/trace-modeling-oss-fuzz-c/trace_test/traces/sudoers_own/trace_fuzz_iosrc_timing_exe/src_204.xml'\n",
      "Error generating signature: [Errno 2] No such file or directory: '/home/XXX/trace-modeling-oss-fuzz-c/trace_test/traces/sudoers_own/trace_fuzz_iosrc_timing_exe/src_107.xml'\n",
      "Error generating signature: [Errno 2] No such file or directory: '/home/XXX/trace-modeling-oss-fuzz-c/trace_test/traces/sudoers_own/trace_fuzz_iosrc_timing_exe/src_178.xml'\n",
      "\n",
      "Processed 21040/39034 files\n",
      "Current unique count: 419\n",
      "Error generating signature: [Errno 2] No such file or directory: '/home/XXX/trace-modeling-oss-fuzz-c/trace_test/traces/sudoers_own/trace_fuzz_iosrc_timing_exe/src_372.xml'\n",
      "Error generating signature: [Errno 2] No such file or directory: '/home/XXX/trace-modeling-oss-fuzz-c/trace_test/traces/sudoers_own/trace_fuzz_iosrc_timing_exe/src_110.xml'\n",
      "Error generating signature: [Errno 2] No such file or directory: '/home/XXX/trace-modeling-oss-fuzz-c/trace_test/traces/sudoers_own/trace_fuzz_iosrc_timing_exe/src_366.xml'\n",
      "Error generating signature: [Errno 2] No such file or directory: '/home/XXX/trace-modeling-oss-fuzz-c/trace_test/traces/sudoers_own/trace_fuzz_iosrc_timing_exe/src_144.xml'\n",
      "Error generating signature: [Errno 2] No such file or directory: '/home/XXX/trace-modeling-oss-fuzz-c/trace_test/traces/sudoers_own/trace_fuzz_iosrc_timing_exe/src_240.xml'\n",
      "Error generating signature: [Errno 2] No such file or directory: '/home/XXX/trace-modeling-oss-fuzz-c/trace_test/traces/sudoers_own/trace_fuzz_iosrc_timing_exe/src_261.xml'\n",
      "Error generating signature: [Errno 2] No such file or directory: '/home/XXX/trace-modeling-oss-fuzz-c/trace_test/traces/sudoers_own/trace_fuzz_iosrc_timing_exe/src_198.xml'\n",
      "Error generating signature: [Errno 2] No such file or directory: '/home/XXX/trace-modeling-oss-fuzz-c/trace_test/traces/sudoers_own/trace_fuzz_iosrc_timing_exe/src_371.xml'\n",
      "Error generating signature: [Errno 2] No such file or directory: '/home/XXX/trace-modeling-oss-fuzz-c/trace_test/traces/sudoers_own/trace_fuzz_iosrc_timing_exe/src_303.xml'\n",
      "Error generating signature: [Errno 2] No such file or directory: '/home/XXX/trace-modeling-oss-fuzz-c/trace_test/traces/sudoers_own/trace_fuzz_iosrc_timing_exe/src_268.xml'\n",
      "Error generating signature: [Errno 2] No such file or directory: '/home/XXX/trace-modeling-oss-fuzz-c/trace_test/traces/sudoers_own/trace_fuzz_iosrc_timing_exe/src_318.xml'\n",
      "Error generating signature: [Errno 2] No such file or directory: '/home/XXX/trace-modeling-oss-fuzz-c/trace_test/traces/sudoers_own/trace_fuzz_iosrc_timing_exe/src_272.xml'\n",
      "Error generating signature: [Errno 2] No such file or directory: '/home/XXX/trace-modeling-oss-fuzz-c/trace_test/traces/sudoers_own/trace_fuzz_iosrc_timing_exe/src_135.xml'\n",
      "Error generating signature: [Errno 2] No such file or directory: '/home/XXX/trace-modeling-oss-fuzz-c/trace_test/traces/sudoers_own/trace_fuzz_iosrc_timing_exe/src_314.xml'\n",
      "Error generating signature: [Errno 2] No such file or directory: '/home/XXX/trace-modeling-oss-fuzz-c/trace_test/traces/sudoers_own/trace_fuzz_iosrc_timing_exe/src_88.xml'\n",
      "Error generating signature: [Errno 2] No such file or directory: '/home/XXX/trace-modeling-oss-fuzz-c/trace_test/traces/sudoers_own/trace_fuzz_iosrc_timing_exe/src_125.xml'\n",
      "Error generating signature: [Errno 2] No such file or directory: '/home/XXX/trace-modeling-oss-fuzz-c/trace_test/traces/sudoers_own/trace_fuzz_iosrc_timing_exe/src_300.xml'\n",
      "Error generating signature: [Errno 2] No such file or directory: '/home/XXX/trace-modeling-oss-fuzz-c/trace_test/traces/sudoers_own/trace_fuzz_iosrc_timing_exe/src_44.xml'\n",
      "Error generating signature: [Errno 2] No such file or directory: '/home/XXX/trace-modeling-oss-fuzz-c/trace_test/traces/sudoers_own/trace_fuzz_iosrc_timing_exe/src_141.xml'\n",
      "Error generating signature: [Errno 2] No such file or directory: '/home/XXX/trace-modeling-oss-fuzz-c/trace_test/traces/sudoers_own/trace_fuzz_iosrc_timing_exe/src_330.xml'\n",
      "Error generating signature: [Errno 2] No such file or directory: '/home/XXX/trace-modeling-oss-fuzz-c/trace_test/traces/sudoers_own/trace_fuzz_iosrc_timing_exe/src_316.xml'\n",
      "Error generating signature: [Errno 2] No such file or directory: '/home/XXX/trace-modeling-oss-fuzz-c/trace_test/traces/sudoers_own/trace_fuzz_iosrc_timing_exe/src_310.xml'\n",
      "Error generating signature: [Errno 2] No such file or directory: '/home/XXX/trace-modeling-oss-fuzz-c/trace_test/traces/sudoers_own/trace_fuzz_iosrc_timing_exe/src_237.xml'\n",
      "Error generating signature: [Errno 2] No such file or directory: '/home/XXX/trace-modeling-oss-fuzz-c/trace_test/traces/sudoers_own/trace_fuzz_iosrc_timing_exe/src_365.xml'\n",
      "Error generating signature: [Errno 2] No such file or directory: '/home/XXX/trace-modeling-oss-fuzz-c/trace_test/traces/sudoers_own/trace_fuzz_iosrc_timing_exe/src_40.xml'\n",
      "Error generating signature: [Errno 2] No such file or directory: '/home/XXX/trace-modeling-oss-fuzz-c/trace_test/traces/sudoers_own/trace_fuzz_iosrc_timing_exe/src_85.xml'\n",
      "Error generating signature: [Errno 2] No such file or directory: '/home/XXX/trace-modeling-oss-fuzz-c/trace_test/traces/sudoers_own/trace_fuzz_iosrc_timing_exe/src_336.xml'\n",
      "Error generating signature: [Errno 2] No such file or directory: '/home/XXX/trace-modeling-oss-fuzz-c/trace_test/traces/sudoers_own/trace_fuzz_iosrc_timing_exe/src_188.xml'\n",
      "Error generating signature: [Errno 2] No such file or directory: '/home/XXX/trace-modeling-oss-fuzz-c/trace_test/traces/sudoers_own/trace_fuzz_iosrc_timing_exe/src_189.xml'\n",
      "Error generating signature: [Errno 2] No such file or directory: '/home/XXX/trace-modeling-oss-fuzz-c/trace_test/traces/sudoers_own/trace_fuzz_iosrc_timing_exe/src_21.xml'\n",
      "Error generating signature: [Errno 2] No such file or directory: '/home/XXX/trace-modeling-oss-fuzz-c/trace_test/traces/sudoers_own/trace_fuzz_iosrc_timing_exe/src_167.xml'\n",
      "Error generating signature: [Errno 2] No such file or directory: '/home/XXX/trace-modeling-oss-fuzz-c/trace_test/traces/sudoers_own/trace_fuzz_iosrc_timing_exe/src_87.xml'\n",
      "Error generating signature: [Errno 2] No such file or directory: '/home/XXX/trace-modeling-oss-fuzz-c/trace_test/traces/sudoers_own/trace_fuzz_iosrc_timing_exe/src_170.xml'\n",
      "Error generating signature: [Errno 2] No such file or directory: '/home/XXX/trace-modeling-oss-fuzz-c/trace_test/traces/sudoers_own/trace_fuzz_iosrc_timing_exe/src_213.xml'\n",
      "Error generating signature: [Errno 2] No such file or directory: '/home/XXX/trace-modeling-oss-fuzz-c/trace_test/traces/sudoers_own/trace_fuzz_iosrc_timing_exe/src_331.xml'\n",
      "Error generating signature: [Errno 2] No such file or directory: '/home/XXX/trace-modeling-oss-fuzz-c/trace_test/traces/sudoers_own/trace_fuzz_iosrc_timing_exe/src_194.xml'\n",
      "Error generating signature: [Errno 2] No such file or directory: '/home/XXX/trace-modeling-oss-fuzz-c/trace_test/traces/sudoers_own/trace_fuzz_iosrc_timing_exe/src_225.xml'\n",
      "Error generating signature: [Errno 2] No such file or directory: '/home/XXX/trace-modeling-oss-fuzz-c/trace_test/traces/sudoers_own/trace_fuzz_iosrc_timing_exe/src_30.xml'\n",
      "Error generating signature: [Errno 2] No such file or directory: '/home/XXX/trace-modeling-oss-fuzz-c/trace_test/traces/sudoers_own/trace_fuzz_iosrc_timing_exe/src_286.xml'\n",
      "Error generating signature: [Errno 2] No such file or directory: '/home/XXX/trace-modeling-oss-fuzz-c/trace_test/traces/sudoers_own/trace_fuzz_iosrc_timing_exe/src_215.xml'\n",
      "Error generating signature: [Errno 2] No such file or directory: '/home/XXX/trace-modeling-oss-fuzz-c/trace_test/traces/sudoers_own/trace_fuzz_iosrc_timing_exe/src_26.xml'\n",
      "Error generating signature: [Errno 2] No such file or directory: '/home/XXX/trace-modeling-oss-fuzz-c/trace_test/traces/sudoers_own/trace_fuzz_iosrc_timing_exe/src_262.xml'\n",
      "Error generating signature: [Errno 2] No such file or directory: '/home/XXX/trace-modeling-oss-fuzz-c/trace_test/traces/sudoers_own/trace_fuzz_iosrc_timing_exe/src_184.xml'\n",
      "Error generating signature: [Errno 2] No such file or directory: '/home/XXX/trace-modeling-oss-fuzz-c/trace_test/traces/sudoers_own/trace_fuzz_iosrc_timing_exe/src_105.xml'\n",
      "Error generating signature: [Errno 2] No such file or directory: '/home/XXX/trace-modeling-oss-fuzz-c/trace_test/traces/sudoers_own/trace_fuzz_iosrc_timing_exe/src_176.xml'\n",
      "Error generating signature: [Errno 2] No such file or directory: '/home/XXX/trace-modeling-oss-fuzz-c/trace_test/traces/sudoers_own/trace_fuzz_iosrc_timing_exe/src_37.xml'\n",
      "Error generating signature: [Errno 2] No such file or directory: '/home/XXX/trace-modeling-oss-fuzz-c/trace_test/traces/sudoers_own/trace_fuzz_iosrc_timing_exe/src_42.xml'\n",
      "Error generating signature: [Errno 2] No such file or directory: '/home/XXX/trace-modeling-oss-fuzz-c/trace_test/traces/sudoers_own/trace_fuzz_iosrc_timing_exe/src_152.xml'\n",
      "Error generating signature: [Errno 2] No such file or directory: '/home/XXX/trace-modeling-oss-fuzz-c/trace_test/traces/sudoers_own/trace_fuzz_iosrc_timing_exe/src_348.xml'\n",
      "Error generating signature: [Errno 2] No such file or directory: '/home/XXX/trace-modeling-oss-fuzz-c/trace_test/traces/sudoers_own/trace_fuzz_iosrc_timing_exe/src_373.xml'\n",
      "Error generating signature: [Errno 2] No such file or directory: '/home/XXX/trace-modeling-oss-fuzz-c/trace_test/traces/sudoers_own/trace_fuzz_iosrc_timing_exe/src_159.xml'\n",
      "Error generating signature: [Errno 2] No such file or directory: '/home/XXX/trace-modeling-oss-fuzz-c/trace_test/traces/sudoers_own/trace_fuzz_iosrc_timing_exe/src_180.xml'\n",
      "Error generating signature: [Errno 2] No such file or directory: '/home/XXX/trace-modeling-oss-fuzz-c/trace_test/traces/sudoers_own/trace_fuzz_iosrc_timing_exe/src_218.xml'\n",
      "Error generating signature: [Errno 2] No such file or directory: '/home/XXX/trace-modeling-oss-fuzz-c/trace_test/traces/sudoers_own/trace_fuzz_iosrc_timing_exe/src_282.xml'\n",
      "Error generating signature: [Errno 2] No such file or directory: '/home/XXX/trace-modeling-oss-fuzz-c/trace_test/traces/sudoers_own/trace_fuzz_iosrc_timing_exe/src_223.xml'\n",
      "Error generating signature: [Errno 2] No such file or directory: '/home/XXX/trace-modeling-oss-fuzz-c/trace_test/traces/sudoers_own/trace_fuzz_iosrc_timing_exe/src_149.xml'\n",
      "Error generating signature: [Errno 2] No such file or directory: '/home/XXX/trace-modeling-oss-fuzz-c/trace_test/traces/sudoers_own/trace_fuzz_iosrc_timing_exe/src_132.xml'\n",
      "Error generating signature: [Errno 2] No such file or directory: '/home/XXX/trace-modeling-oss-fuzz-c/trace_test/traces/sudoers_own/trace_fuzz_iosrc_timing_exe/src_54.xml'\n",
      "Error generating signature: [Errno 2] No such file or directory: '/home/XXX/trace-modeling-oss-fuzz-c/trace_test/traces/sudoers_own/trace_fuzz_iosrc_timing_exe/src_350.xml'\n",
      "Error generating signature: [Errno 2] No such file or directory: '/home/XXX/trace-modeling-oss-fuzz-c/trace_test/traces/sudoers_own/trace_fuzz_iosrc_timing_exe/src_338.xml'\n",
      "Error generating signature: [Errno 2] No such file or directory: '/home/XXX/trace-modeling-oss-fuzz-c/trace_test/traces/sudoers_own/trace_fuzz_iosrc_timing_exe/src_209.xml'\n",
      "Error generating signature: [Errno 2] No such file or directory: '/home/XXX/trace-modeling-oss-fuzz-c/trace_test/traces/sudoers_own/trace_fuzz_iosrc_timing_exe/src_118.xml'\n",
      "Error generating signature: [Errno 2] No such file or directory: '/home/XXX/trace-modeling-oss-fuzz-c/trace_test/traces/sudoers_own/trace_fuzz_iosrc_timing_exe/src_14.xml'\n",
      "Error generating signature: [Errno 2] No such file or directory: '/home/XXX/trace-modeling-oss-fuzz-c/trace_test/traces/sudoers_own/trace_fuzz_iosrc_timing_exe/src_293.xml'\n",
      "Error generating signature: [Errno 2] No such file or directory: '/home/XXX/trace-modeling-oss-fuzz-c/trace_test/traces/sudoers_own/trace_fuzz_iosrc_timing_exe/src_257.xml'\n",
      "Error generating signature: [Errno 2] No such file or directory: '/home/XXX/trace-modeling-oss-fuzz-c/trace_test/traces/sudoers_own/trace_fuzz_iosrc_timing_exe/src_266.xml'\n",
      "Error generating signature: [Errno 2] No such file or directory: '/home/XXX/trace-modeling-oss-fuzz-c/trace_test/traces/sudoers_own/trace_fuzz_iosrc_timing_exe/src_260.xml'\n",
      "Error generating signature: [Errno 2] No such file or directory: '/home/XXX/trace-modeling-oss-fuzz-c/trace_test/traces/sudoers_own/trace_fuzz_iosrc_timing_exe/src_73.xml'\n",
      "Error generating signature: [Errno 2] No such file or directory: '/home/XXX/trace-modeling-oss-fuzz-c/trace_test/traces/sudoers_own/trace_fuzz_iosrc_timing_exe/src_345.xml'\n",
      "Error generating signature: [Errno 2] No such file or directory: '/home/XXX/trace-modeling-oss-fuzz-c/trace_test/traces/sudoers_own/trace_fuzz_iosrc_timing_exe/src_283.xml'\n",
      "Error generating signature: [Errno 2] No such file or directory: '/home/XXX/trace-modeling-oss-fuzz-c/trace_test/traces/sudoers_own/trace_fuzz_iosrc_timing_exe/src_72.xml'\n",
      "Error generating signature: [Errno 2] No such file or directory: '/home/XXX/trace-modeling-oss-fuzz-c/trace_test/traces/sudoers_own/trace_fuzz_iosrc_timing_exe/src_236.xml'\n",
      "Error generating signature: [Errno 2] No such file or directory: '/home/XXX/trace-modeling-oss-fuzz-c/trace_test/traces/sudoers_own/trace_fuzz_iosrc_timing_exe/src_119.xml'\n",
      "Error generating signature: [Errno 2] No such file or directory: '/home/XXX/trace-modeling-oss-fuzz-c/trace_test/traces/sudoers_own/trace_fuzz_iosrc_timing_exe/src_46.xml'\n",
      "Error generating signature: [Errno 2] No such file or directory: '/home/XXX/trace-modeling-oss-fuzz-c/trace_test/traces/sudoers_own/trace_fuzz_iosrc_timing_exe/src_312.xml'\n",
      "Error generating signature: [Errno 2] No such file or directory: '/home/XXX/trace-modeling-oss-fuzz-c/trace_test/traces/sudoers_own/trace_fuzz_iosrc_timing_exe/src_352.xml'\n",
      "Error generating signature: [Errno 2] No such file or directory: '/home/XXX/trace-modeling-oss-fuzz-c/trace_test/traces/sudoers_own/trace_fuzz_iosrc_timing_exe/src_340.xml'\n",
      "Error generating signature: [Errno 2] No such file or directory: '/home/XXX/trace-modeling-oss-fuzz-c/trace_test/traces/sudoers_own/trace_fuzz_iosrc_timing_exe/src_265.xml'\n",
      "Error generating signature: [Errno 2] No such file or directory: '/home/XXX/trace-modeling-oss-fuzz-c/trace_test/traces/sudoers_own/trace_fuzz_iosrc_timing_exe/src_25.xml'\n",
      "Error generating signature: [Errno 2] No such file or directory: '/home/XXX/trace-modeling-oss-fuzz-c/trace_test/traces/sudoers_own/trace_fuzz_iosrc_timing_exe/src_81.xml'\n",
      "\n",
      "Processed 21120/39034 files\n",
      "Current unique count: 419\n",
      "Error generating signature: [Errno 2] No such file or directory: '/home/XXX/trace-modeling-oss-fuzz-c/trace_test/traces/sudoers_own/trace_fuzz_iosrc_timing_exe/src_277.xml'\n",
      "Error generating signature: [Errno 2] No such file or directory: '/home/XXX/trace-modeling-oss-fuzz-c/trace_test/traces/sudoers_own/trace_fuzz_iosrc_timing_exe/src_226.xml'\n",
      "Error generating signature: [Errno 2] No such file or directory: '/home/XXX/trace-modeling-oss-fuzz-c/trace_test/traces/sudoers_own/trace_fuzz_iosrc_timing_exe/src_67.xml'\n",
      "Error generating signature: [Errno 2] No such file or directory: '/home/XXX/trace-modeling-oss-fuzz-c/trace_test/traces/sudoers_own/trace_fuzz_iosrc_timing_exe/src_76.xml'\n",
      "Error generating signature: [Errno 2] No such file or directory: '/home/XXX/trace-modeling-oss-fuzz-c/trace_test/traces/sudoers_own/trace_fuzz_iosrc_timing_exe/src_104.xml'\n",
      "Error generating signature: [Errno 2] No such file or directory: '/home/XXX/trace-modeling-oss-fuzz-c/trace_test/traces/sudoers_own/trace_fuzz_iosrc_timing_exe/src_289.xml'\n",
      "Error generating signature: [Errno 2] No such file or directory: '/home/XXX/trace-modeling-oss-fuzz-c/trace_test/traces/sudoers_own/trace_fuzz_iosrc_timing_exe/src_370.xml'\n",
      "Error generating signature: [Errno 2] No such file or directory: '/home/XXX/trace-modeling-oss-fuzz-c/trace_test/traces/sudoers_own/trace_fuzz_iosrc_timing_exe/src_341.xml'\n",
      "Error generating signature: [Errno 2] No such file or directory: '/home/XXX/trace-modeling-oss-fuzz-c/trace_test/traces/sudoers_own/trace_fuzz_iosrc_timing_exe/src_28.xml'\n",
      "Error generating signature: [Errno 2] No such file or directory: '/home/XXX/trace-modeling-oss-fuzz-c/trace_test/traces/sudoers_own/trace_fuzz_iosrc_timing_exe/src_245.xml'\n",
      "Error generating signature: [Errno 2] No such file or directory: '/home/XXX/trace-modeling-oss-fuzz-c/trace_test/traces/sudoers_own/trace_fuzz_iosrc_timing_exe/src_231.xml'\n",
      "Error generating signature: [Errno 2] No such file or directory: '/home/XXX/trace-modeling-oss-fuzz-c/trace_test/traces/sudoers_own/trace_fuzz_iosrc_timing_exe/src_45.xml'\n",
      "Error generating signature: [Errno 2] No such file or directory: '/home/XXX/trace-modeling-oss-fuzz-c/trace_test/traces/sudoers_own/trace_fuzz_iosrc_timing_exe/src_32.xml'\n",
      "Error generating signature: [Errno 2] No such file or directory: '/home/XXX/trace-modeling-oss-fuzz-c/trace_test/traces/sudoers_own/trace_fuzz_iosrc_timing_exe/src_187.xml'\n",
      "Error generating signature: [Errno 2] No such file or directory: '/home/XXX/trace-modeling-oss-fuzz-c/trace_test/traces/sudoers_own/trace_fuzz_iosrc_timing_exe/src_17.xml'\n",
      "Error generating signature: [Errno 2] No such file or directory: '/home/XXX/trace-modeling-oss-fuzz-c/trace_test/traces/sudoers_own/trace_fuzz_iosrc_timing_exe/src_203.xml'\n",
      "Error generating signature: [Errno 2] No such file or directory: '/home/XXX/trace-modeling-oss-fuzz-c/trace_test/traces/sudoers_own/trace_fuzz_iosrc_timing_exe/src_320.xml'\n",
      "Error generating signature: [Errno 2] No such file or directory: '/home/XXX/trace-modeling-oss-fuzz-c/trace_test/traces/sudoers_own/trace_fuzz_iosrc_timing_exe/src_96.xml'\n",
      "Error generating signature: [Errno 2] No such file or directory: '/home/XXX/trace-modeling-oss-fuzz-c/trace_test/traces/sudoers_own/trace_fuzz_iosrc_timing_exe/src_143.xml'\n",
      "Error generating signature: [Errno 2] No such file or directory: '/home/XXX/trace-modeling-oss-fuzz-c/trace_test/traces/sudoers_own/trace_fuzz_iosrc_timing_exe/src_134.xml'\n",
      "Error generating signature: [Errno 2] No such file or directory: '/home/XXX/trace-modeling-oss-fuzz-c/trace_test/traces/sudoers_own/trace_fuzz_iosrc_timing_exe/src_22.xml'\n",
      "Error generating signature: [Errno 2] No such file or directory: '/home/XXX/trace-modeling-oss-fuzz-c/trace_test/traces/sudoers_own/trace_fuzz_iosrc_timing_exe/src_199.xml'\n",
      "Error generating signature: [Errno 2] No such file or directory: '/home/XXX/trace-modeling-oss-fuzz-c/trace_test/traces/sudoers_own/trace_fuzz_iosrc_timing_exe/src_227.xml'\n",
      "Error generating signature: [Errno 2] No such file or directory: '/home/XXX/trace-modeling-oss-fuzz-c/trace_test/traces/sudoers_own/trace_fuzz_iosrc_timing_exe/src_99.xml'\n",
      "Error generating signature: [Errno 2] No such file or directory: '/home/XXX/trace-modeling-oss-fuzz-c/trace_test/traces/sudoers_own/trace_fuzz_iosrc_timing_exe/src_279.xml'\n",
      "Error generating signature: [Errno 2] No such file or directory: '/home/XXX/trace-modeling-oss-fuzz-c/trace_test/traces/sudoers_own/trace_fuzz_iosrc_timing_exe/src_253.xml'\n",
      "Error generating signature: [Errno 2] No such file or directory: '/home/XXX/trace-modeling-oss-fuzz-c/trace_test/traces/sudoers_own/trace_fuzz_iosrc_timing_exe/src_217.xml'\n",
      "Error generating signature: [Errno 2] No such file or directory: '/home/XXX/trace-modeling-oss-fuzz-c/trace_test/traces/sudoers_own/trace_fuzz_iosrc_timing_exe/src_324.xml'\n",
      "Error generating signature: [Errno 2] No such file or directory: '/home/XXX/trace-modeling-oss-fuzz-c/trace_test/traces/sudoers_own/trace_fuzz_iosrc_timing_exe/src_322.xml'\n",
      "Error generating signature: [Errno 2] No such file or directory: '/home/XXX/trace-modeling-oss-fuzz-c/trace_test/traces/sudoers_own/trace_fuzz_iosrc_timing_exe/src_244.xml'\n",
      "Error generating signature: [Errno 2] No such file or directory: '/home/XXX/trace-modeling-oss-fuzz-c/trace_test/traces/sudoers_own/trace_fuzz_iosrc_timing_exe/src_173.xml'\n",
      "Error generating signature: [Errno 2] No such file or directory: '/home/XXX/trace-modeling-oss-fuzz-c/trace_test/traces/sudoers_own/trace_fuzz_iosrc_timing_exe/src_246.xml'\n",
      "Error generating signature: [Errno 2] No such file or directory: '/home/XXX/trace-modeling-oss-fuzz-c/trace_test/traces/sudoers_own/trace_fuzz_iosrc_timing_exe/src_349.xml'\n",
      "Error generating signature: [Errno 2] No such file or directory: '/home/XXX/trace-modeling-oss-fuzz-c/trace_test/traces/sudoers_own/trace_fuzz_iosrc_timing_exe/src_38.xml'\n",
      "Error generating signature: [Errno 2] No such file or directory: '/home/XXX/trace-modeling-oss-fuzz-c/trace_test/traces/sudoers_own/trace_fuzz_iosrc_timing_exe/src_123.xml'\n",
      "Error generating signature: [Errno 2] No such file or directory: '/home/XXX/trace-modeling-oss-fuzz-c/trace_test/traces/sudoers_own/trace_fuzz_iosrc_timing_exe/src_208.xml'\n",
      "Error generating signature: [Errno 2] No such file or directory: '/home/XXX/trace-modeling-oss-fuzz-c/trace_test/traces/sudoers_own/trace_fuzz_iosrc_timing_exe/src_147.xml'\n",
      "Error generating signature: [Errno 2] No such file or directory: '/home/XXX/trace-modeling-oss-fuzz-c/trace_test/traces/sudoers_own/trace_fuzz_iosrc_timing_exe/src_175.xml'\n",
      "Error generating signature: [Errno 2] No such file or directory: '/home/XXX/trace-modeling-oss-fuzz-c/trace_test/traces/sudoers_own/trace_fuzz_iosrc_timing_exe/src_80.xml'\n",
      "Error generating signature: [Errno 2] No such file or directory: '/home/XXX/trace-modeling-oss-fuzz-c/trace_test/traces/sudoers_own/trace_fuzz_iosrc_timing_exe/src_63.xml'\n",
      "Error generating signature: [Errno 2] No such file or directory: '/home/XXX/trace-modeling-oss-fuzz-c/trace_test/traces/sudoers_own/trace_fuzz_iosrc_timing_exe/src_64.xml'\n",
      "Error generating signature: [Errno 2] No such file or directory: '/home/XXX/trace-modeling-oss-fuzz-c/trace_test/traces/sudoers_own/trace_fuzz_iosrc_timing_exe/src_185.xml'\n",
      "Error generating signature: [Errno 2] No such file or directory: '/home/XXX/trace-modeling-oss-fuzz-c/trace_test/traces/sudoers_own/trace_fuzz_iosrc_timing_exe/src_157.xml'\n",
      "Error generating signature: [Errno 2] No such file or directory: '/home/XXX/trace-modeling-oss-fuzz-c/trace_test/traces/sudoers_own/trace_fuzz_iosrc_timing_exe/src_62.xml'\n",
      "Error generating signature: [Errno 2] No such file or directory: '/home/XXX/trace-modeling-oss-fuzz-c/trace_test/traces/sudoers_own/trace_fuzz_iosrc_timing_exe/src_325.xml'\n",
      "Error generating signature: [Errno 2] No such file or directory: '/home/XXX/trace-modeling-oss-fuzz-c/trace_test/traces/sudoers_own/trace_fuzz_iosrc_timing_exe/src_33.xml'\n",
      "Error generating signature: [Errno 2] No such file or directory: '/home/XXX/trace-modeling-oss-fuzz-c/trace_test/traces/sudoers_own/trace_fuzz_iosrc_timing_exe/src_36.xml'\n",
      "Error generating signature: [Errno 2] No such file or directory: '/home/XXX/trace-modeling-oss-fuzz-c/trace_test/traces/sudoers_own/trace_fuzz_iosrc_timing_exe/src_115.xml'\n",
      "Error generating signature: [Errno 2] No such file or directory: '/home/XXX/trace-modeling-oss-fuzz-c/trace_test/traces/sudoers_own/trace_fuzz_iosrc_timing_exe/src_281.xml'\n",
      "Error generating signature: [Errno 2] No such file or directory: '/home/XXX/trace-modeling-oss-fuzz-c/trace_test/traces/sudoers_own/trace_fuzz_iosrc_timing_exe/src_193.xml'\n",
      "Error generating signature: [Errno 2] No such file or directory: '/home/XXX/trace-modeling-oss-fuzz-c/trace_test/traces/sudoers_own/trace_fuzz_iosrc_timing_exe/src_363.xml'\n",
      "Error generating signature: [Errno 2] No such file or directory: '/home/XXX/trace-modeling-oss-fuzz-c/trace_test/traces/sudoers_own/trace_fuzz_iosrc_timing_exe/src_24.xml'\n",
      "Error generating signature: [Errno 2] No such file or directory: '/home/XXX/trace-modeling-oss-fuzz-c/trace_test/traces/sudoers_own/trace_fuzz_iosrc_timing_exe/src_108.xml'\n",
      "Error generating signature: [Errno 2] No such file or directory: '/home/XXX/trace-modeling-oss-fuzz-c/trace_test/traces/sudoers_own/trace_fuzz_iosrc_timing_exe/src_329.xml'\n",
      "Error generating signature: [Errno 2] No such file or directory: '/home/XXX/trace-modeling-oss-fuzz-c/trace_test/traces/sudoers_own/trace_fuzz_iosrc_timing_exe/src_274.xml'\n",
      "Error generating signature: [Errno 2] No such file or directory: '/home/XXX/trace-modeling-oss-fuzz-c/trace_test/traces/sudoers_own/trace_fuzz_iosrc_timing_exe/src_121.xml'\n",
      "Error generating signature: [Errno 2] No such file or directory: '/home/XXX/trace-modeling-oss-fuzz-c/trace_test/traces/sudoers_own/trace_fuzz_iosrc_timing_exe/src_294.xml'\n",
      "Error generating signature: [Errno 2] No such file or directory: '/home/XXX/trace-modeling-oss-fuzz-c/trace_test/traces/sudoers_own/trace_fuzz_iosrc_timing_exe/src_275.xml'\n",
      "Error generating signature: [Errno 2] No such file or directory: '/home/XXX/trace-modeling-oss-fuzz-c/trace_test/traces/sudoers_own/trace_fuzz_iosrc_timing_exe/src_112.xml'\n",
      "Error generating signature: [Errno 2] No such file or directory: '/home/XXX/trace-modeling-oss-fuzz-c/trace_test/traces/sudoers_own/trace_fuzz_iosrc_timing_exe/src_256.xml'\n",
      "Error generating signature: [Errno 2] No such file or directory: '/home/XXX/trace-modeling-oss-fuzz-c/trace_test/traces/sudoers_own/trace_fuzz_iosrc_timing_exe/src_174.xml'\n",
      "Error generating signature: [Errno 2] No such file or directory: '/home/XXX/trace-modeling-oss-fuzz-c/trace_test/traces/sudoers_own/trace_fuzz_iosrc_timing_exe/src_302.xml'\n",
      "Error generating signature: [Errno 2] No such file or directory: '/home/XXX/trace-modeling-oss-fuzz-c/trace_test/traces/sudoers_own/trace_fuzz_iosrc_timing_exe/src_271.xml'\n",
      "Error generating signature: [Errno 2] No such file or directory: '/home/XXX/trace-modeling-oss-fuzz-c/trace_test/traces/sudoers_own/trace_fuzz_iosrc_timing_exe/src_288.xml'\n",
      "Error generating signature: [Errno 2] No such file or directory: '/home/XXX/trace-modeling-oss-fuzz-c/trace_test/traces/sudoers_own/trace_fuzz_iosrc_timing_exe/src_369.xml'\n",
      "Error generating signature: [Errno 2] No such file or directory: '/home/XXX/trace-modeling-oss-fuzz-c/trace_test/traces/sudoers_own/trace_fuzz_iosrc_timing_exe/src_317.xml'\n",
      "Error generating signature: [Errno 2] No such file or directory: '/home/XXX/trace-modeling-oss-fuzz-c/trace_test/traces/sudoers_own/trace_fuzz_iosrc_timing_exe/src_306.xml'\n",
      "Error generating signature: [Errno 2] No such file or directory: '/home/XXX/trace-modeling-oss-fuzz-c/trace_test/traces/sudoers_own/trace_fuzz_iosrc_timing_exe/src_1.xml'\n",
      "Error generating signature: [Errno 2] No such file or directory: '/home/XXX/trace-modeling-oss-fuzz-c/trace_test/traces/sudoers_own/trace_fuzz_iosrc_timing_exe/src_92.xml'\n",
      "Error generating signature: [Errno 2] No such file or directory: '/home/XXX/trace-modeling-oss-fuzz-c/trace_test/traces/sudoers_own/trace_fuzz_iosrc_timing_exe/src_34.xml'\n",
      "Error generating signature: [Errno 2] No such file or directory: '/home/XXX/trace-modeling-oss-fuzz-c/trace_test/traces/sudoers_own/trace_fuzz_iosrc_timing_exe/src_113.xml'\n",
      "Error generating signature: [Errno 2] No such file or directory: '/home/XXX/trace-modeling-oss-fuzz-c/trace_test/traces/sudoers_own/trace_fuzz_iosrc_timing_exe/src_137.xml'\n",
      "Error generating signature: [Errno 2] No such file or directory: '/home/XXX/trace-modeling-oss-fuzz-c/trace_test/traces/sudoers_own/trace_fuzz_iosrc_timing_exe/src_75.xml'\n",
      "Error generating signature: [Errno 2] No such file or directory: '/home/XXX/trace-modeling-oss-fuzz-c/trace_test/traces/sudoers_own/trace_fuzz_iosrc_timing_exe/src_162.xml'\n",
      "Error generating signature: [Errno 2] No such file or directory: '/home/XXX/trace-modeling-oss-fuzz-c/trace_test/traces/sudoers_own/trace_fuzz_iosrc_timing_exe/src_229.xml'\n",
      "Error generating signature: [Errno 2] No such file or directory: '/home/XXX/trace-modeling-oss-fuzz-c/trace_test/traces/sudoers_own/trace_fuzz_iosrc_timing_exe/src_127.xml'\n",
      "Error generating signature: [Errno 2] No such file or directory: '/home/XXX/trace-modeling-oss-fuzz-c/trace_test/traces/sudoers_own/trace_fuzz_iosrc_timing_exe/src_83.xml'\n",
      "Error generating signature: [Errno 2] No such file or directory: '/home/XXX/trace-modeling-oss-fuzz-c/trace_test/traces/sudoers_own/trace_fuzz_iosrc_timing_exe/src_332.xml'\n",
      "Error generating signature: [Errno 2] No such file or directory: '/home/XXX/trace-modeling-oss-fuzz-c/trace_test/traces/sudoers_own/trace_fuzz_iosrc_timing_exe/src_160.xml'\n",
      "Error generating signature: [Errno 2] No such file or directory: '/home/XXX/trace-modeling-oss-fuzz-c/trace_test/traces/sudoers_own/trace_fuzz_iosrc_timing_exe/src_285.xml'\n",
      "\n",
      "Processed 21200/39034 files\n",
      "Current unique count: 419\n",
      "Error generating signature: [Errno 2] No such file or directory: '/home/XXX/trace-modeling-oss-fuzz-c/trace_test/traces/sudoers_own/trace_fuzz_iosrc_timing_exe/src_47.xml'\n",
      "Error generating signature: [Errno 2] No such file or directory: '/home/XXX/trace-modeling-oss-fuzz-c/trace_test/traces/sudoers_own/trace_fuzz_iosrc_timing_exe/src_52.xml'\n",
      "Error generating signature: [Errno 2] No such file or directory: '/home/XXX/trace-modeling-oss-fuzz-c/trace_test/traces/sudoers_own/trace_fuzz_iosrc_timing_exe/src_177.xml'\n",
      "Error generating signature: [Errno 2] No such file or directory: '/home/XXX/trace-modeling-oss-fuzz-c/trace_test/traces/sudoers_own/trace_fuzz_iosrc_timing_exe/src_48.xml'\n",
      "Error generating signature: [Errno 2] No such file or directory: '/home/XXX/trace-modeling-oss-fuzz-c/trace_test/traces/sudoers_own/trace_fuzz_iosrc_timing_exe/src_2.xml'\n",
      "Error generating signature: [Errno 2] No such file or directory: '/home/XXX/trace-modeling-oss-fuzz-c/trace_test/traces/sudoers_own/trace_fuzz_iosrc_timing_exe/src_29.xml'\n",
      "Error generating signature: [Errno 2] No such file or directory: '/home/XXX/trace-modeling-oss-fuzz-c/trace_test/traces/sudoers_own/trace_fuzz_iosrc_timing_exe/src_299.xml'\n",
      "Error generating signature: [Errno 2] No such file or directory: '/home/XXX/trace-modeling-oss-fuzz-c/trace_test/traces/sudoers_own/trace_fuzz_iosrc_timing_exe/src_139.xml'\n",
      "Error generating signature: [Errno 2] No such file or directory: '/home/XXX/trace-modeling-oss-fuzz-c/trace_test/traces/sudoers_own/trace_fuzz_iosrc_timing_exe/src_51.xml'\n",
      "Error generating signature: [Errno 2] No such file or directory: '/home/XXX/trace-modeling-oss-fuzz-c/trace_test/traces/sudoers_own/trace_fuzz_iosrc_timing_exe/src_216.xml'\n",
      "Error generating signature: [Errno 2] No such file or directory: '/home/XXX/trace-modeling-oss-fuzz-c/trace_test/traces/sudoers_own/trace_fuzz_iosrc_timing_exe/src_295.xml'\n",
      "Error generating signature: [Errno 2] No such file or directory: '/home/XXX/trace-modeling-oss-fuzz-c/trace_test/traces/sudoers_own/trace_fuzz_iosrc_timing_exe/src_163.xml'\n",
      "Error generating signature: [Errno 2] No such file or directory: '/home/XXX/trace-modeling-oss-fuzz-c/trace_test/traces/sudoers_own/trace_fuzz_iosrc_timing_exe/src_68.xml'\n",
      "Error generating signature: [Errno 2] No such file or directory: '/home/XXX/trace-modeling-oss-fuzz-c/trace_test/traces/sudoers_own/trace_fuzz_iosrc_timing_exe/src_361.xml'\n",
      "Error generating signature: [Errno 2] No such file or directory: '/home/XXX/trace-modeling-oss-fuzz-c/trace_test/traces/sudoers_own/trace_fuzz_iosrc_timing_exe/src_210.xml'\n",
      "Error generating signature: [Errno 2] No such file or directory: '/home/XXX/trace-modeling-oss-fuzz-c/trace_test/traces/sudoers_own/trace_fuzz_iosrc_timing_exe/src_377.xml'\n",
      "Error generating signature: [Errno 2] No such file or directory: '/home/XXX/trace-modeling-oss-fuzz-c/trace_test/traces/sudoers_own/trace_fuzz_iosrc_timing_exe/src_230.xml'\n",
      "Error generating signature: [Errno 2] No such file or directory: '/home/XXX/trace-modeling-oss-fuzz-c/trace_test/traces/sudoers_own/trace_fuzz_iosrc_timing_exe/src_214.xml'\n",
      "Error generating signature: [Errno 2] No such file or directory: '/home/XXX/trace-modeling-oss-fuzz-c/trace_test/traces/sudoers_own/trace_fuzz_iosrc_timing_exe/src_232.xml'\n",
      "Error generating signature: [Errno 2] No such file or directory: '/home/XXX/trace-modeling-oss-fuzz-c/trace_test/traces/sudoers_own/trace_fuzz_iosrc_timing_exe/src_296.xml'\n",
      "Error generating signature: [Errno 2] No such file or directory: '/home/XXX/trace-modeling-oss-fuzz-c/trace_test/traces/sudoers_own/trace_fuzz_iosrc_timing_exe/src_124.xml'\n",
      "Error generating signature: [Errno 2] No such file or directory: '/home/XXX/trace-modeling-oss-fuzz-c/trace_test/traces/sudoers_own/trace_fuzz_iosrc_timing_exe/src_251.xml'\n",
      "Error generating signature: [Errno 2] No such file or directory: '/home/XXX/trace-modeling-oss-fuzz-c/trace_test/traces/sudoers_own/trace_fuzz_iosrc_timing_exe/src_57.xml'\n",
      "Error generating signature: [Errno 2] No such file or directory: '/home/XXX/trace-modeling-oss-fuzz-c/trace_test/traces/sudoers_own/trace_fuzz_iosrc_timing_exe/src_234.xml'\n",
      "Error generating signature: [Errno 2] No such file or directory: '/home/XXX/trace-modeling-oss-fuzz-c/trace_test/traces/sudoers_own/trace_fuzz_iosrc_timing_exe/src_270.xml'\n",
      "Error generating signature: [Errno 2] No such file or directory: '/home/XXX/trace-modeling-oss-fuzz-c/trace_test/traces/sudoers_own/trace_fuzz_iosrc_timing_exe/src_6.xml'\n",
      "Error generating signature: [Errno 2] No such file or directory: '/home/XXX/trace-modeling-oss-fuzz-c/trace_test/traces/sudoers_own/trace_fuzz_iosrc_timing_exe/src_77.xml'\n",
      "Error generating signature: [Errno 2] No such file or directory: '/home/XXX/trace-modeling-oss-fuzz-c/trace_test/traces/sudoers_own/trace_fuzz_iosrc_timing_exe/src_357.xml'\n",
      "Error generating signature: [Errno 2] No such file or directory: '/home/XXX/trace-modeling-oss-fuzz-c/trace_test/traces/sudoers_own/trace_fuzz_iosrc_timing_exe/src_151.xml'\n",
      "Error generating signature: [Errno 2] No such file or directory: '/home/XXX/trace-modeling-oss-fuzz-c/trace_test/traces/sudoers_own/trace_fuzz_iosrc_timing_exe/src_145.xml'\n",
      "Error generating signature: [Errno 2] No such file or directory: '/home/XXX/trace-modeling-oss-fuzz-c/trace_test/traces/sudoers_own/trace_fuzz_iosrc_timing_exe/src_334.xml'\n",
      "Error generating signature: [Errno 2] No such file or directory: '/home/XXX/trace-modeling-oss-fuzz-c/trace_test/traces/sudoers_own/trace_fuzz_iosrc_timing_exe/src_212.xml'\n",
      "Error generating signature: [Errno 2] No such file or directory: '/home/XXX/trace-modeling-oss-fuzz-c/trace_test/traces/sudoers_own/trace_fuzz_iosrc_timing_exe/src_94.xml'\n",
      "Error generating signature: [Errno 2] No such file or directory: '/home/XXX/trace-modeling-oss-fuzz-c/trace_test/traces/sudoers_own/trace_fuzz_iosrc_timing_exe/src_11.xml'\n",
      "Error generating signature: [Errno 2] No such file or directory: '/home/XXX/trace-modeling-oss-fuzz-c/trace_test/traces/sudoers_own/trace_fuzz_iosrc_timing_exe/src_368.xml'\n",
      "Error generating signature: [Errno 2] No such file or directory: '/home/XXX/trace-modeling-oss-fuzz-c/trace_test/traces/sudoers_own/trace_fuzz_iosrc_timing_exe/src_196.xml'\n",
      "Error generating signature: [Errno 2] No such file or directory: '/home/XXX/trace-modeling-oss-fuzz-c/trace_test/traces/sudoers_own/trace_fuzz_iosrc_timing_exe/src_114.xml'\n",
      "Error generating signature: [Errno 2] No such file or directory: '/home/XXX/trace-modeling-oss-fuzz-c/trace_test/traces/sudoers_own/trace_fuzz_iosrc_timing_exe/src_90.xml'\n",
      "Error generating signature: [Errno 2] No such file or directory: '/home/XXX/trace-modeling-oss-fuzz-c/trace_test/traces/sudoers_own/trace_fuzz_iosrc_timing_exe/src_122.xml'\n",
      "Error generating signature: [Errno 2] No such file or directory: '/home/XXX/trace-modeling-oss-fuzz-c/trace_test/traces/sudoers_own/trace_fuzz_iosrc_timing_exe/src_241.xml'\n",
      "Error generating signature: [Errno 2] No such file or directory: '/home/XXX/trace-modeling-oss-fuzz-c/trace_test/traces/sudoers_own/trace_fuzz_iosrc_timing_exe/src_202.xml'\n",
      "Error generating signature: [Errno 2] No such file or directory: '/home/XXX/trace-modeling-oss-fuzz-c/trace_test/traces/sudoers_own/trace_fuzz_iosrc_timing_exe/src_148.xml'\n",
      "Error generating signature: [Errno 2] No such file or directory: '/home/XXX/trace-modeling-oss-fuzz-c/trace_test/traces/sudoers_own/trace_fuzz_iosrc_timing_exe/src_133.xml'\n",
      "Error generating signature: [Errno 2] No such file or directory: '/home/XXX/trace-modeling-oss-fuzz-c/trace_test/traces/sudoers_own/trace_fuzz_iosrc_timing_exe/src_207.xml'\n",
      "Error generating signature: [Errno 2] No such file or directory: '/home/XXX/trace-modeling-oss-fuzz-c/trace_test/traces/sudoers_own/trace_fuzz_iosrc_timing_exe/src_4.xml'\n",
      "Error generating signature: [Errno 2] No such file or directory: '/home/XXX/trace-modeling-oss-fuzz-c/trace_test/traces/sudoers_own/trace_fuzz_iosrc_timing_exe/src_39.xml'\n",
      "Error generating signature: [Errno 2] No such file or directory: '/home/XXX/trace-modeling-oss-fuzz-c/trace_test/traces/sudoers_own/trace_fuzz_iosrc_timing_exe/src_297.xml'\n",
      "Error generating signature: [Errno 2] No such file or directory: '/home/XXX/trace-modeling-oss-fuzz-c/trace_test/traces/sudoers_own/trace_fuzz_iosrc_timing_exe/src_66.xml'\n",
      "Error generating signature: [Errno 2] No such file or directory: '/home/XXX/trace-modeling-oss-fuzz-c/trace_test/traces/sudoers_own/trace_fuzz_iosrc_timing_exe/src_247.xml'\n",
      "Error generating signature: [Errno 2] No such file or directory: '/home/XXX/trace-modeling-oss-fuzz-c/trace_test/traces/sudoers_own/trace_fuzz_iosrc_timing_exe/src_102.xml'\n",
      "Error generating signature: [Errno 2] No such file or directory: '/home/XXX/trace-modeling-oss-fuzz-c/trace_test/traces/sudoers_own/trace_fuzz_iosrc_timing_exe/src_197.xml'\n",
      "Error generating signature: [Errno 2] No such file or directory: '/home/XXX/trace-modeling-oss-fuzz-c/trace_test/traces/sudoers_own/trace_fuzz_iosrc_timing_exe/src_355.xml'\n",
      "Error generating signature: [Errno 2] No such file or directory: '/home/XXX/trace-modeling-oss-fuzz-c/trace_test/traces/sudoers_own/trace_fuzz_iosrc_timing_exe/src_8.xml'\n",
      "Error generating signature: [Errno 2] No such file or directory: '/home/XXX/trace-modeling-oss-fuzz-c/trace_test/traces/sudoers_own/trace_fuzz_iosrc_timing_exe/src_82.xml'\n",
      "Error generating signature: [Errno 2] No such file or directory: '/home/XXX/trace-modeling-oss-fuzz-c/trace_test/traces/sudoers_own/trace_fuzz_iosrc_timing_exe/src_111.xml'\n",
      "Error generating signature: [Errno 2] No such file or directory: '/home/XXX/trace-modeling-oss-fuzz-c/trace_test/traces/sudoers_own/trace_fuzz_iosrc_timing_exe/src_126.xml'\n",
      "Error generating signature: [Errno 2] No such file or directory: '/home/XXX/trace-modeling-oss-fuzz-c/trace_test/traces/sudoers_own/trace_fuzz_iosrc_timing_exe/src_84.xml'\n",
      "Error generating signature: [Errno 2] No such file or directory: '/home/XXX/trace-modeling-oss-fuzz-c/trace_test/traces/sudoers_own/trace_fuzz_iosrc_timing_exe/src_335.xml'\n",
      "Error generating signature: [Errno 2] No such file or directory: '/home/XXX/trace-modeling-oss-fuzz-c/trace_test/traces/sudoers_own/trace_fuzz_iosrc_timing_exe/src_195.xml'\n",
      "Error generating signature: [Errno 2] No such file or directory: '/home/XXX/trace-modeling-oss-fuzz-c/trace_test/traces/sudoers_own/trace_fuzz_iosrc_timing_exe/src_301.xml'\n",
      "Error generating signature: [Errno 2] No such file or directory: '/home/XXX/trace-modeling-oss-fuzz-c/trace_test/traces/sudoers_own/trace_fuzz_iosrc_timing_exe/src_16.xml'\n",
      "Error generating signature: [Errno 2] No such file or directory: '/home/XXX/trace-modeling-oss-fuzz-c/trace_test/traces/sudoers_own/trace_fuzz_iosrc_timing_exe/src_267.xml'\n",
      "Error generating signature: [Errno 2] No such file or directory: '/home/XXX/trace-modeling-oss-fuzz-c/trace_test/traces/sudoers_own/trace_fuzz_iosrc_timing_exe/src_305.xml'\n",
      "Error generating signature: [Errno 2] No such file or directory: '/home/XXX/trace-modeling-oss-fuzz-c/trace_test/traces/sudoers_own/trace_fuzz_iosrc_timing_exe/src_186.xml'\n",
      "Error generating signature: [Errno 2] No such file or directory: '/home/XXX/trace-modeling-oss-fuzz-c/trace_test/traces/sudoers_own/trace_fuzz_iosrc_timing_exe/src_321.xml'\n",
      "Error generating signature: [Errno 2] No such file or directory: '/home/XXX/trace-modeling-oss-fuzz-c/trace_test/traces/sudoers_own/trace_fuzz_iosrc_timing_exe/src_337.xml'\n",
      "Error generating signature: [Errno 2] No such file or directory: '/home/XXX/trace-modeling-oss-fuzz-c/trace_test/traces/sudoers_own/trace_fuzz_iosrc_timing_exe/src_273.xml'\n",
      "Error generating signature: [Errno 2] No such file or directory: '/home/XXX/trace-modeling-oss-fuzz-c/trace_test/traces/sudoers_own/trace_fuzz_iosrc_timing_exe/src_58.xml'\n",
      "Error generating signature: [Errno 2] No such file or directory: '/home/XXX/trace-modeling-oss-fuzz-c/trace_test/traces/sudoers_own/trace_fuzz_iosrc_timing_exe/src_374.xml'\n",
      "Error generating signature: [Errno 2] No such file or directory: '/home/XXX/trace-modeling-oss-fuzz-c/trace_test/traces/sudoers_own/trace_fuzz_iosrc_timing_exe/src_346.xml'\n",
      "Error generating signature: [Errno 2] No such file or directory: '/home/XXX/trace-modeling-oss-fuzz-c/trace_test/traces/sudoers_own/trace_fuzz_iosrc_timing_exe/src_190.xml'\n",
      "Error generating signature: [Errno 2] No such file or directory: '/home/XXX/trace-modeling-oss-fuzz-c/trace_test/traces/sudoers_own/trace_fuzz_iosrc_timing_exe/src_367.xml'\n",
      "Error generating signature: [Errno 2] No such file or directory: '/home/XXX/trace-modeling-oss-fuzz-c/trace_test/traces/sudoers_own/trace_fuzz_iosrc_timing_exe/src_18.xml'\n",
      "Error generating signature: [Errno 2] No such file or directory: '/home/XXX/trace-modeling-oss-fuzz-c/trace_test/traces/sudoers_own/trace_fuzz_iosrc_timing_exe/src_79.xml'\n",
      "Error generating signature: [Errno 2] No such file or directory: '/home/XXX/trace-modeling-oss-fuzz-c/trace_test/traces/sudoers_own/trace_fuzz_iosrc_timing_exe/src_35.xml'\n",
      "Error generating signature: [Errno 2] No such file or directory: '/home/XXX/trace-modeling-oss-fuzz-c/trace_test/traces/sudoers_own/trace_fuzz_iosrc_timing_exe/src_362.xml'\n",
      "Error generating signature: [Errno 2] No such file or directory: '/home/XXX/trace-modeling-oss-fuzz-c/trace_test/traces/sudoers_own/trace_fuzz_iosrc_timing_exe/src_259.xml'\n",
      "Error generating signature: [Errno 2] No such file or directory: '/home/XXX/trace-modeling-oss-fuzz-c/trace_test/traces/sudoers_own/trace_fuzz_iosrc_timing_exe/src_97.xml'\n",
      "Error generating signature: [Errno 2] No such file or directory: '/home/XXX/trace-modeling-oss-fuzz-c/trace_test/traces/sudoers_own/trace_fuzz_iosrc_timing_exe/src_358.xml'\n",
      "Error generating signature: [Errno 2] No such file or directory: '/home/XXX/trace-modeling-oss-fuzz-c/trace_test/traces/sudoers_own/trace_fuzz_iosrc_timing_exe/src_249.xml'\n",
      "\n",
      "Processed 21280/39034 files\n",
      "Current unique count: 419\n",
      "Error generating signature: [Errno 2] No such file or directory: '/home/XXX/trace-modeling-oss-fuzz-c/trace_test/traces/sudoers_own/trace_fuzz_iosrc_timing_exe/src_307.xml'\n",
      "Error generating signature: [Errno 2] No such file or directory: '/home/XXX/trace-modeling-oss-fuzz-c/trace_test/traces/sudoers_own/trace_fuzz_iosrc_timing_exe/src_154.xml'\n",
      "Error generating signature: [Errno 2] No such file or directory: '/home/XXX/trace-modeling-oss-fuzz-c/trace_test/traces/sudoers_own/trace_fuzz_iosrc_timing_exe/src_326.xml'\n",
      "Error generating signature: [Errno 2] No such file or directory: '/home/XXX/trace-modeling-oss-fuzz-c/trace_test/traces/sudoers_own/trace_fuzz_iosrc_timing_exe/src_56.xml'\n",
      "Error generating signature: [Errno 2] No such file or directory: '/home/XXX/trace-modeling-oss-fuzz-c/trace_test/traces/sudoers_own/trace_fuzz_iosrc_timing_exe/src_138.xml'\n",
      "Error generating signature: [Errno 2] No such file or directory: '/home/XXX/trace-modeling-oss-fuzz-c/trace_test/traces/sudoers_own/trace_fuzz_iosrc_timing_exe/src_50.xml'\n",
      "Error generating signature: [Errno 2] No such file or directory: '/home/XXX/trace-modeling-oss-fuzz-c/trace_test/traces/sudoers_own/trace_fuzz_iosrc_timing_exe/src_235.xml'\n",
      "Error generating signature: [Errno 2] No such file or directory: '/home/XXX/trace-modeling-oss-fuzz-c/trace_test/traces/sudoers_own/trace_fuzz_iosrc_timing_exe/src_55.xml'\n",
      "Error generating signature: [Errno 2] No such file or directory: '/home/XXX/trace-modeling-oss-fuzz-c/trace_test/traces/sudoers_own/trace_fuzz_iosrc_timing_exe/src_339.xml'\n",
      "Error generating signature: [Errno 2] No such file or directory: '/home/XXX/trace-modeling-oss-fuzz-c/trace_test/traces/sudoers_own/trace_fuzz_iosrc_timing_exe/src_224.xml'\n",
      "Error generating signature: [Errno 2] No such file or directory: '/home/XXX/trace-modeling-oss-fuzz-c/trace_test/traces/sudoers_own/trace_fuzz_iosrc_timing_exe/src_7.xml'\n",
      "Error generating signature: [Errno 2] No such file or directory: '/home/XXX/trace-modeling-oss-fuzz-c/trace_test/traces/sudoers_own/trace_fuzz_iosrc_timing_exe/src_95.xml'\n",
      "Error generating signature: [Errno 2] No such file or directory: '/home/XXX/trace-modeling-oss-fuzz-c/trace_test/traces/sudoers_own/trace_fuzz_iosrc_timing_exe/src_74.xml'\n",
      "Error generating signature: [Errno 2] No such file or directory: '/home/XXX/trace-modeling-oss-fuzz-c/trace_test/traces/sudoers_own/trace_fuzz_iosrc_timing_exe/src_328.xml'\n",
      "Error generating signature: [Errno 2] No such file or directory: '/home/XXX/trace-modeling-oss-fuzz-c/trace_test/traces/sudoers_own/trace_fuzz_iosrc_timing_exe/src_9.xml'\n",
      "Error generating signature: [Errno 2] No such file or directory: '/home/XXX/trace-modeling-oss-fuzz-c/trace_test/traces/sudoers_own/trace_fuzz_iosrc_timing_exe/src_23.xml'\n",
      "Error generating signature: [Errno 2] No such file or directory: '/home/XXX/trace-modeling-oss-fuzz-c/trace_test/traces/sudoers_own/trace_fuzz_iosrc_timing_exe/src_278.xml'\n",
      "Error generating signature: [Errno 2] No such file or directory: '/home/XXX/trace-modeling-oss-fuzz-c/trace_test/traces/sudoers_own/trace_fuzz_iosrc_timing_exe/src_201.xml'\n",
      "Error generating signature: [Errno 2] No such file or directory: '/home/XXX/trace-modeling-oss-fuzz-c/trace_test/traces/sudoers_own/trace_fuzz_iosrc_timing_exe/src_156.xml'\n",
      "Error generating signature: [Errno 2] No such file or directory: '/home/XXX/trace-modeling-oss-fuzz-c/trace_test/traces/sudoers_own/trace_fuzz_iosrc_timing_exe/src_353.xml'\n",
      "Error generating signature: [Errno 2] No such file or directory: '/home/XXX/trace-modeling-oss-fuzz-c/trace_test/traces/sudoers_own/trace_fuzz_iosrc_timing_exe/src_59.xml'\n",
      "Error generating signature: [Errno 2] No such file or directory: '/home/XXX/trace-modeling-oss-fuzz-c/trace_test/traces/sudoers_own/trace_fuzz_iosrc_timing_exe/src_131.xml'\n",
      "Error generating signature: [Errno 2] No such file or directory: '/home/XXX/trace-modeling-oss-fuzz-c/trace_test/traces/sudoers_own/trace_fuzz_sudoers_exe/src_2.xml'\n",
      "\n",
      "Processed 21360/39034 files\n",
      "Current unique count: 419\n",
      "\n",
      "Processed 21440/39034 files\n",
      "Current unique count: 419\n"
     ]
    },
    {
     "name": "stderr",
     "output_type": "stream",
     "text": [
      " 56%|█████▌    | 21828/39034 [52:03<00:13, 1323.15it/s]"
     ]
    },
    {
     "name": "stdout",
     "output_type": "stream",
     "text": [
      "\n",
      "Processed 21520/39034 files\n",
      "Current unique count: 419\n",
      "\n",
      "Processed 21600/39034 files\n",
      "Current unique count: 419\n",
      "\n",
      "Processed 21680/39034 files\n",
      "Current unique count: 419\n",
      "\n",
      "Processed 21760/39034 files\n",
      "Current unique count: 419\n",
      "\n",
      "Processed 21840/39034 files\n",
      "Current unique count: 419\n"
     ]
    },
    {
     "name": "stderr",
     "output_type": "stream",
     "text": [
      " 57%|█████▋    | 22188/39034 [52:03<00:10, 1543.50it/s]"
     ]
    },
    {
     "name": "stdout",
     "output_type": "stream",
     "text": [
      "\n",
      "Processed 21920/39034 files\n",
      "Current unique count: 419\n",
      "\n",
      "Processed 22000/39034 files\n",
      "Current unique count: 419\n",
      "\n",
      "Processed 22080/39034 files\n",
      "Current unique count: 419\n",
      "\n",
      "Processed 22160/39034 files\n",
      "Current unique count: 419\n",
      "\n",
      "Processed 22240/39034 files\n",
      "Current unique count: 419\n"
     ]
    },
    {
     "name": "stderr",
     "output_type": "stream",
     "text": [
      " 58%|█████▊    | 22540/39034 [52:04<00:10, 1648.05it/s]"
     ]
    },
    {
     "name": "stdout",
     "output_type": "stream",
     "text": [
      "\n",
      "Processed 22320/39034 files\n",
      "Current unique count: 419\n",
      "\n",
      "Processed 22400/39034 files\n",
      "Current unique count: 419\n",
      "\n",
      "Processed 22480/39034 files\n",
      "Current unique count: 419\n",
      "\n",
      "Processed 22560/39034 files\n",
      "Current unique count: 419\n",
      "\n",
      "Processed 22640/39034 files\n",
      "Current unique count: 419\n"
     ]
    },
    {
     "name": "stderr",
     "output_type": "stream",
     "text": [
      " 59%|█████▉    | 23077/39034 [52:04<00:09, 1745.76it/s]"
     ]
    },
    {
     "name": "stdout",
     "output_type": "stream",
     "text": [
      "\n",
      "Processed 22720/39034 files\n",
      "Current unique count: 419\n",
      "\n",
      "Processed 22800/39034 files\n",
      "Current unique count: 419\n",
      "\n",
      "Processed 22880/39034 files\n",
      "Current unique count: 419\n",
      "\n",
      "Processed 22960/39034 files\n",
      "Current unique count: 419\n",
      "\n",
      "Processed 23040/39034 files\n",
      "Current unique count: 419\n"
     ]
    },
    {
     "name": "stderr",
     "output_type": "stream",
     "text": [
      " 60%|██████    | 23446/39034 [52:04<00:08, 1794.01it/s]"
     ]
    },
    {
     "name": "stdout",
     "output_type": "stream",
     "text": [
      "\n",
      "Processed 23120/39034 files\n",
      "Current unique count: 419\n",
      "\n",
      "Processed 23200/39034 files\n",
      "Current unique count: 419\n",
      "\n",
      "Processed 23280/39034 files\n",
      "Current unique count: 419\n",
      "\n",
      "Processed 23360/39034 files\n",
      "Current unique count: 419\n",
      "\n",
      "Processed 23440/39034 files\n",
      "Current unique count: 419\n"
     ]
    },
    {
     "name": "stderr",
     "output_type": "stream",
     "text": [
      " 61%|██████    | 23807/39034 [52:04<00:08, 1783.63it/s]"
     ]
    },
    {
     "name": "stdout",
     "output_type": "stream",
     "text": [
      "\n",
      "Processed 23520/39034 files\n",
      "Current unique count: 419\n",
      "\n",
      "Processed 23600/39034 files\n",
      "Current unique count: 419\n",
      "\n",
      "Processed 23680/39034 files\n",
      "Current unique count: 419\n",
      "\n",
      "Processed 23760/39034 files\n",
      "Current unique count: 419\n",
      "\n",
      "Processed 23840/39034 files\n",
      "Current unique count: 419\n"
     ]
    },
    {
     "name": "stderr",
     "output_type": "stream",
     "text": [
      " 62%|██████▏   | 24178/39034 [52:05<00:08, 1819.25it/s]"
     ]
    },
    {
     "name": "stdout",
     "output_type": "stream",
     "text": [
      "\n",
      "Processed 23920/39034 files\n",
      "Current unique count: 419\n",
      "\n",
      "Processed 24000/39034 files\n",
      "Current unique count: 419\n",
      "\n",
      "Processed 24080/39034 files\n",
      "Current unique count: 419\n",
      "\n",
      "Processed 24160/39034 files\n",
      "Current unique count: 419\n",
      "\n",
      "Processed 24240/39034 files\n",
      "Current unique count: 419\n"
     ]
    },
    {
     "name": "stderr",
     "output_type": "stream",
     "text": [
      " 63%|██████▎   | 24548/39034 [52:05<00:07, 1832.18it/s]"
     ]
    },
    {
     "name": "stdout",
     "output_type": "stream",
     "text": [
      "\n",
      "Processed 24320/39034 files\n",
      "Current unique count: 419\n",
      "\n",
      "Processed 24400/39034 files\n",
      "Current unique count: 419\n",
      "\n",
      "Processed 24480/39034 files\n",
      "Current unique count: 419\n",
      "\n",
      "Processed 24560/39034 files\n",
      "Current unique count: 419\n",
      "\n",
      "Processed 24640/39034 files\n",
      "Current unique count: 419\n"
     ]
    },
    {
     "name": "stderr",
     "output_type": "stream",
     "text": [
      " 64%|██████▍   | 24919/39034 [52:05<00:07, 1840.31it/s]"
     ]
    },
    {
     "name": "stdout",
     "output_type": "stream",
     "text": [
      "\n",
      "Processed 24720/39034 files\n",
      "Current unique count: 419\n",
      "\n",
      "Processed 24800/39034 files\n",
      "Current unique count: 419\n",
      "\n",
      "Processed 24880/39034 files\n",
      "Current unique count: 419\n",
      "\n",
      "Processed 24960/39034 files\n",
      "Current unique count: 419\n",
      "\n",
      "Processed 25040/39034 files\n",
      "Current unique count: 419\n"
     ]
    },
    {
     "name": "stderr",
     "output_type": "stream",
     "text": [
      " 65%|██████▌   | 25476/39034 [52:05<00:07, 1840.52it/s]"
     ]
    },
    {
     "name": "stdout",
     "output_type": "stream",
     "text": [
      "\n",
      "Processed 25120/39034 files\n",
      "Current unique count: 419\n",
      "\n",
      "Processed 25200/39034 files\n",
      "Current unique count: 419\n",
      "\n",
      "Processed 25280/39034 files\n",
      "Current unique count: 419\n",
      "\n",
      "Processed 25360/39034 files\n",
      "Current unique count: 419\n",
      "\n",
      "Processed 25440/39034 files\n",
      "Current unique count: 419\n"
     ]
    },
    {
     "name": "stderr",
     "output_type": "stream",
     "text": [
      "Error processing source file: Source file not found: /home/XXX/trace-modeling-oss-fuzz-c/trace_test/traces/sudoers_own/trace_fuzz_iosrc_json_exe_exe/src_0.xml\n",
      "Error processing source file: Source file not found: /home/XXX/trace-modeling-oss-fuzz-c/trace_test/traces/sudoers_own/trace_fuzz_iosrc_json_exe_exe/src_1.xml\n",
      "Error processing source file: Source file not found: /home/XXX/trace-modeling-oss-fuzz-c/trace_test/traces/sudoers_own/trace_fuzz_iosrc_json_exe_exe/src_2.xml\n"
     ]
    },
    {
     "name": "stdout",
     "output_type": "stream",
     "text": [
      "\n",
      "Processed 25520/39034 files\n",
      "Current unique count: 419\n",
      "Error generating signature: [Errno 2] No such file or directory: '/home/XXX/trace-modeling-oss-fuzz-c/trace_test/traces/sudoers_own/trace_fuzz_iosrc_json_exe_exe/src_0.xml'\n",
      "Error generating signature: [Errno 2] No such file or directory: '/home/XXX/trace-modeling-oss-fuzz-c/trace_test/traces/sudoers_own/trace_fuzz_iosrc_json_exe_exe/src_1.xml'\n",
      "Error generating signature: [Errno 2] No such file or directory: '/home/XXX/trace-modeling-oss-fuzz-c/trace_test/traces/sudoers_own/trace_fuzz_iosrc_json_exe_exe/src_2.xml'\n",
      "\n",
      "Processed 25600/39034 files\n",
      "Current unique count: 419\n"
     ]
    },
    {
     "name": "stderr",
     "output_type": "stream",
     "text": [
      " 66%|██████▌   | 25661/39034 [52:06<00:14, 927.95it/s] Error processing source file: Source file not found: /home/XXX/trace-modeling-oss-fuzz-c/trace_test/traces/sudoers_own/trace_fuzz_iosrc_legacy_exe/src_200.xml\n",
      "Error processing source file: Source file not found: /home/XXX/trace-modeling-oss-fuzz-c/trace_test/traces/sudoers_own/trace_fuzz_iosrc_legacy_exe/src_130.xml\n",
      "Error processing source file: Source file not found: /home/XXX/trace-modeling-oss-fuzz-c/trace_test/traces/sudoers_own/trace_fuzz_iosrc_legacy_exe/src_239.xml\n",
      "Error processing source file: Source file not found: /home/XXX/trace-modeling-oss-fuzz-c/trace_test/traces/sudoers_own/trace_fuzz_iosrc_legacy_exe/src_376.xml\n",
      "Error processing source file: Source file not found: /home/XXX/trace-modeling-oss-fuzz-c/trace_test/traces/sudoers_own/trace_fuzz_iosrc_legacy_exe/src_460.xml\n",
      "Error processing source file: Source file not found: /home/XXX/trace-modeling-oss-fuzz-c/trace_test/traces/sudoers_own/trace_fuzz_iosrc_legacy_exe/src_221.xml\n",
      "Error processing source file: Source file not found: /home/XXX/trace-modeling-oss-fuzz-c/trace_test/traces/sudoers_own/trace_fuzz_iosrc_legacy_exe/src_69.xml\n",
      "Error processing source file: Source file not found: /home/XXX/trace-modeling-oss-fuzz-c/trace_test/traces/sudoers_own/trace_fuzz_iosrc_legacy_exe/src_220.xml\n",
      "Error processing source file: Source file not found: /home/XXX/trace-modeling-oss-fuzz-c/trace_test/traces/sudoers_own/trace_fuzz_iosrc_legacy_exe/src_93.xml\n",
      "Error processing source file: Source file not found: /home/XXX/trace-modeling-oss-fuzz-c/trace_test/traces/sudoers_own/trace_fuzz_iosrc_legacy_exe/src_140.xml\n",
      "Error processing source file: Source file not found: /home/XXX/trace-modeling-oss-fuzz-c/trace_test/traces/sudoers_own/trace_fuzz_iosrc_legacy_exe/src_311.xml\n",
      "Error processing source file: Source file not found: /home/XXX/trace-modeling-oss-fuzz-c/trace_test/traces/sudoers_own/trace_fuzz_iosrc_legacy_exe/src_164.xml\n",
      "Error processing source file: Source file not found: /home/XXX/trace-modeling-oss-fuzz-c/trace_test/traces/sudoers_own/trace_fuzz_iosrc_legacy_exe/src_304.xml\n",
      "Error processing source file: Source file not found: /home/XXX/trace-modeling-oss-fuzz-c/trace_test/traces/sudoers_own/trace_fuzz_iosrc_legacy_exe/src_292.xml\n",
      "Error processing source file: Source file not found: /home/XXX/trace-modeling-oss-fuzz-c/trace_test/traces/sudoers_own/trace_fuzz_iosrc_legacy_exe/src_319.xml\n",
      "Error processing source file: Source file not found: /home/XXX/trace-modeling-oss-fuzz-c/trace_test/traces/sudoers_own/trace_fuzz_iosrc_legacy_exe/src_98.xml\n",
      "Error processing source file: Source file not found: /home/XXX/trace-modeling-oss-fuzz-c/trace_test/traces/sudoers_own/trace_fuzz_iosrc_legacy_exe/src_451.xml\n",
      "Error processing source file: Source file not found: /home/XXX/trace-modeling-oss-fuzz-c/trace_test/traces/sudoers_own/trace_fuzz_iosrc_legacy_exe/src_354.xml\n",
      "Error processing source file: Source file not found: /home/XXX/trace-modeling-oss-fuzz-c/trace_test/traces/sudoers_own/trace_fuzz_iosrc_legacy_exe/src_0.xml\n",
      "Error processing source file: Source file not found: /home/XXX/trace-modeling-oss-fuzz-c/trace_test/traces/sudoers_own/trace_fuzz_iosrc_legacy_exe/src_415.xml\n",
      "Error processing source file: Source file not found: /home/XXX/trace-modeling-oss-fuzz-c/trace_test/traces/sudoers_own/trace_fuzz_iosrc_legacy_exe/src_31.xml\n",
      "Error processing source file: Source file not found: /home/XXX/trace-modeling-oss-fuzz-c/trace_test/traces/sudoers_own/trace_fuzz_iosrc_legacy_exe/src_41.xml\n",
      "Error processing source file: Source file not found: /home/XXX/trace-modeling-oss-fuzz-c/trace_test/traces/sudoers_own/trace_fuzz_iosrc_legacy_exe/src_191.xml\n",
      "Error processing source file: Source file not found: /home/XXX/trace-modeling-oss-fuzz-c/trace_test/traces/sudoers_own/trace_fuzz_iosrc_legacy_exe/src_182.xml\n",
      "Error processing source file: Source file not found: /home/XXX/trace-modeling-oss-fuzz-c/trace_test/traces/sudoers_own/trace_fuzz_iosrc_legacy_exe/src_250.xml\n",
      "Error processing source file: Source file not found: /home/XXX/trace-modeling-oss-fuzz-c/trace_test/traces/sudoers_own/trace_fuzz_iosrc_legacy_exe/src_136.xml\n",
      "Error processing source file: Source file not found: /home/XXX/trace-modeling-oss-fuzz-c/trace_test/traces/sudoers_own/trace_fuzz_iosrc_legacy_exe/src_392.xml\n",
      "Error processing source file: Source file not found: /home/XXX/trace-modeling-oss-fuzz-c/trace_test/traces/sudoers_own/trace_fuzz_iosrc_legacy_exe/src_91.xml\n",
      "Error processing source file: Source file not found: /home/XXX/trace-modeling-oss-fuzz-c/trace_test/traces/sudoers_own/trace_fuzz_iosrc_legacy_exe/src_395.xml\n",
      "Error processing source file: Source file not found: /home/XXX/trace-modeling-oss-fuzz-c/trace_test/traces/sudoers_own/trace_fuzz_iosrc_legacy_exe/src_129.xml\n",
      "Error processing source file: Source file not found: /home/XXX/trace-modeling-oss-fuzz-c/trace_test/traces/sudoers_own/trace_fuzz_iosrc_legacy_exe/src_431.xml\n",
      "Error processing source file: Source file not found: /home/XXX/trace-modeling-oss-fuzz-c/trace_test/traces/sudoers_own/trace_fuzz_iosrc_legacy_exe/src_128.xml\n",
      "Error processing source file: Source file not found: /home/XXX/trace-modeling-oss-fuzz-c/trace_test/traces/sudoers_own/trace_fuzz_iosrc_legacy_exe/src_298.xml\n",
      "Error processing source file: Source file not found: /home/XXX/trace-modeling-oss-fuzz-c/trace_test/traces/sudoers_own/trace_fuzz_iosrc_legacy_exe/src_71.xml\n",
      "Error processing source file: Source file not found: /home/XXX/trace-modeling-oss-fuzz-c/trace_test/traces/sudoers_own/trace_fuzz_iosrc_legacy_exe/src_333.xml\n",
      "Error processing source file: Source file not found: /home/XXX/trace-modeling-oss-fuzz-c/trace_test/traces/sudoers_own/trace_fuzz_iosrc_legacy_exe/src_421.xml\n",
      "Error processing source file: Source file not found: /home/XXX/trace-modeling-oss-fuzz-c/trace_test/traces/sudoers_own/trace_fuzz_iosrc_legacy_exe/src_427.xml\n",
      "Error processing source file: Source file not found: /home/XXX/trace-modeling-oss-fuzz-c/trace_test/traces/sudoers_own/trace_fuzz_iosrc_legacy_exe/src_142.xml\n",
      "Error processing source file: Source file not found: /home/XXX/trace-modeling-oss-fuzz-c/trace_test/traces/sudoers_own/trace_fuzz_iosrc_legacy_exe/src_447.xml\n",
      "Error processing source file: Source file not found: /home/XXX/trace-modeling-oss-fuzz-c/trace_test/traces/sudoers_own/trace_fuzz_iosrc_legacy_exe/src_70.xml\n",
      "Error processing source file: Source file not found: /home/XXX/trace-modeling-oss-fuzz-c/trace_test/traces/sudoers_own/trace_fuzz_iosrc_legacy_exe/src_43.xml\n",
      "Error processing source file: Source file not found: /home/XXX/trace-modeling-oss-fuzz-c/trace_test/traces/sudoers_own/trace_fuzz_iosrc_legacy_exe/src_403.xml\n",
      "Error processing source file: Source file not found: /home/XXX/trace-modeling-oss-fuzz-c/trace_test/traces/sudoers_own/trace_fuzz_iosrc_legacy_exe/src_290.xml\n",
      "Error processing source file: Source file not found: /home/XXX/trace-modeling-oss-fuzz-c/trace_test/traces/sudoers_own/trace_fuzz_iosrc_legacy_exe/src_384.xml\n",
      "Error processing source file: Source file not found: /home/XXX/trace-modeling-oss-fuzz-c/trace_test/traces/sudoers_own/trace_fuzz_iosrc_legacy_exe/src_269.xml\n",
      "Error processing source file: Source file not found: /home/XXX/trace-modeling-oss-fuzz-c/trace_test/traces/sudoers_own/trace_fuzz_iosrc_legacy_exe/src_309.xml\n",
      "Error processing source file: Source file not found: /home/XXX/trace-modeling-oss-fuzz-c/trace_test/traces/sudoers_own/trace_fuzz_iosrc_legacy_exe/src_254.xml\n",
      "Error processing source file: Source file not found: /home/XXX/trace-modeling-oss-fuzz-c/trace_test/traces/sudoers_own/trace_fuzz_iosrc_legacy_exe/src_116.xml\n",
      "Error processing source file: Source file not found: /home/XXX/trace-modeling-oss-fuzz-c/trace_test/traces/sudoers_own/trace_fuzz_iosrc_legacy_exe/src_433.xml\n",
      "Error processing source file: Source file not found: /home/XXX/trace-modeling-oss-fuzz-c/trace_test/traces/sudoers_own/trace_fuzz_iosrc_legacy_exe/src_181.xml\n",
      "Error processing source file: Source file not found: /home/XXX/trace-modeling-oss-fuzz-c/trace_test/traces/sudoers_own/trace_fuzz_iosrc_legacy_exe/src_19.xml\n",
      "Error processing source file: Source file not found: /home/XXX/trace-modeling-oss-fuzz-c/trace_test/traces/sudoers_own/trace_fuzz_iosrc_legacy_exe/src_405.xml\n",
      "Error processing source file: Source file not found: /home/XXX/trace-modeling-oss-fuzz-c/trace_test/traces/sudoers_own/trace_fuzz_iosrc_legacy_exe/src_165.xml\n",
      "Error processing source file: Source file not found: /home/XXX/trace-modeling-oss-fuzz-c/trace_test/traces/sudoers_own/trace_fuzz_iosrc_legacy_exe/src_49.xml\n",
      "Error processing source file: Source file not found: /home/XXX/trace-modeling-oss-fuzz-c/trace_test/traces/sudoers_own/trace_fuzz_iosrc_legacy_exe/src_61.xml\n",
      "Error processing source file: Source file not found: /home/XXX/trace-modeling-oss-fuzz-c/trace_test/traces/sudoers_own/trace_fuzz_iosrc_legacy_exe/src_276.xml\n",
      "Error processing source file: Source file not found: /home/XXX/trace-modeling-oss-fuzz-c/trace_test/traces/sudoers_own/trace_fuzz_iosrc_legacy_exe/src_445.xml\n",
      "Error processing source file: Source file not found: /home/XXX/trace-modeling-oss-fuzz-c/trace_test/traces/sudoers_own/trace_fuzz_iosrc_legacy_exe/src_284.xml\n",
      "Error processing source file: Source file not found: /home/XXX/trace-modeling-oss-fuzz-c/trace_test/traces/sudoers_own/trace_fuzz_iosrc_legacy_exe/src_342.xml\n",
      "Error processing source file: Source file not found: /home/XXX/trace-modeling-oss-fuzz-c/trace_test/traces/sudoers_own/trace_fuzz_iosrc_legacy_exe/src_172.xml\n",
      "Error processing source file: Source file not found: /home/XXX/trace-modeling-oss-fuzz-c/trace_test/traces/sudoers_own/trace_fuzz_iosrc_legacy_exe/src_313.xml\n",
      "Error processing source file: Source file not found: /home/XXX/trace-modeling-oss-fuzz-c/trace_test/traces/sudoers_own/trace_fuzz_iosrc_legacy_exe/src_192.xml\n",
      "Error processing source file: Source file not found: /home/XXX/trace-modeling-oss-fuzz-c/trace_test/traces/sudoers_own/trace_fuzz_iosrc_legacy_exe/src_78.xml\n",
      "Error processing source file: Source file not found: /home/XXX/trace-modeling-oss-fuzz-c/trace_test/traces/sudoers_own/trace_fuzz_iosrc_legacy_exe/src_248.xml\n",
      "Error processing source file: Source file not found: /home/XXX/trace-modeling-oss-fuzz-c/trace_test/traces/sudoers_own/trace_fuzz_iosrc_legacy_exe/src_255.xml\n",
      "Error processing source file: Source file not found: /home/XXX/trace-modeling-oss-fuzz-c/trace_test/traces/sudoers_own/trace_fuzz_iosrc_legacy_exe/src_375.xml\n",
      "Error processing source file: Source file not found: /home/XXX/trace-modeling-oss-fuzz-c/trace_test/traces/sudoers_own/trace_fuzz_iosrc_legacy_exe/src_53.xml\n",
      "Error processing source file: Source file not found: /home/XXX/trace-modeling-oss-fuzz-c/trace_test/traces/sudoers_own/trace_fuzz_iosrc_legacy_exe/src_169.xml\n",
      "Error processing source file: Source file not found: /home/XXX/trace-modeling-oss-fuzz-c/trace_test/traces/sudoers_own/trace_fuzz_iosrc_legacy_exe/src_291.xml\n",
      "Error processing source file: Source file not found: /home/XXX/trace-modeling-oss-fuzz-c/trace_test/traces/sudoers_own/trace_fuzz_iosrc_legacy_exe/src_381.xml\n",
      "Error processing source file: Source file not found: /home/XXX/trace-modeling-oss-fuzz-c/trace_test/traces/sudoers_own/trace_fuzz_iosrc_legacy_exe/src_179.xml\n",
      "Error processing source file: Source file not found: /home/XXX/trace-modeling-oss-fuzz-c/trace_test/traces/sudoers_own/trace_fuzz_iosrc_legacy_exe/src_168.xml\n",
      "Error processing source file: Source file not found: /home/XXX/trace-modeling-oss-fuzz-c/trace_test/traces/sudoers_own/trace_fuzz_iosrc_legacy_exe/src_171.xml\n",
      "Error processing source file: Source file not found: /home/XXX/trace-modeling-oss-fuzz-c/trace_test/traces/sudoers_own/trace_fuzz_iosrc_legacy_exe/src_153.xml\n",
      "Error processing source file: Source file not found: /home/XXX/trace-modeling-oss-fuzz-c/trace_test/traces/sudoers_own/trace_fuzz_iosrc_legacy_exe/src_443.xml\n",
      "Error processing source file: Source file not found: /home/XXX/trace-modeling-oss-fuzz-c/trace_test/traces/sudoers_own/trace_fuzz_iosrc_legacy_exe/src_65.xml\n",
      "Error processing source file: Source file not found: /home/XXX/trace-modeling-oss-fuzz-c/trace_test/traces/sudoers_own/trace_fuzz_iosrc_legacy_exe/src_205.xml\n",
      "Error processing source file: Source file not found: /home/XXX/trace-modeling-oss-fuzz-c/trace_test/traces/sudoers_own/trace_fuzz_iosrc_legacy_exe/src_211.xml\n",
      "Error processing source file: Source file not found: /home/XXX/trace-modeling-oss-fuzz-c/trace_test/traces/sudoers_own/trace_fuzz_iosrc_legacy_exe/src_258.xml\n",
      "Error processing source file: Source file not found: /home/XXX/trace-modeling-oss-fuzz-c/trace_test/traces/sudoers_own/trace_fuzz_iosrc_legacy_exe/src_393.xml\n",
      "Error processing source file: Source file not found: /home/XXX/trace-modeling-oss-fuzz-c/trace_test/traces/sudoers_own/trace_fuzz_iosrc_legacy_exe/src_238.xml\n",
      "Error processing source file: Source file not found: /home/XXX/trace-modeling-oss-fuzz-c/trace_test/traces/sudoers_own/trace_fuzz_iosrc_legacy_exe/src_155.xml\n",
      "Error processing source file: Source file not found: /home/XXX/trace-modeling-oss-fuzz-c/trace_test/traces/sudoers_own/trace_fuzz_iosrc_legacy_exe/src_150.xml\n",
      "Error processing source file: Source file not found: /home/XXX/trace-modeling-oss-fuzz-c/trace_test/traces/sudoers_own/trace_fuzz_iosrc_legacy_exe/src_89.xml\n",
      "Error processing source file: Source file not found: /home/XXX/trace-modeling-oss-fuzz-c/trace_test/traces/sudoers_own/trace_fuzz_iosrc_legacy_exe/src_5.xml\n",
      "Error processing source file: Source file not found: /home/XXX/trace-modeling-oss-fuzz-c/trace_test/traces/sudoers_own/trace_fuzz_iosrc_legacy_exe/src_243.xml\n",
      "Error processing source file: Source file not found: /home/XXX/trace-modeling-oss-fuzz-c/trace_test/traces/sudoers_own/trace_fuzz_iosrc_legacy_exe/src_103.xml\n",
      "Error processing source file: Source file not found: /home/XXX/trace-modeling-oss-fuzz-c/trace_test/traces/sudoers_own/trace_fuzz_iosrc_legacy_exe/src_242.xml\n",
      "Error processing source file: Source file not found: /home/XXX/trace-modeling-oss-fuzz-c/trace_test/traces/sudoers_own/trace_fuzz_iosrc_legacy_exe/src_15.xml\n",
      "Error processing source file: Source file not found: /home/XXX/trace-modeling-oss-fuzz-c/trace_test/traces/sudoers_own/trace_fuzz_iosrc_legacy_exe/src_323.xml\n",
      "Error processing source file: Source file not found: /home/XXX/trace-modeling-oss-fuzz-c/trace_test/traces/sudoers_own/trace_fuzz_iosrc_legacy_exe/src_233.xml\n",
      "Error processing source file: Source file not found: /home/XXX/trace-modeling-oss-fuzz-c/trace_test/traces/sudoers_own/trace_fuzz_iosrc_legacy_exe/src_378.xml\n",
      "Error processing source file: Source file not found: /home/XXX/trace-modeling-oss-fuzz-c/trace_test/traces/sudoers_own/trace_fuzz_iosrc_legacy_exe/src_360.xml\n",
      "Error processing source file: Source file not found: /home/XXX/trace-modeling-oss-fuzz-c/trace_test/traces/sudoers_own/trace_fuzz_iosrc_legacy_exe/src_222.xml\n",
      "Error processing source file: Source file not found: /home/XXX/trace-modeling-oss-fuzz-c/trace_test/traces/sudoers_own/trace_fuzz_iosrc_legacy_exe/src_456.xml\n",
      "Error processing source file: Source file not found: /home/XXX/trace-modeling-oss-fuzz-c/trace_test/traces/sudoers_own/trace_fuzz_iosrc_legacy_exe/src_434.xml\n",
      "Error processing source file: Source file not found: /home/XXX/trace-modeling-oss-fuzz-c/trace_test/traces/sudoers_own/trace_fuzz_iosrc_legacy_exe/src_351.xml\n",
      "Error processing source file: Source file not found: /home/XXX/trace-modeling-oss-fuzz-c/trace_test/traces/sudoers_own/trace_fuzz_iosrc_legacy_exe/src_109.xml\n",
      "Error processing source file: Source file not found: /home/XXX/trace-modeling-oss-fuzz-c/trace_test/traces/sudoers_own/trace_fuzz_iosrc_legacy_exe/src_10.xml\n",
      "Error processing source file: Source file not found: /home/XXX/trace-modeling-oss-fuzz-c/trace_test/traces/sudoers_own/trace_fuzz_iosrc_legacy_exe/src_13.xml\n",
      "Error processing source file: Source file not found: /home/XXX/trace-modeling-oss-fuzz-c/trace_test/traces/sudoers_own/trace_fuzz_iosrc_legacy_exe/src_12.xml\n",
      "Error processing source file: Source file not found: /home/XXX/trace-modeling-oss-fuzz-c/trace_test/traces/sudoers_own/trace_fuzz_iosrc_legacy_exe/src_161.xml\n",
      "Error processing source file: Source file not found: /home/XXX/trace-modeling-oss-fuzz-c/trace_test/traces/sudoers_own/trace_fuzz_iosrc_legacy_exe/src_356.xml\n",
      "Error processing source file: Source file not found: /home/XXX/trace-modeling-oss-fuzz-c/trace_test/traces/sudoers_own/trace_fuzz_iosrc_legacy_exe/src_343.xml\n",
      "Error processing source file: Source file not found: /home/XXX/trace-modeling-oss-fuzz-c/trace_test/traces/sudoers_own/trace_fuzz_iosrc_legacy_exe/src_3.xml\n",
      "Error processing source file: Source file not found: /home/XXX/trace-modeling-oss-fuzz-c/trace_test/traces/sudoers_own/trace_fuzz_iosrc_legacy_exe/src_117.xml\n",
      "Error processing source file: Source file not found: /home/XXX/trace-modeling-oss-fuzz-c/trace_test/traces/sudoers_own/trace_fuzz_iosrc_legacy_exe/src_280.xml\n",
      "Error processing source file: Source file not found: /home/XXX/trace-modeling-oss-fuzz-c/trace_test/traces/sudoers_own/trace_fuzz_iosrc_legacy_exe/src_364.xml\n",
      "Error processing source file: Source file not found: /home/XXX/trace-modeling-oss-fuzz-c/trace_test/traces/sudoers_own/trace_fuzz_iosrc_legacy_exe/src_206.xml\n",
      "Error processing source file: Source file not found: /home/XXX/trace-modeling-oss-fuzz-c/trace_test/traces/sudoers_own/trace_fuzz_iosrc_legacy_exe/src_308.xml\n",
      "Error processing source file: Source file not found: /home/XXX/trace-modeling-oss-fuzz-c/trace_test/traces/sudoers_own/trace_fuzz_iosrc_legacy_exe/src_446.xml\n",
      "Error processing source file: Source file not found: /home/XXX/trace-modeling-oss-fuzz-c/trace_test/traces/sudoers_own/trace_fuzz_iosrc_legacy_exe/src_158.xml\n",
      "Error processing source file: Source file not found: /home/XXX/trace-modeling-oss-fuzz-c/trace_test/traces/sudoers_own/trace_fuzz_iosrc_legacy_exe/src_27.xml\n",
      "Error processing source file: Source file not found: /home/XXX/trace-modeling-oss-fuzz-c/trace_test/traces/sudoers_own/trace_fuzz_iosrc_legacy_exe/src_359.xml\n",
      "Error processing source file: Source file not found: /home/XXX/trace-modeling-oss-fuzz-c/trace_test/traces/sudoers_own/trace_fuzz_iosrc_legacy_exe/src_20.xml\n",
      "Error processing source file: Source file not found: /home/XXX/trace-modeling-oss-fuzz-c/trace_test/traces/sudoers_own/trace_fuzz_iosrc_legacy_exe/src_347.xml\n",
      "Error processing source file: Source file not found: /home/XXX/trace-modeling-oss-fuzz-c/trace_test/traces/sudoers_own/trace_fuzz_iosrc_legacy_exe/src_428.xml\n",
      "Error processing source file: Source file not found: /home/XXX/trace-modeling-oss-fuzz-c/trace_test/traces/sudoers_own/trace_fuzz_iosrc_legacy_exe/src_252.xml\n",
      "Error processing source file: Source file not found: /home/XXX/trace-modeling-oss-fuzz-c/trace_test/traces/sudoers_own/trace_fuzz_iosrc_legacy_exe/src_166.xml\n",
      "Error processing source file: Source file not found: /home/XXX/trace-modeling-oss-fuzz-c/trace_test/traces/sudoers_own/trace_fuzz_iosrc_legacy_exe/src_327.xml\n",
      "Error processing source file: Source file not found: /home/XXX/trace-modeling-oss-fuzz-c/trace_test/traces/sudoers_own/trace_fuzz_iosrc_legacy_exe/src_60.xml\n",
      "Error processing source file: Source file not found: /home/XXX/trace-modeling-oss-fuzz-c/trace_test/traces/sudoers_own/trace_fuzz_iosrc_legacy_exe/src_183.xml\n",
      "Error processing source file: Source file not found: /home/XXX/trace-modeling-oss-fuzz-c/trace_test/traces/sudoers_own/trace_fuzz_iosrc_legacy_exe/src_106.xml\n",
      "Error processing source file: Source file not found: /home/XXX/trace-modeling-oss-fuzz-c/trace_test/traces/sudoers_own/trace_fuzz_iosrc_legacy_exe/src_263.xml\n",
      "Error processing source file: Source file not found: /home/XXX/trace-modeling-oss-fuzz-c/trace_test/traces/sudoers_own/trace_fuzz_iosrc_legacy_exe/src_100.xml\n",
      "Error processing source file: Source file not found: /home/XXX/trace-modeling-oss-fuzz-c/trace_test/traces/sudoers_own/trace_fuzz_iosrc_legacy_exe/src_86.xml\n",
      "Error processing source file: Source file not found: /home/XXX/trace-modeling-oss-fuzz-c/trace_test/traces/sudoers_own/trace_fuzz_iosrc_legacy_exe/src_146.xml\n",
      "Error processing source file: Source file not found: /home/XXX/trace-modeling-oss-fuzz-c/trace_test/traces/sudoers_own/trace_fuzz_iosrc_legacy_exe/src_344.xml\n",
      "Error processing source file: Source file not found: /home/XXX/trace-modeling-oss-fuzz-c/trace_test/traces/sudoers_own/trace_fuzz_iosrc_legacy_exe/src_219.xml\n",
      "Error processing source file: Source file not found: /home/XXX/trace-modeling-oss-fuzz-c/trace_test/traces/sudoers_own/trace_fuzz_iosrc_legacy_exe/src_457.xml\n",
      "Error processing source file: Source file not found: /home/XXX/trace-modeling-oss-fuzz-c/trace_test/traces/sudoers_own/trace_fuzz_iosrc_legacy_exe/src_315.xml\n",
      "Error processing source file: Source file not found: /home/XXX/trace-modeling-oss-fuzz-c/trace_test/traces/sudoers_own/trace_fuzz_iosrc_legacy_exe/src_228.xml\n",
      "Error processing source file: Source file not found: /home/XXX/trace-modeling-oss-fuzz-c/trace_test/traces/sudoers_own/trace_fuzz_iosrc_legacy_exe/src_413.xml\n",
      "Error processing source file: Source file not found: /home/XXX/trace-modeling-oss-fuzz-c/trace_test/traces/sudoers_own/trace_fuzz_iosrc_legacy_exe/src_287.xml\n",
      "Error processing source file: Source file not found: /home/XXX/trace-modeling-oss-fuzz-c/trace_test/traces/sudoers_own/trace_fuzz_iosrc_legacy_exe/src_264.xml\n",
      "Error processing source file: Source file not found: /home/XXX/trace-modeling-oss-fuzz-c/trace_test/traces/sudoers_own/trace_fuzz_iosrc_legacy_exe/src_101.xml\n",
      "Error processing source file: Source file not found: /home/XXX/trace-modeling-oss-fuzz-c/trace_test/traces/sudoers_own/trace_fuzz_iosrc_legacy_exe/src_461.xml\n",
      "Error processing source file: Source file not found: /home/XXX/trace-modeling-oss-fuzz-c/trace_test/traces/sudoers_own/trace_fuzz_iosrc_legacy_exe/src_120.xml\n",
      "Error processing source file: Source file not found: /home/XXX/trace-modeling-oss-fuzz-c/trace_test/traces/sudoers_own/trace_fuzz_iosrc_legacy_exe/src_204.xml\n",
      "Error processing source file: Source file not found: /home/XXX/trace-modeling-oss-fuzz-c/trace_test/traces/sudoers_own/trace_fuzz_iosrc_legacy_exe/src_107.xml\n",
      "Error processing source file: Source file not found: /home/XXX/trace-modeling-oss-fuzz-c/trace_test/traces/sudoers_own/trace_fuzz_iosrc_legacy_exe/src_178.xml\n",
      "Error processing source file: Source file not found: /home/XXX/trace-modeling-oss-fuzz-c/trace_test/traces/sudoers_own/trace_fuzz_iosrc_legacy_exe/src_372.xml\n",
      "Error processing source file: Source file not found: /home/XXX/trace-modeling-oss-fuzz-c/trace_test/traces/sudoers_own/trace_fuzz_iosrc_legacy_exe/src_110.xml\n",
      "Error processing source file: Source file not found: /home/XXX/trace-modeling-oss-fuzz-c/trace_test/traces/sudoers_own/trace_fuzz_iosrc_legacy_exe/src_366.xml\n",
      "Error processing source file: Source file not found: /home/XXX/trace-modeling-oss-fuzz-c/trace_test/traces/sudoers_own/trace_fuzz_iosrc_legacy_exe/src_410.xml\n",
      "Error processing source file: Source file not found: /home/XXX/trace-modeling-oss-fuzz-c/trace_test/traces/sudoers_own/trace_fuzz_iosrc_legacy_exe/src_144.xml\n",
      "Error processing source file: Source file not found: /home/XXX/trace-modeling-oss-fuzz-c/trace_test/traces/sudoers_own/trace_fuzz_iosrc_legacy_exe/src_240.xml\n",
      "Error processing source file: Source file not found: /home/XXX/trace-modeling-oss-fuzz-c/trace_test/traces/sudoers_own/trace_fuzz_iosrc_legacy_exe/src_261.xml\n",
      "Error processing source file: Source file not found: /home/XXX/trace-modeling-oss-fuzz-c/trace_test/traces/sudoers_own/trace_fuzz_iosrc_legacy_exe/src_198.xml\n",
      "Error processing source file: Source file not found: /home/XXX/trace-modeling-oss-fuzz-c/trace_test/traces/sudoers_own/trace_fuzz_iosrc_legacy_exe/src_371.xml\n",
      "Error processing source file: Source file not found: /home/XXX/trace-modeling-oss-fuzz-c/trace_test/traces/sudoers_own/trace_fuzz_iosrc_legacy_exe/src_398.xml\n",
      "Error processing source file: Source file not found: /home/XXX/trace-modeling-oss-fuzz-c/trace_test/traces/sudoers_own/trace_fuzz_iosrc_legacy_exe/src_303.xml\n",
      "Error processing source file: Source file not found: /home/XXX/trace-modeling-oss-fuzz-c/trace_test/traces/sudoers_own/trace_fuzz_iosrc_legacy_exe/src_268.xml\n",
      "Error processing source file: Source file not found: /home/XXX/trace-modeling-oss-fuzz-c/trace_test/traces/sudoers_own/trace_fuzz_iosrc_legacy_exe/src_318.xml\n",
      "Error processing source file: Source file not found: /home/XXX/trace-modeling-oss-fuzz-c/trace_test/traces/sudoers_own/trace_fuzz_iosrc_legacy_exe/src_272.xml\n",
      "Error processing source file: Source file not found: /home/XXX/trace-modeling-oss-fuzz-c/trace_test/traces/sudoers_own/trace_fuzz_iosrc_legacy_exe/src_135.xml\n",
      "Error processing source file: Source file not found: /home/XXX/trace-modeling-oss-fuzz-c/trace_test/traces/sudoers_own/trace_fuzz_iosrc_legacy_exe/src_314.xml\n",
      "Error processing source file: Source file not found: /home/XXX/trace-modeling-oss-fuzz-c/trace_test/traces/sudoers_own/trace_fuzz_iosrc_legacy_exe/src_88.xml\n",
      "Error processing source file: Source file not found: /home/XXX/trace-modeling-oss-fuzz-c/trace_test/traces/sudoers_own/trace_fuzz_iosrc_legacy_exe/src_125.xml\n",
      "Error processing source file: Source file not found: /home/XXX/trace-modeling-oss-fuzz-c/trace_test/traces/sudoers_own/trace_fuzz_iosrc_legacy_exe/src_300.xml\n",
      "Error processing source file: Source file not found: /home/XXX/trace-modeling-oss-fuzz-c/trace_test/traces/sudoers_own/trace_fuzz_iosrc_legacy_exe/src_44.xml\n",
      "Error processing source file: Source file not found: /home/XXX/trace-modeling-oss-fuzz-c/trace_test/traces/sudoers_own/trace_fuzz_iosrc_legacy_exe/src_141.xml\n",
      "Error processing source file: Source file not found: /home/XXX/trace-modeling-oss-fuzz-c/trace_test/traces/sudoers_own/trace_fuzz_iosrc_legacy_exe/src_330.xml\n",
      "Error processing source file: Source file not found: /home/XXX/trace-modeling-oss-fuzz-c/trace_test/traces/sudoers_own/trace_fuzz_iosrc_legacy_exe/src_316.xml\n",
      "Error processing source file: Source file not found: /home/XXX/trace-modeling-oss-fuzz-c/trace_test/traces/sudoers_own/trace_fuzz_iosrc_legacy_exe/src_310.xml\n",
      "Error processing source file: Source file not found: /home/XXX/trace-modeling-oss-fuzz-c/trace_test/traces/sudoers_own/trace_fuzz_iosrc_legacy_exe/src_237.xml\n",
      "Error processing source file: Source file not found: /home/XXX/trace-modeling-oss-fuzz-c/trace_test/traces/sudoers_own/trace_fuzz_iosrc_legacy_exe/src_438.xml\n",
      "Error processing source file: Source file not found: /home/XXX/trace-modeling-oss-fuzz-c/trace_test/traces/sudoers_own/trace_fuzz_iosrc_legacy_exe/src_365.xml\n",
      "Error processing source file: Source file not found: /home/XXX/trace-modeling-oss-fuzz-c/trace_test/traces/sudoers_own/trace_fuzz_iosrc_legacy_exe/src_40.xml\n",
      "Error processing source file: Source file not found: /home/XXX/trace-modeling-oss-fuzz-c/trace_test/traces/sudoers_own/trace_fuzz_iosrc_legacy_exe/src_85.xml\n",
      "Error processing source file: Source file not found: /home/XXX/trace-modeling-oss-fuzz-c/trace_test/traces/sudoers_own/trace_fuzz_iosrc_legacy_exe/src_336.xml\n",
      "Error processing source file: Source file not found: /home/XXX/trace-modeling-oss-fuzz-c/trace_test/traces/sudoers_own/trace_fuzz_iosrc_legacy_exe/src_188.xml\n",
      "Error processing source file: Source file not found: /home/XXX/trace-modeling-oss-fuzz-c/trace_test/traces/sudoers_own/trace_fuzz_iosrc_legacy_exe/src_402.xml\n",
      "Error processing source file: Source file not found: /home/XXX/trace-modeling-oss-fuzz-c/trace_test/traces/sudoers_own/trace_fuzz_iosrc_legacy_exe/src_189.xml\n",
      "Error processing source file: Source file not found: /home/XXX/trace-modeling-oss-fuzz-c/trace_test/traces/sudoers_own/trace_fuzz_iosrc_legacy_exe/src_21.xml\n",
      "Error processing source file: Source file not found: /home/XXX/trace-modeling-oss-fuzz-c/trace_test/traces/sudoers_own/trace_fuzz_iosrc_legacy_exe/src_167.xml\n",
      "Error processing source file: Source file not found: /home/XXX/trace-modeling-oss-fuzz-c/trace_test/traces/sudoers_own/trace_fuzz_iosrc_legacy_exe/src_87.xml\n",
      "Error processing source file: Source file not found: /home/XXX/trace-modeling-oss-fuzz-c/trace_test/traces/sudoers_own/trace_fuzz_iosrc_legacy_exe/src_170.xml\n",
      "Error processing source file: Source file not found: /home/XXX/trace-modeling-oss-fuzz-c/trace_test/traces/sudoers_own/trace_fuzz_iosrc_legacy_exe/src_213.xml\n",
      "Error processing source file: Source file not found: /home/XXX/trace-modeling-oss-fuzz-c/trace_test/traces/sudoers_own/trace_fuzz_iosrc_legacy_exe/src_331.xml\n",
      "Error processing source file: Source file not found: /home/XXX/trace-modeling-oss-fuzz-c/trace_test/traces/sudoers_own/trace_fuzz_iosrc_legacy_exe/src_194.xml\n",
      "Error processing source file: Source file not found: /home/XXX/trace-modeling-oss-fuzz-c/trace_test/traces/sudoers_own/trace_fuzz_iosrc_legacy_exe/src_225.xml\n",
      "Error processing source file: Source file not found: /home/XXX/trace-modeling-oss-fuzz-c/trace_test/traces/sudoers_own/trace_fuzz_iosrc_legacy_exe/src_30.xml\n",
      "Error processing source file: Source file not found: /home/XXX/trace-modeling-oss-fuzz-c/trace_test/traces/sudoers_own/trace_fuzz_iosrc_legacy_exe/src_387.xml\n",
      "Error processing source file: Source file not found: /home/XXX/trace-modeling-oss-fuzz-c/trace_test/traces/sudoers_own/trace_fuzz_iosrc_legacy_exe/src_286.xml\n",
      "Error processing source file: Source file not found: /home/XXX/trace-modeling-oss-fuzz-c/trace_test/traces/sudoers_own/trace_fuzz_iosrc_legacy_exe/src_424.xml\n",
      "Error processing source file: Source file not found: /home/XXX/trace-modeling-oss-fuzz-c/trace_test/traces/sudoers_own/trace_fuzz_iosrc_legacy_exe/src_386.xml\n",
      "Error processing source file: Source file not found: /home/XXX/trace-modeling-oss-fuzz-c/trace_test/traces/sudoers_own/trace_fuzz_iosrc_legacy_exe/src_215.xml\n",
      "Error processing source file: Source file not found: /home/XXX/trace-modeling-oss-fuzz-c/trace_test/traces/sudoers_own/trace_fuzz_iosrc_legacy_exe/src_26.xml\n",
      "Error processing source file: Source file not found: /home/XXX/trace-modeling-oss-fuzz-c/trace_test/traces/sudoers_own/trace_fuzz_iosrc_legacy_exe/src_404.xml\n",
      "Error processing source file: Source file not found: /home/XXX/trace-modeling-oss-fuzz-c/trace_test/traces/sudoers_own/trace_fuzz_iosrc_legacy_exe/src_422.xml\n",
      "Error processing source file: Source file not found: /home/XXX/trace-modeling-oss-fuzz-c/trace_test/traces/sudoers_own/trace_fuzz_iosrc_legacy_exe/src_454.xml\n",
      "Error processing source file: Source file not found: /home/XXX/trace-modeling-oss-fuzz-c/trace_test/traces/sudoers_own/trace_fuzz_iosrc_legacy_exe/src_262.xml\n",
      "Error processing source file: Source file not found: /home/XXX/trace-modeling-oss-fuzz-c/trace_test/traces/sudoers_own/trace_fuzz_iosrc_legacy_exe/src_184.xml\n",
      "Error processing source file: Source file not found: /home/XXX/trace-modeling-oss-fuzz-c/trace_test/traces/sudoers_own/trace_fuzz_iosrc_legacy_exe/src_418.xml\n",
      "Error processing source file: Source file not found: /home/XXX/trace-modeling-oss-fuzz-c/trace_test/traces/sudoers_own/trace_fuzz_iosrc_legacy_exe/src_105.xml\n",
      "Error processing source file: Source file not found: /home/XXX/trace-modeling-oss-fuzz-c/trace_test/traces/sudoers_own/trace_fuzz_iosrc_legacy_exe/src_176.xml\n",
      "Error processing source file: Source file not found: /home/XXX/trace-modeling-oss-fuzz-c/trace_test/traces/sudoers_own/trace_fuzz_iosrc_legacy_exe/src_37.xml\n",
      "Error processing source file: Source file not found: /home/XXX/trace-modeling-oss-fuzz-c/trace_test/traces/sudoers_own/trace_fuzz_iosrc_legacy_exe/src_435.xml\n",
      "Error processing source file: Source file not found: /home/XXX/trace-modeling-oss-fuzz-c/trace_test/traces/sudoers_own/trace_fuzz_iosrc_legacy_exe/src_42.xml\n",
      "Error processing source file: Source file not found: /home/XXX/trace-modeling-oss-fuzz-c/trace_test/traces/sudoers_own/trace_fuzz_iosrc_legacy_exe/src_152.xml\n",
      "Error processing source file: Source file not found: /home/XXX/trace-modeling-oss-fuzz-c/trace_test/traces/sudoers_own/trace_fuzz_iosrc_legacy_exe/src_348.xml\n",
      "Error processing source file: Source file not found: /home/XXX/trace-modeling-oss-fuzz-c/trace_test/traces/sudoers_own/trace_fuzz_iosrc_legacy_exe/src_373.xml\n",
      "Error processing source file: Source file not found: /home/XXX/trace-modeling-oss-fuzz-c/trace_test/traces/sudoers_own/trace_fuzz_iosrc_legacy_exe/src_159.xml\n",
      "Error processing source file: Source file not found: /home/XXX/trace-modeling-oss-fuzz-c/trace_test/traces/sudoers_own/trace_fuzz_iosrc_legacy_exe/src_425.xml\n",
      "Error processing source file: Source file not found: /home/XXX/trace-modeling-oss-fuzz-c/trace_test/traces/sudoers_own/trace_fuzz_iosrc_legacy_exe/src_411.xml\n",
      "Error processing source file: Source file not found: /home/XXX/trace-modeling-oss-fuzz-c/trace_test/traces/sudoers_own/trace_fuzz_iosrc_legacy_exe/src_180.xml\n",
      "Error processing source file: Source file not found: /home/XXX/trace-modeling-oss-fuzz-c/trace_test/traces/sudoers_own/trace_fuzz_iosrc_legacy_exe/src_401.xml\n",
      "Error processing source file: Source file not found: /home/XXX/trace-modeling-oss-fuzz-c/trace_test/traces/sudoers_own/trace_fuzz_iosrc_legacy_exe/src_218.xml\n",
      "Error processing source file: Source file not found: /home/XXX/trace-modeling-oss-fuzz-c/trace_test/traces/sudoers_own/trace_fuzz_iosrc_legacy_exe/src_282.xml\n",
      "Error processing source file: Source file not found: /home/XXX/trace-modeling-oss-fuzz-c/trace_test/traces/sudoers_own/trace_fuzz_iosrc_legacy_exe/src_223.xml\n",
      "Error processing source file: Source file not found: /home/XXX/trace-modeling-oss-fuzz-c/trace_test/traces/sudoers_own/trace_fuzz_iosrc_legacy_exe/src_149.xml\n",
      "Error processing source file: Source file not found: /home/XXX/trace-modeling-oss-fuzz-c/trace_test/traces/sudoers_own/trace_fuzz_iosrc_legacy_exe/src_132.xml\n",
      "Error processing source file: Source file not found: /home/XXX/trace-modeling-oss-fuzz-c/trace_test/traces/sudoers_own/trace_fuzz_iosrc_legacy_exe/src_54.xml\n",
      "Error processing source file: Source file not found: /home/XXX/trace-modeling-oss-fuzz-c/trace_test/traces/sudoers_own/trace_fuzz_iosrc_legacy_exe/src_350.xml\n",
      "Error processing source file: Source file not found: /home/XXX/trace-modeling-oss-fuzz-c/trace_test/traces/sudoers_own/trace_fuzz_iosrc_legacy_exe/src_338.xml\n",
      "Error processing source file: Source file not found: /home/XXX/trace-modeling-oss-fuzz-c/trace_test/traces/sudoers_own/trace_fuzz_iosrc_legacy_exe/src_209.xml\n",
      "Error processing source file: Source file not found: /home/XXX/trace-modeling-oss-fuzz-c/trace_test/traces/sudoers_own/trace_fuzz_iosrc_legacy_exe/src_449.xml\n",
      "Error processing source file: Source file not found: /home/XXX/trace-modeling-oss-fuzz-c/trace_test/traces/sudoers_own/trace_fuzz_iosrc_legacy_exe/src_452.xml\n",
      "Error processing source file: Source file not found: /home/XXX/trace-modeling-oss-fuzz-c/trace_test/traces/sudoers_own/trace_fuzz_iosrc_legacy_exe/src_118.xml\n",
      "Error processing source file: Source file not found: /home/XXX/trace-modeling-oss-fuzz-c/trace_test/traces/sudoers_own/trace_fuzz_iosrc_legacy_exe/src_14.xml\n",
      "Error processing source file: Source file not found: /home/XXX/trace-modeling-oss-fuzz-c/trace_test/traces/sudoers_own/trace_fuzz_iosrc_legacy_exe/src_293.xml\n",
      "Error processing source file: Source file not found: /home/XXX/trace-modeling-oss-fuzz-c/trace_test/traces/sudoers_own/trace_fuzz_iosrc_legacy_exe/src_257.xml\n",
      "Error processing source file: Source file not found: /home/XXX/trace-modeling-oss-fuzz-c/trace_test/traces/sudoers_own/trace_fuzz_iosrc_legacy_exe/src_266.xml\n",
      "Error processing source file: Source file not found: /home/XXX/trace-modeling-oss-fuzz-c/trace_test/traces/sudoers_own/trace_fuzz_iosrc_legacy_exe/src_436.xml\n",
      "Error processing source file: Source file not found: /home/XXX/trace-modeling-oss-fuzz-c/trace_test/traces/sudoers_own/trace_fuzz_iosrc_legacy_exe/src_260.xml\n",
      "Error processing source file: Source file not found: /home/XXX/trace-modeling-oss-fuzz-c/trace_test/traces/sudoers_own/trace_fuzz_iosrc_legacy_exe/src_450.xml\n",
      "Error processing source file: Source file not found: /home/XXX/trace-modeling-oss-fuzz-c/trace_test/traces/sudoers_own/trace_fuzz_iosrc_legacy_exe/src_73.xml\n",
      "Error processing source file: Source file not found: /home/XXX/trace-modeling-oss-fuzz-c/trace_test/traces/sudoers_own/trace_fuzz_iosrc_legacy_exe/src_383.xml\n",
      "Error processing source file: Source file not found: /home/XXX/trace-modeling-oss-fuzz-c/trace_test/traces/sudoers_own/trace_fuzz_iosrc_legacy_exe/src_345.xml\n",
      "Error processing source file: Source file not found: /home/XXX/trace-modeling-oss-fuzz-c/trace_test/traces/sudoers_own/trace_fuzz_iosrc_legacy_exe/src_283.xml\n",
      "Error processing source file: Source file not found: /home/XXX/trace-modeling-oss-fuzz-c/trace_test/traces/sudoers_own/trace_fuzz_iosrc_legacy_exe/src_72.xml\n",
      "Error processing source file: Source file not found: /home/XXX/trace-modeling-oss-fuzz-c/trace_test/traces/sudoers_own/trace_fuzz_iosrc_legacy_exe/src_236.xml\n",
      "Error processing source file: Source file not found: /home/XXX/trace-modeling-oss-fuzz-c/trace_test/traces/sudoers_own/trace_fuzz_iosrc_legacy_exe/src_441.xml\n",
      "Error processing source file: Source file not found: /home/XXX/trace-modeling-oss-fuzz-c/trace_test/traces/sudoers_own/trace_fuzz_iosrc_legacy_exe/src_119.xml\n",
      "Error processing source file: Source file not found: /home/XXX/trace-modeling-oss-fuzz-c/trace_test/traces/sudoers_own/trace_fuzz_iosrc_legacy_exe/src_394.xml\n",
      "Error processing source file: Source file not found: /home/XXX/trace-modeling-oss-fuzz-c/trace_test/traces/sudoers_own/trace_fuzz_iosrc_legacy_exe/src_46.xml\n",
      "Error processing source file: Source file not found: /home/XXX/trace-modeling-oss-fuzz-c/trace_test/traces/sudoers_own/trace_fuzz_iosrc_legacy_exe/src_312.xml\n",
      "Error processing source file: Source file not found: /home/XXX/trace-modeling-oss-fuzz-c/trace_test/traces/sudoers_own/trace_fuzz_iosrc_legacy_exe/src_352.xml\n",
      "Error processing source file: Source file not found: /home/XXX/trace-modeling-oss-fuzz-c/trace_test/traces/sudoers_own/trace_fuzz_iosrc_legacy_exe/src_340.xml\n",
      "Error processing source file: Source file not found: /home/XXX/trace-modeling-oss-fuzz-c/trace_test/traces/sudoers_own/trace_fuzz_iosrc_legacy_exe/src_265.xml\n",
      "Error processing source file: Source file not found: /home/XXX/trace-modeling-oss-fuzz-c/trace_test/traces/sudoers_own/trace_fuzz_iosrc_legacy_exe/src_25.xml\n",
      "Error processing source file: Source file not found: /home/XXX/trace-modeling-oss-fuzz-c/trace_test/traces/sudoers_own/trace_fuzz_iosrc_legacy_exe/src_81.xml\n",
      "Error processing source file: Source file not found: /home/XXX/trace-modeling-oss-fuzz-c/trace_test/traces/sudoers_own/trace_fuzz_iosrc_legacy_exe/src_277.xml\n",
      "Error processing source file: Source file not found: /home/XXX/trace-modeling-oss-fuzz-c/trace_test/traces/sudoers_own/trace_fuzz_iosrc_legacy_exe/src_226.xml\n",
      "Error processing source file: Source file not found: /home/XXX/trace-modeling-oss-fuzz-c/trace_test/traces/sudoers_own/trace_fuzz_iosrc_legacy_exe/src_67.xml\n",
      "Error processing source file: Source file not found: /home/XXX/trace-modeling-oss-fuzz-c/trace_test/traces/sudoers_own/trace_fuzz_iosrc_legacy_exe/src_76.xml\n",
      "Error processing source file: Source file not found: /home/XXX/trace-modeling-oss-fuzz-c/trace_test/traces/sudoers_own/trace_fuzz_iosrc_legacy_exe/src_385.xml\n",
      "Error processing source file: Source file not found: /home/XXX/trace-modeling-oss-fuzz-c/trace_test/traces/sudoers_own/trace_fuzz_iosrc_legacy_exe/src_104.xml\n",
      "Error processing source file: Source file not found: /home/XXX/trace-modeling-oss-fuzz-c/trace_test/traces/sudoers_own/trace_fuzz_iosrc_legacy_exe/src_289.xml\n",
      "Error processing source file: Source file not found: /home/XXX/trace-modeling-oss-fuzz-c/trace_test/traces/sudoers_own/trace_fuzz_iosrc_legacy_exe/src_370.xml\n",
      "Error processing source file: Source file not found: /home/XXX/trace-modeling-oss-fuzz-c/trace_test/traces/sudoers_own/trace_fuzz_iosrc_legacy_exe/src_341.xml\n",
      "Error processing source file: Source file not found: /home/XXX/trace-modeling-oss-fuzz-c/trace_test/traces/sudoers_own/trace_fuzz_iosrc_legacy_exe/src_28.xml\n",
      "Error processing source file: Source file not found: /home/XXX/trace-modeling-oss-fuzz-c/trace_test/traces/sudoers_own/trace_fuzz_iosrc_legacy_exe/src_245.xml\n",
      "Error processing source file: Source file not found: /home/XXX/trace-modeling-oss-fuzz-c/trace_test/traces/sudoers_own/trace_fuzz_iosrc_legacy_exe/src_231.xml\n",
      "Error processing source file: Source file not found: /home/XXX/trace-modeling-oss-fuzz-c/trace_test/traces/sudoers_own/trace_fuzz_iosrc_legacy_exe/src_45.xml\n",
      "Error processing source file: Source file not found: /home/XXX/trace-modeling-oss-fuzz-c/trace_test/traces/sudoers_own/trace_fuzz_iosrc_legacy_exe/src_458.xml\n",
      "Error processing source file: Source file not found: /home/XXX/trace-modeling-oss-fuzz-c/trace_test/traces/sudoers_own/trace_fuzz_iosrc_legacy_exe/src_32.xml\n",
      "Error processing source file: Source file not found: /home/XXX/trace-modeling-oss-fuzz-c/trace_test/traces/sudoers_own/trace_fuzz_iosrc_legacy_exe/src_187.xml\n",
      "Error processing source file: Source file not found: /home/XXX/trace-modeling-oss-fuzz-c/trace_test/traces/sudoers_own/trace_fuzz_iosrc_legacy_exe/src_17.xml\n",
      "Error processing source file: Source file not found: /home/XXX/trace-modeling-oss-fuzz-c/trace_test/traces/sudoers_own/trace_fuzz_iosrc_legacy_exe/src_437.xml\n",
      "Error processing source file: Source file not found: /home/XXX/trace-modeling-oss-fuzz-c/trace_test/traces/sudoers_own/trace_fuzz_iosrc_legacy_exe/src_203.xml\n",
      "Error processing source file: Source file not found: /home/XXX/trace-modeling-oss-fuzz-c/trace_test/traces/sudoers_own/trace_fuzz_iosrc_legacy_exe/src_320.xml\n",
      "Error processing source file: Source file not found: /home/XXX/trace-modeling-oss-fuzz-c/trace_test/traces/sudoers_own/trace_fuzz_iosrc_legacy_exe/src_397.xml\n",
      "Error processing source file: Source file not found: /home/XXX/trace-modeling-oss-fuzz-c/trace_test/traces/sudoers_own/trace_fuzz_iosrc_legacy_exe/src_96.xml\n",
      "Error processing source file: Source file not found: /home/XXX/trace-modeling-oss-fuzz-c/trace_test/traces/sudoers_own/trace_fuzz_iosrc_legacy_exe/src_440.xml\n",
      "Error processing source file: Source file not found: /home/XXX/trace-modeling-oss-fuzz-c/trace_test/traces/sudoers_own/trace_fuzz_iosrc_legacy_exe/src_143.xml\n",
      "Error processing source file: Source file not found: /home/XXX/trace-modeling-oss-fuzz-c/trace_test/traces/sudoers_own/trace_fuzz_iosrc_legacy_exe/src_408.xml\n",
      "Error processing source file: Source file not found: /home/XXX/trace-modeling-oss-fuzz-c/trace_test/traces/sudoers_own/trace_fuzz_iosrc_legacy_exe/src_134.xml\n",
      "Error processing source file: Source file not found: /home/XXX/trace-modeling-oss-fuzz-c/trace_test/traces/sudoers_own/trace_fuzz_iosrc_legacy_exe/src_22.xml\n",
      "Error processing source file: Source file not found: /home/XXX/trace-modeling-oss-fuzz-c/trace_test/traces/sudoers_own/trace_fuzz_iosrc_legacy_exe/src_199.xml\n",
      "Error processing source file: Source file not found: /home/XXX/trace-modeling-oss-fuzz-c/trace_test/traces/sudoers_own/trace_fuzz_iosrc_legacy_exe/src_227.xml\n",
      "Error processing source file: Source file not found: /home/XXX/trace-modeling-oss-fuzz-c/trace_test/traces/sudoers_own/trace_fuzz_iosrc_legacy_exe/src_99.xml\n",
      "Error processing source file: Source file not found: /home/XXX/trace-modeling-oss-fuzz-c/trace_test/traces/sudoers_own/trace_fuzz_iosrc_legacy_exe/src_409.xml\n",
      "Error processing source file: Source file not found: /home/XXX/trace-modeling-oss-fuzz-c/trace_test/traces/sudoers_own/trace_fuzz_iosrc_legacy_exe/src_279.xml\n",
      "Error processing source file: Source file not found: /home/XXX/trace-modeling-oss-fuzz-c/trace_test/traces/sudoers_own/trace_fuzz_iosrc_legacy_exe/src_253.xml\n",
      "Error processing source file: Source file not found: /home/XXX/trace-modeling-oss-fuzz-c/trace_test/traces/sudoers_own/trace_fuzz_iosrc_legacy_exe/src_217.xml\n",
      "Error processing source file: Source file not found: /home/XXX/trace-modeling-oss-fuzz-c/trace_test/traces/sudoers_own/trace_fuzz_iosrc_legacy_exe/src_324.xml\n",
      "Error processing source file: Source file not found: /home/XXX/trace-modeling-oss-fuzz-c/trace_test/traces/sudoers_own/trace_fuzz_iosrc_legacy_exe/src_322.xml\n",
      "Error processing source file: Source file not found: /home/XXX/trace-modeling-oss-fuzz-c/trace_test/traces/sudoers_own/trace_fuzz_iosrc_legacy_exe/src_244.xml\n",
      "Error processing source file: Source file not found: /home/XXX/trace-modeling-oss-fuzz-c/trace_test/traces/sudoers_own/trace_fuzz_iosrc_legacy_exe/src_453.xml\n",
      "Error processing source file: Source file not found: /home/XXX/trace-modeling-oss-fuzz-c/trace_test/traces/sudoers_own/trace_fuzz_iosrc_legacy_exe/src_391.xml\n",
      "Error processing source file: Source file not found: /home/XXX/trace-modeling-oss-fuzz-c/trace_test/traces/sudoers_own/trace_fuzz_iosrc_legacy_exe/src_173.xml\n",
      "Error processing source file: Source file not found: /home/XXX/trace-modeling-oss-fuzz-c/trace_test/traces/sudoers_own/trace_fuzz_iosrc_legacy_exe/src_246.xml\n",
      "Error processing source file: Source file not found: /home/XXX/trace-modeling-oss-fuzz-c/trace_test/traces/sudoers_own/trace_fuzz_iosrc_legacy_exe/src_349.xml\n",
      "Error processing source file: Source file not found: /home/XXX/trace-modeling-oss-fuzz-c/trace_test/traces/sudoers_own/trace_fuzz_iosrc_legacy_exe/src_38.xml\n",
      "Error processing source file: Source file not found: /home/XXX/trace-modeling-oss-fuzz-c/trace_test/traces/sudoers_own/trace_fuzz_iosrc_legacy_exe/src_123.xml\n",
      "Error processing source file: Source file not found: /home/XXX/trace-modeling-oss-fuzz-c/trace_test/traces/sudoers_own/trace_fuzz_iosrc_legacy_exe/src_455.xml\n",
      "Error processing source file: Source file not found: /home/XXX/trace-modeling-oss-fuzz-c/trace_test/traces/sudoers_own/trace_fuzz_iosrc_legacy_exe/src_208.xml\n",
      "Error processing source file: Source file not found: /home/XXX/trace-modeling-oss-fuzz-c/trace_test/traces/sudoers_own/trace_fuzz_iosrc_legacy_exe/src_430.xml\n",
      "Error processing source file: Source file not found: /home/XXX/trace-modeling-oss-fuzz-c/trace_test/traces/sudoers_own/trace_fuzz_iosrc_legacy_exe/src_147.xml\n",
      "Error processing source file: Source file not found: /home/XXX/trace-modeling-oss-fuzz-c/trace_test/traces/sudoers_own/trace_fuzz_iosrc_legacy_exe/src_175.xml\n",
      "Error processing source file: Source file not found: /home/XXX/trace-modeling-oss-fuzz-c/trace_test/traces/sudoers_own/trace_fuzz_iosrc_legacy_exe/src_80.xml\n",
      "Error processing source file: Source file not found: /home/XXX/trace-modeling-oss-fuzz-c/trace_test/traces/sudoers_own/trace_fuzz_iosrc_legacy_exe/src_63.xml\n",
      "Error processing source file: Source file not found: /home/XXX/trace-modeling-oss-fuzz-c/trace_test/traces/sudoers_own/trace_fuzz_iosrc_legacy_exe/src_64.xml\n",
      "Error processing source file: Source file not found: /home/XXX/trace-modeling-oss-fuzz-c/trace_test/traces/sudoers_own/trace_fuzz_iosrc_legacy_exe/src_459.xml\n",
      "Error processing source file: Source file not found: /home/XXX/trace-modeling-oss-fuzz-c/trace_test/traces/sudoers_own/trace_fuzz_iosrc_legacy_exe/src_185.xml\n",
      "Error processing source file: Source file not found: /home/XXX/trace-modeling-oss-fuzz-c/trace_test/traces/sudoers_own/trace_fuzz_iosrc_legacy_exe/src_157.xml\n",
      "Error processing source file: Source file not found: /home/XXX/trace-modeling-oss-fuzz-c/trace_test/traces/sudoers_own/trace_fuzz_iosrc_legacy_exe/src_62.xml\n",
      "Error processing source file: Source file not found: /home/XXX/trace-modeling-oss-fuzz-c/trace_test/traces/sudoers_own/trace_fuzz_iosrc_legacy_exe/src_325.xml\n",
      "Error processing source file: Source file not found: /home/XXX/trace-modeling-oss-fuzz-c/trace_test/traces/sudoers_own/trace_fuzz_iosrc_legacy_exe/src_33.xml\n",
      "Error processing source file: Source file not found: /home/XXX/trace-modeling-oss-fuzz-c/trace_test/traces/sudoers_own/trace_fuzz_iosrc_legacy_exe/src_388.xml\n",
      "Error processing source file: Source file not found: /home/XXX/trace-modeling-oss-fuzz-c/trace_test/traces/sudoers_own/trace_fuzz_iosrc_legacy_exe/src_36.xml\n",
      "Error processing source file: Source file not found: /home/XXX/trace-modeling-oss-fuzz-c/trace_test/traces/sudoers_own/trace_fuzz_iosrc_legacy_exe/src_115.xml\n",
      "Error processing source file: Source file not found: /home/XXX/trace-modeling-oss-fuzz-c/trace_test/traces/sudoers_own/trace_fuzz_iosrc_legacy_exe/src_389.xml\n",
      "Error processing source file: Source file not found: /home/XXX/trace-modeling-oss-fuzz-c/trace_test/traces/sudoers_own/trace_fuzz_iosrc_legacy_exe/src_281.xml\n",
      " 67%|██████▋   | 25973/39034 [52:06<00:09, 1315.21it/s]Error processing source file: Source file not found: /home/XXX/trace-modeling-oss-fuzz-c/trace_test/traces/sudoers_own/trace_fuzz_iosrc_legacy_exe/src_193.xml\n",
      "Error processing source file: Source file not found: /home/XXX/trace-modeling-oss-fuzz-c/trace_test/traces/sudoers_own/trace_fuzz_iosrc_legacy_exe/src_363.xml\n",
      "Error processing source file: Source file not found: /home/XXX/trace-modeling-oss-fuzz-c/trace_test/traces/sudoers_own/trace_fuzz_iosrc_legacy_exe/src_24.xml\n",
      "Error processing source file: Source file not found: /home/XXX/trace-modeling-oss-fuzz-c/trace_test/traces/sudoers_own/trace_fuzz_iosrc_legacy_exe/src_108.xml\n",
      "Error processing source file: Source file not found: /home/XXX/trace-modeling-oss-fuzz-c/trace_test/traces/sudoers_own/trace_fuzz_iosrc_legacy_exe/src_329.xml\n",
      "Error processing source file: Source file not found: /home/XXX/trace-modeling-oss-fuzz-c/trace_test/traces/sudoers_own/trace_fuzz_iosrc_legacy_exe/src_274.xml\n",
      "Error processing source file: Source file not found: /home/XXX/trace-modeling-oss-fuzz-c/trace_test/traces/sudoers_own/trace_fuzz_iosrc_legacy_exe/src_121.xml\n",
      "Error processing source file: Source file not found: /home/XXX/trace-modeling-oss-fuzz-c/trace_test/traces/sudoers_own/trace_fuzz_iosrc_legacy_exe/src_294.xml\n",
      "Error processing source file: Source file not found: /home/XXX/trace-modeling-oss-fuzz-c/trace_test/traces/sudoers_own/trace_fuzz_iosrc_legacy_exe/src_275.xml\n",
      "Error processing source file: Source file not found: /home/XXX/trace-modeling-oss-fuzz-c/trace_test/traces/sudoers_own/trace_fuzz_iosrc_legacy_exe/src_112.xml\n",
      "Error processing source file: Source file not found: /home/XXX/trace-modeling-oss-fuzz-c/trace_test/traces/sudoers_own/trace_fuzz_iosrc_legacy_exe/src_256.xml\n",
      "Error processing source file: Source file not found: /home/XXX/trace-modeling-oss-fuzz-c/trace_test/traces/sudoers_own/trace_fuzz_iosrc_legacy_exe/src_174.xml\n",
      "Error processing source file: Source file not found: /home/XXX/trace-modeling-oss-fuzz-c/trace_test/traces/sudoers_own/trace_fuzz_iosrc_legacy_exe/src_399.xml\n",
      "Error processing source file: Source file not found: /home/XXX/trace-modeling-oss-fuzz-c/trace_test/traces/sudoers_own/trace_fuzz_iosrc_legacy_exe/src_448.xml\n",
      "Error processing source file: Source file not found: /home/XXX/trace-modeling-oss-fuzz-c/trace_test/traces/sudoers_own/trace_fuzz_iosrc_legacy_exe/src_302.xml\n",
      "Error processing source file: Source file not found: /home/XXX/trace-modeling-oss-fuzz-c/trace_test/traces/sudoers_own/trace_fuzz_iosrc_legacy_exe/src_271.xml\n",
      "Error processing source file: Source file not found: /home/XXX/trace-modeling-oss-fuzz-c/trace_test/traces/sudoers_own/trace_fuzz_iosrc_legacy_exe/src_416.xml\n",
      "Error processing source file: Source file not found: /home/XXX/trace-modeling-oss-fuzz-c/trace_test/traces/sudoers_own/trace_fuzz_iosrc_legacy_exe/src_288.xml\n",
      "Error processing source file: Source file not found: /home/XXX/trace-modeling-oss-fuzz-c/trace_test/traces/sudoers_own/trace_fuzz_iosrc_legacy_exe/src_369.xml\n",
      "Error processing source file: Source file not found: /home/XXX/trace-modeling-oss-fuzz-c/trace_test/traces/sudoers_own/trace_fuzz_iosrc_legacy_exe/src_317.xml\n",
      "Error processing source file: Source file not found: /home/XXX/trace-modeling-oss-fuzz-c/trace_test/traces/sudoers_own/trace_fuzz_iosrc_legacy_exe/src_306.xml\n",
      "Error processing source file: Source file not found: /home/XXX/trace-modeling-oss-fuzz-c/trace_test/traces/sudoers_own/trace_fuzz_iosrc_legacy_exe/src_1.xml\n",
      "Error processing source file: Source file not found: /home/XXX/trace-modeling-oss-fuzz-c/trace_test/traces/sudoers_own/trace_fuzz_iosrc_legacy_exe/src_92.xml\n",
      "Error processing source file: Source file not found: /home/XXX/trace-modeling-oss-fuzz-c/trace_test/traces/sudoers_own/trace_fuzz_iosrc_legacy_exe/src_34.xml\n",
      "Error processing source file: Source file not found: /home/XXX/trace-modeling-oss-fuzz-c/trace_test/traces/sudoers_own/trace_fuzz_iosrc_legacy_exe/src_442.xml\n",
      "Error processing source file: Source file not found: /home/XXX/trace-modeling-oss-fuzz-c/trace_test/traces/sudoers_own/trace_fuzz_iosrc_legacy_exe/src_439.xml\n",
      "Error processing source file: Source file not found: /home/XXX/trace-modeling-oss-fuzz-c/trace_test/traces/sudoers_own/trace_fuzz_iosrc_legacy_exe/src_113.xml\n",
      "Error processing source file: Source file not found: /home/XXX/trace-modeling-oss-fuzz-c/trace_test/traces/sudoers_own/trace_fuzz_iosrc_legacy_exe/src_137.xml\n",
      "Error processing source file: Source file not found: /home/XXX/trace-modeling-oss-fuzz-c/trace_test/traces/sudoers_own/trace_fuzz_iosrc_legacy_exe/src_75.xml\n",
      "Error processing source file: Source file not found: /home/XXX/trace-modeling-oss-fuzz-c/trace_test/traces/sudoers_own/trace_fuzz_iosrc_legacy_exe/src_162.xml\n",
      "Error processing source file: Source file not found: /home/XXX/trace-modeling-oss-fuzz-c/trace_test/traces/sudoers_own/trace_fuzz_iosrc_legacy_exe/src_426.xml\n",
      "Error processing source file: Source file not found: /home/XXX/trace-modeling-oss-fuzz-c/trace_test/traces/sudoers_own/trace_fuzz_iosrc_legacy_exe/src_229.xml\n",
      "Error processing source file: Source file not found: /home/XXX/trace-modeling-oss-fuzz-c/trace_test/traces/sudoers_own/trace_fuzz_iosrc_legacy_exe/src_127.xml\n",
      "Error processing source file: Source file not found: /home/XXX/trace-modeling-oss-fuzz-c/trace_test/traces/sudoers_own/trace_fuzz_iosrc_legacy_exe/src_83.xml\n",
      "Error processing source file: Source file not found: /home/XXX/trace-modeling-oss-fuzz-c/trace_test/traces/sudoers_own/trace_fuzz_iosrc_legacy_exe/src_332.xml\n",
      "Error processing source file: Source file not found: /home/XXX/trace-modeling-oss-fuzz-c/trace_test/traces/sudoers_own/trace_fuzz_iosrc_legacy_exe/src_160.xml\n",
      "Error processing source file: Source file not found: /home/XXX/trace-modeling-oss-fuzz-c/trace_test/traces/sudoers_own/trace_fuzz_iosrc_legacy_exe/src_285.xml\n",
      "Error processing source file: Source file not found: /home/XXX/trace-modeling-oss-fuzz-c/trace_test/traces/sudoers_own/trace_fuzz_iosrc_legacy_exe/src_380.xml\n",
      "Error processing source file: Source file not found: /home/XXX/trace-modeling-oss-fuzz-c/trace_test/traces/sudoers_own/trace_fuzz_iosrc_legacy_exe/src_47.xml\n",
      "Error processing source file: Source file not found: /home/XXX/trace-modeling-oss-fuzz-c/trace_test/traces/sudoers_own/trace_fuzz_iosrc_legacy_exe/src_52.xml\n",
      "Error processing source file: Source file not found: /home/XXX/trace-modeling-oss-fuzz-c/trace_test/traces/sudoers_own/trace_fuzz_iosrc_legacy_exe/src_177.xml\n",
      "Error processing source file: Source file not found: /home/XXX/trace-modeling-oss-fuzz-c/trace_test/traces/sudoers_own/trace_fuzz_iosrc_legacy_exe/src_48.xml\n",
      "Error processing source file: Source file not found: /home/XXX/trace-modeling-oss-fuzz-c/trace_test/traces/sudoers_own/trace_fuzz_iosrc_legacy_exe/src_2.xml\n",
      "Error processing source file: Source file not found: /home/XXX/trace-modeling-oss-fuzz-c/trace_test/traces/sudoers_own/trace_fuzz_iosrc_legacy_exe/src_29.xml\n",
      "Error processing source file: Source file not found: /home/XXX/trace-modeling-oss-fuzz-c/trace_test/traces/sudoers_own/trace_fuzz_iosrc_legacy_exe/src_299.xml\n",
      "Error processing source file: Source file not found: /home/XXX/trace-modeling-oss-fuzz-c/trace_test/traces/sudoers_own/trace_fuzz_iosrc_legacy_exe/src_139.xml\n",
      "Error processing source file: Source file not found: /home/XXX/trace-modeling-oss-fuzz-c/trace_test/traces/sudoers_own/trace_fuzz_iosrc_legacy_exe/src_400.xml\n",
      "Error processing source file: Source file not found: /home/XXX/trace-modeling-oss-fuzz-c/trace_test/traces/sudoers_own/trace_fuzz_iosrc_legacy_exe/src_51.xml\n",
      "Error processing source file: Source file not found: /home/XXX/trace-modeling-oss-fuzz-c/trace_test/traces/sudoers_own/trace_fuzz_iosrc_legacy_exe/src_216.xml\n",
      "Error processing source file: Source file not found: /home/XXX/trace-modeling-oss-fuzz-c/trace_test/traces/sudoers_own/trace_fuzz_iosrc_legacy_exe/src_295.xml\n",
      "Error processing source file: Source file not found: /home/XXX/trace-modeling-oss-fuzz-c/trace_test/traces/sudoers_own/trace_fuzz_iosrc_legacy_exe/src_163.xml\n",
      "Error processing source file: Source file not found: /home/XXX/trace-modeling-oss-fuzz-c/trace_test/traces/sudoers_own/trace_fuzz_iosrc_legacy_exe/src_68.xml\n",
      "Error processing source file: Source file not found: /home/XXX/trace-modeling-oss-fuzz-c/trace_test/traces/sudoers_own/trace_fuzz_iosrc_legacy_exe/src_417.xml\n",
      "Error processing source file: Source file not found: /home/XXX/trace-modeling-oss-fuzz-c/trace_test/traces/sudoers_own/trace_fuzz_iosrc_legacy_exe/src_361.xml\n",
      "Error processing source file: Source file not found: /home/XXX/trace-modeling-oss-fuzz-c/trace_test/traces/sudoers_own/trace_fuzz_iosrc_legacy_exe/src_210.xml\n",
      "Error processing source file: Source file not found: /home/XXX/trace-modeling-oss-fuzz-c/trace_test/traces/sudoers_own/trace_fuzz_iosrc_legacy_exe/src_377.xml\n",
      "Error processing source file: Source file not found: /home/XXX/trace-modeling-oss-fuzz-c/trace_test/traces/sudoers_own/trace_fuzz_iosrc_legacy_exe/src_230.xml\n",
      "Error processing source file: Source file not found: /home/XXX/trace-modeling-oss-fuzz-c/trace_test/traces/sudoers_own/trace_fuzz_iosrc_legacy_exe/src_214.xml\n",
      "Error processing source file: Source file not found: /home/XXX/trace-modeling-oss-fuzz-c/trace_test/traces/sudoers_own/trace_fuzz_iosrc_legacy_exe/src_232.xml\n",
      "Error processing source file: Source file not found: /home/XXX/trace-modeling-oss-fuzz-c/trace_test/traces/sudoers_own/trace_fuzz_iosrc_legacy_exe/src_296.xml\n",
      "Error processing source file: Source file not found: /home/XXX/trace-modeling-oss-fuzz-c/trace_test/traces/sudoers_own/trace_fuzz_iosrc_legacy_exe/src_124.xml\n",
      "Error processing source file: Source file not found: /home/XXX/trace-modeling-oss-fuzz-c/trace_test/traces/sudoers_own/trace_fuzz_iosrc_legacy_exe/src_251.xml\n",
      "Error processing source file: Source file not found: /home/XXX/trace-modeling-oss-fuzz-c/trace_test/traces/sudoers_own/trace_fuzz_iosrc_legacy_exe/src_57.xml\n",
      "Error processing source file: Source file not found: /home/XXX/trace-modeling-oss-fuzz-c/trace_test/traces/sudoers_own/trace_fuzz_iosrc_legacy_exe/src_234.xml\n",
      "Error processing source file: Source file not found: /home/XXX/trace-modeling-oss-fuzz-c/trace_test/traces/sudoers_own/trace_fuzz_iosrc_legacy_exe/src_270.xml\n",
      "Error processing source file: Source file not found: /home/XXX/trace-modeling-oss-fuzz-c/trace_test/traces/sudoers_own/trace_fuzz_iosrc_legacy_exe/src_6.xml\n",
      "Error processing source file: Source file not found: /home/XXX/trace-modeling-oss-fuzz-c/trace_test/traces/sudoers_own/trace_fuzz_iosrc_legacy_exe/src_412.xml\n",
      "Error processing source file: Source file not found: /home/XXX/trace-modeling-oss-fuzz-c/trace_test/traces/sudoers_own/trace_fuzz_iosrc_legacy_exe/src_77.xml\n",
      "Error processing source file: Source file not found: /home/XXX/trace-modeling-oss-fuzz-c/trace_test/traces/sudoers_own/trace_fuzz_iosrc_legacy_exe/src_357.xml\n",
      "Error processing source file: Source file not found: /home/XXX/trace-modeling-oss-fuzz-c/trace_test/traces/sudoers_own/trace_fuzz_iosrc_legacy_exe/src_151.xml\n",
      "Error processing source file: Source file not found: /home/XXX/trace-modeling-oss-fuzz-c/trace_test/traces/sudoers_own/trace_fuzz_iosrc_legacy_exe/src_145.xml\n",
      "Error processing source file: Source file not found: /home/XXX/trace-modeling-oss-fuzz-c/trace_test/traces/sudoers_own/trace_fuzz_iosrc_legacy_exe/src_334.xml\n",
      "Error processing source file: Source file not found: /home/XXX/trace-modeling-oss-fuzz-c/trace_test/traces/sudoers_own/trace_fuzz_iosrc_legacy_exe/src_212.xml\n",
      "Error processing source file: Source file not found: /home/XXX/trace-modeling-oss-fuzz-c/trace_test/traces/sudoers_own/trace_fuzz_iosrc_legacy_exe/src_94.xml\n",
      "Error processing source file: Source file not found: /home/XXX/trace-modeling-oss-fuzz-c/trace_test/traces/sudoers_own/trace_fuzz_iosrc_legacy_exe/src_11.xml\n",
      "Error processing source file: Source file not found: /home/XXX/trace-modeling-oss-fuzz-c/trace_test/traces/sudoers_own/trace_fuzz_iosrc_legacy_exe/src_368.xml\n",
      "Error processing source file: Source file not found: /home/XXX/trace-modeling-oss-fuzz-c/trace_test/traces/sudoers_own/trace_fuzz_iosrc_legacy_exe/src_196.xml\n",
      "Error processing source file: Source file not found: /home/XXX/trace-modeling-oss-fuzz-c/trace_test/traces/sudoers_own/trace_fuzz_iosrc_legacy_exe/src_114.xml\n",
      "Error processing source file: Source file not found: /home/XXX/trace-modeling-oss-fuzz-c/trace_test/traces/sudoers_own/trace_fuzz_iosrc_legacy_exe/src_90.xml\n",
      "Error processing source file: Source file not found: /home/XXX/trace-modeling-oss-fuzz-c/trace_test/traces/sudoers_own/trace_fuzz_iosrc_legacy_exe/src_122.xml\n",
      "Error processing source file: Source file not found: /home/XXX/trace-modeling-oss-fuzz-c/trace_test/traces/sudoers_own/trace_fuzz_iosrc_legacy_exe/src_241.xml\n",
      "Error processing source file: Source file not found: /home/XXX/trace-modeling-oss-fuzz-c/trace_test/traces/sudoers_own/trace_fuzz_iosrc_legacy_exe/src_202.xml\n",
      "Error processing source file: Source file not found: /home/XXX/trace-modeling-oss-fuzz-c/trace_test/traces/sudoers_own/trace_fuzz_iosrc_legacy_exe/src_148.xml\n",
      "Error processing source file: Source file not found: /home/XXX/trace-modeling-oss-fuzz-c/trace_test/traces/sudoers_own/trace_fuzz_iosrc_legacy_exe/src_133.xml\n",
      "Error processing source file: Source file not found: /home/XXX/trace-modeling-oss-fuzz-c/trace_test/traces/sudoers_own/trace_fuzz_iosrc_legacy_exe/src_420.xml\n",
      "Error processing source file: Source file not found: /home/XXX/trace-modeling-oss-fuzz-c/trace_test/traces/sudoers_own/trace_fuzz_iosrc_legacy_exe/src_207.xml\n",
      "Error processing source file: Source file not found: /home/XXX/trace-modeling-oss-fuzz-c/trace_test/traces/sudoers_own/trace_fuzz_iosrc_legacy_exe/src_4.xml\n",
      "Error processing source file: Source file not found: /home/XXX/trace-modeling-oss-fuzz-c/trace_test/traces/sudoers_own/trace_fuzz_iosrc_legacy_exe/src_39.xml\n",
      "Error processing source file: Source file not found: /home/XXX/trace-modeling-oss-fuzz-c/trace_test/traces/sudoers_own/trace_fuzz_iosrc_legacy_exe/src_297.xml\n",
      "Error processing source file: Source file not found: /home/XXX/trace-modeling-oss-fuzz-c/trace_test/traces/sudoers_own/trace_fuzz_iosrc_legacy_exe/src_66.xml\n",
      "Error processing source file: Source file not found: /home/XXX/trace-modeling-oss-fuzz-c/trace_test/traces/sudoers_own/trace_fuzz_iosrc_legacy_exe/src_247.xml\n",
      "Error processing source file: Source file not found: /home/XXX/trace-modeling-oss-fuzz-c/trace_test/traces/sudoers_own/trace_fuzz_iosrc_legacy_exe/src_102.xml\n",
      "Error processing source file: Source file not found: /home/XXX/trace-modeling-oss-fuzz-c/trace_test/traces/sudoers_own/trace_fuzz_iosrc_legacy_exe/src_197.xml\n",
      "Error processing source file: Source file not found: /home/XXX/trace-modeling-oss-fuzz-c/trace_test/traces/sudoers_own/trace_fuzz_iosrc_legacy_exe/src_355.xml\n",
      "Error processing source file: Source file not found: /home/XXX/trace-modeling-oss-fuzz-c/trace_test/traces/sudoers_own/trace_fuzz_iosrc_legacy_exe/src_8.xml\n",
      "Error processing source file: Source file not found: /home/XXX/trace-modeling-oss-fuzz-c/trace_test/traces/sudoers_own/trace_fuzz_iosrc_legacy_exe/src_82.xml\n",
      "Error processing source file: Source file not found: /home/XXX/trace-modeling-oss-fuzz-c/trace_test/traces/sudoers_own/trace_fuzz_iosrc_legacy_exe/src_111.xml\n",
      "Error processing source file: Source file not found: /home/XXX/trace-modeling-oss-fuzz-c/trace_test/traces/sudoers_own/trace_fuzz_iosrc_legacy_exe/src_126.xml\n",
      "Error processing source file: Source file not found: /home/XXX/trace-modeling-oss-fuzz-c/trace_test/traces/sudoers_own/trace_fuzz_iosrc_legacy_exe/src_84.xml\n",
      "Error processing source file: Source file not found: /home/XXX/trace-modeling-oss-fuzz-c/trace_test/traces/sudoers_own/trace_fuzz_iosrc_legacy_exe/src_335.xml\n",
      "Error processing source file: Source file not found: /home/XXX/trace-modeling-oss-fuzz-c/trace_test/traces/sudoers_own/trace_fuzz_iosrc_legacy_exe/src_195.xml\n",
      "Error processing source file: Source file not found: /home/XXX/trace-modeling-oss-fuzz-c/trace_test/traces/sudoers_own/trace_fuzz_iosrc_legacy_exe/src_301.xml\n",
      "Error processing source file: Source file not found: /home/XXX/trace-modeling-oss-fuzz-c/trace_test/traces/sudoers_own/trace_fuzz_iosrc_legacy_exe/src_16.xml\n",
      "Error processing source file: Source file not found: /home/XXX/trace-modeling-oss-fuzz-c/trace_test/traces/sudoers_own/trace_fuzz_iosrc_legacy_exe/src_429.xml\n",
      "Error processing source file: Source file not found: /home/XXX/trace-modeling-oss-fuzz-c/trace_test/traces/sudoers_own/trace_fuzz_iosrc_legacy_exe/src_267.xml\n",
      "Error processing source file: Source file not found: /home/XXX/trace-modeling-oss-fuzz-c/trace_test/traces/sudoers_own/trace_fuzz_iosrc_legacy_exe/src_305.xml\n",
      "Error processing source file: Source file not found: /home/XXX/trace-modeling-oss-fuzz-c/trace_test/traces/sudoers_own/trace_fuzz_iosrc_legacy_exe/src_186.xml\n",
      "Error processing source file: Source file not found: /home/XXX/trace-modeling-oss-fuzz-c/trace_test/traces/sudoers_own/trace_fuzz_iosrc_legacy_exe/src_419.xml\n",
      "Error processing source file: Source file not found: /home/XXX/trace-modeling-oss-fuzz-c/trace_test/traces/sudoers_own/trace_fuzz_iosrc_legacy_exe/src_321.xml\n",
      "Error processing source file: Source file not found: /home/XXX/trace-modeling-oss-fuzz-c/trace_test/traces/sudoers_own/trace_fuzz_iosrc_legacy_exe/src_337.xml\n",
      "Error processing source file: Source file not found: /home/XXX/trace-modeling-oss-fuzz-c/trace_test/traces/sudoers_own/trace_fuzz_iosrc_legacy_exe/src_273.xml\n",
      "Error processing source file: Source file not found: /home/XXX/trace-modeling-oss-fuzz-c/trace_test/traces/sudoers_own/trace_fuzz_iosrc_legacy_exe/src_58.xml\n",
      "Error processing source file: Source file not found: /home/XXX/trace-modeling-oss-fuzz-c/trace_test/traces/sudoers_own/trace_fuzz_iosrc_legacy_exe/src_374.xml\n",
      "Error processing source file: Source file not found: /home/XXX/trace-modeling-oss-fuzz-c/trace_test/traces/sudoers_own/trace_fuzz_iosrc_legacy_exe/src_346.xml\n",
      "Error processing source file: Source file not found: /home/XXX/trace-modeling-oss-fuzz-c/trace_test/traces/sudoers_own/trace_fuzz_iosrc_legacy_exe/src_190.xml\n",
      "Error processing source file: Source file not found: /home/XXX/trace-modeling-oss-fuzz-c/trace_test/traces/sudoers_own/trace_fuzz_iosrc_legacy_exe/src_367.xml\n",
      "Error processing source file: Source file not found: /home/XXX/trace-modeling-oss-fuzz-c/trace_test/traces/sudoers_own/trace_fuzz_iosrc_legacy_exe/src_18.xml\n",
      "Error processing source file: Source file not found: /home/XXX/trace-modeling-oss-fuzz-c/trace_test/traces/sudoers_own/trace_fuzz_iosrc_legacy_exe/src_79.xml\n",
      "Error processing source file: Source file not found: /home/XXX/trace-modeling-oss-fuzz-c/trace_test/traces/sudoers_own/trace_fuzz_iosrc_legacy_exe/src_35.xml\n",
      "Error processing source file: Source file not found: /home/XXX/trace-modeling-oss-fuzz-c/trace_test/traces/sudoers_own/trace_fuzz_iosrc_legacy_exe/src_362.xml\n",
      "Error processing source file: Source file not found: /home/XXX/trace-modeling-oss-fuzz-c/trace_test/traces/sudoers_own/trace_fuzz_iosrc_legacy_exe/src_259.xml\n",
      "Error processing source file: Source file not found: /home/XXX/trace-modeling-oss-fuzz-c/trace_test/traces/sudoers_own/trace_fuzz_iosrc_legacy_exe/src_97.xml\n",
      "Error processing source file: Source file not found: /home/XXX/trace-modeling-oss-fuzz-c/trace_test/traces/sudoers_own/trace_fuzz_iosrc_legacy_exe/src_358.xml\n",
      "Error processing source file: Source file not found: /home/XXX/trace-modeling-oss-fuzz-c/trace_test/traces/sudoers_own/trace_fuzz_iosrc_legacy_exe/src_249.xml\n",
      "Error processing source file: Source file not found: /home/XXX/trace-modeling-oss-fuzz-c/trace_test/traces/sudoers_own/trace_fuzz_iosrc_legacy_exe/src_307.xml\n",
      "Error processing source file: Source file not found: /home/XXX/trace-modeling-oss-fuzz-c/trace_test/traces/sudoers_own/trace_fuzz_iosrc_legacy_exe/src_423.xml\n",
      "Error processing source file: Source file not found: /home/XXX/trace-modeling-oss-fuzz-c/trace_test/traces/sudoers_own/trace_fuzz_iosrc_legacy_exe/src_154.xml\n",
      "Error processing source file: Source file not found: /home/XXX/trace-modeling-oss-fuzz-c/trace_test/traces/sudoers_own/trace_fuzz_iosrc_legacy_exe/src_326.xml\n",
      "Error processing source file: Source file not found: /home/XXX/trace-modeling-oss-fuzz-c/trace_test/traces/sudoers_own/trace_fuzz_iosrc_legacy_exe/src_56.xml\n",
      "Error processing source file: Source file not found: /home/XXX/trace-modeling-oss-fuzz-c/trace_test/traces/sudoers_own/trace_fuzz_iosrc_legacy_exe/src_407.xml\n",
      "Error processing source file: Source file not found: /home/XXX/trace-modeling-oss-fuzz-c/trace_test/traces/sudoers_own/trace_fuzz_iosrc_legacy_exe/src_138.xml\n",
      "Error processing source file: Source file not found: /home/XXX/trace-modeling-oss-fuzz-c/trace_test/traces/sudoers_own/trace_fuzz_iosrc_legacy_exe/src_50.xml\n",
      "Error processing source file: Source file not found: /home/XXX/trace-modeling-oss-fuzz-c/trace_test/traces/sudoers_own/trace_fuzz_iosrc_legacy_exe/src_235.xml\n",
      "Error processing source file: Source file not found: /home/XXX/trace-modeling-oss-fuzz-c/trace_test/traces/sudoers_own/trace_fuzz_iosrc_legacy_exe/src_55.xml\n",
      "Error processing source file: Source file not found: /home/XXX/trace-modeling-oss-fuzz-c/trace_test/traces/sudoers_own/trace_fuzz_iosrc_legacy_exe/src_339.xml\n",
      "Error processing source file: Source file not found: /home/XXX/trace-modeling-oss-fuzz-c/trace_test/traces/sudoers_own/trace_fuzz_iosrc_legacy_exe/src_224.xml\n",
      "Error processing source file: Source file not found: /home/XXX/trace-modeling-oss-fuzz-c/trace_test/traces/sudoers_own/trace_fuzz_iosrc_legacy_exe/src_7.xml\n",
      "Error processing source file: Source file not found: /home/XXX/trace-modeling-oss-fuzz-c/trace_test/traces/sudoers_own/trace_fuzz_iosrc_legacy_exe/src_95.xml\n",
      "Error processing source file: Source file not found: /home/XXX/trace-modeling-oss-fuzz-c/trace_test/traces/sudoers_own/trace_fuzz_iosrc_legacy_exe/src_432.xml\n",
      "Error processing source file: Source file not found: /home/XXX/trace-modeling-oss-fuzz-c/trace_test/traces/sudoers_own/trace_fuzz_iosrc_legacy_exe/src_74.xml\n",
      "Error processing source file: Source file not found: /home/XXX/trace-modeling-oss-fuzz-c/trace_test/traces/sudoers_own/trace_fuzz_iosrc_legacy_exe/src_390.xml\n",
      "Error processing source file: Source file not found: /home/XXX/trace-modeling-oss-fuzz-c/trace_test/traces/sudoers_own/trace_fuzz_iosrc_legacy_exe/src_328.xml\n",
      "Error processing source file: Source file not found: /home/XXX/trace-modeling-oss-fuzz-c/trace_test/traces/sudoers_own/trace_fuzz_iosrc_legacy_exe/src_379.xml\n",
      "Error processing source file: Source file not found: /home/XXX/trace-modeling-oss-fuzz-c/trace_test/traces/sudoers_own/trace_fuzz_iosrc_legacy_exe/src_9.xml\n",
      "Error processing source file: Source file not found: /home/XXX/trace-modeling-oss-fuzz-c/trace_test/traces/sudoers_own/trace_fuzz_iosrc_legacy_exe/src_23.xml\n",
      "Error processing source file: Source file not found: /home/XXX/trace-modeling-oss-fuzz-c/trace_test/traces/sudoers_own/trace_fuzz_iosrc_legacy_exe/src_278.xml\n",
      "Error processing source file: Source file not found: /home/XXX/trace-modeling-oss-fuzz-c/trace_test/traces/sudoers_own/trace_fuzz_iosrc_legacy_exe/src_414.xml\n",
      "Error processing source file: Source file not found: /home/XXX/trace-modeling-oss-fuzz-c/trace_test/traces/sudoers_own/trace_fuzz_iosrc_legacy_exe/src_201.xml\n",
      "Error processing source file: Source file not found: /home/XXX/trace-modeling-oss-fuzz-c/trace_test/traces/sudoers_own/trace_fuzz_iosrc_legacy_exe/src_156.xml\n",
      "Error processing source file: Source file not found: /home/XXX/trace-modeling-oss-fuzz-c/trace_test/traces/sudoers_own/trace_fuzz_iosrc_legacy_exe/src_382.xml\n",
      "Error processing source file: Source file not found: /home/XXX/trace-modeling-oss-fuzz-c/trace_test/traces/sudoers_own/trace_fuzz_iosrc_legacy_exe/src_406.xml\n",
      "Error processing source file: Source file not found: /home/XXX/trace-modeling-oss-fuzz-c/trace_test/traces/sudoers_own/trace_fuzz_iosrc_legacy_exe/src_353.xml\n",
      "Error processing source file: Source file not found: /home/XXX/trace-modeling-oss-fuzz-c/trace_test/traces/sudoers_own/trace_fuzz_iosrc_legacy_exe/src_59.xml\n",
      "Error processing source file: Source file not found: /home/XXX/trace-modeling-oss-fuzz-c/trace_test/traces/sudoers_own/trace_fuzz_iosrc_legacy_exe/src_444.xml\n",
      "Error processing source file: Source file not found: /home/XXX/trace-modeling-oss-fuzz-c/trace_test/traces/sudoers_own/trace_fuzz_iosrc_legacy_exe/src_396.xml\n",
      "Error processing source file: Source file not found: /home/XXX/trace-modeling-oss-fuzz-c/trace_test/traces/sudoers_own/trace_fuzz_iosrc_legacy_exe/src_131.xml\n",
      " 67%|██████▋   | 26168/39034 [52:06<00:08, 1441.13it/s]"
     ]
    },
    {
     "name": "stdout",
     "output_type": "stream",
     "text": [
      "Error generating signature: [Errno 2] No such file or directory: '/home/XXX/trace-modeling-oss-fuzz-c/trace_test/traces/sudoers_own/trace_fuzz_iosrc_legacy_exe/src_200.xml'\n",
      "Error generating signature: [Errno 2] No such file or directory: '/home/XXX/trace-modeling-oss-fuzz-c/trace_test/traces/sudoers_own/trace_fuzz_iosrc_legacy_exe/src_130.xml'\n",
      "Error generating signature: [Errno 2] No such file or directory: '/home/XXX/trace-modeling-oss-fuzz-c/trace_test/traces/sudoers_own/trace_fuzz_iosrc_legacy_exe/src_239.xml'\n",
      "Error generating signature: [Errno 2] No such file or directory: '/home/XXX/trace-modeling-oss-fuzz-c/trace_test/traces/sudoers_own/trace_fuzz_iosrc_legacy_exe/src_376.xml'\n",
      "Error generating signature: [Errno 2] No such file or directory: '/home/XXX/trace-modeling-oss-fuzz-c/trace_test/traces/sudoers_own/trace_fuzz_iosrc_legacy_exe/src_460.xml'\n",
      "Error generating signature: [Errno 2] No such file or directory: '/home/XXX/trace-modeling-oss-fuzz-c/trace_test/traces/sudoers_own/trace_fuzz_iosrc_legacy_exe/src_221.xml'\n",
      "Error generating signature: [Errno 2] No such file or directory: '/home/XXX/trace-modeling-oss-fuzz-c/trace_test/traces/sudoers_own/trace_fuzz_iosrc_legacy_exe/src_69.xml'\n",
      "Error generating signature: [Errno 2] No such file or directory: '/home/XXX/trace-modeling-oss-fuzz-c/trace_test/traces/sudoers_own/trace_fuzz_iosrc_legacy_exe/src_220.xml'\n",
      "Error generating signature: [Errno 2] No such file or directory: '/home/XXX/trace-modeling-oss-fuzz-c/trace_test/traces/sudoers_own/trace_fuzz_iosrc_legacy_exe/src_93.xml'\n",
      "Error generating signature: [Errno 2] No such file or directory: '/home/XXX/trace-modeling-oss-fuzz-c/trace_test/traces/sudoers_own/trace_fuzz_iosrc_legacy_exe/src_140.xml'\n",
      "Error generating signature: [Errno 2] No such file or directory: '/home/XXX/trace-modeling-oss-fuzz-c/trace_test/traces/sudoers_own/trace_fuzz_iosrc_legacy_exe/src_311.xml'\n",
      "Error generating signature: [Errno 2] No such file or directory: '/home/XXX/trace-modeling-oss-fuzz-c/trace_test/traces/sudoers_own/trace_fuzz_iosrc_legacy_exe/src_164.xml'\n",
      "Error generating signature: [Errno 2] No such file or directory: '/home/XXX/trace-modeling-oss-fuzz-c/trace_test/traces/sudoers_own/trace_fuzz_iosrc_legacy_exe/src_304.xml'\n",
      "Error generating signature: [Errno 2] No such file or directory: '/home/XXX/trace-modeling-oss-fuzz-c/trace_test/traces/sudoers_own/trace_fuzz_iosrc_legacy_exe/src_292.xml'\n",
      "Error generating signature: [Errno 2] No such file or directory: '/home/XXX/trace-modeling-oss-fuzz-c/trace_test/traces/sudoers_own/trace_fuzz_iosrc_legacy_exe/src_319.xml'\n",
      "Error generating signature: [Errno 2] No such file or directory: '/home/XXX/trace-modeling-oss-fuzz-c/trace_test/traces/sudoers_own/trace_fuzz_iosrc_legacy_exe/src_98.xml'\n",
      "Error generating signature: [Errno 2] No such file or directory: '/home/XXX/trace-modeling-oss-fuzz-c/trace_test/traces/sudoers_own/trace_fuzz_iosrc_legacy_exe/src_451.xml'\n",
      "Error generating signature: [Errno 2] No such file or directory: '/home/XXX/trace-modeling-oss-fuzz-c/trace_test/traces/sudoers_own/trace_fuzz_iosrc_legacy_exe/src_354.xml'\n",
      "Error generating signature: [Errno 2] No such file or directory: '/home/XXX/trace-modeling-oss-fuzz-c/trace_test/traces/sudoers_own/trace_fuzz_iosrc_legacy_exe/src_0.xml'\n",
      "Error generating signature: [Errno 2] No such file or directory: '/home/XXX/trace-modeling-oss-fuzz-c/trace_test/traces/sudoers_own/trace_fuzz_iosrc_legacy_exe/src_415.xml'\n",
      "Error generating signature: [Errno 2] No such file or directory: '/home/XXX/trace-modeling-oss-fuzz-c/trace_test/traces/sudoers_own/trace_fuzz_iosrc_legacy_exe/src_31.xml'\n",
      "\n",
      "Processed 25680/39034 files\n",
      "Current unique count: 419\n",
      "Error generating signature: [Errno 2] No such file or directory: '/home/XXX/trace-modeling-oss-fuzz-c/trace_test/traces/sudoers_own/trace_fuzz_iosrc_legacy_exe/src_41.xml'\n",
      "Error generating signature: [Errno 2] No such file or directory: '/home/XXX/trace-modeling-oss-fuzz-c/trace_test/traces/sudoers_own/trace_fuzz_iosrc_legacy_exe/src_191.xml'\n",
      "Error generating signature: [Errno 2] No such file or directory: '/home/XXX/trace-modeling-oss-fuzz-c/trace_test/traces/sudoers_own/trace_fuzz_iosrc_legacy_exe/src_182.xml'\n",
      "Error generating signature: [Errno 2] No such file or directory: '/home/XXX/trace-modeling-oss-fuzz-c/trace_test/traces/sudoers_own/trace_fuzz_iosrc_legacy_exe/src_250.xml'\n",
      "Error generating signature: [Errno 2] No such file or directory: '/home/XXX/trace-modeling-oss-fuzz-c/trace_test/traces/sudoers_own/trace_fuzz_iosrc_legacy_exe/src_136.xml'\n",
      "Error generating signature: [Errno 2] No such file or directory: '/home/XXX/trace-modeling-oss-fuzz-c/trace_test/traces/sudoers_own/trace_fuzz_iosrc_legacy_exe/src_392.xml'\n",
      "Error generating signature: [Errno 2] No such file or directory: '/home/XXX/trace-modeling-oss-fuzz-c/trace_test/traces/sudoers_own/trace_fuzz_iosrc_legacy_exe/src_91.xml'\n",
      "Error generating signature: [Errno 2] No such file or directory: '/home/XXX/trace-modeling-oss-fuzz-c/trace_test/traces/sudoers_own/trace_fuzz_iosrc_legacy_exe/src_395.xml'\n",
      "Error generating signature: [Errno 2] No such file or directory: '/home/XXX/trace-modeling-oss-fuzz-c/trace_test/traces/sudoers_own/trace_fuzz_iosrc_legacy_exe/src_129.xml'\n",
      "Error generating signature: [Errno 2] No such file or directory: '/home/XXX/trace-modeling-oss-fuzz-c/trace_test/traces/sudoers_own/trace_fuzz_iosrc_legacy_exe/src_431.xml'\n",
      "Error generating signature: [Errno 2] No such file or directory: '/home/XXX/trace-modeling-oss-fuzz-c/trace_test/traces/sudoers_own/trace_fuzz_iosrc_legacy_exe/src_128.xml'\n",
      "Error generating signature: [Errno 2] No such file or directory: '/home/XXX/trace-modeling-oss-fuzz-c/trace_test/traces/sudoers_own/trace_fuzz_iosrc_legacy_exe/src_298.xml'\n",
      "Error generating signature: [Errno 2] No such file or directory: '/home/XXX/trace-modeling-oss-fuzz-c/trace_test/traces/sudoers_own/trace_fuzz_iosrc_legacy_exe/src_71.xml'\n",
      "Error generating signature: [Errno 2] No such file or directory: '/home/XXX/trace-modeling-oss-fuzz-c/trace_test/traces/sudoers_own/trace_fuzz_iosrc_legacy_exe/src_333.xml'\n",
      "Error generating signature: [Errno 2] No such file or directory: '/home/XXX/trace-modeling-oss-fuzz-c/trace_test/traces/sudoers_own/trace_fuzz_iosrc_legacy_exe/src_421.xml'\n",
      "Error generating signature: [Errno 2] No such file or directory: '/home/XXX/trace-modeling-oss-fuzz-c/trace_test/traces/sudoers_own/trace_fuzz_iosrc_legacy_exe/src_427.xml'\n",
      "Error generating signature: [Errno 2] No such file or directory: '/home/XXX/trace-modeling-oss-fuzz-c/trace_test/traces/sudoers_own/trace_fuzz_iosrc_legacy_exe/src_142.xml'\n",
      "Error generating signature: [Errno 2] No such file or directory: '/home/XXX/trace-modeling-oss-fuzz-c/trace_test/traces/sudoers_own/trace_fuzz_iosrc_legacy_exe/src_447.xml'\n",
      "Error generating signature: [Errno 2] No such file or directory: '/home/XXX/trace-modeling-oss-fuzz-c/trace_test/traces/sudoers_own/trace_fuzz_iosrc_legacy_exe/src_70.xml'\n",
      "Error generating signature: [Errno 2] No such file or directory: '/home/XXX/trace-modeling-oss-fuzz-c/trace_test/traces/sudoers_own/trace_fuzz_iosrc_legacy_exe/src_43.xml'\n",
      "Error generating signature: [Errno 2] No such file or directory: '/home/XXX/trace-modeling-oss-fuzz-c/trace_test/traces/sudoers_own/trace_fuzz_iosrc_legacy_exe/src_403.xml'\n",
      "Error generating signature: [Errno 2] No such file or directory: '/home/XXX/trace-modeling-oss-fuzz-c/trace_test/traces/sudoers_own/trace_fuzz_iosrc_legacy_exe/src_290.xml'\n",
      "Error generating signature: [Errno 2] No such file or directory: '/home/XXX/trace-modeling-oss-fuzz-c/trace_test/traces/sudoers_own/trace_fuzz_iosrc_legacy_exe/src_384.xml'\n",
      "Error generating signature: [Errno 2] No such file or directory: '/home/XXX/trace-modeling-oss-fuzz-c/trace_test/traces/sudoers_own/trace_fuzz_iosrc_legacy_exe/src_269.xml'\n",
      "Error generating signature: [Errno 2] No such file or directory: '/home/XXX/trace-modeling-oss-fuzz-c/trace_test/traces/sudoers_own/trace_fuzz_iosrc_legacy_exe/src_309.xml'\n",
      "Error generating signature: [Errno 2] No such file or directory: '/home/XXX/trace-modeling-oss-fuzz-c/trace_test/traces/sudoers_own/trace_fuzz_iosrc_legacy_exe/src_254.xml'\n",
      "Error generating signature: [Errno 2] No such file or directory: '/home/XXX/trace-modeling-oss-fuzz-c/trace_test/traces/sudoers_own/trace_fuzz_iosrc_legacy_exe/src_116.xml'\n",
      "Error generating signature: [Errno 2] No such file or directory: '/home/XXX/trace-modeling-oss-fuzz-c/trace_test/traces/sudoers_own/trace_fuzz_iosrc_legacy_exe/src_433.xml'\n",
      "Error generating signature: [Errno 2] No such file or directory: '/home/XXX/trace-modeling-oss-fuzz-c/trace_test/traces/sudoers_own/trace_fuzz_iosrc_legacy_exe/src_181.xml'\n",
      "Error generating signature: [Errno 2] No such file or directory: '/home/XXX/trace-modeling-oss-fuzz-c/trace_test/traces/sudoers_own/trace_fuzz_iosrc_legacy_exe/src_19.xml'\n",
      "Error generating signature: [Errno 2] No such file or directory: '/home/XXX/trace-modeling-oss-fuzz-c/trace_test/traces/sudoers_own/trace_fuzz_iosrc_legacy_exe/src_405.xml'\n",
      "Error generating signature: [Errno 2] No such file or directory: '/home/XXX/trace-modeling-oss-fuzz-c/trace_test/traces/sudoers_own/trace_fuzz_iosrc_legacy_exe/src_165.xml'\n",
      "Error generating signature: [Errno 2] No such file or directory: '/home/XXX/trace-modeling-oss-fuzz-c/trace_test/traces/sudoers_own/trace_fuzz_iosrc_legacy_exe/src_49.xml'\n",
      "Error generating signature: [Errno 2] No such file or directory: '/home/XXX/trace-modeling-oss-fuzz-c/trace_test/traces/sudoers_own/trace_fuzz_iosrc_legacy_exe/src_61.xml'\n",
      "Error generating signature: [Errno 2] No such file or directory: '/home/XXX/trace-modeling-oss-fuzz-c/trace_test/traces/sudoers_own/trace_fuzz_iosrc_legacy_exe/src_276.xml'\n",
      "Error generating signature: [Errno 2] No such file or directory: '/home/XXX/trace-modeling-oss-fuzz-c/trace_test/traces/sudoers_own/trace_fuzz_iosrc_legacy_exe/src_445.xml'\n",
      "Error generating signature: [Errno 2] No such file or directory: '/home/XXX/trace-modeling-oss-fuzz-c/trace_test/traces/sudoers_own/trace_fuzz_iosrc_legacy_exe/src_284.xml'\n",
      "Error generating signature: [Errno 2] No such file or directory: '/home/XXX/trace-modeling-oss-fuzz-c/trace_test/traces/sudoers_own/trace_fuzz_iosrc_legacy_exe/src_342.xml'\n",
      "Error generating signature: [Errno 2] No such file or directory: '/home/XXX/trace-modeling-oss-fuzz-c/trace_test/traces/sudoers_own/trace_fuzz_iosrc_legacy_exe/src_172.xml'\n",
      "Error generating signature: [Errno 2] No such file or directory: '/home/XXX/trace-modeling-oss-fuzz-c/trace_test/traces/sudoers_own/trace_fuzz_iosrc_legacy_exe/src_313.xml'\n",
      "Error generating signature: [Errno 2] No such file or directory: '/home/XXX/trace-modeling-oss-fuzz-c/trace_test/traces/sudoers_own/trace_fuzz_iosrc_legacy_exe/src_192.xml'\n",
      "Error generating signature: [Errno 2] No such file or directory: '/home/XXX/trace-modeling-oss-fuzz-c/trace_test/traces/sudoers_own/trace_fuzz_iosrc_legacy_exe/src_78.xml'\n",
      "Error generating signature: [Errno 2] No such file or directory: '/home/XXX/trace-modeling-oss-fuzz-c/trace_test/traces/sudoers_own/trace_fuzz_iosrc_legacy_exe/src_248.xml'\n",
      "Error generating signature: [Errno 2] No such file or directory: '/home/XXX/trace-modeling-oss-fuzz-c/trace_test/traces/sudoers_own/trace_fuzz_iosrc_legacy_exe/src_255.xml'\n",
      "Error generating signature: [Errno 2] No such file or directory: '/home/XXX/trace-modeling-oss-fuzz-c/trace_test/traces/sudoers_own/trace_fuzz_iosrc_legacy_exe/src_375.xml'\n",
      "Error generating signature: [Errno 2] No such file or directory: '/home/XXX/trace-modeling-oss-fuzz-c/trace_test/traces/sudoers_own/trace_fuzz_iosrc_legacy_exe/src_53.xml'\n",
      "Error generating signature: [Errno 2] No such file or directory: '/home/XXX/trace-modeling-oss-fuzz-c/trace_test/traces/sudoers_own/trace_fuzz_iosrc_legacy_exe/src_169.xml'\n",
      "Error generating signature: [Errno 2] No such file or directory: '/home/XXX/trace-modeling-oss-fuzz-c/trace_test/traces/sudoers_own/trace_fuzz_iosrc_legacy_exe/src_291.xml'\n",
      "Error generating signature: [Errno 2] No such file or directory: '/home/XXX/trace-modeling-oss-fuzz-c/trace_test/traces/sudoers_own/trace_fuzz_iosrc_legacy_exe/src_381.xml'\n",
      "Error generating signature: [Errno 2] No such file or directory: '/home/XXX/trace-modeling-oss-fuzz-c/trace_test/traces/sudoers_own/trace_fuzz_iosrc_legacy_exe/src_179.xml'\n",
      "Error generating signature: [Errno 2] No such file or directory: '/home/XXX/trace-modeling-oss-fuzz-c/trace_test/traces/sudoers_own/trace_fuzz_iosrc_legacy_exe/src_168.xml'\n",
      "Error generating signature: [Errno 2] No such file or directory: '/home/XXX/trace-modeling-oss-fuzz-c/trace_test/traces/sudoers_own/trace_fuzz_iosrc_legacy_exe/src_171.xml'\n",
      "Error generating signature: [Errno 2] No such file or directory: '/home/XXX/trace-modeling-oss-fuzz-c/trace_test/traces/sudoers_own/trace_fuzz_iosrc_legacy_exe/src_153.xml'\n",
      "Error generating signature: [Errno 2] No such file or directory: '/home/XXX/trace-modeling-oss-fuzz-c/trace_test/traces/sudoers_own/trace_fuzz_iosrc_legacy_exe/src_443.xml'\n",
      "Error generating signature: [Errno 2] No such file or directory: '/home/XXX/trace-modeling-oss-fuzz-c/trace_test/traces/sudoers_own/trace_fuzz_iosrc_legacy_exe/src_65.xml'\n",
      "Error generating signature: [Errno 2] No such file or directory: '/home/XXX/trace-modeling-oss-fuzz-c/trace_test/traces/sudoers_own/trace_fuzz_iosrc_legacy_exe/src_205.xml'\n",
      "Error generating signature: [Errno 2] No such file or directory: '/home/XXX/trace-modeling-oss-fuzz-c/trace_test/traces/sudoers_own/trace_fuzz_iosrc_legacy_exe/src_211.xml'\n",
      "Error generating signature: [Errno 2] No such file or directory: '/home/XXX/trace-modeling-oss-fuzz-c/trace_test/traces/sudoers_own/trace_fuzz_iosrc_legacy_exe/src_258.xml'\n",
      "Error generating signature: [Errno 2] No such file or directory: '/home/XXX/trace-modeling-oss-fuzz-c/trace_test/traces/sudoers_own/trace_fuzz_iosrc_legacy_exe/src_393.xml'\n",
      "Error generating signature: [Errno 2] No such file or directory: '/home/XXX/trace-modeling-oss-fuzz-c/trace_test/traces/sudoers_own/trace_fuzz_iosrc_legacy_exe/src_238.xml'\n",
      "Error generating signature: [Errno 2] No such file or directory: '/home/XXX/trace-modeling-oss-fuzz-c/trace_test/traces/sudoers_own/trace_fuzz_iosrc_legacy_exe/src_155.xml'\n",
      "Error generating signature: [Errno 2] No such file or directory: '/home/XXX/trace-modeling-oss-fuzz-c/trace_test/traces/sudoers_own/trace_fuzz_iosrc_legacy_exe/src_150.xml'\n",
      "Error generating signature: [Errno 2] No such file or directory: '/home/XXX/trace-modeling-oss-fuzz-c/trace_test/traces/sudoers_own/trace_fuzz_iosrc_legacy_exe/src_89.xml'\n",
      "Error generating signature: [Errno 2] No such file or directory: '/home/XXX/trace-modeling-oss-fuzz-c/trace_test/traces/sudoers_own/trace_fuzz_iosrc_legacy_exe/src_5.xml'\n",
      "Error generating signature: [Errno 2] No such file or directory: '/home/XXX/trace-modeling-oss-fuzz-c/trace_test/traces/sudoers_own/trace_fuzz_iosrc_legacy_exe/src_243.xml'\n",
      "Error generating signature: [Errno 2] No such file or directory: '/home/XXX/trace-modeling-oss-fuzz-c/trace_test/traces/sudoers_own/trace_fuzz_iosrc_legacy_exe/src_103.xml'\n",
      "Error generating signature: [Errno 2] No such file or directory: '/home/XXX/trace-modeling-oss-fuzz-c/trace_test/traces/sudoers_own/trace_fuzz_iosrc_legacy_exe/src_242.xml'\n",
      "Error generating signature: [Errno 2] No such file or directory: '/home/XXX/trace-modeling-oss-fuzz-c/trace_test/traces/sudoers_own/trace_fuzz_iosrc_legacy_exe/src_15.xml'\n",
      "Error generating signature: [Errno 2] No such file or directory: '/home/XXX/trace-modeling-oss-fuzz-c/trace_test/traces/sudoers_own/trace_fuzz_iosrc_legacy_exe/src_323.xml'\n",
      "Error generating signature: [Errno 2] No such file or directory: '/home/XXX/trace-modeling-oss-fuzz-c/trace_test/traces/sudoers_own/trace_fuzz_iosrc_legacy_exe/src_233.xml'\n",
      "Error generating signature: [Errno 2] No such file or directory: '/home/XXX/trace-modeling-oss-fuzz-c/trace_test/traces/sudoers_own/trace_fuzz_iosrc_legacy_exe/src_378.xml'\n",
      "Error generating signature: [Errno 2] No such file or directory: '/home/XXX/trace-modeling-oss-fuzz-c/trace_test/traces/sudoers_own/trace_fuzz_iosrc_legacy_exe/src_360.xml'\n",
      "Error generating signature: [Errno 2] No such file or directory: '/home/XXX/trace-modeling-oss-fuzz-c/trace_test/traces/sudoers_own/trace_fuzz_iosrc_legacy_exe/src_222.xml'\n",
      "Error generating signature: [Errno 2] No such file or directory: '/home/XXX/trace-modeling-oss-fuzz-c/trace_test/traces/sudoers_own/trace_fuzz_iosrc_legacy_exe/src_456.xml'\n",
      "Error generating signature: [Errno 2] No such file or directory: '/home/XXX/trace-modeling-oss-fuzz-c/trace_test/traces/sudoers_own/trace_fuzz_iosrc_legacy_exe/src_434.xml'\n",
      "Error generating signature: [Errno 2] No such file or directory: '/home/XXX/trace-modeling-oss-fuzz-c/trace_test/traces/sudoers_own/trace_fuzz_iosrc_legacy_exe/src_351.xml'\n",
      "Error generating signature: [Errno 2] No such file or directory: '/home/XXX/trace-modeling-oss-fuzz-c/trace_test/traces/sudoers_own/trace_fuzz_iosrc_legacy_exe/src_109.xml'\n",
      "Error generating signature: [Errno 2] No such file or directory: '/home/XXX/trace-modeling-oss-fuzz-c/trace_test/traces/sudoers_own/trace_fuzz_iosrc_legacy_exe/src_10.xml'\n",
      "Error generating signature: [Errno 2] No such file or directory: '/home/XXX/trace-modeling-oss-fuzz-c/trace_test/traces/sudoers_own/trace_fuzz_iosrc_legacy_exe/src_13.xml'\n",
      "Error generating signature: [Errno 2] No such file or directory: '/home/XXX/trace-modeling-oss-fuzz-c/trace_test/traces/sudoers_own/trace_fuzz_iosrc_legacy_exe/src_12.xml'\n",
      "\n",
      "Processed 25760/39034 files\n",
      "Current unique count: 419\n",
      "Error generating signature: [Errno 2] No such file or directory: '/home/XXX/trace-modeling-oss-fuzz-c/trace_test/traces/sudoers_own/trace_fuzz_iosrc_legacy_exe/src_161.xml'\n",
      "Error generating signature: [Errno 2] No such file or directory: '/home/XXX/trace-modeling-oss-fuzz-c/trace_test/traces/sudoers_own/trace_fuzz_iosrc_legacy_exe/src_356.xml'\n",
      "Error generating signature: [Errno 2] No such file or directory: '/home/XXX/trace-modeling-oss-fuzz-c/trace_test/traces/sudoers_own/trace_fuzz_iosrc_legacy_exe/src_343.xml'\n",
      "Error generating signature: [Errno 2] No such file or directory: '/home/XXX/trace-modeling-oss-fuzz-c/trace_test/traces/sudoers_own/trace_fuzz_iosrc_legacy_exe/src_3.xml'\n",
      "Error generating signature: [Errno 2] No such file or directory: '/home/XXX/trace-modeling-oss-fuzz-c/trace_test/traces/sudoers_own/trace_fuzz_iosrc_legacy_exe/src_117.xml'\n",
      "Error generating signature: [Errno 2] No such file or directory: '/home/XXX/trace-modeling-oss-fuzz-c/trace_test/traces/sudoers_own/trace_fuzz_iosrc_legacy_exe/src_280.xml'\n",
      "Error generating signature: [Errno 2] No such file or directory: '/home/XXX/trace-modeling-oss-fuzz-c/trace_test/traces/sudoers_own/trace_fuzz_iosrc_legacy_exe/src_364.xml'\n",
      "Error generating signature: [Errno 2] No such file or directory: '/home/XXX/trace-modeling-oss-fuzz-c/trace_test/traces/sudoers_own/trace_fuzz_iosrc_legacy_exe/src_206.xml'\n",
      "Error generating signature: [Errno 2] No such file or directory: '/home/XXX/trace-modeling-oss-fuzz-c/trace_test/traces/sudoers_own/trace_fuzz_iosrc_legacy_exe/src_308.xml'\n",
      "Error generating signature: [Errno 2] No such file or directory: '/home/XXX/trace-modeling-oss-fuzz-c/trace_test/traces/sudoers_own/trace_fuzz_iosrc_legacy_exe/src_446.xml'\n",
      "Error generating signature: [Errno 2] No such file or directory: '/home/XXX/trace-modeling-oss-fuzz-c/trace_test/traces/sudoers_own/trace_fuzz_iosrc_legacy_exe/src_158.xml'\n",
      "Error generating signature: [Errno 2] No such file or directory: '/home/XXX/trace-modeling-oss-fuzz-c/trace_test/traces/sudoers_own/trace_fuzz_iosrc_legacy_exe/src_27.xml'\n",
      "Error generating signature: [Errno 2] No such file or directory: '/home/XXX/trace-modeling-oss-fuzz-c/trace_test/traces/sudoers_own/trace_fuzz_iosrc_legacy_exe/src_359.xml'\n",
      "Error generating signature: [Errno 2] No such file or directory: '/home/XXX/trace-modeling-oss-fuzz-c/trace_test/traces/sudoers_own/trace_fuzz_iosrc_legacy_exe/src_20.xml'\n",
      "Error generating signature: [Errno 2] No such file or directory: '/home/XXX/trace-modeling-oss-fuzz-c/trace_test/traces/sudoers_own/trace_fuzz_iosrc_legacy_exe/src_347.xml'\n",
      "Error generating signature: [Errno 2] No such file or directory: '/home/XXX/trace-modeling-oss-fuzz-c/trace_test/traces/sudoers_own/trace_fuzz_iosrc_legacy_exe/src_428.xml'\n",
      "Error generating signature: [Errno 2] No such file or directory: '/home/XXX/trace-modeling-oss-fuzz-c/trace_test/traces/sudoers_own/trace_fuzz_iosrc_legacy_exe/src_252.xml'\n",
      "Error generating signature: [Errno 2] No such file or directory: '/home/XXX/trace-modeling-oss-fuzz-c/trace_test/traces/sudoers_own/trace_fuzz_iosrc_legacy_exe/src_166.xml'\n",
      "Error generating signature: [Errno 2] No such file or directory: '/home/XXX/trace-modeling-oss-fuzz-c/trace_test/traces/sudoers_own/trace_fuzz_iosrc_legacy_exe/src_327.xml'\n",
      "Error generating signature: [Errno 2] No such file or directory: '/home/XXX/trace-modeling-oss-fuzz-c/trace_test/traces/sudoers_own/trace_fuzz_iosrc_legacy_exe/src_60.xml'\n",
      "Error generating signature: [Errno 2] No such file or directory: '/home/XXX/trace-modeling-oss-fuzz-c/trace_test/traces/sudoers_own/trace_fuzz_iosrc_legacy_exe/src_183.xml'\n",
      "Error generating signature: [Errno 2] No such file or directory: '/home/XXX/trace-modeling-oss-fuzz-c/trace_test/traces/sudoers_own/trace_fuzz_iosrc_legacy_exe/src_106.xml'\n",
      "Error generating signature: [Errno 2] No such file or directory: '/home/XXX/trace-modeling-oss-fuzz-c/trace_test/traces/sudoers_own/trace_fuzz_iosrc_legacy_exe/src_263.xml'\n",
      "Error generating signature: [Errno 2] No such file or directory: '/home/XXX/trace-modeling-oss-fuzz-c/trace_test/traces/sudoers_own/trace_fuzz_iosrc_legacy_exe/src_100.xml'\n",
      "Error generating signature: [Errno 2] No such file or directory: '/home/XXX/trace-modeling-oss-fuzz-c/trace_test/traces/sudoers_own/trace_fuzz_iosrc_legacy_exe/src_86.xml'\n",
      "Error generating signature: [Errno 2] No such file or directory: '/home/XXX/trace-modeling-oss-fuzz-c/trace_test/traces/sudoers_own/trace_fuzz_iosrc_legacy_exe/src_146.xml'\n",
      "Error generating signature: [Errno 2] No such file or directory: '/home/XXX/trace-modeling-oss-fuzz-c/trace_test/traces/sudoers_own/trace_fuzz_iosrc_legacy_exe/src_344.xml'\n",
      "Error generating signature: [Errno 2] No such file or directory: '/home/XXX/trace-modeling-oss-fuzz-c/trace_test/traces/sudoers_own/trace_fuzz_iosrc_legacy_exe/src_219.xml'\n",
      "Error generating signature: [Errno 2] No such file or directory: '/home/XXX/trace-modeling-oss-fuzz-c/trace_test/traces/sudoers_own/trace_fuzz_iosrc_legacy_exe/src_457.xml'\n",
      "Error generating signature: [Errno 2] No such file or directory: '/home/XXX/trace-modeling-oss-fuzz-c/trace_test/traces/sudoers_own/trace_fuzz_iosrc_legacy_exe/src_315.xml'\n",
      "Error generating signature: [Errno 2] No such file or directory: '/home/XXX/trace-modeling-oss-fuzz-c/trace_test/traces/sudoers_own/trace_fuzz_iosrc_legacy_exe/src_228.xml'\n",
      "Error generating signature: [Errno 2] No such file or directory: '/home/XXX/trace-modeling-oss-fuzz-c/trace_test/traces/sudoers_own/trace_fuzz_iosrc_legacy_exe/src_413.xml'\n",
      "Error generating signature: [Errno 2] No such file or directory: '/home/XXX/trace-modeling-oss-fuzz-c/trace_test/traces/sudoers_own/trace_fuzz_iosrc_legacy_exe/src_287.xml'\n",
      "Error generating signature: [Errno 2] No such file or directory: '/home/XXX/trace-modeling-oss-fuzz-c/trace_test/traces/sudoers_own/trace_fuzz_iosrc_legacy_exe/src_264.xml'\n",
      "Error generating signature: [Errno 2] No such file or directory: '/home/XXX/trace-modeling-oss-fuzz-c/trace_test/traces/sudoers_own/trace_fuzz_iosrc_legacy_exe/src_101.xml'\n",
      "Error generating signature: [Errno 2] No such file or directory: '/home/XXX/trace-modeling-oss-fuzz-c/trace_test/traces/sudoers_own/trace_fuzz_iosrc_legacy_exe/src_461.xml'\n",
      "Error generating signature: [Errno 2] No such file or directory: '/home/XXX/trace-modeling-oss-fuzz-c/trace_test/traces/sudoers_own/trace_fuzz_iosrc_legacy_exe/src_120.xml'\n",
      "Error generating signature: [Errno 2] No such file or directory: '/home/XXX/trace-modeling-oss-fuzz-c/trace_test/traces/sudoers_own/trace_fuzz_iosrc_legacy_exe/src_204.xml'\n",
      "Error generating signature: [Errno 2] No such file or directory: '/home/XXX/trace-modeling-oss-fuzz-c/trace_test/traces/sudoers_own/trace_fuzz_iosrc_legacy_exe/src_107.xml'\n",
      "Error generating signature: [Errno 2] No such file or directory: '/home/XXX/trace-modeling-oss-fuzz-c/trace_test/traces/sudoers_own/trace_fuzz_iosrc_legacy_exe/src_178.xml'\n",
      "Error generating signature: [Errno 2] No such file or directory: '/home/XXX/trace-modeling-oss-fuzz-c/trace_test/traces/sudoers_own/trace_fuzz_iosrc_legacy_exe/src_372.xml'\n",
      "Error generating signature: [Errno 2] No such file or directory: '/home/XXX/trace-modeling-oss-fuzz-c/trace_test/traces/sudoers_own/trace_fuzz_iosrc_legacy_exe/src_110.xml'\n",
      "Error generating signature: [Errno 2] No such file or directory: '/home/XXX/trace-modeling-oss-fuzz-c/trace_test/traces/sudoers_own/trace_fuzz_iosrc_legacy_exe/src_366.xml'\n",
      "Error generating signature: [Errno 2] No such file or directory: '/home/XXX/trace-modeling-oss-fuzz-c/trace_test/traces/sudoers_own/trace_fuzz_iosrc_legacy_exe/src_410.xml'\n",
      "Error generating signature: [Errno 2] No such file or directory: '/home/XXX/trace-modeling-oss-fuzz-c/trace_test/traces/sudoers_own/trace_fuzz_iosrc_legacy_exe/src_144.xml'\n",
      "Error generating signature: [Errno 2] No such file or directory: '/home/XXX/trace-modeling-oss-fuzz-c/trace_test/traces/sudoers_own/trace_fuzz_iosrc_legacy_exe/src_240.xml'\n",
      "Error generating signature: [Errno 2] No such file or directory: '/home/XXX/trace-modeling-oss-fuzz-c/trace_test/traces/sudoers_own/trace_fuzz_iosrc_legacy_exe/src_261.xml'\n",
      "Error generating signature: [Errno 2] No such file or directory: '/home/XXX/trace-modeling-oss-fuzz-c/trace_test/traces/sudoers_own/trace_fuzz_iosrc_legacy_exe/src_198.xml'\n",
      "Error generating signature: [Errno 2] No such file or directory: '/home/XXX/trace-modeling-oss-fuzz-c/trace_test/traces/sudoers_own/trace_fuzz_iosrc_legacy_exe/src_371.xml'\n",
      "Error generating signature: [Errno 2] No such file or directory: '/home/XXX/trace-modeling-oss-fuzz-c/trace_test/traces/sudoers_own/trace_fuzz_iosrc_legacy_exe/src_398.xml'\n",
      "Error generating signature: [Errno 2] No such file or directory: '/home/XXX/trace-modeling-oss-fuzz-c/trace_test/traces/sudoers_own/trace_fuzz_iosrc_legacy_exe/src_303.xml'\n",
      "Error generating signature: [Errno 2] No such file or directory: '/home/XXX/trace-modeling-oss-fuzz-c/trace_test/traces/sudoers_own/trace_fuzz_iosrc_legacy_exe/src_268.xml'\n",
      "Error generating signature: [Errno 2] No such file or directory: '/home/XXX/trace-modeling-oss-fuzz-c/trace_test/traces/sudoers_own/trace_fuzz_iosrc_legacy_exe/src_318.xml'\n",
      "Error generating signature: [Errno 2] No such file or directory: '/home/XXX/trace-modeling-oss-fuzz-c/trace_test/traces/sudoers_own/trace_fuzz_iosrc_legacy_exe/src_272.xml'\n",
      "Error generating signature: [Errno 2] No such file or directory: '/home/XXX/trace-modeling-oss-fuzz-c/trace_test/traces/sudoers_own/trace_fuzz_iosrc_legacy_exe/src_135.xml'\n",
      "Error generating signature: [Errno 2] No such file or directory: '/home/XXX/trace-modeling-oss-fuzz-c/trace_test/traces/sudoers_own/trace_fuzz_iosrc_legacy_exe/src_314.xml'\n",
      "Error generating signature: [Errno 2] No such file or directory: '/home/XXX/trace-modeling-oss-fuzz-c/trace_test/traces/sudoers_own/trace_fuzz_iosrc_legacy_exe/src_88.xml'\n",
      "Error generating signature: [Errno 2] No such file or directory: '/home/XXX/trace-modeling-oss-fuzz-c/trace_test/traces/sudoers_own/trace_fuzz_iosrc_legacy_exe/src_125.xml'\n",
      "Error generating signature: [Errno 2] No such file or directory: '/home/XXX/trace-modeling-oss-fuzz-c/trace_test/traces/sudoers_own/trace_fuzz_iosrc_legacy_exe/src_300.xml'\n",
      "Error generating signature: [Errno 2] No such file or directory: '/home/XXX/trace-modeling-oss-fuzz-c/trace_test/traces/sudoers_own/trace_fuzz_iosrc_legacy_exe/src_44.xml'\n",
      "Error generating signature: [Errno 2] No such file or directory: '/home/XXX/trace-modeling-oss-fuzz-c/trace_test/traces/sudoers_own/trace_fuzz_iosrc_legacy_exe/src_141.xml'\n",
      "Error generating signature: [Errno 2] No such file or directory: '/home/XXX/trace-modeling-oss-fuzz-c/trace_test/traces/sudoers_own/trace_fuzz_iosrc_legacy_exe/src_330.xml'\n",
      "Error generating signature: [Errno 2] No such file or directory: '/home/XXX/trace-modeling-oss-fuzz-c/trace_test/traces/sudoers_own/trace_fuzz_iosrc_legacy_exe/src_316.xml'\n",
      "Error generating signature: [Errno 2] No such file or directory: '/home/XXX/trace-modeling-oss-fuzz-c/trace_test/traces/sudoers_own/trace_fuzz_iosrc_legacy_exe/src_310.xml'\n",
      "Error generating signature: [Errno 2] No such file or directory: '/home/XXX/trace-modeling-oss-fuzz-c/trace_test/traces/sudoers_own/trace_fuzz_iosrc_legacy_exe/src_237.xml'\n",
      "Error generating signature: [Errno 2] No such file or directory: '/home/XXX/trace-modeling-oss-fuzz-c/trace_test/traces/sudoers_own/trace_fuzz_iosrc_legacy_exe/src_438.xml'\n",
      "Error generating signature: [Errno 2] No such file or directory: '/home/XXX/trace-modeling-oss-fuzz-c/trace_test/traces/sudoers_own/trace_fuzz_iosrc_legacy_exe/src_365.xml'\n",
      "Error generating signature: [Errno 2] No such file or directory: '/home/XXX/trace-modeling-oss-fuzz-c/trace_test/traces/sudoers_own/trace_fuzz_iosrc_legacy_exe/src_40.xml'\n",
      "Error generating signature: [Errno 2] No such file or directory: '/home/XXX/trace-modeling-oss-fuzz-c/trace_test/traces/sudoers_own/trace_fuzz_iosrc_legacy_exe/src_85.xml'\n",
      "Error generating signature: [Errno 2] No such file or directory: '/home/XXX/trace-modeling-oss-fuzz-c/trace_test/traces/sudoers_own/trace_fuzz_iosrc_legacy_exe/src_336.xml'\n",
      "Error generating signature: [Errno 2] No such file or directory: '/home/XXX/trace-modeling-oss-fuzz-c/trace_test/traces/sudoers_own/trace_fuzz_iosrc_legacy_exe/src_188.xml'\n",
      "Error generating signature: [Errno 2] No such file or directory: '/home/XXX/trace-modeling-oss-fuzz-c/trace_test/traces/sudoers_own/trace_fuzz_iosrc_legacy_exe/src_402.xml'\n",
      "Error generating signature: [Errno 2] No such file or directory: '/home/XXX/trace-modeling-oss-fuzz-c/trace_test/traces/sudoers_own/trace_fuzz_iosrc_legacy_exe/src_189.xml'\n",
      "Error generating signature: [Errno 2] No such file or directory: '/home/XXX/trace-modeling-oss-fuzz-c/trace_test/traces/sudoers_own/trace_fuzz_iosrc_legacy_exe/src_21.xml'\n",
      "Error generating signature: [Errno 2] No such file or directory: '/home/XXX/trace-modeling-oss-fuzz-c/trace_test/traces/sudoers_own/trace_fuzz_iosrc_legacy_exe/src_167.xml'\n",
      "Error generating signature: [Errno 2] No such file or directory: '/home/XXX/trace-modeling-oss-fuzz-c/trace_test/traces/sudoers_own/trace_fuzz_iosrc_legacy_exe/src_87.xml'\n",
      "Error generating signature: [Errno 2] No such file or directory: '/home/XXX/trace-modeling-oss-fuzz-c/trace_test/traces/sudoers_own/trace_fuzz_iosrc_legacy_exe/src_170.xml'\n",
      "Error generating signature: [Errno 2] No such file or directory: '/home/XXX/trace-modeling-oss-fuzz-c/trace_test/traces/sudoers_own/trace_fuzz_iosrc_legacy_exe/src_213.xml'\n",
      "Error generating signature: [Errno 2] No such file or directory: '/home/XXX/trace-modeling-oss-fuzz-c/trace_test/traces/sudoers_own/trace_fuzz_iosrc_legacy_exe/src_331.xml'\n",
      "Error generating signature: [Errno 2] No such file or directory: '/home/XXX/trace-modeling-oss-fuzz-c/trace_test/traces/sudoers_own/trace_fuzz_iosrc_legacy_exe/src_194.xml'\n",
      "\n",
      "Processed 25840/39034 files\n",
      "Current unique count: 419\n",
      "Error generating signature: [Errno 2] No such file or directory: '/home/XXX/trace-modeling-oss-fuzz-c/trace_test/traces/sudoers_own/trace_fuzz_iosrc_legacy_exe/src_225.xml'\n",
      "Error generating signature: [Errno 2] No such file or directory: '/home/XXX/trace-modeling-oss-fuzz-c/trace_test/traces/sudoers_own/trace_fuzz_iosrc_legacy_exe/src_30.xml'\n",
      "Error generating signature: [Errno 2] No such file or directory: '/home/XXX/trace-modeling-oss-fuzz-c/trace_test/traces/sudoers_own/trace_fuzz_iosrc_legacy_exe/src_387.xml'\n",
      "Error generating signature: [Errno 2] No such file or directory: '/home/XXX/trace-modeling-oss-fuzz-c/trace_test/traces/sudoers_own/trace_fuzz_iosrc_legacy_exe/src_286.xml'\n",
      "Error generating signature: [Errno 2] No such file or directory: '/home/XXX/trace-modeling-oss-fuzz-c/trace_test/traces/sudoers_own/trace_fuzz_iosrc_legacy_exe/src_424.xml'\n",
      "Error generating signature: [Errno 2] No such file or directory: '/home/XXX/trace-modeling-oss-fuzz-c/trace_test/traces/sudoers_own/trace_fuzz_iosrc_legacy_exe/src_386.xml'\n",
      "Error generating signature: [Errno 2] No such file or directory: '/home/XXX/trace-modeling-oss-fuzz-c/trace_test/traces/sudoers_own/trace_fuzz_iosrc_legacy_exe/src_215.xml'\n",
      "Error generating signature: [Errno 2] No such file or directory: '/home/XXX/trace-modeling-oss-fuzz-c/trace_test/traces/sudoers_own/trace_fuzz_iosrc_legacy_exe/src_26.xml'\n",
      "Error generating signature: [Errno 2] No such file or directory: '/home/XXX/trace-modeling-oss-fuzz-c/trace_test/traces/sudoers_own/trace_fuzz_iosrc_legacy_exe/src_404.xml'\n",
      "Error generating signature: [Errno 2] No such file or directory: '/home/XXX/trace-modeling-oss-fuzz-c/trace_test/traces/sudoers_own/trace_fuzz_iosrc_legacy_exe/src_422.xml'\n",
      "Error generating signature: [Errno 2] No such file or directory: '/home/XXX/trace-modeling-oss-fuzz-c/trace_test/traces/sudoers_own/trace_fuzz_iosrc_legacy_exe/src_454.xml'\n",
      "Error generating signature: [Errno 2] No such file or directory: '/home/XXX/trace-modeling-oss-fuzz-c/trace_test/traces/sudoers_own/trace_fuzz_iosrc_legacy_exe/src_262.xml'\n",
      "Error generating signature: [Errno 2] No such file or directory: '/home/XXX/trace-modeling-oss-fuzz-c/trace_test/traces/sudoers_own/trace_fuzz_iosrc_legacy_exe/src_184.xml'\n",
      "Error generating signature: [Errno 2] No such file or directory: '/home/XXX/trace-modeling-oss-fuzz-c/trace_test/traces/sudoers_own/trace_fuzz_iosrc_legacy_exe/src_418.xml'\n",
      "Error generating signature: [Errno 2] No such file or directory: '/home/XXX/trace-modeling-oss-fuzz-c/trace_test/traces/sudoers_own/trace_fuzz_iosrc_legacy_exe/src_105.xml'\n",
      "Error generating signature: [Errno 2] No such file or directory: '/home/XXX/trace-modeling-oss-fuzz-c/trace_test/traces/sudoers_own/trace_fuzz_iosrc_legacy_exe/src_176.xml'\n",
      "Error generating signature: [Errno 2] No such file or directory: '/home/XXX/trace-modeling-oss-fuzz-c/trace_test/traces/sudoers_own/trace_fuzz_iosrc_legacy_exe/src_37.xml'\n",
      "Error generating signature: [Errno 2] No such file or directory: '/home/XXX/trace-modeling-oss-fuzz-c/trace_test/traces/sudoers_own/trace_fuzz_iosrc_legacy_exe/src_435.xml'\n",
      "Error generating signature: [Errno 2] No such file or directory: '/home/XXX/trace-modeling-oss-fuzz-c/trace_test/traces/sudoers_own/trace_fuzz_iosrc_legacy_exe/src_42.xml'\n",
      "Error generating signature: [Errno 2] No such file or directory: '/home/XXX/trace-modeling-oss-fuzz-c/trace_test/traces/sudoers_own/trace_fuzz_iosrc_legacy_exe/src_152.xml'\n",
      "Error generating signature: [Errno 2] No such file or directory: '/home/XXX/trace-modeling-oss-fuzz-c/trace_test/traces/sudoers_own/trace_fuzz_iosrc_legacy_exe/src_348.xml'\n",
      "Error generating signature: [Errno 2] No such file or directory: '/home/XXX/trace-modeling-oss-fuzz-c/trace_test/traces/sudoers_own/trace_fuzz_iosrc_legacy_exe/src_373.xml'\n",
      "Error generating signature: [Errno 2] No such file or directory: '/home/XXX/trace-modeling-oss-fuzz-c/trace_test/traces/sudoers_own/trace_fuzz_iosrc_legacy_exe/src_159.xml'\n",
      "Error generating signature: [Errno 2] No such file or directory: '/home/XXX/trace-modeling-oss-fuzz-c/trace_test/traces/sudoers_own/trace_fuzz_iosrc_legacy_exe/src_425.xml'\n",
      "Error generating signature: [Errno 2] No such file or directory: '/home/XXX/trace-modeling-oss-fuzz-c/trace_test/traces/sudoers_own/trace_fuzz_iosrc_legacy_exe/src_411.xml'\n",
      "Error generating signature: [Errno 2] No such file or directory: '/home/XXX/trace-modeling-oss-fuzz-c/trace_test/traces/sudoers_own/trace_fuzz_iosrc_legacy_exe/src_180.xml'\n",
      "Error generating signature: [Errno 2] No such file or directory: '/home/XXX/trace-modeling-oss-fuzz-c/trace_test/traces/sudoers_own/trace_fuzz_iosrc_legacy_exe/src_401.xml'\n",
      "Error generating signature: [Errno 2] No such file or directory: '/home/XXX/trace-modeling-oss-fuzz-c/trace_test/traces/sudoers_own/trace_fuzz_iosrc_legacy_exe/src_218.xml'\n",
      "Error generating signature: [Errno 2] No such file or directory: '/home/XXX/trace-modeling-oss-fuzz-c/trace_test/traces/sudoers_own/trace_fuzz_iosrc_legacy_exe/src_282.xml'\n",
      "Error generating signature: [Errno 2] No such file or directory: '/home/XXX/trace-modeling-oss-fuzz-c/trace_test/traces/sudoers_own/trace_fuzz_iosrc_legacy_exe/src_223.xml'\n",
      "Error generating signature: [Errno 2] No such file or directory: '/home/XXX/trace-modeling-oss-fuzz-c/trace_test/traces/sudoers_own/trace_fuzz_iosrc_legacy_exe/src_149.xml'\n",
      "Error generating signature: [Errno 2] No such file or directory: '/home/XXX/trace-modeling-oss-fuzz-c/trace_test/traces/sudoers_own/trace_fuzz_iosrc_legacy_exe/src_132.xml'\n",
      "Error generating signature: [Errno 2] No such file or directory: '/home/XXX/trace-modeling-oss-fuzz-c/trace_test/traces/sudoers_own/trace_fuzz_iosrc_legacy_exe/src_54.xml'\n",
      "Error generating signature: [Errno 2] No such file or directory: '/home/XXX/trace-modeling-oss-fuzz-c/trace_test/traces/sudoers_own/trace_fuzz_iosrc_legacy_exe/src_350.xml'\n",
      "Error generating signature: [Errno 2] No such file or directory: '/home/XXX/trace-modeling-oss-fuzz-c/trace_test/traces/sudoers_own/trace_fuzz_iosrc_legacy_exe/src_338.xml'\n",
      "Error generating signature: [Errno 2] No such file or directory: '/home/XXX/trace-modeling-oss-fuzz-c/trace_test/traces/sudoers_own/trace_fuzz_iosrc_legacy_exe/src_209.xml'\n",
      "Error generating signature: [Errno 2] No such file or directory: '/home/XXX/trace-modeling-oss-fuzz-c/trace_test/traces/sudoers_own/trace_fuzz_iosrc_legacy_exe/src_449.xml'\n",
      "Error generating signature: [Errno 2] No such file or directory: '/home/XXX/trace-modeling-oss-fuzz-c/trace_test/traces/sudoers_own/trace_fuzz_iosrc_legacy_exe/src_452.xml'\n",
      "Error generating signature: [Errno 2] No such file or directory: '/home/XXX/trace-modeling-oss-fuzz-c/trace_test/traces/sudoers_own/trace_fuzz_iosrc_legacy_exe/src_118.xml'\n",
      "Error generating signature: [Errno 2] No such file or directory: '/home/XXX/trace-modeling-oss-fuzz-c/trace_test/traces/sudoers_own/trace_fuzz_iosrc_legacy_exe/src_14.xml'\n",
      "Error generating signature: [Errno 2] No such file or directory: '/home/XXX/trace-modeling-oss-fuzz-c/trace_test/traces/sudoers_own/trace_fuzz_iosrc_legacy_exe/src_293.xml'\n",
      "Error generating signature: [Errno 2] No such file or directory: '/home/XXX/trace-modeling-oss-fuzz-c/trace_test/traces/sudoers_own/trace_fuzz_iosrc_legacy_exe/src_257.xml'\n",
      "Error generating signature: [Errno 2] No such file or directory: '/home/XXX/trace-modeling-oss-fuzz-c/trace_test/traces/sudoers_own/trace_fuzz_iosrc_legacy_exe/src_266.xml'\n",
      "Error generating signature: [Errno 2] No such file or directory: '/home/XXX/trace-modeling-oss-fuzz-c/trace_test/traces/sudoers_own/trace_fuzz_iosrc_legacy_exe/src_436.xml'\n",
      "Error generating signature: [Errno 2] No such file or directory: '/home/XXX/trace-modeling-oss-fuzz-c/trace_test/traces/sudoers_own/trace_fuzz_iosrc_legacy_exe/src_260.xml'\n",
      "Error generating signature: [Errno 2] No such file or directory: '/home/XXX/trace-modeling-oss-fuzz-c/trace_test/traces/sudoers_own/trace_fuzz_iosrc_legacy_exe/src_450.xml'\n",
      "Error generating signature: [Errno 2] No such file or directory: '/home/XXX/trace-modeling-oss-fuzz-c/trace_test/traces/sudoers_own/trace_fuzz_iosrc_legacy_exe/src_73.xml'\n",
      "Error generating signature: [Errno 2] No such file or directory: '/home/XXX/trace-modeling-oss-fuzz-c/trace_test/traces/sudoers_own/trace_fuzz_iosrc_legacy_exe/src_383.xml'\n",
      "Error generating signature: [Errno 2] No such file or directory: '/home/XXX/trace-modeling-oss-fuzz-c/trace_test/traces/sudoers_own/trace_fuzz_iosrc_legacy_exe/src_345.xml'\n",
      "Error generating signature: [Errno 2] No such file or directory: '/home/XXX/trace-modeling-oss-fuzz-c/trace_test/traces/sudoers_own/trace_fuzz_iosrc_legacy_exe/src_283.xml'\n",
      "Error generating signature: [Errno 2] No such file or directory: '/home/XXX/trace-modeling-oss-fuzz-c/trace_test/traces/sudoers_own/trace_fuzz_iosrc_legacy_exe/src_72.xml'\n",
      "Error generating signature: [Errno 2] No such file or directory: '/home/XXX/trace-modeling-oss-fuzz-c/trace_test/traces/sudoers_own/trace_fuzz_iosrc_legacy_exe/src_236.xml'\n",
      "Error generating signature: [Errno 2] No such file or directory: '/home/XXX/trace-modeling-oss-fuzz-c/trace_test/traces/sudoers_own/trace_fuzz_iosrc_legacy_exe/src_441.xml'\n",
      "Error generating signature: [Errno 2] No such file or directory: '/home/XXX/trace-modeling-oss-fuzz-c/trace_test/traces/sudoers_own/trace_fuzz_iosrc_legacy_exe/src_119.xml'\n",
      "Error generating signature: [Errno 2] No such file or directory: '/home/XXX/trace-modeling-oss-fuzz-c/trace_test/traces/sudoers_own/trace_fuzz_iosrc_legacy_exe/src_394.xml'\n",
      "Error generating signature: [Errno 2] No such file or directory: '/home/XXX/trace-modeling-oss-fuzz-c/trace_test/traces/sudoers_own/trace_fuzz_iosrc_legacy_exe/src_46.xml'\n",
      "Error generating signature: [Errno 2] No such file or directory: '/home/XXX/trace-modeling-oss-fuzz-c/trace_test/traces/sudoers_own/trace_fuzz_iosrc_legacy_exe/src_312.xml'\n",
      "Error generating signature: [Errno 2] No such file or directory: '/home/XXX/trace-modeling-oss-fuzz-c/trace_test/traces/sudoers_own/trace_fuzz_iosrc_legacy_exe/src_352.xml'\n",
      "Error generating signature: [Errno 2] No such file or directory: '/home/XXX/trace-modeling-oss-fuzz-c/trace_test/traces/sudoers_own/trace_fuzz_iosrc_legacy_exe/src_340.xml'\n",
      "Error generating signature: [Errno 2] No such file or directory: '/home/XXX/trace-modeling-oss-fuzz-c/trace_test/traces/sudoers_own/trace_fuzz_iosrc_legacy_exe/src_265.xml'\n",
      "Error generating signature: [Errno 2] No such file or directory: '/home/XXX/trace-modeling-oss-fuzz-c/trace_test/traces/sudoers_own/trace_fuzz_iosrc_legacy_exe/src_25.xml'\n",
      "Error generating signature: [Errno 2] No such file or directory: '/home/XXX/trace-modeling-oss-fuzz-c/trace_test/traces/sudoers_own/trace_fuzz_iosrc_legacy_exe/src_81.xml'\n",
      "Error generating signature: [Errno 2] No such file or directory: '/home/XXX/trace-modeling-oss-fuzz-c/trace_test/traces/sudoers_own/trace_fuzz_iosrc_legacy_exe/src_277.xml'\n",
      "Error generating signature: [Errno 2] No such file or directory: '/home/XXX/trace-modeling-oss-fuzz-c/trace_test/traces/sudoers_own/trace_fuzz_iosrc_legacy_exe/src_226.xml'\n",
      "Error generating signature: [Errno 2] No such file or directory: '/home/XXX/trace-modeling-oss-fuzz-c/trace_test/traces/sudoers_own/trace_fuzz_iosrc_legacy_exe/src_67.xml'\n",
      "Error generating signature: [Errno 2] No such file or directory: '/home/XXX/trace-modeling-oss-fuzz-c/trace_test/traces/sudoers_own/trace_fuzz_iosrc_legacy_exe/src_76.xml'\n",
      "Error generating signature: [Errno 2] No such file or directory: '/home/XXX/trace-modeling-oss-fuzz-c/trace_test/traces/sudoers_own/trace_fuzz_iosrc_legacy_exe/src_385.xml'\n",
      "Error generating signature: [Errno 2] No such file or directory: '/home/XXX/trace-modeling-oss-fuzz-c/trace_test/traces/sudoers_own/trace_fuzz_iosrc_legacy_exe/src_104.xml'\n",
      "Error generating signature: [Errno 2] No such file or directory: '/home/XXX/trace-modeling-oss-fuzz-c/trace_test/traces/sudoers_own/trace_fuzz_iosrc_legacy_exe/src_289.xml'\n",
      "Error generating signature: [Errno 2] No such file or directory: '/home/XXX/trace-modeling-oss-fuzz-c/trace_test/traces/sudoers_own/trace_fuzz_iosrc_legacy_exe/src_370.xml'\n",
      "Error generating signature: [Errno 2] No such file or directory: '/home/XXX/trace-modeling-oss-fuzz-c/trace_test/traces/sudoers_own/trace_fuzz_iosrc_legacy_exe/src_341.xml'\n",
      "Error generating signature: [Errno 2] No such file or directory: '/home/XXX/trace-modeling-oss-fuzz-c/trace_test/traces/sudoers_own/trace_fuzz_iosrc_legacy_exe/src_28.xml'\n",
      "Error generating signature: [Errno 2] No such file or directory: '/home/XXX/trace-modeling-oss-fuzz-c/trace_test/traces/sudoers_own/trace_fuzz_iosrc_legacy_exe/src_245.xml'\n",
      "Error generating signature: [Errno 2] No such file or directory: '/home/XXX/trace-modeling-oss-fuzz-c/trace_test/traces/sudoers_own/trace_fuzz_iosrc_legacy_exe/src_231.xml'\n",
      "Error generating signature: [Errno 2] No such file or directory: '/home/XXX/trace-modeling-oss-fuzz-c/trace_test/traces/sudoers_own/trace_fuzz_iosrc_legacy_exe/src_45.xml'\n",
      "Error generating signature: [Errno 2] No such file or directory: '/home/XXX/trace-modeling-oss-fuzz-c/trace_test/traces/sudoers_own/trace_fuzz_iosrc_legacy_exe/src_458.xml'\n",
      "Error generating signature: [Errno 2] No such file or directory: '/home/XXX/trace-modeling-oss-fuzz-c/trace_test/traces/sudoers_own/trace_fuzz_iosrc_legacy_exe/src_32.xml'\n",
      "Error generating signature: [Errno 2] No such file or directory: '/home/XXX/trace-modeling-oss-fuzz-c/trace_test/traces/sudoers_own/trace_fuzz_iosrc_legacy_exe/src_187.xml'\n",
      "Error generating signature: [Errno 2] No such file or directory: '/home/XXX/trace-modeling-oss-fuzz-c/trace_test/traces/sudoers_own/trace_fuzz_iosrc_legacy_exe/src_17.xml'\n",
      "Error generating signature: [Errno 2] No such file or directory: '/home/XXX/trace-modeling-oss-fuzz-c/trace_test/traces/sudoers_own/trace_fuzz_iosrc_legacy_exe/src_437.xml'\n",
      "\n",
      "Processed 25920/39034 files\n",
      "Current unique count: 419\n",
      "Error generating signature: [Errno 2] No such file or directory: '/home/XXX/trace-modeling-oss-fuzz-c/trace_test/traces/sudoers_own/trace_fuzz_iosrc_legacy_exe/src_203.xml'\n",
      "Error generating signature: [Errno 2] No such file or directory: '/home/XXX/trace-modeling-oss-fuzz-c/trace_test/traces/sudoers_own/trace_fuzz_iosrc_legacy_exe/src_320.xml'\n",
      "Error generating signature: [Errno 2] No such file or directory: '/home/XXX/trace-modeling-oss-fuzz-c/trace_test/traces/sudoers_own/trace_fuzz_iosrc_legacy_exe/src_397.xml'\n",
      "Error generating signature: [Errno 2] No such file or directory: '/home/XXX/trace-modeling-oss-fuzz-c/trace_test/traces/sudoers_own/trace_fuzz_iosrc_legacy_exe/src_96.xml'\n",
      "Error generating signature: [Errno 2] No such file or directory: '/home/XXX/trace-modeling-oss-fuzz-c/trace_test/traces/sudoers_own/trace_fuzz_iosrc_legacy_exe/src_440.xml'\n",
      "Error generating signature: [Errno 2] No such file or directory: '/home/XXX/trace-modeling-oss-fuzz-c/trace_test/traces/sudoers_own/trace_fuzz_iosrc_legacy_exe/src_143.xml'\n",
      "Error generating signature: [Errno 2] No such file or directory: '/home/XXX/trace-modeling-oss-fuzz-c/trace_test/traces/sudoers_own/trace_fuzz_iosrc_legacy_exe/src_408.xml'\n",
      "Error generating signature: [Errno 2] No such file or directory: '/home/XXX/trace-modeling-oss-fuzz-c/trace_test/traces/sudoers_own/trace_fuzz_iosrc_legacy_exe/src_134.xml'\n",
      "Error generating signature: [Errno 2] No such file or directory: '/home/XXX/trace-modeling-oss-fuzz-c/trace_test/traces/sudoers_own/trace_fuzz_iosrc_legacy_exe/src_22.xml'\n",
      "Error generating signature: [Errno 2] No such file or directory: '/home/XXX/trace-modeling-oss-fuzz-c/trace_test/traces/sudoers_own/trace_fuzz_iosrc_legacy_exe/src_199.xml'\n",
      "Error generating signature: [Errno 2] No such file or directory: '/home/XXX/trace-modeling-oss-fuzz-c/trace_test/traces/sudoers_own/trace_fuzz_iosrc_legacy_exe/src_227.xml'\n",
      "Error generating signature: [Errno 2] No such file or directory: '/home/XXX/trace-modeling-oss-fuzz-c/trace_test/traces/sudoers_own/trace_fuzz_iosrc_legacy_exe/src_99.xml'\n",
      "Error generating signature: [Errno 2] No such file or directory: '/home/XXX/trace-modeling-oss-fuzz-c/trace_test/traces/sudoers_own/trace_fuzz_iosrc_legacy_exe/src_409.xml'\n",
      "Error generating signature: [Errno 2] No such file or directory: '/home/XXX/trace-modeling-oss-fuzz-c/trace_test/traces/sudoers_own/trace_fuzz_iosrc_legacy_exe/src_279.xml'\n",
      "Error generating signature: [Errno 2] No such file or directory: '/home/XXX/trace-modeling-oss-fuzz-c/trace_test/traces/sudoers_own/trace_fuzz_iosrc_legacy_exe/src_253.xml'\n",
      "Error generating signature: [Errno 2] No such file or directory: '/home/XXX/trace-modeling-oss-fuzz-c/trace_test/traces/sudoers_own/trace_fuzz_iosrc_legacy_exe/src_217.xml'\n",
      "Error generating signature: [Errno 2] No such file or directory: '/home/XXX/trace-modeling-oss-fuzz-c/trace_test/traces/sudoers_own/trace_fuzz_iosrc_legacy_exe/src_324.xml'\n",
      "Error generating signature: [Errno 2] No such file or directory: '/home/XXX/trace-modeling-oss-fuzz-c/trace_test/traces/sudoers_own/trace_fuzz_iosrc_legacy_exe/src_322.xml'\n",
      "Error generating signature: [Errno 2] No such file or directory: '/home/XXX/trace-modeling-oss-fuzz-c/trace_test/traces/sudoers_own/trace_fuzz_iosrc_legacy_exe/src_244.xml'\n",
      "Error generating signature: [Errno 2] No such file or directory: '/home/XXX/trace-modeling-oss-fuzz-c/trace_test/traces/sudoers_own/trace_fuzz_iosrc_legacy_exe/src_453.xml'\n",
      "Error generating signature: [Errno 2] No such file or directory: '/home/XXX/trace-modeling-oss-fuzz-c/trace_test/traces/sudoers_own/trace_fuzz_iosrc_legacy_exe/src_391.xml'\n",
      "Error generating signature: [Errno 2] No such file or directory: '/home/XXX/trace-modeling-oss-fuzz-c/trace_test/traces/sudoers_own/trace_fuzz_iosrc_legacy_exe/src_173.xml'\n",
      "Error generating signature: [Errno 2] No such file or directory: '/home/XXX/trace-modeling-oss-fuzz-c/trace_test/traces/sudoers_own/trace_fuzz_iosrc_legacy_exe/src_246.xml'\n",
      "Error generating signature: [Errno 2] No such file or directory: '/home/XXX/trace-modeling-oss-fuzz-c/trace_test/traces/sudoers_own/trace_fuzz_iosrc_legacy_exe/src_349.xml'\n",
      "Error generating signature: [Errno 2] No such file or directory: '/home/XXX/trace-modeling-oss-fuzz-c/trace_test/traces/sudoers_own/trace_fuzz_iosrc_legacy_exe/src_38.xml'\n",
      "Error generating signature: [Errno 2] No such file or directory: '/home/XXX/trace-modeling-oss-fuzz-c/trace_test/traces/sudoers_own/trace_fuzz_iosrc_legacy_exe/src_123.xml'\n",
      "Error generating signature: [Errno 2] No such file or directory: '/home/XXX/trace-modeling-oss-fuzz-c/trace_test/traces/sudoers_own/trace_fuzz_iosrc_legacy_exe/src_455.xml'\n",
      "Error generating signature: [Errno 2] No such file or directory: '/home/XXX/trace-modeling-oss-fuzz-c/trace_test/traces/sudoers_own/trace_fuzz_iosrc_legacy_exe/src_208.xml'\n",
      "Error generating signature: [Errno 2] No such file or directory: '/home/XXX/trace-modeling-oss-fuzz-c/trace_test/traces/sudoers_own/trace_fuzz_iosrc_legacy_exe/src_430.xml'\n",
      "Error generating signature: [Errno 2] No such file or directory: '/home/XXX/trace-modeling-oss-fuzz-c/trace_test/traces/sudoers_own/trace_fuzz_iosrc_legacy_exe/src_147.xml'\n",
      "Error generating signature: [Errno 2] No such file or directory: '/home/XXX/trace-modeling-oss-fuzz-c/trace_test/traces/sudoers_own/trace_fuzz_iosrc_legacy_exe/src_175.xml'\n",
      "Error generating signature: [Errno 2] No such file or directory: '/home/XXX/trace-modeling-oss-fuzz-c/trace_test/traces/sudoers_own/trace_fuzz_iosrc_legacy_exe/src_80.xml'\n",
      "Error generating signature: [Errno 2] No such file or directory: '/home/XXX/trace-modeling-oss-fuzz-c/trace_test/traces/sudoers_own/trace_fuzz_iosrc_legacy_exe/src_63.xml'\n",
      "Error generating signature: [Errno 2] No such file or directory: '/home/XXX/trace-modeling-oss-fuzz-c/trace_test/traces/sudoers_own/trace_fuzz_iosrc_legacy_exe/src_64.xml'\n",
      "Error generating signature: [Errno 2] No such file or directory: '/home/XXX/trace-modeling-oss-fuzz-c/trace_test/traces/sudoers_own/trace_fuzz_iosrc_legacy_exe/src_459.xml'\n",
      "Error generating signature: [Errno 2] No such file or directory: '/home/XXX/trace-modeling-oss-fuzz-c/trace_test/traces/sudoers_own/trace_fuzz_iosrc_legacy_exe/src_185.xml'\n",
      "Error generating signature: [Errno 2] No such file or directory: '/home/XXX/trace-modeling-oss-fuzz-c/trace_test/traces/sudoers_own/trace_fuzz_iosrc_legacy_exe/src_157.xml'\n",
      "Error generating signature: [Errno 2] No such file or directory: '/home/XXX/trace-modeling-oss-fuzz-c/trace_test/traces/sudoers_own/trace_fuzz_iosrc_legacy_exe/src_62.xml'\n",
      "Error generating signature: [Errno 2] No such file or directory: '/home/XXX/trace-modeling-oss-fuzz-c/trace_test/traces/sudoers_own/trace_fuzz_iosrc_legacy_exe/src_325.xml'\n",
      "Error generating signature: [Errno 2] No such file or directory: '/home/XXX/trace-modeling-oss-fuzz-c/trace_test/traces/sudoers_own/trace_fuzz_iosrc_legacy_exe/src_33.xml'\n",
      "Error generating signature: [Errno 2] No such file or directory: '/home/XXX/trace-modeling-oss-fuzz-c/trace_test/traces/sudoers_own/trace_fuzz_iosrc_legacy_exe/src_388.xml'\n",
      "Error generating signature: [Errno 2] No such file or directory: '/home/XXX/trace-modeling-oss-fuzz-c/trace_test/traces/sudoers_own/trace_fuzz_iosrc_legacy_exe/src_36.xml'\n",
      "Error generating signature: [Errno 2] No such file or directory: '/home/XXX/trace-modeling-oss-fuzz-c/trace_test/traces/sudoers_own/trace_fuzz_iosrc_legacy_exe/src_115.xml'\n",
      "Error generating signature: [Errno 2] No such file or directory: '/home/XXX/trace-modeling-oss-fuzz-c/trace_test/traces/sudoers_own/trace_fuzz_iosrc_legacy_exe/src_389.xml'\n",
      "Error generating signature: [Errno 2] No such file or directory: '/home/XXX/trace-modeling-oss-fuzz-c/trace_test/traces/sudoers_own/trace_fuzz_iosrc_legacy_exe/src_281.xml'\n",
      "Error generating signature: [Errno 2] No such file or directory: '/home/XXX/trace-modeling-oss-fuzz-c/trace_test/traces/sudoers_own/trace_fuzz_iosrc_legacy_exe/src_193.xml'\n",
      "Error generating signature: [Errno 2] No such file or directory: '/home/XXX/trace-modeling-oss-fuzz-c/trace_test/traces/sudoers_own/trace_fuzz_iosrc_legacy_exe/src_363.xml'\n",
      "Error generating signature: [Errno 2] No such file or directory: '/home/XXX/trace-modeling-oss-fuzz-c/trace_test/traces/sudoers_own/trace_fuzz_iosrc_legacy_exe/src_24.xml'\n",
      "Error generating signature: [Errno 2] No such file or directory: '/home/XXX/trace-modeling-oss-fuzz-c/trace_test/traces/sudoers_own/trace_fuzz_iosrc_legacy_exe/src_108.xml'\n",
      "Error generating signature: [Errno 2] No such file or directory: '/home/XXX/trace-modeling-oss-fuzz-c/trace_test/traces/sudoers_own/trace_fuzz_iosrc_legacy_exe/src_329.xml'\n",
      "Error generating signature: [Errno 2] No such file or directory: '/home/XXX/trace-modeling-oss-fuzz-c/trace_test/traces/sudoers_own/trace_fuzz_iosrc_legacy_exe/src_274.xml'\n",
      "Error generating signature: [Errno 2] No such file or directory: '/home/XXX/trace-modeling-oss-fuzz-c/trace_test/traces/sudoers_own/trace_fuzz_iosrc_legacy_exe/src_121.xml'\n",
      "Error generating signature: [Errno 2] No such file or directory: '/home/XXX/trace-modeling-oss-fuzz-c/trace_test/traces/sudoers_own/trace_fuzz_iosrc_legacy_exe/src_294.xml'\n",
      "Error generating signature: [Errno 2] No such file or directory: '/home/XXX/trace-modeling-oss-fuzz-c/trace_test/traces/sudoers_own/trace_fuzz_iosrc_legacy_exe/src_275.xml'\n",
      "Error generating signature: [Errno 2] No such file or directory: '/home/XXX/trace-modeling-oss-fuzz-c/trace_test/traces/sudoers_own/trace_fuzz_iosrc_legacy_exe/src_112.xml'\n",
      "Error generating signature: [Errno 2] No such file or directory: '/home/XXX/trace-modeling-oss-fuzz-c/trace_test/traces/sudoers_own/trace_fuzz_iosrc_legacy_exe/src_256.xml'\n",
      "Error generating signature: [Errno 2] No such file or directory: '/home/XXX/trace-modeling-oss-fuzz-c/trace_test/traces/sudoers_own/trace_fuzz_iosrc_legacy_exe/src_174.xml'\n",
      "Error generating signature: [Errno 2] No such file or directory: '/home/XXX/trace-modeling-oss-fuzz-c/trace_test/traces/sudoers_own/trace_fuzz_iosrc_legacy_exe/src_399.xml'\n",
      "Error generating signature: [Errno 2] No such file or directory: '/home/XXX/trace-modeling-oss-fuzz-c/trace_test/traces/sudoers_own/trace_fuzz_iosrc_legacy_exe/src_448.xml'\n",
      "Error generating signature: [Errno 2] No such file or directory: '/home/XXX/trace-modeling-oss-fuzz-c/trace_test/traces/sudoers_own/trace_fuzz_iosrc_legacy_exe/src_302.xml'\n",
      "Error generating signature: [Errno 2] No such file or directory: '/home/XXX/trace-modeling-oss-fuzz-c/trace_test/traces/sudoers_own/trace_fuzz_iosrc_legacy_exe/src_271.xml'\n",
      "Error generating signature: [Errno 2] No such file or directory: '/home/XXX/trace-modeling-oss-fuzz-c/trace_test/traces/sudoers_own/trace_fuzz_iosrc_legacy_exe/src_416.xml'\n",
      "Error generating signature: [Errno 2] No such file or directory: '/home/XXX/trace-modeling-oss-fuzz-c/trace_test/traces/sudoers_own/trace_fuzz_iosrc_legacy_exe/src_288.xml'\n",
      "Error generating signature: [Errno 2] No such file or directory: '/home/XXX/trace-modeling-oss-fuzz-c/trace_test/traces/sudoers_own/trace_fuzz_iosrc_legacy_exe/src_369.xml'\n",
      "Error generating signature: [Errno 2] No such file or directory: '/home/XXX/trace-modeling-oss-fuzz-c/trace_test/traces/sudoers_own/trace_fuzz_iosrc_legacy_exe/src_317.xml'\n",
      "Error generating signature: [Errno 2] No such file or directory: '/home/XXX/trace-modeling-oss-fuzz-c/trace_test/traces/sudoers_own/trace_fuzz_iosrc_legacy_exe/src_306.xml'\n",
      "Error generating signature: [Errno 2] No such file or directory: '/home/XXX/trace-modeling-oss-fuzz-c/trace_test/traces/sudoers_own/trace_fuzz_iosrc_legacy_exe/src_1.xml'\n",
      "Error generating signature: [Errno 2] No such file or directory: '/home/XXX/trace-modeling-oss-fuzz-c/trace_test/traces/sudoers_own/trace_fuzz_iosrc_legacy_exe/src_92.xml'\n",
      "Error generating signature: [Errno 2] No such file or directory: '/home/XXX/trace-modeling-oss-fuzz-c/trace_test/traces/sudoers_own/trace_fuzz_iosrc_legacy_exe/src_34.xml'\n",
      "Error generating signature: [Errno 2] No such file or directory: '/home/XXX/trace-modeling-oss-fuzz-c/trace_test/traces/sudoers_own/trace_fuzz_iosrc_legacy_exe/src_442.xml'\n",
      "Error generating signature: [Errno 2] No such file or directory: '/home/XXX/trace-modeling-oss-fuzz-c/trace_test/traces/sudoers_own/trace_fuzz_iosrc_legacy_exe/src_439.xml'\n",
      "Error generating signature: [Errno 2] No such file or directory: '/home/XXX/trace-modeling-oss-fuzz-c/trace_test/traces/sudoers_own/trace_fuzz_iosrc_legacy_exe/src_113.xml'\n",
      "Error generating signature: [Errno 2] No such file or directory: '/home/XXX/trace-modeling-oss-fuzz-c/trace_test/traces/sudoers_own/trace_fuzz_iosrc_legacy_exe/src_137.xml'\n",
      "Error generating signature: [Errno 2] No such file or directory: '/home/XXX/trace-modeling-oss-fuzz-c/trace_test/traces/sudoers_own/trace_fuzz_iosrc_legacy_exe/src_75.xml'\n",
      "Error generating signature: [Errno 2] No such file or directory: '/home/XXX/trace-modeling-oss-fuzz-c/trace_test/traces/sudoers_own/trace_fuzz_iosrc_legacy_exe/src_162.xml'\n",
      "Error generating signature: [Errno 2] No such file or directory: '/home/XXX/trace-modeling-oss-fuzz-c/trace_test/traces/sudoers_own/trace_fuzz_iosrc_legacy_exe/src_426.xml'\n",
      "Error generating signature: [Errno 2] No such file or directory: '/home/XXX/trace-modeling-oss-fuzz-c/trace_test/traces/sudoers_own/trace_fuzz_iosrc_legacy_exe/src_229.xml'\n",
      "Error generating signature: [Errno 2] No such file or directory: '/home/XXX/trace-modeling-oss-fuzz-c/trace_test/traces/sudoers_own/trace_fuzz_iosrc_legacy_exe/src_127.xml'\n",
      "Error generating signature: [Errno 2] No such file or directory: '/home/XXX/trace-modeling-oss-fuzz-c/trace_test/traces/sudoers_own/trace_fuzz_iosrc_legacy_exe/src_83.xml'\n",
      "Error generating signature: [Errno 2] No such file or directory: '/home/XXX/trace-modeling-oss-fuzz-c/trace_test/traces/sudoers_own/trace_fuzz_iosrc_legacy_exe/src_332.xml'\n",
      "\n",
      "Processed 26000/39034 files\n",
      "Current unique count: 419\n",
      "Error generating signature: [Errno 2] No such file or directory: '/home/XXX/trace-modeling-oss-fuzz-c/trace_test/traces/sudoers_own/trace_fuzz_iosrc_legacy_exe/src_160.xml'\n",
      "Error generating signature: [Errno 2] No such file or directory: '/home/XXX/trace-modeling-oss-fuzz-c/trace_test/traces/sudoers_own/trace_fuzz_iosrc_legacy_exe/src_285.xml'\n",
      "Error generating signature: [Errno 2] No such file or directory: '/home/XXX/trace-modeling-oss-fuzz-c/trace_test/traces/sudoers_own/trace_fuzz_iosrc_legacy_exe/src_380.xml'\n",
      "Error generating signature: [Errno 2] No such file or directory: '/home/XXX/trace-modeling-oss-fuzz-c/trace_test/traces/sudoers_own/trace_fuzz_iosrc_legacy_exe/src_47.xml'\n",
      "Error generating signature: [Errno 2] No such file or directory: '/home/XXX/trace-modeling-oss-fuzz-c/trace_test/traces/sudoers_own/trace_fuzz_iosrc_legacy_exe/src_52.xml'\n",
      "Error generating signature: [Errno 2] No such file or directory: '/home/XXX/trace-modeling-oss-fuzz-c/trace_test/traces/sudoers_own/trace_fuzz_iosrc_legacy_exe/src_177.xml'\n",
      "Error generating signature: [Errno 2] No such file or directory: '/home/XXX/trace-modeling-oss-fuzz-c/trace_test/traces/sudoers_own/trace_fuzz_iosrc_legacy_exe/src_48.xml'\n",
      "Error generating signature: [Errno 2] No such file or directory: '/home/XXX/trace-modeling-oss-fuzz-c/trace_test/traces/sudoers_own/trace_fuzz_iosrc_legacy_exe/src_2.xml'\n",
      "Error generating signature: [Errno 2] No such file or directory: '/home/XXX/trace-modeling-oss-fuzz-c/trace_test/traces/sudoers_own/trace_fuzz_iosrc_legacy_exe/src_29.xml'\n",
      "Error generating signature: [Errno 2] No such file or directory: '/home/XXX/trace-modeling-oss-fuzz-c/trace_test/traces/sudoers_own/trace_fuzz_iosrc_legacy_exe/src_299.xml'\n",
      "Error generating signature: [Errno 2] No such file or directory: '/home/XXX/trace-modeling-oss-fuzz-c/trace_test/traces/sudoers_own/trace_fuzz_iosrc_legacy_exe/src_139.xml'\n",
      "Error generating signature: [Errno 2] No such file or directory: '/home/XXX/trace-modeling-oss-fuzz-c/trace_test/traces/sudoers_own/trace_fuzz_iosrc_legacy_exe/src_400.xml'\n",
      "Error generating signature: [Errno 2] No such file or directory: '/home/XXX/trace-modeling-oss-fuzz-c/trace_test/traces/sudoers_own/trace_fuzz_iosrc_legacy_exe/src_51.xml'\n",
      "Error generating signature: [Errno 2] No such file or directory: '/home/XXX/trace-modeling-oss-fuzz-c/trace_test/traces/sudoers_own/trace_fuzz_iosrc_legacy_exe/src_216.xml'\n",
      "Error generating signature: [Errno 2] No such file or directory: '/home/XXX/trace-modeling-oss-fuzz-c/trace_test/traces/sudoers_own/trace_fuzz_iosrc_legacy_exe/src_295.xml'\n",
      "Error generating signature: [Errno 2] No such file or directory: '/home/XXX/trace-modeling-oss-fuzz-c/trace_test/traces/sudoers_own/trace_fuzz_iosrc_legacy_exe/src_163.xml'\n",
      "Error generating signature: [Errno 2] No such file or directory: '/home/XXX/trace-modeling-oss-fuzz-c/trace_test/traces/sudoers_own/trace_fuzz_iosrc_legacy_exe/src_68.xml'\n",
      "Error generating signature: [Errno 2] No such file or directory: '/home/XXX/trace-modeling-oss-fuzz-c/trace_test/traces/sudoers_own/trace_fuzz_iosrc_legacy_exe/src_417.xml'\n",
      "Error generating signature: [Errno 2] No such file or directory: '/home/XXX/trace-modeling-oss-fuzz-c/trace_test/traces/sudoers_own/trace_fuzz_iosrc_legacy_exe/src_361.xml'\n",
      "Error generating signature: [Errno 2] No such file or directory: '/home/XXX/trace-modeling-oss-fuzz-c/trace_test/traces/sudoers_own/trace_fuzz_iosrc_legacy_exe/src_210.xml'\n",
      "Error generating signature: [Errno 2] No such file or directory: '/home/XXX/trace-modeling-oss-fuzz-c/trace_test/traces/sudoers_own/trace_fuzz_iosrc_legacy_exe/src_377.xml'\n",
      "Error generating signature: [Errno 2] No such file or directory: '/home/XXX/trace-modeling-oss-fuzz-c/trace_test/traces/sudoers_own/trace_fuzz_iosrc_legacy_exe/src_230.xml'\n",
      "Error generating signature: [Errno 2] No such file or directory: '/home/XXX/trace-modeling-oss-fuzz-c/trace_test/traces/sudoers_own/trace_fuzz_iosrc_legacy_exe/src_214.xml'\n",
      "Error generating signature: [Errno 2] No such file or directory: '/home/XXX/trace-modeling-oss-fuzz-c/trace_test/traces/sudoers_own/trace_fuzz_iosrc_legacy_exe/src_232.xml'\n",
      "Error generating signature: [Errno 2] No such file or directory: '/home/XXX/trace-modeling-oss-fuzz-c/trace_test/traces/sudoers_own/trace_fuzz_iosrc_legacy_exe/src_296.xml'\n",
      "Error generating signature: [Errno 2] No such file or directory: '/home/XXX/trace-modeling-oss-fuzz-c/trace_test/traces/sudoers_own/trace_fuzz_iosrc_legacy_exe/src_124.xml'\n",
      "Error generating signature: [Errno 2] No such file or directory: '/home/XXX/trace-modeling-oss-fuzz-c/trace_test/traces/sudoers_own/trace_fuzz_iosrc_legacy_exe/src_251.xml'\n",
      "Error generating signature: [Errno 2] No such file or directory: '/home/XXX/trace-modeling-oss-fuzz-c/trace_test/traces/sudoers_own/trace_fuzz_iosrc_legacy_exe/src_57.xml'\n",
      "Error generating signature: [Errno 2] No such file or directory: '/home/XXX/trace-modeling-oss-fuzz-c/trace_test/traces/sudoers_own/trace_fuzz_iosrc_legacy_exe/src_234.xml'\n",
      "Error generating signature: [Errno 2] No such file or directory: '/home/XXX/trace-modeling-oss-fuzz-c/trace_test/traces/sudoers_own/trace_fuzz_iosrc_legacy_exe/src_270.xml'\n",
      "Error generating signature: [Errno 2] No such file or directory: '/home/XXX/trace-modeling-oss-fuzz-c/trace_test/traces/sudoers_own/trace_fuzz_iosrc_legacy_exe/src_6.xml'\n",
      "Error generating signature: [Errno 2] No such file or directory: '/home/XXX/trace-modeling-oss-fuzz-c/trace_test/traces/sudoers_own/trace_fuzz_iosrc_legacy_exe/src_412.xml'\n",
      "Error generating signature: [Errno 2] No such file or directory: '/home/XXX/trace-modeling-oss-fuzz-c/trace_test/traces/sudoers_own/trace_fuzz_iosrc_legacy_exe/src_77.xml'\n",
      "Error generating signature: [Errno 2] No such file or directory: '/home/XXX/trace-modeling-oss-fuzz-c/trace_test/traces/sudoers_own/trace_fuzz_iosrc_legacy_exe/src_357.xml'\n",
      "Error generating signature: [Errno 2] No such file or directory: '/home/XXX/trace-modeling-oss-fuzz-c/trace_test/traces/sudoers_own/trace_fuzz_iosrc_legacy_exe/src_151.xml'\n",
      "Error generating signature: [Errno 2] No such file or directory: '/home/XXX/trace-modeling-oss-fuzz-c/trace_test/traces/sudoers_own/trace_fuzz_iosrc_legacy_exe/src_145.xml'\n",
      "Error generating signature: [Errno 2] No such file or directory: '/home/XXX/trace-modeling-oss-fuzz-c/trace_test/traces/sudoers_own/trace_fuzz_iosrc_legacy_exe/src_334.xml'\n",
      "Error generating signature: [Errno 2] No such file or directory: '/home/XXX/trace-modeling-oss-fuzz-c/trace_test/traces/sudoers_own/trace_fuzz_iosrc_legacy_exe/src_212.xml'\n",
      "Error generating signature: [Errno 2] No such file or directory: '/home/XXX/trace-modeling-oss-fuzz-c/trace_test/traces/sudoers_own/trace_fuzz_iosrc_legacy_exe/src_94.xml'\n",
      "Error generating signature: [Errno 2] No such file or directory: '/home/XXX/trace-modeling-oss-fuzz-c/trace_test/traces/sudoers_own/trace_fuzz_iosrc_legacy_exe/src_11.xml'\n",
      "Error generating signature: [Errno 2] No such file or directory: '/home/XXX/trace-modeling-oss-fuzz-c/trace_test/traces/sudoers_own/trace_fuzz_iosrc_legacy_exe/src_368.xml'\n",
      "Error generating signature: [Errno 2] No such file or directory: '/home/XXX/trace-modeling-oss-fuzz-c/trace_test/traces/sudoers_own/trace_fuzz_iosrc_legacy_exe/src_196.xml'\n",
      "Error generating signature: [Errno 2] No such file or directory: '/home/XXX/trace-modeling-oss-fuzz-c/trace_test/traces/sudoers_own/trace_fuzz_iosrc_legacy_exe/src_114.xml'\n",
      "Error generating signature: [Errno 2] No such file or directory: '/home/XXX/trace-modeling-oss-fuzz-c/trace_test/traces/sudoers_own/trace_fuzz_iosrc_legacy_exe/src_90.xml'\n",
      "Error generating signature: [Errno 2] No such file or directory: '/home/XXX/trace-modeling-oss-fuzz-c/trace_test/traces/sudoers_own/trace_fuzz_iosrc_legacy_exe/src_122.xml'\n",
      "Error generating signature: [Errno 2] No such file or directory: '/home/XXX/trace-modeling-oss-fuzz-c/trace_test/traces/sudoers_own/trace_fuzz_iosrc_legacy_exe/src_241.xml'\n",
      "Error generating signature: [Errno 2] No such file or directory: '/home/XXX/trace-modeling-oss-fuzz-c/trace_test/traces/sudoers_own/trace_fuzz_iosrc_legacy_exe/src_202.xml'\n",
      "Error generating signature: [Errno 2] No such file or directory: '/home/XXX/trace-modeling-oss-fuzz-c/trace_test/traces/sudoers_own/trace_fuzz_iosrc_legacy_exe/src_148.xml'\n",
      "Error generating signature: [Errno 2] No such file or directory: '/home/XXX/trace-modeling-oss-fuzz-c/trace_test/traces/sudoers_own/trace_fuzz_iosrc_legacy_exe/src_133.xml'\n",
      "Error generating signature: [Errno 2] No such file or directory: '/home/XXX/trace-modeling-oss-fuzz-c/trace_test/traces/sudoers_own/trace_fuzz_iosrc_legacy_exe/src_420.xml'\n",
      "Error generating signature: [Errno 2] No such file or directory: '/home/XXX/trace-modeling-oss-fuzz-c/trace_test/traces/sudoers_own/trace_fuzz_iosrc_legacy_exe/src_207.xml'\n",
      "Error generating signature: [Errno 2] No such file or directory: '/home/XXX/trace-modeling-oss-fuzz-c/trace_test/traces/sudoers_own/trace_fuzz_iosrc_legacy_exe/src_4.xml'\n",
      "Error generating signature: [Errno 2] No such file or directory: '/home/XXX/trace-modeling-oss-fuzz-c/trace_test/traces/sudoers_own/trace_fuzz_iosrc_legacy_exe/src_39.xml'\n",
      "Error generating signature: [Errno 2] No such file or directory: '/home/XXX/trace-modeling-oss-fuzz-c/trace_test/traces/sudoers_own/trace_fuzz_iosrc_legacy_exe/src_297.xml'\n",
      "Error generating signature: [Errno 2] No such file or directory: '/home/XXX/trace-modeling-oss-fuzz-c/trace_test/traces/sudoers_own/trace_fuzz_iosrc_legacy_exe/src_66.xml'\n",
      "Error generating signature: [Errno 2] No such file or directory: '/home/XXX/trace-modeling-oss-fuzz-c/trace_test/traces/sudoers_own/trace_fuzz_iosrc_legacy_exe/src_247.xml'\n",
      "Error generating signature: [Errno 2] No such file or directory: '/home/XXX/trace-modeling-oss-fuzz-c/trace_test/traces/sudoers_own/trace_fuzz_iosrc_legacy_exe/src_102.xml'\n",
      "Error generating signature: [Errno 2] No such file or directory: '/home/XXX/trace-modeling-oss-fuzz-c/trace_test/traces/sudoers_own/trace_fuzz_iosrc_legacy_exe/src_197.xml'\n",
      "Error generating signature: [Errno 2] No such file or directory: '/home/XXX/trace-modeling-oss-fuzz-c/trace_test/traces/sudoers_own/trace_fuzz_iosrc_legacy_exe/src_355.xml'\n",
      "Error generating signature: [Errno 2] No such file or directory: '/home/XXX/trace-modeling-oss-fuzz-c/trace_test/traces/sudoers_own/trace_fuzz_iosrc_legacy_exe/src_8.xml'\n",
      "Error generating signature: [Errno 2] No such file or directory: '/home/XXX/trace-modeling-oss-fuzz-c/trace_test/traces/sudoers_own/trace_fuzz_iosrc_legacy_exe/src_82.xml'\n",
      "Error generating signature: [Errno 2] No such file or directory: '/home/XXX/trace-modeling-oss-fuzz-c/trace_test/traces/sudoers_own/trace_fuzz_iosrc_legacy_exe/src_111.xml'\n",
      "Error generating signature: [Errno 2] No such file or directory: '/home/XXX/trace-modeling-oss-fuzz-c/trace_test/traces/sudoers_own/trace_fuzz_iosrc_legacy_exe/src_126.xml'\n",
      "Error generating signature: [Errno 2] No such file or directory: '/home/XXX/trace-modeling-oss-fuzz-c/trace_test/traces/sudoers_own/trace_fuzz_iosrc_legacy_exe/src_84.xml'\n",
      "Error generating signature: [Errno 2] No such file or directory: '/home/XXX/trace-modeling-oss-fuzz-c/trace_test/traces/sudoers_own/trace_fuzz_iosrc_legacy_exe/src_335.xml'\n",
      "Error generating signature: [Errno 2] No such file or directory: '/home/XXX/trace-modeling-oss-fuzz-c/trace_test/traces/sudoers_own/trace_fuzz_iosrc_legacy_exe/src_195.xml'\n",
      "Error generating signature: [Errno 2] No such file or directory: '/home/XXX/trace-modeling-oss-fuzz-c/trace_test/traces/sudoers_own/trace_fuzz_iosrc_legacy_exe/src_301.xml'\n",
      "Error generating signature: [Errno 2] No such file or directory: '/home/XXX/trace-modeling-oss-fuzz-c/trace_test/traces/sudoers_own/trace_fuzz_iosrc_legacy_exe/src_16.xml'\n",
      "Error generating signature: [Errno 2] No such file or directory: '/home/XXX/trace-modeling-oss-fuzz-c/trace_test/traces/sudoers_own/trace_fuzz_iosrc_legacy_exe/src_429.xml'\n",
      "Error generating signature: [Errno 2] No such file or directory: '/home/XXX/trace-modeling-oss-fuzz-c/trace_test/traces/sudoers_own/trace_fuzz_iosrc_legacy_exe/src_267.xml'\n",
      "Error generating signature: [Errno 2] No such file or directory: '/home/XXX/trace-modeling-oss-fuzz-c/trace_test/traces/sudoers_own/trace_fuzz_iosrc_legacy_exe/src_305.xml'\n",
      "Error generating signature: [Errno 2] No such file or directory: '/home/XXX/trace-modeling-oss-fuzz-c/trace_test/traces/sudoers_own/trace_fuzz_iosrc_legacy_exe/src_186.xml'\n",
      "Error generating signature: [Errno 2] No such file or directory: '/home/XXX/trace-modeling-oss-fuzz-c/trace_test/traces/sudoers_own/trace_fuzz_iosrc_legacy_exe/src_419.xml'\n",
      "Error generating signature: [Errno 2] No such file or directory: '/home/XXX/trace-modeling-oss-fuzz-c/trace_test/traces/sudoers_own/trace_fuzz_iosrc_legacy_exe/src_321.xml'\n",
      "Error generating signature: [Errno 2] No such file or directory: '/home/XXX/trace-modeling-oss-fuzz-c/trace_test/traces/sudoers_own/trace_fuzz_iosrc_legacy_exe/src_337.xml'\n",
      "Error generating signature: [Errno 2] No such file or directory: '/home/XXX/trace-modeling-oss-fuzz-c/trace_test/traces/sudoers_own/trace_fuzz_iosrc_legacy_exe/src_273.xml'\n",
      "Error generating signature: [Errno 2] No such file or directory: '/home/XXX/trace-modeling-oss-fuzz-c/trace_test/traces/sudoers_own/trace_fuzz_iosrc_legacy_exe/src_58.xml'\n",
      "Error generating signature: [Errno 2] No such file or directory: '/home/XXX/trace-modeling-oss-fuzz-c/trace_test/traces/sudoers_own/trace_fuzz_iosrc_legacy_exe/src_374.xml'\n",
      "Error generating signature: [Errno 2] No such file or directory: '/home/XXX/trace-modeling-oss-fuzz-c/trace_test/traces/sudoers_own/trace_fuzz_iosrc_legacy_exe/src_346.xml'\n",
      "Error generating signature: [Errno 2] No such file or directory: '/home/XXX/trace-modeling-oss-fuzz-c/trace_test/traces/sudoers_own/trace_fuzz_iosrc_legacy_exe/src_190.xml'\n",
      "\n",
      "Processed 26080/39034 files\n",
      "Current unique count: 419\n",
      "Error generating signature: [Errno 2] No such file or directory: '/home/XXX/trace-modeling-oss-fuzz-c/trace_test/traces/sudoers_own/trace_fuzz_iosrc_legacy_exe/src_367.xml'\n",
      "Error generating signature: [Errno 2] No such file or directory: '/home/XXX/trace-modeling-oss-fuzz-c/trace_test/traces/sudoers_own/trace_fuzz_iosrc_legacy_exe/src_18.xml'\n",
      "Error generating signature: [Errno 2] No such file or directory: '/home/XXX/trace-modeling-oss-fuzz-c/trace_test/traces/sudoers_own/trace_fuzz_iosrc_legacy_exe/src_79.xml'\n",
      "Error generating signature: [Errno 2] No such file or directory: '/home/XXX/trace-modeling-oss-fuzz-c/trace_test/traces/sudoers_own/trace_fuzz_iosrc_legacy_exe/src_35.xml'\n",
      "Error generating signature: [Errno 2] No such file or directory: '/home/XXX/trace-modeling-oss-fuzz-c/trace_test/traces/sudoers_own/trace_fuzz_iosrc_legacy_exe/src_362.xml'\n",
      "Error generating signature: [Errno 2] No such file or directory: '/home/XXX/trace-modeling-oss-fuzz-c/trace_test/traces/sudoers_own/trace_fuzz_iosrc_legacy_exe/src_259.xml'\n",
      "Error generating signature: [Errno 2] No such file or directory: '/home/XXX/trace-modeling-oss-fuzz-c/trace_test/traces/sudoers_own/trace_fuzz_iosrc_legacy_exe/src_97.xml'\n",
      "Error generating signature: [Errno 2] No such file or directory: '/home/XXX/trace-modeling-oss-fuzz-c/trace_test/traces/sudoers_own/trace_fuzz_iosrc_legacy_exe/src_358.xml'\n",
      "Error generating signature: [Errno 2] No such file or directory: '/home/XXX/trace-modeling-oss-fuzz-c/trace_test/traces/sudoers_own/trace_fuzz_iosrc_legacy_exe/src_249.xml'\n",
      "Error generating signature: [Errno 2] No such file or directory: '/home/XXX/trace-modeling-oss-fuzz-c/trace_test/traces/sudoers_own/trace_fuzz_iosrc_legacy_exe/src_307.xml'\n",
      "Error generating signature: [Errno 2] No such file or directory: '/home/XXX/trace-modeling-oss-fuzz-c/trace_test/traces/sudoers_own/trace_fuzz_iosrc_legacy_exe/src_423.xml'\n",
      "Error generating signature: [Errno 2] No such file or directory: '/home/XXX/trace-modeling-oss-fuzz-c/trace_test/traces/sudoers_own/trace_fuzz_iosrc_legacy_exe/src_154.xml'\n",
      "Error generating signature: [Errno 2] No such file or directory: '/home/XXX/trace-modeling-oss-fuzz-c/trace_test/traces/sudoers_own/trace_fuzz_iosrc_legacy_exe/src_326.xml'\n",
      "Error generating signature: [Errno 2] No such file or directory: '/home/XXX/trace-modeling-oss-fuzz-c/trace_test/traces/sudoers_own/trace_fuzz_iosrc_legacy_exe/src_56.xml'\n",
      "Error generating signature: [Errno 2] No such file or directory: '/home/XXX/trace-modeling-oss-fuzz-c/trace_test/traces/sudoers_own/trace_fuzz_iosrc_legacy_exe/src_407.xml'\n",
      "Error generating signature: [Errno 2] No such file or directory: '/home/XXX/trace-modeling-oss-fuzz-c/trace_test/traces/sudoers_own/trace_fuzz_iosrc_legacy_exe/src_138.xml'\n",
      "Error generating signature: [Errno 2] No such file or directory: '/home/XXX/trace-modeling-oss-fuzz-c/trace_test/traces/sudoers_own/trace_fuzz_iosrc_legacy_exe/src_50.xml'\n",
      "Error generating signature: [Errno 2] No such file or directory: '/home/XXX/trace-modeling-oss-fuzz-c/trace_test/traces/sudoers_own/trace_fuzz_iosrc_legacy_exe/src_235.xml'\n",
      "Error generating signature: [Errno 2] No such file or directory: '/home/XXX/trace-modeling-oss-fuzz-c/trace_test/traces/sudoers_own/trace_fuzz_iosrc_legacy_exe/src_55.xml'\n",
      "Error generating signature: [Errno 2] No such file or directory: '/home/XXX/trace-modeling-oss-fuzz-c/trace_test/traces/sudoers_own/trace_fuzz_iosrc_legacy_exe/src_339.xml'\n",
      "Error generating signature: [Errno 2] No such file or directory: '/home/XXX/trace-modeling-oss-fuzz-c/trace_test/traces/sudoers_own/trace_fuzz_iosrc_legacy_exe/src_224.xml'\n",
      "Error generating signature: [Errno 2] No such file or directory: '/home/XXX/trace-modeling-oss-fuzz-c/trace_test/traces/sudoers_own/trace_fuzz_iosrc_legacy_exe/src_7.xml'\n",
      "Error generating signature: [Errno 2] No such file or directory: '/home/XXX/trace-modeling-oss-fuzz-c/trace_test/traces/sudoers_own/trace_fuzz_iosrc_legacy_exe/src_95.xml'\n",
      "Error generating signature: [Errno 2] No such file or directory: '/home/XXX/trace-modeling-oss-fuzz-c/trace_test/traces/sudoers_own/trace_fuzz_iosrc_legacy_exe/src_432.xml'\n",
      "Error generating signature: [Errno 2] No such file or directory: '/home/XXX/trace-modeling-oss-fuzz-c/trace_test/traces/sudoers_own/trace_fuzz_iosrc_legacy_exe/src_74.xml'\n",
      "Error generating signature: [Errno 2] No such file or directory: '/home/XXX/trace-modeling-oss-fuzz-c/trace_test/traces/sudoers_own/trace_fuzz_iosrc_legacy_exe/src_390.xml'\n",
      "Error generating signature: [Errno 2] No such file or directory: '/home/XXX/trace-modeling-oss-fuzz-c/trace_test/traces/sudoers_own/trace_fuzz_iosrc_legacy_exe/src_328.xml'\n",
      "Error generating signature: [Errno 2] No such file or directory: '/home/XXX/trace-modeling-oss-fuzz-c/trace_test/traces/sudoers_own/trace_fuzz_iosrc_legacy_exe/src_379.xml'\n",
      "Error generating signature: [Errno 2] No such file or directory: '/home/XXX/trace-modeling-oss-fuzz-c/trace_test/traces/sudoers_own/trace_fuzz_iosrc_legacy_exe/src_9.xml'\n",
      "Error generating signature: [Errno 2] No such file or directory: '/home/XXX/trace-modeling-oss-fuzz-c/trace_test/traces/sudoers_own/trace_fuzz_iosrc_legacy_exe/src_23.xml'\n",
      "Error generating signature: [Errno 2] No such file or directory: '/home/XXX/trace-modeling-oss-fuzz-c/trace_test/traces/sudoers_own/trace_fuzz_iosrc_legacy_exe/src_278.xml'\n",
      "Error generating signature: [Errno 2] No such file or directory: '/home/XXX/trace-modeling-oss-fuzz-c/trace_test/traces/sudoers_own/trace_fuzz_iosrc_legacy_exe/src_414.xml'\n",
      "Error generating signature: [Errno 2] No such file or directory: '/home/XXX/trace-modeling-oss-fuzz-c/trace_test/traces/sudoers_own/trace_fuzz_iosrc_legacy_exe/src_201.xml'\n",
      "Error generating signature: [Errno 2] No such file or directory: '/home/XXX/trace-modeling-oss-fuzz-c/trace_test/traces/sudoers_own/trace_fuzz_iosrc_legacy_exe/src_156.xml'\n",
      "Error generating signature: [Errno 2] No such file or directory: '/home/XXX/trace-modeling-oss-fuzz-c/trace_test/traces/sudoers_own/trace_fuzz_iosrc_legacy_exe/src_382.xml'\n",
      "Error generating signature: [Errno 2] No such file or directory: '/home/XXX/trace-modeling-oss-fuzz-c/trace_test/traces/sudoers_own/trace_fuzz_iosrc_legacy_exe/src_406.xml'\n",
      "Error generating signature: [Errno 2] No such file or directory: '/home/XXX/trace-modeling-oss-fuzz-c/trace_test/traces/sudoers_own/trace_fuzz_iosrc_legacy_exe/src_353.xml'\n",
      "Error generating signature: [Errno 2] No such file or directory: '/home/XXX/trace-modeling-oss-fuzz-c/trace_test/traces/sudoers_own/trace_fuzz_iosrc_legacy_exe/src_59.xml'\n",
      "Error generating signature: [Errno 2] No such file or directory: '/home/XXX/trace-modeling-oss-fuzz-c/trace_test/traces/sudoers_own/trace_fuzz_iosrc_legacy_exe/src_444.xml'\n",
      "Error generating signature: [Errno 2] No such file or directory: '/home/XXX/trace-modeling-oss-fuzz-c/trace_test/traces/sudoers_own/trace_fuzz_iosrc_legacy_exe/src_396.xml'\n",
      "Error generating signature: [Errno 2] No such file or directory: '/home/XXX/trace-modeling-oss-fuzz-c/trace_test/traces/sudoers_own/trace_fuzz_iosrc_legacy_exe/src_131.xml'\n",
      "\n",
      "Processed 26160/39034 files\n",
      "Current unique count: 419\n",
      "\n",
      "Processed 26240/39034 files\n",
      "Current unique count: 419\n",
      "\n",
      "Processed 26320/39034 files\n",
      "Current unique count: 419\n"
     ]
    },
    {
     "name": "stderr",
     "output_type": "stream",
     "text": [
      " 68%|██████▊   | 26514/39034 [52:07<00:14, 841.21it/s] "
     ]
    },
    {
     "name": "stdout",
     "output_type": "stream",
     "text": [
      "\n",
      "Processed 26400/39034 files\n",
      "Current unique count: 419\n",
      "\n",
      "Processed 26480/39034 files\n",
      "Current unique count: 419\n"
     ]
    },
    {
     "name": "stderr",
     "output_type": "stream",
     "text": [
      "Error processing source file: Source file not found: /home/XXX/trace-modeling-oss-fuzz-c/trace_test/traces/sudoers_own/trace_fuzz_iosrc_json_exe/src_200.xml\n",
      "Error processing source file: Source file not found: /home/XXX/trace-modeling-oss-fuzz-c/trace_test/traces/sudoers_own/trace_fuzz_iosrc_json_exe/src_130.xml\n",
      "Error processing source file: Source file not found: /home/XXX/trace-modeling-oss-fuzz-c/trace_test/traces/sudoers_own/trace_fuzz_iosrc_json_exe/src_239.xml\n",
      "Error processing source file: Source file not found: /home/XXX/trace-modeling-oss-fuzz-c/trace_test/traces/sudoers_own/trace_fuzz_iosrc_json_exe/src_376.xml\n",
      "Error processing source file: Source file not found: /home/XXX/trace-modeling-oss-fuzz-c/trace_test/traces/sudoers_own/trace_fuzz_iosrc_json_exe/src_221.xml\n",
      "Error processing source file: Source file not found: /home/XXX/trace-modeling-oss-fuzz-c/trace_test/traces/sudoers_own/trace_fuzz_iosrc_json_exe/src_69.xml\n",
      "Error processing source file: Source file not found: /home/XXX/trace-modeling-oss-fuzz-c/trace_test/traces/sudoers_own/trace_fuzz_iosrc_json_exe/src_220.xml\n",
      "Error processing source file: Source file not found: /home/XXX/trace-modeling-oss-fuzz-c/trace_test/traces/sudoers_own/trace_fuzz_iosrc_json_exe/src_93.xml\n",
      "Error processing source file: Source file not found: /home/XXX/trace-modeling-oss-fuzz-c/trace_test/traces/sudoers_own/trace_fuzz_iosrc_json_exe/src_140.xml\n",
      "Error processing source file: Source file not found: /home/XXX/trace-modeling-oss-fuzz-c/trace_test/traces/sudoers_own/trace_fuzz_iosrc_json_exe/src_311.xml\n",
      "Error processing source file: Source file not found: /home/XXX/trace-modeling-oss-fuzz-c/trace_test/traces/sudoers_own/trace_fuzz_iosrc_json_exe/src_164.xml\n",
      "Error processing source file: Source file not found: /home/XXX/trace-modeling-oss-fuzz-c/trace_test/traces/sudoers_own/trace_fuzz_iosrc_json_exe/src_304.xml\n",
      "Error processing source file: Source file not found: /home/XXX/trace-modeling-oss-fuzz-c/trace_test/traces/sudoers_own/trace_fuzz_iosrc_json_exe/src_292.xml\n",
      "Error processing source file: Source file not found: /home/XXX/trace-modeling-oss-fuzz-c/trace_test/traces/sudoers_own/trace_fuzz_iosrc_json_exe/src_319.xml\n",
      "Error processing source file: Source file not found: /home/XXX/trace-modeling-oss-fuzz-c/trace_test/traces/sudoers_own/trace_fuzz_iosrc_json_exe/src_98.xml\n",
      "Error processing source file: Source file not found: /home/XXX/trace-modeling-oss-fuzz-c/trace_test/traces/sudoers_own/trace_fuzz_iosrc_json_exe/src_451.xml\n",
      "Error processing source file: Source file not found: /home/XXX/trace-modeling-oss-fuzz-c/trace_test/traces/sudoers_own/trace_fuzz_iosrc_json_exe/src_354.xml\n",
      "Error processing source file: Source file not found: /home/XXX/trace-modeling-oss-fuzz-c/trace_test/traces/sudoers_own/trace_fuzz_iosrc_json_exe/src_0.xml\n",
      "Error processing source file: Source file not found: /home/XXX/trace-modeling-oss-fuzz-c/trace_test/traces/sudoers_own/trace_fuzz_iosrc_json_exe/src_415.xml\n",
      "Error processing source file: Source file not found: /home/XXX/trace-modeling-oss-fuzz-c/trace_test/traces/sudoers_own/trace_fuzz_iosrc_json_exe/src_31.xml\n",
      "Error processing source file: Source file not found: /home/XXX/trace-modeling-oss-fuzz-c/trace_test/traces/sudoers_own/trace_fuzz_iosrc_json_exe/src_41.xml\n",
      "Error processing source file: Source file not found: /home/XXX/trace-modeling-oss-fuzz-c/trace_test/traces/sudoers_own/trace_fuzz_iosrc_json_exe/src_191.xml\n",
      "Error processing source file: Source file not found: /home/XXX/trace-modeling-oss-fuzz-c/trace_test/traces/sudoers_own/trace_fuzz_iosrc_json_exe/src_182.xml\n",
      "Error processing source file: Source file not found: /home/XXX/trace-modeling-oss-fuzz-c/trace_test/traces/sudoers_own/trace_fuzz_iosrc_json_exe/src_250.xml\n",
      "Error processing source file: Source file not found: /home/XXX/trace-modeling-oss-fuzz-c/trace_test/traces/sudoers_own/trace_fuzz_iosrc_json_exe/src_136.xml\n",
      "Error processing source file: Source file not found: /home/XXX/trace-modeling-oss-fuzz-c/trace_test/traces/sudoers_own/trace_fuzz_iosrc_json_exe/src_392.xml\n",
      "Error processing source file: Source file not found: /home/XXX/trace-modeling-oss-fuzz-c/trace_test/traces/sudoers_own/trace_fuzz_iosrc_json_exe/src_91.xml\n",
      "Error processing source file: Source file not found: /home/XXX/trace-modeling-oss-fuzz-c/trace_test/traces/sudoers_own/trace_fuzz_iosrc_json_exe/src_395.xml\n",
      "Error processing source file: Source file not found: /home/XXX/trace-modeling-oss-fuzz-c/trace_test/traces/sudoers_own/trace_fuzz_iosrc_json_exe/src_129.xml\n",
      "Error processing source file: Source file not found: /home/XXX/trace-modeling-oss-fuzz-c/trace_test/traces/sudoers_own/trace_fuzz_iosrc_json_exe/src_431.xml\n",
      "Error processing source file: Source file not found: /home/XXX/trace-modeling-oss-fuzz-c/trace_test/traces/sudoers_own/trace_fuzz_iosrc_json_exe/src_128.xml\n",
      "Error processing source file: Source file not found: /home/XXX/trace-modeling-oss-fuzz-c/trace_test/traces/sudoers_own/trace_fuzz_iosrc_json_exe/src_298.xml\n",
      "Error processing source file: Source file not found: /home/XXX/trace-modeling-oss-fuzz-c/trace_test/traces/sudoers_own/trace_fuzz_iosrc_json_exe/src_71.xml\n",
      "Error processing source file: Source file not found: /home/XXX/trace-modeling-oss-fuzz-c/trace_test/traces/sudoers_own/trace_fuzz_iosrc_json_exe/src_333.xml\n",
      "Error processing source file: Source file not found: /home/XXX/trace-modeling-oss-fuzz-c/trace_test/traces/sudoers_own/trace_fuzz_iosrc_json_exe/src_421.xml\n",
      "Error processing source file: Source file not found: /home/XXX/trace-modeling-oss-fuzz-c/trace_test/traces/sudoers_own/trace_fuzz_iosrc_json_exe/src_427.xml\n",
      "Error processing source file: Source file not found: /home/XXX/trace-modeling-oss-fuzz-c/trace_test/traces/sudoers_own/trace_fuzz_iosrc_json_exe/src_142.xml\n",
      "Error processing source file: Source file not found: /home/XXX/trace-modeling-oss-fuzz-c/trace_test/traces/sudoers_own/trace_fuzz_iosrc_json_exe/src_447.xml\n",
      "Error processing source file: Source file not found: /home/XXX/trace-modeling-oss-fuzz-c/trace_test/traces/sudoers_own/trace_fuzz_iosrc_json_exe/src_70.xml\n",
      "Error processing source file: Source file not found: /home/XXX/trace-modeling-oss-fuzz-c/trace_test/traces/sudoers_own/trace_fuzz_iosrc_json_exe/src_43.xml\n",
      "Error processing source file: Source file not found: /home/XXX/trace-modeling-oss-fuzz-c/trace_test/traces/sudoers_own/trace_fuzz_iosrc_json_exe/src_403.xml\n",
      "Error processing source file: Source file not found: /home/XXX/trace-modeling-oss-fuzz-c/trace_test/traces/sudoers_own/trace_fuzz_iosrc_json_exe/src_290.xml\n",
      "Error processing source file: Source file not found: /home/XXX/trace-modeling-oss-fuzz-c/trace_test/traces/sudoers_own/trace_fuzz_iosrc_json_exe/src_384.xml\n",
      "Error processing source file: Source file not found: /home/XXX/trace-modeling-oss-fuzz-c/trace_test/traces/sudoers_own/trace_fuzz_iosrc_json_exe/src_269.xml\n",
      "Error processing source file: Source file not found: /home/XXX/trace-modeling-oss-fuzz-c/trace_test/traces/sudoers_own/trace_fuzz_iosrc_json_exe/src_309.xml\n",
      "Error processing source file: Source file not found: /home/XXX/trace-modeling-oss-fuzz-c/trace_test/traces/sudoers_own/trace_fuzz_iosrc_json_exe/src_254.xml\n",
      "Error processing source file: Source file not found: /home/XXX/trace-modeling-oss-fuzz-c/trace_test/traces/sudoers_own/trace_fuzz_iosrc_json_exe/src_116.xml\n",
      "Error processing source file: Source file not found: /home/XXX/trace-modeling-oss-fuzz-c/trace_test/traces/sudoers_own/trace_fuzz_iosrc_json_exe/src_433.xml\n",
      "Error processing source file: Source file not found: /home/XXX/trace-modeling-oss-fuzz-c/trace_test/traces/sudoers_own/trace_fuzz_iosrc_json_exe/src_181.xml\n",
      "Error processing source file: Source file not found: /home/XXX/trace-modeling-oss-fuzz-c/trace_test/traces/sudoers_own/trace_fuzz_iosrc_json_exe/src_19.xml\n",
      "Error processing source file: Source file not found: /home/XXX/trace-modeling-oss-fuzz-c/trace_test/traces/sudoers_own/trace_fuzz_iosrc_json_exe/src_405.xml\n",
      "Error processing source file: Source file not found: /home/XXX/trace-modeling-oss-fuzz-c/trace_test/traces/sudoers_own/trace_fuzz_iosrc_json_exe/src_165.xml\n",
      "Error processing source file: Source file not found: /home/XXX/trace-modeling-oss-fuzz-c/trace_test/traces/sudoers_own/trace_fuzz_iosrc_json_exe/src_49.xml\n",
      "Error processing source file: Source file not found: /home/XXX/trace-modeling-oss-fuzz-c/trace_test/traces/sudoers_own/trace_fuzz_iosrc_json_exe/src_61.xml\n",
      "Error processing source file: Source file not found: /home/XXX/trace-modeling-oss-fuzz-c/trace_test/traces/sudoers_own/trace_fuzz_iosrc_json_exe/src_276.xml\n",
      "Error processing source file: Source file not found: /home/XXX/trace-modeling-oss-fuzz-c/trace_test/traces/sudoers_own/trace_fuzz_iosrc_json_exe/src_445.xml\n",
      "Error processing source file: Source file not found: /home/XXX/trace-modeling-oss-fuzz-c/trace_test/traces/sudoers_own/trace_fuzz_iosrc_json_exe/src_284.xml\n",
      "Error processing source file: Source file not found: /home/XXX/trace-modeling-oss-fuzz-c/trace_test/traces/sudoers_own/trace_fuzz_iosrc_json_exe/src_342.xml\n",
      "Error processing source file: Source file not found: /home/XXX/trace-modeling-oss-fuzz-c/trace_test/traces/sudoers_own/trace_fuzz_iosrc_json_exe/src_172.xml\n",
      "Error processing source file: Source file not found: /home/XXX/trace-modeling-oss-fuzz-c/trace_test/traces/sudoers_own/trace_fuzz_iosrc_json_exe/src_313.xml\n",
      "Error processing source file: Source file not found: /home/XXX/trace-modeling-oss-fuzz-c/trace_test/traces/sudoers_own/trace_fuzz_iosrc_json_exe/src_192.xml\n",
      "Error processing source file: Source file not found: /home/XXX/trace-modeling-oss-fuzz-c/trace_test/traces/sudoers_own/trace_fuzz_iosrc_json_exe/src_78.xml\n",
      "Error processing source file: Source file not found: /home/XXX/trace-modeling-oss-fuzz-c/trace_test/traces/sudoers_own/trace_fuzz_iosrc_json_exe/src_248.xml\n",
      "Error processing source file: Source file not found: /home/XXX/trace-modeling-oss-fuzz-c/trace_test/traces/sudoers_own/trace_fuzz_iosrc_json_exe/src_255.xml\n",
      "Error processing source file: Source file not found: /home/XXX/trace-modeling-oss-fuzz-c/trace_test/traces/sudoers_own/trace_fuzz_iosrc_json_exe/src_375.xml\n",
      "Error processing source file: Source file not found: /home/XXX/trace-modeling-oss-fuzz-c/trace_test/traces/sudoers_own/trace_fuzz_iosrc_json_exe/src_53.xml\n",
      "Error processing source file: Source file not found: /home/XXX/trace-modeling-oss-fuzz-c/trace_test/traces/sudoers_own/trace_fuzz_iosrc_json_exe/src_169.xml\n",
      "Error processing source file: Source file not found: /home/XXX/trace-modeling-oss-fuzz-c/trace_test/traces/sudoers_own/trace_fuzz_iosrc_json_exe/src_291.xml\n",
      "Error processing source file: Source file not found: /home/XXX/trace-modeling-oss-fuzz-c/trace_test/traces/sudoers_own/trace_fuzz_iosrc_json_exe/src_381.xml\n",
      "Error processing source file: Source file not found: /home/XXX/trace-modeling-oss-fuzz-c/trace_test/traces/sudoers_own/trace_fuzz_iosrc_json_exe/src_179.xml\n",
      " 68%|██████▊   | 26638/39034 [52:07<00:13, 891.65it/s]Error processing source file: Source file not found: /home/XXX/trace-modeling-oss-fuzz-c/trace_test/traces/sudoers_own/trace_fuzz_iosrc_json_exe/src_168.xml\n",
      "Error processing source file: Source file not found: /home/XXX/trace-modeling-oss-fuzz-c/trace_test/traces/sudoers_own/trace_fuzz_iosrc_json_exe/src_171.xml\n",
      "Error processing source file: Source file not found: /home/XXX/trace-modeling-oss-fuzz-c/trace_test/traces/sudoers_own/trace_fuzz_iosrc_json_exe/src_153.xml\n",
      "Error processing source file: Source file not found: /home/XXX/trace-modeling-oss-fuzz-c/trace_test/traces/sudoers_own/trace_fuzz_iosrc_json_exe/src_443.xml\n",
      "Error processing source file: Source file not found: /home/XXX/trace-modeling-oss-fuzz-c/trace_test/traces/sudoers_own/trace_fuzz_iosrc_json_exe/src_65.xml\n",
      "Error processing source file: Source file not found: /home/XXX/trace-modeling-oss-fuzz-c/trace_test/traces/sudoers_own/trace_fuzz_iosrc_json_exe/src_205.xml\n",
      "Error processing source file: Source file not found: /home/XXX/trace-modeling-oss-fuzz-c/trace_test/traces/sudoers_own/trace_fuzz_iosrc_json_exe/src_211.xml\n",
      "Error processing source file: Source file not found: /home/XXX/trace-modeling-oss-fuzz-c/trace_test/traces/sudoers_own/trace_fuzz_iosrc_json_exe/src_258.xml\n",
      "Error processing source file: Source file not found: /home/XXX/trace-modeling-oss-fuzz-c/trace_test/traces/sudoers_own/trace_fuzz_iosrc_json_exe/src_393.xml\n",
      "Error processing source file: Source file not found: /home/XXX/trace-modeling-oss-fuzz-c/trace_test/traces/sudoers_own/trace_fuzz_iosrc_json_exe/src_238.xml\n",
      "Error processing source file: Source file not found: /home/XXX/trace-modeling-oss-fuzz-c/trace_test/traces/sudoers_own/trace_fuzz_iosrc_json_exe/src_155.xml\n",
      "Error processing source file: Source file not found: /home/XXX/trace-modeling-oss-fuzz-c/trace_test/traces/sudoers_own/trace_fuzz_iosrc_json_exe/src_150.xml\n",
      "Error processing source file: Source file not found: /home/XXX/trace-modeling-oss-fuzz-c/trace_test/traces/sudoers_own/trace_fuzz_iosrc_json_exe/src_89.xml\n",
      "Error processing source file: Source file not found: /home/XXX/trace-modeling-oss-fuzz-c/trace_test/traces/sudoers_own/trace_fuzz_iosrc_json_exe/src_5.xml\n",
      "Error processing source file: Source file not found: /home/XXX/trace-modeling-oss-fuzz-c/trace_test/traces/sudoers_own/trace_fuzz_iosrc_json_exe/src_243.xml\n",
      "Error processing source file: Source file not found: /home/XXX/trace-modeling-oss-fuzz-c/trace_test/traces/sudoers_own/trace_fuzz_iosrc_json_exe/src_103.xml\n",
      "Error processing source file: Source file not found: /home/XXX/trace-modeling-oss-fuzz-c/trace_test/traces/sudoers_own/trace_fuzz_iosrc_json_exe/src_242.xml\n",
      "Error processing source file: Source file not found: /home/XXX/trace-modeling-oss-fuzz-c/trace_test/traces/sudoers_own/trace_fuzz_iosrc_json_exe/src_15.xml\n",
      "Error processing source file: Source file not found: /home/XXX/trace-modeling-oss-fuzz-c/trace_test/traces/sudoers_own/trace_fuzz_iosrc_json_exe/src_323.xml\n",
      "Error processing source file: Source file not found: /home/XXX/trace-modeling-oss-fuzz-c/trace_test/traces/sudoers_own/trace_fuzz_iosrc_json_exe/src_233.xml\n",
      "Error processing source file: Source file not found: /home/XXX/trace-modeling-oss-fuzz-c/trace_test/traces/sudoers_own/trace_fuzz_iosrc_json_exe/src_378.xml\n",
      "Error processing source file: Source file not found: /home/XXX/trace-modeling-oss-fuzz-c/trace_test/traces/sudoers_own/trace_fuzz_iosrc_json_exe/src_360.xml\n",
      "Error processing source file: Source file not found: /home/XXX/trace-modeling-oss-fuzz-c/trace_test/traces/sudoers_own/trace_fuzz_iosrc_json_exe/src_222.xml\n",
      "Error processing source file: Source file not found: /home/XXX/trace-modeling-oss-fuzz-c/trace_test/traces/sudoers_own/trace_fuzz_iosrc_json_exe/src_456.xml\n",
      "Error processing source file: Source file not found: /home/XXX/trace-modeling-oss-fuzz-c/trace_test/traces/sudoers_own/trace_fuzz_iosrc_json_exe/src_434.xml\n",
      "Error processing source file: Source file not found: /home/XXX/trace-modeling-oss-fuzz-c/trace_test/traces/sudoers_own/trace_fuzz_iosrc_json_exe/src_351.xml\n",
      "Error processing source file: Source file not found: /home/XXX/trace-modeling-oss-fuzz-c/trace_test/traces/sudoers_own/trace_fuzz_iosrc_json_exe/src_109.xml\n",
      "Error processing source file: Source file not found: /home/XXX/trace-modeling-oss-fuzz-c/trace_test/traces/sudoers_own/trace_fuzz_iosrc_json_exe/src_10.xml\n",
      "Error processing source file: Source file not found: /home/XXX/trace-modeling-oss-fuzz-c/trace_test/traces/sudoers_own/trace_fuzz_iosrc_json_exe/src_13.xml\n",
      "Error processing source file: Source file not found: /home/XXX/trace-modeling-oss-fuzz-c/trace_test/traces/sudoers_own/trace_fuzz_iosrc_json_exe/src_12.xml\n",
      "Error processing source file: Source file not found: /home/XXX/trace-modeling-oss-fuzz-c/trace_test/traces/sudoers_own/trace_fuzz_iosrc_json_exe/src_161.xml\n",
      "Error processing source file: Source file not found: /home/XXX/trace-modeling-oss-fuzz-c/trace_test/traces/sudoers_own/trace_fuzz_iosrc_json_exe/src_356.xml\n",
      "Error processing source file: Source file not found: /home/XXX/trace-modeling-oss-fuzz-c/trace_test/traces/sudoers_own/trace_fuzz_iosrc_json_exe/src_343.xml\n",
      "Error processing source file: Source file not found: /home/XXX/trace-modeling-oss-fuzz-c/trace_test/traces/sudoers_own/trace_fuzz_iosrc_json_exe/src_3.xml\n",
      "Error processing source file: Source file not found: /home/XXX/trace-modeling-oss-fuzz-c/trace_test/traces/sudoers_own/trace_fuzz_iosrc_json_exe/src_117.xml\n",
      "Error processing source file: Source file not found: /home/XXX/trace-modeling-oss-fuzz-c/trace_test/traces/sudoers_own/trace_fuzz_iosrc_json_exe/src_280.xml\n",
      "Error processing source file: Source file not found: /home/XXX/trace-modeling-oss-fuzz-c/trace_test/traces/sudoers_own/trace_fuzz_iosrc_json_exe/src_364.xml\n",
      "Error processing source file: Source file not found: /home/XXX/trace-modeling-oss-fuzz-c/trace_test/traces/sudoers_own/trace_fuzz_iosrc_json_exe/src_206.xml\n",
      "Error processing source file: Source file not found: /home/XXX/trace-modeling-oss-fuzz-c/trace_test/traces/sudoers_own/trace_fuzz_iosrc_json_exe/src_308.xml\n",
      "Error processing source file: Source file not found: /home/XXX/trace-modeling-oss-fuzz-c/trace_test/traces/sudoers_own/trace_fuzz_iosrc_json_exe/src_446.xml\n",
      "Error processing source file: Source file not found: /home/XXX/trace-modeling-oss-fuzz-c/trace_test/traces/sudoers_own/trace_fuzz_iosrc_json_exe/src_158.xml\n",
      "Error processing source file: Source file not found: /home/XXX/trace-modeling-oss-fuzz-c/trace_test/traces/sudoers_own/trace_fuzz_iosrc_json_exe/src_27.xml\n",
      "Error processing source file: Source file not found: /home/XXX/trace-modeling-oss-fuzz-c/trace_test/traces/sudoers_own/trace_fuzz_iosrc_json_exe/src_359.xml\n",
      "Error processing source file: Source file not found: /home/XXX/trace-modeling-oss-fuzz-c/trace_test/traces/sudoers_own/trace_fuzz_iosrc_json_exe/src_20.xml\n",
      "Error processing source file: Source file not found: /home/XXX/trace-modeling-oss-fuzz-c/trace_test/traces/sudoers_own/trace_fuzz_iosrc_json_exe/src_347.xml\n",
      "Error processing source file: Source file not found: /home/XXX/trace-modeling-oss-fuzz-c/trace_test/traces/sudoers_own/trace_fuzz_iosrc_json_exe/src_428.xml\n",
      "Error processing source file: Source file not found: /home/XXX/trace-modeling-oss-fuzz-c/trace_test/traces/sudoers_own/trace_fuzz_iosrc_json_exe/src_252.xml\n",
      "Error processing source file: Source file not found: /home/XXX/trace-modeling-oss-fuzz-c/trace_test/traces/sudoers_own/trace_fuzz_iosrc_json_exe/src_166.xml\n",
      "Error processing source file: Source file not found: /home/XXX/trace-modeling-oss-fuzz-c/trace_test/traces/sudoers_own/trace_fuzz_iosrc_json_exe/src_327.xml\n",
      "Error processing source file: Source file not found: /home/XXX/trace-modeling-oss-fuzz-c/trace_test/traces/sudoers_own/trace_fuzz_iosrc_json_exe/src_60.xml\n",
      "Error processing source file: Source file not found: /home/XXX/trace-modeling-oss-fuzz-c/trace_test/traces/sudoers_own/trace_fuzz_iosrc_json_exe/src_183.xml\n",
      "Error processing source file: Source file not found: /home/XXX/trace-modeling-oss-fuzz-c/trace_test/traces/sudoers_own/trace_fuzz_iosrc_json_exe/src_106.xml\n",
      "Error processing source file: Source file not found: /home/XXX/trace-modeling-oss-fuzz-c/trace_test/traces/sudoers_own/trace_fuzz_iosrc_json_exe/src_263.xml\n",
      "Error processing source file: Source file not found: /home/XXX/trace-modeling-oss-fuzz-c/trace_test/traces/sudoers_own/trace_fuzz_iosrc_json_exe/src_100.xml\n",
      "Error processing source file: Source file not found: /home/XXX/trace-modeling-oss-fuzz-c/trace_test/traces/sudoers_own/trace_fuzz_iosrc_json_exe/src_86.xml\n",
      "Error processing source file: Source file not found: /home/XXX/trace-modeling-oss-fuzz-c/trace_test/traces/sudoers_own/trace_fuzz_iosrc_json_exe/src_146.xml\n",
      "Error processing source file: Source file not found: /home/XXX/trace-modeling-oss-fuzz-c/trace_test/traces/sudoers_own/trace_fuzz_iosrc_json_exe/src_344.xml\n",
      "Error processing source file: Source file not found: /home/XXX/trace-modeling-oss-fuzz-c/trace_test/traces/sudoers_own/trace_fuzz_iosrc_json_exe/src_219.xml\n",
      "Error processing source file: Source file not found: /home/XXX/trace-modeling-oss-fuzz-c/trace_test/traces/sudoers_own/trace_fuzz_iosrc_json_exe/src_457.xml\n",
      "Error processing source file: Source file not found: /home/XXX/trace-modeling-oss-fuzz-c/trace_test/traces/sudoers_own/trace_fuzz_iosrc_json_exe/src_315.xml\n",
      "Error processing source file: Source file not found: /home/XXX/trace-modeling-oss-fuzz-c/trace_test/traces/sudoers_own/trace_fuzz_iosrc_json_exe/src_228.xml\n",
      "Error processing source file: Source file not found: /home/XXX/trace-modeling-oss-fuzz-c/trace_test/traces/sudoers_own/trace_fuzz_iosrc_json_exe/src_413.xml\n",
      "Error processing source file: Source file not found: /home/XXX/trace-modeling-oss-fuzz-c/trace_test/traces/sudoers_own/trace_fuzz_iosrc_json_exe/src_287.xml\n",
      "Error processing source file: Source file not found: /home/XXX/trace-modeling-oss-fuzz-c/trace_test/traces/sudoers_own/trace_fuzz_iosrc_json_exe/src_264.xml\n",
      "Error processing source file: Source file not found: /home/XXX/trace-modeling-oss-fuzz-c/trace_test/traces/sudoers_own/trace_fuzz_iosrc_json_exe/src_101.xml\n",
      "Error processing source file: Source file not found: /home/XXX/trace-modeling-oss-fuzz-c/trace_test/traces/sudoers_own/trace_fuzz_iosrc_json_exe/src_120.xml\n",
      "Error processing source file: Source file not found: /home/XXX/trace-modeling-oss-fuzz-c/trace_test/traces/sudoers_own/trace_fuzz_iosrc_json_exe/src_204.xml\n",
      "Error processing source file: Source file not found: /home/XXX/trace-modeling-oss-fuzz-c/trace_test/traces/sudoers_own/trace_fuzz_iosrc_json_exe/src_107.xml\n",
      "Error processing source file: Source file not found: /home/XXX/trace-modeling-oss-fuzz-c/trace_test/traces/sudoers_own/trace_fuzz_iosrc_json_exe/src_178.xml\n",
      "Error processing source file: Source file not found: /home/XXX/trace-modeling-oss-fuzz-c/trace_test/traces/sudoers_own/trace_fuzz_iosrc_json_exe/src_372.xml\n",
      "Error processing source file: Source file not found: /home/XXX/trace-modeling-oss-fuzz-c/trace_test/traces/sudoers_own/trace_fuzz_iosrc_json_exe/src_110.xml\n",
      "Error processing source file: Source file not found: /home/XXX/trace-modeling-oss-fuzz-c/trace_test/traces/sudoers_own/trace_fuzz_iosrc_json_exe/src_366.xml\n",
      "Error processing source file: Source file not found: /home/XXX/trace-modeling-oss-fuzz-c/trace_test/traces/sudoers_own/trace_fuzz_iosrc_json_exe/src_410.xml\n",
      "Error processing source file: Source file not found: /home/XXX/trace-modeling-oss-fuzz-c/trace_test/traces/sudoers_own/trace_fuzz_iosrc_json_exe/src_144.xml\n",
      "Error processing source file: Source file not found: /home/XXX/trace-modeling-oss-fuzz-c/trace_test/traces/sudoers_own/trace_fuzz_iosrc_json_exe/src_240.xml\n",
      "Error processing source file: Source file not found: /home/XXX/trace-modeling-oss-fuzz-c/trace_test/traces/sudoers_own/trace_fuzz_iosrc_json_exe/src_261.xml\n",
      "Error processing source file: Source file not found: /home/XXX/trace-modeling-oss-fuzz-c/trace_test/traces/sudoers_own/trace_fuzz_iosrc_json_exe/src_198.xml\n",
      "Error processing source file: Source file not found: /home/XXX/trace-modeling-oss-fuzz-c/trace_test/traces/sudoers_own/trace_fuzz_iosrc_json_exe/src_371.xml\n",
      "Error processing source file: Source file not found: /home/XXX/trace-modeling-oss-fuzz-c/trace_test/traces/sudoers_own/trace_fuzz_iosrc_json_exe/src_398.xml\n",
      "Error processing source file: Source file not found: /home/XXX/trace-modeling-oss-fuzz-c/trace_test/traces/sudoers_own/trace_fuzz_iosrc_json_exe/src_303.xml\n",
      "Error processing source file: Source file not found: /home/XXX/trace-modeling-oss-fuzz-c/trace_test/traces/sudoers_own/trace_fuzz_iosrc_json_exe/src_268.xml\n",
      "Error processing source file: Source file not found: /home/XXX/trace-modeling-oss-fuzz-c/trace_test/traces/sudoers_own/trace_fuzz_iosrc_json_exe/src_318.xml\n",
      "Error processing source file: Source file not found: /home/XXX/trace-modeling-oss-fuzz-c/trace_test/traces/sudoers_own/trace_fuzz_iosrc_json_exe/src_272.xml\n",
      "Error processing source file: Source file not found: /home/XXX/trace-modeling-oss-fuzz-c/trace_test/traces/sudoers_own/trace_fuzz_iosrc_json_exe/src_135.xml\n",
      "Error processing source file: Source file not found: /home/XXX/trace-modeling-oss-fuzz-c/trace_test/traces/sudoers_own/trace_fuzz_iosrc_json_exe/src_314.xml\n",
      "Error processing source file: Source file not found: /home/XXX/trace-modeling-oss-fuzz-c/trace_test/traces/sudoers_own/trace_fuzz_iosrc_json_exe/src_88.xml\n",
      "Error processing source file: Source file not found: /home/XXX/trace-modeling-oss-fuzz-c/trace_test/traces/sudoers_own/trace_fuzz_iosrc_json_exe/src_125.xml\n",
      "Error processing source file: Source file not found: /home/XXX/trace-modeling-oss-fuzz-c/trace_test/traces/sudoers_own/trace_fuzz_iosrc_json_exe/src_300.xml\n",
      "Error processing source file: Source file not found: /home/XXX/trace-modeling-oss-fuzz-c/trace_test/traces/sudoers_own/trace_fuzz_iosrc_json_exe/src_44.xml\n",
      "Error processing source file: Source file not found: /home/XXX/trace-modeling-oss-fuzz-c/trace_test/traces/sudoers_own/trace_fuzz_iosrc_json_exe/src_141.xml\n",
      "Error processing source file: Source file not found: /home/XXX/trace-modeling-oss-fuzz-c/trace_test/traces/sudoers_own/trace_fuzz_iosrc_json_exe/src_330.xml\n",
      "Error processing source file: Source file not found: /home/XXX/trace-modeling-oss-fuzz-c/trace_test/traces/sudoers_own/trace_fuzz_iosrc_json_exe/src_316.xml\n",
      "Error processing source file: Source file not found: /home/XXX/trace-modeling-oss-fuzz-c/trace_test/traces/sudoers_own/trace_fuzz_iosrc_json_exe/src_310.xml\n",
      "Error processing source file: Source file not found: /home/XXX/trace-modeling-oss-fuzz-c/trace_test/traces/sudoers_own/trace_fuzz_iosrc_json_exe/src_237.xml\n",
      "Error processing source file: Source file not found: /home/XXX/trace-modeling-oss-fuzz-c/trace_test/traces/sudoers_own/trace_fuzz_iosrc_json_exe/src_438.xml\n",
      "Error processing source file: Source file not found: /home/XXX/trace-modeling-oss-fuzz-c/trace_test/traces/sudoers_own/trace_fuzz_iosrc_json_exe/src_365.xml\n",
      "Error processing source file: Source file not found: /home/XXX/trace-modeling-oss-fuzz-c/trace_test/traces/sudoers_own/trace_fuzz_iosrc_json_exe/src_40.xml\n",
      "Error processing source file: Source file not found: /home/XXX/trace-modeling-oss-fuzz-c/trace_test/traces/sudoers_own/trace_fuzz_iosrc_json_exe/src_85.xml\n",
      "Error processing source file: Source file not found: /home/XXX/trace-modeling-oss-fuzz-c/trace_test/traces/sudoers_own/trace_fuzz_iosrc_json_exe/src_336.xml\n",
      "Error processing source file: Source file not found: /home/XXX/trace-modeling-oss-fuzz-c/trace_test/traces/sudoers_own/trace_fuzz_iosrc_json_exe/src_188.xml\n",
      "Error processing source file: Source file not found: /home/XXX/trace-modeling-oss-fuzz-c/trace_test/traces/sudoers_own/trace_fuzz_iosrc_json_exe/src_402.xml\n",
      "Error processing source file: Source file not found: /home/XXX/trace-modeling-oss-fuzz-c/trace_test/traces/sudoers_own/trace_fuzz_iosrc_json_exe/src_189.xml\n",
      "Error processing source file: Source file not found: /home/XXX/trace-modeling-oss-fuzz-c/trace_test/traces/sudoers_own/trace_fuzz_iosrc_json_exe/src_21.xml\n",
      "Error processing source file: Source file not found: /home/XXX/trace-modeling-oss-fuzz-c/trace_test/traces/sudoers_own/trace_fuzz_iosrc_json_exe/src_167.xml\n",
      "Error processing source file: Source file not found: /home/XXX/trace-modeling-oss-fuzz-c/trace_test/traces/sudoers_own/trace_fuzz_iosrc_json_exe/src_87.xml\n",
      "Error processing source file: Source file not found: /home/XXX/trace-modeling-oss-fuzz-c/trace_test/traces/sudoers_own/trace_fuzz_iosrc_json_exe/src_170.xml\n",
      "Error processing source file: Source file not found: /home/XXX/trace-modeling-oss-fuzz-c/trace_test/traces/sudoers_own/trace_fuzz_iosrc_json_exe/src_213.xml\n",
      "Error processing source file: Source file not found: /home/XXX/trace-modeling-oss-fuzz-c/trace_test/traces/sudoers_own/trace_fuzz_iosrc_json_exe/src_331.xml\n",
      "Error processing source file: Source file not found: /home/XXX/trace-modeling-oss-fuzz-c/trace_test/traces/sudoers_own/trace_fuzz_iosrc_json_exe/src_194.xml\n",
      "Error processing source file: Source file not found: /home/XXX/trace-modeling-oss-fuzz-c/trace_test/traces/sudoers_own/trace_fuzz_iosrc_json_exe/src_225.xml\n",
      "Error processing source file: Source file not found: /home/XXX/trace-modeling-oss-fuzz-c/trace_test/traces/sudoers_own/trace_fuzz_iosrc_json_exe/src_30.xml\n",
      "Error processing source file: Source file not found: /home/XXX/trace-modeling-oss-fuzz-c/trace_test/traces/sudoers_own/trace_fuzz_iosrc_json_exe/src_387.xml\n",
      "Error processing source file: Source file not found: /home/XXX/trace-modeling-oss-fuzz-c/trace_test/traces/sudoers_own/trace_fuzz_iosrc_json_exe/src_286.xml\n",
      "Error processing source file: Source file not found: /home/XXX/trace-modeling-oss-fuzz-c/trace_test/traces/sudoers_own/trace_fuzz_iosrc_json_exe/src_424.xml\n",
      "Error processing source file: Source file not found: /home/XXX/trace-modeling-oss-fuzz-c/trace_test/traces/sudoers_own/trace_fuzz_iosrc_json_exe/src_386.xml\n",
      "Error processing source file: Source file not found: /home/XXX/trace-modeling-oss-fuzz-c/trace_test/traces/sudoers_own/trace_fuzz_iosrc_json_exe/src_215.xml\n",
      "Error processing source file: Source file not found: /home/XXX/trace-modeling-oss-fuzz-c/trace_test/traces/sudoers_own/trace_fuzz_iosrc_json_exe/src_26.xml\n",
      "Error processing source file: Source file not found: /home/XXX/trace-modeling-oss-fuzz-c/trace_test/traces/sudoers_own/trace_fuzz_iosrc_json_exe/src_404.xml\n",
      "Error processing source file: Source file not found: /home/XXX/trace-modeling-oss-fuzz-c/trace_test/traces/sudoers_own/trace_fuzz_iosrc_json_exe/src_422.xml\n",
      "Error processing source file: Source file not found: /home/XXX/trace-modeling-oss-fuzz-c/trace_test/traces/sudoers_own/trace_fuzz_iosrc_json_exe/src_454.xml\n",
      "Error processing source file: Source file not found: /home/XXX/trace-modeling-oss-fuzz-c/trace_test/traces/sudoers_own/trace_fuzz_iosrc_json_exe/src_262.xml\n",
      "Error processing source file: Source file not found: /home/XXX/trace-modeling-oss-fuzz-c/trace_test/traces/sudoers_own/trace_fuzz_iosrc_json_exe/src_184.xml\n",
      "Error processing source file: Source file not found: /home/XXX/trace-modeling-oss-fuzz-c/trace_test/traces/sudoers_own/trace_fuzz_iosrc_json_exe/src_418.xml\n",
      "Error processing source file: Source file not found: /home/XXX/trace-modeling-oss-fuzz-c/trace_test/traces/sudoers_own/trace_fuzz_iosrc_json_exe/src_105.xml\n",
      "Error processing source file: Source file not found: /home/XXX/trace-modeling-oss-fuzz-c/trace_test/traces/sudoers_own/trace_fuzz_iosrc_json_exe/src_176.xml\n",
      "Error processing source file: Source file not found: /home/XXX/trace-modeling-oss-fuzz-c/trace_test/traces/sudoers_own/trace_fuzz_iosrc_json_exe/src_37.xml\n",
      "Error processing source file: Source file not found: /home/XXX/trace-modeling-oss-fuzz-c/trace_test/traces/sudoers_own/trace_fuzz_iosrc_json_exe/src_435.xml\n",
      "Error processing source file: Source file not found: /home/XXX/trace-modeling-oss-fuzz-c/trace_test/traces/sudoers_own/trace_fuzz_iosrc_json_exe/src_42.xml\n",
      "Error processing source file: Source file not found: /home/XXX/trace-modeling-oss-fuzz-c/trace_test/traces/sudoers_own/trace_fuzz_iosrc_json_exe/src_152.xml\n",
      "Error processing source file: Source file not found: /home/XXX/trace-modeling-oss-fuzz-c/trace_test/traces/sudoers_own/trace_fuzz_iosrc_json_exe/src_348.xml\n",
      "Error processing source file: Source file not found: /home/XXX/trace-modeling-oss-fuzz-c/trace_test/traces/sudoers_own/trace_fuzz_iosrc_json_exe/src_373.xml\n",
      "Error processing source file: Source file not found: /home/XXX/trace-modeling-oss-fuzz-c/trace_test/traces/sudoers_own/trace_fuzz_iosrc_json_exe/src_159.xml\n",
      "Error processing source file: Source file not found: /home/XXX/trace-modeling-oss-fuzz-c/trace_test/traces/sudoers_own/trace_fuzz_iosrc_json_exe/src_425.xml\n",
      "Error processing source file: Source file not found: /home/XXX/trace-modeling-oss-fuzz-c/trace_test/traces/sudoers_own/trace_fuzz_iosrc_json_exe/src_411.xml\n",
      "Error processing source file: Source file not found: /home/XXX/trace-modeling-oss-fuzz-c/trace_test/traces/sudoers_own/trace_fuzz_iosrc_json_exe/src_180.xml\n",
      "Error processing source file: Source file not found: /home/XXX/trace-modeling-oss-fuzz-c/trace_test/traces/sudoers_own/trace_fuzz_iosrc_json_exe/src_401.xml\n",
      "Error processing source file: Source file not found: /home/XXX/trace-modeling-oss-fuzz-c/trace_test/traces/sudoers_own/trace_fuzz_iosrc_json_exe/src_218.xml\n",
      "Error processing source file: Source file not found: /home/XXX/trace-modeling-oss-fuzz-c/trace_test/traces/sudoers_own/trace_fuzz_iosrc_json_exe/src_282.xml\n",
      "Error processing source file: Source file not found: /home/XXX/trace-modeling-oss-fuzz-c/trace_test/traces/sudoers_own/trace_fuzz_iosrc_json_exe/src_223.xml\n",
      "Error processing source file: Source file not found: /home/XXX/trace-modeling-oss-fuzz-c/trace_test/traces/sudoers_own/trace_fuzz_iosrc_json_exe/src_149.xml\n",
      "Error processing source file: Source file not found: /home/XXX/trace-modeling-oss-fuzz-c/trace_test/traces/sudoers_own/trace_fuzz_iosrc_json_exe/src_132.xml\n",
      "Error processing source file: Source file not found: /home/XXX/trace-modeling-oss-fuzz-c/trace_test/traces/sudoers_own/trace_fuzz_iosrc_json_exe/src_54.xml\n",
      "Error processing source file: Source file not found: /home/XXX/trace-modeling-oss-fuzz-c/trace_test/traces/sudoers_own/trace_fuzz_iosrc_json_exe/src_350.xml\n",
      "Error processing source file: Source file not found: /home/XXX/trace-modeling-oss-fuzz-c/trace_test/traces/sudoers_own/trace_fuzz_iosrc_json_exe/src_338.xml\n",
      "Error processing source file: Source file not found: /home/XXX/trace-modeling-oss-fuzz-c/trace_test/traces/sudoers_own/trace_fuzz_iosrc_json_exe/src_209.xml\n",
      "Error processing source file: Source file not found: /home/XXX/trace-modeling-oss-fuzz-c/trace_test/traces/sudoers_own/trace_fuzz_iosrc_json_exe/src_449.xml\n",
      "Error processing source file: Source file not found: /home/XXX/trace-modeling-oss-fuzz-c/trace_test/traces/sudoers_own/trace_fuzz_iosrc_json_exe/src_452.xml\n",
      "Error processing source file: Source file not found: /home/XXX/trace-modeling-oss-fuzz-c/trace_test/traces/sudoers_own/trace_fuzz_iosrc_json_exe/src_118.xml\n",
      "Error processing source file: Source file not found: /home/XXX/trace-modeling-oss-fuzz-c/trace_test/traces/sudoers_own/trace_fuzz_iosrc_json_exe/src_14.xml\n",
      "Error processing source file: Source file not found: /home/XXX/trace-modeling-oss-fuzz-c/trace_test/traces/sudoers_own/trace_fuzz_iosrc_json_exe/src_293.xml\n",
      "Error processing source file: Source file not found: /home/XXX/trace-modeling-oss-fuzz-c/trace_test/traces/sudoers_own/trace_fuzz_iosrc_json_exe/src_257.xml\n",
      "Error processing source file: Source file not found: /home/XXX/trace-modeling-oss-fuzz-c/trace_test/traces/sudoers_own/trace_fuzz_iosrc_json_exe/src_266.xml\n",
      "Error processing source file: Source file not found: /home/XXX/trace-modeling-oss-fuzz-c/trace_test/traces/sudoers_own/trace_fuzz_iosrc_json_exe/src_436.xml\n",
      "Error processing source file: Source file not found: /home/XXX/trace-modeling-oss-fuzz-c/trace_test/traces/sudoers_own/trace_fuzz_iosrc_json_exe/src_260.xml\n",
      "Error processing source file: Source file not found: /home/XXX/trace-modeling-oss-fuzz-c/trace_test/traces/sudoers_own/trace_fuzz_iosrc_json_exe/src_450.xml\n",
      "Error processing source file: Source file not found: /home/XXX/trace-modeling-oss-fuzz-c/trace_test/traces/sudoers_own/trace_fuzz_iosrc_json_exe/src_73.xml\n",
      "Error processing source file: Source file not found: /home/XXX/trace-modeling-oss-fuzz-c/trace_test/traces/sudoers_own/trace_fuzz_iosrc_json_exe/src_383.xml\n",
      "Error processing source file: Source file not found: /home/XXX/trace-modeling-oss-fuzz-c/trace_test/traces/sudoers_own/trace_fuzz_iosrc_json_exe/src_345.xml\n",
      "Error processing source file: Source file not found: /home/XXX/trace-modeling-oss-fuzz-c/trace_test/traces/sudoers_own/trace_fuzz_iosrc_json_exe/src_283.xml\n",
      "Error processing source file: Source file not found: /home/XXX/trace-modeling-oss-fuzz-c/trace_test/traces/sudoers_own/trace_fuzz_iosrc_json_exe/src_72.xml\n",
      "Error processing source file: Source file not found: /home/XXX/trace-modeling-oss-fuzz-c/trace_test/traces/sudoers_own/trace_fuzz_iosrc_json_exe/src_236.xml\n",
      "Error processing source file: Source file not found: /home/XXX/trace-modeling-oss-fuzz-c/trace_test/traces/sudoers_own/trace_fuzz_iosrc_json_exe/src_441.xml\n",
      "Error processing source file: Source file not found: /home/XXX/trace-modeling-oss-fuzz-c/trace_test/traces/sudoers_own/trace_fuzz_iosrc_json_exe/src_119.xml\n",
      "Error processing source file: Source file not found: /home/XXX/trace-modeling-oss-fuzz-c/trace_test/traces/sudoers_own/trace_fuzz_iosrc_json_exe/src_394.xml\n",
      "Error processing source file: Source file not found: /home/XXX/trace-modeling-oss-fuzz-c/trace_test/traces/sudoers_own/trace_fuzz_iosrc_json_exe/src_46.xml\n",
      "Error processing source file: Source file not found: /home/XXX/trace-modeling-oss-fuzz-c/trace_test/traces/sudoers_own/trace_fuzz_iosrc_json_exe/src_312.xml\n",
      "Error processing source file: Source file not found: /home/XXX/trace-modeling-oss-fuzz-c/trace_test/traces/sudoers_own/trace_fuzz_iosrc_json_exe/src_352.xml\n",
      "Error processing source file: Source file not found: /home/XXX/trace-modeling-oss-fuzz-c/trace_test/traces/sudoers_own/trace_fuzz_iosrc_json_exe/src_340.xml\n",
      "Error processing source file: Source file not found: /home/XXX/trace-modeling-oss-fuzz-c/trace_test/traces/sudoers_own/trace_fuzz_iosrc_json_exe/src_265.xml\n",
      "Error processing source file: Source file not found: /home/XXX/trace-modeling-oss-fuzz-c/trace_test/traces/sudoers_own/trace_fuzz_iosrc_json_exe/src_25.xml\n",
      "Error processing source file: Source file not found: /home/XXX/trace-modeling-oss-fuzz-c/trace_test/traces/sudoers_own/trace_fuzz_iosrc_json_exe/src_81.xml\n",
      "Error processing source file: Source file not found: /home/XXX/trace-modeling-oss-fuzz-c/trace_test/traces/sudoers_own/trace_fuzz_iosrc_json_exe/src_277.xml\n",
      "Error processing source file: Source file not found: /home/XXX/trace-modeling-oss-fuzz-c/trace_test/traces/sudoers_own/trace_fuzz_iosrc_json_exe/src_226.xml\n",
      "Error processing source file: Source file not found: /home/XXX/trace-modeling-oss-fuzz-c/trace_test/traces/sudoers_own/trace_fuzz_iosrc_json_exe/src_67.xml\n",
      "Error processing source file: Source file not found: /home/XXX/trace-modeling-oss-fuzz-c/trace_test/traces/sudoers_own/trace_fuzz_iosrc_json_exe/src_76.xml\n",
      "Error processing source file: Source file not found: /home/XXX/trace-modeling-oss-fuzz-c/trace_test/traces/sudoers_own/trace_fuzz_iosrc_json_exe/src_385.xml\n",
      "Error processing source file: Source file not found: /home/XXX/trace-modeling-oss-fuzz-c/trace_test/traces/sudoers_own/trace_fuzz_iosrc_json_exe/src_104.xml\n",
      "Error processing source file: Source file not found: /home/XXX/trace-modeling-oss-fuzz-c/trace_test/traces/sudoers_own/trace_fuzz_iosrc_json_exe/src_289.xml\n",
      "Error processing source file: Source file not found: /home/XXX/trace-modeling-oss-fuzz-c/trace_test/traces/sudoers_own/trace_fuzz_iosrc_json_exe/src_370.xml\n",
      "Error processing source file: Source file not found: /home/XXX/trace-modeling-oss-fuzz-c/trace_test/traces/sudoers_own/trace_fuzz_iosrc_json_exe/src_341.xml\n",
      "Error processing source file: Source file not found: /home/XXX/trace-modeling-oss-fuzz-c/trace_test/traces/sudoers_own/trace_fuzz_iosrc_json_exe/src_28.xml\n",
      "Error processing source file: Source file not found: /home/XXX/trace-modeling-oss-fuzz-c/trace_test/traces/sudoers_own/trace_fuzz_iosrc_json_exe/src_245.xml\n",
      "Error processing source file: Source file not found: /home/XXX/trace-modeling-oss-fuzz-c/trace_test/traces/sudoers_own/trace_fuzz_iosrc_json_exe/src_231.xml\n",
      "Error processing source file: Source file not found: /home/XXX/trace-modeling-oss-fuzz-c/trace_test/traces/sudoers_own/trace_fuzz_iosrc_json_exe/src_45.xml\n",
      "Error processing source file: Source file not found: /home/XXX/trace-modeling-oss-fuzz-c/trace_test/traces/sudoers_own/trace_fuzz_iosrc_json_exe/src_458.xml\n",
      "Error processing source file: Source file not found: /home/XXX/trace-modeling-oss-fuzz-c/trace_test/traces/sudoers_own/trace_fuzz_iosrc_json_exe/src_32.xml\n",
      "Error processing source file: Source file not found: /home/XXX/trace-modeling-oss-fuzz-c/trace_test/traces/sudoers_own/trace_fuzz_iosrc_json_exe/src_187.xml\n",
      "Error processing source file: Source file not found: /home/XXX/trace-modeling-oss-fuzz-c/trace_test/traces/sudoers_own/trace_fuzz_iosrc_json_exe/src_17.xml\n",
      "Error processing source file: Source file not found: /home/XXX/trace-modeling-oss-fuzz-c/trace_test/traces/sudoers_own/trace_fuzz_iosrc_json_exe/src_437.xml\n",
      "Error processing source file: Source file not found: /home/XXX/trace-modeling-oss-fuzz-c/trace_test/traces/sudoers_own/trace_fuzz_iosrc_json_exe/src_203.xml\n",
      "Error processing source file: Source file not found: /home/XXX/trace-modeling-oss-fuzz-c/trace_test/traces/sudoers_own/trace_fuzz_iosrc_json_exe/src_320.xml\n",
      "Error processing source file: Source file not found: /home/XXX/trace-modeling-oss-fuzz-c/trace_test/traces/sudoers_own/trace_fuzz_iosrc_json_exe/src_397.xml\n",
      "Error processing source file: Source file not found: /home/XXX/trace-modeling-oss-fuzz-c/trace_test/traces/sudoers_own/trace_fuzz_iosrc_json_exe/src_96.xml\n",
      "Error processing source file: Source file not found: /home/XXX/trace-modeling-oss-fuzz-c/trace_test/traces/sudoers_own/trace_fuzz_iosrc_json_exe/src_440.xml\n",
      "Error processing source file: Source file not found: /home/XXX/trace-modeling-oss-fuzz-c/trace_test/traces/sudoers_own/trace_fuzz_iosrc_json_exe/src_143.xml\n",
      "Error processing source file: Source file not found: /home/XXX/trace-modeling-oss-fuzz-c/trace_test/traces/sudoers_own/trace_fuzz_iosrc_json_exe/src_408.xml\n",
      "Error processing source file: Source file not found: /home/XXX/trace-modeling-oss-fuzz-c/trace_test/traces/sudoers_own/trace_fuzz_iosrc_json_exe/src_134.xml\n",
      "Error processing source file: Source file not found: /home/XXX/trace-modeling-oss-fuzz-c/trace_test/traces/sudoers_own/trace_fuzz_iosrc_json_exe/src_22.xml\n",
      "Error processing source file: Source file not found: /home/XXX/trace-modeling-oss-fuzz-c/trace_test/traces/sudoers_own/trace_fuzz_iosrc_json_exe/src_199.xml\n",
      "Error processing source file: Source file not found: /home/XXX/trace-modeling-oss-fuzz-c/trace_test/traces/sudoers_own/trace_fuzz_iosrc_json_exe/src_227.xml\n",
      "Error processing source file: Source file not found: /home/XXX/trace-modeling-oss-fuzz-c/trace_test/traces/sudoers_own/trace_fuzz_iosrc_json_exe/src_99.xml\n",
      "Error processing source file: Source file not found: /home/XXX/trace-modeling-oss-fuzz-c/trace_test/traces/sudoers_own/trace_fuzz_iosrc_json_exe/src_409.xml\n",
      "Error processing source file: Source file not found: /home/XXX/trace-modeling-oss-fuzz-c/trace_test/traces/sudoers_own/trace_fuzz_iosrc_json_exe/src_279.xml\n",
      "Error processing source file: Source file not found: /home/XXX/trace-modeling-oss-fuzz-c/trace_test/traces/sudoers_own/trace_fuzz_iosrc_json_exe/src_253.xml\n",
      "Error processing source file: Source file not found: /home/XXX/trace-modeling-oss-fuzz-c/trace_test/traces/sudoers_own/trace_fuzz_iosrc_json_exe/src_217.xml\n",
      "Error processing source file: Source file not found: /home/XXX/trace-modeling-oss-fuzz-c/trace_test/traces/sudoers_own/trace_fuzz_iosrc_json_exe/src_324.xml\n",
      "Error processing source file: Source file not found: /home/XXX/trace-modeling-oss-fuzz-c/trace_test/traces/sudoers_own/trace_fuzz_iosrc_json_exe/src_322.xml\n",
      "Error processing source file: Source file not found: /home/XXX/trace-modeling-oss-fuzz-c/trace_test/traces/sudoers_own/trace_fuzz_iosrc_json_exe/src_244.xml\n",
      "Error processing source file: Source file not found: /home/XXX/trace-modeling-oss-fuzz-c/trace_test/traces/sudoers_own/trace_fuzz_iosrc_json_exe/src_453.xml\n",
      "Error processing source file: Source file not found: /home/XXX/trace-modeling-oss-fuzz-c/trace_test/traces/sudoers_own/trace_fuzz_iosrc_json_exe/src_391.xml\n",
      "Error processing source file: Source file not found: /home/XXX/trace-modeling-oss-fuzz-c/trace_test/traces/sudoers_own/trace_fuzz_iosrc_json_exe/src_173.xml\n",
      "Error processing source file: Source file not found: /home/XXX/trace-modeling-oss-fuzz-c/trace_test/traces/sudoers_own/trace_fuzz_iosrc_json_exe/src_246.xml\n",
      "Error processing source file: Source file not found: /home/XXX/trace-modeling-oss-fuzz-c/trace_test/traces/sudoers_own/trace_fuzz_iosrc_json_exe/src_349.xml\n",
      "Error processing source file: Source file not found: /home/XXX/trace-modeling-oss-fuzz-c/trace_test/traces/sudoers_own/trace_fuzz_iosrc_json_exe/src_38.xml\n",
      "Error processing source file: Source file not found: /home/XXX/trace-modeling-oss-fuzz-c/trace_test/traces/sudoers_own/trace_fuzz_iosrc_json_exe/src_123.xml\n",
      "Error processing source file: Source file not found: /home/XXX/trace-modeling-oss-fuzz-c/trace_test/traces/sudoers_own/trace_fuzz_iosrc_json_exe/src_455.xml\n",
      "Error processing source file: Source file not found: /home/XXX/trace-modeling-oss-fuzz-c/trace_test/traces/sudoers_own/trace_fuzz_iosrc_json_exe/src_208.xml\n",
      "Error processing source file: Source file not found: /home/XXX/trace-modeling-oss-fuzz-c/trace_test/traces/sudoers_own/trace_fuzz_iosrc_json_exe/src_430.xml\n",
      "Error processing source file: Source file not found: /home/XXX/trace-modeling-oss-fuzz-c/trace_test/traces/sudoers_own/trace_fuzz_iosrc_json_exe/src_147.xml\n",
      "Error processing source file: Source file not found: /home/XXX/trace-modeling-oss-fuzz-c/trace_test/traces/sudoers_own/trace_fuzz_iosrc_json_exe/src_175.xml\n",
      "Error processing source file: Source file not found: /home/XXX/trace-modeling-oss-fuzz-c/trace_test/traces/sudoers_own/trace_fuzz_iosrc_json_exe/src_80.xml\n",
      "Error processing source file: Source file not found: /home/XXX/trace-modeling-oss-fuzz-c/trace_test/traces/sudoers_own/trace_fuzz_iosrc_json_exe/src_63.xml\n",
      "Error processing source file: Source file not found: /home/XXX/trace-modeling-oss-fuzz-c/trace_test/traces/sudoers_own/trace_fuzz_iosrc_json_exe/src_64.xml\n",
      "Error processing source file: Source file not found: /home/XXX/trace-modeling-oss-fuzz-c/trace_test/traces/sudoers_own/trace_fuzz_iosrc_json_exe/src_185.xml\n",
      "Error processing source file: Source file not found: /home/XXX/trace-modeling-oss-fuzz-c/trace_test/traces/sudoers_own/trace_fuzz_iosrc_json_exe/src_157.xml\n",
      "Error processing source file: Source file not found: /home/XXX/trace-modeling-oss-fuzz-c/trace_test/traces/sudoers_own/trace_fuzz_iosrc_json_exe/src_62.xml\n",
      "Error processing source file: Source file not found: /home/XXX/trace-modeling-oss-fuzz-c/trace_test/traces/sudoers_own/trace_fuzz_iosrc_json_exe/src_325.xml\n",
      "Error processing source file: Source file not found: /home/XXX/trace-modeling-oss-fuzz-c/trace_test/traces/sudoers_own/trace_fuzz_iosrc_json_exe/src_33.xml\n",
      "Error processing source file: Source file not found: /home/XXX/trace-modeling-oss-fuzz-c/trace_test/traces/sudoers_own/trace_fuzz_iosrc_json_exe/src_388.xml\n",
      "Error processing source file: Source file not found: /home/XXX/trace-modeling-oss-fuzz-c/trace_test/traces/sudoers_own/trace_fuzz_iosrc_json_exe/src_36.xml\n",
      "Error processing source file: Source file not found: /home/XXX/trace-modeling-oss-fuzz-c/trace_test/traces/sudoers_own/trace_fuzz_iosrc_json_exe/src_115.xml\n",
      "Error processing source file: Source file not found: /home/XXX/trace-modeling-oss-fuzz-c/trace_test/traces/sudoers_own/trace_fuzz_iosrc_json_exe/src_389.xml\n",
      "Error processing source file: Source file not found: /home/XXX/trace-modeling-oss-fuzz-c/trace_test/traces/sudoers_own/trace_fuzz_iosrc_json_exe/src_281.xml\n",
      "Error processing source file: Source file not found: /home/XXX/trace-modeling-oss-fuzz-c/trace_test/traces/sudoers_own/trace_fuzz_iosrc_json_exe/src_193.xml\n",
      "Error processing source file: Source file not found: /home/XXX/trace-modeling-oss-fuzz-c/trace_test/traces/sudoers_own/trace_fuzz_iosrc_json_exe/src_363.xml\n",
      "Error processing source file: Source file not found: /home/XXX/trace-modeling-oss-fuzz-c/trace_test/traces/sudoers_own/trace_fuzz_iosrc_json_exe/src_24.xml\n",
      "Error processing source file: Source file not found: /home/XXX/trace-modeling-oss-fuzz-c/trace_test/traces/sudoers_own/trace_fuzz_iosrc_json_exe/src_108.xml\n",
      "Error processing source file: Source file not found: /home/XXX/trace-modeling-oss-fuzz-c/trace_test/traces/sudoers_own/trace_fuzz_iosrc_json_exe/src_329.xml\n",
      "Error processing source file: Source file not found: /home/XXX/trace-modeling-oss-fuzz-c/trace_test/traces/sudoers_own/trace_fuzz_iosrc_json_exe/src_274.xml\n",
      "Error processing source file: Source file not found: /home/XXX/trace-modeling-oss-fuzz-c/trace_test/traces/sudoers_own/trace_fuzz_iosrc_json_exe/src_121.xml\n",
      "Error processing source file: Source file not found: /home/XXX/trace-modeling-oss-fuzz-c/trace_test/traces/sudoers_own/trace_fuzz_iosrc_json_exe/src_294.xml\n",
      "Error processing source file: Source file not found: /home/XXX/trace-modeling-oss-fuzz-c/trace_test/traces/sudoers_own/trace_fuzz_iosrc_json_exe/src_275.xml\n",
      "Error processing source file: Source file not found: /home/XXX/trace-modeling-oss-fuzz-c/trace_test/traces/sudoers_own/trace_fuzz_iosrc_json_exe/src_112.xml\n",
      "Error processing source file: Source file not found: /home/XXX/trace-modeling-oss-fuzz-c/trace_test/traces/sudoers_own/trace_fuzz_iosrc_json_exe/src_256.xml\n",
      "Error processing source file: Source file not found: /home/XXX/trace-modeling-oss-fuzz-c/trace_test/traces/sudoers_own/trace_fuzz_iosrc_json_exe/src_174.xml\n",
      "Error processing source file: Source file not found: /home/XXX/trace-modeling-oss-fuzz-c/trace_test/traces/sudoers_own/trace_fuzz_iosrc_json_exe/src_399.xml\n",
      "Error processing source file: Source file not found: /home/XXX/trace-modeling-oss-fuzz-c/trace_test/traces/sudoers_own/trace_fuzz_iosrc_json_exe/src_448.xml\n",
      "Error processing source file: Source file not found: /home/XXX/trace-modeling-oss-fuzz-c/trace_test/traces/sudoers_own/trace_fuzz_iosrc_json_exe/src_302.xml\n",
      "Error processing source file: Source file not found: /home/XXX/trace-modeling-oss-fuzz-c/trace_test/traces/sudoers_own/trace_fuzz_iosrc_json_exe/src_271.xml\n",
      "Error processing source file: Source file not found: /home/XXX/trace-modeling-oss-fuzz-c/trace_test/traces/sudoers_own/trace_fuzz_iosrc_json_exe/src_416.xml\n",
      "Error processing source file: Source file not found: /home/XXX/trace-modeling-oss-fuzz-c/trace_test/traces/sudoers_own/trace_fuzz_iosrc_json_exe/src_288.xml\n",
      "Error processing source file: Source file not found: /home/XXX/trace-modeling-oss-fuzz-c/trace_test/traces/sudoers_own/trace_fuzz_iosrc_json_exe/src_369.xml\n",
      "Error processing source file: Source file not found: /home/XXX/trace-modeling-oss-fuzz-c/trace_test/traces/sudoers_own/trace_fuzz_iosrc_json_exe/src_317.xml\n",
      "Error processing source file: Source file not found: /home/XXX/trace-modeling-oss-fuzz-c/trace_test/traces/sudoers_own/trace_fuzz_iosrc_json_exe/src_306.xml\n",
      "Error processing source file: Source file not found: /home/XXX/trace-modeling-oss-fuzz-c/trace_test/traces/sudoers_own/trace_fuzz_iosrc_json_exe/src_1.xml\n",
      "Error processing source file: Source file not found: /home/XXX/trace-modeling-oss-fuzz-c/trace_test/traces/sudoers_own/trace_fuzz_iosrc_json_exe/src_92.xml\n",
      "Error processing source file: Source file not found: /home/XXX/trace-modeling-oss-fuzz-c/trace_test/traces/sudoers_own/trace_fuzz_iosrc_json_exe/src_34.xml\n",
      "Error processing source file: Source file not found: /home/XXX/trace-modeling-oss-fuzz-c/trace_test/traces/sudoers_own/trace_fuzz_iosrc_json_exe/src_442.xml\n",
      "Error processing source file: Source file not found: /home/XXX/trace-modeling-oss-fuzz-c/trace_test/traces/sudoers_own/trace_fuzz_iosrc_json_exe/src_439.xml\n",
      "Error processing source file: Source file not found: /home/XXX/trace-modeling-oss-fuzz-c/trace_test/traces/sudoers_own/trace_fuzz_iosrc_json_exe/src_113.xml\n",
      "Error processing source file: Source file not found: /home/XXX/trace-modeling-oss-fuzz-c/trace_test/traces/sudoers_own/trace_fuzz_iosrc_json_exe/src_137.xml\n",
      "Error processing source file: Source file not found: /home/XXX/trace-modeling-oss-fuzz-c/trace_test/traces/sudoers_own/trace_fuzz_iosrc_json_exe/src_75.xml\n",
      "Error processing source file: Source file not found: /home/XXX/trace-modeling-oss-fuzz-c/trace_test/traces/sudoers_own/trace_fuzz_iosrc_json_exe/src_162.xml\n",
      "Error processing source file: Source file not found: /home/XXX/trace-modeling-oss-fuzz-c/trace_test/traces/sudoers_own/trace_fuzz_iosrc_json_exe/src_426.xml\n",
      "Error processing source file: Source file not found: /home/XXX/trace-modeling-oss-fuzz-c/trace_test/traces/sudoers_own/trace_fuzz_iosrc_json_exe/src_229.xml\n",
      "Error processing source file: Source file not found: /home/XXX/trace-modeling-oss-fuzz-c/trace_test/traces/sudoers_own/trace_fuzz_iosrc_json_exe/src_127.xml\n",
      "Error processing source file: Source file not found: /home/XXX/trace-modeling-oss-fuzz-c/trace_test/traces/sudoers_own/trace_fuzz_iosrc_json_exe/src_83.xml\n",
      "Error processing source file: Source file not found: /home/XXX/trace-modeling-oss-fuzz-c/trace_test/traces/sudoers_own/trace_fuzz_iosrc_json_exe/src_332.xml\n",
      "Error processing source file: Source file not found: /home/XXX/trace-modeling-oss-fuzz-c/trace_test/traces/sudoers_own/trace_fuzz_iosrc_json_exe/src_160.xml\n",
      "Error processing source file: Source file not found: /home/XXX/trace-modeling-oss-fuzz-c/trace_test/traces/sudoers_own/trace_fuzz_iosrc_json_exe/src_285.xml\n",
      "Error processing source file: Source file not found: /home/XXX/trace-modeling-oss-fuzz-c/trace_test/traces/sudoers_own/trace_fuzz_iosrc_json_exe/src_380.xml\n",
      "Error processing source file: Source file not found: /home/XXX/trace-modeling-oss-fuzz-c/trace_test/traces/sudoers_own/trace_fuzz_iosrc_json_exe/src_47.xml\n",
      "Error processing source file: Source file not found: /home/XXX/trace-modeling-oss-fuzz-c/trace_test/traces/sudoers_own/trace_fuzz_iosrc_json_exe/src_52.xml\n",
      "Error processing source file: Source file not found: /home/XXX/trace-modeling-oss-fuzz-c/trace_test/traces/sudoers_own/trace_fuzz_iosrc_json_exe/src_177.xml\n",
      "Error processing source file: Source file not found: /home/XXX/trace-modeling-oss-fuzz-c/trace_test/traces/sudoers_own/trace_fuzz_iosrc_json_exe/src_48.xml\n",
      "Error processing source file: Source file not found: /home/XXX/trace-modeling-oss-fuzz-c/trace_test/traces/sudoers_own/trace_fuzz_iosrc_json_exe/src_2.xml\n",
      "Error processing source file: Source file not found: /home/XXX/trace-modeling-oss-fuzz-c/trace_test/traces/sudoers_own/trace_fuzz_iosrc_json_exe/src_29.xml\n",
      "Error processing source file: Source file not found: /home/XXX/trace-modeling-oss-fuzz-c/trace_test/traces/sudoers_own/trace_fuzz_iosrc_json_exe/src_299.xml\n",
      "Error processing source file: Source file not found: /home/XXX/trace-modeling-oss-fuzz-c/trace_test/traces/sudoers_own/trace_fuzz_iosrc_json_exe/src_139.xml\n",
      "Error processing source file: Source file not found: /home/XXX/trace-modeling-oss-fuzz-c/trace_test/traces/sudoers_own/trace_fuzz_iosrc_json_exe/src_400.xml\n",
      "Error processing source file: Source file not found: /home/XXX/trace-modeling-oss-fuzz-c/trace_test/traces/sudoers_own/trace_fuzz_iosrc_json_exe/src_51.xml\n",
      "Error processing source file: Source file not found: /home/XXX/trace-modeling-oss-fuzz-c/trace_test/traces/sudoers_own/trace_fuzz_iosrc_json_exe/src_216.xml\n",
      "Error processing source file: Source file not found: /home/XXX/trace-modeling-oss-fuzz-c/trace_test/traces/sudoers_own/trace_fuzz_iosrc_json_exe/src_295.xml\n",
      "Error processing source file: Source file not found: /home/XXX/trace-modeling-oss-fuzz-c/trace_test/traces/sudoers_own/trace_fuzz_iosrc_json_exe/src_163.xml\n",
      "Error processing source file: Source file not found: /home/XXX/trace-modeling-oss-fuzz-c/trace_test/traces/sudoers_own/trace_fuzz_iosrc_json_exe/src_68.xml\n",
      "Error processing source file: Source file not found: /home/XXX/trace-modeling-oss-fuzz-c/trace_test/traces/sudoers_own/trace_fuzz_iosrc_json_exe/src_417.xml\n",
      "Error processing source file: Source file not found: /home/XXX/trace-modeling-oss-fuzz-c/trace_test/traces/sudoers_own/trace_fuzz_iosrc_json_exe/src_361.xml\n",
      "Error processing source file: Source file not found: /home/XXX/trace-modeling-oss-fuzz-c/trace_test/traces/sudoers_own/trace_fuzz_iosrc_json_exe/src_210.xml\n",
      "Error processing source file: Source file not found: /home/XXX/trace-modeling-oss-fuzz-c/trace_test/traces/sudoers_own/trace_fuzz_iosrc_json_exe/src_377.xml\n",
      "Error processing source file: Source file not found: /home/XXX/trace-modeling-oss-fuzz-c/trace_test/traces/sudoers_own/trace_fuzz_iosrc_json_exe/src_230.xml\n",
      "Error processing source file: Source file not found: /home/XXX/trace-modeling-oss-fuzz-c/trace_test/traces/sudoers_own/trace_fuzz_iosrc_json_exe/src_214.xml\n",
      "Error processing source file: Source file not found: /home/XXX/trace-modeling-oss-fuzz-c/trace_test/traces/sudoers_own/trace_fuzz_iosrc_json_exe/src_232.xml\n",
      "Error processing source file: Source file not found: /home/XXX/trace-modeling-oss-fuzz-c/trace_test/traces/sudoers_own/trace_fuzz_iosrc_json_exe/src_296.xml\n",
      "Error processing source file: Source file not found: /home/XXX/trace-modeling-oss-fuzz-c/trace_test/traces/sudoers_own/trace_fuzz_iosrc_json_exe/src_124.xml\n",
      "Error processing source file: Source file not found: /home/XXX/trace-modeling-oss-fuzz-c/trace_test/traces/sudoers_own/trace_fuzz_iosrc_json_exe/src_251.xml\n",
      "Error processing source file: Source file not found: /home/XXX/trace-modeling-oss-fuzz-c/trace_test/traces/sudoers_own/trace_fuzz_iosrc_json_exe/src_57.xml\n",
      "Error processing source file: Source file not found: /home/XXX/trace-modeling-oss-fuzz-c/trace_test/traces/sudoers_own/trace_fuzz_iosrc_json_exe/src_234.xml\n",
      "Error processing source file: Source file not found: /home/XXX/trace-modeling-oss-fuzz-c/trace_test/traces/sudoers_own/trace_fuzz_iosrc_json_exe/src_270.xml\n",
      "Error processing source file: Source file not found: /home/XXX/trace-modeling-oss-fuzz-c/trace_test/traces/sudoers_own/trace_fuzz_iosrc_json_exe/src_6.xml\n",
      "Error processing source file: Source file not found: /home/XXX/trace-modeling-oss-fuzz-c/trace_test/traces/sudoers_own/trace_fuzz_iosrc_json_exe/src_412.xml\n",
      "Error processing source file: Source file not found: /home/XXX/trace-modeling-oss-fuzz-c/trace_test/traces/sudoers_own/trace_fuzz_iosrc_json_exe/src_77.xml\n",
      "Error processing source file: Source file not found: /home/XXX/trace-modeling-oss-fuzz-c/trace_test/traces/sudoers_own/trace_fuzz_iosrc_json_exe/src_357.xml\n",
      "Error processing source file: Source file not found: /home/XXX/trace-modeling-oss-fuzz-c/trace_test/traces/sudoers_own/trace_fuzz_iosrc_json_exe/src_151.xml\n",
      "Error processing source file: Source file not found: /home/XXX/trace-modeling-oss-fuzz-c/trace_test/traces/sudoers_own/trace_fuzz_iosrc_json_exe/src_145.xml\n",
      "Error processing source file: Source file not found: /home/XXX/trace-modeling-oss-fuzz-c/trace_test/traces/sudoers_own/trace_fuzz_iosrc_json_exe/src_334.xml\n",
      "Error processing source file: Source file not found: /home/XXX/trace-modeling-oss-fuzz-c/trace_test/traces/sudoers_own/trace_fuzz_iosrc_json_exe/src_212.xml\n",
      "Error processing source file: Source file not found: /home/XXX/trace-modeling-oss-fuzz-c/trace_test/traces/sudoers_own/trace_fuzz_iosrc_json_exe/src_94.xml\n",
      "Error processing source file: Source file not found: /home/XXX/trace-modeling-oss-fuzz-c/trace_test/traces/sudoers_own/trace_fuzz_iosrc_json_exe/src_11.xml\n",
      "Error processing source file: Source file not found: /home/XXX/trace-modeling-oss-fuzz-c/trace_test/traces/sudoers_own/trace_fuzz_iosrc_json_exe/src_368.xml\n",
      "Error processing source file: Source file not found: /home/XXX/trace-modeling-oss-fuzz-c/trace_test/traces/sudoers_own/trace_fuzz_iosrc_json_exe/src_196.xml\n",
      "Error processing source file: Source file not found: /home/XXX/trace-modeling-oss-fuzz-c/trace_test/traces/sudoers_own/trace_fuzz_iosrc_json_exe/src_114.xml\n",
      "Error processing source file: Source file not found: /home/XXX/trace-modeling-oss-fuzz-c/trace_test/traces/sudoers_own/trace_fuzz_iosrc_json_exe/src_90.xml\n",
      "Error processing source file: Source file not found: /home/XXX/trace-modeling-oss-fuzz-c/trace_test/traces/sudoers_own/trace_fuzz_iosrc_json_exe/src_122.xml\n",
      "Error processing source file: Source file not found: /home/XXX/trace-modeling-oss-fuzz-c/trace_test/traces/sudoers_own/trace_fuzz_iosrc_json_exe/src_241.xml\n",
      "Error processing source file: Source file not found: /home/XXX/trace-modeling-oss-fuzz-c/trace_test/traces/sudoers_own/trace_fuzz_iosrc_json_exe/src_202.xml\n",
      "Error processing source file: Source file not found: /home/XXX/trace-modeling-oss-fuzz-c/trace_test/traces/sudoers_own/trace_fuzz_iosrc_json_exe/src_148.xml\n",
      "Error processing source file: Source file not found: /home/XXX/trace-modeling-oss-fuzz-c/trace_test/traces/sudoers_own/trace_fuzz_iosrc_json_exe/src_133.xml\n",
      "Error processing source file: Source file not found: /home/XXX/trace-modeling-oss-fuzz-c/trace_test/traces/sudoers_own/trace_fuzz_iosrc_json_exe/src_420.xml\n",
      "Error processing source file: Source file not found: /home/XXX/trace-modeling-oss-fuzz-c/trace_test/traces/sudoers_own/trace_fuzz_iosrc_json_exe/src_207.xml\n",
      "Error processing source file: Source file not found: /home/XXX/trace-modeling-oss-fuzz-c/trace_test/traces/sudoers_own/trace_fuzz_iosrc_json_exe/src_4.xml\n",
      "Error processing source file: Source file not found: /home/XXX/trace-modeling-oss-fuzz-c/trace_test/traces/sudoers_own/trace_fuzz_iosrc_json_exe/src_39.xml\n",
      "Error processing source file: Source file not found: /home/XXX/trace-modeling-oss-fuzz-c/trace_test/traces/sudoers_own/trace_fuzz_iosrc_json_exe/src_297.xml\n",
      "Error processing source file: Source file not found: /home/XXX/trace-modeling-oss-fuzz-c/trace_test/traces/sudoers_own/trace_fuzz_iosrc_json_exe/src_66.xml\n",
      "Error processing source file: Source file not found: /home/XXX/trace-modeling-oss-fuzz-c/trace_test/traces/sudoers_own/trace_fuzz_iosrc_json_exe/src_247.xml\n",
      "Error processing source file: Source file not found: /home/XXX/trace-modeling-oss-fuzz-c/trace_test/traces/sudoers_own/trace_fuzz_iosrc_json_exe/src_102.xml\n",
      "Error processing source file: Source file not found: /home/XXX/trace-modeling-oss-fuzz-c/trace_test/traces/sudoers_own/trace_fuzz_iosrc_json_exe/src_197.xml\n",
      "Error processing source file: Source file not found: /home/XXX/trace-modeling-oss-fuzz-c/trace_test/traces/sudoers_own/trace_fuzz_iosrc_json_exe/src_355.xml\n",
      "Error processing source file: Source file not found: /home/XXX/trace-modeling-oss-fuzz-c/trace_test/traces/sudoers_own/trace_fuzz_iosrc_json_exe/src_8.xml\n",
      "Error processing source file: Source file not found: /home/XXX/trace-modeling-oss-fuzz-c/trace_test/traces/sudoers_own/trace_fuzz_iosrc_json_exe/src_82.xml\n",
      "Error processing source file: Source file not found: /home/XXX/trace-modeling-oss-fuzz-c/trace_test/traces/sudoers_own/trace_fuzz_iosrc_json_exe/src_111.xml\n",
      "Error processing source file: Source file not found: /home/XXX/trace-modeling-oss-fuzz-c/trace_test/traces/sudoers_own/trace_fuzz_iosrc_json_exe/src_126.xml\n",
      "Error processing source file: Source file not found: /home/XXX/trace-modeling-oss-fuzz-c/trace_test/traces/sudoers_own/trace_fuzz_iosrc_json_exe/src_84.xml\n",
      "Error processing source file: Source file not found: /home/XXX/trace-modeling-oss-fuzz-c/trace_test/traces/sudoers_own/trace_fuzz_iosrc_json_exe/src_335.xml\n",
      "Error processing source file: Source file not found: /home/XXX/trace-modeling-oss-fuzz-c/trace_test/traces/sudoers_own/trace_fuzz_iosrc_json_exe/src_195.xml\n",
      "Error processing source file: Source file not found: /home/XXX/trace-modeling-oss-fuzz-c/trace_test/traces/sudoers_own/trace_fuzz_iosrc_json_exe/src_301.xml\n",
      "Error processing source file: Source file not found: /home/XXX/trace-modeling-oss-fuzz-c/trace_test/traces/sudoers_own/trace_fuzz_iosrc_json_exe/src_16.xml\n",
      "Error processing source file: Source file not found: /home/XXX/trace-modeling-oss-fuzz-c/trace_test/traces/sudoers_own/trace_fuzz_iosrc_json_exe/src_429.xml\n",
      "Error processing source file: Source file not found: /home/XXX/trace-modeling-oss-fuzz-c/trace_test/traces/sudoers_own/trace_fuzz_iosrc_json_exe/src_267.xml\n",
      "Error processing source file: Source file not found: /home/XXX/trace-modeling-oss-fuzz-c/trace_test/traces/sudoers_own/trace_fuzz_iosrc_json_exe/src_305.xml\n",
      "Error processing source file: Source file not found: /home/XXX/trace-modeling-oss-fuzz-c/trace_test/traces/sudoers_own/trace_fuzz_iosrc_json_exe/src_186.xml\n",
      "Error processing source file: Source file not found: /home/XXX/trace-modeling-oss-fuzz-c/trace_test/traces/sudoers_own/trace_fuzz_iosrc_json_exe/src_419.xml\n",
      "Error processing source file: Source file not found: /home/XXX/trace-modeling-oss-fuzz-c/trace_test/traces/sudoers_own/trace_fuzz_iosrc_json_exe/src_321.xml\n",
      "Error processing source file: Source file not found: /home/XXX/trace-modeling-oss-fuzz-c/trace_test/traces/sudoers_own/trace_fuzz_iosrc_json_exe/src_337.xml\n",
      "Error processing source file: Source file not found: /home/XXX/trace-modeling-oss-fuzz-c/trace_test/traces/sudoers_own/trace_fuzz_iosrc_json_exe/src_273.xml\n",
      "Error processing source file: Source file not found: /home/XXX/trace-modeling-oss-fuzz-c/trace_test/traces/sudoers_own/trace_fuzz_iosrc_json_exe/src_58.xml\n",
      "Error processing source file: Source file not found: /home/XXX/trace-modeling-oss-fuzz-c/trace_test/traces/sudoers_own/trace_fuzz_iosrc_json_exe/src_374.xml\n",
      "Error processing source file: Source file not found: /home/XXX/trace-modeling-oss-fuzz-c/trace_test/traces/sudoers_own/trace_fuzz_iosrc_json_exe/src_346.xml\n",
      "Error processing source file: Source file not found: /home/XXX/trace-modeling-oss-fuzz-c/trace_test/traces/sudoers_own/trace_fuzz_iosrc_json_exe/src_190.xml\n",
      "Error processing source file: Source file not found: /home/XXX/trace-modeling-oss-fuzz-c/trace_test/traces/sudoers_own/trace_fuzz_iosrc_json_exe/src_367.xml\n",
      "Error processing source file: Source file not found: /home/XXX/trace-modeling-oss-fuzz-c/trace_test/traces/sudoers_own/trace_fuzz_iosrc_json_exe/src_18.xml\n",
      "Error processing source file: Source file not found: /home/XXX/trace-modeling-oss-fuzz-c/trace_test/traces/sudoers_own/trace_fuzz_iosrc_json_exe/src_79.xml\n",
      "Error processing source file: Source file not found: /home/XXX/trace-modeling-oss-fuzz-c/trace_test/traces/sudoers_own/trace_fuzz_iosrc_json_exe/src_35.xml\n",
      "Error processing source file: Source file not found: /home/XXX/trace-modeling-oss-fuzz-c/trace_test/traces/sudoers_own/trace_fuzz_iosrc_json_exe/src_362.xml\n",
      "Error processing source file: Source file not found: /home/XXX/trace-modeling-oss-fuzz-c/trace_test/traces/sudoers_own/trace_fuzz_iosrc_json_exe/src_259.xml\n",
      "Error processing source file: Source file not found: /home/XXX/trace-modeling-oss-fuzz-c/trace_test/traces/sudoers_own/trace_fuzz_iosrc_json_exe/src_97.xml\n",
      "Error processing source file: Source file not found: /home/XXX/trace-modeling-oss-fuzz-c/trace_test/traces/sudoers_own/trace_fuzz_iosrc_json_exe/src_358.xml\n",
      "Error processing source file: Source file not found: /home/XXX/trace-modeling-oss-fuzz-c/trace_test/traces/sudoers_own/trace_fuzz_iosrc_json_exe/src_249.xml\n",
      "Error processing source file: Source file not found: /home/XXX/trace-modeling-oss-fuzz-c/trace_test/traces/sudoers_own/trace_fuzz_iosrc_json_exe/src_307.xml\n",
      "Error processing source file: Source file not found: /home/XXX/trace-modeling-oss-fuzz-c/trace_test/traces/sudoers_own/trace_fuzz_iosrc_json_exe/src_423.xml\n",
      "Error processing source file: Source file not found: /home/XXX/trace-modeling-oss-fuzz-c/trace_test/traces/sudoers_own/trace_fuzz_iosrc_json_exe/src_154.xml\n",
      "Error processing source file: Source file not found: /home/XXX/trace-modeling-oss-fuzz-c/trace_test/traces/sudoers_own/trace_fuzz_iosrc_json_exe/src_326.xml\n",
      "Error processing source file: Source file not found: /home/XXX/trace-modeling-oss-fuzz-c/trace_test/traces/sudoers_own/trace_fuzz_iosrc_json_exe/src_56.xml\n",
      "Error processing source file: Source file not found: /home/XXX/trace-modeling-oss-fuzz-c/trace_test/traces/sudoers_own/trace_fuzz_iosrc_json_exe/src_407.xml\n",
      "Error processing source file: Source file not found: /home/XXX/trace-modeling-oss-fuzz-c/trace_test/traces/sudoers_own/trace_fuzz_iosrc_json_exe/src_138.xml\n",
      "Error processing source file: Source file not found: /home/XXX/trace-modeling-oss-fuzz-c/trace_test/traces/sudoers_own/trace_fuzz_iosrc_json_exe/src_50.xml\n",
      "Error processing source file: Source file not found: /home/XXX/trace-modeling-oss-fuzz-c/trace_test/traces/sudoers_own/trace_fuzz_iosrc_json_exe/src_235.xml\n",
      "Error processing source file: Source file not found: /home/XXX/trace-modeling-oss-fuzz-c/trace_test/traces/sudoers_own/trace_fuzz_iosrc_json_exe/src_55.xml\n",
      "Error processing source file: Source file not found: /home/XXX/trace-modeling-oss-fuzz-c/trace_test/traces/sudoers_own/trace_fuzz_iosrc_json_exe/src_339.xml\n",
      "Error processing source file: Source file not found: /home/XXX/trace-modeling-oss-fuzz-c/trace_test/traces/sudoers_own/trace_fuzz_iosrc_json_exe/src_224.xml\n",
      "Error processing source file: Source file not found: /home/XXX/trace-modeling-oss-fuzz-c/trace_test/traces/sudoers_own/trace_fuzz_iosrc_json_exe/src_7.xml\n",
      "Error processing source file: Source file not found: /home/XXX/trace-modeling-oss-fuzz-c/trace_test/traces/sudoers_own/trace_fuzz_iosrc_json_exe/src_95.xml\n",
      "Error processing source file: Source file not found: /home/XXX/trace-modeling-oss-fuzz-c/trace_test/traces/sudoers_own/trace_fuzz_iosrc_json_exe/src_432.xml\n",
      "Error processing source file: Source file not found: /home/XXX/trace-modeling-oss-fuzz-c/trace_test/traces/sudoers_own/trace_fuzz_iosrc_json_exe/src_74.xml\n",
      "Error processing source file: Source file not found: /home/XXX/trace-modeling-oss-fuzz-c/trace_test/traces/sudoers_own/trace_fuzz_iosrc_json_exe/src_390.xml\n",
      "Error processing source file: Source file not found: /home/XXX/trace-modeling-oss-fuzz-c/trace_test/traces/sudoers_own/trace_fuzz_iosrc_json_exe/src_328.xml\n",
      "Error processing source file: Source file not found: /home/XXX/trace-modeling-oss-fuzz-c/trace_test/traces/sudoers_own/trace_fuzz_iosrc_json_exe/src_379.xml\n",
      "Error processing source file: Source file not found: /home/XXX/trace-modeling-oss-fuzz-c/trace_test/traces/sudoers_own/trace_fuzz_iosrc_json_exe/src_9.xml\n",
      "Error processing source file: Source file not found: /home/XXX/trace-modeling-oss-fuzz-c/trace_test/traces/sudoers_own/trace_fuzz_iosrc_json_exe/src_23.xml\n",
      "Error processing source file: Source file not found: /home/XXX/trace-modeling-oss-fuzz-c/trace_test/traces/sudoers_own/trace_fuzz_iosrc_json_exe/src_278.xml\n",
      "Error processing source file: Source file not found: /home/XXX/trace-modeling-oss-fuzz-c/trace_test/traces/sudoers_own/trace_fuzz_iosrc_json_exe/src_414.xml\n",
      "Error processing source file: Source file not found: /home/XXX/trace-modeling-oss-fuzz-c/trace_test/traces/sudoers_own/trace_fuzz_iosrc_json_exe/src_201.xml\n",
      "Error processing source file: Source file not found: /home/XXX/trace-modeling-oss-fuzz-c/trace_test/traces/sudoers_own/trace_fuzz_iosrc_json_exe/src_156.xml\n",
      "Error processing source file: Source file not found: /home/XXX/trace-modeling-oss-fuzz-c/trace_test/traces/sudoers_own/trace_fuzz_iosrc_json_exe/src_382.xml\n",
      "Error processing source file: Source file not found: /home/XXX/trace-modeling-oss-fuzz-c/trace_test/traces/sudoers_own/trace_fuzz_iosrc_json_exe/src_406.xml\n",
      "Error processing source file: Source file not found: /home/XXX/trace-modeling-oss-fuzz-c/trace_test/traces/sudoers_own/trace_fuzz_iosrc_json_exe/src_353.xml\n",
      "Error processing source file: Source file not found: /home/XXX/trace-modeling-oss-fuzz-c/trace_test/traces/sudoers_own/trace_fuzz_iosrc_json_exe/src_59.xml\n",
      "Error processing source file: Source file not found: /home/XXX/trace-modeling-oss-fuzz-c/trace_test/traces/sudoers_own/trace_fuzz_iosrc_json_exe/src_444.xml\n",
      "Error processing source file: Source file not found: /home/XXX/trace-modeling-oss-fuzz-c/trace_test/traces/sudoers_own/trace_fuzz_iosrc_json_exe/src_396.xml\n",
      "Error processing source file: Source file not found: /home/XXX/trace-modeling-oss-fuzz-c/trace_test/traces/sudoers_own/trace_fuzz_iosrc_json_exe/src_131.xml\n",
      "Falling back to HTML parser for /home/XXX/trace-modeling-oss-fuzz-c/trace_test/traces/libunwind_own/trace_fuzz_libunwind_exe_exe/log_0.xml\n",
      "Falling back to HTML parser for /home/XXX/trace-modeling-oss-fuzz-c/trace_test/traces/libunwind_own/trace_fuzz_libunwind_exe_exe/log_1.xml\n",
      "Fatal error processing trace file /home/XXX/trace-modeling-oss-fuzz-c/trace_test/traces/libunwind_own/trace_fuzz_libunwind_exe_exe/log_1.xml: 'NoneType' object has no attribute 'xpath'\n",
      "Falling back to HTML parser for /home/XXX/trace-modeling-oss-fuzz-c/trace_test/traces/libunwind_own/trace_fuzz_libunwind_exe/log_0.xml\n",
      "Falling back to HTML parser for /home/XXX/trace-modeling-oss-fuzz-c/trace_test/traces/libunwind_own/trace_fuzz_libunwind_exe/log_1.xml\n",
      "Fatal error processing trace file /home/XXX/trace-modeling-oss-fuzz-c/trace_test/traces/libunwind_own/trace_fuzz_libunwind_exe/log_1.xml: 'NoneType' object has no attribute 'xpath'\n",
      "Falling back to HTML parser for /home/XXX/trace-modeling-oss-fuzz-c/trace_test/traces/mosquitto_own/trace_lib_fuzz_utf8_exe/log_0.xml\n",
      "Fatal error processing trace file /home/XXX/trace-modeling-oss-fuzz-c/trace_test/traces/mosquitto_own/trace_lib_fuzz_utf8_exe/log_0.xml: 'NoneType' object has no attribute 'xpath'\n",
      "Falling back to HTML parser for /home/XXX/trace-modeling-oss-fuzz-c/trace_test/traces/mosquitto_own/trace_broker_fuzz_test_config_exe/log_0.xml\n",
      "Fatal error processing trace file /home/XXX/trace-modeling-oss-fuzz-c/trace_test/traces/mosquitto_own/trace_broker_fuzz_test_config_exe/log_0.xml: 'NoneType' object has no attribute 'xpath'\n",
      "Falling back to HTML parser for /home/XXX/trace-modeling-oss-fuzz-c/trace_test/traces/mosquitto_own/trace_lib_fuzz_sub_topic_check2_exe/log_0.xml\n",
      "Fatal error processing trace file /home/XXX/trace-modeling-oss-fuzz-c/trace_test/traces/mosquitto_own/trace_lib_fuzz_sub_topic_check2_exe/log_0.xml: 'NoneType' object has no attribute 'xpath'\n",
      "Falling back to HTML parser for /home/XXX/trace-modeling-oss-fuzz-c/trace_test/traces/mosquitto_own/trace_db_dump_fuzz_load_exe/log_0.xml\n",
      "Fatal error processing trace file /home/XXX/trace-modeling-oss-fuzz-c/trace_test/traces/mosquitto_own/trace_db_dump_fuzz_load_exe/log_0.xml: 'NoneType' object has no attribute 'xpath'\n",
      "Falling back to HTML parser for /home/XXX/trace-modeling-oss-fuzz-c/trace_test/traces/mosquitto_own/trace_lib_fuzz_pub_topic_check2_exe/log_0.xml\n",
      "Fatal error processing trace file /home/XXX/trace-modeling-oss-fuzz-c/trace_test/traces/mosquitto_own/trace_lib_fuzz_pub_topic_check2_exe/log_0.xml: 'NoneType' object has no attribute 'xpath'\n",
      "Falling back to HTML parser for /home/XXX/trace-modeling-oss-fuzz-c/trace_test/traces/mosquitto_own/trace_db_dump_fuzz_load_client_stats_exe/log_0.xml\n",
      "Fatal error processing trace file /home/XXX/trace-modeling-oss-fuzz-c/trace_test/traces/mosquitto_own/trace_db_dump_fuzz_load_client_stats_exe/log_0.xml: 'NoneType' object has no attribute 'xpath'\n",
      "Falling back to HTML parser for /home/XXX/trace-modeling-oss-fuzz-c/trace_test/traces/mosquitto_own/trace_dynsec_fuzz_load_exe/log_0.xml\n",
      "Fatal error processing trace file /home/XXX/trace-modeling-oss-fuzz-c/trace_test/traces/mosquitto_own/trace_dynsec_fuzz_load_exe/log_0.xml: 'NoneType' object has no attribute 'xpath'\n",
      "Falling back to HTML parser for /home/XXX/trace-modeling-oss-fuzz-c/trace_test/traces/mosquitto_own/trace_db_dump_fuzz_load_stats_exe/log_0.xml\n",
      "Fatal error processing trace file /home/XXX/trace-modeling-oss-fuzz-c/trace_test/traces/mosquitto_own/trace_db_dump_fuzz_load_stats_exe/log_0.xml: 'NoneType' object has no attribute 'xpath'\n",
      "Falling back to HTML parser for /home/XXX/trace-modeling-oss-fuzz-c/trace_test/traces/mosquitto_own/trace_mosquitto_passwd_fuzz_load_exe/log_0.xml\n",
      "Fatal error processing trace file /home/XXX/trace-modeling-oss-fuzz-c/trace_test/traces/mosquitto_own/trace_mosquitto_passwd_fuzz_load_exe/log_0.xml: 'NoneType' object has no attribute 'xpath'\n",
      "Falling back to HTML parser for /home/XXX/trace-modeling-oss-fuzz-c/trace_test/traces/mosquitto_own/trace_broker_fuzz_read_handle_exe/log_0.xml\n",
      "Fatal error processing trace file /home/XXX/trace-modeling-oss-fuzz-c/trace_test/traces/mosquitto_own/trace_broker_fuzz_read_handle_exe/log_0.xml: 'NoneType' object has no attribute 'xpath'\n"
     ]
    },
    {
     "name": "stdout",
     "output_type": "stream",
     "text": [
      "\n",
      "Processed 26560/39034 files\n",
      "Current unique count: 419\n",
      "Error generating signature: [Errno 2] No such file or directory: '/home/XXX/trace-modeling-oss-fuzz-c/trace_test/traces/sudoers_own/trace_fuzz_iosrc_json_exe/src_200.xml'\n",
      "Error generating signature: [Errno 2] No such file or directory: '/home/XXX/trace-modeling-oss-fuzz-c/trace_test/traces/sudoers_own/trace_fuzz_iosrc_json_exe/src_130.xml'\n",
      "Error generating signature: [Errno 2] No such file or directory: '/home/XXX/trace-modeling-oss-fuzz-c/trace_test/traces/sudoers_own/trace_fuzz_iosrc_json_exe/src_239.xml'\n",
      "Error generating signature: [Errno 2] No such file or directory: '/home/XXX/trace-modeling-oss-fuzz-c/trace_test/traces/sudoers_own/trace_fuzz_iosrc_json_exe/src_376.xml'\n",
      "Error generating signature: [Errno 2] No such file or directory: '/home/XXX/trace-modeling-oss-fuzz-c/trace_test/traces/sudoers_own/trace_fuzz_iosrc_json_exe/src_221.xml'\n",
      "Error generating signature: [Errno 2] No such file or directory: '/home/XXX/trace-modeling-oss-fuzz-c/trace_test/traces/sudoers_own/trace_fuzz_iosrc_json_exe/src_69.xml'\n",
      "Error generating signature: [Errno 2] No such file or directory: '/home/XXX/trace-modeling-oss-fuzz-c/trace_test/traces/sudoers_own/trace_fuzz_iosrc_json_exe/src_220.xml'\n",
      "Error generating signature: [Errno 2] No such file or directory: '/home/XXX/trace-modeling-oss-fuzz-c/trace_test/traces/sudoers_own/trace_fuzz_iosrc_json_exe/src_93.xml'\n",
      "Error generating signature: [Errno 2] No such file or directory: '/home/XXX/trace-modeling-oss-fuzz-c/trace_test/traces/sudoers_own/trace_fuzz_iosrc_json_exe/src_140.xml'\n",
      "Error generating signature: [Errno 2] No such file or directory: '/home/XXX/trace-modeling-oss-fuzz-c/trace_test/traces/sudoers_own/trace_fuzz_iosrc_json_exe/src_311.xml'\n",
      "Error generating signature: [Errno 2] No such file or directory: '/home/XXX/trace-modeling-oss-fuzz-c/trace_test/traces/sudoers_own/trace_fuzz_iosrc_json_exe/src_164.xml'\n",
      "Error generating signature: [Errno 2] No such file or directory: '/home/XXX/trace-modeling-oss-fuzz-c/trace_test/traces/sudoers_own/trace_fuzz_iosrc_json_exe/src_304.xml'\n",
      "Error generating signature: [Errno 2] No such file or directory: '/home/XXX/trace-modeling-oss-fuzz-c/trace_test/traces/sudoers_own/trace_fuzz_iosrc_json_exe/src_292.xml'\n",
      "Error generating signature: [Errno 2] No such file or directory: '/home/XXX/trace-modeling-oss-fuzz-c/trace_test/traces/sudoers_own/trace_fuzz_iosrc_json_exe/src_319.xml'\n",
      "Error generating signature: [Errno 2] No such file or directory: '/home/XXX/trace-modeling-oss-fuzz-c/trace_test/traces/sudoers_own/trace_fuzz_iosrc_json_exe/src_98.xml'\n",
      "Error generating signature: [Errno 2] No such file or directory: '/home/XXX/trace-modeling-oss-fuzz-c/trace_test/traces/sudoers_own/trace_fuzz_iosrc_json_exe/src_451.xml'\n",
      "Error generating signature: [Errno 2] No such file or directory: '/home/XXX/trace-modeling-oss-fuzz-c/trace_test/traces/sudoers_own/trace_fuzz_iosrc_json_exe/src_354.xml'\n",
      "Error generating signature: [Errno 2] No such file or directory: '/home/XXX/trace-modeling-oss-fuzz-c/trace_test/traces/sudoers_own/trace_fuzz_iosrc_json_exe/src_0.xml'\n",
      "Error generating signature: [Errno 2] No such file or directory: '/home/XXX/trace-modeling-oss-fuzz-c/trace_test/traces/sudoers_own/trace_fuzz_iosrc_json_exe/src_415.xml'\n",
      "Error generating signature: [Errno 2] No such file or directory: '/home/XXX/trace-modeling-oss-fuzz-c/trace_test/traces/sudoers_own/trace_fuzz_iosrc_json_exe/src_31.xml'\n",
      "Error generating signature: [Errno 2] No such file or directory: '/home/XXX/trace-modeling-oss-fuzz-c/trace_test/traces/sudoers_own/trace_fuzz_iosrc_json_exe/src_41.xml'\n",
      "Error generating signature: [Errno 2] No such file or directory: '/home/XXX/trace-modeling-oss-fuzz-c/trace_test/traces/sudoers_own/trace_fuzz_iosrc_json_exe/src_191.xml'\n",
      "Error generating signature: [Errno 2] No such file or directory: '/home/XXX/trace-modeling-oss-fuzz-c/trace_test/traces/sudoers_own/trace_fuzz_iosrc_json_exe/src_182.xml'\n",
      "Error generating signature: [Errno 2] No such file or directory: '/home/XXX/trace-modeling-oss-fuzz-c/trace_test/traces/sudoers_own/trace_fuzz_iosrc_json_exe/src_250.xml'\n",
      "Error generating signature: [Errno 2] No such file or directory: '/home/XXX/trace-modeling-oss-fuzz-c/trace_test/traces/sudoers_own/trace_fuzz_iosrc_json_exe/src_136.xml'\n",
      "Error generating signature: [Errno 2] No such file or directory: '/home/XXX/trace-modeling-oss-fuzz-c/trace_test/traces/sudoers_own/trace_fuzz_iosrc_json_exe/src_392.xml'\n",
      "Error generating signature: [Errno 2] No such file or directory: '/home/XXX/trace-modeling-oss-fuzz-c/trace_test/traces/sudoers_own/trace_fuzz_iosrc_json_exe/src_91.xml'\n",
      "Error generating signature: [Errno 2] No such file or directory: '/home/XXX/trace-modeling-oss-fuzz-c/trace_test/traces/sudoers_own/trace_fuzz_iosrc_json_exe/src_395.xml'\n",
      "Error generating signature: [Errno 2] No such file or directory: '/home/XXX/trace-modeling-oss-fuzz-c/trace_test/traces/sudoers_own/trace_fuzz_iosrc_json_exe/src_129.xml'\n",
      "Error generating signature: [Errno 2] No such file or directory: '/home/XXX/trace-modeling-oss-fuzz-c/trace_test/traces/sudoers_own/trace_fuzz_iosrc_json_exe/src_431.xml'\n",
      "Error generating signature: [Errno 2] No such file or directory: '/home/XXX/trace-modeling-oss-fuzz-c/trace_test/traces/sudoers_own/trace_fuzz_iosrc_json_exe/src_128.xml'\n",
      "Error generating signature: [Errno 2] No such file or directory: '/home/XXX/trace-modeling-oss-fuzz-c/trace_test/traces/sudoers_own/trace_fuzz_iosrc_json_exe/src_298.xml'\n",
      "Error generating signature: [Errno 2] No such file or directory: '/home/XXX/trace-modeling-oss-fuzz-c/trace_test/traces/sudoers_own/trace_fuzz_iosrc_json_exe/src_71.xml'\n",
      "Error generating signature: [Errno 2] No such file or directory: '/home/XXX/trace-modeling-oss-fuzz-c/trace_test/traces/sudoers_own/trace_fuzz_iosrc_json_exe/src_333.xml'\n",
      "Error generating signature: [Errno 2] No such file or directory: '/home/XXX/trace-modeling-oss-fuzz-c/trace_test/traces/sudoers_own/trace_fuzz_iosrc_json_exe/src_421.xml'\n",
      "Error generating signature: [Errno 2] No such file or directory: '/home/XXX/trace-modeling-oss-fuzz-c/trace_test/traces/sudoers_own/trace_fuzz_iosrc_json_exe/src_427.xml'\n",
      "Error generating signature: [Errno 2] No such file or directory: '/home/XXX/trace-modeling-oss-fuzz-c/trace_test/traces/sudoers_own/trace_fuzz_iosrc_json_exe/src_142.xml'\n",
      "Error generating signature: [Errno 2] No such file or directory: '/home/XXX/trace-modeling-oss-fuzz-c/trace_test/traces/sudoers_own/trace_fuzz_iosrc_json_exe/src_447.xml'\n",
      "Error generating signature: [Errno 2] No such file or directory: '/home/XXX/trace-modeling-oss-fuzz-c/trace_test/traces/sudoers_own/trace_fuzz_iosrc_json_exe/src_70.xml'\n",
      "Error generating signature: [Errno 2] No such file or directory: '/home/XXX/trace-modeling-oss-fuzz-c/trace_test/traces/sudoers_own/trace_fuzz_iosrc_json_exe/src_43.xml'\n",
      "Error generating signature: [Errno 2] No such file or directory: '/home/XXX/trace-modeling-oss-fuzz-c/trace_test/traces/sudoers_own/trace_fuzz_iosrc_json_exe/src_403.xml'\n",
      "Error generating signature: [Errno 2] No such file or directory: '/home/XXX/trace-modeling-oss-fuzz-c/trace_test/traces/sudoers_own/trace_fuzz_iosrc_json_exe/src_290.xml'\n",
      "Error generating signature: [Errno 2] No such file or directory: '/home/XXX/trace-modeling-oss-fuzz-c/trace_test/traces/sudoers_own/trace_fuzz_iosrc_json_exe/src_384.xml'\n",
      "Error generating signature: [Errno 2] No such file or directory: '/home/XXX/trace-modeling-oss-fuzz-c/trace_test/traces/sudoers_own/trace_fuzz_iosrc_json_exe/src_269.xml'\n",
      "Error generating signature: [Errno 2] No such file or directory: '/home/XXX/trace-modeling-oss-fuzz-c/trace_test/traces/sudoers_own/trace_fuzz_iosrc_json_exe/src_309.xml'\n",
      "Error generating signature: [Errno 2] No such file or directory: '/home/XXX/trace-modeling-oss-fuzz-c/trace_test/traces/sudoers_own/trace_fuzz_iosrc_json_exe/src_254.xml'\n",
      "Error generating signature: [Errno 2] No such file or directory: '/home/XXX/trace-modeling-oss-fuzz-c/trace_test/traces/sudoers_own/trace_fuzz_iosrc_json_exe/src_116.xml'\n",
      "Error generating signature: [Errno 2] No such file or directory: '/home/XXX/trace-modeling-oss-fuzz-c/trace_test/traces/sudoers_own/trace_fuzz_iosrc_json_exe/src_433.xml'\n",
      "Error generating signature: [Errno 2] No such file or directory: '/home/XXX/trace-modeling-oss-fuzz-c/trace_test/traces/sudoers_own/trace_fuzz_iosrc_json_exe/src_181.xml'\n",
      "Error generating signature: [Errno 2] No such file or directory: '/home/XXX/trace-modeling-oss-fuzz-c/trace_test/traces/sudoers_own/trace_fuzz_iosrc_json_exe/src_19.xml'\n",
      "Error generating signature: [Errno 2] No such file or directory: '/home/XXX/trace-modeling-oss-fuzz-c/trace_test/traces/sudoers_own/trace_fuzz_iosrc_json_exe/src_405.xml'\n",
      "Error generating signature: [Errno 2] No such file or directory: '/home/XXX/trace-modeling-oss-fuzz-c/trace_test/traces/sudoers_own/trace_fuzz_iosrc_json_exe/src_165.xml'\n",
      "Error generating signature: [Errno 2] No such file or directory: '/home/XXX/trace-modeling-oss-fuzz-c/trace_test/traces/sudoers_own/trace_fuzz_iosrc_json_exe/src_49.xml'\n",
      "Error generating signature: [Errno 2] No such file or directory: '/home/XXX/trace-modeling-oss-fuzz-c/trace_test/traces/sudoers_own/trace_fuzz_iosrc_json_exe/src_61.xml'\n",
      "Error generating signature: [Errno 2] No such file or directory: '/home/XXX/trace-modeling-oss-fuzz-c/trace_test/traces/sudoers_own/trace_fuzz_iosrc_json_exe/src_276.xml'\n",
      "Error generating signature: [Errno 2] No such file or directory: '/home/XXX/trace-modeling-oss-fuzz-c/trace_test/traces/sudoers_own/trace_fuzz_iosrc_json_exe/src_445.xml'\n",
      "Error generating signature: [Errno 2] No such file or directory: '/home/XXX/trace-modeling-oss-fuzz-c/trace_test/traces/sudoers_own/trace_fuzz_iosrc_json_exe/src_284.xml'\n",
      "Error generating signature: [Errno 2] No such file or directory: '/home/XXX/trace-modeling-oss-fuzz-c/trace_test/traces/sudoers_own/trace_fuzz_iosrc_json_exe/src_342.xml'\n",
      "Error generating signature: [Errno 2] No such file or directory: '/home/XXX/trace-modeling-oss-fuzz-c/trace_test/traces/sudoers_own/trace_fuzz_iosrc_json_exe/src_172.xml'\n",
      "Error generating signature: [Errno 2] No such file or directory: '/home/XXX/trace-modeling-oss-fuzz-c/trace_test/traces/sudoers_own/trace_fuzz_iosrc_json_exe/src_313.xml'\n",
      "Error generating signature: [Errno 2] No such file or directory: '/home/XXX/trace-modeling-oss-fuzz-c/trace_test/traces/sudoers_own/trace_fuzz_iosrc_json_exe/src_192.xml'\n",
      "Error generating signature: [Errno 2] No such file or directory: '/home/XXX/trace-modeling-oss-fuzz-c/trace_test/traces/sudoers_own/trace_fuzz_iosrc_json_exe/src_78.xml'\n",
      "Error generating signature: [Errno 2] No such file or directory: '/home/XXX/trace-modeling-oss-fuzz-c/trace_test/traces/sudoers_own/trace_fuzz_iosrc_json_exe/src_248.xml'\n",
      "Error generating signature: [Errno 2] No such file or directory: '/home/XXX/trace-modeling-oss-fuzz-c/trace_test/traces/sudoers_own/trace_fuzz_iosrc_json_exe/src_255.xml'\n",
      "Error generating signature: [Errno 2] No such file or directory: '/home/XXX/trace-modeling-oss-fuzz-c/trace_test/traces/sudoers_own/trace_fuzz_iosrc_json_exe/src_375.xml'\n",
      "Error generating signature: [Errno 2] No such file or directory: '/home/XXX/trace-modeling-oss-fuzz-c/trace_test/traces/sudoers_own/trace_fuzz_iosrc_json_exe/src_53.xml'\n",
      "Error generating signature: [Errno 2] No such file or directory: '/home/XXX/trace-modeling-oss-fuzz-c/trace_test/traces/sudoers_own/trace_fuzz_iosrc_json_exe/src_169.xml'\n",
      "Error generating signature: [Errno 2] No such file or directory: '/home/XXX/trace-modeling-oss-fuzz-c/trace_test/traces/sudoers_own/trace_fuzz_iosrc_json_exe/src_291.xml'\n",
      "Error generating signature: [Errno 2] No such file or directory: '/home/XXX/trace-modeling-oss-fuzz-c/trace_test/traces/sudoers_own/trace_fuzz_iosrc_json_exe/src_381.xml'\n",
      "Error generating signature: [Errno 2] No such file or directory: '/home/XXX/trace-modeling-oss-fuzz-c/trace_test/traces/sudoers_own/trace_fuzz_iosrc_json_exe/src_179.xml'\n",
      "Error generating signature: [Errno 2] No such file or directory: '/home/XXX/trace-modeling-oss-fuzz-c/trace_test/traces/sudoers_own/trace_fuzz_iosrc_json_exe/src_168.xml'\n",
      "Error generating signature: [Errno 2] No such file or directory: '/home/XXX/trace-modeling-oss-fuzz-c/trace_test/traces/sudoers_own/trace_fuzz_iosrc_json_exe/src_171.xml'\n",
      "Error generating signature: [Errno 2] No such file or directory: '/home/XXX/trace-modeling-oss-fuzz-c/trace_test/traces/sudoers_own/trace_fuzz_iosrc_json_exe/src_153.xml'\n",
      "Error generating signature: [Errno 2] No such file or directory: '/home/XXX/trace-modeling-oss-fuzz-c/trace_test/traces/sudoers_own/trace_fuzz_iosrc_json_exe/src_443.xml'\n",
      "Error generating signature: [Errno 2] No such file or directory: '/home/XXX/trace-modeling-oss-fuzz-c/trace_test/traces/sudoers_own/trace_fuzz_iosrc_json_exe/src_65.xml'\n",
      "Error generating signature: [Errno 2] No such file or directory: '/home/XXX/trace-modeling-oss-fuzz-c/trace_test/traces/sudoers_own/trace_fuzz_iosrc_json_exe/src_205.xml'\n",
      "Error generating signature: [Errno 2] No such file or directory: '/home/XXX/trace-modeling-oss-fuzz-c/trace_test/traces/sudoers_own/trace_fuzz_iosrc_json_exe/src_211.xml'\n",
      "Error generating signature: [Errno 2] No such file or directory: '/home/XXX/trace-modeling-oss-fuzz-c/trace_test/traces/sudoers_own/trace_fuzz_iosrc_json_exe/src_258.xml'\n",
      "Error generating signature: [Errno 2] No such file or directory: '/home/XXX/trace-modeling-oss-fuzz-c/trace_test/traces/sudoers_own/trace_fuzz_iosrc_json_exe/src_393.xml'\n",
      "Error generating signature: [Errno 2] No such file or directory: '/home/XXX/trace-modeling-oss-fuzz-c/trace_test/traces/sudoers_own/trace_fuzz_iosrc_json_exe/src_238.xml'\n",
      "\n",
      "Processed 26640/39034 files\n",
      "Current unique count: 419\n",
      "Error generating signature: [Errno 2] No such file or directory: '/home/XXX/trace-modeling-oss-fuzz-c/trace_test/traces/sudoers_own/trace_fuzz_iosrc_json_exe/src_155.xml'\n",
      "Error generating signature: [Errno 2] No such file or directory: '/home/XXX/trace-modeling-oss-fuzz-c/trace_test/traces/sudoers_own/trace_fuzz_iosrc_json_exe/src_150.xml'\n",
      "Error generating signature: [Errno 2] No such file or directory: '/home/XXX/trace-modeling-oss-fuzz-c/trace_test/traces/sudoers_own/trace_fuzz_iosrc_json_exe/src_89.xml'\n",
      "Error generating signature: [Errno 2] No such file or directory: '/home/XXX/trace-modeling-oss-fuzz-c/trace_test/traces/sudoers_own/trace_fuzz_iosrc_json_exe/src_5.xml'\n",
      "Error generating signature: [Errno 2] No such file or directory: '/home/XXX/trace-modeling-oss-fuzz-c/trace_test/traces/sudoers_own/trace_fuzz_iosrc_json_exe/src_243.xml'\n",
      "Error generating signature: [Errno 2] No such file or directory: '/home/XXX/trace-modeling-oss-fuzz-c/trace_test/traces/sudoers_own/trace_fuzz_iosrc_json_exe/src_103.xml'\n",
      "Error generating signature: [Errno 2] No such file or directory: '/home/XXX/trace-modeling-oss-fuzz-c/trace_test/traces/sudoers_own/trace_fuzz_iosrc_json_exe/src_242.xml'\n",
      "Error generating signature: [Errno 2] No such file or directory: '/home/XXX/trace-modeling-oss-fuzz-c/trace_test/traces/sudoers_own/trace_fuzz_iosrc_json_exe/src_15.xml'\n",
      "Error generating signature: [Errno 2] No such file or directory: '/home/XXX/trace-modeling-oss-fuzz-c/trace_test/traces/sudoers_own/trace_fuzz_iosrc_json_exe/src_323.xml'\n",
      "Error generating signature: [Errno 2] No such file or directory: '/home/XXX/trace-modeling-oss-fuzz-c/trace_test/traces/sudoers_own/trace_fuzz_iosrc_json_exe/src_233.xml'\n",
      "Error generating signature: [Errno 2] No such file or directory: '/home/XXX/trace-modeling-oss-fuzz-c/trace_test/traces/sudoers_own/trace_fuzz_iosrc_json_exe/src_378.xml'\n",
      "Error generating signature: [Errno 2] No such file or directory: '/home/XXX/trace-modeling-oss-fuzz-c/trace_test/traces/sudoers_own/trace_fuzz_iosrc_json_exe/src_360.xml'\n",
      "Error generating signature: [Errno 2] No such file or directory: '/home/XXX/trace-modeling-oss-fuzz-c/trace_test/traces/sudoers_own/trace_fuzz_iosrc_json_exe/src_222.xml'\n",
      "Error generating signature: [Errno 2] No such file or directory: '/home/XXX/trace-modeling-oss-fuzz-c/trace_test/traces/sudoers_own/trace_fuzz_iosrc_json_exe/src_456.xml'\n",
      "Error generating signature: [Errno 2] No such file or directory: '/home/XXX/trace-modeling-oss-fuzz-c/trace_test/traces/sudoers_own/trace_fuzz_iosrc_json_exe/src_434.xml'\n",
      "Error generating signature: [Errno 2] No such file or directory: '/home/XXX/trace-modeling-oss-fuzz-c/trace_test/traces/sudoers_own/trace_fuzz_iosrc_json_exe/src_351.xml'\n",
      "Error generating signature: [Errno 2] No such file or directory: '/home/XXX/trace-modeling-oss-fuzz-c/trace_test/traces/sudoers_own/trace_fuzz_iosrc_json_exe/src_109.xml'\n",
      "Error generating signature: [Errno 2] No such file or directory: '/home/XXX/trace-modeling-oss-fuzz-c/trace_test/traces/sudoers_own/trace_fuzz_iosrc_json_exe/src_10.xml'\n",
      "Error generating signature: [Errno 2] No such file or directory: '/home/XXX/trace-modeling-oss-fuzz-c/trace_test/traces/sudoers_own/trace_fuzz_iosrc_json_exe/src_13.xml'\n",
      "Error generating signature: [Errno 2] No such file or directory: '/home/XXX/trace-modeling-oss-fuzz-c/trace_test/traces/sudoers_own/trace_fuzz_iosrc_json_exe/src_12.xml'\n",
      "Error generating signature: [Errno 2] No such file or directory: '/home/XXX/trace-modeling-oss-fuzz-c/trace_test/traces/sudoers_own/trace_fuzz_iosrc_json_exe/src_161.xml'\n",
      "Error generating signature: [Errno 2] No such file or directory: '/home/XXX/trace-modeling-oss-fuzz-c/trace_test/traces/sudoers_own/trace_fuzz_iosrc_json_exe/src_356.xml'\n",
      "Error generating signature: [Errno 2] No such file or directory: '/home/XXX/trace-modeling-oss-fuzz-c/trace_test/traces/sudoers_own/trace_fuzz_iosrc_json_exe/src_343.xml'\n",
      "Error generating signature: [Errno 2] No such file or directory: '/home/XXX/trace-modeling-oss-fuzz-c/trace_test/traces/sudoers_own/trace_fuzz_iosrc_json_exe/src_3.xml'\n",
      "Error generating signature: [Errno 2] No such file or directory: '/home/XXX/trace-modeling-oss-fuzz-c/trace_test/traces/sudoers_own/trace_fuzz_iosrc_json_exe/src_117.xml'\n",
      "Error generating signature: [Errno 2] No such file or directory: '/home/XXX/trace-modeling-oss-fuzz-c/trace_test/traces/sudoers_own/trace_fuzz_iosrc_json_exe/src_280.xml'\n",
      "Error generating signature: [Errno 2] No such file or directory: '/home/XXX/trace-modeling-oss-fuzz-c/trace_test/traces/sudoers_own/trace_fuzz_iosrc_json_exe/src_364.xml'\n",
      "Error generating signature: [Errno 2] No such file or directory: '/home/XXX/trace-modeling-oss-fuzz-c/trace_test/traces/sudoers_own/trace_fuzz_iosrc_json_exe/src_206.xml'\n",
      "Error generating signature: [Errno 2] No such file or directory: '/home/XXX/trace-modeling-oss-fuzz-c/trace_test/traces/sudoers_own/trace_fuzz_iosrc_json_exe/src_308.xml'\n",
      "Error generating signature: [Errno 2] No such file or directory: '/home/XXX/trace-modeling-oss-fuzz-c/trace_test/traces/sudoers_own/trace_fuzz_iosrc_json_exe/src_446.xml'\n",
      "Error generating signature: [Errno 2] No such file or directory: '/home/XXX/trace-modeling-oss-fuzz-c/trace_test/traces/sudoers_own/trace_fuzz_iosrc_json_exe/src_158.xml'\n",
      "Error generating signature: [Errno 2] No such file or directory: '/home/XXX/trace-modeling-oss-fuzz-c/trace_test/traces/sudoers_own/trace_fuzz_iosrc_json_exe/src_27.xml'\n",
      "Error generating signature: [Errno 2] No such file or directory: '/home/XXX/trace-modeling-oss-fuzz-c/trace_test/traces/sudoers_own/trace_fuzz_iosrc_json_exe/src_359.xml'\n",
      "Error generating signature: [Errno 2] No such file or directory: '/home/XXX/trace-modeling-oss-fuzz-c/trace_test/traces/sudoers_own/trace_fuzz_iosrc_json_exe/src_20.xml'\n",
      "Error generating signature: [Errno 2] No such file or directory: '/home/XXX/trace-modeling-oss-fuzz-c/trace_test/traces/sudoers_own/trace_fuzz_iosrc_json_exe/src_347.xml'\n",
      "Error generating signature: [Errno 2] No such file or directory: '/home/XXX/trace-modeling-oss-fuzz-c/trace_test/traces/sudoers_own/trace_fuzz_iosrc_json_exe/src_428.xml'\n",
      "Error generating signature: [Errno 2] No such file or directory: '/home/XXX/trace-modeling-oss-fuzz-c/trace_test/traces/sudoers_own/trace_fuzz_iosrc_json_exe/src_252.xml'\n",
      "Error generating signature: [Errno 2] No such file or directory: '/home/XXX/trace-modeling-oss-fuzz-c/trace_test/traces/sudoers_own/trace_fuzz_iosrc_json_exe/src_166.xml'\n",
      "Error generating signature: [Errno 2] No such file or directory: '/home/XXX/trace-modeling-oss-fuzz-c/trace_test/traces/sudoers_own/trace_fuzz_iosrc_json_exe/src_327.xml'\n",
      "Error generating signature: [Errno 2] No such file or directory: '/home/XXX/trace-modeling-oss-fuzz-c/trace_test/traces/sudoers_own/trace_fuzz_iosrc_json_exe/src_60.xml'\n",
      "Error generating signature: [Errno 2] No such file or directory: '/home/XXX/trace-modeling-oss-fuzz-c/trace_test/traces/sudoers_own/trace_fuzz_iosrc_json_exe/src_183.xml'\n",
      "Error generating signature: [Errno 2] No such file or directory: '/home/XXX/trace-modeling-oss-fuzz-c/trace_test/traces/sudoers_own/trace_fuzz_iosrc_json_exe/src_106.xml'\n",
      "Error generating signature: [Errno 2] No such file or directory: '/home/XXX/trace-modeling-oss-fuzz-c/trace_test/traces/sudoers_own/trace_fuzz_iosrc_json_exe/src_263.xml'\n",
      "Error generating signature: [Errno 2] No such file or directory: '/home/XXX/trace-modeling-oss-fuzz-c/trace_test/traces/sudoers_own/trace_fuzz_iosrc_json_exe/src_100.xml'\n",
      "Error generating signature: [Errno 2] No such file or directory: '/home/XXX/trace-modeling-oss-fuzz-c/trace_test/traces/sudoers_own/trace_fuzz_iosrc_json_exe/src_86.xml'\n",
      "Error generating signature: [Errno 2] No such file or directory: '/home/XXX/trace-modeling-oss-fuzz-c/trace_test/traces/sudoers_own/trace_fuzz_iosrc_json_exe/src_146.xml'\n",
      "Error generating signature: [Errno 2] No such file or directory: '/home/XXX/trace-modeling-oss-fuzz-c/trace_test/traces/sudoers_own/trace_fuzz_iosrc_json_exe/src_344.xml'\n",
      "Error generating signature: [Errno 2] No such file or directory: '/home/XXX/trace-modeling-oss-fuzz-c/trace_test/traces/sudoers_own/trace_fuzz_iosrc_json_exe/src_219.xml'\n",
      "Error generating signature: [Errno 2] No such file or directory: '/home/XXX/trace-modeling-oss-fuzz-c/trace_test/traces/sudoers_own/trace_fuzz_iosrc_json_exe/src_457.xml'\n",
      "Error generating signature: [Errno 2] No such file or directory: '/home/XXX/trace-modeling-oss-fuzz-c/trace_test/traces/sudoers_own/trace_fuzz_iosrc_json_exe/src_315.xml'\n",
      "Error generating signature: [Errno 2] No such file or directory: '/home/XXX/trace-modeling-oss-fuzz-c/trace_test/traces/sudoers_own/trace_fuzz_iosrc_json_exe/src_228.xml'\n",
      "Error generating signature: [Errno 2] No such file or directory: '/home/XXX/trace-modeling-oss-fuzz-c/trace_test/traces/sudoers_own/trace_fuzz_iosrc_json_exe/src_413.xml'\n",
      "Error generating signature: [Errno 2] No such file or directory: '/home/XXX/trace-modeling-oss-fuzz-c/trace_test/traces/sudoers_own/trace_fuzz_iosrc_json_exe/src_287.xml'\n",
      "Error generating signature: [Errno 2] No such file or directory: '/home/XXX/trace-modeling-oss-fuzz-c/trace_test/traces/sudoers_own/trace_fuzz_iosrc_json_exe/src_264.xml'\n",
      "Error generating signature: [Errno 2] No such file or directory: '/home/XXX/trace-modeling-oss-fuzz-c/trace_test/traces/sudoers_own/trace_fuzz_iosrc_json_exe/src_101.xml'\n",
      "Error generating signature: [Errno 2] No such file or directory: '/home/XXX/trace-modeling-oss-fuzz-c/trace_test/traces/sudoers_own/trace_fuzz_iosrc_json_exe/src_120.xml'\n",
      "Error generating signature: [Errno 2] No such file or directory: '/home/XXX/trace-modeling-oss-fuzz-c/trace_test/traces/sudoers_own/trace_fuzz_iosrc_json_exe/src_204.xml'\n",
      "Error generating signature: [Errno 2] No such file or directory: '/home/XXX/trace-modeling-oss-fuzz-c/trace_test/traces/sudoers_own/trace_fuzz_iosrc_json_exe/src_107.xml'\n",
      "Error generating signature: [Errno 2] No such file or directory: '/home/XXX/trace-modeling-oss-fuzz-c/trace_test/traces/sudoers_own/trace_fuzz_iosrc_json_exe/src_178.xml'\n",
      "Error generating signature: [Errno 2] No such file or directory: '/home/XXX/trace-modeling-oss-fuzz-c/trace_test/traces/sudoers_own/trace_fuzz_iosrc_json_exe/src_372.xml'\n",
      "Error generating signature: [Errno 2] No such file or directory: '/home/XXX/trace-modeling-oss-fuzz-c/trace_test/traces/sudoers_own/trace_fuzz_iosrc_json_exe/src_110.xml'\n",
      "Error generating signature: [Errno 2] No such file or directory: '/home/XXX/trace-modeling-oss-fuzz-c/trace_test/traces/sudoers_own/trace_fuzz_iosrc_json_exe/src_366.xml'\n",
      "Error generating signature: [Errno 2] No such file or directory: '/home/XXX/trace-modeling-oss-fuzz-c/trace_test/traces/sudoers_own/trace_fuzz_iosrc_json_exe/src_410.xml'\n",
      "Error generating signature: [Errno 2] No such file or directory: '/home/XXX/trace-modeling-oss-fuzz-c/trace_test/traces/sudoers_own/trace_fuzz_iosrc_json_exe/src_144.xml'\n",
      "Error generating signature: [Errno 2] No such file or directory: '/home/XXX/trace-modeling-oss-fuzz-c/trace_test/traces/sudoers_own/trace_fuzz_iosrc_json_exe/src_240.xml'\n",
      "Error generating signature: [Errno 2] No such file or directory: '/home/XXX/trace-modeling-oss-fuzz-c/trace_test/traces/sudoers_own/trace_fuzz_iosrc_json_exe/src_261.xml'\n",
      "Error generating signature: [Errno 2] No such file or directory: '/home/XXX/trace-modeling-oss-fuzz-c/trace_test/traces/sudoers_own/trace_fuzz_iosrc_json_exe/src_198.xml'\n",
      "Error generating signature: [Errno 2] No such file or directory: '/home/XXX/trace-modeling-oss-fuzz-c/trace_test/traces/sudoers_own/trace_fuzz_iosrc_json_exe/src_371.xml'\n",
      "Error generating signature: [Errno 2] No such file or directory: '/home/XXX/trace-modeling-oss-fuzz-c/trace_test/traces/sudoers_own/trace_fuzz_iosrc_json_exe/src_398.xml'\n",
      "Error generating signature: [Errno 2] No such file or directory: '/home/XXX/trace-modeling-oss-fuzz-c/trace_test/traces/sudoers_own/trace_fuzz_iosrc_json_exe/src_303.xml'\n",
      "Error generating signature: [Errno 2] No such file or directory: '/home/XXX/trace-modeling-oss-fuzz-c/trace_test/traces/sudoers_own/trace_fuzz_iosrc_json_exe/src_268.xml'\n",
      "Error generating signature: [Errno 2] No such file or directory: '/home/XXX/trace-modeling-oss-fuzz-c/trace_test/traces/sudoers_own/trace_fuzz_iosrc_json_exe/src_318.xml'\n",
      "Error generating signature: [Errno 2] No such file or directory: '/home/XXX/trace-modeling-oss-fuzz-c/trace_test/traces/sudoers_own/trace_fuzz_iosrc_json_exe/src_272.xml'\n",
      "Error generating signature: [Errno 2] No such file or directory: '/home/XXX/trace-modeling-oss-fuzz-c/trace_test/traces/sudoers_own/trace_fuzz_iosrc_json_exe/src_135.xml'\n",
      "Error generating signature: [Errno 2] No such file or directory: '/home/XXX/trace-modeling-oss-fuzz-c/trace_test/traces/sudoers_own/trace_fuzz_iosrc_json_exe/src_314.xml'\n",
      "Error generating signature: [Errno 2] No such file or directory: '/home/XXX/trace-modeling-oss-fuzz-c/trace_test/traces/sudoers_own/trace_fuzz_iosrc_json_exe/src_88.xml'\n",
      "Error generating signature: [Errno 2] No such file or directory: '/home/XXX/trace-modeling-oss-fuzz-c/trace_test/traces/sudoers_own/trace_fuzz_iosrc_json_exe/src_125.xml'\n",
      "Error generating signature: [Errno 2] No such file or directory: '/home/XXX/trace-modeling-oss-fuzz-c/trace_test/traces/sudoers_own/trace_fuzz_iosrc_json_exe/src_300.xml'\n",
      "Error generating signature: [Errno 2] No such file or directory: '/home/XXX/trace-modeling-oss-fuzz-c/trace_test/traces/sudoers_own/trace_fuzz_iosrc_json_exe/src_44.xml'\n",
      "Error generating signature: [Errno 2] No such file or directory: '/home/XXX/trace-modeling-oss-fuzz-c/trace_test/traces/sudoers_own/trace_fuzz_iosrc_json_exe/src_141.xml'\n",
      "\n",
      "Processed 26720/39034 files\n",
      "Current unique count: 419\n",
      "Error generating signature: [Errno 2] No such file or directory: '/home/XXX/trace-modeling-oss-fuzz-c/trace_test/traces/sudoers_own/trace_fuzz_iosrc_json_exe/src_330.xml'\n",
      "Error generating signature: [Errno 2] No such file or directory: '/home/XXX/trace-modeling-oss-fuzz-c/trace_test/traces/sudoers_own/trace_fuzz_iosrc_json_exe/src_316.xml'\n",
      "Error generating signature: [Errno 2] No such file or directory: '/home/XXX/trace-modeling-oss-fuzz-c/trace_test/traces/sudoers_own/trace_fuzz_iosrc_json_exe/src_310.xml'\n",
      "Error generating signature: [Errno 2] No such file or directory: '/home/XXX/trace-modeling-oss-fuzz-c/trace_test/traces/sudoers_own/trace_fuzz_iosrc_json_exe/src_237.xml'\n",
      "Error generating signature: [Errno 2] No such file or directory: '/home/XXX/trace-modeling-oss-fuzz-c/trace_test/traces/sudoers_own/trace_fuzz_iosrc_json_exe/src_438.xml'\n",
      "Error generating signature: [Errno 2] No such file or directory: '/home/XXX/trace-modeling-oss-fuzz-c/trace_test/traces/sudoers_own/trace_fuzz_iosrc_json_exe/src_365.xml'\n",
      "Error generating signature: [Errno 2] No such file or directory: '/home/XXX/trace-modeling-oss-fuzz-c/trace_test/traces/sudoers_own/trace_fuzz_iosrc_json_exe/src_40.xml'\n",
      "Error generating signature: [Errno 2] No such file or directory: '/home/XXX/trace-modeling-oss-fuzz-c/trace_test/traces/sudoers_own/trace_fuzz_iosrc_json_exe/src_85.xml'\n",
      "Error generating signature: [Errno 2] No such file or directory: '/home/XXX/trace-modeling-oss-fuzz-c/trace_test/traces/sudoers_own/trace_fuzz_iosrc_json_exe/src_336.xml'\n",
      "Error generating signature: [Errno 2] No such file or directory: '/home/XXX/trace-modeling-oss-fuzz-c/trace_test/traces/sudoers_own/trace_fuzz_iosrc_json_exe/src_188.xml'\n",
      "Error generating signature: [Errno 2] No such file or directory: '/home/XXX/trace-modeling-oss-fuzz-c/trace_test/traces/sudoers_own/trace_fuzz_iosrc_json_exe/src_402.xml'\n",
      "Error generating signature: [Errno 2] No such file or directory: '/home/XXX/trace-modeling-oss-fuzz-c/trace_test/traces/sudoers_own/trace_fuzz_iosrc_json_exe/src_189.xml'\n",
      "Error generating signature: [Errno 2] No such file or directory: '/home/XXX/trace-modeling-oss-fuzz-c/trace_test/traces/sudoers_own/trace_fuzz_iosrc_json_exe/src_21.xml'\n",
      "Error generating signature: [Errno 2] No such file or directory: '/home/XXX/trace-modeling-oss-fuzz-c/trace_test/traces/sudoers_own/trace_fuzz_iosrc_json_exe/src_167.xml'\n",
      "Error generating signature: [Errno 2] No such file or directory: '/home/XXX/trace-modeling-oss-fuzz-c/trace_test/traces/sudoers_own/trace_fuzz_iosrc_json_exe/src_87.xml'\n",
      "Error generating signature: [Errno 2] No such file or directory: '/home/XXX/trace-modeling-oss-fuzz-c/trace_test/traces/sudoers_own/trace_fuzz_iosrc_json_exe/src_170.xml'\n",
      "Error generating signature: [Errno 2] No such file or directory: '/home/XXX/trace-modeling-oss-fuzz-c/trace_test/traces/sudoers_own/trace_fuzz_iosrc_json_exe/src_213.xml'\n",
      "Error generating signature: [Errno 2] No such file or directory: '/home/XXX/trace-modeling-oss-fuzz-c/trace_test/traces/sudoers_own/trace_fuzz_iosrc_json_exe/src_331.xml'\n",
      "Error generating signature: [Errno 2] No such file or directory: '/home/XXX/trace-modeling-oss-fuzz-c/trace_test/traces/sudoers_own/trace_fuzz_iosrc_json_exe/src_194.xml'\n",
      "Error generating signature: [Errno 2] No such file or directory: '/home/XXX/trace-modeling-oss-fuzz-c/trace_test/traces/sudoers_own/trace_fuzz_iosrc_json_exe/src_225.xml'\n",
      "Error generating signature: [Errno 2] No such file or directory: '/home/XXX/trace-modeling-oss-fuzz-c/trace_test/traces/sudoers_own/trace_fuzz_iosrc_json_exe/src_30.xml'\n",
      "Error generating signature: [Errno 2] No such file or directory: '/home/XXX/trace-modeling-oss-fuzz-c/trace_test/traces/sudoers_own/trace_fuzz_iosrc_json_exe/src_387.xml'\n",
      "Error generating signature: [Errno 2] No such file or directory: '/home/XXX/trace-modeling-oss-fuzz-c/trace_test/traces/sudoers_own/trace_fuzz_iosrc_json_exe/src_286.xml'\n",
      "Error generating signature: [Errno 2] No such file or directory: '/home/XXX/trace-modeling-oss-fuzz-c/trace_test/traces/sudoers_own/trace_fuzz_iosrc_json_exe/src_424.xml'\n",
      "Error generating signature: [Errno 2] No such file or directory: '/home/XXX/trace-modeling-oss-fuzz-c/trace_test/traces/sudoers_own/trace_fuzz_iosrc_json_exe/src_386.xml'\n",
      "Error generating signature: [Errno 2] No such file or directory: '/home/XXX/trace-modeling-oss-fuzz-c/trace_test/traces/sudoers_own/trace_fuzz_iosrc_json_exe/src_215.xml'\n",
      "Error generating signature: [Errno 2] No such file or directory: '/home/XXX/trace-modeling-oss-fuzz-c/trace_test/traces/sudoers_own/trace_fuzz_iosrc_json_exe/src_26.xml'\n",
      "Error generating signature: [Errno 2] No such file or directory: '/home/XXX/trace-modeling-oss-fuzz-c/trace_test/traces/sudoers_own/trace_fuzz_iosrc_json_exe/src_404.xml'\n",
      "Error generating signature: [Errno 2] No such file or directory: '/home/XXX/trace-modeling-oss-fuzz-c/trace_test/traces/sudoers_own/trace_fuzz_iosrc_json_exe/src_422.xml'\n",
      "Error generating signature: [Errno 2] No such file or directory: '/home/XXX/trace-modeling-oss-fuzz-c/trace_test/traces/sudoers_own/trace_fuzz_iosrc_json_exe/src_454.xml'\n",
      "Error generating signature: [Errno 2] No such file or directory: '/home/XXX/trace-modeling-oss-fuzz-c/trace_test/traces/sudoers_own/trace_fuzz_iosrc_json_exe/src_262.xml'\n",
      "Error generating signature: [Errno 2] No such file or directory: '/home/XXX/trace-modeling-oss-fuzz-c/trace_test/traces/sudoers_own/trace_fuzz_iosrc_json_exe/src_184.xml'\n",
      "Error generating signature: [Errno 2] No such file or directory: '/home/XXX/trace-modeling-oss-fuzz-c/trace_test/traces/sudoers_own/trace_fuzz_iosrc_json_exe/src_418.xml'\n",
      "Error generating signature: [Errno 2] No such file or directory: '/home/XXX/trace-modeling-oss-fuzz-c/trace_test/traces/sudoers_own/trace_fuzz_iosrc_json_exe/src_105.xml'\n",
      "Error generating signature: [Errno 2] No such file or directory: '/home/XXX/trace-modeling-oss-fuzz-c/trace_test/traces/sudoers_own/trace_fuzz_iosrc_json_exe/src_176.xml'\n",
      "Error generating signature: [Errno 2] No such file or directory: '/home/XXX/trace-modeling-oss-fuzz-c/trace_test/traces/sudoers_own/trace_fuzz_iosrc_json_exe/src_37.xml'\n",
      "Error generating signature: [Errno 2] No such file or directory: '/home/XXX/trace-modeling-oss-fuzz-c/trace_test/traces/sudoers_own/trace_fuzz_iosrc_json_exe/src_435.xml'\n",
      "Error generating signature: [Errno 2] No such file or directory: '/home/XXX/trace-modeling-oss-fuzz-c/trace_test/traces/sudoers_own/trace_fuzz_iosrc_json_exe/src_42.xml'\n",
      "Error generating signature: [Errno 2] No such file or directory: '/home/XXX/trace-modeling-oss-fuzz-c/trace_test/traces/sudoers_own/trace_fuzz_iosrc_json_exe/src_152.xml'\n",
      "Error generating signature: [Errno 2] No such file or directory: '/home/XXX/trace-modeling-oss-fuzz-c/trace_test/traces/sudoers_own/trace_fuzz_iosrc_json_exe/src_348.xml'\n",
      "Error generating signature: [Errno 2] No such file or directory: '/home/XXX/trace-modeling-oss-fuzz-c/trace_test/traces/sudoers_own/trace_fuzz_iosrc_json_exe/src_373.xml'\n",
      "Error generating signature: [Errno 2] No such file or directory: '/home/XXX/trace-modeling-oss-fuzz-c/trace_test/traces/sudoers_own/trace_fuzz_iosrc_json_exe/src_159.xml'\n",
      "Error generating signature: [Errno 2] No such file or directory: '/home/XXX/trace-modeling-oss-fuzz-c/trace_test/traces/sudoers_own/trace_fuzz_iosrc_json_exe/src_425.xml'\n",
      "Error generating signature: [Errno 2] No such file or directory: '/home/XXX/trace-modeling-oss-fuzz-c/trace_test/traces/sudoers_own/trace_fuzz_iosrc_json_exe/src_411.xml'\n",
      "Error generating signature: [Errno 2] No such file or directory: '/home/XXX/trace-modeling-oss-fuzz-c/trace_test/traces/sudoers_own/trace_fuzz_iosrc_json_exe/src_180.xml'\n",
      "Error generating signature: [Errno 2] No such file or directory: '/home/XXX/trace-modeling-oss-fuzz-c/trace_test/traces/sudoers_own/trace_fuzz_iosrc_json_exe/src_401.xml'\n",
      "Error generating signature: [Errno 2] No such file or directory: '/home/XXX/trace-modeling-oss-fuzz-c/trace_test/traces/sudoers_own/trace_fuzz_iosrc_json_exe/src_218.xml'\n",
      "Error generating signature: [Errno 2] No such file or directory: '/home/XXX/trace-modeling-oss-fuzz-c/trace_test/traces/sudoers_own/trace_fuzz_iosrc_json_exe/src_282.xml'\n",
      "Error generating signature: [Errno 2] No such file or directory: '/home/XXX/trace-modeling-oss-fuzz-c/trace_test/traces/sudoers_own/trace_fuzz_iosrc_json_exe/src_223.xml'\n",
      "Error generating signature: [Errno 2] No such file or directory: '/home/XXX/trace-modeling-oss-fuzz-c/trace_test/traces/sudoers_own/trace_fuzz_iosrc_json_exe/src_149.xml'\n",
      "Error generating signature: [Errno 2] No such file or directory: '/home/XXX/trace-modeling-oss-fuzz-c/trace_test/traces/sudoers_own/trace_fuzz_iosrc_json_exe/src_132.xml'\n",
      "Error generating signature: [Errno 2] No such file or directory: '/home/XXX/trace-modeling-oss-fuzz-c/trace_test/traces/sudoers_own/trace_fuzz_iosrc_json_exe/src_54.xml'\n",
      "Error generating signature: [Errno 2] No such file or directory: '/home/XXX/trace-modeling-oss-fuzz-c/trace_test/traces/sudoers_own/trace_fuzz_iosrc_json_exe/src_350.xml'\n",
      "Error generating signature: [Errno 2] No such file or directory: '/home/XXX/trace-modeling-oss-fuzz-c/trace_test/traces/sudoers_own/trace_fuzz_iosrc_json_exe/src_338.xml'\n",
      "Error generating signature: [Errno 2] No such file or directory: '/home/XXX/trace-modeling-oss-fuzz-c/trace_test/traces/sudoers_own/trace_fuzz_iosrc_json_exe/src_209.xml'\n",
      "Error generating signature: [Errno 2] No such file or directory: '/home/XXX/trace-modeling-oss-fuzz-c/trace_test/traces/sudoers_own/trace_fuzz_iosrc_json_exe/src_449.xml'\n",
      "Error generating signature: [Errno 2] No such file or directory: '/home/XXX/trace-modeling-oss-fuzz-c/trace_test/traces/sudoers_own/trace_fuzz_iosrc_json_exe/src_452.xml'\n",
      "Error generating signature: [Errno 2] No such file or directory: '/home/XXX/trace-modeling-oss-fuzz-c/trace_test/traces/sudoers_own/trace_fuzz_iosrc_json_exe/src_118.xml'\n",
      "Error generating signature: [Errno 2] No such file or directory: '/home/XXX/trace-modeling-oss-fuzz-c/trace_test/traces/sudoers_own/trace_fuzz_iosrc_json_exe/src_14.xml'\n",
      "Error generating signature: [Errno 2] No such file or directory: '/home/XXX/trace-modeling-oss-fuzz-c/trace_test/traces/sudoers_own/trace_fuzz_iosrc_json_exe/src_293.xml'\n",
      "Error generating signature: [Errno 2] No such file or directory: '/home/XXX/trace-modeling-oss-fuzz-c/trace_test/traces/sudoers_own/trace_fuzz_iosrc_json_exe/src_257.xml'\n",
      "Error generating signature: [Errno 2] No such file or directory: '/home/XXX/trace-modeling-oss-fuzz-c/trace_test/traces/sudoers_own/trace_fuzz_iosrc_json_exe/src_266.xml'\n",
      "Error generating signature: [Errno 2] No such file or directory: '/home/XXX/trace-modeling-oss-fuzz-c/trace_test/traces/sudoers_own/trace_fuzz_iosrc_json_exe/src_436.xml'\n",
      "Error generating signature: [Errno 2] No such file or directory: '/home/XXX/trace-modeling-oss-fuzz-c/trace_test/traces/sudoers_own/trace_fuzz_iosrc_json_exe/src_260.xml'\n",
      "Error generating signature: [Errno 2] No such file or directory: '/home/XXX/trace-modeling-oss-fuzz-c/trace_test/traces/sudoers_own/trace_fuzz_iosrc_json_exe/src_450.xml'\n",
      "Error generating signature: [Errno 2] No such file or directory: '/home/XXX/trace-modeling-oss-fuzz-c/trace_test/traces/sudoers_own/trace_fuzz_iosrc_json_exe/src_73.xml'\n",
      "Error generating signature: [Errno 2] No such file or directory: '/home/XXX/trace-modeling-oss-fuzz-c/trace_test/traces/sudoers_own/trace_fuzz_iosrc_json_exe/src_383.xml'\n",
      "Error generating signature: [Errno 2] No such file or directory: '/home/XXX/trace-modeling-oss-fuzz-c/trace_test/traces/sudoers_own/trace_fuzz_iosrc_json_exe/src_345.xml'\n",
      "Error generating signature: [Errno 2] No such file or directory: '/home/XXX/trace-modeling-oss-fuzz-c/trace_test/traces/sudoers_own/trace_fuzz_iosrc_json_exe/src_283.xml'\n",
      "Error generating signature: [Errno 2] No such file or directory: '/home/XXX/trace-modeling-oss-fuzz-c/trace_test/traces/sudoers_own/trace_fuzz_iosrc_json_exe/src_72.xml'\n",
      "Error generating signature: [Errno 2] No such file or directory: '/home/XXX/trace-modeling-oss-fuzz-c/trace_test/traces/sudoers_own/trace_fuzz_iosrc_json_exe/src_236.xml'\n",
      "Error generating signature: [Errno 2] No such file or directory: '/home/XXX/trace-modeling-oss-fuzz-c/trace_test/traces/sudoers_own/trace_fuzz_iosrc_json_exe/src_441.xml'\n",
      "Error generating signature: [Errno 2] No such file or directory: '/home/XXX/trace-modeling-oss-fuzz-c/trace_test/traces/sudoers_own/trace_fuzz_iosrc_json_exe/src_119.xml'\n",
      "Error generating signature: [Errno 2] No such file or directory: '/home/XXX/trace-modeling-oss-fuzz-c/trace_test/traces/sudoers_own/trace_fuzz_iosrc_json_exe/src_394.xml'\n",
      "Error generating signature: [Errno 2] No such file or directory: '/home/XXX/trace-modeling-oss-fuzz-c/trace_test/traces/sudoers_own/trace_fuzz_iosrc_json_exe/src_46.xml'\n",
      "Error generating signature: [Errno 2] No such file or directory: '/home/XXX/trace-modeling-oss-fuzz-c/trace_test/traces/sudoers_own/trace_fuzz_iosrc_json_exe/src_312.xml'\n",
      "Error generating signature: [Errno 2] No such file or directory: '/home/XXX/trace-modeling-oss-fuzz-c/trace_test/traces/sudoers_own/trace_fuzz_iosrc_json_exe/src_352.xml'\n",
      "Error generating signature: [Errno 2] No such file or directory: '/home/XXX/trace-modeling-oss-fuzz-c/trace_test/traces/sudoers_own/trace_fuzz_iosrc_json_exe/src_340.xml'\n",
      "Error generating signature: [Errno 2] No such file or directory: '/home/XXX/trace-modeling-oss-fuzz-c/trace_test/traces/sudoers_own/trace_fuzz_iosrc_json_exe/src_265.xml'\n",
      "Error generating signature: [Errno 2] No such file or directory: '/home/XXX/trace-modeling-oss-fuzz-c/trace_test/traces/sudoers_own/trace_fuzz_iosrc_json_exe/src_25.xml'\n",
      "\n",
      "Processed 26800/39034 files\n",
      "Current unique count: 419\n",
      "Error generating signature: [Errno 2] No such file or directory: '/home/XXX/trace-modeling-oss-fuzz-c/trace_test/traces/sudoers_own/trace_fuzz_iosrc_json_exe/src_81.xml'\n",
      "Error generating signature: [Errno 2] No such file or directory: '/home/XXX/trace-modeling-oss-fuzz-c/trace_test/traces/sudoers_own/trace_fuzz_iosrc_json_exe/src_277.xml'\n",
      "Error generating signature: [Errno 2] No such file or directory: '/home/XXX/trace-modeling-oss-fuzz-c/trace_test/traces/sudoers_own/trace_fuzz_iosrc_json_exe/src_226.xml'\n",
      "Error generating signature: [Errno 2] No such file or directory: '/home/XXX/trace-modeling-oss-fuzz-c/trace_test/traces/sudoers_own/trace_fuzz_iosrc_json_exe/src_67.xml'\n",
      "Error generating signature: [Errno 2] No such file or directory: '/home/XXX/trace-modeling-oss-fuzz-c/trace_test/traces/sudoers_own/trace_fuzz_iosrc_json_exe/src_76.xml'\n",
      "Error generating signature: [Errno 2] No such file or directory: '/home/XXX/trace-modeling-oss-fuzz-c/trace_test/traces/sudoers_own/trace_fuzz_iosrc_json_exe/src_385.xml'\n",
      "Error generating signature: [Errno 2] No such file or directory: '/home/XXX/trace-modeling-oss-fuzz-c/trace_test/traces/sudoers_own/trace_fuzz_iosrc_json_exe/src_104.xml'\n",
      "Error generating signature: [Errno 2] No such file or directory: '/home/XXX/trace-modeling-oss-fuzz-c/trace_test/traces/sudoers_own/trace_fuzz_iosrc_json_exe/src_289.xml'\n",
      "Error generating signature: [Errno 2] No such file or directory: '/home/XXX/trace-modeling-oss-fuzz-c/trace_test/traces/sudoers_own/trace_fuzz_iosrc_json_exe/src_370.xml'\n",
      "Error generating signature: [Errno 2] No such file or directory: '/home/XXX/trace-modeling-oss-fuzz-c/trace_test/traces/sudoers_own/trace_fuzz_iosrc_json_exe/src_341.xml'\n",
      "Error generating signature: [Errno 2] No such file or directory: '/home/XXX/trace-modeling-oss-fuzz-c/trace_test/traces/sudoers_own/trace_fuzz_iosrc_json_exe/src_28.xml'\n",
      "Error generating signature: [Errno 2] No such file or directory: '/home/XXX/trace-modeling-oss-fuzz-c/trace_test/traces/sudoers_own/trace_fuzz_iosrc_json_exe/src_245.xml'\n",
      "Error generating signature: [Errno 2] No such file or directory: '/home/XXX/trace-modeling-oss-fuzz-c/trace_test/traces/sudoers_own/trace_fuzz_iosrc_json_exe/src_231.xml'\n",
      "Error generating signature: [Errno 2] No such file or directory: '/home/XXX/trace-modeling-oss-fuzz-c/trace_test/traces/sudoers_own/trace_fuzz_iosrc_json_exe/src_45.xml'\n",
      "Error generating signature: [Errno 2] No such file or directory: '/home/XXX/trace-modeling-oss-fuzz-c/trace_test/traces/sudoers_own/trace_fuzz_iosrc_json_exe/src_458.xml'\n",
      "Error generating signature: [Errno 2] No such file or directory: '/home/XXX/trace-modeling-oss-fuzz-c/trace_test/traces/sudoers_own/trace_fuzz_iosrc_json_exe/src_32.xml'\n",
      "Error generating signature: [Errno 2] No such file or directory: '/home/XXX/trace-modeling-oss-fuzz-c/trace_test/traces/sudoers_own/trace_fuzz_iosrc_json_exe/src_187.xml'\n",
      "Error generating signature: [Errno 2] No such file or directory: '/home/XXX/trace-modeling-oss-fuzz-c/trace_test/traces/sudoers_own/trace_fuzz_iosrc_json_exe/src_17.xml'\n",
      "Error generating signature: [Errno 2] No such file or directory: '/home/XXX/trace-modeling-oss-fuzz-c/trace_test/traces/sudoers_own/trace_fuzz_iosrc_json_exe/src_437.xml'\n",
      "Error generating signature: [Errno 2] No such file or directory: '/home/XXX/trace-modeling-oss-fuzz-c/trace_test/traces/sudoers_own/trace_fuzz_iosrc_json_exe/src_203.xml'\n",
      "Error generating signature: [Errno 2] No such file or directory: '/home/XXX/trace-modeling-oss-fuzz-c/trace_test/traces/sudoers_own/trace_fuzz_iosrc_json_exe/src_320.xml'\n",
      "Error generating signature: [Errno 2] No such file or directory: '/home/XXX/trace-modeling-oss-fuzz-c/trace_test/traces/sudoers_own/trace_fuzz_iosrc_json_exe/src_397.xml'\n",
      "Error generating signature: [Errno 2] No such file or directory: '/home/XXX/trace-modeling-oss-fuzz-c/trace_test/traces/sudoers_own/trace_fuzz_iosrc_json_exe/src_96.xml'\n",
      "Error generating signature: [Errno 2] No such file or directory: '/home/XXX/trace-modeling-oss-fuzz-c/trace_test/traces/sudoers_own/trace_fuzz_iosrc_json_exe/src_440.xml'\n",
      "Error generating signature: [Errno 2] No such file or directory: '/home/XXX/trace-modeling-oss-fuzz-c/trace_test/traces/sudoers_own/trace_fuzz_iosrc_json_exe/src_143.xml'\n",
      "Error generating signature: [Errno 2] No such file or directory: '/home/XXX/trace-modeling-oss-fuzz-c/trace_test/traces/sudoers_own/trace_fuzz_iosrc_json_exe/src_408.xml'\n",
      "Error generating signature: [Errno 2] No such file or directory: '/home/XXX/trace-modeling-oss-fuzz-c/trace_test/traces/sudoers_own/trace_fuzz_iosrc_json_exe/src_134.xml'\n",
      "Error generating signature: [Errno 2] No such file or directory: '/home/XXX/trace-modeling-oss-fuzz-c/trace_test/traces/sudoers_own/trace_fuzz_iosrc_json_exe/src_22.xml'\n",
      "Error generating signature: [Errno 2] No such file or directory: '/home/XXX/trace-modeling-oss-fuzz-c/trace_test/traces/sudoers_own/trace_fuzz_iosrc_json_exe/src_199.xml'\n",
      "Error generating signature: [Errno 2] No such file or directory: '/home/XXX/trace-modeling-oss-fuzz-c/trace_test/traces/sudoers_own/trace_fuzz_iosrc_json_exe/src_227.xml'\n",
      "Error generating signature: [Errno 2] No such file or directory: '/home/XXX/trace-modeling-oss-fuzz-c/trace_test/traces/sudoers_own/trace_fuzz_iosrc_json_exe/src_99.xml'\n",
      "Error generating signature: [Errno 2] No such file or directory: '/home/XXX/trace-modeling-oss-fuzz-c/trace_test/traces/sudoers_own/trace_fuzz_iosrc_json_exe/src_409.xml'\n",
      "Error generating signature: [Errno 2] No such file or directory: '/home/XXX/trace-modeling-oss-fuzz-c/trace_test/traces/sudoers_own/trace_fuzz_iosrc_json_exe/src_279.xml'\n",
      "Error generating signature: [Errno 2] No such file or directory: '/home/XXX/trace-modeling-oss-fuzz-c/trace_test/traces/sudoers_own/trace_fuzz_iosrc_json_exe/src_253.xml'\n",
      "Error generating signature: [Errno 2] No such file or directory: '/home/XXX/trace-modeling-oss-fuzz-c/trace_test/traces/sudoers_own/trace_fuzz_iosrc_json_exe/src_217.xml'\n",
      "Error generating signature: [Errno 2] No such file or directory: '/home/XXX/trace-modeling-oss-fuzz-c/trace_test/traces/sudoers_own/trace_fuzz_iosrc_json_exe/src_324.xml'\n",
      "Error generating signature: [Errno 2] No such file or directory: '/home/XXX/trace-modeling-oss-fuzz-c/trace_test/traces/sudoers_own/trace_fuzz_iosrc_json_exe/src_322.xml'\n",
      "Error generating signature: [Errno 2] No such file or directory: '/home/XXX/trace-modeling-oss-fuzz-c/trace_test/traces/sudoers_own/trace_fuzz_iosrc_json_exe/src_244.xml'\n",
      "Error generating signature: [Errno 2] No such file or directory: '/home/XXX/trace-modeling-oss-fuzz-c/trace_test/traces/sudoers_own/trace_fuzz_iosrc_json_exe/src_453.xml'\n",
      "Error generating signature: [Errno 2] No such file or directory: '/home/XXX/trace-modeling-oss-fuzz-c/trace_test/traces/sudoers_own/trace_fuzz_iosrc_json_exe/src_391.xml'\n",
      "Error generating signature: [Errno 2] No such file or directory: '/home/XXX/trace-modeling-oss-fuzz-c/trace_test/traces/sudoers_own/trace_fuzz_iosrc_json_exe/src_173.xml'\n",
      "Error generating signature: [Errno 2] No such file or directory: '/home/XXX/trace-modeling-oss-fuzz-c/trace_test/traces/sudoers_own/trace_fuzz_iosrc_json_exe/src_246.xml'\n",
      "Error generating signature: [Errno 2] No such file or directory: '/home/XXX/trace-modeling-oss-fuzz-c/trace_test/traces/sudoers_own/trace_fuzz_iosrc_json_exe/src_349.xml'\n",
      "Error generating signature: [Errno 2] No such file or directory: '/home/XXX/trace-modeling-oss-fuzz-c/trace_test/traces/sudoers_own/trace_fuzz_iosrc_json_exe/src_38.xml'\n",
      "Error generating signature: [Errno 2] No such file or directory: '/home/XXX/trace-modeling-oss-fuzz-c/trace_test/traces/sudoers_own/trace_fuzz_iosrc_json_exe/src_123.xml'\n",
      "Error generating signature: [Errno 2] No such file or directory: '/home/XXX/trace-modeling-oss-fuzz-c/trace_test/traces/sudoers_own/trace_fuzz_iosrc_json_exe/src_455.xml'\n",
      "Error generating signature: [Errno 2] No such file or directory: '/home/XXX/trace-modeling-oss-fuzz-c/trace_test/traces/sudoers_own/trace_fuzz_iosrc_json_exe/src_208.xml'\n",
      "Error generating signature: [Errno 2] No such file or directory: '/home/XXX/trace-modeling-oss-fuzz-c/trace_test/traces/sudoers_own/trace_fuzz_iosrc_json_exe/src_430.xml'\n",
      "Error generating signature: [Errno 2] No such file or directory: '/home/XXX/trace-modeling-oss-fuzz-c/trace_test/traces/sudoers_own/trace_fuzz_iosrc_json_exe/src_147.xml'\n",
      "Error generating signature: [Errno 2] No such file or directory: '/home/XXX/trace-modeling-oss-fuzz-c/trace_test/traces/sudoers_own/trace_fuzz_iosrc_json_exe/src_175.xml'\n",
      "Error generating signature: [Errno 2] No such file or directory: '/home/XXX/trace-modeling-oss-fuzz-c/trace_test/traces/sudoers_own/trace_fuzz_iosrc_json_exe/src_80.xml'\n",
      "Error generating signature: [Errno 2] No such file or directory: '/home/XXX/trace-modeling-oss-fuzz-c/trace_test/traces/sudoers_own/trace_fuzz_iosrc_json_exe/src_63.xml'\n",
      "Error generating signature: [Errno 2] No such file or directory: '/home/XXX/trace-modeling-oss-fuzz-c/trace_test/traces/sudoers_own/trace_fuzz_iosrc_json_exe/src_64.xml'\n",
      "Error generating signature: [Errno 2] No such file or directory: '/home/XXX/trace-modeling-oss-fuzz-c/trace_test/traces/sudoers_own/trace_fuzz_iosrc_json_exe/src_185.xml'\n",
      "Error generating signature: [Errno 2] No such file or directory: '/home/XXX/trace-modeling-oss-fuzz-c/trace_test/traces/sudoers_own/trace_fuzz_iosrc_json_exe/src_157.xml'\n",
      "Error generating signature: [Errno 2] No such file or directory: '/home/XXX/trace-modeling-oss-fuzz-c/trace_test/traces/sudoers_own/trace_fuzz_iosrc_json_exe/src_62.xml'\n",
      "Error generating signature: [Errno 2] No such file or directory: '/home/XXX/trace-modeling-oss-fuzz-c/trace_test/traces/sudoers_own/trace_fuzz_iosrc_json_exe/src_325.xml'\n",
      "Error generating signature: [Errno 2] No such file or directory: '/home/XXX/trace-modeling-oss-fuzz-c/trace_test/traces/sudoers_own/trace_fuzz_iosrc_json_exe/src_33.xml'\n",
      "Error generating signature: [Errno 2] No such file or directory: '/home/XXX/trace-modeling-oss-fuzz-c/trace_test/traces/sudoers_own/trace_fuzz_iosrc_json_exe/src_388.xml'\n",
      "Error generating signature: [Errno 2] No such file or directory: '/home/XXX/trace-modeling-oss-fuzz-c/trace_test/traces/sudoers_own/trace_fuzz_iosrc_json_exe/src_36.xml'\n",
      "Error generating signature: [Errno 2] No such file or directory: '/home/XXX/trace-modeling-oss-fuzz-c/trace_test/traces/sudoers_own/trace_fuzz_iosrc_json_exe/src_115.xml'\n",
      "Error generating signature: [Errno 2] No such file or directory: '/home/XXX/trace-modeling-oss-fuzz-c/trace_test/traces/sudoers_own/trace_fuzz_iosrc_json_exe/src_389.xml'\n",
      "Error generating signature: [Errno 2] No such file or directory: '/home/XXX/trace-modeling-oss-fuzz-c/trace_test/traces/sudoers_own/trace_fuzz_iosrc_json_exe/src_281.xml'\n",
      "Error generating signature: [Errno 2] No such file or directory: '/home/XXX/trace-modeling-oss-fuzz-c/trace_test/traces/sudoers_own/trace_fuzz_iosrc_json_exe/src_193.xml'\n",
      "Error generating signature: [Errno 2] No such file or directory: '/home/XXX/trace-modeling-oss-fuzz-c/trace_test/traces/sudoers_own/trace_fuzz_iosrc_json_exe/src_363.xml'\n",
      "Error generating signature: [Errno 2] No such file or directory: '/home/XXX/trace-modeling-oss-fuzz-c/trace_test/traces/sudoers_own/trace_fuzz_iosrc_json_exe/src_24.xml'\n",
      "Error generating signature: [Errno 2] No such file or directory: '/home/XXX/trace-modeling-oss-fuzz-c/trace_test/traces/sudoers_own/trace_fuzz_iosrc_json_exe/src_108.xml'\n",
      "Error generating signature: [Errno 2] No such file or directory: '/home/XXX/trace-modeling-oss-fuzz-c/trace_test/traces/sudoers_own/trace_fuzz_iosrc_json_exe/src_329.xml'\n",
      "Error generating signature: [Errno 2] No such file or directory: '/home/XXX/trace-modeling-oss-fuzz-c/trace_test/traces/sudoers_own/trace_fuzz_iosrc_json_exe/src_274.xml'\n",
      "Error generating signature: [Errno 2] No such file or directory: '/home/XXX/trace-modeling-oss-fuzz-c/trace_test/traces/sudoers_own/trace_fuzz_iosrc_json_exe/src_121.xml'\n",
      "Error generating signature: [Errno 2] No such file or directory: '/home/XXX/trace-modeling-oss-fuzz-c/trace_test/traces/sudoers_own/trace_fuzz_iosrc_json_exe/src_294.xml'\n",
      "Error generating signature: [Errno 2] No such file or directory: '/home/XXX/trace-modeling-oss-fuzz-c/trace_test/traces/sudoers_own/trace_fuzz_iosrc_json_exe/src_275.xml'\n",
      "Error generating signature: [Errno 2] No such file or directory: '/home/XXX/trace-modeling-oss-fuzz-c/trace_test/traces/sudoers_own/trace_fuzz_iosrc_json_exe/src_112.xml'\n",
      "Error generating signature: [Errno 2] No such file or directory: '/home/XXX/trace-modeling-oss-fuzz-c/trace_test/traces/sudoers_own/trace_fuzz_iosrc_json_exe/src_256.xml'\n",
      "Error generating signature: [Errno 2] No such file or directory: '/home/XXX/trace-modeling-oss-fuzz-c/trace_test/traces/sudoers_own/trace_fuzz_iosrc_json_exe/src_174.xml'\n",
      "Error generating signature: [Errno 2] No such file or directory: '/home/XXX/trace-modeling-oss-fuzz-c/trace_test/traces/sudoers_own/trace_fuzz_iosrc_json_exe/src_399.xml'\n",
      "Error generating signature: [Errno 2] No such file or directory: '/home/XXX/trace-modeling-oss-fuzz-c/trace_test/traces/sudoers_own/trace_fuzz_iosrc_json_exe/src_448.xml'\n",
      "Error generating signature: [Errno 2] No such file or directory: '/home/XXX/trace-modeling-oss-fuzz-c/trace_test/traces/sudoers_own/trace_fuzz_iosrc_json_exe/src_302.xml'\n",
      "Error generating signature: [Errno 2] No such file or directory: '/home/XXX/trace-modeling-oss-fuzz-c/trace_test/traces/sudoers_own/trace_fuzz_iosrc_json_exe/src_271.xml'\n",
      "Error generating signature: [Errno 2] No such file or directory: '/home/XXX/trace-modeling-oss-fuzz-c/trace_test/traces/sudoers_own/trace_fuzz_iosrc_json_exe/src_416.xml'\n",
      "\n",
      "Processed 26880/39034 files\n",
      "Current unique count: 419\n",
      "Error generating signature: [Errno 2] No such file or directory: '/home/XXX/trace-modeling-oss-fuzz-c/trace_test/traces/sudoers_own/trace_fuzz_iosrc_json_exe/src_288.xml'\n",
      "Error generating signature: [Errno 2] No such file or directory: '/home/XXX/trace-modeling-oss-fuzz-c/trace_test/traces/sudoers_own/trace_fuzz_iosrc_json_exe/src_369.xml'\n",
      "Error generating signature: [Errno 2] No such file or directory: '/home/XXX/trace-modeling-oss-fuzz-c/trace_test/traces/sudoers_own/trace_fuzz_iosrc_json_exe/src_317.xml'\n",
      "Error generating signature: [Errno 2] No such file or directory: '/home/XXX/trace-modeling-oss-fuzz-c/trace_test/traces/sudoers_own/trace_fuzz_iosrc_json_exe/src_306.xml'\n",
      "Error generating signature: [Errno 2] No such file or directory: '/home/XXX/trace-modeling-oss-fuzz-c/trace_test/traces/sudoers_own/trace_fuzz_iosrc_json_exe/src_1.xml'\n",
      "Error generating signature: [Errno 2] No such file or directory: '/home/XXX/trace-modeling-oss-fuzz-c/trace_test/traces/sudoers_own/trace_fuzz_iosrc_json_exe/src_92.xml'\n",
      "Error generating signature: [Errno 2] No such file or directory: '/home/XXX/trace-modeling-oss-fuzz-c/trace_test/traces/sudoers_own/trace_fuzz_iosrc_json_exe/src_34.xml'\n",
      "Error generating signature: [Errno 2] No such file or directory: '/home/XXX/trace-modeling-oss-fuzz-c/trace_test/traces/sudoers_own/trace_fuzz_iosrc_json_exe/src_442.xml'\n",
      "Error generating signature: [Errno 2] No such file or directory: '/home/XXX/trace-modeling-oss-fuzz-c/trace_test/traces/sudoers_own/trace_fuzz_iosrc_json_exe/src_439.xml'\n",
      "Error generating signature: [Errno 2] No such file or directory: '/home/XXX/trace-modeling-oss-fuzz-c/trace_test/traces/sudoers_own/trace_fuzz_iosrc_json_exe/src_113.xml'\n",
      "Error generating signature: [Errno 2] No such file or directory: '/home/XXX/trace-modeling-oss-fuzz-c/trace_test/traces/sudoers_own/trace_fuzz_iosrc_json_exe/src_137.xml'\n",
      "Error generating signature: [Errno 2] No such file or directory: '/home/XXX/trace-modeling-oss-fuzz-c/trace_test/traces/sudoers_own/trace_fuzz_iosrc_json_exe/src_75.xml'\n",
      "Error generating signature: [Errno 2] No such file or directory: '/home/XXX/trace-modeling-oss-fuzz-c/trace_test/traces/sudoers_own/trace_fuzz_iosrc_json_exe/src_162.xml'\n",
      "Error generating signature: [Errno 2] No such file or directory: '/home/XXX/trace-modeling-oss-fuzz-c/trace_test/traces/sudoers_own/trace_fuzz_iosrc_json_exe/src_426.xml'\n",
      "Error generating signature: [Errno 2] No such file or directory: '/home/XXX/trace-modeling-oss-fuzz-c/trace_test/traces/sudoers_own/trace_fuzz_iosrc_json_exe/src_229.xml'\n",
      "Error generating signature: [Errno 2] No such file or directory: '/home/XXX/trace-modeling-oss-fuzz-c/trace_test/traces/sudoers_own/trace_fuzz_iosrc_json_exe/src_127.xml'\n",
      "Error generating signature: [Errno 2] No such file or directory: '/home/XXX/trace-modeling-oss-fuzz-c/trace_test/traces/sudoers_own/trace_fuzz_iosrc_json_exe/src_83.xml'\n",
      "Error generating signature: [Errno 2] No such file or directory: '/home/XXX/trace-modeling-oss-fuzz-c/trace_test/traces/sudoers_own/trace_fuzz_iosrc_json_exe/src_332.xml'\n",
      "Error generating signature: [Errno 2] No such file or directory: '/home/XXX/trace-modeling-oss-fuzz-c/trace_test/traces/sudoers_own/trace_fuzz_iosrc_json_exe/src_160.xml'\n",
      "Error generating signature: [Errno 2] No such file or directory: '/home/XXX/trace-modeling-oss-fuzz-c/trace_test/traces/sudoers_own/trace_fuzz_iosrc_json_exe/src_285.xml'\n",
      "Error generating signature: [Errno 2] No such file or directory: '/home/XXX/trace-modeling-oss-fuzz-c/trace_test/traces/sudoers_own/trace_fuzz_iosrc_json_exe/src_380.xml'\n",
      "Error generating signature: [Errno 2] No such file or directory: '/home/XXX/trace-modeling-oss-fuzz-c/trace_test/traces/sudoers_own/trace_fuzz_iosrc_json_exe/src_47.xml'\n",
      "Error generating signature: [Errno 2] No such file or directory: '/home/XXX/trace-modeling-oss-fuzz-c/trace_test/traces/sudoers_own/trace_fuzz_iosrc_json_exe/src_52.xml'\n",
      "Error generating signature: [Errno 2] No such file or directory: '/home/XXX/trace-modeling-oss-fuzz-c/trace_test/traces/sudoers_own/trace_fuzz_iosrc_json_exe/src_177.xml'\n",
      "Error generating signature: [Errno 2] No such file or directory: '/home/XXX/trace-modeling-oss-fuzz-c/trace_test/traces/sudoers_own/trace_fuzz_iosrc_json_exe/src_48.xml'\n",
      "Error generating signature: [Errno 2] No such file or directory: '/home/XXX/trace-modeling-oss-fuzz-c/trace_test/traces/sudoers_own/trace_fuzz_iosrc_json_exe/src_2.xml'\n",
      "Error generating signature: [Errno 2] No such file or directory: '/home/XXX/trace-modeling-oss-fuzz-c/trace_test/traces/sudoers_own/trace_fuzz_iosrc_json_exe/src_29.xml'\n",
      "Error generating signature: [Errno 2] No such file or directory: '/home/XXX/trace-modeling-oss-fuzz-c/trace_test/traces/sudoers_own/trace_fuzz_iosrc_json_exe/src_299.xml'\n",
      "Error generating signature: [Errno 2] No such file or directory: '/home/XXX/trace-modeling-oss-fuzz-c/trace_test/traces/sudoers_own/trace_fuzz_iosrc_json_exe/src_139.xml'\n",
      "Error generating signature: [Errno 2] No such file or directory: '/home/XXX/trace-modeling-oss-fuzz-c/trace_test/traces/sudoers_own/trace_fuzz_iosrc_json_exe/src_400.xml'\n",
      "Error generating signature: [Errno 2] No such file or directory: '/home/XXX/trace-modeling-oss-fuzz-c/trace_test/traces/sudoers_own/trace_fuzz_iosrc_json_exe/src_51.xml'\n",
      "Error generating signature: [Errno 2] No such file or directory: '/home/XXX/trace-modeling-oss-fuzz-c/trace_test/traces/sudoers_own/trace_fuzz_iosrc_json_exe/src_216.xml'\n",
      "Error generating signature: [Errno 2] No such file or directory: '/home/XXX/trace-modeling-oss-fuzz-c/trace_test/traces/sudoers_own/trace_fuzz_iosrc_json_exe/src_295.xml'\n",
      "Error generating signature: [Errno 2] No such file or directory: '/home/XXX/trace-modeling-oss-fuzz-c/trace_test/traces/sudoers_own/trace_fuzz_iosrc_json_exe/src_163.xml'\n",
      "Error generating signature: [Errno 2] No such file or directory: '/home/XXX/trace-modeling-oss-fuzz-c/trace_test/traces/sudoers_own/trace_fuzz_iosrc_json_exe/src_68.xml'\n",
      "Error generating signature: [Errno 2] No such file or directory: '/home/XXX/trace-modeling-oss-fuzz-c/trace_test/traces/sudoers_own/trace_fuzz_iosrc_json_exe/src_417.xml'\n",
      "Error generating signature: [Errno 2] No such file or directory: '/home/XXX/trace-modeling-oss-fuzz-c/trace_test/traces/sudoers_own/trace_fuzz_iosrc_json_exe/src_361.xml'\n",
      "Error generating signature: [Errno 2] No such file or directory: '/home/XXX/trace-modeling-oss-fuzz-c/trace_test/traces/sudoers_own/trace_fuzz_iosrc_json_exe/src_210.xml'\n",
      "Error generating signature: [Errno 2] No such file or directory: '/home/XXX/trace-modeling-oss-fuzz-c/trace_test/traces/sudoers_own/trace_fuzz_iosrc_json_exe/src_377.xml'\n",
      "Error generating signature: [Errno 2] No such file or directory: '/home/XXX/trace-modeling-oss-fuzz-c/trace_test/traces/sudoers_own/trace_fuzz_iosrc_json_exe/src_230.xml'\n",
      "Error generating signature: [Errno 2] No such file or directory: '/home/XXX/trace-modeling-oss-fuzz-c/trace_test/traces/sudoers_own/trace_fuzz_iosrc_json_exe/src_214.xml'\n",
      "Error generating signature: [Errno 2] No such file or directory: '/home/XXX/trace-modeling-oss-fuzz-c/trace_test/traces/sudoers_own/trace_fuzz_iosrc_json_exe/src_232.xml'\n",
      "Error generating signature: [Errno 2] No such file or directory: '/home/XXX/trace-modeling-oss-fuzz-c/trace_test/traces/sudoers_own/trace_fuzz_iosrc_json_exe/src_296.xml'\n",
      "Error generating signature: [Errno 2] No such file or directory: '/home/XXX/trace-modeling-oss-fuzz-c/trace_test/traces/sudoers_own/trace_fuzz_iosrc_json_exe/src_124.xml'\n",
      "Error generating signature: [Errno 2] No such file or directory: '/home/XXX/trace-modeling-oss-fuzz-c/trace_test/traces/sudoers_own/trace_fuzz_iosrc_json_exe/src_251.xml'\n",
      "Error generating signature: [Errno 2] No such file or directory: '/home/XXX/trace-modeling-oss-fuzz-c/trace_test/traces/sudoers_own/trace_fuzz_iosrc_json_exe/src_57.xml'\n",
      "Error generating signature: [Errno 2] No such file or directory: '/home/XXX/trace-modeling-oss-fuzz-c/trace_test/traces/sudoers_own/trace_fuzz_iosrc_json_exe/src_234.xml'\n",
      "Error generating signature: [Errno 2] No such file or directory: '/home/XXX/trace-modeling-oss-fuzz-c/trace_test/traces/sudoers_own/trace_fuzz_iosrc_json_exe/src_270.xml'\n",
      "Error generating signature: [Errno 2] No such file or directory: '/home/XXX/trace-modeling-oss-fuzz-c/trace_test/traces/sudoers_own/trace_fuzz_iosrc_json_exe/src_6.xml'\n",
      "Error generating signature: [Errno 2] No such file or directory: '/home/XXX/trace-modeling-oss-fuzz-c/trace_test/traces/sudoers_own/trace_fuzz_iosrc_json_exe/src_412.xml'\n",
      "Error generating signature: [Errno 2] No such file or directory: '/home/XXX/trace-modeling-oss-fuzz-c/trace_test/traces/sudoers_own/trace_fuzz_iosrc_json_exe/src_77.xml'\n",
      "Error generating signature: [Errno 2] No such file or directory: '/home/XXX/trace-modeling-oss-fuzz-c/trace_test/traces/sudoers_own/trace_fuzz_iosrc_json_exe/src_357.xml'\n",
      "Error generating signature: [Errno 2] No such file or directory: '/home/XXX/trace-modeling-oss-fuzz-c/trace_test/traces/sudoers_own/trace_fuzz_iosrc_json_exe/src_151.xml'\n",
      "Error generating signature: [Errno 2] No such file or directory: '/home/XXX/trace-modeling-oss-fuzz-c/trace_test/traces/sudoers_own/trace_fuzz_iosrc_json_exe/src_145.xml'\n",
      "Error generating signature: [Errno 2] No such file or directory: '/home/XXX/trace-modeling-oss-fuzz-c/trace_test/traces/sudoers_own/trace_fuzz_iosrc_json_exe/src_334.xml'\n",
      "Error generating signature: [Errno 2] No such file or directory: '/home/XXX/trace-modeling-oss-fuzz-c/trace_test/traces/sudoers_own/trace_fuzz_iosrc_json_exe/src_212.xml'\n",
      "Error generating signature: [Errno 2] No such file or directory: '/home/XXX/trace-modeling-oss-fuzz-c/trace_test/traces/sudoers_own/trace_fuzz_iosrc_json_exe/src_94.xml'\n",
      "Error generating signature: [Errno 2] No such file or directory: '/home/XXX/trace-modeling-oss-fuzz-c/trace_test/traces/sudoers_own/trace_fuzz_iosrc_json_exe/src_11.xml'\n",
      "Error generating signature: [Errno 2] No such file or directory: '/home/XXX/trace-modeling-oss-fuzz-c/trace_test/traces/sudoers_own/trace_fuzz_iosrc_json_exe/src_368.xml'\n",
      "Error generating signature: [Errno 2] No such file or directory: '/home/XXX/trace-modeling-oss-fuzz-c/trace_test/traces/sudoers_own/trace_fuzz_iosrc_json_exe/src_196.xml'\n",
      "Error generating signature: [Errno 2] No such file or directory: '/home/XXX/trace-modeling-oss-fuzz-c/trace_test/traces/sudoers_own/trace_fuzz_iosrc_json_exe/src_114.xml'\n",
      "Error generating signature: [Errno 2] No such file or directory: '/home/XXX/trace-modeling-oss-fuzz-c/trace_test/traces/sudoers_own/trace_fuzz_iosrc_json_exe/src_90.xml'\n",
      "Error generating signature: [Errno 2] No such file or directory: '/home/XXX/trace-modeling-oss-fuzz-c/trace_test/traces/sudoers_own/trace_fuzz_iosrc_json_exe/src_122.xml'\n",
      "Error generating signature: [Errno 2] No such file or directory: '/home/XXX/trace-modeling-oss-fuzz-c/trace_test/traces/sudoers_own/trace_fuzz_iosrc_json_exe/src_241.xml'\n",
      "Error generating signature: [Errno 2] No such file or directory: '/home/XXX/trace-modeling-oss-fuzz-c/trace_test/traces/sudoers_own/trace_fuzz_iosrc_json_exe/src_202.xml'\n",
      "Error generating signature: [Errno 2] No such file or directory: '/home/XXX/trace-modeling-oss-fuzz-c/trace_test/traces/sudoers_own/trace_fuzz_iosrc_json_exe/src_148.xml'\n",
      "Error generating signature: [Errno 2] No such file or directory: '/home/XXX/trace-modeling-oss-fuzz-c/trace_test/traces/sudoers_own/trace_fuzz_iosrc_json_exe/src_133.xml'\n",
      "Error generating signature: [Errno 2] No such file or directory: '/home/XXX/trace-modeling-oss-fuzz-c/trace_test/traces/sudoers_own/trace_fuzz_iosrc_json_exe/src_420.xml'\n",
      "Error generating signature: [Errno 2] No such file or directory: '/home/XXX/trace-modeling-oss-fuzz-c/trace_test/traces/sudoers_own/trace_fuzz_iosrc_json_exe/src_207.xml'\n",
      "Error generating signature: [Errno 2] No such file or directory: '/home/XXX/trace-modeling-oss-fuzz-c/trace_test/traces/sudoers_own/trace_fuzz_iosrc_json_exe/src_4.xml'\n",
      "Error generating signature: [Errno 2] No such file or directory: '/home/XXX/trace-modeling-oss-fuzz-c/trace_test/traces/sudoers_own/trace_fuzz_iosrc_json_exe/src_39.xml'\n",
      "Error generating signature: [Errno 2] No such file or directory: '/home/XXX/trace-modeling-oss-fuzz-c/trace_test/traces/sudoers_own/trace_fuzz_iosrc_json_exe/src_297.xml'\n",
      "Error generating signature: [Errno 2] No such file or directory: '/home/XXX/trace-modeling-oss-fuzz-c/trace_test/traces/sudoers_own/trace_fuzz_iosrc_json_exe/src_66.xml'\n",
      "Error generating signature: [Errno 2] No such file or directory: '/home/XXX/trace-modeling-oss-fuzz-c/trace_test/traces/sudoers_own/trace_fuzz_iosrc_json_exe/src_247.xml'\n",
      "Error generating signature: [Errno 2] No such file or directory: '/home/XXX/trace-modeling-oss-fuzz-c/trace_test/traces/sudoers_own/trace_fuzz_iosrc_json_exe/src_102.xml'\n",
      "Error generating signature: [Errno 2] No such file or directory: '/home/XXX/trace-modeling-oss-fuzz-c/trace_test/traces/sudoers_own/trace_fuzz_iosrc_json_exe/src_197.xml'\n",
      "Error generating signature: [Errno 2] No such file or directory: '/home/XXX/trace-modeling-oss-fuzz-c/trace_test/traces/sudoers_own/trace_fuzz_iosrc_json_exe/src_355.xml'\n",
      "Error generating signature: [Errno 2] No such file or directory: '/home/XXX/trace-modeling-oss-fuzz-c/trace_test/traces/sudoers_own/trace_fuzz_iosrc_json_exe/src_8.xml'\n",
      "Error generating signature: [Errno 2] No such file or directory: '/home/XXX/trace-modeling-oss-fuzz-c/trace_test/traces/sudoers_own/trace_fuzz_iosrc_json_exe/src_82.xml'\n",
      "Error generating signature: [Errno 2] No such file or directory: '/home/XXX/trace-modeling-oss-fuzz-c/trace_test/traces/sudoers_own/trace_fuzz_iosrc_json_exe/src_111.xml'\n",
      "\n",
      "Processed 26960/39034 files\n",
      "Current unique count: 419\n",
      "Error generating signature: [Errno 2] No such file or directory: '/home/XXX/trace-modeling-oss-fuzz-c/trace_test/traces/sudoers_own/trace_fuzz_iosrc_json_exe/src_126.xml'\n",
      "Error generating signature: [Errno 2] No such file or directory: '/home/XXX/trace-modeling-oss-fuzz-c/trace_test/traces/sudoers_own/trace_fuzz_iosrc_json_exe/src_84.xml'\n",
      "Error generating signature: [Errno 2] No such file or directory: '/home/XXX/trace-modeling-oss-fuzz-c/trace_test/traces/sudoers_own/trace_fuzz_iosrc_json_exe/src_335.xml'\n",
      "Error generating signature: [Errno 2] No such file or directory: '/home/XXX/trace-modeling-oss-fuzz-c/trace_test/traces/sudoers_own/trace_fuzz_iosrc_json_exe/src_195.xml'\n",
      "Error generating signature: [Errno 2] No such file or directory: '/home/XXX/trace-modeling-oss-fuzz-c/trace_test/traces/sudoers_own/trace_fuzz_iosrc_json_exe/src_301.xml'\n",
      "Error generating signature: [Errno 2] No such file or directory: '/home/XXX/trace-modeling-oss-fuzz-c/trace_test/traces/sudoers_own/trace_fuzz_iosrc_json_exe/src_16.xml'\n",
      "Error generating signature: [Errno 2] No such file or directory: '/home/XXX/trace-modeling-oss-fuzz-c/trace_test/traces/sudoers_own/trace_fuzz_iosrc_json_exe/src_429.xml'\n",
      "Error generating signature: [Errno 2] No such file or directory: '/home/XXX/trace-modeling-oss-fuzz-c/trace_test/traces/sudoers_own/trace_fuzz_iosrc_json_exe/src_267.xml'\n",
      "Error generating signature: [Errno 2] No such file or directory: '/home/XXX/trace-modeling-oss-fuzz-c/trace_test/traces/sudoers_own/trace_fuzz_iosrc_json_exe/src_305.xml'\n",
      "Error generating signature: [Errno 2] No such file or directory: '/home/XXX/trace-modeling-oss-fuzz-c/trace_test/traces/sudoers_own/trace_fuzz_iosrc_json_exe/src_186.xml'\n",
      "Error generating signature: [Errno 2] No such file or directory: '/home/XXX/trace-modeling-oss-fuzz-c/trace_test/traces/sudoers_own/trace_fuzz_iosrc_json_exe/src_419.xml'\n",
      "Error generating signature: [Errno 2] No such file or directory: '/home/XXX/trace-modeling-oss-fuzz-c/trace_test/traces/sudoers_own/trace_fuzz_iosrc_json_exe/src_321.xml'\n",
      "Error generating signature: [Errno 2] No such file or directory: '/home/XXX/trace-modeling-oss-fuzz-c/trace_test/traces/sudoers_own/trace_fuzz_iosrc_json_exe/src_337.xml'\n",
      "Error generating signature: [Errno 2] No such file or directory: '/home/XXX/trace-modeling-oss-fuzz-c/trace_test/traces/sudoers_own/trace_fuzz_iosrc_json_exe/src_273.xml'\n",
      "Error generating signature: [Errno 2] No such file or directory: '/home/XXX/trace-modeling-oss-fuzz-c/trace_test/traces/sudoers_own/trace_fuzz_iosrc_json_exe/src_58.xml'\n",
      "Error generating signature: [Errno 2] No such file or directory: '/home/XXX/trace-modeling-oss-fuzz-c/trace_test/traces/sudoers_own/trace_fuzz_iosrc_json_exe/src_374.xml'\n",
      "Error generating signature: [Errno 2] No such file or directory: '/home/XXX/trace-modeling-oss-fuzz-c/trace_test/traces/sudoers_own/trace_fuzz_iosrc_json_exe/src_346.xml'\n",
      "Error generating signature: [Errno 2] No such file or directory: '/home/XXX/trace-modeling-oss-fuzz-c/trace_test/traces/sudoers_own/trace_fuzz_iosrc_json_exe/src_190.xml'\n",
      "Error generating signature: [Errno 2] No such file or directory: '/home/XXX/trace-modeling-oss-fuzz-c/trace_test/traces/sudoers_own/trace_fuzz_iosrc_json_exe/src_367.xml'\n",
      "Error generating signature: [Errno 2] No such file or directory: '/home/XXX/trace-modeling-oss-fuzz-c/trace_test/traces/sudoers_own/trace_fuzz_iosrc_json_exe/src_18.xml'\n",
      "Error generating signature: [Errno 2] No such file or directory: '/home/XXX/trace-modeling-oss-fuzz-c/trace_test/traces/sudoers_own/trace_fuzz_iosrc_json_exe/src_79.xml'\n",
      "Error generating signature: [Errno 2] No such file or directory: '/home/XXX/trace-modeling-oss-fuzz-c/trace_test/traces/sudoers_own/trace_fuzz_iosrc_json_exe/src_35.xml'\n",
      "Error generating signature: [Errno 2] No such file or directory: '/home/XXX/trace-modeling-oss-fuzz-c/trace_test/traces/sudoers_own/trace_fuzz_iosrc_json_exe/src_362.xml'\n",
      "Error generating signature: [Errno 2] No such file or directory: '/home/XXX/trace-modeling-oss-fuzz-c/trace_test/traces/sudoers_own/trace_fuzz_iosrc_json_exe/src_259.xml'\n",
      "Error generating signature: [Errno 2] No such file or directory: '/home/XXX/trace-modeling-oss-fuzz-c/trace_test/traces/sudoers_own/trace_fuzz_iosrc_json_exe/src_97.xml'\n",
      "Error generating signature: [Errno 2] No such file or directory: '/home/XXX/trace-modeling-oss-fuzz-c/trace_test/traces/sudoers_own/trace_fuzz_iosrc_json_exe/src_358.xml'\n",
      "Error generating signature: [Errno 2] No such file or directory: '/home/XXX/trace-modeling-oss-fuzz-c/trace_test/traces/sudoers_own/trace_fuzz_iosrc_json_exe/src_249.xml'\n",
      "Error generating signature: [Errno 2] No such file or directory: '/home/XXX/trace-modeling-oss-fuzz-c/trace_test/traces/sudoers_own/trace_fuzz_iosrc_json_exe/src_307.xml'\n",
      "Error generating signature: [Errno 2] No such file or directory: '/home/XXX/trace-modeling-oss-fuzz-c/trace_test/traces/sudoers_own/trace_fuzz_iosrc_json_exe/src_423.xml'\n",
      "Error generating signature: [Errno 2] No such file or directory: '/home/XXX/trace-modeling-oss-fuzz-c/trace_test/traces/sudoers_own/trace_fuzz_iosrc_json_exe/src_154.xml'\n",
      "Error generating signature: [Errno 2] No such file or directory: '/home/XXX/trace-modeling-oss-fuzz-c/trace_test/traces/sudoers_own/trace_fuzz_iosrc_json_exe/src_326.xml'\n",
      "Error generating signature: [Errno 2] No such file or directory: '/home/XXX/trace-modeling-oss-fuzz-c/trace_test/traces/sudoers_own/trace_fuzz_iosrc_json_exe/src_56.xml'\n",
      "Error generating signature: [Errno 2] No such file or directory: '/home/XXX/trace-modeling-oss-fuzz-c/trace_test/traces/sudoers_own/trace_fuzz_iosrc_json_exe/src_407.xml'\n",
      "Error generating signature: [Errno 2] No such file or directory: '/home/XXX/trace-modeling-oss-fuzz-c/trace_test/traces/sudoers_own/trace_fuzz_iosrc_json_exe/src_138.xml'\n",
      "Error generating signature: [Errno 2] No such file or directory: '/home/XXX/trace-modeling-oss-fuzz-c/trace_test/traces/sudoers_own/trace_fuzz_iosrc_json_exe/src_50.xml'\n",
      "Error generating signature: [Errno 2] No such file or directory: '/home/XXX/trace-modeling-oss-fuzz-c/trace_test/traces/sudoers_own/trace_fuzz_iosrc_json_exe/src_235.xml'\n",
      "Error generating signature: [Errno 2] No such file or directory: '/home/XXX/trace-modeling-oss-fuzz-c/trace_test/traces/sudoers_own/trace_fuzz_iosrc_json_exe/src_55.xml'\n",
      "Error generating signature: [Errno 2] No such file or directory: '/home/XXX/trace-modeling-oss-fuzz-c/trace_test/traces/sudoers_own/trace_fuzz_iosrc_json_exe/src_339.xml'\n",
      "Error generating signature: [Errno 2] No such file or directory: '/home/XXX/trace-modeling-oss-fuzz-c/trace_test/traces/sudoers_own/trace_fuzz_iosrc_json_exe/src_224.xml'\n",
      "Error generating signature: [Errno 2] No such file or directory: '/home/XXX/trace-modeling-oss-fuzz-c/trace_test/traces/sudoers_own/trace_fuzz_iosrc_json_exe/src_7.xml'\n",
      "Error generating signature: [Errno 2] No such file or directory: '/home/XXX/trace-modeling-oss-fuzz-c/trace_test/traces/sudoers_own/trace_fuzz_iosrc_json_exe/src_95.xml'\n",
      "Error generating signature: [Errno 2] No such file or directory: '/home/XXX/trace-modeling-oss-fuzz-c/trace_test/traces/sudoers_own/trace_fuzz_iosrc_json_exe/src_432.xml'\n",
      "Error generating signature: [Errno 2] No such file or directory: '/home/XXX/trace-modeling-oss-fuzz-c/trace_test/traces/sudoers_own/trace_fuzz_iosrc_json_exe/src_74.xml'\n",
      "Error generating signature: [Errno 2] No such file or directory: '/home/XXX/trace-modeling-oss-fuzz-c/trace_test/traces/sudoers_own/trace_fuzz_iosrc_json_exe/src_390.xml'\n",
      "Error generating signature: [Errno 2] No such file or directory: '/home/XXX/trace-modeling-oss-fuzz-c/trace_test/traces/sudoers_own/trace_fuzz_iosrc_json_exe/src_328.xml'\n",
      "Error generating signature: [Errno 2] No such file or directory: '/home/XXX/trace-modeling-oss-fuzz-c/trace_test/traces/sudoers_own/trace_fuzz_iosrc_json_exe/src_379.xml'\n",
      "Error generating signature: [Errno 2] No such file or directory: '/home/XXX/trace-modeling-oss-fuzz-c/trace_test/traces/sudoers_own/trace_fuzz_iosrc_json_exe/src_9.xml'\n",
      "Error generating signature: [Errno 2] No such file or directory: '/home/XXX/trace-modeling-oss-fuzz-c/trace_test/traces/sudoers_own/trace_fuzz_iosrc_json_exe/src_23.xml'\n",
      "Error generating signature: [Errno 2] No such file or directory: '/home/XXX/trace-modeling-oss-fuzz-c/trace_test/traces/sudoers_own/trace_fuzz_iosrc_json_exe/src_278.xml'\n",
      "Error generating signature: [Errno 2] No such file or directory: '/home/XXX/trace-modeling-oss-fuzz-c/trace_test/traces/sudoers_own/trace_fuzz_iosrc_json_exe/src_414.xml'\n",
      "Error generating signature: [Errno 2] No such file or directory: '/home/XXX/trace-modeling-oss-fuzz-c/trace_test/traces/sudoers_own/trace_fuzz_iosrc_json_exe/src_201.xml'\n",
      "Error generating signature: [Errno 2] No such file or directory: '/home/XXX/trace-modeling-oss-fuzz-c/trace_test/traces/sudoers_own/trace_fuzz_iosrc_json_exe/src_156.xml'\n",
      "Error generating signature: [Errno 2] No such file or directory: '/home/XXX/trace-modeling-oss-fuzz-c/trace_test/traces/sudoers_own/trace_fuzz_iosrc_json_exe/src_382.xml'\n",
      "Error generating signature: [Errno 2] No such file or directory: '/home/XXX/trace-modeling-oss-fuzz-c/trace_test/traces/sudoers_own/trace_fuzz_iosrc_json_exe/src_406.xml'\n",
      "Error generating signature: [Errno 2] No such file or directory: '/home/XXX/trace-modeling-oss-fuzz-c/trace_test/traces/sudoers_own/trace_fuzz_iosrc_json_exe/src_353.xml'\n",
      "Error generating signature: [Errno 2] No such file or directory: '/home/XXX/trace-modeling-oss-fuzz-c/trace_test/traces/sudoers_own/trace_fuzz_iosrc_json_exe/src_59.xml'\n",
      "Error generating signature: [Errno 2] No such file or directory: '/home/XXX/trace-modeling-oss-fuzz-c/trace_test/traces/sudoers_own/trace_fuzz_iosrc_json_exe/src_444.xml'\n",
      "Error generating signature: [Errno 2] No such file or directory: '/home/XXX/trace-modeling-oss-fuzz-c/trace_test/traces/sudoers_own/trace_fuzz_iosrc_json_exe/src_396.xml'\n",
      "Error generating signature: [Errno 2] No such file or directory: '/home/XXX/trace-modeling-oss-fuzz-c/trace_test/traces/sudoers_own/trace_fuzz_iosrc_json_exe/src_131.xml'\n"
     ]
    },
    {
     "name": "stderr",
     "output_type": "stream",
     "text": [
      " 69%|██████▉   | 27042/39034 [52:07<00:13, 893.08it/s]"
     ]
    },
    {
     "name": "stdout",
     "output_type": "stream",
     "text": [
      "\n",
      "Processed 27040/39034 files\n",
      "Current unique count: 422\n",
      "Error generating signature: [Errno 2] No such file or directory: '/home/XXX/trace-modeling-oss-fuzz-c/trace_test/traces/bind9_own/trace_dns_message_parse_fuzzer_exe/src_1.xml'\n",
      "Error generating signature: [Errno 2] No such file or directory: '/home/XXX/trace-modeling-oss-fuzz-c/trace_test/traces/bind9_own/trace_dns_qp_fuzzer_exe_exe/src_0.xml'\n"
     ]
    },
    {
     "name": "stderr",
     "output_type": "stream",
     "text": [
      "Error processing source file: Source file not found: /home/XXX/trace-modeling-oss-fuzz-c/trace_test/traces/bind9_own/trace_dns_message_parse_fuzzer_exe/src_1.xml\n",
      "Error processing source file: Source file not found: /home/XXX/trace-modeling-oss-fuzz-c/trace_test/traces/bind9_own/trace_dns_qp_fuzzer_exe_exe/src_0.xml\n"
     ]
    },
    {
     "name": "stdout",
     "output_type": "stream",
     "text": [
      "Error generating signature: [Errno 2] No such file or directory: '/home/XXX/trace-modeling-oss-fuzz-c/trace_test/traces/bind9_own/trace_dns_qpkey_name_fuzzer_exe/src_30.xml'\n"
     ]
    },
    {
     "name": "stderr",
     "output_type": "stream",
     "text": [
      "Error processing source file: Source file not found: /home/XXX/trace-modeling-oss-fuzz-c/trace_test/traces/bind9_own/trace_dns_qpkey_name_fuzzer_exe/src_30.xml\n"
     ]
    },
    {
     "name": "stdout",
     "output_type": "stream",
     "text": [
      "\n",
      "Processed 27120/39034 files\n",
      "Current unique count: 427\n"
     ]
    },
    {
     "name": "stderr",
     "output_type": "stream",
     "text": [
      " 70%|██████▉   | 27145/39034 [52:23<04:58, 39.84it/s] Falling back to HTML parser for /home/XXX/trace-modeling-oss-fuzz-c/trace_test/traces/bind9_own/trace_dns_name_fromtext_target_fuzzer_exe_exe/log_2.xml\n",
      "Fatal error processing trace file /home/XXX/trace-modeling-oss-fuzz-c/trace_test/traces/bind9_own/trace_dns_name_fromtext_target_fuzzer_exe_exe/log_2.xml: 'NoneType' object has no attribute 'xpath'\n",
      "Falling back to HTML parser for /home/XXX/trace-modeling-oss-fuzz-c/trace_test/traces/bind9_own/trace_dns_name_fromwire_fuzzer_exe_exe/log_0.xml\n",
      "Falling back to HTML parser for /home/XXX/trace-modeling-oss-fuzz-c/trace_test/traces/bind9_own/trace_dns_name_fromwire_fuzzer_exe_exe/log_1.xml\n",
      "Fatal error processing trace file /home/XXX/trace-modeling-oss-fuzz-c/trace_test/traces/bind9_own/trace_dns_name_fromwire_fuzzer_exe_exe/log_1.xml: 'NoneType' object has no attribute 'xpath'\n",
      "Falling back to HTML parser for /home/XXX/trace-modeling-oss-fuzz-c/trace_test/traces/bind9_own/trace_dns_master_load_fuzzer_exe_exe/log_0.xml\n",
      "Falling back to HTML parser for /home/XXX/trace-modeling-oss-fuzz-c/trace_test/traces/bind9_own/trace_dns_message_checksig_fuzzer_exe_exe/log_2.xml\n",
      "Fatal error processing trace file /home/XXX/trace-modeling-oss-fuzz-c/trace_test/traces/bind9_own/trace_dns_message_checksig_fuzzer_exe_exe/log_2.xml: 'NoneType' object has no attribute 'xpath'\n",
      "Error processing source file: Source file not found: /home/XXX/trace-modeling-oss-fuzz-c/trace_test/traces/bind9_own/trace_dns_rdata_fromwire_text_fuzzer_exe/src_1.xml\n"
     ]
    },
    {
     "name": "stdout",
     "output_type": "stream",
     "text": [
      "Error generating signature: [Errno 2] No such file or directory: '/home/XXX/trace-modeling-oss-fuzz-c/trace_test/traces/bind9_own/trace_dns_rdata_fromwire_text_fuzzer_exe/src_1.xml'\n",
      "\n",
      "Processed 27200/39034 files\n",
      "Current unique count: 442\n"
     ]
    },
    {
     "name": "stderr",
     "output_type": "stream",
     "text": [
      " 70%|██████▉   | 27280/39034 [52:39<10:43, 18.26it/s]"
     ]
    },
    {
     "name": "stdout",
     "output_type": "stream",
     "text": [
      "\n",
      "Processed 27280/39034 files\n",
      "Current unique count: 442\n"
     ]
    },
    {
     "name": "stderr",
     "output_type": "stream",
     "text": [
      " 70%|███████   | 27367/39034 [52:45<11:55, 16.30it/s]"
     ]
    },
    {
     "name": "stdout",
     "output_type": "stream",
     "text": [
      "\n",
      "Processed 27360/39034 files\n",
      "Current unique count: 442\n"
     ]
    },
    {
     "name": "stderr",
     "output_type": "stream",
     "text": [
      " 70%|███████   | 27449/39034 [52:51<11:52, 16.25it/s]"
     ]
    },
    {
     "name": "stdout",
     "output_type": "stream",
     "text": [
      "\n",
      "Processed 27440/39034 files\n",
      "Current unique count: 442\n"
     ]
    },
    {
     "name": "stderr",
     "output_type": "stream",
     "text": [
      " 71%|███████   | 27530/39034 [52:58<16:16, 11.78it/s]"
     ]
    },
    {
     "name": "stdout",
     "output_type": "stream",
     "text": [
      "\n",
      "Processed 27520/39034 files\n",
      "Current unique count: 442\n"
     ]
    },
    {
     "name": "stderr",
     "output_type": "stream",
     "text": [
      " 71%|███████   | 27610/39034 [53:04<13:04, 14.56it/s]"
     ]
    },
    {
     "name": "stdout",
     "output_type": "stream",
     "text": [
      "\n",
      "Processed 27600/39034 files\n",
      "Current unique count: 442\n"
     ]
    },
    {
     "name": "stderr",
     "output_type": "stream",
     "text": [
      " 71%|███████   | 27689/39034 [53:19<31:19,  6.04it/s]"
     ]
    },
    {
     "name": "stdout",
     "output_type": "stream",
     "text": [
      "\n",
      "Processed 27680/39034 files\n",
      "Current unique count: 444\n"
     ]
    },
    {
     "name": "stderr",
     "output_type": "stream",
     "text": [
      " 71%|███████   | 27769/39034 [53:27<22:41,  8.28it/s]"
     ]
    },
    {
     "name": "stdout",
     "output_type": "stream",
     "text": [
      "\n",
      "Processed 27760/39034 files\n",
      "Current unique count: 444\n"
     ]
    },
    {
     "name": "stderr",
     "output_type": "stream",
     "text": [
      " 71%|███████   | 27775/39034 [53:28<26:57,  6.96it/s]Falling back to HTML parser for /home/XXX/trace-modeling-oss-fuzz-c/trace_test/traces/libdwarf_own/trace_fuzz_simplereader_tu_exe/log_2.xml\n",
      "Fatal error processing trace file /home/XXX/trace-modeling-oss-fuzz-c/trace_test/traces/libdwarf_own/trace_fuzz_simplereader_tu_exe/log_2.xml: 'NoneType' object has no attribute 'xpath'\n",
      " 71%|███████   | 27778/39034 [53:29<23:47,  7.89it/s]Falling back to HTML parser for /home/XXX/trace-modeling-oss-fuzz-c/trace_test/traces/libdwarf_own/trace_fuzz_str_offsets_exe/log_2.xml\n",
      "Fatal error processing trace file /home/XXX/trace-modeling-oss-fuzz-c/trace_test/traces/libdwarf_own/trace_fuzz_str_offsets_exe/log_2.xml: 'NoneType' object has no attribute 'xpath'\n",
      " 71%|███████▏  | 27849/39034 [53:37<20:36,  9.05it/s]"
     ]
    },
    {
     "name": "stdout",
     "output_type": "stream",
     "text": [
      "\n",
      "Processed 27840/39034 files\n",
      "Current unique count: 447\n"
     ]
    },
    {
     "name": "stderr",
     "output_type": "stream",
     "text": [
      " 71%|███████▏  | 27882/39034 [53:40<15:54, 11.68it/s]Falling back to HTML parser for /home/XXX/trace-modeling-oss-fuzz-c/trace_test/traces/libdwarf_own/trace_fuzz_stack_frame_access_exe/log_2.xml\n",
      "Fatal error processing trace file /home/XXX/trace-modeling-oss-fuzz-c/trace_test/traces/libdwarf_own/trace_fuzz_stack_frame_access_exe/log_2.xml: 'NoneType' object has no attribute 'xpath'\n",
      " 72%|███████▏  | 27929/39034 [53:45<18:30, 10.00it/s]"
     ]
    },
    {
     "name": "stdout",
     "output_type": "stream",
     "text": [
      "\n",
      "Processed 27920/39034 files\n",
      "Current unique count: 447\n"
     ]
    },
    {
     "name": "stderr",
     "output_type": "stream",
     "text": [
      " 72%|███████▏  | 27979/39034 [53:52<20:08,  9.15it/s]Falling back to HTML parser for /home/XXX/trace-modeling-oss-fuzz-c/trace_test/traces/libdwarf_own/trace_fuzz_showsectgrp_exe/log_2.xml\n",
      "Fatal error processing trace file /home/XXX/trace-modeling-oss-fuzz-c/trace_test/traces/libdwarf_own/trace_fuzz_showsectgrp_exe/log_2.xml: 'NoneType' object has no attribute 'xpath'\n",
      " 72%|███████▏  | 28008/39034 [54:00<59:36,  3.08it/s]  "
     ]
    },
    {
     "name": "stdout",
     "output_type": "stream",
     "text": [
      "\n",
      "Processed 28000/39034 files\n",
      "Current unique count: 447\n"
     ]
    },
    {
     "name": "stderr",
     "output_type": "stream",
     "text": [
      " 72%|███████▏  | 28041/39034 [54:09<29:27,  6.22it/s]  Falling back to HTML parser for /home/XXX/trace-modeling-oss-fuzz-c/trace_test/traces/libdwarf_own/trace_fuzz_tie_exe/log_2.xml\n",
      "Fatal error processing trace file /home/XXX/trace-modeling-oss-fuzz-c/trace_test/traces/libdwarf_own/trace_fuzz_tie_exe/log_2.xml: 'NoneType' object has no attribute 'xpath'\n",
      " 72%|███████▏  | 28089/39034 [54:18<31:19,  5.82it/s]"
     ]
    },
    {
     "name": "stdout",
     "output_type": "stream",
     "text": [
      "\n",
      "Processed 28080/39034 files\n",
      "Current unique count: 448\n"
     ]
    },
    {
     "name": "stderr",
     "output_type": "stream",
     "text": [
      " 72%|███████▏  | 28169/39034 [54:30<21:00,  8.62it/s]"
     ]
    },
    {
     "name": "stdout",
     "output_type": "stream",
     "text": [
      "\n",
      "Processed 28160/39034 files\n",
      "Current unique count: 448\n"
     ]
    },
    {
     "name": "stderr",
     "output_type": "stream",
     "text": [
      " 72%|███████▏  | 28250/39034 [54:40<16:54, 10.63it/s]"
     ]
    },
    {
     "name": "stdout",
     "output_type": "stream",
     "text": [
      "\n",
      "Processed 28240/39034 files\n",
      "Current unique count: 448\n"
     ]
    },
    {
     "name": "stderr",
     "output_type": "stream",
     "text": [
      " 73%|███████▎  | 28329/39034 [54:48<14:27, 12.34it/s]"
     ]
    },
    {
     "name": "stdout",
     "output_type": "stream",
     "text": [
      "\n",
      "Processed 28320/39034 files\n",
      "Current unique count: 448\n"
     ]
    },
    {
     "name": "stderr",
     "output_type": "stream",
     "text": [
      " 73%|███████▎  | 28410/39034 [54:53<09:24, 18.82it/s]"
     ]
    },
    {
     "name": "stdout",
     "output_type": "stream",
     "text": [
      "\n",
      "Processed 28400/39034 files\n",
      "Current unique count: 448\n"
     ]
    },
    {
     "name": "stderr",
     "output_type": "stream",
     "text": [
      " 73%|███████▎  | 28490/39034 [54:59<15:06, 11.63it/s]"
     ]
    },
    {
     "name": "stdout",
     "output_type": "stream",
     "text": [
      "\n",
      "Processed 28480/39034 files\n",
      "Current unique count: 448\n"
     ]
    },
    {
     "name": "stderr",
     "output_type": "stream",
     "text": [
      " 73%|███████▎  | 28570/39034 [55:06<10:30, 16.61it/s]"
     ]
    },
    {
     "name": "stdout",
     "output_type": "stream",
     "text": [
      "\n",
      "Processed 28560/39034 files\n",
      "Current unique count: 448\n"
     ]
    },
    {
     "name": "stderr",
     "output_type": "stream",
     "text": [
      " 73%|███████▎  | 28649/39034 [55:11<12:13, 14.16it/s]"
     ]
    },
    {
     "name": "stdout",
     "output_type": "stream",
     "text": [
      "\n",
      "Processed 28640/39034 files\n",
      "Current unique count: 448\n"
     ]
    },
    {
     "name": "stderr",
     "output_type": "stream",
     "text": [
      " 74%|███████▎  | 28729/39034 [55:16<09:02, 19.01it/s]"
     ]
    },
    {
     "name": "stdout",
     "output_type": "stream",
     "text": [
      "\n",
      "Processed 28720/39034 files\n",
      "Current unique count: 448\n"
     ]
    },
    {
     "name": "stderr",
     "output_type": "stream",
     "text": [
      " 74%|███████▍  | 28809/39034 [55:25<20:00,  8.52it/s]"
     ]
    },
    {
     "name": "stdout",
     "output_type": "stream",
     "text": [
      "\n",
      "Processed 28800/39034 files\n",
      "Current unique count: 449\n"
     ]
    },
    {
     "name": "stderr",
     "output_type": "stream",
     "text": [
      " 74%|███████▍  | 28890/39034 [55:35<19:03,  8.87it/s]"
     ]
    },
    {
     "name": "stdout",
     "output_type": "stream",
     "text": [
      "\n",
      "Processed 28880/39034 files\n",
      "Current unique count: 449\n"
     ]
    },
    {
     "name": "stderr",
     "output_type": "stream",
     "text": [
      " 74%|███████▍  | 28938/39034 [55:40<16:17, 10.33it/s]Falling back to HTML parser for /home/XXX/trace-modeling-oss-fuzz-c/trace_test/traces/libdwarf_own/trace_fuzz_xuindex_exe/log_2.xml\n",
      "Fatal error processing trace file /home/XXX/trace-modeling-oss-fuzz-c/trace_test/traces/libdwarf_own/trace_fuzz_xuindex_exe/log_2.xml: 'NoneType' object has no attribute 'xpath'\n",
      " 74%|███████▍  | 28969/39034 [55:42<09:27, 17.75it/s]"
     ]
    },
    {
     "name": "stdout",
     "output_type": "stream",
     "text": [
      "\n",
      "Processed 28960/39034 files\n",
      "Current unique count: 449\n"
     ]
    },
    {
     "name": "stderr",
     "output_type": "stream",
     "text": [
      " 74%|███████▍  | 29048/39034 [55:48<13:59, 11.90it/s]"
     ]
    },
    {
     "name": "stdout",
     "output_type": "stream",
     "text": [
      "\n",
      "Processed 29040/39034 files\n",
      "Current unique count: 449\n"
     ]
    },
    {
     "name": "stderr",
     "output_type": "stream",
     "text": [
      " 75%|███████▍  | 29129/39034 [55:54<14:16, 11.57it/s]"
     ]
    },
    {
     "name": "stdout",
     "output_type": "stream",
     "text": [
      "\n",
      "Processed 29120/39034 files\n",
      "Current unique count: 449\n"
     ]
    },
    {
     "name": "stderr",
     "output_type": "stream",
     "text": [
      " 75%|███████▍  | 29209/39034 [56:01<10:25, 15.70it/s]"
     ]
    },
    {
     "name": "stdout",
     "output_type": "stream",
     "text": [
      "\n",
      "Processed 29200/39034 files\n",
      "Current unique count: 449\n"
     ]
    },
    {
     "name": "stderr",
     "output_type": "stream",
     "text": [
      " 75%|███████▌  | 29290/39034 [56:07<15:40, 10.36it/s]"
     ]
    },
    {
     "name": "stdout",
     "output_type": "stream",
     "text": [
      "\n",
      "Processed 29280/39034 files\n",
      "Current unique count: 449\n"
     ]
    },
    {
     "name": "stderr",
     "output_type": "stream",
     "text": [
      " 75%|███████▌  | 29369/39034 [56:15<23:08,  6.96it/s]"
     ]
    },
    {
     "name": "stdout",
     "output_type": "stream",
     "text": [
      "\n",
      "Processed 29360/39034 files\n",
      "Current unique count: 449\n"
     ]
    },
    {
     "name": "stderr",
     "output_type": "stream",
     "text": [
      " 75%|███████▌  | 29445/39034 [56:24<18:28,  8.65it/s]Falling back to HTML parser for /home/XXX/trace-modeling-oss-fuzz-c/trace_test/traces/libdwarf_own/trace_fuzz_srcfiles_exe/log_2.xml\n",
      "Fatal error processing trace file /home/XXX/trace-modeling-oss-fuzz-c/trace_test/traces/libdwarf_own/trace_fuzz_srcfiles_exe/log_2.xml: 'NoneType' object has no attribute 'xpath'\n",
      " 75%|███████▌  | 29448/39034 [56:25<14:58, 10.67it/s]"
     ]
    },
    {
     "name": "stdout",
     "output_type": "stream",
     "text": [
      "\n",
      "Processed 29440/39034 files\n",
      "Current unique count: 449\n"
     ]
    },
    {
     "name": "stderr",
     "output_type": "stream",
     "text": [
      " 76%|███████▌  | 29529/39034 [56:35<21:43,  7.29it/s]"
     ]
    },
    {
     "name": "stdout",
     "output_type": "stream",
     "text": [
      "\n",
      "Processed 29520/39034 files\n",
      "Current unique count: 449\n"
     ]
    },
    {
     "name": "stderr",
     "output_type": "stream",
     "text": [
      " 76%|███████▌  | 29610/39034 [56:46<13:20, 11.78it/s]"
     ]
    },
    {
     "name": "stdout",
     "output_type": "stream",
     "text": [
      "\n",
      "Processed 29600/39034 files\n",
      "Current unique count: 449\n"
     ]
    },
    {
     "name": "stderr",
     "output_type": "stream",
     "text": [
      " 76%|███████▌  | 29691/39034 [56:53<11:13, 13.88it/s]"
     ]
    },
    {
     "name": "stdout",
     "output_type": "stream",
     "text": [
      "\n",
      "Processed 29680/39034 files\n",
      "Current unique count: 449\n"
     ]
    },
    {
     "name": "stderr",
     "output_type": "stream",
     "text": [
      " 76%|███████▋  | 29769/39034 [56:59<14:23, 10.73it/s]"
     ]
    },
    {
     "name": "stdout",
     "output_type": "stream",
     "text": [
      "\n",
      "Processed 29760/39034 files\n",
      "Current unique count: 449\n"
     ]
    },
    {
     "name": "stderr",
     "output_type": "stream",
     "text": [
      " 76%|███████▋  | 29849/39034 [57:07<17:27,  8.77it/s]"
     ]
    },
    {
     "name": "stdout",
     "output_type": "stream",
     "text": [
      "\n",
      "Processed 29840/39034 files\n",
      "Current unique count: 449\n"
     ]
    },
    {
     "name": "stderr",
     "output_type": "stream",
     "text": [
      " 77%|███████▋  | 29929/39034 [57:13<10:44, 14.12it/s]"
     ]
    },
    {
     "name": "stdout",
     "output_type": "stream",
     "text": [
      "\n",
      "Processed 29920/39034 files\n",
      "Current unique count: 449\n"
     ]
    },
    {
     "name": "stderr",
     "output_type": "stream",
     "text": [
      " 77%|███████▋  | 30010/39034 [57:19<12:24, 12.13it/s]"
     ]
    },
    {
     "name": "stdout",
     "output_type": "stream",
     "text": [
      "\n",
      "Processed 30000/39034 files\n",
      "Current unique count: 449\n"
     ]
    },
    {
     "name": "stderr",
     "output_type": "stream",
     "text": [
      " 77%|███████▋  | 30088/39034 [57:26<16:21,  9.12it/s]"
     ]
    },
    {
     "name": "stdout",
     "output_type": "stream",
     "text": [
      "\n",
      "Processed 30080/39034 files\n",
      "Current unique count: 450\n"
     ]
    },
    {
     "name": "stderr",
     "output_type": "stream",
     "text": [
      " 77%|███████▋  | 30168/39034 [57:34<16:28,  8.97it/s]"
     ]
    },
    {
     "name": "stdout",
     "output_type": "stream",
     "text": [
      "\n",
      "Processed 30160/39034 files\n",
      "Current unique count: 450\n"
     ]
    },
    {
     "name": "stderr",
     "output_type": "stream",
     "text": [
      " 77%|███████▋  | 30250/39034 [57:41<09:57, 14.70it/s]"
     ]
    },
    {
     "name": "stdout",
     "output_type": "stream",
     "text": [
      "\n",
      "Processed 30240/39034 files\n",
      "Current unique count: 450\n"
     ]
    },
    {
     "name": "stderr",
     "output_type": "stream",
     "text": [
      " 78%|███████▊  | 30330/39034 [57:47<11:21, 12.78it/s]"
     ]
    },
    {
     "name": "stdout",
     "output_type": "stream",
     "text": [
      "\n",
      "Processed 30320/39034 files\n",
      "Current unique count: 450\n"
     ]
    },
    {
     "name": "stderr",
     "output_type": "stream",
     "text": [
      " 78%|███████▊  | 30409/39034 [57:54<12:20, 11.65it/s]"
     ]
    },
    {
     "name": "stdout",
     "output_type": "stream",
     "text": [
      "\n",
      "Processed 30400/39034 files\n",
      "Current unique count: 450\n"
     ]
    },
    {
     "name": "stderr",
     "output_type": "stream",
     "text": [
      " 78%|███████▊  | 30489/39034 [58:05<23:53,  5.96it/s]"
     ]
    },
    {
     "name": "stdout",
     "output_type": "stream",
     "text": [
      "\n",
      "Processed 30480/39034 files\n",
      "Current unique count: 450\n"
     ]
    },
    {
     "name": "stderr",
     "output_type": "stream",
     "text": [
      " 78%|███████▊  | 30571/39034 [58:11<09:24, 15.00it/s]"
     ]
    },
    {
     "name": "stdout",
     "output_type": "stream",
     "text": [
      "\n",
      "Processed 30560/39034 files\n",
      "Current unique count: 450\n"
     ]
    },
    {
     "name": "stderr",
     "output_type": "stream",
     "text": [
      " 79%|███████▊  | 30649/39034 [58:17<09:28, 14.75it/s]"
     ]
    },
    {
     "name": "stdout",
     "output_type": "stream",
     "text": [
      "\n",
      "Processed 30640/39034 files\n",
      "Current unique count: 450\n"
     ]
    },
    {
     "name": "stderr",
     "output_type": "stream",
     "text": [
      " 79%|███████▊  | 30731/39034 [58:23<09:36, 14.40it/s]"
     ]
    },
    {
     "name": "stdout",
     "output_type": "stream",
     "text": [
      "\n",
      "Processed 30720/39034 files\n",
      "Current unique count: 450\n"
     ]
    },
    {
     "name": "stderr",
     "output_type": "stream",
     "text": [
      " 79%|███████▉  | 30810/39034 [58:29<10:42, 12.81it/s]"
     ]
    },
    {
     "name": "stdout",
     "output_type": "stream",
     "text": [
      "\n",
      "Processed 30800/39034 files\n",
      "Current unique count: 450\n"
     ]
    },
    {
     "name": "stderr",
     "output_type": "stream",
     "text": [
      " 79%|███████▉  | 30889/39034 [58:36<13:09, 10.32it/s]"
     ]
    },
    {
     "name": "stdout",
     "output_type": "stream",
     "text": [
      "\n",
      "Processed 30880/39034 files\n",
      "Current unique count: 450\n"
     ]
    },
    {
     "name": "stderr",
     "output_type": "stream",
     "text": [
      " 79%|███████▉  | 30919/39034 [58:38<10:19, 13.10it/s]Falling back to HTML parser for /home/XXX/trace-modeling-oss-fuzz-c/trace_test/traces/lua_own/trace_luaL_bufflen_test_exe/log_0.xml\n",
      "Fatal error processing trace file /home/XXX/trace-modeling-oss-fuzz-c/trace_test/traces/lua_own/trace_luaL_bufflen_test_exe/log_0.xml: 'NoneType' object has no attribute 'xpath'\n",
      " 79%|███████▉  | 30921/39034 [58:42<1:07:45,  2.00it/s]Error processing source file: Source file not found: /home/XXX/trace-modeling-oss-fuzz-c/trace_test/traces/lua_own/trace_lua_stringtonumber_test_exe/src_1.xml\n",
      "Error processing source file: Source file not found: /home/XXX/trace-modeling-oss-fuzz-c/trace_test/traces/lua_own/trace_luaL_traceback_test_exe/src_0.xml\n",
      "Error processing source file: Source file not found: /home/XXX/trace-modeling-oss-fuzz-c/trace_test/traces/lua_own/trace_luaL_addgsub_test_exe_exe_exe/src_0.xml\n",
      "Error processing source file: Source file not found: /home/XXX/trace-modeling-oss-fuzz-c/trace_test/traces/lua_own/trace_luaL_buffaddr_test_exe_exe/src_0.xml\n",
      "Error processing source file: Source file not found: /home/XXX/trace-modeling-oss-fuzz-c/trace_test/traces/lua_own/trace_fuzz_lua_exe_exe/src_0.xml\n",
      "Error processing source file: Source file not found: /home/XXX/trace-modeling-oss-fuzz-c/trace_test/traces/lua_own/trace_torture_test_exe_exe/src_0.xml\n"
     ]
    },
    {
     "name": "stdout",
     "output_type": "stream",
     "text": [
      "Error generating signature: [Errno 2] No such file or directory: '/home/XXX/trace-modeling-oss-fuzz-c/trace_test/traces/lua_own/trace_lua_stringtonumber_test_exe/src_1.xml'\n",
      "Error generating signature: [Errno 2] No such file or directory: '/home/XXX/trace-modeling-oss-fuzz-c/trace_test/traces/lua_own/trace_luaL_traceback_test_exe/src_0.xml'\n",
      "Error generating signature: [Errno 2] No such file or directory: '/home/XXX/trace-modeling-oss-fuzz-c/trace_test/traces/lua_own/trace_luaL_addgsub_test_exe_exe_exe/src_0.xml'\n",
      "Error generating signature: [Errno 2] No such file or directory: '/home/XXX/trace-modeling-oss-fuzz-c/trace_test/traces/lua_own/trace_luaL_buffaddr_test_exe_exe/src_0.xml'\n",
      "Error generating signature: [Errno 2] No such file or directory: '/home/XXX/trace-modeling-oss-fuzz-c/trace_test/traces/lua_own/trace_fuzz_lua_exe_exe/src_0.xml'\n",
      "Error generating signature: [Errno 2] No such file or directory: '/home/XXX/trace-modeling-oss-fuzz-c/trace_test/traces/lua_own/trace_torture_test_exe_exe/src_0.xml'\n"
     ]
    },
    {
     "name": "stderr",
     "output_type": "stream",
     "text": [
      " 79%|███████▉  | 30928/39034 [58:44<49:19,  2.74it/s]  Error processing source file: Source file not found: /home/XXX/trace-modeling-oss-fuzz-c/trace_test/traces/lua_own/trace_luaL_gsub_test_exe_exe_exe/src_1.xml\n",
      "Error processing source file: Source file not found: /home/XXX/trace-modeling-oss-fuzz-c/trace_test/traces/lua_own/trace_luaL_loadbuffer_proto_test_exe_exe/src_0.xml\n",
      "Error processing source file: Source file not found: /home/XXX/trace-modeling-oss-fuzz-c/trace_test/traces/lua_own/trace_fuzz_lua_exe/src_0.xml\n",
      "Falling back to HTML parser for /home/XXX/trace-modeling-oss-fuzz-c/trace_test/traces/lua_own/trace_luaL_gsub_test_exe/log_0.xml\n",
      "Fatal error processing trace file /home/XXX/trace-modeling-oss-fuzz-c/trace_test/traces/lua_own/trace_luaL_gsub_test_exe/log_0.xml: 'NoneType' object has no attribute 'xpath'\n"
     ]
    },
    {
     "name": "stdout",
     "output_type": "stream",
     "text": [
      "Error generating signature: [Errno 2] No such file or directory: '/home/XXX/trace-modeling-oss-fuzz-c/trace_test/traces/lua_own/trace_luaL_gsub_test_exe_exe_exe/src_1.xml'\n",
      "Error generating signature: [Errno 2] No such file or directory: '/home/XXX/trace-modeling-oss-fuzz-c/trace_test/traces/lua_own/trace_luaL_loadbuffer_proto_test_exe_exe/src_0.xml'\n",
      "Error generating signature: [Errno 2] No such file or directory: '/home/XXX/trace-modeling-oss-fuzz-c/trace_test/traces/lua_own/trace_fuzz_lua_exe/src_0.xml'\n"
     ]
    },
    {
     "name": "stderr",
     "output_type": "stream",
     "text": [
      " 79%|███████▉  | 30933/39034 [58:45<48:31,  2.78it/s]Error processing source file: Source file not found: /home/XXX/trace-modeling-oss-fuzz-c/trace_test/traces/lua_own/trace_luaL_gsub_test_exe_exe/src_1.xml\n",
      "Error processing source file: Source file not found: /home/XXX/trace-modeling-oss-fuzz-c/trace_test/traces/lua_own/trace_luaL_loadbufferx_test_exe/src_0.xml\n",
      "Error processing source file: Source file not found: /home/XXX/trace-modeling-oss-fuzz-c/trace_test/traces/lua_own/trace_luaL_loadbuffer_proto_test_exe_exe_exe/src_0.xml\n",
      "Error processing source file: Source file not found: /home/XXX/trace-modeling-oss-fuzz-c/trace_test/traces/lua_own/trace_luaL_loadbufferx_test_exe_exe/src_0.xml\n",
      "Error processing source file: Source file not found: /home/XXX/trace-modeling-oss-fuzz-c/trace_test/traces/lua_own/trace_luaL_bufflen_test_exe_exe/src_0.xml\n",
      "Error processing source file: Source file not found: /home/XXX/trace-modeling-oss-fuzz-c/trace_test/traces/lua_own/trace_luaL_bufflen_test_exe_exe_exe/src_0.xml\n",
      "Falling back to HTML parser for /home/XXX/trace-modeling-oss-fuzz-c/trace_test/traces/lua_own/trace_luaL_addgsub_test_exe/log_0.xml\n",
      "Fatal error processing trace file /home/XXX/trace-modeling-oss-fuzz-c/trace_test/traces/lua_own/trace_luaL_addgsub_test_exe/log_0.xml: 'NoneType' object has no attribute 'xpath'\n",
      "Error processing source file: Source file not found: /home/XXX/trace-modeling-oss-fuzz-c/trace_test/traces/lua_own/trace_lua_load_test_exe/src_0.xml\n",
      "Error processing source file: Source file not found: /home/XXX/trace-modeling-oss-fuzz-c/trace_test/traces/lua_own/trace_torture_test_exe/src_0.xml\n",
      "Error processing source file: Source file not found: /home/XXX/trace-modeling-oss-fuzz-c/trace_test/traces/lua_own/trace_luaL_buffsub_test_exe_exe/src_0.xml\n",
      "Error processing source file: Source file not found: /home/XXX/trace-modeling-oss-fuzz-c/trace_test/traces/lua_own/trace_lua_load_test_exe_exe/src_0.xml\n"
     ]
    },
    {
     "name": "stdout",
     "output_type": "stream",
     "text": [
      "Error generating signature: [Errno 2] No such file or directory: '/home/XXX/trace-modeling-oss-fuzz-c/trace_test/traces/lua_own/trace_luaL_gsub_test_exe_exe/src_1.xml'\n",
      "Error generating signature: [Errno 2] No such file or directory: '/home/XXX/trace-modeling-oss-fuzz-c/trace_test/traces/lua_own/trace_luaL_loadbufferx_test_exe/src_0.xml'\n",
      "Error generating signature: [Errno 2] No such file or directory: '/home/XXX/trace-modeling-oss-fuzz-c/trace_test/traces/lua_own/trace_luaL_loadbuffer_proto_test_exe_exe_exe/src_0.xml'\n",
      "Error generating signature: [Errno 2] No such file or directory: '/home/XXX/trace-modeling-oss-fuzz-c/trace_test/traces/lua_own/trace_luaL_loadbufferx_test_exe_exe/src_0.xml'\n",
      "Error generating signature: [Errno 2] No such file or directory: '/home/XXX/trace-modeling-oss-fuzz-c/trace_test/traces/lua_own/trace_luaL_bufflen_test_exe_exe/src_0.xml'\n",
      "Error generating signature: [Errno 2] No such file or directory: '/home/XXX/trace-modeling-oss-fuzz-c/trace_test/traces/lua_own/trace_luaL_bufflen_test_exe_exe_exe/src_0.xml'\n",
      "Error generating signature: [Errno 2] No such file or directory: '/home/XXX/trace-modeling-oss-fuzz-c/trace_test/traces/lua_own/trace_lua_load_test_exe/src_0.xml'\n",
      "Error generating signature: [Errno 2] No such file or directory: '/home/XXX/trace-modeling-oss-fuzz-c/trace_test/traces/lua_own/trace_torture_test_exe/src_0.xml'\n",
      "Error generating signature: [Errno 2] No such file or directory: '/home/XXX/trace-modeling-oss-fuzz-c/trace_test/traces/lua_own/trace_luaL_buffsub_test_exe_exe/src_0.xml'\n",
      "Error generating signature: [Errno 2] No such file or directory: '/home/XXX/trace-modeling-oss-fuzz-c/trace_test/traces/lua_own/trace_lua_load_test_exe_exe/src_0.xml'\n"
     ]
    },
    {
     "name": "stderr",
     "output_type": "stream",
     "text": [
      " 79%|███████▉  | 30945/39034 [58:47<32:25,  4.16it/s]Error processing source file: Source file not found: /home/XXX/trace-modeling-oss-fuzz-c/trace_test/traces/lua_own/trace_lua_stringtonumber_test_exe_exe/src_1.xml\n",
      "Falling back to HTML parser for /home/XXX/trace-modeling-oss-fuzz-c/trace_test/traces/lua_own/trace_luaL_loadbuffer_proto_test_exe/log_0.xml\n",
      "Fatal error processing trace file /home/XXX/trace-modeling-oss-fuzz-c/trace_test/traces/lua_own/trace_luaL_loadbuffer_proto_test_exe/log_0.xml: 'NoneType' object has no attribute 'xpath'\n",
      "Falling back to HTML parser for /home/XXX/trace-modeling-oss-fuzz-c/trace_test/traces/lua_own/trace_luaL_buffsub_test_exe/log_0.xml\n",
      "Fatal error processing trace file /home/XXX/trace-modeling-oss-fuzz-c/trace_test/traces/lua_own/trace_luaL_buffsub_test_exe/log_0.xml: 'NoneType' object has no attribute 'xpath'\n",
      "Error processing source file: Source file not found: /home/XXX/trace-modeling-oss-fuzz-c/trace_test/traces/lua_own/trace_luaL_addgsub_test_exe_exe/src_0.xml\n",
      "Error processing source file: Source file not found: /home/XXX/trace-modeling-oss-fuzz-c/trace_test/traces/lua_own/trace_luaL_buffaddr_test_exe_exe_exe/src_0.xml\n",
      "Error processing source file: Source file not found: /home/XXX/trace-modeling-oss-fuzz-c/trace_test/traces/lua_own/trace_luaL_buffsub_test_exe_exe_exe/src_0.xml\n",
      "Error processing source file: Source file not found: /home/XXX/trace-modeling-oss-fuzz-c/trace_test/traces/lua_own/trace_luaL_traceback_test_exe_exe/src_0.xml\n",
      "Falling back to HTML parser for /home/XXX/trace-modeling-oss-fuzz-c/trace_test/traces/lua_own/trace_luaL_buffaddr_test_exe/log_0.xml\n",
      "Fatal error processing trace file /home/XXX/trace-modeling-oss-fuzz-c/trace_test/traces/lua_own/trace_luaL_buffaddr_test_exe/log_0.xml: 'NoneType' object has no attribute 'xpath'\n",
      "Error processing source file: Source file not found: /home/XXX/trace-modeling-oss-fuzz-c/trace_test/traces/lua_own/trace_fuzz_lua_exe_exe_exe/src_0.xml\n",
      "Falling back to HTML parser for /home/XXX/trace-modeling-oss-fuzz-c/trace_test/traces/aspell_own/trace_aspell_fuzzer_exe/log_0.xml\n",
      "Falling back to HTML parser for /home/XXX/trace-modeling-oss-fuzz-c/trace_test/traces/aspell_own/trace_aspell_fuzzer_exe/log_1.xml\n",
      "Fatal error processing trace file /home/XXX/trace-modeling-oss-fuzz-c/trace_test/traces/aspell_own/trace_aspell_fuzzer_exe/log_1.xml: 'NoneType' object has no attribute 'xpath'\n",
      " 79%|███████▉  | 30957/39034 [58:47<18:33,  7.26it/s]"
     ]
    },
    {
     "name": "stdout",
     "output_type": "stream",
     "text": [
      "Error generating signature: [Errno 2] No such file or directory: '/home/XXX/trace-modeling-oss-fuzz-c/trace_test/traces/lua_own/trace_lua_stringtonumber_test_exe_exe/src_1.xml'\n",
      "Error generating signature: [Errno 2] No such file or directory: '/home/XXX/trace-modeling-oss-fuzz-c/trace_test/traces/lua_own/trace_luaL_addgsub_test_exe_exe/src_0.xml'\n",
      "Error generating signature: [Errno 2] No such file or directory: '/home/XXX/trace-modeling-oss-fuzz-c/trace_test/traces/lua_own/trace_luaL_buffaddr_test_exe_exe_exe/src_0.xml'\n",
      "Error generating signature: [Errno 2] No such file or directory: '/home/XXX/trace-modeling-oss-fuzz-c/trace_test/traces/lua_own/trace_luaL_buffsub_test_exe_exe_exe/src_0.xml'\n",
      "Error generating signature: [Errno 2] No such file or directory: '/home/XXX/trace-modeling-oss-fuzz-c/trace_test/traces/lua_own/trace_luaL_traceback_test_exe_exe/src_0.xml'\n",
      "Error generating signature: [Errno 2] No such file or directory: '/home/XXX/trace-modeling-oss-fuzz-c/trace_test/traces/lua_own/trace_fuzz_lua_exe_exe_exe/src_0.xml'\n"
     ]
    },
    {
     "name": "stderr",
     "output_type": "stream",
     "text": [
      "Falling back to HTML parser for /home/XXX/trace-modeling-oss-fuzz-c/trace_test/traces/libsndfile_own/trace_sndfile_alt_fuzzer_exe_exe/log_2.xml\n",
      "Fatal error processing trace file /home/XXX/trace-modeling-oss-fuzz-c/trace_test/traces/libsndfile_own/trace_sndfile_alt_fuzzer_exe_exe/log_2.xml: 'NoneType' object has no attribute 'xpath'\n",
      " 79%|███████▉  | 30968/39034 [58:56<1:11:55,  1.87it/s]"
     ]
    },
    {
     "name": "stdout",
     "output_type": "stream",
     "text": [
      "\n",
      "Processed 30960/39034 files\n",
      "Current unique count: 471\n"
     ]
    },
    {
     "name": "stderr",
     "output_type": "stream",
     "text": [
      " 79%|███████▉  | 30971/39034 [59:00<1:31:28,  1.47it/s]Falling back to HTML parser for /home/XXX/trace-modeling-oss-fuzz-c/trace_test/traces/libsndfile_own/trace_sndfile_fuzzer_exe_exe/log_2.xml\n",
      "Fatal error processing trace file /home/XXX/trace-modeling-oss-fuzz-c/trace_test/traces/libsndfile_own/trace_sndfile_fuzzer_exe_exe/log_2.xml: 'NoneType' object has no attribute 'xpath'\n",
      " 79%|███████▉  | 30985/39034 [59:09<1:23:59,  1.60it/s]Falling back to HTML parser for /home/XXX/trace-modeling-oss-fuzz-c/trace_test/traces/miniz_own/trace_compress_fuzzer_exe/log_1.xml\n",
      " 80%|███████▉  | 31035/39034 [59:10<02:39, 50.14it/s]  Falling back to HTML parser for /home/XXX/trace-modeling-oss-fuzz-c/trace_test/traces/miniz_own/trace_zip_fuzzer_exe/log_58.xml\n",
      " 80%|███████▉  | 31043/39034 [59:10<02:23, 55.52it/s]Falling back to HTML parser for /home/XXX/trace-modeling-oss-fuzz-c/trace_test/traces/miniz_own/trace_uncompress2_fuzzer_exe/log_0.xml\n"
     ]
    },
    {
     "name": "stdout",
     "output_type": "stream",
     "text": [
      "\n",
      "Processed 31040/39034 files\n",
      "Current unique count: 474\n"
     ]
    },
    {
     "name": "stderr",
     "output_type": "stream",
     "text": [
      " 80%|███████▉  | 31127/39034 [59:51<25:41,  5.13it/s]  "
     ]
    },
    {
     "name": "stdout",
     "output_type": "stream",
     "text": [
      "\n",
      "Processed 31120/39034 files\n",
      "Current unique count: 474\n"
     ]
    },
    {
     "name": "stderr",
     "output_type": "stream",
     "text": [
      " 80%|███████▉  | 31209/39034 [1:00:35<1:10:26,  1.85it/s]"
     ]
    },
    {
     "name": "stdout",
     "output_type": "stream",
     "text": [
      "\n",
      "Processed 31200/39034 files\n",
      "Current unique count: 474\n"
     ]
    },
    {
     "name": "stderr",
     "output_type": "stream",
     "text": [
      " 80%|████████  | 31288/39034 [1:01:23<54:07,  2.39it/s]  "
     ]
    },
    {
     "name": "stdout",
     "output_type": "stream",
     "text": [
      "\n",
      "Processed 31280/39034 files\n",
      "Current unique count: 474\n"
     ]
    },
    {
     "name": "stderr",
     "output_type": "stream",
     "text": [
      " 80%|████████  | 31369/39034 [1:02:06<54:21,  2.35it/s]  "
     ]
    },
    {
     "name": "stdout",
     "output_type": "stream",
     "text": [
      "\n",
      "Processed 31360/39034 files\n",
      "Current unique count: 474\n"
     ]
    },
    {
     "name": "stderr",
     "output_type": "stream",
     "text": [
      " 81%|████████  | 31448/39034 [1:02:41<1:16:51,  1.65it/s]"
     ]
    },
    {
     "name": "stdout",
     "output_type": "stream",
     "text": [
      "\n",
      "Processed 31440/39034 files\n",
      "Current unique count: 474\n"
     ]
    },
    {
     "name": "stderr",
     "output_type": "stream",
     "text": [
      " 81%|████████  | 31487/39034 [1:03:06<1:44:13,  1.21it/s]Falling back to HTML parser for /home/XXX/trace-modeling-oss-fuzz-c/trace_test/traces/miniz_own/trace_small_fuzzer_exe/log_1.xml\n",
      " 81%|████████  | 31490/39034 [1:03:06<58:07,  2.16it/s]  Falling back to HTML parser for /home/XXX/trace-modeling-oss-fuzz-c/trace_test/traces/miniz_own/trace_large_fuzzer_exe/log_1.xml\n",
      " 81%|████████  | 31492/39034 [1:03:06<43:21,  2.90it/s]Falling back to HTML parser for /home/XXX/trace-modeling-oss-fuzz-c/trace_test/traces/miniz_own/trace_uncompress_fuzzer_exe/log_0.xml\n",
      " 81%|████████  | 31493/39034 [1:03:07<51:16,  2.45it/s]Falling back to HTML parser for /home/XXX/trace-modeling-oss-fuzz-c/trace_test/traces/miniz_own/trace_flush_fuzzer_exe/log_7.xml\n",
      " 81%|████████  | 31503/39034 [1:03:07<15:52,  7.90it/s]Falling back to HTML parser for /home/XXX/trace-modeling-oss-fuzz-c/trace_test/traces/dbus-broker_own/trace_fuzz-message_exe_exe/log_2.xml\n",
      "Fatal error processing trace file /home/XXX/trace-modeling-oss-fuzz-c/trace_test/traces/dbus-broker_own/trace_fuzz-message_exe_exe/log_2.xml: 'NoneType' object has no attribute 'xpath'\n",
      "Falling back to HTML parser for /home/XXX/trace-modeling-oss-fuzz-c/trace_test/traces/rauc_own/trace_manifest_fuzzer_exe/log_0.xml\n",
      "Falling back to HTML parser for /home/XXX/trace-modeling-oss-fuzz-c/trace_test/traces/rauc_own/trace_manifest_fuzzer_exe/log_1.xml\n",
      "Fatal error processing trace file /home/XXX/trace-modeling-oss-fuzz-c/trace_test/traces/rauc_own/trace_manifest_fuzzer_exe/log_1.xml: 'NoneType' object has no attribute 'xpath'\n",
      "Falling back to HTML parser for /home/XXX/trace-modeling-oss-fuzz-c/trace_test/traces/rauc_own/trace_bundle_fuzzer_exe/log_0.xml\n",
      "Falling back to HTML parser for /home/XXX/trace-modeling-oss-fuzz-c/trace_test/traces/rauc_own/trace_bundle_fuzzer_exe/log_1.xml\n",
      "Fatal error processing trace file /home/XXX/trace-modeling-oss-fuzz-c/trace_test/traces/rauc_own/trace_bundle_fuzzer_exe/log_1.xml: 'NoneType' object has no attribute 'xpath'\n",
      " 81%|████████  | 31510/39034 [1:03:31<5:00:26,  2.40s/it]Error processing source file: Source file not found: /home/XXX/trace-modeling-oss-fuzz-c/trace_test/traces/liblouis_own/trace_table_fuzzer_exe/src_1.xml\n"
     ]
    },
    {
     "name": "stdout",
     "output_type": "stream",
     "text": [
      "Error generating signature: [Errno 2] No such file or directory: '/home/XXX/trace-modeling-oss-fuzz-c/trace_test/traces/liblouis_own/trace_table_fuzzer_exe/src_1.xml'\n"
     ]
    },
    {
     "name": "stderr",
     "output_type": "stream",
     "text": [
      " 81%|████████  | 31513/39034 [1:03:54<8:19:02,  3.98s/it]Error processing source file: Source file not found: /home/XXX/trace-modeling-oss-fuzz-c/trace_test/traces/liblouis_own/trace_table_fuzzer_exe_exe/src_1.xml\n"
     ]
    },
    {
     "name": "stdout",
     "output_type": "stream",
     "text": [
      "Error generating signature: [Errno 2] No such file or directory: '/home/XXX/trace-modeling-oss-fuzz-c/trace_test/traces/liblouis_own/trace_table_fuzzer_exe_exe/src_1.xml'\n"
     ]
    },
    {
     "name": "stderr",
     "output_type": "stream",
     "text": [
      " 81%|████████  | 31534/39034 [1:03:55<1:19:11,  1.58it/s]"
     ]
    },
    {
     "name": "stdout",
     "output_type": "stream",
     "text": [
      "\n",
      "Processed 31520/39034 files\n",
      "Current unique count: 486\n"
     ]
    },
    {
     "name": "stderr",
     "output_type": "stream",
     "text": [
      " 81%|████████  | 31614/39034 [1:03:57<03:07, 39.64it/s]  "
     ]
    },
    {
     "name": "stdout",
     "output_type": "stream",
     "text": [
      "\n",
      "Processed 31600/39034 files\n",
      "Current unique count: 486\n"
     ]
    },
    {
     "name": "stderr",
     "output_type": "stream",
     "text": [
      " 81%|████████  | 31697/39034 [1:03:59<02:49, 43.26it/s]"
     ]
    },
    {
     "name": "stdout",
     "output_type": "stream",
     "text": [
      "\n",
      "Processed 31680/39034 files\n",
      "Current unique count: 486\n"
     ]
    },
    {
     "name": "stderr",
     "output_type": "stream",
     "text": [
      " 81%|████████▏ | 31775/39034 [1:04:00<02:36, 46.33it/s]"
     ]
    },
    {
     "name": "stdout",
     "output_type": "stream",
     "text": [
      "\n",
      "Processed 31760/39034 files\n",
      "Current unique count: 486\n"
     ]
    },
    {
     "name": "stderr",
     "output_type": "stream",
     "text": [
      " 82%|████████▏ | 31854/39034 [1:04:02<02:43, 43.84it/s]"
     ]
    },
    {
     "name": "stdout",
     "output_type": "stream",
     "text": [
      "\n",
      "Processed 31840/39034 files\n",
      "Current unique count: 486\n"
     ]
    },
    {
     "name": "stderr",
     "output_type": "stream",
     "text": [
      " 82%|████████▏ | 31937/39034 [1:04:04<02:37, 45.06it/s]"
     ]
    },
    {
     "name": "stdout",
     "output_type": "stream",
     "text": [
      "\n",
      "Processed 31920/39034 files\n",
      "Current unique count: 486\n"
     ]
    },
    {
     "name": "stderr",
     "output_type": "stream",
     "text": [
      " 82%|████████▏ | 32012/39034 [1:04:06<02:59, 39.10it/s]"
     ]
    },
    {
     "name": "stdout",
     "output_type": "stream",
     "text": [
      "\n",
      "Processed 32000/39034 files\n",
      "Current unique count: 486\n"
     ]
    },
    {
     "name": "stderr",
     "output_type": "stream",
     "text": [
      " 82%|████████▏ | 32094/39034 [1:04:08<03:05, 37.41it/s]"
     ]
    },
    {
     "name": "stdout",
     "output_type": "stream",
     "text": [
      "\n",
      "Processed 32080/39034 files\n",
      "Current unique count: 486\n"
     ]
    },
    {
     "name": "stderr",
     "output_type": "stream",
     "text": [
      " 82%|████████▏ | 32174/39034 [1:04:10<02:36, 43.94it/s]"
     ]
    },
    {
     "name": "stdout",
     "output_type": "stream",
     "text": [
      "\n",
      "Processed 32160/39034 files\n",
      "Current unique count: 486\n"
     ]
    },
    {
     "name": "stderr",
     "output_type": "stream",
     "text": [
      " 83%|████████▎ | 32253/39034 [1:04:12<02:43, 41.49it/s]"
     ]
    },
    {
     "name": "stdout",
     "output_type": "stream",
     "text": [
      "\n",
      "Processed 32240/39034 files\n",
      "Current unique count: 486\n"
     ]
    },
    {
     "name": "stderr",
     "output_type": "stream",
     "text": [
      " 83%|████████▎ | 32334/39034 [1:04:14<02:27, 45.45it/s]"
     ]
    },
    {
     "name": "stdout",
     "output_type": "stream",
     "text": [
      "\n",
      "Processed 32320/39034 files\n",
      "Current unique count: 486\n"
     ]
    },
    {
     "name": "stderr",
     "output_type": "stream",
     "text": [
      " 83%|████████▎ | 32414/39034 [1:04:16<02:40, 41.15it/s]"
     ]
    },
    {
     "name": "stdout",
     "output_type": "stream",
     "text": [
      "\n",
      "Processed 32400/39034 files\n",
      "Current unique count: 486\n"
     ]
    },
    {
     "name": "stderr",
     "output_type": "stream",
     "text": [
      " 83%|████████▎ | 32492/39034 [1:04:17<02:24, 45.32it/s]"
     ]
    },
    {
     "name": "stdout",
     "output_type": "stream",
     "text": [
      "\n",
      "Processed 32480/39034 files\n",
      "Current unique count: 486\n"
     ]
    },
    {
     "name": "stderr",
     "output_type": "stream",
     "text": [
      " 83%|████████▎ | 32575/39034 [1:04:19<02:22, 45.40it/s]"
     ]
    },
    {
     "name": "stdout",
     "output_type": "stream",
     "text": [
      "\n",
      "Processed 32560/39034 files\n",
      "Current unique count: 486\n"
     ]
    },
    {
     "name": "stderr",
     "output_type": "stream",
     "text": [
      " 84%|████████▎ | 32652/39034 [1:04:21<02:43, 39.13it/s]"
     ]
    },
    {
     "name": "stdout",
     "output_type": "stream",
     "text": [
      "\n",
      "Processed 32640/39034 files\n",
      "Current unique count: 486\n"
     ]
    },
    {
     "name": "stderr",
     "output_type": "stream",
     "text": [
      " 84%|████████▍ | 32733/39034 [1:04:23<02:07, 49.52it/s]"
     ]
    },
    {
     "name": "stdout",
     "output_type": "stream",
     "text": [
      "\n",
      "Processed 32720/39034 files\n",
      "Current unique count: 486\n"
     ]
    },
    {
     "name": "stderr",
     "output_type": "stream",
     "text": [
      " 84%|████████▍ | 32814/39034 [1:04:25<02:38, 39.36it/s]"
     ]
    },
    {
     "name": "stdout",
     "output_type": "stream",
     "text": [
      "\n",
      "Processed 32800/39034 files\n",
      "Current unique count: 486\n"
     ]
    },
    {
     "name": "stderr",
     "output_type": "stream",
     "text": [
      " 84%|████████▍ | 32895/39034 [1:04:26<02:33, 39.89it/s]"
     ]
    },
    {
     "name": "stdout",
     "output_type": "stream",
     "text": [
      "\n",
      "Processed 32880/39034 files\n",
      "Current unique count: 486\n"
     ]
    },
    {
     "name": "stderr",
     "output_type": "stream",
     "text": [
      " 84%|████████▍ | 32950/39034 [1:04:28<02:30, 40.38it/s]Falling back to HTML parser for /home/XXX/trace-modeling-oss-fuzz-c/trace_test/traces/lighttpd_own/trace_fuzz_burl_exe_exe/log_2.xml\n",
      "Fatal error processing trace file /home/XXX/trace-modeling-oss-fuzz-c/trace_test/traces/lighttpd_own/trace_fuzz_burl_exe_exe/log_2.xml: 'NoneType' object has no attribute 'xpath'\n",
      "Falling back to HTML parser for /home/XXX/trace-modeling-oss-fuzz-c/trace_test/traces/ada-url_own/trace_parse_exe/log_0.xml\n",
      "Falling back to HTML parser for /home/XXX/trace-modeling-oss-fuzz-c/trace_test/traces/ada-url_own/trace_parse_exe/log_1.xml\n",
      "Fatal error processing trace file /home/XXX/trace-modeling-oss-fuzz-c/trace_test/traces/ada-url_own/trace_parse_exe/log_1.xml: 'NoneType' object has no attribute 'xpath'\n",
      " 84%|████████▍ | 32959/39034 [1:04:28<02:47, 36.22it/s]Falling back to HTML parser for /home/XXX/trace-modeling-oss-fuzz-c/trace_test/traces/ruby_own/trace_fuzz_ruby_gems_exe/log_2.xml\n",
      "Fatal error processing trace file /home/XXX/trace-modeling-oss-fuzz-c/trace_test/traces/ruby_own/trace_fuzz_ruby_gems_exe/log_2.xml: 'NoneType' object has no attribute 'xpath'\n",
      "Error processing source file: Source file not found: /home/XXX/trace-modeling-oss-fuzz-c/trace_test/traces/libyang_own/trace_lyd_parse_mem_xml_exe/src_0.xml\n",
      "Error processing source file: Source file not found: /home/XXX/trace-modeling-oss-fuzz-c/trace_test/traces/libyang_own/trace_lyd_parse_mem_json_exe/src_0.xml\n",
      "Error processing source file: Source file not found: /home/XXX/trace-modeling-oss-fuzz-c/trace_test/traces/libyang_own/trace_lyd_parse_mem_json_exe_exe/src_0.xml\n",
      "Error processing source file: Source file not found: /home/XXX/trace-modeling-oss-fuzz-c/trace_test/traces/libyang_own/trace_lys_parse_mem_exe_exe/src_0.xml\n",
      "Error processing source file: Source file not found: /home/XXX/trace-modeling-oss-fuzz-c/trace_test/traces/libyang_own/trace_lyd_parse_mem_xml_exe_exe/src_0.xml\n",
      "Error processing source file: Source file not found: /home/XXX/trace-modeling-oss-fuzz-c/trace_test/traces/libyang_own/trace_lys_parse_mem_exe/src_0.xml\n",
      "Falling back to HTML parser for /home/XXX/trace-modeling-oss-fuzz-c/trace_test/traces/vlc_own/trace_vlc-demux-dec-libfuzzer_exe/log_0.xml\n",
      " 84%|████████▍ | 32968/39034 [1:04:28<02:35, 39.10it/s]"
     ]
    },
    {
     "name": "stdout",
     "output_type": "stream",
     "text": [
      "Error generating signature: [Errno 2] No such file or directory: '/home/XXX/trace-modeling-oss-fuzz-c/trace_test/traces/libyang_own/trace_lyd_parse_mem_xml_exe/src_0.xml'\n",
      "Error generating signature: [Errno 2] No such file or directory: '/home/XXX/trace-modeling-oss-fuzz-c/trace_test/traces/libyang_own/trace_lyd_parse_mem_json_exe/src_0.xml'\n",
      "Error generating signature: [Errno 2] No such file or directory: '/home/XXX/trace-modeling-oss-fuzz-c/trace_test/traces/libyang_own/trace_lyd_parse_mem_json_exe_exe/src_0.xml'\n",
      "Error generating signature: [Errno 2] No such file or directory: '/home/XXX/trace-modeling-oss-fuzz-c/trace_test/traces/libyang_own/trace_lys_parse_mem_exe_exe/src_0.xml'\n",
      "Error generating signature: [Errno 2] No such file or directory: '/home/XXX/trace-modeling-oss-fuzz-c/trace_test/traces/libyang_own/trace_lyd_parse_mem_xml_exe_exe/src_0.xml'\n",
      "Error generating signature: [Errno 2] No such file or directory: '/home/XXX/trace-modeling-oss-fuzz-c/trace_test/traces/libyang_own/trace_lys_parse_mem_exe/src_0.xml'\n",
      "\n",
      "Processed 32960/39034 files\n",
      "Current unique count: 488\n"
     ]
    },
    {
     "name": "stderr",
     "output_type": "stream",
     "text": [
      "Falling back to HTML parser for /home/XXX/trace-modeling-oss-fuzz-c/trace_test/traces/vlc_own/trace_vlc-demux-libfuzzer_exe/log_0.xml\n",
      " 85%|████████▍ | 33058/39034 [1:04:30<01:24, 70.86it/s]"
     ]
    },
    {
     "name": "stdout",
     "output_type": "stream",
     "text": [
      "\n",
      "Processed 33040/39034 files\n",
      "Current unique count: 491\n"
     ]
    },
    {
     "name": "stderr",
     "output_type": "stream",
     "text": [
      " 85%|████████▍ | 33066/39034 [1:04:30<01:25, 69.44it/s]Error processing source file: Source file not found: /home/XXX/trace-modeling-oss-fuzz-c/trace_test/traces/unbound_own/trace_fuzz_4_fuzzer_exe/src_0.xml\n",
      " 85%|████████▍ | 33074/39034 [1:04:30<01:25, 69.47it/s]Error processing source file: Source file not found: /home/XXX/trace-modeling-oss-fuzz-c/trace_test/traces/unbound_own/trace_fuzz_3_fuzzer_exe/src_1.xml\n"
     ]
    },
    {
     "name": "stdout",
     "output_type": "stream",
     "text": [
      "Error generating signature: [Errno 2] No such file or directory: '/home/XXX/trace-modeling-oss-fuzz-c/trace_test/traces/unbound_own/trace_fuzz_4_fuzzer_exe/src_0.xml'\n",
      "Error generating signature: [Errno 2] No such file or directory: '/home/XXX/trace-modeling-oss-fuzz-c/trace_test/traces/unbound_own/trace_fuzz_3_fuzzer_exe/src_1.xml'\n"
     ]
    },
    {
     "name": "stderr",
     "output_type": "stream",
     "text": [
      " 85%|████████▍ | 33088/39034 [1:04:32<04:47, 20.68it/s]Error processing source file: Source file not found: /home/XXX/trace-modeling-oss-fuzz-c/trace_test/traces/unbound_own/trace_fuzz_2_fuzzer_exe/src_3.xml\n"
     ]
    },
    {
     "name": "stdout",
     "output_type": "stream",
     "text": [
      "Error generating signature: [Errno 2] No such file or directory: '/home/XXX/trace-modeling-oss-fuzz-c/trace_test/traces/unbound_own/trace_fuzz_2_fuzzer_exe/src_3.xml'\n"
     ]
    },
    {
     "name": "stderr",
     "output_type": "stream",
     "text": [
      " 85%|████████▍ | 33097/39034 [1:04:34<11:08,  8.88it/s]Falling back to HTML parser for /home/XXX/trace-modeling-oss-fuzz-c/trace_test/traces/libmodbus_own/trace_FuzzClient_exe/log_6.xml\n",
      " 85%|████████▍ | 33100/39034 [1:04:34<11:31,  8.59it/s]Falling back to HTML parser for /home/XXX/trace-modeling-oss-fuzz-c/trace_test/traces/libmodbus_own/trace_FuzzServer_exe_exe/log_2.xml\n",
      "Fatal error processing trace file /home/XXX/trace-modeling-oss-fuzz-c/trace_test/traces/libmodbus_own/trace_FuzzServer_exe_exe/log_2.xml: 'NoneType' object has no attribute 'xpath'\n",
      "Falling back to HTML parser for /home/XXX/trace-modeling-oss-fuzz-c/trace_test/traces/libmodbus_own/trace_FuzzClient_exe_exe/log_2.xml\n",
      "Fatal error processing trace file /home/XXX/trace-modeling-oss-fuzz-c/trace_test/traces/libmodbus_own/trace_FuzzClient_exe_exe/log_2.xml: 'NoneType' object has no attribute 'xpath'\n",
      "Falling back to HTML parser for /home/XXX/trace-modeling-oss-fuzz-c/trace_test/traces/libmodbus_own/trace_FuzzServer_exe/log_9.xml\n",
      " 85%|████████▍ | 33117/39034 [1:04:34<05:46, 17.10it/s]Falling back to HTML parser for /home/XXX/trace-modeling-oss-fuzz-c/trace_test/traces/open5gs_own/trace_gtp_message_fuzz_exe/log_0.xml\n",
      "Falling back to HTML parser for /home/XXX/trace-modeling-oss-fuzz-c/trace_test/traces/open5gs_own/trace_gtp_message_fuzz_exe/log_1.xml\n",
      "Fatal error processing trace file /home/XXX/trace-modeling-oss-fuzz-c/trace_test/traces/open5gs_own/trace_gtp_message_fuzz_exe/log_1.xml: 'NoneType' object has no attribute 'xpath'\n",
      "Falling back to HTML parser for /home/XXX/trace-modeling-oss-fuzz-c/trace_test/traces/open5gs_own/trace_nas_message_fuzz_exe/log_0.xml\n",
      "Falling back to HTML parser for /home/XXX/trace-modeling-oss-fuzz-c/trace_test/traces/open5gs_own/trace_nas_message_fuzz_exe/log_1.xml\n",
      "Fatal error processing trace file /home/XXX/trace-modeling-oss-fuzz-c/trace_test/traces/open5gs_own/trace_nas_message_fuzz_exe/log_1.xml: 'NoneType' object has no attribute 'xpath'\n",
      " 85%|████████▍ | 33122/39034 [1:04:34<05:28, 17.97it/s]Falling back to HTML parser for /home/XXX/trace-modeling-oss-fuzz-c/trace_test/traces/spdk_own/trace_parse_json_fuzzer_exe_exe/log_2.xml\n",
      "Fatal error processing trace file /home/XXX/trace-modeling-oss-fuzz-c/trace_test/traces/spdk_own/trace_parse_json_fuzzer_exe_exe/log_2.xml: 'NoneType' object has no attribute 'xpath'\n",
      " 85%|████████▍ | 33145/39034 [1:04:35<02:41, 36.42it/s]"
     ]
    },
    {
     "name": "stdout",
     "output_type": "stream",
     "text": [
      "\n",
      "Processed 33120/39034 files\n",
      "Current unique count: 500\n"
     ]
    },
    {
     "name": "stderr",
     "output_type": "stream",
     "text": [
      " 85%|████████▌ | 33224/39034 [1:04:35<01:02, 92.31it/s]"
     ]
    },
    {
     "name": "stdout",
     "output_type": "stream",
     "text": [
      "\n",
      "Processed 33200/39034 files\n",
      "Current unique count: 500\n"
     ]
    },
    {
     "name": "stderr",
     "output_type": "stream",
     "text": [
      " 85%|████████▌ | 33308/39034 [1:04:36<00:51, 111.64it/s]"
     ]
    },
    {
     "name": "stdout",
     "output_type": "stream",
     "text": [
      "\n",
      "Processed 33280/39034 files\n",
      "Current unique count: 500\n"
     ]
    },
    {
     "name": "stderr",
     "output_type": "stream",
     "text": [
      " 86%|████████▌ | 33382/39034 [1:04:37<00:47, 118.10it/s]"
     ]
    },
    {
     "name": "stdout",
     "output_type": "stream",
     "text": [
      "\n",
      "Processed 33360/39034 files\n",
      "Current unique count: 500\n"
     ]
    },
    {
     "name": "stderr",
     "output_type": "stream",
     "text": [
      " 86%|████████▌ | 33460/39034 [1:04:38<00:49, 112.08it/s]"
     ]
    },
    {
     "name": "stdout",
     "output_type": "stream",
     "text": [
      "\n",
      "Processed 33440/39034 files\n",
      "Current unique count: 500\n"
     ]
    },
    {
     "name": "stderr",
     "output_type": "stream",
     "text": [
      " 86%|████████▌ | 33544/39034 [1:04:38<00:50, 109.28it/s]"
     ]
    },
    {
     "name": "stdout",
     "output_type": "stream",
     "text": [
      "\n",
      "Processed 33520/39034 files\n",
      "Current unique count: 500\n"
     ]
    },
    {
     "name": "stderr",
     "output_type": "stream",
     "text": [
      " 86%|████████▌ | 33621/39034 [1:04:39<00:46, 116.73it/s]"
     ]
    },
    {
     "name": "stdout",
     "output_type": "stream",
     "text": [
      "\n",
      "Processed 33600/39034 files\n",
      "Current unique count: 500\n"
     ]
    },
    {
     "name": "stderr",
     "output_type": "stream",
     "text": [
      " 86%|████████▋ | 33705/39034 [1:04:40<00:50, 106.10it/s]"
     ]
    },
    {
     "name": "stdout",
     "output_type": "stream",
     "text": [
      "\n",
      "Processed 33680/39034 files\n",
      "Current unique count: 500\n"
     ]
    },
    {
     "name": "stderr",
     "output_type": "stream",
     "text": [
      " 87%|████████▋ | 33777/39034 [1:04:40<00:52, 99.99it/s] "
     ]
    },
    {
     "name": "stdout",
     "output_type": "stream",
     "text": [
      "\n",
      "Processed 33760/39034 files\n",
      "Current unique count: 500\n"
     ]
    },
    {
     "name": "stderr",
     "output_type": "stream",
     "text": [
      " 87%|████████▋ | 33844/39034 [1:04:41<00:54, 94.37it/s] Falling back to HTML parser for /home/XXX/trace-modeling-oss-fuzz-c/trace_test/traces/assimp_own/trace_assimp_fuzzer_exe/log_0.xml\n",
      "Falling back to HTML parser for /home/XXX/trace-modeling-oss-fuzz-c/trace_test/traces/assimp_own/trace_assimp_fuzzer_exe/log_1.xml\n",
      "Fatal error processing trace file /home/XXX/trace-modeling-oss-fuzz-c/trace_test/traces/assimp_own/trace_assimp_fuzzer_exe/log_1.xml: 'NoneType' object has no attribute 'xpath'\n",
      "Falling back to HTML parser for /home/XXX/trace-modeling-oss-fuzz-c/trace_test/traces/llhttp_own/trace_fuzz_parser_exe_exe/log_2.xml\n",
      "Fatal error processing trace file /home/XXX/trace-modeling-oss-fuzz-c/trace_test/traces/llhttp_own/trace_fuzz_parser_exe_exe/log_2.xml: 'NoneType' object has no attribute 'xpath'\n"
     ]
    },
    {
     "name": "stdout",
     "output_type": "stream",
     "text": [
      "\n",
      "Processed 33840/39034 files\n",
      "Current unique count: 500\n"
     ]
    },
    {
     "name": "stderr",
     "output_type": "stream",
     "text": [
      " 87%|████████▋ | 33870/39034 [1:04:49<16:23,  5.25it/s]Error processing source file: Source file not found: /home/XXX/trace-modeling-oss-fuzz-c/trace_test/traces/pupnp_own/trace_FuzzIxml_exe/src_18.xml\n",
      "Falling back to HTML parser for /home/XXX/trace-modeling-oss-fuzz-c/trace_test/traces/libfuse_own/trace_fuzz_optparse_exe/log_0.xml\n",
      "Falling back to HTML parser for /home/XXX/trace-modeling-oss-fuzz-c/trace_test/traces/libfuse_own/trace_fuzz_optparse_exe/log_1.xml\n",
      "Fatal error processing trace file /home/XXX/trace-modeling-oss-fuzz-c/trace_test/traces/libfuse_own/trace_fuzz_optparse_exe/log_1.xml: 'NoneType' object has no attribute 'xpath'\n",
      "Falling back to HTML parser for /home/XXX/trace-modeling-oss-fuzz-c/trace_test/traces/plan9port_own/trace_fuzz_libsec_exe/log_0.xml\n",
      "Falling back to HTML parser for /home/XXX/trace-modeling-oss-fuzz-c/trace_test/traces/plan9port_own/trace_fuzz_libsec_exe/log_1.xml\n",
      "Fatal error processing trace file /home/XXX/trace-modeling-oss-fuzz-c/trace_test/traces/plan9port_own/trace_fuzz_libsec_exe/log_1.xml: 'NoneType' object has no attribute 'xpath'\n",
      "Falling back to HTML parser for /home/XXX/trace-modeling-oss-fuzz-c/trace_test/traces/arduinojson_own/trace_msgpack_fuzzer_exe/log_0.xml\n",
      "Falling back to HTML parser for /home/XXX/trace-modeling-oss-fuzz-c/trace_test/traces/arduinojson_own/trace_msgpack_fuzzer_exe/log_1.xml\n",
      "Fatal error processing trace file /home/XXX/trace-modeling-oss-fuzz-c/trace_test/traces/arduinojson_own/trace_msgpack_fuzzer_exe/log_1.xml: 'NoneType' object has no attribute 'xpath'\n",
      "Falling back to HTML parser for /home/XXX/trace-modeling-oss-fuzz-c/trace_test/traces/arduinojson_own/trace_json_fuzzer_exe_exe/log_0.xml\n",
      "Falling back to HTML parser for /home/XXX/trace-modeling-oss-fuzz-c/trace_test/traces/arduinojson_own/trace_json_fuzzer_exe_exe/log_1.xml\n",
      "Fatal error processing trace file /home/XXX/trace-modeling-oss-fuzz-c/trace_test/traces/arduinojson_own/trace_json_fuzzer_exe_exe/log_1.xml: 'NoneType' object has no attribute 'xpath'\n",
      "Falling back to HTML parser for /home/XXX/trace-modeling-oss-fuzz-c/trace_test/traces/arduinojson_own/trace_json_fuzzer_exe/log_0.xml\n",
      "Falling back to HTML parser for /home/XXX/trace-modeling-oss-fuzz-c/trace_test/traces/arduinojson_own/trace_json_fuzzer_exe/log_1.xml\n",
      "Fatal error processing trace file /home/XXX/trace-modeling-oss-fuzz-c/trace_test/traces/arduinojson_own/trace_json_fuzzer_exe/log_1.xml: 'NoneType' object has no attribute 'xpath'\n",
      "Falling back to HTML parser for /home/XXX/trace-modeling-oss-fuzz-c/trace_test/traces/arduinojson_own/trace_msgpack_fuzzer_exe_exe/log_0.xml\n",
      "Falling back to HTML parser for /home/XXX/trace-modeling-oss-fuzz-c/trace_test/traces/arduinojson_own/trace_msgpack_fuzzer_exe_exe/log_1.xml\n",
      "Fatal error processing trace file /home/XXX/trace-modeling-oss-fuzz-c/trace_test/traces/arduinojson_own/trace_msgpack_fuzzer_exe_exe/log_1.xml: 'NoneType' object has no attribute 'xpath'\n"
     ]
    },
    {
     "name": "stdout",
     "output_type": "stream",
     "text": [
      "Error generating signature: [Errno 2] No such file or directory: '/home/XXX/trace-modeling-oss-fuzz-c/trace_test/traces/pupnp_own/trace_FuzzIxml_exe/src_18.xml'\n"
     ]
    },
    {
     "name": "stderr",
     "output_type": "stream",
     "text": [
      " 87%|████████▋ | 33894/39034 [1:04:57<31:11,  2.75it/s]Falling back to HTML parser for /home/XXX/trace-modeling-oss-fuzz-c/trace_test/traces/cups_own/trace_FuzzCUPS_exe/log_0.xml\n",
      " 87%|████████▋ | 33896/39034 [1:04:58<31:51,  2.69it/s]Falling back to HTML parser for /home/XXX/trace-modeling-oss-fuzz-c/trace_test/traces/cups_own/trace_FuzzCUPS_exe/log_1.xml\n",
      "Fatal error processing trace file /home/XXX/trace-modeling-oss-fuzz-c/trace_test/traces/cups_own/trace_FuzzCUPS_exe/log_1.xml: 'NoneType' object has no attribute 'xpath'\n",
      "Falling back to HTML parser for /home/XXX/trace-modeling-oss-fuzz-c/trace_test/traces/cups_own/trace_FuzzCUPS_exe_exe/log_0.xml\n",
      "Falling back to HTML parser for /home/XXX/trace-modeling-oss-fuzz-c/trace_test/traces/cups_own/trace_FuzzCUPS_exe_exe/log_1.xml\n",
      "Fatal error processing trace file /home/XXX/trace-modeling-oss-fuzz-c/trace_test/traces/cups_own/trace_FuzzCUPS_exe_exe/log_1.xml: 'NoneType' object has no attribute 'xpath'\n",
      "Falling back to HTML parser for /home/XXX/trace-modeling-oss-fuzz-c/trace_test/traces/cups_own/trace_FuzzIPP_exe/log_0.xml\n",
      "Falling back to HTML parser for /home/XXX/trace-modeling-oss-fuzz-c/trace_test/traces/cups_own/trace_FuzzIPP_exe/log_1.xml\n",
      "Fatal error processing trace file /home/XXX/trace-modeling-oss-fuzz-c/trace_test/traces/cups_own/trace_FuzzIPP_exe/log_1.xml: 'NoneType' object has no attribute 'xpath'\n",
      "Falling back to HTML parser for /home/XXX/trace-modeling-oss-fuzz-c/trace_test/traces/cups_own/trace_FuzzRaster_exe/log_0.xml\n",
      "Falling back to HTML parser for /home/XXX/trace-modeling-oss-fuzz-c/trace_test/traces/cups_own/trace_FuzzRaster_exe/log_1.xml\n",
      "Fatal error processing trace file /home/XXX/trace-modeling-oss-fuzz-c/trace_test/traces/cups_own/trace_FuzzRaster_exe/log_1.xml: 'NoneType' object has no attribute 'xpath'\n",
      " 87%|████████▋ | 33905/39034 [1:04:59<23:00,  3.72it/s]Falling back to HTML parser for /home/XXX/trace-modeling-oss-fuzz-c/trace_test/traces/e2fsprogs_own/trace_ext2fs_image_read_write_fuzzer_exe_exe/log_2.xml\n",
      "Fatal error processing trace file /home/XXX/trace-modeling-oss-fuzz-c/trace_test/traces/e2fsprogs_own/trace_ext2fs_image_read_write_fuzzer_exe_exe/log_2.xml: 'NoneType' object has no attribute 'xpath'\n",
      " 87%|████████▋ | 33908/39034 [1:05:00<22:11,  3.85it/s]Falling back to HTML parser for /home/XXX/trace-modeling-oss-fuzz-c/trace_test/traces/e2fsprogs_own/trace_ext2fs_read_bitmap_fuzzer_exe_exe/log_2.xml\n",
      "Fatal error processing trace file /home/XXX/trace-modeling-oss-fuzz-c/trace_test/traces/e2fsprogs_own/trace_ext2fs_read_bitmap_fuzzer_exe_exe/log_2.xml: 'NoneType' object has no attribute 'xpath'\n",
      " 87%|████████▋ | 33911/39034 [1:05:01<21:06,  4.04it/s]Falling back to HTML parser for /home/XXX/trace-modeling-oss-fuzz-c/trace_test/traces/e2fsprogs_own/trace_ext2fs_check_directory_fuzzer_exe_exe/log_2.xml\n",
      "Fatal error processing trace file /home/XXX/trace-modeling-oss-fuzz-c/trace_test/traces/e2fsprogs_own/trace_ext2fs_check_directory_fuzzer_exe_exe/log_2.xml: 'NoneType' object has no attribute 'xpath'\n",
      " 87%|████████▋ | 33932/39034 [1:05:02<04:37, 18.37it/s]"
     ]
    },
    {
     "name": "stdout",
     "output_type": "stream",
     "text": [
      "\n",
      "Processed 33920/39034 files\n",
      "Current unique count: 527\n"
     ]
    },
    {
     "name": "stderr",
     "output_type": "stream",
     "text": [
      " 87%|████████▋ | 34012/39034 [1:05:04<02:19, 35.89it/s]"
     ]
    },
    {
     "name": "stdout",
     "output_type": "stream",
     "text": [
      "\n",
      "Processed 34000/39034 files\n",
      "Current unique count: 527\n"
     ]
    },
    {
     "name": "stderr",
     "output_type": "stream",
     "text": [
      " 87%|████████▋ | 34092/39034 [1:05:07<02:20, 35.28it/s]"
     ]
    },
    {
     "name": "stdout",
     "output_type": "stream",
     "text": [
      "\n",
      "Processed 34080/39034 files\n",
      "Current unique count: 527\n"
     ]
    },
    {
     "name": "stderr",
     "output_type": "stream",
     "text": [
      " 88%|████████▊ | 34172/39034 [1:05:09<02:19, 34.86it/s]"
     ]
    },
    {
     "name": "stdout",
     "output_type": "stream",
     "text": [
      "\n",
      "Processed 34160/39034 files\n",
      "Current unique count: 527\n"
     ]
    },
    {
     "name": "stderr",
     "output_type": "stream",
     "text": [
      " 88%|████████▊ | 34184/39034 [1:05:12<14:49,  5.45it/s]Falling back to HTML parser for /home/XXX/trace-modeling-oss-fuzz-c/trace_test/traces/p11-kit_own/trace_rpc_fuzzer_exe_exe/log_2.xml\n",
      "Fatal error processing trace file /home/XXX/trace-modeling-oss-fuzz-c/trace_test/traces/p11-kit_own/trace_rpc_fuzzer_exe_exe/log_2.xml: 'NoneType' object has no attribute 'xpath'\n",
      " 88%|████████▊ | 34196/39034 [1:05:21<55:35,  1.45it/s]  Falling back to HTML parser for /home/XXX/trace-modeling-oss-fuzz-c/trace_test/traces/libjpeg-turbo_own/trace_compress16_lossless_fuzzer_exe_exe/log_2.xml\n",
      "Fatal error processing trace file /home/XXX/trace-modeling-oss-fuzz-c/trace_test/traces/libjpeg-turbo_own/trace_compress16_lossless_fuzzer_exe_exe/log_2.xml: 'NoneType' object has no attribute 'xpath'\n",
      " 88%|████████▊ | 34199/39034 [1:05:22<40:02,  2.01it/s]Falling back to HTML parser for /home/XXX/trace-modeling-oss-fuzz-c/trace_test/traces/libjpeg-turbo_own/trace_compress_fuzzer_2_1_x_exe_exe/log_2.xml\n",
      "Fatal error processing trace file /home/XXX/trace-modeling-oss-fuzz-c/trace_test/traces/libjpeg-turbo_own/trace_compress_fuzzer_2_1_x_exe_exe/log_2.xml: 'NoneType' object has no attribute 'xpath'\n",
      " 88%|████████▊ | 34202/39034 [1:05:23<30:02,  2.68it/s]Falling back to HTML parser for /home/XXX/trace-modeling-oss-fuzz-c/trace_test/traces/libjpeg-turbo_own/trace_compress12_lossless_fuzzer_exe_exe/log_2.xml\n",
      "Fatal error processing trace file /home/XXX/trace-modeling-oss-fuzz-c/trace_test/traces/libjpeg-turbo_own/trace_compress12_lossless_fuzzer_exe_exe/log_2.xml: 'NoneType' object has no attribute 'xpath'\n",
      " 88%|████████▊ | 34229/39034 [1:05:43<40:32,  1.98it/s]  Falling back to HTML parser for /home/XXX/trace-modeling-oss-fuzz-c/trace_test/traces/libjpeg-turbo_own/trace_compress_yuv_fuzzer_2_1_x_exe_exe/log_2.xml\n",
      "Fatal error processing trace file /home/XXX/trace-modeling-oss-fuzz-c/trace_test/traces/libjpeg-turbo_own/trace_compress_yuv_fuzzer_2_1_x_exe_exe/log_2.xml: 'NoneType' object has no attribute 'xpath'\n",
      " 88%|████████▊ | 34232/39034 [1:05:43<28:01,  2.86it/s]Falling back to HTML parser for /home/XXX/trace-modeling-oss-fuzz-c/trace_test/traces/libjpeg-turbo_own/trace_compress12_fuzzer_exe_exe/log_2.xml\n",
      "Fatal error processing trace file /home/XXX/trace-modeling-oss-fuzz-c/trace_test/traces/libjpeg-turbo_own/trace_compress12_fuzzer_exe_exe/log_2.xml: 'NoneType' object has no attribute 'xpath'\n",
      " 88%|████████▊ | 34234/39034 [1:05:44<27:54,  2.87it/s]Falling back to HTML parser for /home/XXX/trace-modeling-oss-fuzz-c/trace_test/traces/libjpeg-turbo_own/trace_libjpeg_turbo_fuzzer_2_1_x_exe_exe/log_1.xml\n",
      " 88%|████████▊ | 34235/39034 [1:05:44<25:53,  3.09it/s]Falling back to HTML parser for /home/XXX/trace-modeling-oss-fuzz-c/trace_test/traces/libjpeg-turbo_own/trace_libjpeg_turbo_fuzzer_2_1_x_exe_exe/log_2.xml\n",
      "Fatal error processing trace file /home/XXX/trace-modeling-oss-fuzz-c/trace_test/traces/libjpeg-turbo_own/trace_libjpeg_turbo_fuzzer_2_1_x_exe_exe/log_2.xml: 'NoneType' object has no attribute 'xpath'\n",
      " 88%|████████▊ | 34238/39034 [1:05:45<22:05,  3.62it/s]Falling back to HTML parser for /home/XXX/trace-modeling-oss-fuzz-c/trace_test/traces/libjpeg-turbo_own/trace_compress_lossless_fuzzer_exe_exe/log_2.xml\n",
      "Fatal error processing trace file /home/XXX/trace-modeling-oss-fuzz-c/trace_test/traces/libjpeg-turbo_own/trace_compress_lossless_fuzzer_exe_exe/log_2.xml: 'NoneType' object has no attribute 'xpath'\n",
      " 88%|████████▊ | 34240/39034 [1:05:46<25:14,  3.16it/s]Falling back to HTML parser for /home/XXX/trace-modeling-oss-fuzz-c/trace_test/traces/libjpeg-turbo_own/trace_libjpeg_turbo_fuzzer_exe_exe/log_1.xml\n",
      " 88%|████████▊ | 34241/39034 [1:05:46<25:07,  3.18it/s]Falling back to HTML parser for /home/XXX/trace-modeling-oss-fuzz-c/trace_test/traces/libjpeg-turbo_own/trace_libjpeg_turbo_fuzzer_exe_exe/log_2.xml\n",
      "Fatal error processing trace file /home/XXX/trace-modeling-oss-fuzz-c/trace_test/traces/libjpeg-turbo_own/trace_libjpeg_turbo_fuzzer_exe_exe/log_2.xml: 'NoneType' object has no attribute 'xpath'\n",
      " 88%|████████▊ | 34243/39034 [1:05:46<20:38,  3.87it/s]Falling back to HTML parser for /home/XXX/trace-modeling-oss-fuzz-c/trace_test/traces/libjpeg-turbo_own/trace_transform_fuzzer_exe_exe/log_1.xml\n",
      " 88%|████████▊ | 34244/39034 [1:05:47<23:24,  3.41it/s]Falling back to HTML parser for /home/XXX/trace-modeling-oss-fuzz-c/trace_test/traces/libjpeg-turbo_own/trace_transform_fuzzer_exe_exe/log_2.xml\n",
      "Fatal error processing trace file /home/XXX/trace-modeling-oss-fuzz-c/trace_test/traces/libjpeg-turbo_own/trace_transform_fuzzer_exe_exe/log_2.xml: 'NoneType' object has no attribute 'xpath'\n",
      "Falling back to HTML parser for /home/XXX/trace-modeling-oss-fuzz-c/trace_test/traces/libjpeg-turbo_own/trace_cjpeg_fuzzer_2_1_x_exe/log_0.xml\n",
      " 88%|████████▊ | 34246/39034 [1:05:48<34:55,  2.28it/s]Falling back to HTML parser for /home/XXX/trace-modeling-oss-fuzz-c/trace_test/traces/libjpeg-turbo_own/trace_cjpeg_fuzzer_2_1_x_exe/log_19.xml\n",
      " 88%|████████▊ | 34247/39034 [1:05:50<49:48,  1.60it/s]Falling back to HTML parser for /home/XXX/trace-modeling-oss-fuzz-c/trace_test/traces/libjpeg-turbo_own/trace_cjpeg_fuzzer_2_1_x_exe/log_5.xml\n",
      " 88%|████████▊ | 34248/39034 [1:05:51<58:50,  1.36it/s]Falling back to HTML parser for /home/XXX/trace-modeling-oss-fuzz-c/trace_test/traces/libjpeg-turbo_own/trace_cjpeg_fuzzer_2_1_x_exe/log_15.xml\n"
     ]
    },
    {
     "name": "stdout",
     "output_type": "stream",
     "text": [
      "\n",
      "Processed 34240/39034 files\n",
      "Current unique count: 573\n"
     ]
    },
    {
     "name": "stderr",
     "output_type": "stream",
     "text": [
      " 88%|████████▊ | 34249/39034 [1:05:52<1:10:33,  1.13it/s]Falling back to HTML parser for /home/XXX/trace-modeling-oss-fuzz-c/trace_test/traces/libjpeg-turbo_own/trace_cjpeg_fuzzer_2_1_x_exe/log_10.xml\n",
      " 88%|████████▊ | 34250/39034 [1:05:53<1:16:03,  1.05it/s]Falling back to HTML parser for /home/XXX/trace-modeling-oss-fuzz-c/trace_test/traces/libjpeg-turbo_own/trace_cjpeg_fuzzer_2_1_x_exe/log_13.xml\n",
      " 88%|████████▊ | 34251/39034 [1:05:54<1:23:50,  1.05s/it]Falling back to HTML parser for /home/XXX/trace-modeling-oss-fuzz-c/trace_test/traces/libjpeg-turbo_own/trace_cjpeg_fuzzer_2_1_x_exe/log_12.xml\n",
      " 88%|████████▊ | 34252/39034 [1:05:56<1:25:10,  1.07s/it]Falling back to HTML parser for /home/XXX/trace-modeling-oss-fuzz-c/trace_test/traces/libjpeg-turbo_own/trace_cjpeg_fuzzer_2_1_x_exe/log_3.xml\n",
      " 88%|████████▊ | 34253/39034 [1:05:57<1:26:18,  1.08s/it]Falling back to HTML parser for /home/XXX/trace-modeling-oss-fuzz-c/trace_test/traces/libjpeg-turbo_own/trace_cjpeg_fuzzer_2_1_x_exe/log_20.xml\n",
      " 88%|████████▊ | 34254/39034 [1:05:58<1:28:44,  1.11s/it]Falling back to HTML parser for /home/XXX/trace-modeling-oss-fuzz-c/trace_test/traces/libjpeg-turbo_own/trace_cjpeg_fuzzer_2_1_x_exe/log_14.xml\n",
      " 88%|████████▊ | 34255/39034 [1:05:59<1:28:50,  1.12s/it]Falling back to HTML parser for /home/XXX/trace-modeling-oss-fuzz-c/trace_test/traces/libjpeg-turbo_own/trace_cjpeg_fuzzer_2_1_x_exe/log_17.xml\n",
      " 88%|████████▊ | 34256/39034 [1:06:00<1:29:53,  1.13s/it]Falling back to HTML parser for /home/XXX/trace-modeling-oss-fuzz-c/trace_test/traces/libjpeg-turbo_own/trace_cjpeg_fuzzer_2_1_x_exe/log_1.xml\n",
      " 88%|████████▊ | 34257/39034 [1:06:01<1:31:16,  1.15s/it]Falling back to HTML parser for /home/XXX/trace-modeling-oss-fuzz-c/trace_test/traces/libjpeg-turbo_own/trace_cjpeg_fuzzer_2_1_x_exe/log_2.xml\n",
      " 88%|████████▊ | 34258/39034 [1:06:02<1:30:42,  1.14s/it]Falling back to HTML parser for /home/XXX/trace-modeling-oss-fuzz-c/trace_test/traces/libjpeg-turbo_own/trace_cjpeg_fuzzer_2_1_x_exe/log_6.xml\n",
      " 88%|████████▊ | 34259/39034 [1:06:04<1:31:02,  1.14s/it]Falling back to HTML parser for /home/XXX/trace-modeling-oss-fuzz-c/trace_test/traces/libjpeg-turbo_own/trace_cjpeg_fuzzer_2_1_x_exe/log_11.xml\n",
      " 88%|████████▊ | 34260/39034 [1:06:05<1:30:08,  1.13s/it]Falling back to HTML parser for /home/XXX/trace-modeling-oss-fuzz-c/trace_test/traces/libjpeg-turbo_own/trace_cjpeg_fuzzer_2_1_x_exe/log_4.xml\n",
      " 88%|████████▊ | 34261/39034 [1:06:06<1:29:55,  1.13s/it]Falling back to HTML parser for /home/XXX/trace-modeling-oss-fuzz-c/trace_test/traces/libjpeg-turbo_own/trace_cjpeg_fuzzer_2_1_x_exe/log_8.xml\n",
      " 88%|████████▊ | 34262/39034 [1:06:07<1:32:04,  1.16s/it]Falling back to HTML parser for /home/XXX/trace-modeling-oss-fuzz-c/trace_test/traces/libjpeg-turbo_own/trace_cjpeg_fuzzer_2_1_x_exe/log_16.xml\n",
      " 88%|████████▊ | 34263/39034 [1:06:08<1:31:17,  1.15s/it]Falling back to HTML parser for /home/XXX/trace-modeling-oss-fuzz-c/trace_test/traces/libjpeg-turbo_own/trace_cjpeg_fuzzer_2_1_x_exe/log_18.xml\n",
      " 88%|████████▊ | 34264/39034 [1:06:09<1:31:09,  1.15s/it]Falling back to HTML parser for /home/XXX/trace-modeling-oss-fuzz-c/trace_test/traces/libjpeg-turbo_own/trace_cjpeg_fuzzer_2_1_x_exe/log_7.xml\n",
      " 88%|████████▊ | 34265/39034 [1:06:11<1:31:44,  1.15s/it]Falling back to HTML parser for /home/XXX/trace-modeling-oss-fuzz-c/trace_test/traces/libjpeg-turbo_own/trace_cjpeg_fuzzer_2_1_x_exe/log_9.xml\n",
      " 88%|████████▊ | 34267/39034 [1:06:12<1:10:29,  1.13it/s]Falling back to HTML parser for /home/XXX/trace-modeling-oss-fuzz-c/trace_test/traces/libjpeg-turbo_own/trace_transform_fuzzer_2_1_x_exe_exe/log_1.xml\n",
      " 88%|████████▊ | 34268/39034 [1:06:12<57:29,  1.38it/s]  Falling back to HTML parser for /home/XXX/trace-modeling-oss-fuzz-c/trace_test/traces/libjpeg-turbo_own/trace_transform_fuzzer_2_1_x_exe_exe/log_2.xml\n",
      "Fatal error processing trace file /home/XXX/trace-modeling-oss-fuzz-c/trace_test/traces/libjpeg-turbo_own/trace_transform_fuzzer_2_1_x_exe_exe/log_2.xml: 'NoneType' object has no attribute 'xpath'\n",
      " 88%|████████▊ | 34270/39034 [1:06:12<34:58,  2.27it/s]Falling back to HTML parser for /home/XXX/trace-modeling-oss-fuzz-c/trace_test/traces/libjpeg-turbo_own/trace_decompress_yuv_fuzzer_2_1_x_exe_exe/log_1.xml\n",
      " 88%|████████▊ | 34271/39034 [1:06:13<31:00,  2.56it/s]Falling back to HTML parser for /home/XXX/trace-modeling-oss-fuzz-c/trace_test/traces/libjpeg-turbo_own/trace_decompress_yuv_fuzzer_2_1_x_exe_exe/log_2.xml\n",
      "Fatal error processing trace file /home/XXX/trace-modeling-oss-fuzz-c/trace_test/traces/libjpeg-turbo_own/trace_decompress_yuv_fuzzer_2_1_x_exe_exe/log_2.xml: 'NoneType' object has no attribute 'xpath'\n",
      " 88%|████████▊ | 34274/39034 [1:06:14<38:04,  2.08it/s]Falling back to HTML parser for /home/XXX/trace-modeling-oss-fuzz-c/trace_test/traces/libjpeg-turbo_own/trace_cjpeg_fuzzer_exe_exe/log_2.xml\n",
      "Fatal error processing trace file /home/XXX/trace-modeling-oss-fuzz-c/trace_test/traces/libjpeg-turbo_own/trace_cjpeg_fuzzer_exe_exe/log_2.xml: 'NoneType' object has no attribute 'xpath'\n",
      " 88%|████████▊ | 34276/39034 [1:06:15<27:42,  2.86it/s]Falling back to HTML parser for /home/XXX/trace-modeling-oss-fuzz-c/trace_test/traces/libjpeg-turbo_own/trace_decompress_yuv_fuzzer_exe_exe/log_1.xml\n",
      " 88%|████████▊ | 34277/39034 [1:06:15<26:35,  2.98it/s]Falling back to HTML parser for /home/XXX/trace-modeling-oss-fuzz-c/trace_test/traces/libjpeg-turbo_own/trace_decompress_yuv_fuzzer_exe_exe/log_2.xml\n",
      "Fatal error processing trace file /home/XXX/trace-modeling-oss-fuzz-c/trace_test/traces/libjpeg-turbo_own/trace_decompress_yuv_fuzzer_exe_exe/log_2.xml: 'NoneType' object has no attribute 'xpath'\n",
      " 88%|████████▊ | 34280/39034 [1:06:16<24:45,  3.20it/s]Falling back to HTML parser for /home/XXX/trace-modeling-oss-fuzz-c/trace_test/traces/libjpeg-turbo_own/trace_compress_yuv_fuzzer_exe_exe/log_2.xml\n",
      "Fatal error processing trace file /home/XXX/trace-modeling-oss-fuzz-c/trace_test/traces/libjpeg-turbo_own/trace_compress_yuv_fuzzer_exe_exe/log_2.xml: 'NoneType' object has no attribute 'xpath'\n",
      " 88%|████████▊ | 34283/39034 [1:06:16<22:47,  3.47it/s]Falling back to HTML parser for /home/XXX/trace-modeling-oss-fuzz-c/trace_test/traces/libjpeg-turbo_own/trace_compress_fuzzer_exe_exe/log_2.xml\n",
      "Fatal error processing trace file /home/XXX/trace-modeling-oss-fuzz-c/trace_test/traces/libjpeg-turbo_own/trace_compress_fuzzer_exe_exe/log_2.xml: 'NoneType' object has no attribute 'xpath'\n",
      "Falling back to HTML parser for /home/XXX/trace-modeling-oss-fuzz-c/trace_test/traces/libjpeg-turbo_own/trace_cjpeg_fuzzer_2_1_x_exe_exe/log_0.xml\n",
      " 88%|████████▊ | 34285/39034 [1:06:18<31:35,  2.51it/s]Falling back to HTML parser for /home/XXX/trace-modeling-oss-fuzz-c/trace_test/traces/libjpeg-turbo_own/trace_cjpeg_fuzzer_2_1_x_exe_exe/log_1.xml\n",
      " 88%|████████▊ | 34286/39034 [1:06:19<44:18,  1.79it/s]Falling back to HTML parser for /home/XXX/trace-modeling-oss-fuzz-c/trace_test/traces/libjpeg-turbo_own/trace_cjpeg_fuzzer_2_1_x_exe_exe/log_2.xml\n",
      "Fatal error processing trace file /home/XXX/trace-modeling-oss-fuzz-c/trace_test/traces/libjpeg-turbo_own/trace_cjpeg_fuzzer_2_1_x_exe_exe/log_2.xml: 'NoneType' object has no attribute 'xpath'\n",
      " 88%|████████▊ | 34288/39034 [1:06:19<37:09,  2.13it/s]Falling back to HTML parser for /home/XXX/trace-modeling-oss-fuzz-c/trace_test/traces/cryptsetup_own/trace_crypt2_load_ondisk_fuzz_exe/log_1.xml\n",
      " 88%|████████▊ | 34290/39034 [1:06:22<54:31,  1.45it/s]  Falling back to HTML parser for /home/XXX/trace-modeling-oss-fuzz-c/trace_test/traces/cryptsetup_own/trace_crypt2_load_fuzz_exe/log_1.xml\n",
      " 88%|████████▊ | 34291/39034 [1:06:22<44:01,  1.80it/s]Falling back to HTML parser for /home/XXX/trace-modeling-oss-fuzz-c/trace_test/traces/cryptsetup_own/trace_crypt2_load_fuzz_exe_exe/log_1.xml\n",
      " 88%|████████▊ | 34293/39034 [1:06:22<28:15,  2.80it/s]Falling back to HTML parser for /home/XXX/trace-modeling-oss-fuzz-c/trace_test/traces/cryptsetup_own/trace_crypt2_load_ondisk_fuzz_exe_exe/log_1.xml\n",
      " 88%|████████▊ | 34295/39034 [1:06:22<20:01,  3.95it/s]Error processing source file: Source file not found: /home/XXX/trace-modeling-oss-fuzz-c/trace_test/traces/cryptsetup_own/trace_crypt2_load_proto_plain_json_fuzz_exe/src_0.xml\n"
     ]
    },
    {
     "name": "stdout",
     "output_type": "stream",
     "text": [
      "Error generating signature: [Errno 2] No such file or directory: '/home/XXX/trace-modeling-oss-fuzz-c/trace_test/traces/cryptsetup_own/trace_crypt2_load_proto_plain_json_fuzz_exe/src_0.xml'\n"
     ]
    },
    {
     "name": "stderr",
     "output_type": "stream",
     "text": [
      " 88%|████████▊ | 34333/39034 [1:06:24<02:19, 33.81it/s]"
     ]
    },
    {
     "name": "stdout",
     "output_type": "stream",
     "text": [
      "\n",
      "Processed 34320/39034 files\n",
      "Current unique count: 609\n"
     ]
    },
    {
     "name": "stderr",
     "output_type": "stream",
     "text": [
      " 88%|████████▊ | 34413/39034 [1:06:26<01:34, 48.77it/s]"
     ]
    },
    {
     "name": "stdout",
     "output_type": "stream",
     "text": [
      "\n",
      "Processed 34400/39034 files\n",
      "Current unique count: 609\n"
     ]
    },
    {
     "name": "stderr",
     "output_type": "stream",
     "text": [
      " 88%|████████▊ | 34495/39034 [1:06:27<01:30, 50.18it/s]"
     ]
    },
    {
     "name": "stdout",
     "output_type": "stream",
     "text": [
      "\n",
      "Processed 34480/39034 files\n",
      "Current unique count: 609\n"
     ]
    },
    {
     "name": "stderr",
     "output_type": "stream",
     "text": [
      " 89%|████████▊ | 34576/39034 [1:06:29<01:30, 49.13it/s]"
     ]
    },
    {
     "name": "stdout",
     "output_type": "stream",
     "text": [
      "\n",
      "Processed 34560/39034 files\n",
      "Current unique count: 609\n"
     ]
    },
    {
     "name": "stderr",
     "output_type": "stream",
     "text": [
      " 89%|████████▉ | 34647/39034 [1:06:30<01:25, 51.12it/s]Falling back to HTML parser for /home/XXX/trace-modeling-oss-fuzz-c/trace_test/traces/postfix_own/trace_fuzz_tok822_exe/log_200.xml\n"
     ]
    },
    {
     "name": "stdout",
     "output_type": "stream",
     "text": [
      "\n",
      "Processed 34640/39034 files\n",
      "Current unique count: 609\n"
     ]
    },
    {
     "name": "stderr",
     "output_type": "stream",
     "text": [
      "Falling back to HTML parser for /home/XXX/trace-modeling-oss-fuzz-c/trace_test/traces/postfix_own/trace_fuzz_tok822_exe/log_130.xml\n",
      "Falling back to HTML parser for /home/XXX/trace-modeling-oss-fuzz-c/trace_test/traces/postfix_own/trace_fuzz_tok822_exe/log_69.xml\n",
      " 89%|████████▉ | 34653/39034 [1:06:31<03:14, 22.55it/s]Falling back to HTML parser for /home/XXX/trace-modeling-oss-fuzz-c/trace_test/traces/postfix_own/trace_fuzz_tok822_exe/log_93.xml\n",
      "Falling back to HTML parser for /home/XXX/trace-modeling-oss-fuzz-c/trace_test/traces/postfix_own/trace_fuzz_tok822_exe/log_140.xml\n",
      "Falling back to HTML parser for /home/XXX/trace-modeling-oss-fuzz-c/trace_test/traces/postfix_own/trace_fuzz_tok822_exe/log_164.xml\n",
      "Falling back to HTML parser for /home/XXX/trace-modeling-oss-fuzz-c/trace_test/traces/postfix_own/trace_fuzz_tok822_exe/log_98.xml\n",
      " 89%|████████▉ | 34657/39034 [1:06:31<03:04, 23.67it/s]Falling back to HTML parser for /home/XXX/trace-modeling-oss-fuzz-c/trace_test/traces/postfix_own/trace_fuzz_tok822_exe/log_31.xml\n",
      "Falling back to HTML parser for /home/XXX/trace-modeling-oss-fuzz-c/trace_test/traces/postfix_own/trace_fuzz_tok822_exe/log_41.xml\n",
      "Falling back to HTML parser for /home/XXX/trace-modeling-oss-fuzz-c/trace_test/traces/postfix_own/trace_fuzz_tok822_exe/log_191.xml\n",
      " 89%|████████▉ | 34661/39034 [1:06:31<02:49, 25.78it/s]Falling back to HTML parser for /home/XXX/trace-modeling-oss-fuzz-c/trace_test/traces/postfix_own/trace_fuzz_tok822_exe/log_182.xml\n",
      "Falling back to HTML parser for /home/XXX/trace-modeling-oss-fuzz-c/trace_test/traces/postfix_own/trace_fuzz_tok822_exe/log_136.xml\n",
      "Falling back to HTML parser for /home/XXX/trace-modeling-oss-fuzz-c/trace_test/traces/postfix_own/trace_fuzz_tok822_exe/log_91.xml\n",
      "Falling back to HTML parser for /home/XXX/trace-modeling-oss-fuzz-c/trace_test/traces/postfix_own/trace_fuzz_tok822_exe/log_129.xml\n",
      " 89%|████████▉ | 34665/39034 [1:06:31<03:06, 23.39it/s]Falling back to HTML parser for /home/XXX/trace-modeling-oss-fuzz-c/trace_test/traces/postfix_own/trace_fuzz_tok822_exe/log_128.xml\n",
      "Falling back to HTML parser for /home/XXX/trace-modeling-oss-fuzz-c/trace_test/traces/postfix_own/trace_fuzz_tok822_exe/log_71.xml\n",
      "Falling back to HTML parser for /home/XXX/trace-modeling-oss-fuzz-c/trace_test/traces/postfix_own/trace_fuzz_tok822_exe/log_142.xml\n",
      "Falling back to HTML parser for /home/XXX/trace-modeling-oss-fuzz-c/trace_test/traces/postfix_own/trace_fuzz_tok822_exe/log_70.xml\n",
      " 89%|████████▉ | 34669/39034 [1:06:32<03:08, 23.13it/s]Falling back to HTML parser for /home/XXX/trace-modeling-oss-fuzz-c/trace_test/traces/postfix_own/trace_fuzz_tok822_exe/log_43.xml\n",
      "Falling back to HTML parser for /home/XXX/trace-modeling-oss-fuzz-c/trace_test/traces/postfix_own/trace_fuzz_tok822_exe/log_181.xml\n",
      " 89%|████████▉ | 34672/39034 [1:06:32<03:02, 23.94it/s]Falling back to HTML parser for /home/XXX/trace-modeling-oss-fuzz-c/trace_test/traces/postfix_own/trace_fuzz_tok822_exe/log_19.xml\n",
      "Falling back to HTML parser for /home/XXX/trace-modeling-oss-fuzz-c/trace_test/traces/postfix_own/trace_fuzz_tok822_exe/log_165.xml\n",
      "Falling back to HTML parser for /home/XXX/trace-modeling-oss-fuzz-c/trace_test/traces/postfix_own/trace_fuzz_tok822_exe/log_61.xml\n",
      " 89%|████████▉ | 34676/39034 [1:06:32<02:48, 25.87it/s]Falling back to HTML parser for /home/XXX/trace-modeling-oss-fuzz-c/trace_test/traces/postfix_own/trace_fuzz_tok822_exe/log_172.xml\n",
      "Falling back to HTML parser for /home/XXX/trace-modeling-oss-fuzz-c/trace_test/traces/postfix_own/trace_fuzz_tok822_exe/log_192.xml\n",
      "Falling back to HTML parser for /home/XXX/trace-modeling-oss-fuzz-c/trace_test/traces/postfix_own/trace_fuzz_tok822_exe/log_78.xml\n",
      " 89%|████████▉ | 34679/39034 [1:06:32<02:49, 25.67it/s]Falling back to HTML parser for /home/XXX/trace-modeling-oss-fuzz-c/trace_test/traces/postfix_own/trace_fuzz_tok822_exe/log_53.xml\n",
      "Falling back to HTML parser for /home/XXX/trace-modeling-oss-fuzz-c/trace_test/traces/postfix_own/trace_fuzz_tok822_exe/log_179.xml\n",
      "Falling back to HTML parser for /home/XXX/trace-modeling-oss-fuzz-c/trace_test/traces/postfix_own/trace_fuzz_tok822_exe/log_168.xml\n",
      " 89%|████████▉ | 34683/39034 [1:06:32<02:36, 27.84it/s]Falling back to HTML parser for /home/XXX/trace-modeling-oss-fuzz-c/trace_test/traces/postfix_own/trace_fuzz_tok822_exe/log_171.xml\n",
      "Falling back to HTML parser for /home/XXX/trace-modeling-oss-fuzz-c/trace_test/traces/postfix_own/trace_fuzz_tok822_exe/log_65.xml\n",
      "Falling back to HTML parser for /home/XXX/trace-modeling-oss-fuzz-c/trace_test/traces/postfix_own/trace_fuzz_tok822_exe/log_205.xml\n",
      " 89%|████████▉ | 34687/39034 [1:06:32<02:33, 28.34it/s]Falling back to HTML parser for /home/XXX/trace-modeling-oss-fuzz-c/trace_test/traces/postfix_own/trace_fuzz_tok822_exe/log_211.xml\n",
      "Falling back to HTML parser for /home/XXX/trace-modeling-oss-fuzz-c/trace_test/traces/postfix_own/trace_fuzz_tok822_exe/log_155.xml\n",
      "Falling back to HTML parser for /home/XXX/trace-modeling-oss-fuzz-c/trace_test/traces/postfix_own/trace_fuzz_tok822_exe/log_150.xml\n",
      " 89%|████████▉ | 34690/39034 [1:06:32<02:35, 27.92it/s]Falling back to HTML parser for /home/XXX/trace-modeling-oss-fuzz-c/trace_test/traces/postfix_own/trace_fuzz_tok822_exe/log_89.xml\n",
      "Falling back to HTML parser for /home/XXX/trace-modeling-oss-fuzz-c/trace_test/traces/postfix_own/trace_fuzz_tok822_exe/log_5.xml\n",
      "Falling back to HTML parser for /home/XXX/trace-modeling-oss-fuzz-c/trace_test/traces/postfix_own/trace_fuzz_tok822_exe/log_103.xml\n",
      " 89%|████████▉ | 34693/39034 [1:06:32<02:35, 27.91it/s]Falling back to HTML parser for /home/XXX/trace-modeling-oss-fuzz-c/trace_test/traces/postfix_own/trace_fuzz_tok822_exe/log_15.xml\n",
      "Falling back to HTML parser for /home/XXX/trace-modeling-oss-fuzz-c/trace_test/traces/postfix_own/trace_fuzz_tok822_exe/log_109.xml\n",
      " 89%|████████▉ | 34696/39034 [1:06:32<02:38, 27.42it/s]Falling back to HTML parser for /home/XXX/trace-modeling-oss-fuzz-c/trace_test/traces/postfix_own/trace_fuzz_tok822_exe/log_13.xml\n",
      "Falling back to HTML parser for /home/XXX/trace-modeling-oss-fuzz-c/trace_test/traces/postfix_own/trace_fuzz_tok822_exe/log_161.xml\n",
      "Falling back to HTML parser for /home/XXX/trace-modeling-oss-fuzz-c/trace_test/traces/postfix_own/trace_fuzz_tok822_exe/log_3.xml\n",
      " 89%|████████▉ | 34700/39034 [1:06:33<02:30, 28.82it/s]Falling back to HTML parser for /home/XXX/trace-modeling-oss-fuzz-c/trace_test/traces/postfix_own/trace_fuzz_tok822_exe/log_206.xml\n",
      "Falling back to HTML parser for /home/XXX/trace-modeling-oss-fuzz-c/trace_test/traces/postfix_own/trace_fuzz_tok822_exe/log_158.xml\n",
      "Falling back to HTML parser for /home/XXX/trace-modeling-oss-fuzz-c/trace_test/traces/postfix_own/trace_fuzz_tok822_exe/log_27.xml\n",
      " 89%|████████▉ | 34704/39034 [1:06:33<02:32, 28.47it/s]Falling back to HTML parser for /home/XXX/trace-modeling-oss-fuzz-c/trace_test/traces/postfix_own/trace_fuzz_tok822_exe/log_20.xml\n",
      "Falling back to HTML parser for /home/XXX/trace-modeling-oss-fuzz-c/trace_test/traces/postfix_own/trace_fuzz_tok822_exe/log_60.xml\n",
      " 89%|████████▉ | 34707/39034 [1:06:33<02:32, 28.30it/s]Falling back to HTML parser for /home/XXX/trace-modeling-oss-fuzz-c/trace_test/traces/postfix_own/trace_fuzz_tok822_exe/log_183.xml\n",
      "Falling back to HTML parser for /home/XXX/trace-modeling-oss-fuzz-c/trace_test/traces/postfix_own/trace_fuzz_tok822_exe/log_106.xml\n",
      "Falling back to HTML parser for /home/XXX/trace-modeling-oss-fuzz-c/trace_test/traces/postfix_own/trace_fuzz_tok822_exe/log_100.xml\n",
      " 89%|████████▉ | 34710/39034 [1:06:33<02:38, 27.27it/s]Falling back to HTML parser for /home/XXX/trace-modeling-oss-fuzz-c/trace_test/traces/postfix_own/trace_fuzz_tok822_exe/log_86.xml\n",
      "Falling back to HTML parser for /home/XXX/trace-modeling-oss-fuzz-c/trace_test/traces/postfix_own/trace_fuzz_tok822_exe/log_146.xml\n",
      "Falling back to HTML parser for /home/XXX/trace-modeling-oss-fuzz-c/trace_test/traces/postfix_own/trace_fuzz_tok822_exe/log_101.xml\n",
      " 89%|████████▉ | 34713/39034 [1:06:33<02:41, 26.81it/s]Falling back to HTML parser for /home/XXX/trace-modeling-oss-fuzz-c/trace_test/traces/postfix_own/trace_fuzz_tok822_exe/log_120.xml\n",
      "Falling back to HTML parser for /home/XXX/trace-modeling-oss-fuzz-c/trace_test/traces/postfix_own/trace_fuzz_tok822_exe/log_204.xml\n",
      "Falling back to HTML parser for /home/XXX/trace-modeling-oss-fuzz-c/trace_test/traces/postfix_own/trace_fuzz_tok822_exe/log_107.xml\n",
      " 89%|████████▉ | 34716/39034 [1:06:33<02:39, 27.11it/s]Falling back to HTML parser for /home/XXX/trace-modeling-oss-fuzz-c/trace_test/traces/postfix_own/trace_fuzz_tok822_exe/log_178.xml\n",
      "Falling back to HTML parser for /home/XXX/trace-modeling-oss-fuzz-c/trace_test/traces/postfix_own/trace_fuzz_tok822_exe/log_144.xml\n",
      " 89%|████████▉ | 34720/39034 [1:06:33<02:23, 30.13it/s]Falling back to HTML parser for /home/XXX/trace-modeling-oss-fuzz-c/trace_test/traces/postfix_own/trace_fuzz_tok822_exe/log_135.xml\n",
      "Falling back to HTML parser for /home/XXX/trace-modeling-oss-fuzz-c/trace_test/traces/postfix_own/trace_fuzz_tok822_exe/log_88.xml\n",
      "Falling back to HTML parser for /home/XXX/trace-modeling-oss-fuzz-c/trace_test/traces/postfix_own/trace_fuzz_tok822_exe/log_125.xml\n",
      "Falling back to HTML parser for /home/XXX/trace-modeling-oss-fuzz-c/trace_test/traces/postfix_own/trace_fuzz_tok822_exe/log_44.xml\n",
      " 89%|████████▉ | 34724/39034 [1:06:33<02:30, 28.57it/s]Falling back to HTML parser for /home/XXX/trace-modeling-oss-fuzz-c/trace_test/traces/postfix_own/trace_fuzz_tok822_exe/log_141.xml\n",
      "Falling back to HTML parser for /home/XXX/trace-modeling-oss-fuzz-c/trace_test/traces/postfix_own/trace_fuzz_tok822_exe/log_40.xml\n",
      "Falling back to HTML parser for /home/XXX/trace-modeling-oss-fuzz-c/trace_test/traces/postfix_own/trace_fuzz_tok822_exe/log_85.xml\n",
      "Falling back to HTML parser for /home/XXX/trace-modeling-oss-fuzz-c/trace_test/traces/postfix_own/trace_fuzz_tok822_exe/log_188.xml\n",
      " 89%|████████▉ | 34728/39034 [1:06:34<02:30, 28.59it/s]Falling back to HTML parser for /home/XXX/trace-modeling-oss-fuzz-c/trace_test/traces/postfix_own/trace_fuzz_tok822_exe/log_189.xml\n",
      "Falling back to HTML parser for /home/XXX/trace-modeling-oss-fuzz-c/trace_test/traces/postfix_own/trace_fuzz_tok822_exe/log_21.xml\n",
      "Falling back to HTML parser for /home/XXX/trace-modeling-oss-fuzz-c/trace_test/traces/postfix_own/trace_fuzz_tok822_exe/log_167.xml\n",
      " 89%|████████▉ | 34731/39034 [1:06:34<02:55, 24.57it/s]"
     ]
    },
    {
     "name": "stdout",
     "output_type": "stream",
     "text": [
      "\n",
      "Processed 34720/39034 files\n",
      "Current unique count: 613\n"
     ]
    },
    {
     "name": "stderr",
     "output_type": "stream",
     "text": [
      "Falling back to HTML parser for /home/XXX/trace-modeling-oss-fuzz-c/trace_test/traces/postfix_own/trace_fuzz_tok822_exe/log_170.xml\n",
      "Falling back to HTML parser for /home/XXX/trace-modeling-oss-fuzz-c/trace_test/traces/postfix_own/trace_fuzz_tok822_exe/log_213.xml\n",
      "Falling back to HTML parser for /home/XXX/trace-modeling-oss-fuzz-c/trace_test/traces/postfix_own/trace_fuzz_tok822_exe/log_194.xml\n",
      " 89%|████████▉ | 34735/39034 [1:06:34<02:38, 27.13it/s]Falling back to HTML parser for /home/XXX/trace-modeling-oss-fuzz-c/trace_test/traces/postfix_own/trace_fuzz_tok822_exe/log_30.xml\n",
      "Falling back to HTML parser for /home/XXX/trace-modeling-oss-fuzz-c/trace_test/traces/postfix_own/trace_fuzz_tok822_exe/log_215.xml\n",
      "Falling back to HTML parser for /home/XXX/trace-modeling-oss-fuzz-c/trace_test/traces/postfix_own/trace_fuzz_tok822_exe/log_26.xml\n",
      " 89%|████████▉ | 34738/39034 [1:06:34<02:41, 26.62it/s]Falling back to HTML parser for /home/XXX/trace-modeling-oss-fuzz-c/trace_test/traces/postfix_own/trace_fuzz_tok822_exe/log_184.xml\n",
      "Falling back to HTML parser for /home/XXX/trace-modeling-oss-fuzz-c/trace_test/traces/postfix_own/trace_fuzz_tok822_exe/log_105.xml\n",
      "Falling back to HTML parser for /home/XXX/trace-modeling-oss-fuzz-c/trace_test/traces/postfix_own/trace_fuzz_tok822_exe/log_176.xml\n",
      " 89%|████████▉ | 34741/39034 [1:06:34<02:39, 26.91it/s]Falling back to HTML parser for /home/XXX/trace-modeling-oss-fuzz-c/trace_test/traces/postfix_own/trace_fuzz_tok822_exe/log_37.xml\n",
      "Falling back to HTML parser for /home/XXX/trace-modeling-oss-fuzz-c/trace_test/traces/postfix_own/trace_fuzz_tok822_exe/log_42.xml\n",
      "Falling back to HTML parser for /home/XXX/trace-modeling-oss-fuzz-c/trace_test/traces/postfix_own/trace_fuzz_tok822_exe/log_152.xml\n",
      " 89%|████████▉ | 34744/39034 [1:06:34<02:50, 25.09it/s]Falling back to HTML parser for /home/XXX/trace-modeling-oss-fuzz-c/trace_test/traces/postfix_own/trace_fuzz_tok822_exe/log_149.xml\n",
      " 89%|████████▉ | 34747/39034 [1:06:34<02:46, 25.68it/s]Falling back to HTML parser for /home/XXX/trace-modeling-oss-fuzz-c/trace_test/traces/postfix_own/trace_fuzz_tok822_exe/log_132.xml\n",
      "Falling back to HTML parser for /home/XXX/trace-modeling-oss-fuzz-c/trace_test/traces/postfix_own/trace_fuzz_tok822_exe/log_54.xml\n",
      "Falling back to HTML parser for /home/XXX/trace-modeling-oss-fuzz-c/trace_test/traces/postfix_own/trace_fuzz_tok822_exe/log_209.xml\n",
      " 89%|████████▉ | 34750/39034 [1:06:34<02:48, 25.38it/s]Falling back to HTML parser for /home/XXX/trace-modeling-oss-fuzz-c/trace_test/traces/postfix_own/trace_fuzz_tok822_exe/log_118.xml\n",
      "Falling back to HTML parser for /home/XXX/trace-modeling-oss-fuzz-c/trace_test/traces/postfix_own/trace_fuzz_tok822_exe/log_14.xml\n",
      "Falling back to HTML parser for /home/XXX/trace-modeling-oss-fuzz-c/trace_test/traces/postfix_own/trace_fuzz_tok822_exe/log_73.xml\n",
      " 89%|████████▉ | 34753/39034 [1:06:35<02:48, 25.43it/s]Falling back to HTML parser for /home/XXX/trace-modeling-oss-fuzz-c/trace_test/traces/postfix_own/trace_fuzz_tok822_exe/log_72.xml\n",
      "Falling back to HTML parser for /home/XXX/trace-modeling-oss-fuzz-c/trace_test/traces/postfix_own/trace_fuzz_tok822_exe/log_119.xml\n",
      "Falling back to HTML parser for /home/XXX/trace-modeling-oss-fuzz-c/trace_test/traces/postfix_own/trace_fuzz_tok822_exe/log_46.xml\n",
      " 89%|████████▉ | 34756/39034 [1:06:35<03:38, 19.62it/s]Falling back to HTML parser for /home/XXX/trace-modeling-oss-fuzz-c/trace_test/traces/postfix_own/trace_fuzz_tok822_exe/log_25.xml\n",
      "Falling back to HTML parser for /home/XXX/trace-modeling-oss-fuzz-c/trace_test/traces/postfix_own/trace_fuzz_tok822_exe/log_81.xml\n",
      "Falling back to HTML parser for /home/XXX/trace-modeling-oss-fuzz-c/trace_test/traces/postfix_own/trace_fuzz_tok822_exe/log_67.xml\n",
      " 89%|████████▉ | 34759/39034 [1:06:35<03:26, 20.71it/s]Falling back to HTML parser for /home/XXX/trace-modeling-oss-fuzz-c/trace_test/traces/postfix_own/trace_fuzz_tok822_exe/log_76.xml\n",
      "Falling back to HTML parser for /home/XXX/trace-modeling-oss-fuzz-c/trace_test/traces/postfix_own/trace_fuzz_tok822_exe/log_104.xml\n",
      " 89%|████████▉ | 34764/39034 [1:06:35<02:38, 26.95it/s]Falling back to HTML parser for /home/XXX/trace-modeling-oss-fuzz-c/trace_test/traces/postfix_own/trace_fuzz_tok822_exe/log_187.xml\n",
      "Falling back to HTML parser for /home/XXX/trace-modeling-oss-fuzz-c/trace_test/traces/postfix_own/trace_fuzz_tok822_exe/log_17.xml\n",
      "Falling back to HTML parser for /home/XXX/trace-modeling-oss-fuzz-c/trace_test/traces/postfix_own/trace_fuzz_tok822_exe/log_203.xml\n",
      " 89%|████████▉ | 34767/39034 [1:06:35<02:40, 26.59it/s]Falling back to HTML parser for /home/XXX/trace-modeling-oss-fuzz-c/trace_test/traces/postfix_own/trace_fuzz_tok822_exe/log_96.xml\n",
      "Falling back to HTML parser for /home/XXX/trace-modeling-oss-fuzz-c/trace_test/traces/postfix_own/trace_fuzz_tok822_exe/log_143.xml\n",
      "Falling back to HTML parser for /home/XXX/trace-modeling-oss-fuzz-c/trace_test/traces/postfix_own/trace_fuzz_tok822_exe/log_134.xml\n",
      " 89%|████████▉ | 34770/39034 [1:06:35<02:47, 25.38it/s]Falling back to HTML parser for /home/XXX/trace-modeling-oss-fuzz-c/trace_test/traces/postfix_own/trace_fuzz_tok822_exe/log_22.xml\n",
      "Falling back to HTML parser for /home/XXX/trace-modeling-oss-fuzz-c/trace_test/traces/postfix_own/trace_fuzz_tok822_exe/log_199.xml\n",
      "Falling back to HTML parser for /home/XXX/trace-modeling-oss-fuzz-c/trace_test/traces/postfix_own/trace_fuzz_tok822_exe/log_99.xml\n",
      " 89%|████████▉ | 34774/39034 [1:06:35<02:32, 27.90it/s]Falling back to HTML parser for /home/XXX/trace-modeling-oss-fuzz-c/trace_test/traces/postfix_own/trace_fuzz_tok822_exe/log_173.xml\n",
      "Falling back to HTML parser for /home/XXX/trace-modeling-oss-fuzz-c/trace_test/traces/postfix_own/trace_fuzz_tok822_exe/log_123.xml\n",
      "Falling back to HTML parser for /home/XXX/trace-modeling-oss-fuzz-c/trace_test/traces/postfix_own/trace_fuzz_tok822_exe/log_208.xml\n",
      " 89%|████████▉ | 34778/39034 [1:06:36<02:25, 29.29it/s]Falling back to HTML parser for /home/XXX/trace-modeling-oss-fuzz-c/trace_test/traces/postfix_own/trace_fuzz_tok822_exe/log_147.xml\n",
      "Falling back to HTML parser for /home/XXX/trace-modeling-oss-fuzz-c/trace_test/traces/postfix_own/trace_fuzz_tok822_exe/log_63.xml\n",
      " 89%|████████▉ | 34782/39034 [1:06:36<02:23, 29.61it/s]Falling back to HTML parser for /home/XXX/trace-modeling-oss-fuzz-c/trace_test/traces/postfix_own/trace_fuzz_tok822_exe/log_64.xml\n",
      "Falling back to HTML parser for /home/XXX/trace-modeling-oss-fuzz-c/trace_test/traces/postfix_own/trace_fuzz_tok822_exe/log_185.xml\n",
      "Falling back to HTML parser for /home/XXX/trace-modeling-oss-fuzz-c/trace_test/traces/postfix_own/trace_fuzz_tok822_exe/log_157.xml\n",
      "Falling back to HTML parser for /home/XXX/trace-modeling-oss-fuzz-c/trace_test/traces/postfix_own/trace_fuzz_tok822_exe/log_62.xml\n",
      " 89%|████████▉ | 34786/39034 [1:06:36<02:33, 27.68it/s]Falling back to HTML parser for /home/XXX/trace-modeling-oss-fuzz-c/trace_test/traces/postfix_own/trace_fuzz_tok822_exe/log_33.xml\n",
      "Falling back to HTML parser for /home/XXX/trace-modeling-oss-fuzz-c/trace_test/traces/postfix_own/trace_fuzz_tok822_exe/log_36.xml\n",
      "Falling back to HTML parser for /home/XXX/trace-modeling-oss-fuzz-c/trace_test/traces/postfix_own/trace_fuzz_tok822_exe/log_115.xml\n",
      " 89%|████████▉ | 34789/39034 [1:06:36<02:35, 27.39it/s]Falling back to HTML parser for /home/XXX/trace-modeling-oss-fuzz-c/trace_test/traces/postfix_own/trace_fuzz_tok822_exe/log_193.xml\n",
      "Falling back to HTML parser for /home/XXX/trace-modeling-oss-fuzz-c/trace_test/traces/postfix_own/trace_fuzz_tok822_exe/log_24.xml\n",
      "Falling back to HTML parser for /home/XXX/trace-modeling-oss-fuzz-c/trace_test/traces/postfix_own/trace_fuzz_tok822_exe/log_108.xml\n",
      " 89%|████████▉ | 34792/39034 [1:06:36<02:41, 26.23it/s]Falling back to HTML parser for /home/XXX/trace-modeling-oss-fuzz-c/trace_test/traces/postfix_own/trace_fuzz_tok822_exe/log_112.xml\n",
      "Falling back to HTML parser for /home/XXX/trace-modeling-oss-fuzz-c/trace_test/traces/postfix_own/trace_fuzz_tok822_exe/log_1.xml\n",
      " 89%|████████▉ | 34796/39034 [1:06:36<02:34, 27.48it/s]Falling back to HTML parser for /home/XXX/trace-modeling-oss-fuzz-c/trace_test/traces/postfix_own/trace_fuzz_tok822_exe/log_34.xml\n",
      "Falling back to HTML parser for /home/XXX/trace-modeling-oss-fuzz-c/trace_test/traces/postfix_own/trace_fuzz_tok822_exe/log_113.xml\n",
      " 89%|████████▉ | 34799/39034 [1:06:36<02:32, 27.73it/s]Falling back to HTML parser for /home/XXX/trace-modeling-oss-fuzz-c/trace_test/traces/postfix_own/trace_fuzz_tok822_exe/log_137.xml\n",
      "Falling back to HTML parser for /home/XXX/trace-modeling-oss-fuzz-c/trace_test/traces/postfix_own/trace_fuzz_tok822_exe/log_75.xml\n",
      "Falling back to HTML parser for /home/XXX/trace-modeling-oss-fuzz-c/trace_test/traces/postfix_own/trace_fuzz_tok822_exe/log_162.xml\n",
      " 89%|████████▉ | 34802/39034 [1:06:36<02:40, 26.33it/s]Falling back to HTML parser for /home/XXX/trace-modeling-oss-fuzz-c/trace_test/traces/postfix_own/trace_fuzz_tok822_exe/log_127.xml\n",
      "Falling back to HTML parser for /home/XXX/trace-modeling-oss-fuzz-c/trace_test/traces/postfix_own/trace_fuzz_tok822_exe/log_83.xml\n",
      "Falling back to HTML parser for /home/XXX/trace-modeling-oss-fuzz-c/trace_test/traces/postfix_own/trace_fuzz_tok822_exe/log_160.xml\n",
      " 89%|████████▉ | 34805/39034 [1:06:37<02:55, 24.16it/s]Falling back to HTML parser for /home/XXX/trace-modeling-oss-fuzz-c/trace_test/traces/postfix_own/trace_fuzz_tok822_exe/log_47.xml\n",
      "Falling back to HTML parser for /home/XXX/trace-modeling-oss-fuzz-c/trace_test/traces/postfix_own/trace_fuzz_tok822_exe/log_52.xml\n",
      " 89%|████████▉ | 34809/39034 [1:06:37<02:50, 24.81it/s]Falling back to HTML parser for /home/XXX/trace-modeling-oss-fuzz-c/trace_test/traces/postfix_own/trace_fuzz_tok822_exe/log_29.xml\n",
      "Falling back to HTML parser for /home/XXX/trace-modeling-oss-fuzz-c/trace_test/traces/postfix_own/trace_fuzz_tok822_exe/log_51.xml\n",
      " 89%|████████▉ | 34813/39034 [1:06:37<02:29, 28.16it/s]"
     ]
    },
    {
     "name": "stdout",
     "output_type": "stream",
     "text": [
      "\n",
      "Processed 34800/39034 files\n",
      "Current unique count: 613\n"
     ]
    },
    {
     "name": "stderr",
     "output_type": "stream",
     "text": [
      "Falling back to HTML parser for /home/XXX/trace-modeling-oss-fuzz-c/trace_test/traces/postfix_own/trace_fuzz_tok822_exe/log_216.xml\n",
      "Falling back to HTML parser for /home/XXX/trace-modeling-oss-fuzz-c/trace_test/traces/postfix_own/trace_fuzz_tok822_exe/log_68.xml\n",
      "Falling back to HTML parser for /home/XXX/trace-modeling-oss-fuzz-c/trace_test/traces/postfix_own/trace_fuzz_tok822_exe/log_210.xml\n",
      " 89%|████████▉ | 34817/39034 [1:06:37<02:16, 30.93it/s]Falling back to HTML parser for /home/XXX/trace-modeling-oss-fuzz-c/trace_test/traces/postfix_own/trace_fuzz_tok822_exe/log_214.xml\n",
      "Falling back to HTML parser for /home/XXX/trace-modeling-oss-fuzz-c/trace_test/traces/postfix_own/trace_fuzz_tok822_exe/log_124.xml\n",
      "Falling back to HTML parser for /home/XXX/trace-modeling-oss-fuzz-c/trace_test/traces/postfix_own/trace_fuzz_tok822_exe/log_57.xml\n",
      "Falling back to HTML parser for /home/XXX/trace-modeling-oss-fuzz-c/trace_test/traces/postfix_own/trace_fuzz_tok822_exe/log_6.xml\n",
      " 89%|████████▉ | 34821/39034 [1:06:37<03:08, 22.37it/s]Falling back to HTML parser for /home/XXX/trace-modeling-oss-fuzz-c/trace_test/traces/postfix_own/trace_fuzz_tok822_exe/log_77.xml\n",
      "Falling back to HTML parser for /home/XXX/trace-modeling-oss-fuzz-c/trace_test/traces/postfix_own/trace_fuzz_tok822_exe/log_151.xml\n",
      "Falling back to HTML parser for /home/XXX/trace-modeling-oss-fuzz-c/trace_test/traces/postfix_own/trace_fuzz_tok822_exe/log_145.xml\n",
      " 89%|████████▉ | 34824/39034 [1:06:37<03:03, 22.97it/s]Falling back to HTML parser for /home/XXX/trace-modeling-oss-fuzz-c/trace_test/traces/postfix_own/trace_fuzz_tok822_exe/log_212.xml\n",
      "Falling back to HTML parser for /home/XXX/trace-modeling-oss-fuzz-c/trace_test/traces/postfix_own/trace_fuzz_tok822_exe/log_94.xml\n",
      "Falling back to HTML parser for /home/XXX/trace-modeling-oss-fuzz-c/trace_test/traces/postfix_own/trace_fuzz_tok822_exe/log_11.xml\n",
      " 89%|████████▉ | 34827/39034 [1:06:38<02:58, 23.61it/s]Falling back to HTML parser for /home/XXX/trace-modeling-oss-fuzz-c/trace_test/traces/postfix_own/trace_fuzz_tok822_exe/log_196.xml\n",
      "Falling back to HTML parser for /home/XXX/trace-modeling-oss-fuzz-c/trace_test/traces/postfix_own/trace_fuzz_tok822_exe/log_90.xml\n",
      " 89%|████████▉ | 34831/39034 [1:06:38<02:34, 27.22it/s]Falling back to HTML parser for /home/XXX/trace-modeling-oss-fuzz-c/trace_test/traces/postfix_own/trace_fuzz_tok822_exe/log_202.xml\n",
      "Falling back to HTML parser for /home/XXX/trace-modeling-oss-fuzz-c/trace_test/traces/postfix_own/trace_fuzz_tok822_exe/log_148.xml\n",
      "Falling back to HTML parser for /home/XXX/trace-modeling-oss-fuzz-c/trace_test/traces/postfix_own/trace_fuzz_tok822_exe/log_133.xml\n",
      " 89%|████████▉ | 34834/39034 [1:06:38<02:39, 26.30it/s]Falling back to HTML parser for /home/XXX/trace-modeling-oss-fuzz-c/trace_test/traces/postfix_own/trace_fuzz_tok822_exe/log_207.xml\n",
      "Falling back to HTML parser for /home/XXX/trace-modeling-oss-fuzz-c/trace_test/traces/postfix_own/trace_fuzz_tok822_exe/log_4.xml\n",
      "Falling back to HTML parser for /home/XXX/trace-modeling-oss-fuzz-c/trace_test/traces/postfix_own/trace_fuzz_tok822_exe/log_66.xml\n",
      " 89%|████████▉ | 34838/39034 [1:06:38<02:31, 27.72it/s]Falling back to HTML parser for /home/XXX/trace-modeling-oss-fuzz-c/trace_test/traces/postfix_own/trace_fuzz_tok822_exe/log_102.xml\n",
      "Falling back to HTML parser for /home/XXX/trace-modeling-oss-fuzz-c/trace_test/traces/postfix_own/trace_fuzz_tok822_exe/log_197.xml\n",
      " 89%|████████▉ | 34841/39034 [1:06:38<02:37, 26.58it/s]Falling back to HTML parser for /home/XXX/trace-modeling-oss-fuzz-c/trace_test/traces/postfix_own/trace_fuzz_tok822_exe/log_82.xml\n",
      "Falling back to HTML parser for /home/XXX/trace-modeling-oss-fuzz-c/trace_test/traces/postfix_own/trace_fuzz_tok822_exe/log_111.xml\n",
      "Falling back to HTML parser for /home/XXX/trace-modeling-oss-fuzz-c/trace_test/traces/postfix_own/trace_fuzz_tok822_exe/log_126.xml\n",
      " 89%|████████▉ | 34844/39034 [1:06:38<02:45, 25.27it/s]Falling back to HTML parser for /home/XXX/trace-modeling-oss-fuzz-c/trace_test/traces/postfix_own/trace_fuzz_tok822_exe/log_84.xml\n",
      "Falling back to HTML parser for /home/XXX/trace-modeling-oss-fuzz-c/trace_test/traces/postfix_own/trace_fuzz_tok822_exe/log_195.xml\n",
      "Falling back to HTML parser for /home/XXX/trace-modeling-oss-fuzz-c/trace_test/traces/postfix_own/trace_fuzz_tok822_exe/log_16.xml\n",
      " 89%|████████▉ | 34847/39034 [1:06:38<02:50, 24.54it/s]Falling back to HTML parser for /home/XXX/trace-modeling-oss-fuzz-c/trace_test/traces/postfix_own/trace_fuzz_tok822_exe/log_58.xml\n",
      "Falling back to HTML parser for /home/XXX/trace-modeling-oss-fuzz-c/trace_test/traces/postfix_own/trace_fuzz_tok822_exe/log_190.xml\n",
      " 89%|████████▉ | 34850/39034 [1:06:38<02:53, 24.08it/s]Falling back to HTML parser for /home/XXX/trace-modeling-oss-fuzz-c/trace_test/traces/postfix_own/trace_fuzz_tok822_exe/log_18.xml\n",
      "Falling back to HTML parser for /home/XXX/trace-modeling-oss-fuzz-c/trace_test/traces/postfix_own/trace_fuzz_tok822_exe/log_79.xml\n",
      " 89%|████████▉ | 34853/39034 [1:06:38<02:44, 25.37it/s]Falling back to HTML parser for /home/XXX/trace-modeling-oss-fuzz-c/trace_test/traces/postfix_own/trace_fuzz_tok822_exe/log_97.xml\n",
      "Falling back to HTML parser for /home/XXX/trace-modeling-oss-fuzz-c/trace_test/traces/postfix_own/trace_fuzz_tok822_exe/log_154.xml\n",
      "Falling back to HTML parser for /home/XXX/trace-modeling-oss-fuzz-c/trace_test/traces/postfix_own/trace_fuzz_tok822_exe/log_56.xml\n",
      "Falling back to HTML parser for /home/XXX/trace-modeling-oss-fuzz-c/trace_test/traces/postfix_own/trace_fuzz_tok822_exe/log_138.xml\n",
      " 89%|████████▉ | 34857/39034 [1:06:39<02:42, 25.76it/s]Falling back to HTML parser for /home/XXX/trace-modeling-oss-fuzz-c/trace_test/traces/postfix_own/trace_fuzz_tok822_exe/log_50.xml\n",
      "Falling back to HTML parser for /home/XXX/trace-modeling-oss-fuzz-c/trace_test/traces/postfix_own/trace_fuzz_tok822_exe/log_55.xml\n",
      "Falling back to HTML parser for /home/XXX/trace-modeling-oss-fuzz-c/trace_test/traces/postfix_own/trace_fuzz_tok822_exe/log_7.xml\n",
      " 89%|████████▉ | 34860/39034 [1:06:39<02:44, 25.37it/s]Falling back to HTML parser for /home/XXX/trace-modeling-oss-fuzz-c/trace_test/traces/postfix_own/trace_fuzz_tok822_exe/log_74.xml\n",
      " 89%|████████▉ | 34863/39034 [1:06:39<02:43, 25.53it/s]Falling back to HTML parser for /home/XXX/trace-modeling-oss-fuzz-c/trace_test/traces/postfix_own/trace_fuzz_tok822_exe/log_23.xml\n",
      "Falling back to HTML parser for /home/XXX/trace-modeling-oss-fuzz-c/trace_test/traces/postfix_own/trace_fuzz_tok822_exe/log_201.xml\n",
      "Falling back to HTML parser for /home/XXX/trace-modeling-oss-fuzz-c/trace_test/traces/postfix_own/trace_fuzz_tok822_exe/log_156.xml\n",
      " 89%|████████▉ | 34866/39034 [1:06:39<02:42, 25.67it/s]Falling back to HTML parser for /home/XXX/trace-modeling-oss-fuzz-c/trace_test/traces/postfix_own/trace_fuzz_tok822_exe/log_131.xml\n",
      "Falling back to HTML parser for /home/XXX/trace-modeling-oss-fuzz-c/trace_test/traces/fribidi_own/trace_fribidi-fuzzer_exe_exe/log_0.xml\n",
      "Falling back to HTML parser for /home/XXX/trace-modeling-oss-fuzz-c/trace_test/traces/fribidi_own/trace_fribidi-fuzzer_exe_exe/log_1.xml\n",
      "Fatal error processing trace file /home/XXX/trace-modeling-oss-fuzz-c/trace_test/traces/fribidi_own/trace_fribidi-fuzzer_exe_exe/log_1.xml: 'NoneType' object has no attribute 'xpath'\n",
      "Falling back to HTML parser for /home/XXX/trace-modeling-oss-fuzz-c/trace_test/traces/pjsip_own/trace_fuzz-rtcp_exe/log_0.xml\n",
      "Falling back to HTML parser for /home/XXX/trace-modeling-oss-fuzz-c/trace_test/traces/pjsip_own/trace_fuzz-rtcp_exe/log_1.xml\n",
      "Fatal error processing trace file /home/XXX/trace-modeling-oss-fuzz-c/trace_test/traces/pjsip_own/trace_fuzz-rtcp_exe/log_1.xml: 'NoneType' object has no attribute 'xpath'\n",
      "Falling back to HTML parser for /home/XXX/trace-modeling-oss-fuzz-c/trace_test/traces/pjsip_own/trace_fuzz-stun_exe/log_0.xml\n",
      "Falling back to HTML parser for /home/XXX/trace-modeling-oss-fuzz-c/trace_test/traces/pjsip_own/trace_fuzz-stun_exe/log_1.xml\n",
      "Fatal error processing trace file /home/XXX/trace-modeling-oss-fuzz-c/trace_test/traces/pjsip_own/trace_fuzz-stun_exe/log_1.xml: 'NoneType' object has no attribute 'xpath'\n",
      "Falling back to HTML parser for /home/XXX/trace-modeling-oss-fuzz-c/trace_test/traces/pjsip_own/trace_fuzz-json_exe/log_0.xml\n",
      "Falling back to HTML parser for /home/XXX/trace-modeling-oss-fuzz-c/trace_test/traces/pjsip_own/trace_fuzz-json_exe/log_1.xml\n",
      "Fatal error processing trace file /home/XXX/trace-modeling-oss-fuzz-c/trace_test/traces/pjsip_own/trace_fuzz-json_exe/log_1.xml: 'NoneType' object has no attribute 'xpath'\n",
      "Falling back to HTML parser for /home/XXX/trace-modeling-oss-fuzz-c/trace_test/traces/pjsip_own/trace_fuzz-url_exe/log_0.xml\n",
      "Falling back to HTML parser for /home/XXX/trace-modeling-oss-fuzz-c/trace_test/traces/pjsip_own/trace_fuzz-url_exe/log_1.xml\n",
      "Fatal error processing trace file /home/XXX/trace-modeling-oss-fuzz-c/trace_test/traces/pjsip_own/trace_fuzz-url_exe/log_1.xml: 'NoneType' object has no attribute 'xpath'\n",
      "Falling back to HTML parser for /home/XXX/trace-modeling-oss-fuzz-c/trace_test/traces/pjsip_own/trace_fuzz-sdp_exe/log_0.xml\n",
      "Falling back to HTML parser for /home/XXX/trace-modeling-oss-fuzz-c/trace_test/traces/pjsip_own/trace_fuzz-sdp_exe/log_1.xml\n",
      "Fatal error processing trace file /home/XXX/trace-modeling-oss-fuzz-c/trace_test/traces/pjsip_own/trace_fuzz-sdp_exe/log_1.xml: 'NoneType' object has no attribute 'xpath'\n",
      "Falling back to HTML parser for /home/XXX/trace-modeling-oss-fuzz-c/trace_test/traces/pjsip_own/trace_fuzz-vpx_exe/log_0.xml\n",
      "Falling back to HTML parser for /home/XXX/trace-modeling-oss-fuzz-c/trace_test/traces/pjsip_own/trace_fuzz-vpx_exe/log_1.xml\n",
      "Fatal error processing trace file /home/XXX/trace-modeling-oss-fuzz-c/trace_test/traces/pjsip_own/trace_fuzz-vpx_exe/log_1.xml: 'NoneType' object has no attribute 'xpath'\n",
      "Falling back to HTML parser for /home/XXX/trace-modeling-oss-fuzz-c/trace_test/traces/pjsip_own/trace_fuzz-http_exe/log_0.xml\n",
      "Falling back to HTML parser for /home/XXX/trace-modeling-oss-fuzz-c/trace_test/traces/pjsip_own/trace_fuzz-http_exe/log_1.xml\n",
      "Fatal error processing trace file /home/XXX/trace-modeling-oss-fuzz-c/trace_test/traces/pjsip_own/trace_fuzz-http_exe/log_1.xml: 'NoneType' object has no attribute 'xpath'\n",
      "Falling back to HTML parser for /home/XXX/trace-modeling-oss-fuzz-c/trace_test/traces/pjsip_own/trace_fuzz-dns_exe/log_0.xml\n",
      "Falling back to HTML parser for /home/XXX/trace-modeling-oss-fuzz-c/trace_test/traces/pjsip_own/trace_fuzz-dns_exe/log_1.xml\n",
      "Fatal error processing trace file /home/XXX/trace-modeling-oss-fuzz-c/trace_test/traces/pjsip_own/trace_fuzz-dns_exe/log_1.xml: 'NoneType' object has no attribute 'xpath'\n",
      "Falling back to HTML parser for /home/XXX/trace-modeling-oss-fuzz-c/trace_test/traces/pjsip_own/trace_fuzz-crypto_exe/log_0.xml\n",
      "Falling back to HTML parser for /home/XXX/trace-modeling-oss-fuzz-c/trace_test/traces/pjsip_own/trace_fuzz-crypto_exe/log_1.xml\n",
      "Fatal error processing trace file /home/XXX/trace-modeling-oss-fuzz-c/trace_test/traces/pjsip_own/trace_fuzz-crypto_exe/log_1.xml: 'NoneType' object has no attribute 'xpath'\n",
      "Falling back to HTML parser for /home/XXX/trace-modeling-oss-fuzz-c/trace_test/traces/pjsip_own/trace_fuzz-uri_exe/log_0.xml\n",
      "Falling back to HTML parser for /home/XXX/trace-modeling-oss-fuzz-c/trace_test/traces/pjsip_own/trace_fuzz-uri_exe/log_1.xml\n",
      "Fatal error processing trace file /home/XXX/trace-modeling-oss-fuzz-c/trace_test/traces/pjsip_own/trace_fuzz-uri_exe/log_1.xml: 'NoneType' object has no attribute 'xpath'\n",
      "Falling back to HTML parser for /home/XXX/trace-modeling-oss-fuzz-c/trace_test/traces/pjsip_own/trace_fuzz-xml_exe/log_0.xml\n",
      "Falling back to HTML parser for /home/XXX/trace-modeling-oss-fuzz-c/trace_test/traces/pjsip_own/trace_fuzz-xml_exe/log_1.xml\n",
      "Fatal error processing trace file /home/XXX/trace-modeling-oss-fuzz-c/trace_test/traces/pjsip_own/trace_fuzz-xml_exe/log_1.xml: 'NoneType' object has no attribute 'xpath'\n",
      "Falling back to HTML parser for /home/XXX/trace-modeling-oss-fuzz-c/trace_test/traces/pjsip_own/trace_fuzz-sip_exe/log_0.xml\n",
      "Falling back to HTML parser for /home/XXX/trace-modeling-oss-fuzz-c/trace_test/traces/pjsip_own/trace_fuzz-sip_exe/log_1.xml\n",
      "Fatal error processing trace file /home/XXX/trace-modeling-oss-fuzz-c/trace_test/traces/pjsip_own/trace_fuzz-sip_exe/log_1.xml: 'NoneType' object has no attribute 'xpath'\n",
      "Falling back to HTML parser for /home/XXX/trace-modeling-oss-fuzz-c/trace_test/traces/pjsip_own/trace_fuzz-h264_exe/log_0.xml\n",
      "Falling back to HTML parser for /home/XXX/trace-modeling-oss-fuzz-c/trace_test/traces/pjsip_own/trace_fuzz-h264_exe/log_1.xml\n",
      "Fatal error processing trace file /home/XXX/trace-modeling-oss-fuzz-c/trace_test/traces/pjsip_own/trace_fuzz-h264_exe/log_1.xml: 'NoneType' object has no attribute 'xpath'\n"
     ]
    },
    {
     "name": "stdout",
     "output_type": "stream",
     "text": [
      "\n",
      "Processed 34880/39034 files\n",
      "Current unique count: 613\n"
     ]
    },
    {
     "name": "stderr",
     "output_type": "stream",
     "text": [
      " 90%|████████▉ | 34974/39034 [1:06:42<01:55, 35.06it/s]"
     ]
    },
    {
     "name": "stdout",
     "output_type": "stream",
     "text": [
      "\n",
      "Processed 34960/39034 files\n",
      "Current unique count: 621\n"
     ]
    },
    {
     "name": "stderr",
     "output_type": "stream",
     "text": [
      " 90%|████████▉ | 35053/39034 [1:06:44<01:54, 34.84it/s]"
     ]
    },
    {
     "name": "stdout",
     "output_type": "stream",
     "text": [
      "\n",
      "Processed 35040/39034 files\n",
      "Current unique count: 621\n"
     ]
    },
    {
     "name": "stderr",
     "output_type": "stream",
     "text": [
      " 90%|█████████ | 35135/39034 [1:06:47<01:47, 36.33it/s]"
     ]
    },
    {
     "name": "stdout",
     "output_type": "stream",
     "text": [
      "\n",
      "Processed 35120/39034 files\n",
      "Current unique count: 621\n"
     ]
    },
    {
     "name": "stderr",
     "output_type": "stream",
     "text": [
      " 90%|█████████ | 35215/39034 [1:06:49<01:27, 43.64it/s]"
     ]
    },
    {
     "name": "stdout",
     "output_type": "stream",
     "text": [
      "\n",
      "Processed 35200/39034 files\n",
      "Current unique count: 621\n"
     ]
    },
    {
     "name": "stderr",
     "output_type": "stream",
     "text": [
      " 90%|█████████ | 35294/39034 [1:06:51<01:26, 43.10it/s]"
     ]
    },
    {
     "name": "stdout",
     "output_type": "stream",
     "text": [
      "\n",
      "Processed 35280/39034 files\n",
      "Current unique count: 624\n"
     ]
    },
    {
     "name": "stderr",
     "output_type": "stream",
     "text": [
      " 91%|█████████ | 35371/39034 [1:06:53<01:26, 42.23it/s]"
     ]
    },
    {
     "name": "stdout",
     "output_type": "stream",
     "text": [
      "\n",
      "Processed 35360/39034 files\n",
      "Current unique count: 624\n"
     ]
    },
    {
     "name": "stderr",
     "output_type": "stream",
     "text": [
      " 91%|█████████ | 35457/39034 [1:06:56<01:16, 46.99it/s]"
     ]
    },
    {
     "name": "stdout",
     "output_type": "stream",
     "text": [
      "\n",
      "Processed 35440/39034 files\n",
      "Current unique count: 624\n"
     ]
    },
    {
     "name": "stderr",
     "output_type": "stream",
     "text": [
      " 91%|█████████ | 35531/39034 [1:06:58<01:36, 36.42it/s]"
     ]
    },
    {
     "name": "stdout",
     "output_type": "stream",
     "text": [
      "\n",
      "Processed 35520/39034 files\n",
      "Current unique count: 624\n"
     ]
    },
    {
     "name": "stderr",
     "output_type": "stream",
     "text": [
      "Falling back to HTML parser for /home/XXX/trace-modeling-oss-fuzz-c/trace_test/traces/libssh_own/trace_ssh_known_hosts_fuzzer_exe_exe/log_2.xml\n",
      "Fatal error processing trace file /home/XXX/trace-modeling-oss-fuzz-c/trace_test/traces/libssh_own/trace_ssh_known_hosts_fuzzer_exe_exe/log_2.xml: 'NoneType' object has no attribute 'xpath'\n",
      "Falling back to HTML parser for /home/XXX/trace-modeling-oss-fuzz-c/trace_test/traces/libssh_own/trace_ssh_privkey_fuzzer_exe_exe/log_2.xml\n",
      "Fatal error processing trace file /home/XXX/trace-modeling-oss-fuzz-c/trace_test/traces/libssh_own/trace_ssh_privkey_fuzzer_exe_exe/log_2.xml: 'NoneType' object has no attribute 'xpath'\n",
      " 91%|█████████ | 35541/39034 [1:07:00<07:42,  7.55it/s]Falling back to HTML parser for /home/XXX/trace-modeling-oss-fuzz-c/trace_test/traces/libssh_own/trace_ssh_server_fuzzer_exe_exe/log_2.xml\n",
      "Fatal error processing trace file /home/XXX/trace-modeling-oss-fuzz-c/trace_test/traces/libssh_own/trace_ssh_server_fuzzer_exe_exe/log_2.xml: 'NoneType' object has no attribute 'xpath'\n",
      " 91%|█████████ | 35579/39034 [1:07:16<22:45,  2.53it/s]Falling back to HTML parser for /home/XXX/trace-modeling-oss-fuzz-c/trace_test/traces/libssh_own/trace_ssh_client_config_fuzzer_exe_exe/log_2.xml\n",
      "Fatal error processing trace file /home/XXX/trace-modeling-oss-fuzz-c/trace_test/traces/libssh_own/trace_ssh_client_config_fuzzer_exe_exe/log_2.xml: 'NoneType' object has no attribute 'xpath'\n",
      " 91%|█████████ | 35582/39034 [1:07:16<12:39,  4.55it/s]Falling back to HTML parser for /home/XXX/trace-modeling-oss-fuzz-c/trace_test/traces/libssh_own/trace_ssh_bind_config_fuzzer_exe_exe/log_2.xml\n",
      "Fatal error processing trace file /home/XXX/trace-modeling-oss-fuzz-c/trace_test/traces/libssh_own/trace_ssh_bind_config_fuzzer_exe_exe/log_2.xml: 'NoneType' object has no attribute 'xpath'\n",
      " 91%|█████████ | 35608/39034 [1:07:23<15:38,  3.65it/s]"
     ]
    },
    {
     "name": "stdout",
     "output_type": "stream",
     "text": [
      "\n",
      "Processed 35600/39034 files\n",
      "Current unique count: 649\n"
     ]
    },
    {
     "name": "stderr",
     "output_type": "stream",
     "text": [
      " 91%|█████████▏| 35694/39034 [1:07:33<01:51, 29.92it/s]"
     ]
    },
    {
     "name": "stdout",
     "output_type": "stream",
     "text": [
      "\n",
      "Processed 35680/39034 files\n",
      "Current unique count: 649\n"
     ]
    },
    {
     "name": "stderr",
     "output_type": "stream",
     "text": [
      " 92%|█████████▏| 35758/39034 [1:07:35<01:52, 29.22it/s]Falling back to HTML parser for /home/XXX/trace-modeling-oss-fuzz-c/trace_test/traces/libssh_own/trace_ssh_privkey_fuzzer_exe/log_148.xml\n",
      "Fatal error processing trace file /home/XXX/trace-modeling-oss-fuzz-c/trace_test/traces/libssh_own/trace_ssh_privkey_fuzzer_exe/log_148.xml: 'NoneType' object has no attribute 'xpath'\n",
      " 92%|█████████▏| 35777/39034 [1:07:36<01:32, 35.16it/s]"
     ]
    },
    {
     "name": "stdout",
     "output_type": "stream",
     "text": [
      "\n",
      "Processed 35760/39034 files\n",
      "Current unique count: 649\n"
     ]
    },
    {
     "name": "stderr",
     "output_type": "stream",
     "text": [
      " 92%|█████████▏| 35787/39034 [1:07:36<01:19, 40.97it/s]Falling back to HTML parser for /home/XXX/trace-modeling-oss-fuzz-c/trace_test/traces/libssh_own/trace_ssh_pubkey_fuzzer_exe_exe/log_2.xml\n",
      "Fatal error processing trace file /home/XXX/trace-modeling-oss-fuzz-c/trace_test/traces/libssh_own/trace_ssh_pubkey_fuzzer_exe_exe/log_2.xml: 'NoneType' object has no attribute 'xpath'\n",
      " 92%|█████████▏| 35827/39034 [1:07:46<15:49,  3.38it/s]Falling back to HTML parser for /home/XXX/trace-modeling-oss-fuzz-c/trace_test/traces/libssh_own/trace_ssh_client_fuzzer_exe_exe/log_2.xml\n",
      "Fatal error processing trace file /home/XXX/trace-modeling-oss-fuzz-c/trace_test/traces/libssh_own/trace_ssh_client_fuzzer_exe_exe/log_2.xml: 'NoneType' object has no attribute 'xpath'\n",
      " 92%|█████████▏| 35851/39034 [1:07:47<02:17, 23.14it/s]"
     ]
    },
    {
     "name": "stdout",
     "output_type": "stream",
     "text": [
      "\n",
      "Processed 35840/39034 files\n",
      "Current unique count: 649\n"
     ]
    },
    {
     "name": "stderr",
     "output_type": "stream",
     "text": [
      " 92%|█████████▏| 35934/39034 [1:07:50<01:47, 28.86it/s]"
     ]
    },
    {
     "name": "stdout",
     "output_type": "stream",
     "text": [
      "\n",
      "Processed 35920/39034 files\n",
      "Current unique count: 649\n"
     ]
    },
    {
     "name": "stderr",
     "output_type": "stream",
     "text": [
      " 92%|█████████▏| 36011/39034 [1:07:53<01:52, 26.95it/s]"
     ]
    },
    {
     "name": "stdout",
     "output_type": "stream",
     "text": [
      "\n",
      "Processed 36000/39034 files\n",
      "Current unique count: 649\n"
     ]
    },
    {
     "name": "stderr",
     "output_type": "stream",
     "text": [
      " 92%|█████████▏| 36090/39034 [1:07:56<01:50, 26.53it/s]"
     ]
    },
    {
     "name": "stdout",
     "output_type": "stream",
     "text": [
      "\n",
      "Processed 36080/39034 files\n",
      "Current unique count: 649\n"
     ]
    },
    {
     "name": "stderr",
     "output_type": "stream",
     "text": [
      " 93%|█████████▎| 36130/39034 [1:07:58<01:51, 26.04it/s]Falling back to HTML parser for /home/XXX/trace-modeling-oss-fuzz-c/trace_test/traces/krb5_own/trace_Fuzz_chpw_exe/log_5.xml\n",
      " 93%|█████████▎| 36133/39034 [1:07:58<03:30, 13.79it/s]Falling back to HTML parser for /home/XXX/trace-modeling-oss-fuzz-c/trace_test/traces/krb5_own/trace_Fuzz_profile_exe/log_4.xml\n",
      " 93%|█████████▎| 36173/39034 [1:07:59<01:23, 34.14it/s]"
     ]
    },
    {
     "name": "stdout",
     "output_type": "stream",
     "text": [
      "\n",
      "Processed 36160/39034 files\n",
      "Current unique count: 658\n"
     ]
    },
    {
     "name": "stderr",
     "output_type": "stream",
     "text": [
      " 93%|█████████▎| 36257/39034 [1:08:01<01:05, 42.15it/s]"
     ]
    },
    {
     "name": "stdout",
     "output_type": "stream",
     "text": [
      "\n",
      "Processed 36240/39034 files\n",
      "Current unique count: 658\n"
     ]
    },
    {
     "name": "stderr",
     "output_type": "stream",
     "text": [
      " 93%|█████████▎| 36335/39034 [1:08:03<01:00, 44.76it/s]"
     ]
    },
    {
     "name": "stdout",
     "output_type": "stream",
     "text": [
      "\n",
      "Processed 36320/39034 files\n",
      "Current unique count: 658\n"
     ]
    },
    {
     "name": "stderr",
     "output_type": "stream",
     "text": [
      " 93%|█████████▎| 36416/39034 [1:08:05<00:54, 48.21it/s]"
     ]
    },
    {
     "name": "stdout",
     "output_type": "stream",
     "text": [
      "\n",
      "Processed 36400/39034 files\n",
      "Current unique count: 658\n"
     ]
    },
    {
     "name": "stderr",
     "output_type": "stream",
     "text": [
      " 93%|█████████▎| 36496/39034 [1:08:08<01:13, 34.64it/s]"
     ]
    },
    {
     "name": "stdout",
     "output_type": "stream",
     "text": [
      "\n",
      "Processed 36480/39034 files\n",
      "Current unique count: 658\n"
     ]
    },
    {
     "name": "stderr",
     "output_type": "stream",
     "text": [
      " 94%|█████████▎| 36576/39034 [1:08:10<01:05, 37.62it/s]"
     ]
    },
    {
     "name": "stdout",
     "output_type": "stream",
     "text": [
      "\n",
      "Processed 36560/39034 files\n",
      "Current unique count: 658\n"
     ]
    },
    {
     "name": "stderr",
     "output_type": "stream",
     "text": [
      " 94%|█████████▍| 36651/39034 [1:08:12<01:00, 39.34it/s]"
     ]
    },
    {
     "name": "stdout",
     "output_type": "stream",
     "text": [
      "\n",
      "Processed 36640/39034 files\n",
      "Current unique count: 658\n"
     ]
    },
    {
     "name": "stderr",
     "output_type": "stream",
     "text": [
      " 94%|█████████▍| 36734/39034 [1:08:14<01:03, 36.16it/s]"
     ]
    },
    {
     "name": "stdout",
     "output_type": "stream",
     "text": [
      "\n",
      "Processed 36720/39034 files\n",
      "Current unique count: 658\n"
     ]
    },
    {
     "name": "stderr",
     "output_type": "stream",
     "text": [
      " 94%|█████████▍| 36812/39034 [1:08:16<00:58, 37.81it/s]"
     ]
    },
    {
     "name": "stdout",
     "output_type": "stream",
     "text": [
      "\n",
      "Processed 36800/39034 files\n",
      "Current unique count: 658\n"
     ]
    },
    {
     "name": "stderr",
     "output_type": "stream",
     "text": [
      " 95%|█████████▍| 36897/39034 [1:08:18<00:43, 49.38it/s]"
     ]
    },
    {
     "name": "stdout",
     "output_type": "stream",
     "text": [
      "\n",
      "Processed 36880/39034 files\n",
      "Current unique count: 658\n"
     ]
    },
    {
     "name": "stderr",
     "output_type": "stream",
     "text": [
      " 95%|█████████▍| 36932/39034 [1:08:19<01:01, 34.14it/s]Falling back to HTML parser for /home/XXX/trace-modeling-oss-fuzz-c/trace_test/traces/krb5_own/trace_Fuzz_pac_exe/log_17.xml\n",
      "Falling back to HTML parser for /home/XXX/trace-modeling-oss-fuzz-c/trace_test/traces/krb5_own/trace_Fuzz_marshal_exe/log_4.xml\n",
      " 95%|█████████▍| 36962/39034 [1:08:20<00:55, 37.34it/s]Falling back to HTML parser for /home/XXX/trace-modeling-oss-fuzz-c/trace_test/traces/krb5_own/trace_Fuzz_gss_accept_sec_context_exe/log_16.xml\n",
      " 95%|█████████▍| 36970/39034 [1:08:20<00:54, 37.73it/s]"
     ]
    },
    {
     "name": "stdout",
     "output_type": "stream",
     "text": [
      "\n",
      "Processed 36960/39034 files\n",
      "Current unique count: 663\n"
     ]
    },
    {
     "name": "stderr",
     "output_type": "stream",
     "text": [
      "Falling back to HTML parser for /home/XXX/trace-modeling-oss-fuzz-c/trace_test/traces/krb5_own/trace_Fuzz_krb5_exe/log_18.xml\n",
      "Falling back to HTML parser for /home/XXX/trace-modeling-oss-fuzz-c/trace_test/traces/jq_own/trace_jq_fuzz_execute_exe_exe/log_0.xml\n",
      "Falling back to HTML parser for /home/XXX/trace-modeling-oss-fuzz-c/trace_test/traces/jq_own/trace_jq_fuzz_execute_exe_exe/log_1.xml\n",
      "Fatal error processing trace file /home/XXX/trace-modeling-oss-fuzz-c/trace_test/traces/jq_own/trace_jq_fuzz_execute_exe_exe/log_1.xml: 'NoneType' object has no attribute 'xpath'\n",
      "Falling back to HTML parser for /home/XXX/trace-modeling-oss-fuzz-c/trace_test/traces/jq_own/trace_jq_fuzz_parse_stream_exe/log_0.xml\n",
      "Falling back to HTML parser for /home/XXX/trace-modeling-oss-fuzz-c/trace_test/traces/jq_own/trace_jq_fuzz_parse_stream_exe/log_1.xml\n",
      "Fatal error processing trace file /home/XXX/trace-modeling-oss-fuzz-c/trace_test/traces/jq_own/trace_jq_fuzz_parse_stream_exe/log_1.xml: 'NoneType' object has no attribute 'xpath'\n",
      "Falling back to HTML parser for /home/XXX/trace-modeling-oss-fuzz-c/trace_test/traces/jq_own/trace_jq_fuzz_parse_extended_exe/log_0.xml\n",
      "Falling back to HTML parser for /home/XXX/trace-modeling-oss-fuzz-c/trace_test/traces/jq_own/trace_jq_fuzz_parse_extended_exe/log_1.xml\n",
      "Fatal error processing trace file /home/XXX/trace-modeling-oss-fuzz-c/trace_test/traces/jq_own/trace_jq_fuzz_parse_extended_exe/log_1.xml: 'NoneType' object has no attribute 'xpath'\n",
      "Falling back to HTML parser for /home/XXX/trace-modeling-oss-fuzz-c/trace_test/traces/jq_own/trace_jq_fuzz_parse_exe/log_0.xml\n",
      "Falling back to HTML parser for /home/XXX/trace-modeling-oss-fuzz-c/trace_test/traces/jq_own/trace_jq_fuzz_parse_exe/log_1.xml\n",
      "Fatal error processing trace file /home/XXX/trace-modeling-oss-fuzz-c/trace_test/traces/jq_own/trace_jq_fuzz_parse_exe/log_1.xml: 'NoneType' object has no attribute 'xpath'\n",
      "Falling back to HTML parser for /home/XXX/trace-modeling-oss-fuzz-c/trace_test/traces/jq_own/trace_jq_fuzz_compile_exe_exe/log_0.xml\n",
      "Falling back to HTML parser for /home/XXX/trace-modeling-oss-fuzz-c/trace_test/traces/jq_own/trace_jq_fuzz_compile_exe_exe/log_1.xml\n",
      "Fatal error processing trace file /home/XXX/trace-modeling-oss-fuzz-c/trace_test/traces/jq_own/trace_jq_fuzz_compile_exe_exe/log_1.xml: 'NoneType' object has no attribute 'xpath'\n",
      "Falling back to HTML parser for /home/XXX/trace-modeling-oss-fuzz-c/trace_test/traces/jq_own/trace_jq_fuzz_load_file_exe/log_0.xml\n",
      "Falling back to HTML parser for /home/XXX/trace-modeling-oss-fuzz-c/trace_test/traces/jq_own/trace_jq_fuzz_load_file_exe/log_1.xml\n",
      "Fatal error processing trace file /home/XXX/trace-modeling-oss-fuzz-c/trace_test/traces/jq_own/trace_jq_fuzz_load_file_exe/log_1.xml: 'NoneType' object has no attribute 'xpath'\n",
      "Falling back to HTML parser for /home/XXX/trace-modeling-oss-fuzz-c/trace_test/traces/jq_own/trace_jq_fuzz_fixed_exe_exe/log_0.xml\n",
      "Falling back to HTML parser for /home/XXX/trace-modeling-oss-fuzz-c/trace_test/traces/jq_own/trace_jq_fuzz_fixed_exe_exe/log_1.xml\n",
      "Fatal error processing trace file /home/XXX/trace-modeling-oss-fuzz-c/trace_test/traces/jq_own/trace_jq_fuzz_fixed_exe_exe/log_1.xml: 'NoneType' object has no attribute 'xpath'\n",
      " 95%|█████████▍| 37006/39034 [1:08:25<03:25,  9.85it/s]Error processing source file: Source file not found: /home/XXX/trace-modeling-oss-fuzz-c/trace_test/traces/dovecot_own/trace_fuzz-json-istream_exe/src_3.xml\n"
     ]
    },
    {
     "name": "stdout",
     "output_type": "stream",
     "text": [
      "Error generating signature: [Errno 2] No such file or directory: '/home/XXX/trace-modeling-oss-fuzz-c/trace_test/traces/dovecot_own/trace_fuzz-json-istream_exe/src_3.xml'\n"
     ]
    },
    {
     "name": "stderr",
     "output_type": "stream",
     "text": [
      " 95%|█████████▍| 37013/39034 [1:08:32<08:08,  4.14it/s]Error processing source file: Source file not found: /home/XXX/trace-modeling-oss-fuzz-c/trace_test/traces/dovecot_own/trace_fuzz-imap-utf7_exe/src_6.xml\n",
      " 95%|█████████▍| 37015/39034 [1:08:32<08:26,  3.99it/s]"
     ]
    },
    {
     "name": "stdout",
     "output_type": "stream",
     "text": [
      "Error generating signature: [Errno 2] No such file or directory: '/home/XXX/trace-modeling-oss-fuzz-c/trace_test/traces/dovecot_own/trace_fuzz-imap-utf7_exe/src_6.xml'\n"
     ]
    },
    {
     "name": "stderr",
     "output_type": "stream",
     "text": [
      " 95%|█████████▍| 37018/39034 [1:08:35<11:48,  2.85it/s]Falling back to HTML parser for /home/XXX/trace-modeling-oss-fuzz-c/trace_test/traces/dovecot_own/trace_fuzz-imap-bodystructure_exe_exe/log_2.xml\n",
      "Fatal error processing trace file /home/XXX/trace-modeling-oss-fuzz-c/trace_test/traces/dovecot_own/trace_fuzz-imap-bodystructure_exe_exe/log_2.xml: 'NoneType' object has no attribute 'xpath'\n",
      " 95%|█████████▍| 37021/39034 [1:08:37<14:30,  2.31it/s]Falling back to HTML parser for /home/XXX/trace-modeling-oss-fuzz-c/trace_test/traces/dovecot_own/trace_fuzz-imap-utf7_exe_exe/log_2.xml\n",
      "Fatal error processing trace file /home/XXX/trace-modeling-oss-fuzz-c/trace_test/traces/dovecot_own/trace_fuzz-imap-utf7_exe_exe/log_2.xml: 'NoneType' object has no attribute 'xpath'\n",
      " 95%|█████████▍| 37036/39034 [1:08:42<06:35,  5.06it/s]Error processing source file: Source file not found: /home/XXX/trace-modeling-oss-fuzz-c/trace_test/traces/dovecot_own/trace_fuzz-smtp-server_exe/src_0.xml\n"
     ]
    },
    {
     "name": "stdout",
     "output_type": "stream",
     "text": [
      "Error generating signature: [Errno 2] No such file or directory: '/home/XXX/trace-modeling-oss-fuzz-c/trace_test/traces/dovecot_own/trace_fuzz-smtp-server_exe/src_0.xml'\n"
     ]
    },
    {
     "name": "stderr",
     "output_type": "stream",
     "text": [
      " 95%|█████████▍| 37048/39034 [1:08:47<09:27,  3.50it/s]"
     ]
    },
    {
     "name": "stdout",
     "output_type": "stream",
     "text": [
      "\n",
      "Processed 37040/39034 files\n",
      "Current unique count: 705\n"
     ]
    },
    {
     "name": "stderr",
     "output_type": "stream",
     "text": [
      " 95%|█████████▌| 37128/39034 [1:08:57<02:37, 12.06it/s]"
     ]
    },
    {
     "name": "stdout",
     "output_type": "stream",
     "text": [
      "\n",
      "Processed 37120/39034 files\n",
      "Current unique count: 705\n"
     ]
    },
    {
     "name": "stderr",
     "output_type": "stream",
     "text": [
      " 95%|█████████▌| 37209/39034 [1:09:08<03:35,  8.46it/s]"
     ]
    },
    {
     "name": "stdout",
     "output_type": "stream",
     "text": [
      "\n",
      "Processed 37200/39034 files\n",
      "Current unique count: 705\n"
     ]
    },
    {
     "name": "stderr",
     "output_type": "stream",
     "text": [
      " 96%|█████████▌| 37289/39034 [1:09:18<03:30,  8.29it/s]"
     ]
    },
    {
     "name": "stdout",
     "output_type": "stream",
     "text": [
      "\n",
      "Processed 37280/39034 files\n",
      "Current unique count: 705\n"
     ]
    },
    {
     "name": "stderr",
     "output_type": "stream",
     "text": [
      " 96%|█████████▌| 37368/39034 [1:09:32<05:47,  4.79it/s]"
     ]
    },
    {
     "name": "stdout",
     "output_type": "stream",
     "text": [
      "\n",
      "Processed 37360/39034 files\n",
      "Current unique count: 705\n"
     ]
    },
    {
     "name": "stderr",
     "output_type": "stream",
     "text": [
      " 96%|█████████▌| 37447/39034 [1:09:48<05:09,  5.13it/s]"
     ]
    },
    {
     "name": "stdout",
     "output_type": "stream",
     "text": [
      "\n",
      "Processed 37440/39034 files\n",
      "Current unique count: 705\n"
     ]
    },
    {
     "name": "stderr",
     "output_type": "stream",
     "text": [
      " 96%|█████████▌| 37533/39034 [1:09:59<01:02, 23.96it/s]"
     ]
    },
    {
     "name": "stdout",
     "output_type": "stream",
     "text": [
      "\n",
      "Processed 37520/39034 files\n",
      "Current unique count: 706\n"
     ]
    },
    {
     "name": "stderr",
     "output_type": "stream",
     "text": [
      " 96%|█████████▋| 37611/39034 [1:10:02<00:54, 26.07it/s]"
     ]
    },
    {
     "name": "stdout",
     "output_type": "stream",
     "text": [
      "\n",
      "Processed 37600/39034 files\n",
      "Current unique count: 706\n"
     ]
    },
    {
     "name": "stderr",
     "output_type": "stream",
     "text": [
      " 97%|█████████▋| 37691/39034 [1:10:05<00:42, 31.53it/s]"
     ]
    },
    {
     "name": "stdout",
     "output_type": "stream",
     "text": [
      "\n",
      "Processed 37680/39034 files\n",
      "Current unique count: 706\n"
     ]
    },
    {
     "name": "stderr",
     "output_type": "stream",
     "text": [
      " 97%|█████████▋| 37772/39034 [1:10:08<00:57, 22.01it/s]"
     ]
    },
    {
     "name": "stdout",
     "output_type": "stream",
     "text": [
      "\n",
      "Processed 37760/39034 files\n",
      "Current unique count: 706\n"
     ]
    },
    {
     "name": "stderr",
     "output_type": "stream",
     "text": [
      " 97%|█████████▋| 37855/39034 [1:10:11<00:38, 30.98it/s]"
     ]
    },
    {
     "name": "stdout",
     "output_type": "stream",
     "text": [
      "\n",
      "Processed 37840/39034 files\n",
      "Current unique count: 706\n"
     ]
    },
    {
     "name": "stderr",
     "output_type": "stream",
     "text": [
      " 97%|█████████▋| 37931/39034 [1:10:15<00:42, 26.12it/s]"
     ]
    },
    {
     "name": "stdout",
     "output_type": "stream",
     "text": [
      "\n",
      "Processed 37920/39034 files\n",
      "Current unique count: 706\n"
     ]
    },
    {
     "name": "stderr",
     "output_type": "stream",
     "text": [
      " 97%|█████████▋| 38015/39034 [1:10:18<00:32, 30.97it/s]"
     ]
    },
    {
     "name": "stdout",
     "output_type": "stream",
     "text": [
      "\n",
      "Processed 38000/39034 files\n",
      "Current unique count: 706\n"
     ]
    },
    {
     "name": "stderr",
     "output_type": "stream",
     "text": [
      " 98%|█████████▊| 38088/39034 [1:10:40<06:00,  2.62it/s]"
     ]
    },
    {
     "name": "stdout",
     "output_type": "stream",
     "text": [
      "\n",
      "Processed 38080/39034 files\n",
      "Current unique count: 707\n"
     ]
    },
    {
     "name": "stderr",
     "output_type": "stream",
     "text": [
      " 98%|█████████▊| 38172/39034 [1:10:51<00:33, 25.55it/s]"
     ]
    },
    {
     "name": "stdout",
     "output_type": "stream",
     "text": [
      "\n",
      "Processed 38160/39034 files\n",
      "Current unique count: 708\n"
     ]
    },
    {
     "name": "stderr",
     "output_type": "stream",
     "text": [
      " 98%|█████████▊| 38251/39034 [1:10:55<00:34, 22.51it/s]"
     ]
    },
    {
     "name": "stdout",
     "output_type": "stream",
     "text": [
      "\n",
      "Processed 38240/39034 files\n",
      "Current unique count: 708\n"
     ]
    },
    {
     "name": "stderr",
     "output_type": "stream",
     "text": [
      " 98%|█████████▊| 38332/39034 [1:10:58<00:27, 25.44it/s]"
     ]
    },
    {
     "name": "stdout",
     "output_type": "stream",
     "text": [
      "\n",
      "Processed 38320/39034 files\n",
      "Current unique count: 708\n"
     ]
    },
    {
     "name": "stderr",
     "output_type": "stream",
     "text": [
      " 98%|█████████▊| 38408/39034 [1:11:01<00:19, 31.77it/s]"
     ]
    },
    {
     "name": "stdout",
     "output_type": "stream",
     "text": [
      "\n",
      "Processed 38400/39034 files\n",
      "Current unique count: 708\n"
     ]
    },
    {
     "name": "stderr",
     "output_type": "stream",
     "text": [
      " 99%|█████████▊| 38492/39034 [1:11:05<00:22, 24.09it/s]"
     ]
    },
    {
     "name": "stdout",
     "output_type": "stream",
     "text": [
      "\n",
      "Processed 38480/39034 files\n",
      "Current unique count: 708\n"
     ]
    },
    {
     "name": "stderr",
     "output_type": "stream",
     "text": [
      " 99%|█████████▉| 38571/39034 [1:11:07<00:13, 33.21it/s]"
     ]
    },
    {
     "name": "stdout",
     "output_type": "stream",
     "text": [
      "\n",
      "Processed 38560/39034 files\n",
      "Current unique count: 708\n"
     ]
    },
    {
     "name": "stderr",
     "output_type": "stream",
     "text": [
      " 99%|█████████▉| 38646/39034 [1:11:16<01:02,  6.18it/s]"
     ]
    },
    {
     "name": "stdout",
     "output_type": "stream",
     "text": [
      "\n",
      "Processed 38640/39034 files\n",
      "Current unique count: 708\n"
     ]
    },
    {
     "name": "stderr",
     "output_type": "stream",
     "text": [
      " 99%|█████████▉| 38729/39034 [1:11:30<00:56,  5.35it/s]"
     ]
    },
    {
     "name": "stdout",
     "output_type": "stream",
     "text": [
      "\n",
      "Processed 38720/39034 files\n",
      "Current unique count: 708\n"
     ]
    },
    {
     "name": "stderr",
     "output_type": "stream",
     "text": [
      " 99%|█████████▉| 38809/39034 [1:11:42<00:29,  7.52it/s]"
     ]
    },
    {
     "name": "stdout",
     "output_type": "stream",
     "text": [
      "\n",
      "Processed 38800/39034 files\n",
      "Current unique count: 708\n"
     ]
    },
    {
     "name": "stderr",
     "output_type": "stream",
     "text": [
      "100%|█████████▉| 38888/39034 [1:11:57<00:33,  4.40it/s]"
     ]
    },
    {
     "name": "stdout",
     "output_type": "stream",
     "text": [
      "\n",
      "Processed 38880/39034 files\n",
      "Current unique count: 709\n"
     ]
    },
    {
     "name": "stderr",
     "output_type": "stream",
     "text": [
      "100%|█████████▉| 38968/39034 [1:12:12<00:08,  7.35it/s]"
     ]
    },
    {
     "name": "stdout",
     "output_type": "stream",
     "text": [
      "\n",
      "Processed 38960/39034 files\n",
      "Current unique count: 709\n"
     ]
    },
    {
     "name": "stderr",
     "output_type": "stream",
     "text": [
      "100%|█████████▉| 39033/39034 [1:12:24<00:00,  4.86it/s]Falling back to HTML parser for /home/XXX/trace-modeling-oss-fuzz-c/trace_test/traces/pycryptodome_own/trace_aes_fuzzer_exe/log_0.xml\n",
      "100%|██████████| 39034/39034 [1:12:24<00:00,  8.98it/s]"
     ]
    },
    {
     "name": "stdout",
     "output_type": "stream",
     "text": [
      "\n",
      "Completed. Total unique functions: 710\n"
     ]
    },
    {
     "name": "stderr",
     "output_type": "stream",
     "text": [
      "\n"
     ]
    },
    {
     "data": {
      "text/plain": [
       "[]"
      ]
     },
     "execution_count": 4,
     "metadata": {},
     "output_type": "execute_result"
    }
   ],
   "source": [
    "import json\n",
    "from filelock import FileLock \n",
    "\n",
    "class GlobalFunctionTracker:\n",
    "    \"\"\"Persistent function tracker using file storage\"\"\"\n",
    "    def __init__(self, cache_file=\".function_cache.json\"):\n",
    "        self.cache_file = cache_file\n",
    "        self.lock = FileLock(f\"{cache_file}.lock\")\n",
    "        self.cache = set()\n",
    "        self._load_cache()\n",
    "    \n",
    "    def _load_cache(self):\n",
    "        try:\n",
    "            with self.lock:\n",
    "                if os.path.exists(self.cache_file):\n",
    "                    with open(self.cache_file, 'r') as f:\n",
    "                        self.cache = set(json.load(f))\n",
    "        except Exception as e:\n",
    "            print(f\"Warning: Could not load cache - {e}\")\n",
    "            self.cache = set()\n",
    "    \n",
    "    def _save_cache(self):\n",
    "        try:\n",
    "            with self.lock:\n",
    "                with open(self.cache_file, 'w') as f:\n",
    "                    json.dump(list(self.cache), f)\n",
    "        except Exception as e:\n",
    "            print(f\"Warning: Could not save cache - {e}\")\n",
    "    \n",
    "    def add(self, func_signature):\n",
    "        \"\"\"Add a function signature to the global tracker\"\"\"\n",
    "        if func_signature not in self.cache:\n",
    "            self.cache.add(func_signature)\n",
    "            self._save_cache()\n",
    "            return True\n",
    "        return False\n",
    "    \n",
    "    def __contains__(self, func_signature):\n",
    "        return func_signature in self.cache\n",
    "\n",
    "# Initialize the global tracker at module level\n",
    "global_tracker = GlobalFunctionTracker()\n",
    "\n",
    "def get_function_signature(fpath, src_file):\n",
    "    \"\"\"Generate a more robust function signature\"\"\"\n",
    "    try:\n",
    "        # Use both the log file and source file to generate signature\n",
    "        with open(fpath, 'rb') as f:\n",
    "            log_content = f.read(1024).decode('utf-8', errors='ignore')\n",
    "        \n",
    "        with open(src_file, 'rb') as f:\n",
    "            src_content = f.read(2048).decode('utf-8', errors='ignore')\n",
    "        \n",
    "        # Create a signature from file metadata and content\n",
    "        return f\"{os.path.basename(fpath)}:{hash(log_content)}:{hash(src_content)}\"\n",
    "    except Exception as e:\n",
    "        print(f\"Error generating signature: {e}\")\n",
    "        return str(fpath)  # Fallback to filename\n",
    "\n",
    "def process_single_file(fpath, output_dir=\"output_1\"):\n",
    "    src_file_path = Path(str(fpath).replace(\"log_\", \"src_\"))\n",
    "    \n",
    "    try:\n",
    "        # Get robust function signature\n",
    "        func_signature = get_function_signature(fpath, src_file_path)\n",
    "        \n",
    "        # Check global tracker first\n",
    "        if func_signature in global_tracker:\n",
    "            return None\n",
    "        \n",
    "        # Process the file\n",
    "        total_samples = process_xml_to_code(\n",
    "            str(fpath),\n",
    "            str(src_file_path),\n",
    "            seen_signatures_global=global_tracker,  # Pass to inner function\n",
    "            output_dir=output_dir\n",
    "        )\n",
    "        \n",
    "        # Add to global tracker if processing succeeded\n",
    "        if total_samples is not None:\n",
    "            global_tracker.add(func_signature)\n",
    "        \n",
    "        return total_samples\n",
    "    \n",
    "    except Exception as e:\n",
    "        print(f\"Error processing {fpath}: {e}\")\n",
    "        return None\n",
    "\n",
    "\n",
    "def process_files_in_batches(log_files, batch_size=8, output_dir=\"output1\"):\n",
    "    # Process in batches\n",
    "    results = []\n",
    "    with tqdm.tqdm(total=len(log_files)) as pbar:\n",
    "        for i in range(0, len(log_files), batch_size):\n",
    "            batch = log_files[i:i+batch_size]\n",
    "            \n",
    "            # Process batch (no need for shared set anymore)\n",
    "            batch_results = []\n",
    "            for fpath in batch:\n",
    "                result = process_single_file(fpath, output_dir=output_dir)\n",
    "                if result is not None:\n",
    "                    batch_results.append(result)\n",
    "                pbar.update(1)\n",
    "            \n",
    "            results.extend(batch_results)\n",
    "            \n",
    "            # Periodic status\n",
    "            if i % (10*batch_size) == 0:\n",
    "                print(f\"\\nProcessed {i}/{len(log_files)} files\")\n",
    "                print(f\"Current unique count: {len(global_tracker.cache)}\")\n",
    "    \n",
    "    print(f\"\\nCompleted. Total unique functions: {len(global_tracker.cache)}\")\n",
    "    return results\n",
    "\n",
    "process_files_in_batches(log_files, batch_size=8)"
   ]
  },
  {
   "cell_type": "code",
   "execution_count": 5,
   "metadata": {},
   "outputs": [
    {
     "name": "stdout",
     "output_type": "stream",
     "text": [
      "Block Size Counts:\n",
      "Size 1: 26 samples\n",
      "Size 2: 25 samples\n",
      "Size 3: 30 samples\n"
     ]
    }
   ],
   "source": [
    "import json\n",
    "\n",
    "# Initialize counters\n",
    "block_size_counts = {1: 0, 2: 0, 3: 0}\n",
    "\n",
    "# Path to your JSON Lines file\n",
    "file_path = \"/home/XXX/Tracing/Annotation/C Benchmark Collection/RQ2/output1/block_analysis_c.jsonl\"\n",
    "\n",
    "try:\n",
    "    with open(file_path, 'r') as file:\n",
    "        for line in file:\n",
    "            try:\n",
    "                # Parse JSON from each line\n",
    "                entry = json.loads(line)\n",
    "                \n",
    "                # Get block size (default to 0 if not found)\n",
    "                block_size = entry.get(\"Block_Size\", 0)\n",
    "                \n",
    "                # Update counters for sizes 1-3\n",
    "                if block_size in block_size_counts:\n",
    "                    block_size_counts[block_size] += 1\n",
    "                    \n",
    "            except json.JSONDecodeError:\n",
    "                print(f\"Skipping invalid JSON line: {line}\")\n",
    "                \n",
    "except FileNotFoundError:\n",
    "    print(f\"Error: File not found at {file_path}\")\n",
    "except Exception as e:\n",
    "    print(f\"An error occurred: {str(e)}\")\n",
    "\n",
    "# Print results\n",
    "print(\"Block Size Counts:\")\n",
    "for size, count in block_size_counts.items():\n",
    "    print(f\"Size {size}: {count} samples\")"
   ]
  }
 ],
 "metadata": {
  "kernelspec": {
   "display_name": "venv",
   "language": "python",
   "name": "python3"
  },
  "language_info": {
   "codemirror_mode": {
    "name": "ipython",
    "version": 3
   },
   "file_extension": ".py",
   "mimetype": "text/x-python",
   "name": "python",
   "nbconvert_exporter": "python",
   "pygments_lexer": "ipython3",
   "version": "3.10.12"
  }
 },
 "nbformat": 4,
 "nbformat_minor": 2
}
