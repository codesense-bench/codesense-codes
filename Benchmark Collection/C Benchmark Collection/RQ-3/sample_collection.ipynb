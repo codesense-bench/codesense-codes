{
 "cells": [
  {
   "cell_type": "code",
   "execution_count": 1,
   "id": "7a3f31a6",
   "metadata": {},
   "outputs": [
    {
     "name": "stdout",
     "output_type": "stream",
     "text": [
      "84\n",
      "39034\n"
     ]
    }
   ],
   "source": [
    "# Load C traces\n",
    "import pandas as pd\n",
    "import json\n",
    "import re\n",
    "from pprint import pp\n",
    "from tree_sitter_languages import get_parser\n",
    "import os\n",
    "from lxml import etree\n",
    "from pathlib import Path\n",
    "import tqdm\n",
    "\n",
    "#files = list(Path('C/Traces').glob(\"**/log_*.xml\"))\n",
    "\n",
    "# Define the base directory\n",
    "base_dir = Path('/home/XXX/trace-modeling-oss-fuzz-c/trace_test/traces')\n",
    "\n",
    "# List all directories ending with '_own'\n",
    "own_dirs = [d for d in base_dir.glob(\"*_own\") if d.is_dir()]\n",
    "\n",
    "log_files = []\n",
    "\n",
    "for trace_dir in own_dirs:\n",
    "    log_files.extend(Path(trace_dir).glob(\"**/log_*.xml\"))\n",
    "\n",
    "print(len(own_dirs))\n",
    "print(len(log_files))"
   ]
  },
  {
   "cell_type": "code",
   "execution_count": 2,
   "id": "9f7e9b99",
   "metadata": {},
   "outputs": [
    {
     "name": "stderr",
     "output_type": "stream",
     "text": [
      "  0%|          | 0/39034 [00:00<?, ?it/s]Error processing source file: Source file not found: /home/XXX/trace-modeling-oss-fuzz-c/trace_test/traces/tarantool_own/trace_luaL_loadbuffer_fuzzer_exe/src_0.xml\n",
      "Falling back to HTML parser for /home/XXX/trace-modeling-oss-fuzz-c/trace_test/traces/tarantool_own/trace_swim_proto_member_fuzzer_exe/log_0.xml\n",
      "Error processing call: 'NoneType' object has no attribute 'splitlines'\n",
      "Error processing call: 'NoneType' object has no attribute 'splitlines'\n",
      "Error processing call: 'NoneType' object has no attribute 'splitlines'\n",
      "Error processing call: 'NoneType' object has no attribute 'splitlines'\n",
      "Error processing call: 'NoneType' object has no attribute 'splitlines'\n",
      "Error processing call: 'NoneType' object has no attribute 'splitlines'\n",
      "Error processing call: 'NoneType' object has no attribute 'splitlines'\n",
      "Error processing call: 'NoneType' object has no attribute 'splitlines'\n",
      "Error processing call: 'NoneType' object has no attribute 'splitlines'\n",
      "Error processing call: 'NoneType' object has no attribute 'splitlines'\n",
      "Error processing call: 'NoneType' object has no attribute 'splitlines'\n",
      "Error processing call: 'NoneType' object has no attribute 'splitlines'\n",
      "Error processing call: 'NoneType' object has no attribute 'splitlines'\n",
      "Error processing call: 'NoneType' object has no attribute 'splitlines'\n",
      "Error processing call: 'NoneType' object has no attribute 'splitlines'\n",
      "Error processing call: 'NoneType' object has no attribute 'splitlines'\n",
      "Error processing call: 'NoneType' object has no attribute 'splitlines'\n",
      "Error processing call: 'NoneType' object has no attribute 'splitlines'\n",
      "Error processing call: 'NoneType' object has no attribute 'splitlines'\n",
      "Error processing call: 'NoneType' object has no attribute 'splitlines'\n",
      "Error processing call: 'NoneType' object has no attribute 'splitlines'\n",
      "Error processing call: 'NoneType' object has no attribute 'splitlines'\n",
      "Error processing call: 'NoneType' object has no attribute 'splitlines'\n",
      "Error processing call: 'NoneType' object has no attribute 'splitlines'\n",
      "Error processing call: 'NoneType' object has no attribute 'splitlines'\n",
      "Error processing call: 'NoneType' object has no attribute 'splitlines'\n",
      "Error processing call: 'NoneType' object has no attribute 'splitlines'\n",
      "Error processing call: 'NoneType' object has no attribute 'splitlines'\n",
      "Error processing call: 'NoneType' object has no attribute 'splitlines'\n",
      "Error processing call: 'NoneType' object has no attribute 'splitlines'\n",
      "Error processing call: 'NoneType' object has no attribute 'splitlines'\n",
      "Error processing call: 'NoneType' object has no attribute 'splitlines'\n",
      "Error processing call: 'NoneType' object has no attribute 'splitlines'\n",
      "Error processing call: 'NoneType' object has no attribute 'splitlines'\n"
     ]
    },
    {
     "name": "stdout",
     "output_type": "stream",
     "text": [
      "Skipping - Token count 3691 >= 2500\n"
     ]
    },
    {
     "name": "stderr",
     "output_type": "stream",
     "text": [
      "  0%|          | 2/39034 [00:02<10:58:40,  1.01s/it]Falling back to HTML parser for /home/XXX/trace-modeling-oss-fuzz-c/trace_test/traces/tarantool_own/trace_csv_fuzzer_exe_exe/log_2.xml\n",
      "Fatal error processing trace file /home/XXX/trace-modeling-oss-fuzz-c/trace_test/traces/tarantool_own/trace_csv_fuzzer_exe_exe/log_2.xml: 'NoneType' object has no attribute 'xpath'\n",
      "Falling back to HTML parser for /home/XXX/trace-modeling-oss-fuzz-c/trace_test/traces/tarantool_own/trace_swim_proto_meta_fuzzer_exe/log_0.xml\n",
      "Error processing call: 'NoneType' object has no attribute 'splitlines'\n",
      "Error processing call: 'NoneType' object has no attribute 'splitlines'\n",
      "Error processing call: 'NoneType' object has no attribute 'splitlines'\n",
      "Error processing call: 'NoneType' object has no attribute 'splitlines'\n",
      "Error processing call: 'NoneType' object has no attribute 'splitlines'\n",
      "Error processing call: 'NoneType' object has no attribute 'splitlines'\n",
      "Error processing call: 'NoneType' object has no attribute 'splitlines'\n",
      "Error processing call: 'NoneType' object has no attribute 'splitlines'\n",
      "Error processing call: 'NoneType' object has no attribute 'splitlines'\n",
      "Error processing call: 'NoneType' object has no attribute 'splitlines'\n",
      "Error processing call: 'NoneType' object has no attribute 'splitlines'\n",
      "Error processing call: 'NoneType' object has no attribute 'splitlines'\n",
      "Error processing call: 'NoneType' object has no attribute 'splitlines'\n",
      "Error processing call: 'NoneType' object has no attribute 'splitlines'\n",
      "Error processing call: 'NoneType' object has no attribute 'splitlines'\n",
      "Error processing call: 'NoneType' object has no attribute 'splitlines'\n",
      "Error processing call: 'NoneType' object has no attribute 'splitlines'\n",
      "Error processing call: 'NoneType' object has no attribute 'splitlines'\n",
      "Error processing call: 'NoneType' object has no attribute 'splitlines'\n",
      "Error processing call: 'NoneType' object has no attribute 'splitlines'\n",
      "Error processing call: 'NoneType' object has no attribute 'splitlines'\n",
      "Error processing call: 'NoneType' object has no attribute 'splitlines'\n",
      "Error processing call: 'NoneType' object has no attribute 'splitlines'\n",
      "Error processing call: 'NoneType' object has no attribute 'splitlines'\n",
      "Error processing call: 'NoneType' object has no attribute 'splitlines'\n",
      "Error processing call: 'NoneType' object has no attribute 'splitlines'\n",
      "Error processing call: 'NoneType' object has no attribute 'splitlines'\n",
      "Error processing call: 'NoneType' object has no attribute 'splitlines'\n",
      "Error processing call: 'NoneType' object has no attribute 'splitlines'\n",
      "Error processing call: 'NoneType' object has no attribute 'splitlines'\n",
      "Error processing call: 'NoneType' object has no attribute 'splitlines'\n",
      "Error processing call: 'NoneType' object has no attribute 'splitlines'\n",
      "Error processing call: 'NoneType' object has no attribute 'splitlines'\n",
      "Error processing call: 'NoneType' object has no attribute 'splitlines'\n"
     ]
    },
    {
     "name": "stdout",
     "output_type": "stream",
     "text": [
      "Skipping - Token count 3693 >= 2500\n"
     ]
    },
    {
     "name": "stderr",
     "output_type": "stream",
     "text": [
      "  0%|          | 8/39034 [00:05<6:34:35,  1.65it/s] "
     ]
    },
    {
     "name": "stdout",
     "output_type": "stream",
     "text": [
      "\n",
      "Processed 0/39034 files\n",
      "Valid results: 1\n",
      "Unique function/input pairs: 1\n"
     ]
    },
    {
     "name": "stderr",
     "output_type": "stream",
     "text": [
      "  0%|          | 88/39034 [00:54<5:55:42,  1.82it/s]"
     ]
    },
    {
     "name": "stdout",
     "output_type": "stream",
     "text": [
      "\n",
      "Processed 80/39034 files\n",
      "Valid results: 1\n",
      "Unique function/input pairs: 1\n"
     ]
    },
    {
     "name": "stderr",
     "output_type": "stream",
     "text": [
      "  0%|          | 168/39034 [01:51<5:55:43,  1.82it/s]"
     ]
    },
    {
     "name": "stdout",
     "output_type": "stream",
     "text": [
      "\n",
      "Processed 160/39034 files\n",
      "Valid results: 1\n",
      "Unique function/input pairs: 1\n"
     ]
    },
    {
     "name": "stderr",
     "output_type": "stream",
     "text": [
      "  1%|          | 250/39034 [02:01<16:19, 39.59it/s]  "
     ]
    },
    {
     "name": "stdout",
     "output_type": "stream",
     "text": [
      "\n",
      "Processed 240/39034 files\n",
      "Valid results: 3\n",
      "Unique function/input pairs: 3\n"
     ]
    },
    {
     "name": "stderr",
     "output_type": "stream",
     "text": [
      "  1%|          | 333/39034 [02:03<15:25, 41.81it/s]"
     ]
    },
    {
     "name": "stdout",
     "output_type": "stream",
     "text": [
      "\n",
      "Processed 320/39034 files\n",
      "Valid results: 3\n",
      "Unique function/input pairs: 3\n"
     ]
    },
    {
     "name": "stderr",
     "output_type": "stream",
     "text": [
      "  1%|          | 415/39034 [02:05<16:47, 38.33it/s]"
     ]
    },
    {
     "name": "stdout",
     "output_type": "stream",
     "text": [
      "\n",
      "Processed 400/39034 files\n",
      "Valid results: 3\n",
      "Unique function/input pairs: 3\n"
     ]
    },
    {
     "name": "stderr",
     "output_type": "stream",
     "text": [
      "  1%|▏         | 494/39034 [02:07<16:33, 38.81it/s]"
     ]
    },
    {
     "name": "stdout",
     "output_type": "stream",
     "text": [
      "\n",
      "Processed 480/39034 files\n",
      "Valid results: 3\n",
      "Unique function/input pairs: 3\n"
     ]
    },
    {
     "name": "stderr",
     "output_type": "stream",
     "text": [
      "  1%|▏         | 575/39034 [02:09<16:04, 39.86it/s]"
     ]
    },
    {
     "name": "stdout",
     "output_type": "stream",
     "text": [
      "\n",
      "Processed 560/39034 files\n",
      "Valid results: 3\n",
      "Unique function/input pairs: 3\n"
     ]
    },
    {
     "name": "stderr",
     "output_type": "stream",
     "text": [
      "  2%|▏         | 652/39034 [02:11<15:54, 40.20it/s]"
     ]
    },
    {
     "name": "stdout",
     "output_type": "stream",
     "text": [
      "\n",
      "Processed 640/39034 files\n",
      "Valid results: 3\n",
      "Unique function/input pairs: 3\n"
     ]
    },
    {
     "name": "stderr",
     "output_type": "stream",
     "text": [
      "  2%|▏         | 735/39034 [02:13<14:24, 44.29it/s]"
     ]
    },
    {
     "name": "stdout",
     "output_type": "stream",
     "text": [
      "\n",
      "Processed 720/39034 files\n",
      "Valid results: 3\n",
      "Unique function/input pairs: 3\n"
     ]
    },
    {
     "name": "stderr",
     "output_type": "stream",
     "text": [
      "  2%|▏         | 765/39034 [02:14<18:06, 35.23it/s]Falling back to HTML parser for /home/XXX/trace-modeling-oss-fuzz-c/trace_test/traces/tarantool_own/trace_xrow_decode_watch_fuzzer_exe/log_0.xml\n",
      "Error processing call: 'NoneType' object has no attribute 'splitlines'\n",
      "Error processing call: 'NoneType' object has no attribute 'splitlines'\n",
      "Error processing call: 'NoneType' object has no attribute 'splitlines'\n",
      "  2%|▏         | 769/39034 [02:14<18:35, 34.31it/s]Falling back to HTML parser for /home/XXX/trace-modeling-oss-fuzz-c/trace_test/traces/tarantool_own/trace_mp_datetime_fuzzer_exe/log_12.xml\n",
      "Fatal error processing trace file /home/XXX/trace-modeling-oss-fuzz-c/trace_test/traces/tarantool_own/trace_mp_datetime_fuzzer_exe/log_12.xml: 'NoneType' object has no attribute 'xpath'\n",
      "  2%|▏         | 779/39034 [02:14<12:46, 49.91it/s]Falling back to HTML parser for /home/XXX/trace-modeling-oss-fuzz-c/trace_test/traces/tarantool_own/trace_xrow_decode_auth_fuzzer_exe/log_0.xml\n",
      "Error processing source file: Source file not found: /home/XXX/trace-modeling-oss-fuzz-c/trace_test/traces/tarantool_own/trace_xrow_decode_id_fuzzer_exe/src_0.xml\n",
      "  2%|▏         | 785/39034 [02:14<16:36, 38.40it/s]Falling back to HTML parser for /home/XXX/trace-modeling-oss-fuzz-c/trace_test/traces/tarantool_own/trace_datetime_strptime_fuzzer_exe_exe/log_2.xml\n",
      "Fatal error processing trace file /home/XXX/trace-modeling-oss-fuzz-c/trace_test/traces/tarantool_own/trace_datetime_strptime_fuzzer_exe_exe/log_2.xml: 'NoneType' object has no attribute 'xpath'\n",
      "Error processing source file: Source file not found: /home/XXX/trace-modeling-oss-fuzz-c/trace_test/traces/tarantool_own/trace_xrow_decode_call_fuzzer_exe/src_0.xml\n",
      "Error processing call: 'NoneType' object has no attribute 'splitlines'\n",
      "Error processing call: 'NoneType' object has no attribute 'splitlines'\n",
      "Error processing source file: Source file not found: /home/XXX/trace-modeling-oss-fuzz-c/trace_test/traces/tarantool_own/trace_xrow_decode_dml_fuzzer_exe/src_0.xml\n",
      "  2%|▏         | 810/39034 [02:15<33:38, 18.94it/s]"
     ]
    },
    {
     "name": "stdout",
     "output_type": "stream",
     "text": [
      "\n",
      "Processed 800/39034 files\n",
      "Valid results: 7\n",
      "Unique function/input pairs: 7\n"
     ]
    },
    {
     "name": "stderr",
     "output_type": "stream",
     "text": [
      "  2%|▏         | 889/39034 [02:20<41:49, 15.20it/s]"
     ]
    },
    {
     "name": "stdout",
     "output_type": "stream",
     "text": [
      "\n",
      "Processed 880/39034 files\n",
      "Valid results: 8\n",
      "Unique function/input pairs: 8\n"
     ]
    },
    {
     "name": "stderr",
     "output_type": "stream",
     "text": [
      "  2%|▏         | 970/39034 [02:26<44:37, 14.21it/s]"
     ]
    },
    {
     "name": "stdout",
     "output_type": "stream",
     "text": [
      "\n",
      "Processed 960/39034 files\n",
      "Valid results: 8\n",
      "Unique function/input pairs: 8\n"
     ]
    },
    {
     "name": "stderr",
     "output_type": "stream",
     "text": [
      "  3%|▎         | 1048/39034 [02:31<37:37, 16.83it/s]"
     ]
    },
    {
     "name": "stdout",
     "output_type": "stream",
     "text": [
      "\n",
      "Processed 1040/39034 files\n",
      "Valid results: 8\n",
      "Unique function/input pairs: 8\n"
     ]
    },
    {
     "name": "stderr",
     "output_type": "stream",
     "text": [
      "  3%|▎         | 1131/39034 [02:36<34:14, 18.45it/s]"
     ]
    },
    {
     "name": "stdout",
     "output_type": "stream",
     "text": [
      "\n",
      "Processed 1120/39034 files\n",
      "Valid results: 9\n",
      "Unique function/input pairs: 9\n"
     ]
    },
    {
     "name": "stderr",
     "output_type": "stream",
     "text": [
      "  3%|▎         | 1209/39034 [02:41<42:55, 14.69it/s]"
     ]
    },
    {
     "name": "stdout",
     "output_type": "stream",
     "text": [
      "\n",
      "Processed 1200/39034 files\n",
      "Valid results: 9\n",
      "Unique function/input pairs: 9\n"
     ]
    },
    {
     "name": "stderr",
     "output_type": "stream",
     "text": [
      "  3%|▎         | 1256/39034 [02:45<43:00, 14.64it/s]Error processing source file: Source file not found: /home/XXX/trace-modeling-oss-fuzz-c/trace_test/traces/tarantool_own/trace_xrow_decode_begin_fuzzer_exe/src_0.xml\n",
      "Error processing source file: Source file not found: /home/XXX/trace-modeling-oss-fuzz-c/trace_test/traces/tarantool_own/trace_xrow_decode_raft_fuzzer_exe/src_0.xml\n",
      "Falling back to HTML parser for /home/XXX/trace-modeling-oss-fuzz-c/trace_test/traces/tarantool_own/trace_xrow_decode_sql_fuzzer_exe/log_0.xml\n",
      "Error processing call: 'NoneType' object has no attribute 'splitlines'\n",
      "Error processing call: 'NoneType' object has no attribute 'splitlines'\n",
      "  3%|▎         | 1290/39034 [02:46<35:13, 17.86it/s]"
     ]
    },
    {
     "name": "stdout",
     "output_type": "stream",
     "text": [
      "\n",
      "Processed 1280/39034 files\n",
      "Valid results: 9\n",
      "Unique function/input pairs: 9\n"
     ]
    },
    {
     "name": "stderr",
     "output_type": "stream",
     "text": [
      "  4%|▎         | 1370/39034 [02:51<33:23, 18.80it/s]"
     ]
    },
    {
     "name": "stdout",
     "output_type": "stream",
     "text": [
      "\n",
      "Processed 1360/39034 files\n",
      "Valid results: 9\n",
      "Unique function/input pairs: 9\n"
     ]
    },
    {
     "name": "stderr",
     "output_type": "stream",
     "text": [
      "  4%|▎         | 1450/39034 [02:56<35:56, 17.43it/s]"
     ]
    },
    {
     "name": "stdout",
     "output_type": "stream",
     "text": [
      "\n",
      "Processed 1440/39034 files\n",
      "Valid results: 9\n",
      "Unique function/input pairs: 9\n"
     ]
    },
    {
     "name": "stderr",
     "output_type": "stream",
     "text": [
      "  4%|▍         | 1498/39034 [02:59<38:43, 16.16it/s]Error processing call: 'NoneType' object has no attribute 'splitlines'\n",
      "Error processing call: 'NoneType' object has no attribute 'splitlines'\n",
      "Error processing call: 'NoneType' object has no attribute 'splitlines'\n",
      "Error processing call: 'NoneType' object has no attribute 'splitlines'\n",
      "Error processing call: 'NoneType' object has no attribute 'splitlines'\n",
      "Falling back to HTML parser for /home/XXX/trace-modeling-oss-fuzz-c/trace_test/traces/rabbitmq-c_own/trace_fuzz_server_exe_exe/log_0.xml\n",
      "Falling back to HTML parser for /home/XXX/trace-modeling-oss-fuzz-c/trace_test/traces/rabbitmq-c_own/trace_fuzz_server_exe_exe/log_1.xml\n",
      "Fatal error processing trace file /home/XXX/trace-modeling-oss-fuzz-c/trace_test/traces/rabbitmq-c_own/trace_fuzz_server_exe_exe/log_1.xml: 'NoneType' object has no attribute 'xpath'\n",
      "Falling back to HTML parser for /home/XXX/trace-modeling-oss-fuzz-c/trace_test/traces/rabbitmq-c_own/trace_fuzz_server_exe/log_0.xml\n",
      "Falling back to HTML parser for /home/XXX/trace-modeling-oss-fuzz-c/trace_test/traces/rabbitmq-c_own/trace_fuzz_server_exe/log_1.xml\n",
      "Fatal error processing trace file /home/XXX/trace-modeling-oss-fuzz-c/trace_test/traces/rabbitmq-c_own/trace_fuzz_server_exe/log_1.xml: 'NoneType' object has no attribute 'xpath'\n",
      "Falling back to HTML parser for /home/XXX/trace-modeling-oss-fuzz-c/trace_test/traces/rabbitmq-c_own/trace_fuzz_table_exe_exe/log_0.xml\n",
      "Falling back to HTML parser for /home/XXX/trace-modeling-oss-fuzz-c/trace_test/traces/rabbitmq-c_own/trace_fuzz_table_exe_exe/log_1.xml\n",
      "Fatal error processing trace file /home/XXX/trace-modeling-oss-fuzz-c/trace_test/traces/rabbitmq-c_own/trace_fuzz_table_exe_exe/log_1.xml: 'NoneType' object has no attribute 'xpath'\n",
      "Falling back to HTML parser for /home/XXX/trace-modeling-oss-fuzz-c/trace_test/traces/rabbitmq-c_own/trace_fuzz_url_exe_exe/log_0.xml\n",
      "Falling back to HTML parser for /home/XXX/trace-modeling-oss-fuzz-c/trace_test/traces/rabbitmq-c_own/trace_fuzz_url_exe_exe/log_1.xml\n",
      "Fatal error processing trace file /home/XXX/trace-modeling-oss-fuzz-c/trace_test/traces/rabbitmq-c_own/trace_fuzz_url_exe_exe/log_1.xml: 'NoneType' object has no attribute 'xpath'\n",
      "Falling back to HTML parser for /home/XXX/trace-modeling-oss-fuzz-c/trace_test/traces/rabbitmq-c_own/trace_fuzz_table_exe/log_0.xml\n",
      "Falling back to HTML parser for /home/XXX/trace-modeling-oss-fuzz-c/trace_test/traces/rabbitmq-c_own/trace_fuzz_table_exe/log_1.xml\n",
      "Fatal error processing trace file /home/XXX/trace-modeling-oss-fuzz-c/trace_test/traces/rabbitmq-c_own/trace_fuzz_table_exe/log_1.xml: 'NoneType' object has no attribute 'xpath'\n",
      "Falling back to HTML parser for /home/XXX/trace-modeling-oss-fuzz-c/trace_test/traces/rabbitmq-c_own/trace_fuzz_url_exe/log_0.xml\n",
      "Falling back to HTML parser for /home/XXX/trace-modeling-oss-fuzz-c/trace_test/traces/rabbitmq-c_own/trace_fuzz_url_exe/log_1.xml\n",
      "Fatal error processing trace file /home/XXX/trace-modeling-oss-fuzz-c/trace_test/traces/rabbitmq-c_own/trace_fuzz_url_exe/log_1.xml: 'NoneType' object has no attribute 'xpath'\n",
      "Falling back to HTML parser for /home/XXX/trace-modeling-oss-fuzz-c/trace_test/traces/civetweb_own/trace_civetweb_fuzz3_exe_exe/log_0.xml\n",
      "  4%|▍         | 1513/39034 [03:46<25:00:04,  2.40s/it]Falling back to HTML parser for /home/XXX/trace-modeling-oss-fuzz-c/trace_test/traces/civetweb_own/trace_civetweb_fuzz2_exe_exe/log_0.xml\n",
      "  4%|▍         | 1514/39034 [04:50<68:13:49,  6.55s/it]Falling back to HTML parser for /home/XXX/trace-modeling-oss-fuzz-c/trace_test/traces/civetweb_own/trace_civetweb_fuzz1_exe_exe/log_0.xml\n",
      "  4%|▍         | 1515/39034 [05:54<120:29:16, 11.56s/it]Falling back to HTML parser for /home/XXX/trace-modeling-oss-fuzz-c/trace_test/traces/libpg_query_own/trace_fuzz_parser_exe_exe/log_0.xml\n",
      "  4%|▍         | 1516/39034 [05:54<107:33:44, 10.32s/it]Falling back to HTML parser for /home/XXX/trace-modeling-oss-fuzz-c/trace_test/traces/libpg_query_own/trace_fuzz_parser_exe/log_0.xml\n",
      "  4%|▍         | 1529/39034 [05:56<5:15:34,  1.98it/s]  "
     ]
    },
    {
     "name": "stdout",
     "output_type": "stream",
     "text": [
      "\n",
      "Processed 1520/39034 files\n",
      "Valid results: 13\n",
      "Unique function/input pairs: 13\n"
     ]
    },
    {
     "name": "stderr",
     "output_type": "stream",
     "text": [
      "  4%|▍         | 1571/39034 [06:04<6:56:46,  1.50it/s]Error processing call: 'NoneType' object has no attribute 'splitlines'\n",
      "Error processing call: 'NoneType' object has no attribute 'splitlines'\n",
      "Error processing call: 'NoneType' object has no attribute 'splitlines'\n",
      "Error processing call: 'NoneType' object has no attribute 'splitlines'\n",
      "Error processing call: 'NoneType' object has no attribute 'splitlines'\n",
      "Error processing call: 'NoneType' object has no attribute 'splitlines'\n",
      "Error processing call: 'NoneType' object has no attribute 'splitlines'\n",
      "Error processing call: 'NoneType' object has no attribute 'splitlines'\n",
      "Error processing call: 'NoneType' object has no attribute 'splitlines'\n",
      "Error processing call: 'NoneType' object has no attribute 'splitlines'\n",
      "Error processing call: 'NoneType' object has no attribute 'splitlines'\n",
      "Error processing call: 'NoneType' object has no attribute 'splitlines'\n",
      "Error processing call: 'NoneType' object has no attribute 'splitlines'\n",
      "Error processing call: 'NoneType' object has no attribute 'splitlines'\n",
      "Error processing call: 'NoneType' object has no attribute 'splitlines'\n",
      "Error processing call: 'NoneType' object has no attribute 'splitlines'\n",
      "Error processing call: 'NoneType' object has no attribute 'splitlines'\n",
      "Error processing call: 'NoneType' object has no attribute 'splitlines'\n",
      "Error processing call: 'NoneType' object has no attribute 'splitlines'\n",
      "Error processing call: 'NoneType' object has no attribute 'splitlines'\n",
      "Error processing call: 'NoneType' object has no attribute 'splitlines'\n",
      "Error processing call: 'NoneType' object has no attribute 'splitlines'\n",
      "Error processing call: 'NoneType' object has no attribute 'splitlines'\n",
      "Error processing call: 'NoneType' object has no attribute 'splitlines'\n",
      "Error processing call: 'NoneType' object has no attribute 'splitlines'\n",
      "Error processing call: 'NoneType' object has no attribute 'splitlines'\n",
      "Error processing call: 'NoneType' object has no attribute 'splitlines'\n",
      "Error processing call: 'NoneType' object has no attribute 'splitlines'\n",
      "Error processing call: 'NoneType' object has no attribute 'splitlines'\n",
      "Error processing call: 'NoneType' object has no attribute 'splitlines'\n",
      "Error processing call: 'NoneType' object has no attribute 'splitlines'\n",
      "Error processing call: 'NoneType' object has no attribute 'splitlines'\n",
      "Error processing call: 'NoneType' object has no attribute 'splitlines'\n",
      "Error processing call: 'NoneType' object has no attribute 'splitlines'\n",
      "Error processing call: 'NoneType' object has no attribute 'splitlines'\n",
      "Error processing call: 'NoneType' object has no attribute 'splitlines'\n",
      "Error processing call: 'NoneType' object has no attribute 'splitlines'\n",
      "Error processing call: 'NoneType' object has no attribute 'splitlines'\n",
      "Error processing call: 'NoneType' object has no attribute 'splitlines'\n",
      "Error processing call: 'NoneType' object has no attribute 'splitlines'\n",
      "Error processing call: 'NoneType' object has no attribute 'splitlines'\n",
      "Error processing call: 'NoneType' object has no attribute 'splitlines'\n",
      "Error processing call: 'NoneType' object has no attribute 'splitlines'\n",
      "Error processing call: 'NoneType' object has no attribute 'splitlines'\n",
      "Error processing call: 'NoneType' object has no attribute 'splitlines'\n",
      "Error processing call: 'NoneType' object has no attribute 'splitlines'\n",
      "Error processing call: 'NoneType' object has no attribute 'splitlines'\n",
      "Error processing call: 'NoneType' object has no attribute 'splitlines'\n",
      "Error processing call: 'NoneType' object has no attribute 'splitlines'\n",
      "Error processing call: 'NoneType' object has no attribute 'splitlines'\n",
      "Error processing call: 'NoneType' object has no attribute 'splitlines'\n",
      "Error processing call: 'NoneType' object has no attribute 'splitlines'\n",
      "Error processing call: 'NoneType' object has no attribute 'splitlines'\n",
      "Error processing call: 'NoneType' object has no attribute 'splitlines'\n",
      "  4%|▍         | 1572/39034 [06:05<6:17:32,  1.65it/s]Error processing call: 'NoneType' object has no attribute 'splitlines'\n",
      "Error processing call: 'NoneType' object has no attribute 'splitlines'\n",
      "Error processing call: 'NoneType' object has no attribute 'splitlines'\n",
      "Error processing call: 'NoneType' object has no attribute 'splitlines'\n",
      "Error processing call: 'NoneType' object has no attribute 'splitlines'\n",
      "Error processing call: 'NoneType' object has no attribute 'splitlines'\n",
      "Error processing call: 'NoneType' object has no attribute 'splitlines'\n",
      "Error processing call: 'NoneType' object has no attribute 'splitlines'\n",
      "Error processing call: 'NoneType' object has no attribute 'splitlines'\n",
      "Error processing call: 'NoneType' object has no attribute 'splitlines'\n",
      "Error processing call: 'NoneType' object has no attribute 'splitlines'\n",
      "Error processing call: 'NoneType' object has no attribute 'splitlines'\n",
      "  4%|▍         | 1576/39034 [06:07<5:30:20,  1.89it/s]"
     ]
    },
    {
     "name": "stdout",
     "output_type": "stream",
     "text": [
      "Skipping - Token count 3064 >= 2500\n"
     ]
    },
    {
     "name": "stderr",
     "output_type": "stream",
     "text": [
      "  4%|▍         | 1584/39034 [06:11<5:15:09,  1.98it/s]"
     ]
    },
    {
     "name": "stdout",
     "output_type": "stream",
     "text": [
      "Skipping - Token count 5400 >= 2500\n"
     ]
    },
    {
     "name": "stderr",
     "output_type": "stream",
     "text": [
      "  4%|▍         | 1587/39034 [06:13<5:25:29,  1.92it/s]"
     ]
    },
    {
     "name": "stdout",
     "output_type": "stream",
     "text": [
      "Skipping - Token count 3067 >= 2500\n"
     ]
    },
    {
     "name": "stderr",
     "output_type": "stream",
     "text": [
      "  4%|▍         | 1594/39034 [06:17<6:02:58,  1.72it/s]"
     ]
    },
    {
     "name": "stdout",
     "output_type": "stream",
     "text": [
      "Skipping - Token count 3076 >= 2500\n"
     ]
    },
    {
     "name": "stderr",
     "output_type": "stream",
     "text": [
      "  4%|▍         | 1596/39034 [06:18<6:18:37,  1.65it/s]"
     ]
    },
    {
     "name": "stdout",
     "output_type": "stream",
     "text": [
      "Skipping - Token count 3079 >= 2500\n"
     ]
    },
    {
     "name": "stderr",
     "output_type": "stream",
     "text": [
      "  4%|▍         | 1597/39034 [06:19<7:22:12,  1.41it/s]"
     ]
    },
    {
     "name": "stdout",
     "output_type": "stream",
     "text": [
      "Skipping - Token count 3060 >= 2500\n"
     ]
    },
    {
     "name": "stderr",
     "output_type": "stream",
     "text": [
      "  4%|▍         | 1601/39034 [06:21<5:52:20,  1.77it/s]"
     ]
    },
    {
     "name": "stdout",
     "output_type": "stream",
     "text": [
      "Skipping - Token count 3061 >= 2500\n"
     ]
    },
    {
     "name": "stderr",
     "output_type": "stream",
     "text": [
      "  4%|▍         | 1608/39034 [06:25<5:15:15,  1.98it/s]"
     ]
    },
    {
     "name": "stdout",
     "output_type": "stream",
     "text": [
      "\n",
      "Processed 1600/39034 files\n",
      "Valid results: 17\n",
      "Unique function/input pairs: 17\n"
     ]
    },
    {
     "name": "stderr",
     "output_type": "stream",
     "text": [
      "  4%|▍         | 1613/39034 [06:28<5:45:32,  1.80it/s]Falling back to HTML parser for /home/XXX/trace-modeling-oss-fuzz-c/trace_test/traces/rtpproxy_own/trace_fuzz_rtcp_parser_exe/log_0.xml\n",
      "Falling back to HTML parser for /home/XXX/trace-modeling-oss-fuzz-c/trace_test/traces/rtpproxy_own/trace_fuzz_rtcp_parser_exe/log_1.xml\n",
      "Fatal error processing trace file /home/XXX/trace-modeling-oss-fuzz-c/trace_test/traces/rtpproxy_own/trace_fuzz_rtcp_parser_exe/log_1.xml: 'NoneType' object has no attribute 'xpath'\n",
      "Falling back to HTML parser for /home/XXX/trace-modeling-oss-fuzz-c/trace_test/traces/rtpproxy_own/trace_fuzz_rtp_parser_exe/log_0.xml\n",
      "Falling back to HTML parser for /home/XXX/trace-modeling-oss-fuzz-c/trace_test/traces/rtpproxy_own/trace_fuzz_rtp_parser_exe/log_1.xml\n",
      "Fatal error processing trace file /home/XXX/trace-modeling-oss-fuzz-c/trace_test/traces/rtpproxy_own/trace_fuzz_rtp_parser_exe/log_1.xml: 'NoneType' object has no attribute 'xpath'\n",
      "Falling back to HTML parser for /home/XXX/trace-modeling-oss-fuzz-c/trace_test/traces/rtpproxy_own/trace_fuzz_command_parser_exe/log_0.xml\n",
      "Falling back to HTML parser for /home/XXX/trace-modeling-oss-fuzz-c/trace_test/traces/rtpproxy_own/trace_fuzz_command_parser_exe/log_1.xml\n",
      "Fatal error processing trace file /home/XXX/trace-modeling-oss-fuzz-c/trace_test/traces/rtpproxy_own/trace_fuzz_command_parser_exe/log_1.xml: 'NoneType' object has no attribute 'xpath'\n",
      "Error processing source file: Source file not found: /home/XXX/trace-modeling-oss-fuzz-c/trace_test/traces/nginx_own/trace_http_request_fuzzer_exe/src_0.xml\n",
      "  5%|▍         | 1777/39034 [06:28<04:21, 142.42it/s] "
     ]
    },
    {
     "name": "stdout",
     "output_type": "stream",
     "text": [
      "\n",
      "Processed 1680/39034 files\n",
      "Valid results: 17\n",
      "Unique function/input pairs: 17\n",
      "\n",
      "Processed 1760/39034 files\n",
      "Valid results: 17\n",
      "Unique function/input pairs: 17\n"
     ]
    },
    {
     "name": "stderr",
     "output_type": "stream",
     "text": [
      "  5%|▍         | 1940/39034 [06:29<01:57, 316.32it/s]"
     ]
    },
    {
     "name": "stdout",
     "output_type": "stream",
     "text": [
      "\n",
      "Processed 1840/39034 files\n",
      "Valid results: 17\n",
      "Unique function/input pairs: 17\n",
      "\n",
      "Processed 1920/39034 files\n",
      "Valid results: 17\n",
      "Unique function/input pairs: 17\n"
     ]
    },
    {
     "name": "stderr",
     "output_type": "stream",
     "text": [
      "  5%|▌         | 2108/39034 [06:29<01:21, 451.11it/s]"
     ]
    },
    {
     "name": "stdout",
     "output_type": "stream",
     "text": [
      "\n",
      "Processed 2000/39034 files\n",
      "Valid results: 17\n",
      "Unique function/input pairs: 17\n",
      "\n",
      "Processed 2080/39034 files\n",
      "Valid results: 17\n",
      "Unique function/input pairs: 17\n"
     ]
    },
    {
     "name": "stderr",
     "output_type": "stream",
     "text": [
      "Falling back to HTML parser for /home/XXX/trace-modeling-oss-fuzz-c/trace_test/traces/lxc_own/trace_fuzz-lxc-config-read_exe_exe/log_2.xml\n",
      "Fatal error processing trace file /home/XXX/trace-modeling-oss-fuzz-c/trace_test/traces/lxc_own/trace_fuzz-lxc-config-read_exe_exe/log_2.xml: 'NoneType' object has no attribute 'xpath'\n",
      "  6%|▌         | 2282/39034 [06:29<01:09, 526.99it/s]"
     ]
    },
    {
     "name": "stdout",
     "output_type": "stream",
     "text": [
      "\n",
      "Processed 2160/39034 files\n",
      "Valid results: 17\n",
      "Unique function/input pairs: 17\n",
      "\n",
      "Processed 2240/39034 files\n",
      "Valid results: 17\n",
      "Unique function/input pairs: 17\n"
     ]
    },
    {
     "name": "stderr",
     "output_type": "stream",
     "text": [
      "  6%|▌         | 2396/39034 [06:29<01:06, 548.24it/s]"
     ]
    },
    {
     "name": "stdout",
     "output_type": "stream",
     "text": [
      "\n",
      "Processed 2320/39034 files\n",
      "Valid results: 17\n",
      "Unique function/input pairs: 17\n",
      "\n",
      "Processed 2400/39034 files\n",
      "Valid results: 17\n",
      "Unique function/input pairs: 17\n"
     ]
    },
    {
     "name": "stderr",
     "output_type": "stream",
     "text": [
      "Falling back to HTML parser for /home/XXX/trace-modeling-oss-fuzz-c/trace_test/traces/lxc_own/trace_fuzz-lxc-define-load_exe_exe/log_2.xml\n",
      "Fatal error processing trace file /home/XXX/trace-modeling-oss-fuzz-c/trace_test/traces/lxc_own/trace_fuzz-lxc-define-load_exe_exe/log_2.xml: 'NoneType' object has no attribute 'xpath'\n",
      "  6%|▋         | 2513/39034 [06:30<01:15, 485.18it/s]"
     ]
    },
    {
     "name": "stdout",
     "output_type": "stream",
     "text": [
      "\n",
      "Processed 2480/39034 files\n",
      "Valid results: 17\n",
      "Unique function/input pairs: 17\n"
     ]
    },
    {
     "name": "stderr",
     "output_type": "stream",
     "text": [
      "  7%|▋         | 2613/39034 [06:30<01:24, 431.62it/s]"
     ]
    },
    {
     "name": "stdout",
     "output_type": "stream",
     "text": [
      "\n",
      "Processed 2560/39034 files\n",
      "Valid results: 17\n",
      "Unique function/input pairs: 17\n"
     ]
    },
    {
     "name": "stderr",
     "output_type": "stream",
     "text": [
      "Falling back to HTML parser for /home/XXX/trace-modeling-oss-fuzz-c/trace_test/traces/lxc_own/trace_fuzz-lxc-cgroup-init_exe_exe/log_2.xml\n",
      "Fatal error processing trace file /home/XXX/trace-modeling-oss-fuzz-c/trace_test/traces/lxc_own/trace_fuzz-lxc-cgroup-init_exe_exe/log_2.xml: 'NoneType' object has no attribute 'xpath'\n"
     ]
    },
    {
     "name": "stdout",
     "output_type": "stream",
     "text": [
      "\n",
      "Processed 2640/39034 files\n",
      "Valid results: 17\n",
      "Unique function/input pairs: 17\n",
      "Skipping - Token count 6841 >= 2500\n",
      "Skipping - Token count 7362 >= 2500\n",
      "Skipping - Token count 5006 >= 2500\n",
      "Skipping - Token count 3559 >= 2500\n",
      "Skipping - Token count 19004 >= 2500\n",
      "Skipping - Token count 7207 >= 2500\n",
      "Skipping - Token count 6426 >= 2500\n",
      "Skipping - Token count 2692 >= 2500\n",
      "Skipping - Token count 6131 >= 2500\n"
     ]
    },
    {
     "name": "stderr",
     "output_type": "stream",
     "text": [
      "  7%|▋         | 2651/39034 [06:40<01:24, 431.62it/s]"
     ]
    },
    {
     "name": "stdout",
     "output_type": "stream",
     "text": [
      "Skipping - Token count 17477 >= 2500\n",
      "Skipping - Token count 3713 >= 2500\n"
     ]
    },
    {
     "name": "stderr",
     "output_type": "stream",
     "text": [
      "  7%|▋         | 2652/39034 [06:43<47:31, 12.76it/s] Falling back to HTML parser for /home/XXX/trace-modeling-oss-fuzz-c/trace_test/traces/apache-httpd_own/trace_fuzz_parse_exe_exe/log_2.xml\n",
      "Fatal error processing trace file /home/XXX/trace-modeling-oss-fuzz-c/trace_test/traces/apache-httpd_own/trace_fuzz_parse_exe_exe/log_2.xml: 'NoneType' object has no attribute 'xpath'\n",
      "  7%|▋         | 2654/39034 [06:43<47:27, 12.77it/s]Falling back to HTML parser for /home/XXX/trace-modeling-oss-fuzz-c/trace_test/traces/apache-httpd_own/trace_fuzz_preq_exe_exe_exe/log_2.xml\n",
      "Fatal error processing trace file /home/XXX/trace-modeling-oss-fuzz-c/trace_test/traces/apache-httpd_own/trace_fuzz_preq_exe_exe_exe/log_2.xml: 'NoneType' object has no attribute 'xpath'\n",
      "Falling back to HTML parser for /home/XXX/trace-modeling-oss-fuzz-c/trace_test/traces/apache-httpd_own/trace_fuzz_utils_exe_exe_exe/log_2.xml\n",
      "Fatal error processing trace file /home/XXX/trace-modeling-oss-fuzz-c/trace_test/traces/apache-httpd_own/trace_fuzz_utils_exe_exe_exe/log_2.xml: 'NoneType' object has no attribute 'xpath'\n"
     ]
    },
    {
     "name": "stdout",
     "output_type": "stream",
     "text": [
      "Skipping - Token count 6825 >= 2500\n",
      "Skipping - Token count 7360 >= 2500\n",
      "Skipping - Token count 4997 >= 2500\n",
      "Skipping - Token count 3079 >= 2500\n",
      "Skipping - Token count 6997 >= 2500\n",
      "Skipping - Token count 3034 >= 2500\n",
      "Skipping - Token count 5680 >= 2500\n",
      "Skipping - Token count 3079 >= 2500\n"
     ]
    },
    {
     "name": "stderr",
     "output_type": "stream",
     "text": [
      "Falling back to HTML parser for /home/XXX/trace-modeling-oss-fuzz-c/trace_test/traces/apache-httpd_own/trace_fuzz_tokenize_exe_exe_exe/log_2.xml\n",
      "Fatal error processing trace file /home/XXX/trace-modeling-oss-fuzz-c/trace_test/traces/apache-httpd_own/trace_fuzz_tokenize_exe_exe_exe/log_2.xml: 'NoneType' object has no attribute 'xpath'\n"
     ]
    },
    {
     "name": "stdout",
     "output_type": "stream",
     "text": [
      "Skipping - Token count 6837 >= 2500\n",
      "Skipping - Token count 7363 >= 2500\n",
      "Skipping - Token count 4766 >= 2500\n",
      "Skipping - Token count 6947 >= 2500\n",
      "Skipping - Token count 2974 >= 2500\n",
      "Skipping - Token count 5206 >= 2500\n"
     ]
    },
    {
     "name": "stderr",
     "output_type": "stream",
     "text": [
      "Falling back to HTML parser for /home/XXX/trace-modeling-oss-fuzz-c/trace_test/traces/apache-httpd_own/trace_fuzz_addr_parse_exe_exe_exe_exe/log_2.xml\n",
      "Fatal error processing trace file /home/XXX/trace-modeling-oss-fuzz-c/trace_test/traces/apache-httpd_own/trace_fuzz_addr_parse_exe_exe_exe_exe/log_2.xml: 'NoneType' object has no attribute 'xpath'\n",
      "Falling back to HTML parser for /home/XXX/trace-modeling-oss-fuzz-c/trace_test/traces/apache-httpd_own/trace_fuzz_addr_parse_exe_exe/log_0.xml\n",
      "Fatal error processing trace file /home/XXX/trace-modeling-oss-fuzz-c/trace_test/traces/apache-httpd_own/trace_fuzz_addr_parse_exe_exe/log_0.xml: 'NoneType' object has no attribute 'xpath'\n",
      "Falling back to HTML parser for /home/XXX/trace-modeling-oss-fuzz-c/trace_test/traces/apache-httpd_own/trace_fuzz_request_exe_exe_exe/log_2.xml\n",
      "Fatal error processing trace file /home/XXX/trace-modeling-oss-fuzz-c/trace_test/traces/apache-httpd_own/trace_fuzz_request_exe_exe_exe/log_2.xml: 'NoneType' object has no attribute 'xpath'\n",
      "Falling back to HTML parser for /home/XXX/trace-modeling-oss-fuzz-c/trace_test/traces/apache-httpd_own/trace_fuzz_preq_exe_exe/log_2.xml\n",
      "Fatal error processing trace file /home/XXX/trace-modeling-oss-fuzz-c/trace_test/traces/apache-httpd_own/trace_fuzz_preq_exe_exe/log_2.xml: 'NoneType' object has no attribute 'xpath'\n",
      "Falling back to HTML parser for /home/XXX/trace-modeling-oss-fuzz-c/trace_test/traces/apache-httpd_own/trace_fuzz_utils_exe_exe/log_2.xml\n",
      "Fatal error processing trace file /home/XXX/trace-modeling-oss-fuzz-c/trace_test/traces/apache-httpd_own/trace_fuzz_utils_exe_exe/log_2.xml: 'NoneType' object has no attribute 'xpath'\n"
     ]
    },
    {
     "name": "stdout",
     "output_type": "stream",
     "text": [
      "Skipping - Token count 6839 >= 2500\n",
      "Skipping - Token count 7369 >= 2500\n",
      "Skipping - Token count 5011 >= 2500\n",
      "Skipping - Token count 19004 >= 2500\n",
      "Skipping - Token count 7205 >= 2500\n",
      "Skipping - Token count 6685 >= 2500\n",
      "Skipping - Token count 2690 >= 2500\n"
     ]
    },
    {
     "name": "stderr",
     "output_type": "stream",
     "text": [
      "  7%|▋         | 2676/39034 [07:00<47:26, 12.77it/s]"
     ]
    },
    {
     "name": "stdout",
     "output_type": "stream",
     "text": [
      "Skipping - Token count 6131 >= 2500\n",
      "Skipping - Token count 3713 >= 2500\n"
     ]
    },
    {
     "name": "stderr",
     "output_type": "stream",
     "text": [
      "  7%|▋         | 2677/39034 [07:06<2:50:14,  3.56it/s]Falling back to HTML parser for /home/XXX/trace-modeling-oss-fuzz-c/trace_test/traces/apache-httpd_own/trace_fuzz_parse_exe_exe_exe/log_2.xml\n",
      "Fatal error processing trace file /home/XXX/trace-modeling-oss-fuzz-c/trace_test/traces/apache-httpd_own/trace_fuzz_parse_exe_exe_exe/log_2.xml: 'NoneType' object has no attribute 'xpath'\n",
      "  7%|▋         | 2679/39034 [07:06<2:46:52,  3.63it/s]Falling back to HTML parser for /home/XXX/trace-modeling-oss-fuzz-c/trace_test/traces/apache-httpd_own/trace_fuzz_uri_exe_exe/log_2.xml\n",
      "Fatal error processing trace file /home/XXX/trace-modeling-oss-fuzz-c/trace_test/traces/apache-httpd_own/trace_fuzz_uri_exe_exe/log_2.xml: 'NoneType' object has no attribute 'xpath'\n"
     ]
    },
    {
     "name": "stdout",
     "output_type": "stream",
     "text": [
      "Skipping - Token count 6827 >= 2500\n",
      "Skipping - Token count 7362 >= 2500\n",
      "Skipping - Token count 4988 >= 2500\n",
      "Skipping - Token count 3080 >= 2500\n",
      "Skipping - Token count 6971 >= 2500\n",
      "Skipping - Token count 3034 >= 2500\n",
      "Skipping - Token count 5674 >= 2500\n",
      "Skipping - Token count 3080 >= 2500\n"
     ]
    },
    {
     "name": "stderr",
     "output_type": "stream",
     "text": [
      "Falling back to HTML parser for /home/XXX/trace-modeling-oss-fuzz-c/trace_test/traces/apache-httpd_own/trace_fuzz_tokenize_exe_exe/log_2.xml\n",
      "Fatal error processing trace file /home/XXX/trace-modeling-oss-fuzz-c/trace_test/traces/apache-httpd_own/trace_fuzz_tokenize_exe_exe/log_2.xml: 'NoneType' object has no attribute 'xpath'\n"
     ]
    },
    {
     "name": "stdout",
     "output_type": "stream",
     "text": [
      "Skipping - Token count 6849 >= 2500\n",
      "Skipping - Token count 7364 >= 2500\n",
      "Skipping - Token count 4767 >= 2500\n",
      "Skipping - Token count 6964 >= 2500\n",
      "Skipping - Token count 2975 >= 2500\n",
      "Skipping - Token count 5220 >= 2500\n"
     ]
    },
    {
     "name": "stderr",
     "output_type": "stream",
     "text": [
      "Falling back to HTML parser for /home/XXX/trace-modeling-oss-fuzz-c/trace_test/traces/apache-httpd_own/trace_fuzz_addr_parse_exe_exe_exe/log_2.xml\n",
      "Fatal error processing trace file /home/XXX/trace-modeling-oss-fuzz-c/trace_test/traces/apache-httpd_own/trace_fuzz_addr_parse_exe_exe_exe/log_2.xml: 'NoneType' object has no attribute 'xpath'\n",
      "Falling back to HTML parser for /home/XXX/trace-modeling-oss-fuzz-c/trace_test/traces/apache-httpd_own/trace_fuzz_uri_exe_exe_exe/log_2.xml\n",
      "Fatal error processing trace file /home/XXX/trace-modeling-oss-fuzz-c/trace_test/traces/apache-httpd_own/trace_fuzz_uri_exe_exe_exe/log_2.xml: 'NoneType' object has no attribute 'xpath'\n",
      "Falling back to HTML parser for /home/XXX/trace-modeling-oss-fuzz-c/trace_test/traces/apache-httpd_own/trace_fuzz_request_exe_exe/log_2.xml\n",
      "Fatal error processing trace file /home/XXX/trace-modeling-oss-fuzz-c/trace_test/traces/apache-httpd_own/trace_fuzz_request_exe_exe/log_2.xml: 'NoneType' object has no attribute 'xpath'\n",
      "Falling back to HTML parser for /home/XXX/trace-modeling-oss-fuzz-c/trace_test/traces/unit_own/trace_Fuzz_json_exe/log_5.xml\n",
      "Falling back to HTML parser for /home/XXX/trace-modeling-oss-fuzz-c/trace_test/traces/unit_own/trace_Fuzz_json_exe/log_10.xml\n",
      "Falling back to HTML parser for /home/XXX/trace-modeling-oss-fuzz-c/trace_test/traces/unit_own/trace_Fuzz_json_exe/log_6.xml\n",
      "Falling back to HTML parser for /home/XXX/trace-modeling-oss-fuzz-c/trace_test/traces/unit_own/trace_Fuzz_json_exe/log_4.xml\n",
      "Falling back to HTML parser for /home/XXX/trace-modeling-oss-fuzz-c/trace_test/traces/unit_own/trace_Fuzz_json_exe/log_8.xml\n",
      "  7%|▋         | 2702/39034 [07:21<3:55:15,  2.57it/s]Falling back to HTML parser for /home/XXX/trace-modeling-oss-fuzz-c/trace_test/traces/unit_own/trace_Fuzz_json_exe/log_7.xml\n",
      "  7%|▋         | 2703/39034 [07:21<3:57:45,  2.55it/s]Falling back to HTML parser for /home/XXX/trace-modeling-oss-fuzz-c/trace_test/traces/unit_own/trace_Fuzz_json_exe/log_9.xml\n",
      "Falling back to HTML parser for /home/XXX/trace-modeling-oss-fuzz-c/trace_test/traces/unit_own/trace_Fuzz_http_exe/log_5.xml\n"
     ]
    },
    {
     "name": "stdout",
     "output_type": "stream",
     "text": [
      "Skipping - Token count 3639 >= 2500\n"
     ]
    },
    {
     "name": "stderr",
     "output_type": "stream",
     "text": [
      "Falling back to HTML parser for /home/XXX/trace-modeling-oss-fuzz-c/trace_test/traces/unit_own/trace_Fuzz_http_exe/log_3.xml\n",
      "Falling back to HTML parser for /home/XXX/trace-modeling-oss-fuzz-c/trace_test/traces/unit_own/trace_Fuzz_http_exe/log_1.xml\n"
     ]
    },
    {
     "name": "stdout",
     "output_type": "stream",
     "text": [
      "Skipping - Token count 3644 >= 2500\n"
     ]
    },
    {
     "name": "stderr",
     "output_type": "stream",
     "text": [
      "Falling back to HTML parser for /home/XXX/trace-modeling-oss-fuzz-c/trace_test/traces/unit_own/trace_Fuzz_http_exe/log_2.xml\n"
     ]
    },
    {
     "name": "stdout",
     "output_type": "stream",
     "text": [
      "Skipping - Token count 3643 >= 2500\n"
     ]
    },
    {
     "name": "stderr",
     "output_type": "stream",
     "text": [
      "Falling back to HTML parser for /home/XXX/trace-modeling-oss-fuzz-c/trace_test/traces/unit_own/trace_Fuzz_http_exe/log_6.xml\n"
     ]
    },
    {
     "name": "stdout",
     "output_type": "stream",
     "text": [
      "Skipping - Token count 3639 >= 2500\n"
     ]
    },
    {
     "name": "stderr",
     "output_type": "stream",
     "text": [
      "Falling back to HTML parser for /home/XXX/trace-modeling-oss-fuzz-c/trace_test/traces/unit_own/trace_Fuzz_http_exe/log_4.xml\n"
     ]
    },
    {
     "name": "stdout",
     "output_type": "stream",
     "text": [
      "Skipping - Token count 3641 >= 2500\n"
     ]
    },
    {
     "name": "stderr",
     "output_type": "stream",
     "text": [
      "  7%|▋         | 2915/39034 [07:28<32:50, 18.33it/s]  "
     ]
    },
    {
     "name": "stdout",
     "output_type": "stream",
     "text": [
      "\n",
      "Processed 2720/39034 files\n",
      "Valid results: 26\n",
      "Unique function/input pairs: 26\n",
      "\n",
      "Processed 2800/39034 files\n",
      "Valid results: 26\n",
      "Unique function/input pairs: 26\n",
      "\n",
      "Processed 2880/39034 files\n",
      "Valid results: 26\n",
      "Unique function/input pairs: 26\n"
     ]
    },
    {
     "name": "stderr",
     "output_type": "stream",
     "text": [
      "  8%|▊         | 3122/39034 [07:28<11:50, 50.58it/s]"
     ]
    },
    {
     "name": "stdout",
     "output_type": "stream",
     "text": [
      "\n",
      "Processed 2960/39034 files\n",
      "Valid results: 26\n",
      "Unique function/input pairs: 26\n",
      "\n",
      "Processed 3040/39034 files\n",
      "Valid results: 26\n",
      "Unique function/input pairs: 26\n",
      "\n",
      "Processed 3120/39034 files\n",
      "Valid results: 26\n",
      "Unique function/input pairs: 26\n"
     ]
    },
    {
     "name": "stderr",
     "output_type": "stream",
     "text": [
      "  9%|▊         | 3323/39034 [07:28<05:28, 108.75it/s]"
     ]
    },
    {
     "name": "stdout",
     "output_type": "stream",
     "text": [
      "\n",
      "Processed 3200/39034 files\n",
      "Valid results: 26\n",
      "Unique function/input pairs: 26\n",
      "\n",
      "Processed 3280/39034 files\n",
      "Valid results: 26\n",
      "Unique function/input pairs: 26\n",
      "\n",
      "Processed 3360/39034 files\n",
      "Valid results: 26\n",
      "Unique function/input pairs: 26\n"
     ]
    },
    {
     "name": "stderr",
     "output_type": "stream",
     "text": [
      "  9%|▉         | 3655/39034 [07:29<01:58, 298.86it/s]"
     ]
    },
    {
     "name": "stdout",
     "output_type": "stream",
     "text": [
      "\n",
      "Processed 3440/39034 files\n",
      "Valid results: 26\n",
      "Unique function/input pairs: 26\n",
      "\n",
      "Processed 3520/39034 files\n",
      "Valid results: 26\n",
      "Unique function/input pairs: 26\n",
      "\n",
      "Processed 3600/39034 files\n",
      "Valid results: 26\n",
      "Unique function/input pairs: 26\n",
      "\n",
      "Processed 3680/39034 files\n",
      "Valid results: 26\n",
      "Unique function/input pairs: 26\n"
     ]
    },
    {
     "name": "stderr",
     "output_type": "stream",
     "text": [
      " 11%|█         | 4239/39034 [07:29<00:38, 896.31it/s]"
     ]
    },
    {
     "name": "stdout",
     "output_type": "stream",
     "text": [
      "\n",
      "Processed 3760/39034 files\n",
      "Valid results: 26\n",
      "Unique function/input pairs: 26\n",
      "\n",
      "Processed 3840/39034 files\n",
      "Valid results: 26\n",
      "Unique function/input pairs: 26\n",
      "\n",
      "Processed 3920/39034 files\n",
      "Valid results: 26\n",
      "Unique function/input pairs: 26\n",
      "\n",
      "Processed 4000/39034 files\n",
      "Valid results: 26\n",
      "Unique function/input pairs: 26\n",
      "\n",
      "Processed 4080/39034 files\n",
      "Valid results: 26\n",
      "Unique function/input pairs: 26\n",
      "\n",
      "Processed 4160/39034 files\n",
      "Valid results: 26\n",
      "Unique function/input pairs: 26\n",
      "\n",
      "Processed 4240/39034 files\n",
      "Valid results: 26\n",
      "Unique function/input pairs: 26\n",
      "\n",
      "Processed 4320/39034 files\n",
      "Valid results: 26\n",
      "Unique function/input pairs: 26\n"
     ]
    },
    {
     "name": "stderr",
     "output_type": "stream",
     "text": [
      " 12%|█▏        | 4815/39034 [07:29<00:22, 1527.06it/s]"
     ]
    },
    {
     "name": "stdout",
     "output_type": "stream",
     "text": [
      "\n",
      "Processed 4400/39034 files\n",
      "Valid results: 26\n",
      "Unique function/input pairs: 26\n",
      "\n",
      "Processed 4480/39034 files\n",
      "Valid results: 26\n",
      "Unique function/input pairs: 26\n",
      "\n",
      "Processed 4560/39034 files\n",
      "Valid results: 26\n",
      "Unique function/input pairs: 26\n",
      "\n",
      "Processed 4640/39034 files\n",
      "Valid results: 26\n",
      "Unique function/input pairs: 26\n",
      "\n",
      "Processed 4720/39034 files\n",
      "Valid results: 26\n",
      "Unique function/input pairs: 26\n",
      "\n",
      "Processed 4800/39034 files\n",
      "Valid results: 26\n",
      "Unique function/input pairs: 26\n",
      "\n",
      "Processed 4880/39034 files\n",
      "Valid results: 26\n",
      "Unique function/input pairs: 26\n",
      "\n",
      "Processed 4960/39034 files\n",
      "Valid results: 26\n",
      "Unique function/input pairs: 26\n"
     ]
    },
    {
     "name": "stderr",
     "output_type": "stream",
     "text": [
      " 14%|█▍        | 5395/39034 [07:29<00:16, 2069.67it/s]"
     ]
    },
    {
     "name": "stdout",
     "output_type": "stream",
     "text": [
      "\n",
      "Processed 5040/39034 files\n",
      "Valid results: 26\n",
      "Unique function/input pairs: 26\n",
      "\n",
      "Processed 5120/39034 files\n",
      "Valid results: 26\n",
      "Unique function/input pairs: 26\n",
      "\n",
      "Processed 5200/39034 files\n",
      "Valid results: 26\n",
      "Unique function/input pairs: 26\n",
      "\n",
      "Processed 5280/39034 files\n",
      "Valid results: 26\n",
      "Unique function/input pairs: 26\n",
      "\n",
      "Processed 5360/39034 files\n",
      "Valid results: 26\n",
      "Unique function/input pairs: 26\n",
      "\n",
      "Processed 5440/39034 files\n",
      "Valid results: 26\n",
      "Unique function/input pairs: 26\n",
      "\n",
      "Processed 5520/39034 files\n",
      "Valid results: 26\n",
      "Unique function/input pairs: 26\n",
      "\n",
      "Processed 5600/39034 files\n",
      "Valid results: 26\n",
      "Unique function/input pairs: 26\n"
     ]
    },
    {
     "name": "stderr",
     "output_type": "stream",
     "text": [
      " 15%|█▍        | 5679/39034 [07:29<00:14, 2259.77it/s]Falling back to HTML parser for /home/XXX/trace-modeling-oss-fuzz-c/trace_test/traces/ntpsec_own/trace_FuzzExtens_exe/log_2461.xml\n",
      "Fatal error processing trace file /home/XXX/trace-modeling-oss-fuzz-c/trace_test/traces/ntpsec_own/trace_FuzzExtens_exe/log_2461.xml: 'NoneType' object has no attribute 'xpath'\n",
      " 15%|█▌        | 5967/39034 [07:29<00:13, 2420.35it/s]Falling back to HTML parser for /home/XXX/trace-modeling-oss-fuzz-c/trace_test/traces/ntpsec_own/trace_FuzzServer_exe/log_411.xml\n",
      "Fatal error processing trace file /home/XXX/trace-modeling-oss-fuzz-c/trace_test/traces/ntpsec_own/trace_FuzzServer_exe/log_411.xml: 'NoneType' object has no attribute 'xpath'\n",
      " 16%|█▌        | 6262/39034 [07:29<00:12, 2562.27it/s]"
     ]
    },
    {
     "name": "stdout",
     "output_type": "stream",
     "text": [
      "\n",
      "Processed 5680/39034 files\n",
      "Valid results: 26\n",
      "Unique function/input pairs: 26\n",
      "\n",
      "Processed 5760/39034 files\n",
      "Valid results: 26\n",
      "Unique function/input pairs: 26\n",
      "\n",
      "Processed 5840/39034 files\n",
      "Valid results: 26\n",
      "Unique function/input pairs: 26\n",
      "\n",
      "Processed 5920/39034 files\n",
      "Valid results: 26\n",
      "Unique function/input pairs: 26\n",
      "\n",
      "Processed 6000/39034 files\n",
      "Valid results: 26\n",
      "Unique function/input pairs: 26\n",
      "\n",
      "Processed 6080/39034 files\n",
      "Valid results: 26\n",
      "Unique function/input pairs: 26\n",
      "\n",
      "Processed 6160/39034 files\n",
      "Valid results: 26\n",
      "Unique function/input pairs: 26\n",
      "\n",
      "Processed 6240/39034 files\n",
      "Valid results: 26\n",
      "Unique function/input pairs: 26\n"
     ]
    },
    {
     "name": "stderr",
     "output_type": "stream",
     "text": [
      "Falling back to HTML parser for /home/XXX/trace-modeling-oss-fuzz-c/trace_test/traces/croaring_own/trace_croaring_fuzzer_cc_exe_exe/log_0.xml\n"
     ]
    },
    {
     "name": "stdout",
     "output_type": "stream",
     "text": [
      "\n",
      "Processed 6320/39034 files\n",
      "Valid results: 26\n",
      "Unique function/input pairs: 26\n",
      "\n",
      "Processed 6400/39034 files\n",
      "Valid results: 26\n",
      "Unique function/input pairs: 26\n"
     ]
    },
    {
     "name": "stderr",
     "output_type": "stream",
     "text": [
      "Falling back to HTML parser for /home/XXX/trace-modeling-oss-fuzz-c/trace_test/traces/croaring_own/trace_croaring_fuzzer_exe_exe/log_0.xml\n",
      "Falling back to HTML parser for /home/XXX/trace-modeling-oss-fuzz-c/trace_test/traces/flex_own/trace_fuzz-scanopt_exe_exe/log_0.xml\n",
      "Falling back to HTML parser for /home/XXX/trace-modeling-oss-fuzz-c/trace_test/traces/flex_own/trace_fuzz-scanopt_exe_exe/log_1.xml\n",
      "Fatal error processing trace file /home/XXX/trace-modeling-oss-fuzz-c/trace_test/traces/flex_own/trace_fuzz-scanopt_exe_exe/log_1.xml: 'NoneType' object has no attribute 'xpath'\n",
      "Falling back to HTML parser for /home/XXX/trace-modeling-oss-fuzz-c/trace_test/traces/flex_own/trace_fuzz-main_exe_exe/log_0.xml\n",
      "Falling back to HTML parser for /home/XXX/trace-modeling-oss-fuzz-c/trace_test/traces/flex_own/trace_fuzz-main_exe_exe/log_1.xml\n",
      "Fatal error processing trace file /home/XXX/trace-modeling-oss-fuzz-c/trace_test/traces/flex_own/trace_fuzz-main_exe_exe/log_1.xml: 'NoneType' object has no attribute 'xpath'\n",
      "Falling back to HTML parser for /home/XXX/trace-modeling-oss-fuzz-c/trace_test/traces/tmux_own/trace_input-fuzzer_exe/log_0.xml\n"
     ]
    },
    {
     "name": "stdout",
     "output_type": "stream",
     "text": [
      "\n",
      "Processed 6480/39034 files\n",
      "Valid results: 26\n",
      "Unique function/input pairs: 26\n"
     ]
    },
    {
     "name": "stderr",
     "output_type": "stream",
     "text": [
      "Error processing call: list index out of range\n",
      "Falling back to HTML parser for /home/XXX/trace-modeling-oss-fuzz-c/trace_test/traces/coturn_own/trace_FuzzStunClient_exe_exe/log_2.xml\n",
      "Fatal error processing trace file /home/XXX/trace-modeling-oss-fuzz-c/trace_test/traces/coturn_own/trace_FuzzStunClient_exe_exe/log_2.xml: 'NoneType' object has no attribute 'xpath'\n",
      " 17%|█▋        | 6515/39034 [07:41<06:50, 79.20it/s]  "
     ]
    },
    {
     "name": "stdout",
     "output_type": "stream",
     "text": [
      "\n",
      "Processed 6560/39034 files\n",
      "Valid results: 27\n",
      "Unique function/input pairs: 27\n"
     ]
    },
    {
     "name": "stderr",
     "output_type": "stream",
     "text": [
      "Falling back to HTML parser for /home/XXX/trace-modeling-oss-fuzz-c/trace_test/traces/coturn_own/trace_FuzzStunClient_exe/log_113.xml\n",
      "Fatal error processing trace file /home/XXX/trace-modeling-oss-fuzz-c/trace_test/traces/coturn_own/trace_FuzzStunClient_exe/log_113.xml: 'NoneType' object has no attribute 'xpath'\n",
      " 17%|█▋        | 6640/39034 [09:03<4:01:21,  2.24it/s]"
     ]
    },
    {
     "name": "stdout",
     "output_type": "stream",
     "text": [
      "\n",
      "Processed 6640/39034 files\n",
      "Valid results: 28\n",
      "Unique function/input pairs: 28\n"
     ]
    },
    {
     "name": "stderr",
     "output_type": "stream",
     "text": [
      " 17%|█▋        | 6728/39034 [11:49<13:53:13,  1.55s/it]"
     ]
    },
    {
     "name": "stdout",
     "output_type": "stream",
     "text": [
      "\n",
      "Processed 6720/39034 files\n",
      "Valid results: 28\n",
      "Unique function/input pairs: 28\n"
     ]
    },
    {
     "name": "stderr",
     "output_type": "stream",
     "text": [
      " 17%|█▋        | 6808/39034 [14:27<26:28:27,  2.96s/it]"
     ]
    },
    {
     "name": "stdout",
     "output_type": "stream",
     "text": [
      "\n",
      "Processed 6800/39034 files\n",
      "Valid results: 29\n",
      "Unique function/input pairs: 29\n"
     ]
    },
    {
     "name": "stderr",
     "output_type": "stream",
     "text": [
      " 18%|█▊        | 6831/39034 [15:16<14:44:54,  1.65s/it]Falling back to HTML parser for /home/XXX/trace-modeling-oss-fuzz-c/trace_test/traces/coturn_own/trace_FuzzStun_exe/log_468.xml\n",
      "Fatal error processing trace file /home/XXX/trace-modeling-oss-fuzz-c/trace_test/traces/coturn_own/trace_FuzzStun_exe/log_468.xml: 'NoneType' object has no attribute 'xpath'\n",
      " 18%|█▊        | 6888/39034 [17:05<11:13:01,  1.26s/it]"
     ]
    },
    {
     "name": "stdout",
     "output_type": "stream",
     "text": [
      "\n",
      "Processed 6880/39034 files\n",
      "Valid results: 29\n",
      "Unique function/input pairs: 29\n"
     ]
    },
    {
     "name": "stderr",
     "output_type": "stream",
     "text": [
      " 18%|█▊        | 6968/39034 [19:30<11:44:27,  1.32s/it]"
     ]
    },
    {
     "name": "stdout",
     "output_type": "stream",
     "text": [
      "\n",
      "Processed 6960/39034 files\n",
      "Valid results: 29\n",
      "Unique function/input pairs: 29\n"
     ]
    },
    {
     "name": "stderr",
     "output_type": "stream",
     "text": [
      " 18%|█▊        | 7048/39034 [21:42<16:36:20,  1.87s/it]"
     ]
    },
    {
     "name": "stdout",
     "output_type": "stream",
     "text": [
      "\n",
      "Processed 7040/39034 files\n",
      "Valid results: 29\n",
      "Unique function/input pairs: 29\n"
     ]
    },
    {
     "name": "stderr",
     "output_type": "stream",
     "text": [
      " 18%|█▊        | 7079/39034 [22:37<16:26:41,  1.85s/it]Falling back to HTML parser for /home/XXX/trace-modeling-oss-fuzz-c/trace_test/traces/coturn_own/trace_FuzzStun_exe_exe/log_2.xml\n",
      "Fatal error processing trace file /home/XXX/trace-modeling-oss-fuzz-c/trace_test/traces/coturn_own/trace_FuzzStun_exe_exe/log_2.xml: 'NoneType' object has no attribute 'xpath'\n",
      "Falling back to HTML parser for /home/XXX/trace-modeling-oss-fuzz-c/trace_test/traces/libcacard_own/trace_fuzz_simpletlv_exe/log_0.xml\n",
      "Falling back to HTML parser for /home/XXX/trace-modeling-oss-fuzz-c/trace_test/traces/libcacard_own/trace_fuzz_simpletlv_exe/log_1.xml\n",
      "Fatal error processing trace file /home/XXX/trace-modeling-oss-fuzz-c/trace_test/traces/libcacard_own/trace_fuzz_simpletlv_exe/log_1.xml: 'NoneType' object has no attribute 'xpath'\n",
      "Falling back to HTML parser for /home/XXX/trace-modeling-oss-fuzz-c/trace_test/traces/libcacard_own/trace_fuzz_options_exe/log_0.xml\n",
      "Falling back to HTML parser for /home/XXX/trace-modeling-oss-fuzz-c/trace_test/traces/libcacard_own/trace_fuzz_options_exe/log_1.xml\n",
      "Fatal error processing trace file /home/XXX/trace-modeling-oss-fuzz-c/trace_test/traces/libcacard_own/trace_fuzz_options_exe/log_1.xml: 'NoneType' object has no attribute 'xpath'\n",
      "Falling back to HTML parser for /home/XXX/trace-modeling-oss-fuzz-c/trace_test/traces/libcacard_own/trace_fuzz_xfer_exe/log_0.xml\n",
      "Falling back to HTML parser for /home/XXX/trace-modeling-oss-fuzz-c/trace_test/traces/libcacard_own/trace_fuzz_xfer_exe/log_1.xml\n",
      "Fatal error processing trace file /home/XXX/trace-modeling-oss-fuzz-c/trace_test/traces/libcacard_own/trace_fuzz_xfer_exe/log_1.xml: 'NoneType' object has no attribute 'xpath'\n",
      "Falling back to HTML parser for /home/XXX/trace-modeling-oss-fuzz-c/trace_test/traces/clib_own/trace_fuzz_manifest_exe_exe/log_2.xml\n",
      "Fatal error processing trace file /home/XXX/trace-modeling-oss-fuzz-c/trace_test/traces/clib_own/trace_fuzz_manifest_exe_exe/log_2.xml: 'NoneType' object has no attribute 'xpath'\n"
     ]
    },
    {
     "name": "stdout",
     "output_type": "stream",
     "text": [
      "Skipping - Token count 6856 >= 2500\n",
      "Skipping - Token count 12195 >= 2500\n",
      "Skipping - Token count 7082 >= 2500\n",
      "Skipping - Token count 6053 >= 2500\n",
      "Skipping - Token count 3385 >= 2500\n",
      "Skipping - Token count 3226 >= 2500\n",
      "Skipping - Token count 3022 >= 2500\n",
      "Skipping - Token count 6192 >= 2500\n",
      "Skipping - Token count 6398 >= 2500\n",
      "Skipping - Token count 5296 >= 2500\n",
      "Skipping - Token count 11429 >= 2500\n",
      "Skipping - Token count 5303 >= 2500\n",
      "Skipping - Token count 8275 >= 2500\n",
      "Skipping - Token count 2615 >= 2500\n",
      "Skipping - Token count 3409 >= 2500\n",
      "Skipping - Token count 3126 >= 2500\n",
      "Skipping - Token count 5420 >= 2500\n"
     ]
    },
    {
     "name": "stderr",
     "output_type": "stream",
     "text": [
      " 18%|█▊        | 7093/39034 [23:16<23:29:10,  2.65s/it]"
     ]
    },
    {
     "name": "stdout",
     "output_type": "stream",
     "text": [
      "Skipping - Token count 6442 >= 2500\n",
      "Skipping - Token count 9874 >= 2500\n",
      "Skipping - Token count 5774 >= 2500\n",
      "Skipping - Token count 2936 >= 2500\n",
      "Skipping - Token count 3239 >= 2500\n",
      "Skipping - Token count 5308 >= 2500\n",
      "Skipping - Token count 22346 >= 2500\n",
      "Skipping - Token count 4807 >= 2500\n",
      "Skipping - Token count 8530 >= 2500\n",
      "Skipping - Token count 9063 >= 2500\n",
      "Skipping - Token count 5141 >= 2500\n",
      "Skipping - Token count 8253 >= 2500\n",
      "Skipping - Token count 2618 >= 2500\n",
      "Skipping - Token count 3540 >= 2500\n",
      "Skipping - Token count 4825 >= 2500\n",
      "Skipping - Token count 5513 >= 2500\n"
     ]
    },
    {
     "name": "stderr",
     "output_type": "stream",
     "text": [
      " 18%|█▊        | 7094/39034 [23:43<40:32:16,  4.57s/it]"
     ]
    },
    {
     "name": "stdout",
     "output_type": "stream",
     "text": [
      "Skipping - Token count 12172 >= 2500\n",
      "Skipping - Token count 12726 >= 2500\n",
      "Skipping - Token count 8141 >= 2500\n",
      "Skipping - Token count 5258 >= 2500\n",
      "Skipping - Token count 4037 >= 2500\n",
      "Skipping - Token count 2984 >= 2500\n",
      "Skipping - Token count 3234 >= 2500\n",
      "Skipping - Token count 3307 >= 2500\n",
      "Skipping - Token count 6305 >= 2500\n",
      "Skipping - Token count 10699 >= 2500\n",
      "Skipping - Token count 13238 >= 2500\n",
      "Skipping - Token count 5142 >= 2500\n",
      "Skipping - Token count 8288 >= 2500\n",
      "Skipping - Token count 2616 >= 2500\n",
      "Skipping - Token count 3478 >= 2500\n",
      "Skipping - Token count 3132 >= 2500\n",
      "Skipping - Token count 2509 >= 2500\n",
      "Skipping - Token count 5405 >= 2500\n"
     ]
    },
    {
     "name": "stderr",
     "output_type": "stream",
     "text": [
      " 18%|█▊        | 7095/39034 [24:09<60:30:30,  6.82s/it]Error processing source file: Source file not found: /home/XXX/trace-modeling-oss-fuzz-c/trace_test/traces/oniguruma_own/trace_fuzzer_exe/src_4.xml\n",
      "Falling back to HTML parser for /home/XXX/trace-modeling-oss-fuzz-c/trace_test/traces/nokogiri_own/trace_parse_fuzzer_exe/log_0.xml\n",
      "Falling back to HTML parser for /home/XXX/trace-modeling-oss-fuzz-c/trace_test/traces/nokogiri_own/trace_parse_fuzzer_exe/log_1.xml\n",
      "Fatal error processing trace file /home/XXX/trace-modeling-oss-fuzz-c/trace_test/traces/nokogiri_own/trace_parse_fuzzer_exe/log_1.xml: 'NoneType' object has no attribute 'xpath'\n",
      "Falling back to HTML parser for /home/XXX/trace-modeling-oss-fuzz-c/trace_test/traces/numactl_own/trace_fuzz_parse_str_exe/log_0.xml\n",
      "Falling back to HTML parser for /home/XXX/trace-modeling-oss-fuzz-c/trace_test/traces/numactl_own/trace_fuzz_parse_str_exe/log_1.xml\n",
      "Fatal error processing trace file /home/XXX/trace-modeling-oss-fuzz-c/trace_test/traces/numactl_own/trace_fuzz_parse_str_exe/log_1.xml: 'NoneType' object has no attribute 'xpath'\n",
      "Falling back to HTML parser for /home/XXX/trace-modeling-oss-fuzz-c/trace_test/traces/cyclonedds_own/trace_fuzz_type_object_exe/log_0.xml\n",
      "Falling back to HTML parser for /home/XXX/trace-modeling-oss-fuzz-c/trace_test/traces/cyclonedds_own/trace_fuzz_type_object_exe_exe/log_0.xml\n",
      " 18%|█▊        | 7102/39034 [24:09<29:51:29,  3.37s/it]Falling back to HTML parser for /home/XXX/trace-modeling-oss-fuzz-c/trace_test/traces/cyclonedds_own/trace_fuzz_handle_rtps_message_exe/log_0.xml\n",
      "Falling back to HTML parser for /home/XXX/trace-modeling-oss-fuzz-c/trace_test/traces/cyclonedds_own/trace_fuzz_sample_deser_exe/log_0.xml\n",
      "Falling back to HTML parser for /home/XXX/trace-modeling-oss-fuzz-c/trace_test/traces/cyclonedds_own/trace_fuzz_handle_rtps_message_exe_exe/log_0.xml\n",
      " 18%|█▊        | 7105/39034 [24:11<23:38:21,  2.67s/it]Falling back to HTML parser for /home/XXX/trace-modeling-oss-fuzz-c/trace_test/traces/cyclonedds_own/trace_fuzz_config_init_exe_exe/log_1.xml\n",
      "Falling back to HTML parser for /home/XXX/trace-modeling-oss-fuzz-c/trace_test/traces/cyclonedds_own/trace_fuzz_config_init_exe/log_1.xml\n",
      "Falling back to HTML parser for /home/XXX/trace-modeling-oss-fuzz-c/trace_test/traces/cgif_own/trace_cgif_fuzzer_exe_exe/log_0.xml\n",
      "Falling back to HTML parser for /home/XXX/trace-modeling-oss-fuzz-c/trace_test/traces/cgif_own/trace_cgif_fuzzer_exe_exe/log_1.xml\n",
      "Fatal error processing trace file /home/XXX/trace-modeling-oss-fuzz-c/trace_test/traces/cgif_own/trace_cgif_fuzzer_exe_exe/log_1.xml: 'NoneType' object has no attribute 'xpath'\n"
     ]
    },
    {
     "name": "stdout",
     "output_type": "stream",
     "text": [
      "Skipping - Token count 4063 >= 2500\n"
     ]
    },
    {
     "name": "stderr",
     "output_type": "stream",
     "text": [
      " 18%|█▊        | 7113/39034 [24:12<13:21:02,  1.51s/it]"
     ]
    },
    {
     "name": "stdout",
     "output_type": "stream",
     "text": [
      "Skipping - Token count 5757 >= 2500\n",
      "Skipping - Token count 4066 >= 2500\n"
     ]
    },
    {
     "name": "stderr",
     "output_type": "stream",
     "text": [
      " 18%|█▊        | 7116/39034 [24:18<14:15:58,  1.61s/it]"
     ]
    },
    {
     "name": "stdout",
     "output_type": "stream",
     "text": [
      "Skipping - Token count 3444 >= 2500\n"
     ]
    },
    {
     "name": "stderr",
     "output_type": "stream",
     "text": [
      " 18%|█▊        | 7117/39034 [24:20<14:18:48,  1.61s/it]"
     ]
    },
    {
     "name": "stdout",
     "output_type": "stream",
     "text": [
      "Skipping - Token count 3039 >= 2500\n"
     ]
    },
    {
     "name": "stderr",
     "output_type": "stream",
     "text": [
      " 18%|█▊        | 7118/39034 [24:22<14:30:03,  1.64s/it]"
     ]
    },
    {
     "name": "stdout",
     "output_type": "stream",
     "text": [
      "Skipping - Token count 4610 >= 2500\n"
     ]
    },
    {
     "name": "stderr",
     "output_type": "stream",
     "text": [
      " 18%|█▊        | 7119/39034 [24:24<15:26:32,  1.74s/it]"
     ]
    },
    {
     "name": "stdout",
     "output_type": "stream",
     "text": [
      "Skipping - Token count 4062 >= 2500\n"
     ]
    },
    {
     "name": "stderr",
     "output_type": "stream",
     "text": [
      " 18%|█▊        | 7120/39034 [24:25<15:06:39,  1.70s/it]"
     ]
    },
    {
     "name": "stdout",
     "output_type": "stream",
     "text": [
      "Skipping - Token count 4066 >= 2500\n"
     ]
    },
    {
     "name": "stderr",
     "output_type": "stream",
     "text": [
      " 18%|█▊        | 7121/39034 [24:27<15:12:16,  1.72s/it]"
     ]
    },
    {
     "name": "stdout",
     "output_type": "stream",
     "text": [
      "Skipping - Token count 4061 >= 2500\n"
     ]
    },
    {
     "name": "stderr",
     "output_type": "stream",
     "text": [
      " 18%|█▊        | 7122/39034 [24:29<15:09:17,  1.71s/it]"
     ]
    },
    {
     "name": "stdout",
     "output_type": "stream",
     "text": [
      "Skipping - Token count 4062 >= 2500\n"
     ]
    },
    {
     "name": "stderr",
     "output_type": "stream",
     "text": [
      " 18%|█▊        | 7123/39034 [24:31<15:20:26,  1.73s/it]"
     ]
    },
    {
     "name": "stdout",
     "output_type": "stream",
     "text": [
      "Skipping - Token count 4063 >= 2500\n"
     ]
    },
    {
     "name": "stderr",
     "output_type": "stream",
     "text": [
      " 18%|█▊        | 7124/39034 [24:32<15:25:41,  1.74s/it]"
     ]
    },
    {
     "name": "stdout",
     "output_type": "stream",
     "text": [
      "Skipping - Token count 4023 >= 2500\n"
     ]
    },
    {
     "name": "stderr",
     "output_type": "stream",
     "text": [
      " 18%|█▊        | 7125/39034 [24:34<15:18:57,  1.73s/it]"
     ]
    },
    {
     "name": "stdout",
     "output_type": "stream",
     "text": [
      "Skipping - Token count 4062 >= 2500\n"
     ]
    },
    {
     "name": "stderr",
     "output_type": "stream",
     "text": [
      " 18%|█▊        | 7126/39034 [24:36<15:19:44,  1.73s/it]"
     ]
    },
    {
     "name": "stdout",
     "output_type": "stream",
     "text": [
      "Skipping - Token count 4062 >= 2500\n"
     ]
    },
    {
     "name": "stderr",
     "output_type": "stream",
     "text": [
      " 18%|█▊        | 7127/39034 [24:38<15:25:55,  1.74s/it]"
     ]
    },
    {
     "name": "stdout",
     "output_type": "stream",
     "text": [
      "Skipping - Token count 5305 >= 2500\n"
     ]
    },
    {
     "name": "stderr",
     "output_type": "stream",
     "text": [
      " 18%|█▊        | 7128/39034 [24:40<17:05:21,  1.93s/it]"
     ]
    },
    {
     "name": "stdout",
     "output_type": "stream",
     "text": [
      "\n",
      "Processed 7120/39034 files\n",
      "Valid results: 36\n",
      "Unique function/input pairs: 36\n",
      "Skipping - Token count 4062 >= 2500\n"
     ]
    },
    {
     "name": "stderr",
     "output_type": "stream",
     "text": [
      " 18%|█▊        | 7129/39034 [24:42<16:25:47,  1.85s/it]"
     ]
    },
    {
     "name": "stdout",
     "output_type": "stream",
     "text": [
      "Skipping - Token count 4062 >= 2500\n"
     ]
    },
    {
     "name": "stderr",
     "output_type": "stream",
     "text": [
      " 18%|█▊        | 7130/39034 [24:43<16:04:39,  1.81s/it]"
     ]
    },
    {
     "name": "stdout",
     "output_type": "stream",
     "text": [
      "Skipping - Token count 2705 >= 2500\n"
     ]
    },
    {
     "name": "stderr",
     "output_type": "stream",
     "text": [
      " 18%|█▊        | 7131/39034 [24:45<15:48:44,  1.78s/it]"
     ]
    },
    {
     "name": "stdout",
     "output_type": "stream",
     "text": [
      "Skipping - Token count 4613 >= 2500\n"
     ]
    },
    {
     "name": "stderr",
     "output_type": "stream",
     "text": [
      " 18%|█▊        | 7132/39034 [24:47<15:34:39,  1.76s/it]"
     ]
    },
    {
     "name": "stdout",
     "output_type": "stream",
     "text": [
      "Skipping - Token count 4063 >= 2500\n"
     ]
    },
    {
     "name": "stderr",
     "output_type": "stream",
     "text": [
      " 18%|█▊        | 7133/39034 [24:48<15:30:30,  1.75s/it]"
     ]
    },
    {
     "name": "stdout",
     "output_type": "stream",
     "text": [
      "Skipping - Token count 5761 >= 2500\n"
     ]
    },
    {
     "name": "stderr",
     "output_type": "stream",
     "text": [
      " 18%|█▊        | 7134/39034 [24:51<16:48:35,  1.90s/it]"
     ]
    },
    {
     "name": "stdout",
     "output_type": "stream",
     "text": [
      "Skipping - Token count 5369 >= 2500\n"
     ]
    },
    {
     "name": "stderr",
     "output_type": "stream",
     "text": [
      " 18%|█▊        | 7135/39034 [24:53<17:43:07,  2.00s/it]"
     ]
    },
    {
     "name": "stdout",
     "output_type": "stream",
     "text": [
      "Skipping - Token count 5172 >= 2500\n"
     ]
    },
    {
     "name": "stderr",
     "output_type": "stream",
     "text": [
      " 18%|█▊        | 7136/39034 [24:55<17:00:12,  1.92s/it]"
     ]
    },
    {
     "name": "stdout",
     "output_type": "stream",
     "text": [
      "Skipping - Token count 4620 >= 2500\n"
     ]
    },
    {
     "name": "stderr",
     "output_type": "stream",
     "text": [
      " 18%|█▊        | 7137/39034 [24:57<17:48:44,  2.01s/it]"
     ]
    },
    {
     "name": "stdout",
     "output_type": "stream",
     "text": [
      "Skipping - Token count 4067 >= 2500\n"
     ]
    },
    {
     "name": "stderr",
     "output_type": "stream",
     "text": [
      " 18%|█▊        | 7138/39034 [24:59<18:24:21,  2.08s/it]"
     ]
    },
    {
     "name": "stdout",
     "output_type": "stream",
     "text": [
      "Skipping - Token count 4064 >= 2500\n"
     ]
    },
    {
     "name": "stderr",
     "output_type": "stream",
     "text": [
      " 18%|█▊        | 7139/39034 [25:01<17:38:06,  1.99s/it]"
     ]
    },
    {
     "name": "stdout",
     "output_type": "stream",
     "text": [
      "Skipping - Token count 4625 >= 2500\n"
     ]
    },
    {
     "name": "stderr",
     "output_type": "stream",
     "text": [
      " 18%|█▊        | 7141/39034 [25:04<16:27:36,  1.86s/it]"
     ]
    },
    {
     "name": "stdout",
     "output_type": "stream",
     "text": [
      "Skipping - Token count 4061 >= 2500\n"
     ]
    },
    {
     "name": "stderr",
     "output_type": "stream",
     "text": [
      " 18%|█▊        | 7144/39034 [25:08<12:57:28,  1.46s/it]Falling back to HTML parser for /home/XXX/trace-modeling-oss-fuzz-c/trace_test/traces/libucl_own/trace_ucl_add_string_fuzzer_exe_exe/log_2.xml\n",
      "Fatal error processing trace file /home/XXX/trace-modeling-oss-fuzz-c/trace_test/traces/libucl_own/trace_ucl_add_string_fuzzer_exe_exe/log_2.xml: 'NoneType' object has no attribute 'xpath'\n",
      "Error processing call: 'NoneType' object has no attribute 'splitlines'\n",
      "Error processing call: 'NoneType' object has no attribute 'splitlines'\n",
      "Error processing call: 'NoneType' object has no attribute 'splitlines'\n",
      "Error processing call: 'NoneType' object has no attribute 'splitlines'\n",
      "Error processing call: 'NoneType' object has no attribute 'splitlines'\n",
      "Error processing call: 'NoneType' object has no attribute 'splitlines'\n",
      "Error processing call: 'NoneType' object has no attribute 'splitlines'\n"
     ]
    },
    {
     "name": "stdout",
     "output_type": "stream",
     "text": [
      "Skipping - Token count 6457 >= 2500\n",
      "Skipping - Token count 2994 >= 2500\n"
     ]
    },
    {
     "name": "stderr",
     "output_type": "stream",
     "text": [
      "Error processing call: 'NoneType' object has no attribute 'splitlines'\n",
      "Error processing call: 'NoneType' object has no attribute 'splitlines'\n",
      "Error processing call: 'NoneType' object has no attribute 'splitlines'\n",
      "Error processing call: 'NoneType' object has no attribute 'splitlines'\n",
      "Error processing call: 'NoneType' object has no attribute 'splitlines'\n",
      "Error processing call: 'NoneType' object has no attribute 'splitlines'\n",
      "Error processing call: 'NoneType' object has no attribute 'splitlines'\n",
      "Error processing call: 'NoneType' object has no attribute 'splitlines'\n",
      "Error processing call: 'NoneType' object has no attribute 'splitlines'\n",
      "Error processing call: 'NoneType' object has no attribute 'splitlines'\n",
      "Error processing call: 'NoneType' object has no attribute 'splitlines'\n",
      "Error processing call: 'NoneType' object has no attribute 'splitlines'\n",
      " 18%|█▊        | 7147/39034 [25:10<8:26:33,  1.05it/s] Falling back to HTML parser for /home/XXX/trace-modeling-oss-fuzz-c/trace_test/traces/utf8proc_own/trace_utf8proc_fuzzer_exe/log_2.xml\n",
      "Fatal error processing trace file /home/XXX/trace-modeling-oss-fuzz-c/trace_test/traces/utf8proc_own/trace_utf8proc_fuzzer_exe/log_2.xml: 'NoneType' object has no attribute 'xpath'\n",
      "Falling back to HTML parser for /home/XXX/trace-modeling-oss-fuzz-c/trace_test/traces/msquic_own/trace_spinquic_exe/log_1.xml\n",
      " 18%|█▊        | 7152/39034 [25:11<5:05:53,  1.74it/s]Error processing source file: Source file not found: /home/XXX/trace-modeling-oss-fuzz-c/trace_test/traces/msquic_own/trace_fuzz_exe/src_0.xml\n",
      "Falling back to HTML parser for /home/XXX/trace-modeling-oss-fuzz-c/trace_test/traces/cmake_own/trace_xml_parser_fuzzer_exe_exe/log_0.xml\n",
      "Error processing call: 'NoneType' object has no attribute 'splitlines'\n",
      "Error processing call: 'NoneType' object has no attribute 'splitlines'\n",
      "Error processing call: 'NoneType' object has no attribute 'splitlines'\n",
      "Error processing call: 'NoneType' object has no attribute 'splitlines'\n",
      "Error processing call: 'NoneType' object has no attribute 'splitlines'\n",
      "Error processing call: 'NoneType' object has no attribute 'splitlines'\n",
      "Error processing call: 'NoneType' object has no attribute 'splitlines'\n",
      "Error processing call: 'NoneType' object has no attribute 'splitlines'\n",
      "Error processing call: 'NoneType' object has no attribute 'splitlines'\n",
      "Error processing call: 'NoneType' object has no attribute 'splitlines'\n",
      "Error processing call: 'NoneType' object has no attribute 'splitlines'\n",
      "Error processing call: 'NoneType' object has no attribute 'splitlines'\n",
      "Error processing call: 'NoneType' object has no attribute 'splitlines'\n",
      "Error processing call: 'NoneType' object has no attribute 'splitlines'\n",
      "Error processing call: 'NoneType' object has no attribute 'splitlines'\n",
      "Error processing call: 'NoneType' object has no attribute 'splitlines'\n",
      " 18%|█▊        | 7154/39034 [25:11<4:02:04,  2.19it/s]Falling back to HTML parser for /home/XXX/trace-modeling-oss-fuzz-c/trace_test/traces/md4c_own/trace_fuzz-mdhtml_exe_exe/log_2.xml\n",
      "Fatal error processing trace file /home/XXX/trace-modeling-oss-fuzz-c/trace_test/traces/md4c_own/trace_fuzz-mdhtml_exe_exe/log_2.xml: 'NoneType' object has no attribute 'xpath'\n",
      "Falling back to HTML parser for /home/XXX/trace-modeling-oss-fuzz-c/trace_test/traces/md4c_own/trace_fuzz-mdhtml_exe/log_1.xml\n",
      "Error processing call: 'NoneType' object has no attribute 'splitlines'\n",
      "Error processing call: 'NoneType' object has no attribute 'splitlines'\n",
      "Error processing call: 'NoneType' object has no attribute 'splitlines'\n",
      "Error processing call: 'NoneType' object has no attribute 'splitlines'\n",
      "Error processing call: 'NoneType' object has no attribute 'splitlines'\n",
      "Error processing call: 'NoneType' object has no attribute 'splitlines'\n",
      " 18%|█▊        | 7210/39034 [25:18<1:16:03,  6.97it/s]"
     ]
    },
    {
     "name": "stdout",
     "output_type": "stream",
     "text": [
      "\n",
      "Processed 7200/39034 files\n",
      "Valid results: 39\n",
      "Unique function/input pairs: 39\n"
     ]
    },
    {
     "name": "stderr",
     "output_type": "stream",
     "text": [
      " 19%|█▊        | 7289/39034 [25:29<1:03:23,  8.35it/s]"
     ]
    },
    {
     "name": "stdout",
     "output_type": "stream",
     "text": [
      "\n",
      "Processed 7280/39034 files\n",
      "Valid results: 40\n",
      "Unique function/input pairs: 40\n"
     ]
    },
    {
     "name": "stderr",
     "output_type": "stream",
     "text": [
      " 19%|█▉        | 7369/39034 [25:39<1:01:48,  8.54it/s]"
     ]
    },
    {
     "name": "stdout",
     "output_type": "stream",
     "text": [
      "\n",
      "Processed 7360/39034 files\n",
      "Valid results: 40\n",
      "Unique function/input pairs: 40\n"
     ]
    },
    {
     "name": "stderr",
     "output_type": "stream",
     "text": [
      " 19%|█▉        | 7448/39034 [25:50<1:13:34,  7.15it/s]"
     ]
    },
    {
     "name": "stdout",
     "output_type": "stream",
     "text": [
      "\n",
      "Processed 7440/39034 files\n",
      "Valid results: 40\n",
      "Unique function/input pairs: 40\n"
     ]
    },
    {
     "name": "stderr",
     "output_type": "stream",
     "text": [
      " 19%|█▉        | 7531/39034 [26:00<31:29, 16.67it/s]  "
     ]
    },
    {
     "name": "stdout",
     "output_type": "stream",
     "text": [
      "\n",
      "Processed 7520/39034 files\n",
      "Valid results: 40\n",
      "Unique function/input pairs: 40\n"
     ]
    },
    {
     "name": "stderr",
     "output_type": "stream",
     "text": [
      " 20%|█▉        | 7612/39034 [26:05<30:06, 17.40it/s]"
     ]
    },
    {
     "name": "stdout",
     "output_type": "stream",
     "text": [
      "\n",
      "Processed 7600/39034 files\n",
      "Valid results: 40\n",
      "Unique function/input pairs: 40\n"
     ]
    },
    {
     "name": "stderr",
     "output_type": "stream",
     "text": [
      " 20%|█▉        | 7689/39034 [26:10<25:55, 20.15it/s]"
     ]
    },
    {
     "name": "stdout",
     "output_type": "stream",
     "text": [
      "\n",
      "Processed 7680/39034 files\n",
      "Valid results: 40\n",
      "Unique function/input pairs: 40\n"
     ]
    },
    {
     "name": "stderr",
     "output_type": "stream",
     "text": [
      " 20%|█▉        | 7771/39034 [26:15<32:18, 16.13it/s]"
     ]
    },
    {
     "name": "stdout",
     "output_type": "stream",
     "text": [
      "\n",
      "Processed 7760/39034 files\n",
      "Valid results: 40\n",
      "Unique function/input pairs: 40\n"
     ]
    },
    {
     "name": "stderr",
     "output_type": "stream",
     "text": [
      " 20%|██        | 7853/39034 [26:20<29:35, 17.56it/s]"
     ]
    },
    {
     "name": "stdout",
     "output_type": "stream",
     "text": [
      "\n",
      "Processed 7840/39034 files\n",
      "Valid results: 40\n",
      "Unique function/input pairs: 40\n"
     ]
    },
    {
     "name": "stderr",
     "output_type": "stream",
     "text": [
      " 20%|██        | 7929/39034 [26:25<38:16, 13.54it/s]"
     ]
    },
    {
     "name": "stdout",
     "output_type": "stream",
     "text": [
      "\n",
      "Processed 7920/39034 files\n",
      "Valid results: 40\n",
      "Unique function/input pairs: 40\n"
     ]
    },
    {
     "name": "stderr",
     "output_type": "stream",
     "text": [
      " 21%|██        | 8008/39034 [26:30<34:19, 15.06it/s]"
     ]
    },
    {
     "name": "stdout",
     "output_type": "stream",
     "text": [
      "\n",
      "Processed 8000/39034 files\n",
      "Valid results: 40\n",
      "Unique function/input pairs: 40\n"
     ]
    },
    {
     "name": "stderr",
     "output_type": "stream",
     "text": [
      " 21%|██        | 8090/39034 [26:35<33:22, 15.45it/s]"
     ]
    },
    {
     "name": "stdout",
     "output_type": "stream",
     "text": [
      "\n",
      "Processed 8080/39034 files\n",
      "Valid results: 40\n",
      "Unique function/input pairs: 40\n"
     ]
    },
    {
     "name": "stderr",
     "output_type": "stream",
     "text": [
      " 21%|██        | 8170/39034 [26:40<31:46, 16.19it/s]"
     ]
    },
    {
     "name": "stdout",
     "output_type": "stream",
     "text": [
      "\n",
      "Processed 8160/39034 files\n",
      "Valid results: 40\n",
      "Unique function/input pairs: 40\n"
     ]
    },
    {
     "name": "stderr",
     "output_type": "stream",
     "text": [
      " 21%|██        | 8250/39034 [26:46<29:19, 17.49it/s]"
     ]
    },
    {
     "name": "stdout",
     "output_type": "stream",
     "text": [
      "\n",
      "Processed 8240/39034 files\n",
      "Valid results: 40\n",
      "Unique function/input pairs: 40\n"
     ]
    },
    {
     "name": "stderr",
     "output_type": "stream",
     "text": [
      " 21%|██▏       | 8331/39034 [26:51<27:30, 18.60it/s]"
     ]
    },
    {
     "name": "stdout",
     "output_type": "stream",
     "text": [
      "\n",
      "Processed 8320/39034 files\n",
      "Valid results: 40\n",
      "Unique function/input pairs: 40\n"
     ]
    },
    {
     "name": "stderr",
     "output_type": "stream",
     "text": [
      " 21%|██▏       | 8371/39034 [26:53<33:21, 15.32it/s]"
     ]
    },
    {
     "name": "stdout",
     "output_type": "stream",
     "text": [
      "Skipping - Token count 9575 >= 2500\n",
      "Skipping - Token count 9575 >= 2500\n",
      "Skipping - Token count 9575 >= 2500\n"
     ]
    },
    {
     "name": "stderr",
     "output_type": "stream",
     "text": [
      " 21%|██▏       | 8375/39034 [26:54<31:14, 16.36it/s]"
     ]
    },
    {
     "name": "stdout",
     "output_type": "stream",
     "text": [
      "Skipping - Token count 9575 >= 2500\n",
      "Skipping - Token count 9547 >= 2500\n",
      "Skipping - Token count 9575 >= 2500\n",
      "Skipping - Token count 9575 >= 2500\n"
     ]
    },
    {
     "name": "stderr",
     "output_type": "stream",
     "text": [
      " 21%|██▏       | 8379/39034 [26:54<32:07, 15.91it/s]"
     ]
    },
    {
     "name": "stdout",
     "output_type": "stream",
     "text": [
      "Skipping - Token count 9575 >= 2500\n",
      "Skipping - Token count 9575 >= 2500\n",
      "Skipping - Token count 9575 >= 2500\n",
      "Skipping - Token count 9547 >= 2500\n"
     ]
    },
    {
     "name": "stderr",
     "output_type": "stream",
     "text": [
      " 21%|██▏       | 8383/39034 [26:54<33:01, 15.47it/s]"
     ]
    },
    {
     "name": "stdout",
     "output_type": "stream",
     "text": [
      "Skipping - Token count 9575 >= 2500\n",
      "Skipping - Token count 9575 >= 2500\n",
      "Skipping - Token count 9575 >= 2500\n",
      "Skipping - Token count 9547 >= 2500\n"
     ]
    },
    {
     "name": "stderr",
     "output_type": "stream",
     "text": [
      " 21%|██▏       | 8387/39034 [26:54<32:47, 15.57it/s]"
     ]
    },
    {
     "name": "stdout",
     "output_type": "stream",
     "text": [
      "Skipping - Token count 9575 >= 2500\n",
      "Skipping - Token count 9575 >= 2500\n",
      "Skipping - Token count 9575 >= 2500\n",
      "Skipping - Token count 9575 >= 2500\n"
     ]
    },
    {
     "name": "stderr",
     "output_type": "stream",
     "text": [
      " 21%|██▏       | 8391/39034 [26:55<32:28, 15.73it/s]"
     ]
    },
    {
     "name": "stdout",
     "output_type": "stream",
     "text": [
      "Skipping - Token count 9575 >= 2500\n",
      "Skipping - Token count 9575 >= 2500\n",
      "Skipping - Token count 9575 >= 2500\n",
      "Skipping - Token count 9575 >= 2500\n"
     ]
    },
    {
     "name": "stderr",
     "output_type": "stream",
     "text": [
      " 22%|██▏       | 8395/39034 [26:55<32:30, 15.71it/s]"
     ]
    },
    {
     "name": "stdout",
     "output_type": "stream",
     "text": [
      "Skipping - Token count 9575 >= 2500\n",
      "Skipping - Token count 9575 >= 2500\n",
      "Skipping - Token count 9575 >= 2500\n",
      "Skipping - Token count 9575 >= 2500\n"
     ]
    },
    {
     "name": "stderr",
     "output_type": "stream",
     "text": [
      " 22%|██▏       | 8399/39034 [26:55<34:50, 14.65it/s]"
     ]
    },
    {
     "name": "stdout",
     "output_type": "stream",
     "text": [
      "Skipping - Token count 9575 >= 2500\n",
      "Skipping - Token count 9575 >= 2500\n",
      "Skipping - Token count 9547 >= 2500\n",
      "Skipping - Token count 9575 >= 2500\n"
     ]
    },
    {
     "name": "stderr",
     "output_type": "stream",
     "text": [
      " 22%|██▏       | 8403/39034 [26:56<35:35, 14.34it/s]"
     ]
    },
    {
     "name": "stdout",
     "output_type": "stream",
     "text": [
      "Skipping - Token count 9547 >= 2500\n",
      "Skipping - Token count 9575 >= 2500\n",
      "Skipping - Token count 9575 >= 2500\n",
      "Skipping - Token count 9575 >= 2500\n"
     ]
    },
    {
     "name": "stderr",
     "output_type": "stream",
     "text": [
      " 22%|██▏       | 8407/39034 [26:56<33:44, 15.13it/s]"
     ]
    },
    {
     "name": "stdout",
     "output_type": "stream",
     "text": [
      "Skipping - Token count 9575 >= 2500\n",
      "Skipping - Token count 9575 >= 2500\n",
      "Skipping - Token count 9575 >= 2500\n",
      "Skipping - Token count 9575 >= 2500\n"
     ]
    },
    {
     "name": "stderr",
     "output_type": "stream",
     "text": [
      " 22%|██▏       | 8411/39034 [26:56<33:34, 15.20it/s]"
     ]
    },
    {
     "name": "stdout",
     "output_type": "stream",
     "text": [
      "Skipping - Token count 9575 >= 2500\n",
      "\n",
      "Processed 8400/39034 files\n",
      "Valid results: 40\n",
      "Unique function/input pairs: 40\n",
      "Skipping - Token count 9575 >= 2500\n",
      "Skipping - Token count 9575 >= 2500\n",
      "Skipping - Token count 9575 >= 2500\n"
     ]
    },
    {
     "name": "stderr",
     "output_type": "stream",
     "text": [
      " 22%|██▏       | 8415/39034 [26:56<33:52, 15.07it/s]"
     ]
    },
    {
     "name": "stdout",
     "output_type": "stream",
     "text": [
      "Skipping - Token count 9575 >= 2500\n",
      "Skipping - Token count 9547 >= 2500\n",
      "Skipping - Token count 9575 >= 2500\n",
      "Skipping - Token count 9575 >= 2500\n"
     ]
    },
    {
     "name": "stderr",
     "output_type": "stream",
     "text": [
      " 22%|██▏       | 8419/39034 [26:57<34:10, 14.93it/s]"
     ]
    },
    {
     "name": "stdout",
     "output_type": "stream",
     "text": [
      "Skipping - Token count 9575 >= 2500\n",
      "Skipping - Token count 9575 >= 2500\n",
      "Skipping - Token count 9547 >= 2500\n",
      "Skipping - Token count 9575 >= 2500\n"
     ]
    },
    {
     "name": "stderr",
     "output_type": "stream",
     "text": [
      " 22%|██▏       | 8423/39034 [26:57<35:10, 14.50it/s]"
     ]
    },
    {
     "name": "stdout",
     "output_type": "stream",
     "text": [
      "Skipping - Token count 9575 >= 2500\n",
      "Skipping - Token count 9575 >= 2500\n",
      "Skipping - Token count 9547 >= 2500\n",
      "Skipping - Token count 9547 >= 2500\n"
     ]
    },
    {
     "name": "stderr",
     "output_type": "stream",
     "text": [
      " 22%|██▏       | 8427/39034 [26:57<35:03, 14.55it/s]"
     ]
    },
    {
     "name": "stdout",
     "output_type": "stream",
     "text": [
      "Skipping - Token count 9547 >= 2500\n",
      "Skipping - Token count 9575 >= 2500\n",
      "Skipping - Token count 9575 >= 2500\n",
      "Skipping - Token count 9547 >= 2500\n"
     ]
    },
    {
     "name": "stderr",
     "output_type": "stream",
     "text": [
      " 22%|██▏       | 8431/39034 [26:57<34:45, 14.68it/s]"
     ]
    },
    {
     "name": "stdout",
     "output_type": "stream",
     "text": [
      "Skipping - Token count 9547 >= 2500\n",
      "Skipping - Token count 9575 >= 2500\n",
      "Skipping - Token count 9547 >= 2500\n",
      "Skipping - Token count 9575 >= 2500\n"
     ]
    },
    {
     "name": "stderr",
     "output_type": "stream",
     "text": [
      " 22%|██▏       | 8435/39034 [26:58<35:17, 14.45it/s]"
     ]
    },
    {
     "name": "stdout",
     "output_type": "stream",
     "text": [
      "Skipping - Token count 9575 >= 2500\n",
      "Skipping - Token count 9575 >= 2500\n",
      "Skipping - Token count 9575 >= 2500\n",
      "Skipping - Token count 9575 >= 2500\n"
     ]
    },
    {
     "name": "stderr",
     "output_type": "stream",
     "text": [
      " 22%|██▏       | 8439/39034 [26:58<33:22, 15.28it/s]"
     ]
    },
    {
     "name": "stdout",
     "output_type": "stream",
     "text": [
      "Skipping - Token count 9575 >= 2500\n",
      "Skipping - Token count 9547 >= 2500\n",
      "Skipping - Token count 9575 >= 2500\n",
      "Skipping - Token count 9575 >= 2500\n"
     ]
    },
    {
     "name": "stderr",
     "output_type": "stream",
     "text": [
      " 22%|██▏       | 8443/39034 [26:58<34:16, 14.88it/s]"
     ]
    },
    {
     "name": "stdout",
     "output_type": "stream",
     "text": [
      "Skipping - Token count 9575 >= 2500\n",
      "Skipping - Token count 9575 >= 2500\n",
      "Skipping - Token count 9547 >= 2500\n",
      "Skipping - Token count 9575 >= 2500\n"
     ]
    },
    {
     "name": "stderr",
     "output_type": "stream",
     "text": [
      " 22%|██▏       | 8447/39034 [26:59<32:56, 15.48it/s]"
     ]
    },
    {
     "name": "stdout",
     "output_type": "stream",
     "text": [
      "Skipping - Token count 9575 >= 2500\n",
      "Skipping - Token count 9575 >= 2500\n",
      "Skipping - Token count 9547 >= 2500\n",
      "Skipping - Token count 9547 >= 2500\n"
     ]
    },
    {
     "name": "stderr",
     "output_type": "stream",
     "text": [
      " 22%|██▏       | 8451/39034 [26:59<32:40, 15.60it/s]"
     ]
    },
    {
     "name": "stdout",
     "output_type": "stream",
     "text": [
      "Skipping - Token count 9575 >= 2500\n",
      "Skipping - Token count 9575 >= 2500\n",
      "Skipping - Token count 9575 >= 2500\n",
      "Skipping - Token count 9547 >= 2500\n"
     ]
    },
    {
     "name": "stderr",
     "output_type": "stream",
     "text": [
      " 22%|██▏       | 8455/39034 [26:59<32:14, 15.81it/s]"
     ]
    },
    {
     "name": "stdout",
     "output_type": "stream",
     "text": [
      "Skipping - Token count 9575 >= 2500\n",
      "Skipping - Token count 9575 >= 2500\n",
      "Skipping - Token count 9575 >= 2500\n",
      "Skipping - Token count 9575 >= 2500\n"
     ]
    },
    {
     "name": "stderr",
     "output_type": "stream",
     "text": [
      " 22%|██▏       | 8459/39034 [26:59<33:22, 15.27it/s]"
     ]
    },
    {
     "name": "stdout",
     "output_type": "stream",
     "text": [
      "Skipping - Token count 9575 >= 2500\n",
      "Skipping - Token count 9575 >= 2500\n",
      "Skipping - Token count 9575 >= 2500\n",
      "Skipping - Token count 9575 >= 2500\n"
     ]
    },
    {
     "name": "stderr",
     "output_type": "stream",
     "text": [
      " 22%|██▏       | 8463/39034 [27:00<33:29, 15.21it/s]"
     ]
    },
    {
     "name": "stdout",
     "output_type": "stream",
     "text": [
      "Skipping - Token count 9575 >= 2500\n",
      "Skipping - Token count 9575 >= 2500\n",
      "Skipping - Token count 9575 >= 2500\n",
      "Skipping - Token count 9547 >= 2500\n"
     ]
    },
    {
     "name": "stderr",
     "output_type": "stream",
     "text": [
      " 22%|██▏       | 8465/39034 [27:00<37:10, 13.71it/s]"
     ]
    },
    {
     "name": "stdout",
     "output_type": "stream",
     "text": [
      "Skipping - Token count 9547 >= 2500\n",
      "Skipping - Token count 9547 >= 2500\n",
      "Skipping - Token count 9547 >= 2500\n",
      "Skipping - Token count 9547 >= 2500\n"
     ]
    },
    {
     "name": "stderr",
     "output_type": "stream",
     "text": [
      " 22%|██▏       | 8470/39034 [27:00<32:26, 15.70it/s]"
     ]
    },
    {
     "name": "stdout",
     "output_type": "stream",
     "text": [
      "Skipping - Token count 9575 >= 2500\n",
      "Skipping - Token count 9575 >= 2500\n",
      "Skipping - Token count 9575 >= 2500\n",
      "Skipping - Token count 9575 >= 2500\n"
     ]
    },
    {
     "name": "stderr",
     "output_type": "stream",
     "text": [
      " 22%|██▏       | 8474/39034 [27:00<32:04, 15.88it/s]"
     ]
    },
    {
     "name": "stdout",
     "output_type": "stream",
     "text": [
      "Skipping - Token count 9575 >= 2500\n",
      "Skipping - Token count 9575 >= 2500\n",
      "Skipping - Token count 9547 >= 2500\n",
      "Skipping - Token count 9547 >= 2500\n"
     ]
    },
    {
     "name": "stderr",
     "output_type": "stream",
     "text": [
      " 22%|██▏       | 8478/39034 [27:01<33:10, 15.35it/s]"
     ]
    },
    {
     "name": "stdout",
     "output_type": "stream",
     "text": [
      "Skipping - Token count 9575 >= 2500\n",
      "Skipping - Token count 9547 >= 2500\n",
      "Skipping - Token count 9575 >= 2500\n",
      "Skipping - Token count 9547 >= 2500\n"
     ]
    },
    {
     "name": "stderr",
     "output_type": "stream",
     "text": [
      " 22%|██▏       | 8482/39034 [27:01<34:16, 14.86it/s]"
     ]
    },
    {
     "name": "stdout",
     "output_type": "stream",
     "text": [
      "Skipping - Token count 9575 >= 2500\n",
      "Skipping - Token count 9575 >= 2500\n",
      "Skipping - Token count 9575 >= 2500\n",
      "Skipping - Token count 9575 >= 2500\n"
     ]
    },
    {
     "name": "stderr",
     "output_type": "stream",
     "text": [
      " 22%|██▏       | 8486/39034 [27:01<34:33, 14.73it/s]"
     ]
    },
    {
     "name": "stdout",
     "output_type": "stream",
     "text": [
      "Skipping - Token count 9547 >= 2500\n",
      "Skipping - Token count 9547 >= 2500\n",
      "Skipping - Token count 9547 >= 2500\n",
      "Skipping - Token count 9575 >= 2500\n"
     ]
    },
    {
     "name": "stderr",
     "output_type": "stream",
     "text": [
      " 22%|██▏       | 8490/39034 [27:01<33:45, 15.08it/s]"
     ]
    },
    {
     "name": "stdout",
     "output_type": "stream",
     "text": [
      "Skipping - Token count 9575 >= 2500\n",
      "\n",
      "Processed 8480/39034 files\n",
      "Valid results: 40\n",
      "Unique function/input pairs: 40\n",
      "Skipping - Token count 9575 >= 2500\n",
      "Skipping - Token count 9575 >= 2500\n",
      "Skipping - Token count 9547 >= 2500\n"
     ]
    },
    {
     "name": "stderr",
     "output_type": "stream",
     "text": [
      " 22%|██▏       | 8494/39034 [27:02<33:56, 15.00it/s]"
     ]
    },
    {
     "name": "stdout",
     "output_type": "stream",
     "text": [
      "Skipping - Token count 9575 >= 2500\n",
      "Skipping - Token count 9575 >= 2500\n",
      "Skipping - Token count 9575 >= 2500\n",
      "Skipping - Token count 9575 >= 2500\n"
     ]
    },
    {
     "name": "stderr",
     "output_type": "stream",
     "text": [
      " 22%|██▏       | 8499/39034 [27:02<31:51, 15.97it/s]"
     ]
    },
    {
     "name": "stdout",
     "output_type": "stream",
     "text": [
      "Skipping - Token count 9575 >= 2500\n",
      "Skipping - Token count 9575 >= 2500\n",
      "Skipping - Token count 9575 >= 2500\n",
      "Skipping - Token count 9575 >= 2500\n"
     ]
    },
    {
     "name": "stderr",
     "output_type": "stream",
     "text": [
      " 22%|██▏       | 8503/39034 [27:02<34:14, 14.86it/s]"
     ]
    },
    {
     "name": "stdout",
     "output_type": "stream",
     "text": [
      "Skipping - Token count 9575 >= 2500\n",
      "Skipping - Token count 9575 >= 2500\n",
      "Skipping - Token count 9575 >= 2500\n",
      "Skipping - Token count 9575 >= 2500\n"
     ]
    },
    {
     "name": "stderr",
     "output_type": "stream",
     "text": [
      " 22%|██▏       | 8507/39034 [27:03<33:36, 15.13it/s]"
     ]
    },
    {
     "name": "stdout",
     "output_type": "stream",
     "text": [
      "Skipping - Token count 9575 >= 2500\n",
      "Skipping - Token count 9575 >= 2500\n",
      "Skipping - Token count 9575 >= 2500\n",
      "Skipping - Token count 9575 >= 2500\n"
     ]
    },
    {
     "name": "stderr",
     "output_type": "stream",
     "text": [
      " 22%|██▏       | 8511/39034 [27:03<33:38, 15.12it/s]"
     ]
    },
    {
     "name": "stdout",
     "output_type": "stream",
     "text": [
      "Skipping - Token count 9547 >= 2500\n",
      "Skipping - Token count 9575 >= 2500\n",
      "Skipping - Token count 9547 >= 2500\n",
      "Skipping - Token count 9575 >= 2500\n"
     ]
    },
    {
     "name": "stderr",
     "output_type": "stream",
     "text": [
      " 22%|██▏       | 8515/39034 [27:03<32:12, 15.79it/s]"
     ]
    },
    {
     "name": "stdout",
     "output_type": "stream",
     "text": [
      "Skipping - Token count 9575 >= 2500\n",
      "Skipping - Token count 9575 >= 2500\n",
      "Skipping - Token count 9575 >= 2500\n",
      "Skipping - Token count 9547 >= 2500\n"
     ]
    },
    {
     "name": "stderr",
     "output_type": "stream",
     "text": [
      " 22%|██▏       | 8517/39034 [27:03<34:34, 14.71it/s]"
     ]
    },
    {
     "name": "stdout",
     "output_type": "stream",
     "text": [
      "Skipping - Token count 9547 >= 2500\n",
      "Skipping - Token count 9547 >= 2500\n",
      "Skipping - Token count 9575 >= 2500\n",
      "Skipping - Token count 9547 >= 2500\n"
     ]
    },
    {
     "name": "stderr",
     "output_type": "stream",
     "text": [
      " 22%|██▏       | 8522/39034 [27:04<32:49, 15.49it/s]"
     ]
    },
    {
     "name": "stdout",
     "output_type": "stream",
     "text": [
      "Skipping - Token count 9547 >= 2500\n",
      "Skipping - Token count 9575 >= 2500\n",
      "Skipping - Token count 9575 >= 2500\n",
      "Skipping - Token count 9575 >= 2500\n"
     ]
    },
    {
     "name": "stderr",
     "output_type": "stream",
     "text": [
      " 22%|██▏       | 8526/39034 [27:04<33:25, 15.21it/s]"
     ]
    },
    {
     "name": "stdout",
     "output_type": "stream",
     "text": [
      "Skipping - Token count 9575 >= 2500\n",
      "Skipping - Token count 9575 >= 2500\n",
      "Skipping - Token count 9547 >= 2500\n",
      "Skipping - Token count 9575 >= 2500\n"
     ]
    },
    {
     "name": "stderr",
     "output_type": "stream",
     "text": [
      " 22%|██▏       | 8530/39034 [27:04<33:42, 15.08it/s]"
     ]
    },
    {
     "name": "stdout",
     "output_type": "stream",
     "text": [
      "Skipping - Token count 9547 >= 2500\n",
      "Skipping - Token count 9547 >= 2500\n",
      "Skipping - Token count 9575 >= 2500\n",
      "Skipping - Token count 9575 >= 2500\n"
     ]
    },
    {
     "name": "stderr",
     "output_type": "stream",
     "text": [
      " 22%|██▏       | 8534/39034 [27:04<34:34, 14.70it/s]"
     ]
    },
    {
     "name": "stdout",
     "output_type": "stream",
     "text": [
      "Skipping - Token count 9547 >= 2500\n",
      "Skipping - Token count 9575 >= 2500\n",
      "Skipping - Token count 9547 >= 2500\n",
      "Skipping - Token count 9575 >= 2500\n"
     ]
    },
    {
     "name": "stderr",
     "output_type": "stream",
     "text": [
      " 22%|██▏       | 8538/39034 [27:05<33:23, 15.22it/s]"
     ]
    },
    {
     "name": "stdout",
     "output_type": "stream",
     "text": [
      "Skipping - Token count 9547 >= 2500\n",
      "Skipping - Token count 9575 >= 2500\n",
      "Skipping - Token count 9575 >= 2500\n",
      "Skipping - Token count 9575 >= 2500\n"
     ]
    },
    {
     "name": "stderr",
     "output_type": "stream",
     "text": [
      " 22%|██▏       | 8542/39034 [27:05<34:27, 14.75it/s]"
     ]
    },
    {
     "name": "stdout",
     "output_type": "stream",
     "text": [
      "Skipping - Token count 9575 >= 2500\n",
      "Skipping - Token count 9575 >= 2500\n",
      "Skipping - Token count 9575 >= 2500\n",
      "Skipping - Token count 9547 >= 2500\n"
     ]
    },
    {
     "name": "stderr",
     "output_type": "stream",
     "text": [
      " 22%|██▏       | 8546/39034 [27:05<33:13, 15.29it/s]"
     ]
    },
    {
     "name": "stdout",
     "output_type": "stream",
     "text": [
      "Skipping - Token count 9575 >= 2500\n",
      "Skipping - Token count 9575 >= 2500\n",
      "Skipping - Token count 9575 >= 2500\n",
      "Skipping - Token count 9575 >= 2500\n"
     ]
    },
    {
     "name": "stderr",
     "output_type": "stream",
     "text": [
      " 22%|██▏       | 8550/39034 [27:06<35:05, 14.48it/s]"
     ]
    },
    {
     "name": "stdout",
     "output_type": "stream",
     "text": [
      "Skipping - Token count 9547 >= 2500\n",
      "Skipping - Token count 9575 >= 2500\n",
      "Skipping - Token count 9547 >= 2500\n",
      "Skipping - Token count 9575 >= 2500\n"
     ]
    },
    {
     "name": "stderr",
     "output_type": "stream",
     "text": [
      " 22%|██▏       | 8554/39034 [27:06<32:47, 15.49it/s]"
     ]
    },
    {
     "name": "stdout",
     "output_type": "stream",
     "text": [
      "Skipping - Token count 9575 >= 2500\n",
      "Skipping - Token count 9575 >= 2500\n",
      "Skipping - Token count 9575 >= 2500\n",
      "Skipping - Token count 9575 >= 2500\n"
     ]
    },
    {
     "name": "stderr",
     "output_type": "stream",
     "text": [
      " 22%|██▏       | 8558/39034 [27:06<33:55, 14.97it/s]"
     ]
    },
    {
     "name": "stdout",
     "output_type": "stream",
     "text": [
      "Skipping - Token count 9575 >= 2500\n",
      "Skipping - Token count 9547 >= 2500\n",
      "Skipping - Token count 9575 >= 2500\n",
      "Skipping - Token count 9575 >= 2500\n"
     ]
    },
    {
     "name": "stderr",
     "output_type": "stream",
     "text": [
      " 22%|██▏       | 8562/39034 [27:06<33:47, 15.03it/s]"
     ]
    },
    {
     "name": "stdout",
     "output_type": "stream",
     "text": [
      "Skipping - Token count 9547 >= 2500\n",
      "Skipping - Token count 9575 >= 2500\n",
      "Skipping - Token count 9547 >= 2500\n",
      "Skipping - Token count 9547 >= 2500\n"
     ]
    },
    {
     "name": "stderr",
     "output_type": "stream",
     "text": [
      " 22%|██▏       | 8567/39034 [27:07<33:01, 15.37it/s]"
     ]
    },
    {
     "name": "stdout",
     "output_type": "stream",
     "text": [
      "Skipping - Token count 9575 >= 2500\n",
      "Skipping - Token count 9575 >= 2500\n",
      "Skipping - Token count 9575 >= 2500\n",
      "Skipping - Token count 9575 >= 2500\n"
     ]
    },
    {
     "name": "stderr",
     "output_type": "stream",
     "text": [
      " 22%|██▏       | 8571/39034 [27:07<34:04, 14.90it/s]"
     ]
    },
    {
     "name": "stdout",
     "output_type": "stream",
     "text": [
      "Skipping - Token count 9575 >= 2500\n",
      "\n",
      "Processed 8560/39034 files\n",
      "Valid results: 40\n",
      "Unique function/input pairs: 40\n",
      "Skipping - Token count 9575 >= 2500\n",
      "Skipping - Token count 9547 >= 2500\n",
      "Skipping - Token count 9575 >= 2500\n"
     ]
    },
    {
     "name": "stderr",
     "output_type": "stream",
     "text": [
      " 22%|██▏       | 8575/39034 [27:07<33:07, 15.32it/s]"
     ]
    },
    {
     "name": "stdout",
     "output_type": "stream",
     "text": [
      "Skipping - Token count 9575 >= 2500\n",
      "Skipping - Token count 9575 >= 2500\n",
      "Skipping - Token count 9575 >= 2500\n",
      "Skipping - Token count 9547 >= 2500\n"
     ]
    },
    {
     "name": "stderr",
     "output_type": "stream",
     "text": [
      " 22%|██▏       | 8579/39034 [27:07<32:18, 15.71it/s]"
     ]
    },
    {
     "name": "stdout",
     "output_type": "stream",
     "text": [
      "Skipping - Token count 9547 >= 2500\n",
      "Skipping - Token count 9575 >= 2500\n",
      "Skipping - Token count 9575 >= 2500\n",
      "Skipping - Token count 9547 >= 2500\n"
     ]
    },
    {
     "name": "stderr",
     "output_type": "stream",
     "text": [
      " 22%|██▏       | 8583/39034 [27:08<32:32, 15.60it/s]"
     ]
    },
    {
     "name": "stdout",
     "output_type": "stream",
     "text": [
      "Skipping - Token count 9547 >= 2500\n",
      "Skipping - Token count 9575 >= 2500\n",
      "Skipping - Token count 9575 >= 2500\n",
      "Skipping - Token count 9547 >= 2500\n"
     ]
    },
    {
     "name": "stderr",
     "output_type": "stream",
     "text": [
      " 22%|██▏       | 8587/39034 [27:08<33:28, 15.16it/s]"
     ]
    },
    {
     "name": "stdout",
     "output_type": "stream",
     "text": [
      "Skipping - Token count 9547 >= 2500\n",
      "Skipping - Token count 9575 >= 2500\n",
      "Skipping - Token count 9575 >= 2500\n",
      "Skipping - Token count 9575 >= 2500\n"
     ]
    },
    {
     "name": "stderr",
     "output_type": "stream",
     "text": [
      " 22%|██▏       | 8591/39034 [27:08<33:13, 15.27it/s]"
     ]
    },
    {
     "name": "stdout",
     "output_type": "stream",
     "text": [
      "Skipping - Token count 9575 >= 2500\n",
      "Skipping - Token count 9547 >= 2500\n",
      "Skipping - Token count 9575 >= 2500\n",
      "Skipping - Token count 9575 >= 2500\n"
     ]
    },
    {
     "name": "stderr",
     "output_type": "stream",
     "text": [
      " 22%|██▏       | 8595/39034 [27:09<32:48, 15.46it/s]"
     ]
    },
    {
     "name": "stdout",
     "output_type": "stream",
     "text": [
      "Skipping - Token count 9575 >= 2500\n",
      "Skipping - Token count 9547 >= 2500\n",
      "Skipping - Token count 9575 >= 2500\n",
      "Skipping - Token count 9575 >= 2500\n"
     ]
    },
    {
     "name": "stderr",
     "output_type": "stream",
     "text": [
      " 22%|██▏       | 8597/39034 [27:09<35:08, 14.44it/s]"
     ]
    },
    {
     "name": "stdout",
     "output_type": "stream",
     "text": [
      "Skipping - Token count 9575 >= 2500\n",
      "Skipping - Token count 9575 >= 2500\n",
      "Skipping - Token count 9575 >= 2500\n"
     ]
    },
    {
     "name": "stderr",
     "output_type": "stream",
     "text": [
      " 22%|██▏       | 8601/39034 [27:09<33:41, 15.06it/s]"
     ]
    },
    {
     "name": "stdout",
     "output_type": "stream",
     "text": [
      "Skipping - Token count 9575 >= 2500\n",
      "Skipping - Token count 9575 >= 2500\n",
      "Skipping - Token count 9575 >= 2500\n",
      "Skipping - Token count 9575 >= 2500\n"
     ]
    },
    {
     "name": "stderr",
     "output_type": "stream",
     "text": [
      " 22%|██▏       | 8605/39034 [27:09<34:44, 14.60it/s]"
     ]
    },
    {
     "name": "stdout",
     "output_type": "stream",
     "text": [
      "Skipping - Token count 9575 >= 2500\n",
      "Skipping - Token count 9575 >= 2500\n",
      "Skipping - Token count 9547 >= 2500\n",
      "Skipping - Token count 9575 >= 2500\n"
     ]
    },
    {
     "name": "stderr",
     "output_type": "stream",
     "text": [
      " 22%|██▏       | 8609/39034 [27:10<33:07, 15.31it/s]"
     ]
    },
    {
     "name": "stdout",
     "output_type": "stream",
     "text": [
      "Skipping - Token count 9575 >= 2500\n",
      "Skipping - Token count 9575 >= 2500\n",
      "Skipping - Token count 9575 >= 2500\n",
      "Skipping - Token count 9547 >= 2500\n"
     ]
    },
    {
     "name": "stderr",
     "output_type": "stream",
     "text": [
      " 22%|██▏       | 8613/39034 [27:10<32:52, 15.42it/s]"
     ]
    },
    {
     "name": "stdout",
     "output_type": "stream",
     "text": [
      "Skipping - Token count 9575 >= 2500\n",
      "Skipping - Token count 9575 >= 2500\n",
      "Skipping - Token count 9575 >= 2500\n",
      "Skipping - Token count 9575 >= 2500\n"
     ]
    },
    {
     "name": "stderr",
     "output_type": "stream",
     "text": [
      " 22%|██▏       | 8617/39034 [27:10<33:24, 15.18it/s]"
     ]
    },
    {
     "name": "stdout",
     "output_type": "stream",
     "text": [
      "Skipping - Token count 9547 >= 2500\n",
      "Skipping - Token count 9575 >= 2500\n",
      "Skipping - Token count 9547 >= 2500\n",
      "Skipping - Token count 9547 >= 2500\n"
     ]
    },
    {
     "name": "stderr",
     "output_type": "stream",
     "text": [
      " 22%|██▏       | 8621/39034 [27:10<32:04, 15.80it/s]"
     ]
    },
    {
     "name": "stdout",
     "output_type": "stream",
     "text": [
      "Skipping - Token count 9575 >= 2500\n",
      "Skipping - Token count 9547 >= 2500\n",
      "Skipping - Token count 9575 >= 2500\n",
      "Skipping - Token count 9575 >= 2500\n"
     ]
    },
    {
     "name": "stderr",
     "output_type": "stream",
     "text": [
      " 22%|██▏       | 8625/39034 [27:11<32:02, 15.81it/s]"
     ]
    },
    {
     "name": "stdout",
     "output_type": "stream",
     "text": [
      "Skipping - Token count 9575 >= 2500\n",
      "Skipping - Token count 9575 >= 2500\n",
      "Skipping - Token count 9575 >= 2500\n",
      "Skipping - Token count 9575 >= 2500\n"
     ]
    },
    {
     "name": "stderr",
     "output_type": "stream",
     "text": [
      " 22%|██▏       | 8629/39034 [27:11<35:48, 14.15it/s]"
     ]
    },
    {
     "name": "stdout",
     "output_type": "stream",
     "text": [
      "Skipping - Token count 9575 >= 2500\n",
      "Skipping - Token count 9575 >= 2500\n",
      "Skipping - Token count 9547 >= 2500\n"
     ]
    },
    {
     "name": "stderr",
     "output_type": "stream",
     "text": [
      " 22%|██▏       | 8631/39034 [27:11<36:44, 13.79it/s]"
     ]
    },
    {
     "name": "stdout",
     "output_type": "stream",
     "text": [
      "Skipping - Token count 9575 >= 2500\n",
      "Skipping - Token count 9575 >= 2500\n",
      "Skipping - Token count 9547 >= 2500\n",
      "Skipping - Token count 9575 >= 2500\n"
     ]
    },
    {
     "name": "stderr",
     "output_type": "stream",
     "text": [
      " 22%|██▏       | 8635/39034 [27:11<35:19, 14.34it/s]"
     ]
    },
    {
     "name": "stdout",
     "output_type": "stream",
     "text": [
      "Skipping - Token count 9575 >= 2500\n",
      "Skipping - Token count 9547 >= 2500\n",
      "Skipping - Token count 9547 >= 2500\n"
     ]
    },
    {
     "name": "stderr",
     "output_type": "stream",
     "text": [
      " 22%|██▏       | 8639/39034 [27:12<35:07, 14.42it/s]"
     ]
    },
    {
     "name": "stdout",
     "output_type": "stream",
     "text": [
      "Skipping - Token count 9547 >= 2500\n",
      "Skipping - Token count 9575 >= 2500\n",
      "Skipping - Token count 9547 >= 2500\n",
      "Skipping - Token count 9575 >= 2500\n"
     ]
    },
    {
     "name": "stderr",
     "output_type": "stream",
     "text": [
      " 22%|██▏       | 8643/39034 [27:12<34:34, 14.65it/s]"
     ]
    },
    {
     "name": "stdout",
     "output_type": "stream",
     "text": [
      "Skipping - Token count 9575 >= 2500\n",
      "Skipping - Token count 9575 >= 2500\n",
      "Skipping - Token count 9575 >= 2500\n"
     ]
    },
    {
     "name": "stderr",
     "output_type": "stream",
     "text": [
      " 22%|██▏       | 8645/39034 [27:12<34:14, 14.79it/s]"
     ]
    },
    {
     "name": "stdout",
     "output_type": "stream",
     "text": [
      "Skipping - Token count 9575 >= 2500\n",
      "Skipping - Token count 9575 >= 2500\n",
      "Skipping - Token count 9547 >= 2500\n",
      "Skipping - Token count 9575 >= 2500\n"
     ]
    },
    {
     "name": "stderr",
     "output_type": "stream",
     "text": [
      " 22%|██▏       | 8650/39034 [27:12<31:32, 16.06it/s]"
     ]
    },
    {
     "name": "stdout",
     "output_type": "stream",
     "text": [
      "Skipping - Token count 9575 >= 2500\n",
      "\n",
      "Processed 8640/39034 files\n",
      "Valid results: 40\n",
      "Unique function/input pairs: 40\n",
      "Skipping - Token count 9547 >= 2500\n",
      "Skipping - Token count 9547 >= 2500\n"
     ]
    },
    {
     "name": "stderr",
     "output_type": "stream",
     "text": [
      " 22%|██▏       | 8654/39034 [27:13<32:21, 15.65it/s]"
     ]
    },
    {
     "name": "stdout",
     "output_type": "stream",
     "text": [
      "Skipping - Token count 9575 >= 2500\n",
      "Skipping - Token count 9575 >= 2500\n",
      "Skipping - Token count 9575 >= 2500\n",
      "Skipping - Token count 9575 >= 2500\n"
     ]
    },
    {
     "name": "stderr",
     "output_type": "stream",
     "text": [
      " 22%|██▏       | 8658/39034 [27:13<31:17, 16.18it/s]"
     ]
    },
    {
     "name": "stdout",
     "output_type": "stream",
     "text": [
      "Skipping - Token count 9547 >= 2500\n",
      "Skipping - Token count 9575 >= 2500\n",
      "Skipping - Token count 9575 >= 2500\n",
      "Skipping - Token count 9575 >= 2500\n"
     ]
    },
    {
     "name": "stderr",
     "output_type": "stream",
     "text": [
      " 22%|██▏       | 8662/39034 [27:13<34:04, 14.85it/s]"
     ]
    },
    {
     "name": "stdout",
     "output_type": "stream",
     "text": [
      "Skipping - Token count 9575 >= 2500\n",
      "Skipping - Token count 9575 >= 2500\n",
      "Skipping - Token count 9575 >= 2500\n",
      "Skipping - Token count 9575 >= 2500\n"
     ]
    },
    {
     "name": "stderr",
     "output_type": "stream",
     "text": [
      " 22%|██▏       | 8666/39034 [27:13<33:56, 14.91it/s]"
     ]
    },
    {
     "name": "stdout",
     "output_type": "stream",
     "text": [
      "Skipping - Token count 9575 >= 2500\n",
      "Skipping - Token count 9575 >= 2500\n",
      "Skipping - Token count 9575 >= 2500\n",
      "Skipping - Token count 9575 >= 2500\n"
     ]
    },
    {
     "name": "stderr",
     "output_type": "stream",
     "text": [
      " 22%|██▏       | 8670/39034 [27:14<34:05, 14.84it/s]"
     ]
    },
    {
     "name": "stdout",
     "output_type": "stream",
     "text": [
      "Skipping - Token count 9575 >= 2500\n",
      "Skipping - Token count 9575 >= 2500\n",
      "Skipping - Token count 9575 >= 2500\n",
      "Skipping - Token count 9547 >= 2500\n"
     ]
    },
    {
     "name": "stderr",
     "output_type": "stream",
     "text": [
      " 22%|██▏       | 8674/39034 [27:14<35:19, 14.33it/s]"
     ]
    },
    {
     "name": "stdout",
     "output_type": "stream",
     "text": [
      "Skipping - Token count 9575 >= 2500\n",
      "Skipping - Token count 9575 >= 2500\n",
      "Skipping - Token count 9547 >= 2500\n",
      "Skipping - Token count 9575 >= 2500\n"
     ]
    },
    {
     "name": "stderr",
     "output_type": "stream",
     "text": [
      " 22%|██▏       | 8678/39034 [27:14<36:12, 13.98it/s]"
     ]
    },
    {
     "name": "stdout",
     "output_type": "stream",
     "text": [
      "Skipping - Token count 9575 >= 2500\n",
      "Skipping - Token count 9547 >= 2500\n",
      "Skipping - Token count 9547 >= 2500\n",
      "Skipping - Token count 9575 >= 2500\n"
     ]
    },
    {
     "name": "stderr",
     "output_type": "stream",
     "text": [
      " 22%|██▏       | 8680/39034 [27:14<37:29, 13.50it/s]"
     ]
    },
    {
     "name": "stdout",
     "output_type": "stream",
     "text": [
      "Skipping - Token count 9547 >= 2500\n",
      "Skipping - Token count 9575 >= 2500\n",
      "Skipping - Token count 9575 >= 2500\n",
      "Skipping - Token count 9575 >= 2500\n"
     ]
    },
    {
     "name": "stderr",
     "output_type": "stream",
     "text": [
      " 22%|██▏       | 8685/39034 [27:15<33:40, 15.02it/s]"
     ]
    },
    {
     "name": "stdout",
     "output_type": "stream",
     "text": [
      "Skipping - Token count 9575 >= 2500\n",
      "Skipping - Token count 9575 >= 2500\n",
      "Skipping - Token count 9547 >= 2500\n",
      "Skipping - Token count 9575 >= 2500\n"
     ]
    },
    {
     "name": "stderr",
     "output_type": "stream",
     "text": [
      " 22%|██▏       | 8689/39034 [27:15<33:07, 15.27it/s]"
     ]
    },
    {
     "name": "stdout",
     "output_type": "stream",
     "text": [
      "Skipping - Token count 9575 >= 2500\n",
      "Skipping - Token count 9575 >= 2500\n",
      "Skipping - Token count 9575 >= 2500\n",
      "Skipping - Token count 9575 >= 2500\n"
     ]
    },
    {
     "name": "stderr",
     "output_type": "stream",
     "text": [
      " 22%|██▏       | 8693/39034 [27:15<33:00, 15.32it/s]"
     ]
    },
    {
     "name": "stdout",
     "output_type": "stream",
     "text": [
      "Skipping - Token count 9547 >= 2500\n",
      "Skipping - Token count 9575 >= 2500\n",
      "Skipping - Token count 9575 >= 2500\n",
      "Skipping - Token count 9575 >= 2500\n"
     ]
    },
    {
     "name": "stderr",
     "output_type": "stream",
     "text": [
      " 22%|██▏       | 8697/39034 [27:16<33:21, 15.16it/s]"
     ]
    },
    {
     "name": "stdout",
     "output_type": "stream",
     "text": [
      "Skipping - Token count 9575 >= 2500\n",
      "Skipping - Token count 9575 >= 2500\n",
      "Skipping - Token count 9575 >= 2500\n",
      "Skipping - Token count 9575 >= 2500\n"
     ]
    },
    {
     "name": "stderr",
     "output_type": "stream",
     "text": [
      " 22%|██▏       | 8702/39034 [27:16<31:34, 16.01it/s]"
     ]
    },
    {
     "name": "stdout",
     "output_type": "stream",
     "text": [
      "Skipping - Token count 9575 >= 2500\n",
      "Skipping - Token count 9575 >= 2500\n",
      "Skipping - Token count 9575 >= 2500\n",
      "Skipping - Token count 9575 >= 2500\n"
     ]
    },
    {
     "name": "stderr",
     "output_type": "stream",
     "text": [
      " 22%|██▏       | 8704/39034 [27:16<34:16, 14.75it/s]"
     ]
    },
    {
     "name": "stdout",
     "output_type": "stream",
     "text": [
      "Skipping - Token count 9547 >= 2500\n",
      "Skipping - Token count 9547 >= 2500\n",
      "Skipping - Token count 9575 >= 2500\n"
     ]
    },
    {
     "name": "stderr",
     "output_type": "stream",
     "text": [
      " 22%|██▏       | 8708/39034 [27:16<34:01, 14.85it/s]"
     ]
    },
    {
     "name": "stdout",
     "output_type": "stream",
     "text": [
      "Skipping - Token count 9575 >= 2500\n",
      "Skipping - Token count 9547 >= 2500\n",
      "Skipping - Token count 9575 >= 2500\n"
     ]
    },
    {
     "name": "stderr",
     "output_type": "stream",
     "text": [
      " 22%|██▏       | 8710/39034 [27:16<32:07, 15.73it/s]"
     ]
    },
    {
     "name": "stdout",
     "output_type": "stream",
     "text": [
      "Skipping - Token count 9575 >= 2500\n",
      "Skipping - Token count 9547 >= 2500\n",
      "Skipping - Token count 9547 >= 2500\n"
     ]
    },
    {
     "name": "stderr",
     "output_type": "stream",
     "text": [
      " 22%|██▏       | 8714/39034 [27:17<33:04, 15.28it/s]"
     ]
    },
    {
     "name": "stdout",
     "output_type": "stream",
     "text": [
      "Skipping - Token count 9575 >= 2500\n",
      "Skipping - Token count 9575 >= 2500\n",
      "Skipping - Token count 9575 >= 2500\n",
      "Skipping - Token count 9575 >= 2500\n"
     ]
    },
    {
     "name": "stderr",
     "output_type": "stream",
     "text": [
      " 22%|██▏       | 8718/39034 [27:17<32:55, 15.34it/s]"
     ]
    },
    {
     "name": "stdout",
     "output_type": "stream",
     "text": [
      "Skipping - Token count 9575 >= 2500\n",
      "Skipping - Token count 9575 >= 2500\n",
      "Skipping - Token count 9575 >= 2500\n",
      "Skipping - Token count 9575 >= 2500\n"
     ]
    },
    {
     "name": "stderr",
     "output_type": "stream",
     "text": [
      " 22%|██▏       | 8722/39034 [27:17<34:26, 14.67it/s]"
     ]
    },
    {
     "name": "stdout",
     "output_type": "stream",
     "text": [
      "Skipping - Token count 9575 >= 2500\n",
      "Skipping - Token count 9575 >= 2500\n",
      "Skipping - Token count 9575 >= 2500\n",
      "Skipping - Token count 9575 >= 2500\n"
     ]
    },
    {
     "name": "stderr",
     "output_type": "stream",
     "text": [
      " 22%|██▏       | 8726/39034 [27:18<33:15, 15.19it/s]"
     ]
    },
    {
     "name": "stdout",
     "output_type": "stream",
     "text": [
      "Skipping - Token count 9575 >= 2500\n",
      "Skipping - Token count 9575 >= 2500\n",
      "Skipping - Token count 9575 >= 2500\n",
      "Skipping - Token count 9575 >= 2500\n"
     ]
    },
    {
     "name": "stderr",
     "output_type": "stream",
     "text": [
      " 22%|██▏       | 8730/39034 [27:18<33:53, 14.91it/s]"
     ]
    },
    {
     "name": "stdout",
     "output_type": "stream",
     "text": [
      "Skipping - Token count 9547 >= 2500\n",
      "\n",
      "Processed 8720/39034 files\n",
      "Valid results: 40\n",
      "Unique function/input pairs: 40\n",
      "Skipping - Token count 9575 >= 2500\n",
      "Skipping - Token count 9575 >= 2500\n",
      "Skipping - Token count 9575 >= 2500\n"
     ]
    },
    {
     "name": "stderr",
     "output_type": "stream",
     "text": [
      " 22%|██▏       | 8734/39034 [27:18<33:05, 15.26it/s]"
     ]
    },
    {
     "name": "stdout",
     "output_type": "stream",
     "text": [
      "Skipping - Token count 9575 >= 2500\n",
      "Skipping - Token count 9575 >= 2500\n",
      "Skipping - Token count 9547 >= 2500\n",
      "Skipping - Token count 9575 >= 2500\n"
     ]
    },
    {
     "name": "stderr",
     "output_type": "stream",
     "text": [
      " 22%|██▏       | 8738/39034 [27:18<32:15, 15.65it/s]"
     ]
    },
    {
     "name": "stdout",
     "output_type": "stream",
     "text": [
      "Skipping - Token count 9575 >= 2500\n",
      "Skipping - Token count 9575 >= 2500\n",
      "Skipping - Token count 9575 >= 2500\n",
      "Skipping - Token count 9575 >= 2500\n"
     ]
    },
    {
     "name": "stderr",
     "output_type": "stream",
     "text": [
      " 22%|██▏       | 8742/39034 [27:19<32:03, 15.75it/s]"
     ]
    },
    {
     "name": "stdout",
     "output_type": "stream",
     "text": [
      "Skipping - Token count 9575 >= 2500\n",
      "Skipping - Token count 9575 >= 2500\n",
      "Skipping - Token count 9575 >= 2500\n",
      "Skipping - Token count 9575 >= 2500\n"
     ]
    },
    {
     "name": "stderr",
     "output_type": "stream",
     "text": [
      " 22%|██▏       | 8746/39034 [27:19<34:05, 14.81it/s]"
     ]
    },
    {
     "name": "stdout",
     "output_type": "stream",
     "text": [
      "Skipping - Token count 9575 >= 2500\n",
      "Skipping - Token count 9575 >= 2500\n",
      "Skipping - Token count 9575 >= 2500\n",
      "Skipping - Token count 9575 >= 2500\n"
     ]
    },
    {
     "name": "stderr",
     "output_type": "stream",
     "text": [
      " 22%|██▏       | 8750/39034 [27:19<33:47, 14.94it/s]"
     ]
    },
    {
     "name": "stdout",
     "output_type": "stream",
     "text": [
      "Skipping - Token count 9547 >= 2500\n",
      "Skipping - Token count 9575 >= 2500\n",
      "Skipping - Token count 9575 >= 2500\n",
      "Skipping - Token count 9575 >= 2500\n"
     ]
    },
    {
     "name": "stderr",
     "output_type": "stream",
     "text": [
      " 22%|██▏       | 8754/39034 [27:19<35:19, 14.28it/s]"
     ]
    },
    {
     "name": "stdout",
     "output_type": "stream",
     "text": [
      "Skipping - Token count 9547 >= 2500\n",
      "Skipping - Token count 9575 >= 2500\n",
      "Skipping - Token count 9547 >= 2500\n",
      "Skipping - Token count 9575 >= 2500\n"
     ]
    },
    {
     "name": "stderr",
     "output_type": "stream",
     "text": [
      " 22%|██▏       | 8758/39034 [27:20<32:53, 15.34it/s]"
     ]
    },
    {
     "name": "stdout",
     "output_type": "stream",
     "text": [
      "Skipping - Token count 9575 >= 2500\n",
      "Skipping - Token count 9547 >= 2500\n",
      "Skipping - Token count 9575 >= 2500\n",
      "Skipping - Token count 9547 >= 2500\n"
     ]
    },
    {
     "name": "stderr",
     "output_type": "stream",
     "text": [
      " 22%|██▏       | 8762/39034 [27:20<32:48, 15.38it/s]"
     ]
    },
    {
     "name": "stdout",
     "output_type": "stream",
     "text": [
      "Skipping - Token count 9575 >= 2500\n",
      "Skipping - Token count 9547 >= 2500\n",
      "Skipping - Token count 9575 >= 2500\n",
      "Skipping - Token count 9547 >= 2500\n"
     ]
    },
    {
     "name": "stderr",
     "output_type": "stream",
     "text": [
      " 22%|██▏       | 8766/39034 [27:20<33:22, 15.12it/s]"
     ]
    },
    {
     "name": "stdout",
     "output_type": "stream",
     "text": [
      "Skipping - Token count 9575 >= 2500\n",
      "Skipping - Token count 9547 >= 2500\n",
      "Skipping - Token count 9547 >= 2500\n",
      "Skipping - Token count 9575 >= 2500\n"
     ]
    },
    {
     "name": "stderr",
     "output_type": "stream",
     "text": [
      " 22%|██▏       | 8770/39034 [27:21<34:15, 14.72it/s]"
     ]
    },
    {
     "name": "stdout",
     "output_type": "stream",
     "text": [
      "Skipping - Token count 9575 >= 2500\n",
      "Skipping - Token count 9575 >= 2500\n",
      "Skipping - Token count 9575 >= 2500\n",
      "Skipping - Token count 9575 >= 2500\n"
     ]
    },
    {
     "name": "stderr",
     "output_type": "stream",
     "text": [
      " 22%|██▏       | 8774/39034 [27:21<34:32, 14.60it/s]"
     ]
    },
    {
     "name": "stdout",
     "output_type": "stream",
     "text": [
      "Skipping - Token count 9575 >= 2500\n",
      "Skipping - Token count 9575 >= 2500\n",
      "Skipping - Token count 9575 >= 2500\n",
      "Skipping - Token count 9575 >= 2500\n"
     ]
    },
    {
     "name": "stderr",
     "output_type": "stream",
     "text": [
      " 22%|██▏       | 8778/39034 [27:21<33:17, 15.14it/s]"
     ]
    },
    {
     "name": "stdout",
     "output_type": "stream",
     "text": [
      "Skipping - Token count 9575 >= 2500\n",
      "Skipping - Token count 9575 >= 2500\n",
      "Skipping - Token count 9575 >= 2500\n",
      "Skipping - Token count 9575 >= 2500\n"
     ]
    },
    {
     "name": "stderr",
     "output_type": "stream",
     "text": [
      " 22%|██▏       | 8782/39034 [27:21<35:15, 14.30it/s]"
     ]
    },
    {
     "name": "stdout",
     "output_type": "stream",
     "text": [
      "Skipping - Token count 9575 >= 2500\n",
      "Skipping - Token count 9547 >= 2500\n",
      "Skipping - Token count 9547 >= 2500\n",
      "Skipping - Token count 9572 >= 2500\n"
     ]
    },
    {
     "name": "stderr",
     "output_type": "stream",
     "text": [
      " 23%|██▎       | 8786/39034 [27:22<33:41, 14.97it/s]"
     ]
    },
    {
     "name": "stdout",
     "output_type": "stream",
     "text": [
      "Skipping - Token count 9575 >= 2500\n",
      "Skipping - Token count 9575 >= 2500\n",
      "Skipping - Token count 9575 >= 2500\n",
      "Skipping - Token count 9575 >= 2500\n"
     ]
    },
    {
     "name": "stderr",
     "output_type": "stream",
     "text": [
      " 23%|██▎       | 8790/39034 [27:22<33:55, 14.86it/s]"
     ]
    },
    {
     "name": "stdout",
     "output_type": "stream",
     "text": [
      "Skipping - Token count 9575 >= 2500\n",
      "Skipping - Token count 9575 >= 2500\n",
      "Skipping - Token count 9575 >= 2500\n"
     ]
    },
    {
     "name": "stderr",
     "output_type": "stream",
     "text": [
      " 23%|██▎       | 8792/39034 [27:22<36:27, 13.82it/s]"
     ]
    },
    {
     "name": "stdout",
     "output_type": "stream",
     "text": [
      "Skipping - Token count 9575 >= 2500\n",
      "Skipping - Token count 9575 >= 2500\n",
      "Skipping - Token count 9575 >= 2500\n"
     ]
    },
    {
     "name": "stderr",
     "output_type": "stream",
     "text": [
      " 23%|██▎       | 8796/39034 [27:22<33:00, 15.27it/s]"
     ]
    },
    {
     "name": "stdout",
     "output_type": "stream",
     "text": [
      "Skipping - Token count 9575 >= 2500\n",
      "Skipping - Token count 9575 >= 2500\n",
      "Skipping - Token count 9547 >= 2500\n"
     ]
    },
    {
     "name": "stderr",
     "output_type": "stream",
     "text": [
      " 23%|██▎       | 8800/39034 [27:23<32:40, 15.42it/s]"
     ]
    },
    {
     "name": "stdout",
     "output_type": "stream",
     "text": [
      "Skipping - Token count 9547 >= 2500\n",
      "Skipping - Token count 9547 >= 2500\n",
      "Skipping - Token count 9547 >= 2500\n",
      "Skipping - Token count 9575 >= 2500\n"
     ]
    },
    {
     "name": "stderr",
     "output_type": "stream",
     "text": [
      " 23%|██▎       | 8804/39034 [27:23<32:33, 15.48it/s]"
     ]
    },
    {
     "name": "stdout",
     "output_type": "stream",
     "text": [
      "Skipping - Token count 9547 >= 2500\n",
      "Skipping - Token count 9575 >= 2500\n",
      "Skipping - Token count 9575 >= 2500\n",
      "Skipping - Token count 9575 >= 2500\n"
     ]
    },
    {
     "name": "stderr",
     "output_type": "stream",
     "text": [
      " 23%|██▎       | 8808/39034 [27:23<33:07, 15.20it/s]"
     ]
    },
    {
     "name": "stdout",
     "output_type": "stream",
     "text": [
      "Skipping - Token count 9575 >= 2500\n",
      "Skipping - Token count 9575 >= 2500\n",
      "Skipping - Token count 9575 >= 2500\n",
      "Skipping - Token count 9547 >= 2500\n",
      "\n",
      "Processed 8800/39034 files\n",
      "Valid results: 40\n",
      "Unique function/input pairs: 40\n"
     ]
    },
    {
     "name": "stderr",
     "output_type": "stream",
     "text": [
      " 23%|██▎       | 8812/39034 [27:23<33:43, 14.94it/s]"
     ]
    },
    {
     "name": "stdout",
     "output_type": "stream",
     "text": [
      "Skipping - Token count 9575 >= 2500\n",
      "Skipping - Token count 9547 >= 2500\n",
      "Skipping - Token count 9575 >= 2500\n",
      "Skipping - Token count 9575 >= 2500\n"
     ]
    },
    {
     "name": "stderr",
     "output_type": "stream",
     "text": [
      " 23%|██▎       | 8816/39034 [27:24<33:38, 14.97it/s]"
     ]
    },
    {
     "name": "stdout",
     "output_type": "stream",
     "text": [
      "Skipping - Token count 9547 >= 2500\n",
      "Skipping - Token count 9575 >= 2500\n",
      "Skipping - Token count 9547 >= 2500\n",
      "Skipping - Token count 9575 >= 2500\n"
     ]
    },
    {
     "name": "stderr",
     "output_type": "stream",
     "text": [
      " 23%|██▎       | 8818/39034 [27:24<35:08, 14.33it/s]"
     ]
    },
    {
     "name": "stdout",
     "output_type": "stream",
     "text": [
      "Skipping - Token count 9575 >= 2500\n",
      "Skipping - Token count 9575 >= 2500\n",
      "Skipping - Token count 9575 >= 2500\n",
      "Skipping - Token count 9575 >= 2500\n"
     ]
    },
    {
     "name": "stderr",
     "output_type": "stream",
     "text": [
      " 23%|██▎       | 8823/39034 [27:24<34:32, 14.58it/s]"
     ]
    },
    {
     "name": "stdout",
     "output_type": "stream",
     "text": [
      "Skipping - Token count 9575 >= 2500\n",
      "Skipping - Token count 9575 >= 2500\n",
      "Skipping - Token count 9575 >= 2500\n"
     ]
    },
    {
     "name": "stderr",
     "output_type": "stream",
     "text": [
      " 23%|██▎       | 8825/39034 [27:24<33:58, 14.82it/s]"
     ]
    },
    {
     "name": "stdout",
     "output_type": "stream",
     "text": [
      "Skipping - Token count 9575 >= 2500\n",
      "Skipping - Token count 9575 >= 2500\n",
      "Skipping - Token count 9575 >= 2500\n"
     ]
    },
    {
     "name": "stderr",
     "output_type": "stream",
     "text": [
      " 23%|██▎       | 8829/39034 [27:25<33:06, 15.20it/s]"
     ]
    },
    {
     "name": "stdout",
     "output_type": "stream",
     "text": [
      "Skipping - Token count 9575 >= 2500\n",
      "Skipping - Token count 9575 >= 2500\n",
      "Skipping - Token count 9547 >= 2500\n"
     ]
    },
    {
     "name": "stderr",
     "output_type": "stream",
     "text": [
      " 23%|██▎       | 8833/39034 [27:25<32:11, 15.63it/s]"
     ]
    },
    {
     "name": "stdout",
     "output_type": "stream",
     "text": [
      "Skipping - Token count 9547 >= 2500\n",
      "Skipping - Token count 9575 >= 2500\n",
      "Skipping - Token count 9575 >= 2500\n",
      "Skipping - Token count 9575 >= 2500\n"
     ]
    },
    {
     "name": "stderr",
     "output_type": "stream",
     "text": [
      " 23%|██▎       | 8837/39034 [27:25<32:04, 15.69it/s]"
     ]
    },
    {
     "name": "stdout",
     "output_type": "stream",
     "text": [
      "Skipping - Token count 9575 >= 2500\n",
      "Skipping - Token count 9547 >= 2500\n",
      "Skipping - Token count 9575 >= 2500\n",
      "Skipping - Token count 9575 >= 2500\n"
     ]
    },
    {
     "name": "stderr",
     "output_type": "stream",
     "text": [
      " 23%|██▎       | 8841/39034 [27:25<32:39, 15.41it/s]"
     ]
    },
    {
     "name": "stdout",
     "output_type": "stream",
     "text": [
      "Skipping - Token count 9575 >= 2500\n",
      "Skipping - Token count 9575 >= 2500\n",
      "Skipping - Token count 9575 >= 2500\n",
      "Skipping - Token count 9575 >= 2500\n"
     ]
    },
    {
     "name": "stderr",
     "output_type": "stream",
     "text": [
      " 23%|██▎       | 8845/39034 [27:26<32:01, 15.71it/s]"
     ]
    },
    {
     "name": "stdout",
     "output_type": "stream",
     "text": [
      "Skipping - Token count 9547 >= 2500\n",
      "Skipping - Token count 9547 >= 2500\n",
      "Skipping - Token count 9575 >= 2500\n",
      "Skipping - Token count 9575 >= 2500\n"
     ]
    },
    {
     "name": "stderr",
     "output_type": "stream",
     "text": [
      " 23%|██▎       | 8849/39034 [27:26<31:58, 15.73it/s]"
     ]
    },
    {
     "name": "stdout",
     "output_type": "stream",
     "text": [
      "Skipping - Token count 9575 >= 2500\n",
      "Skipping - Token count 9575 >= 2500\n",
      "Skipping - Token count 9575 >= 2500\n",
      "Skipping - Token count 9575 >= 2500\n"
     ]
    },
    {
     "name": "stderr",
     "output_type": "stream",
     "text": [
      " 23%|██▎       | 8851/39034 [27:26<33:57, 14.82it/s]"
     ]
    },
    {
     "name": "stdout",
     "output_type": "stream",
     "text": [
      "Skipping - Token count 9575 >= 2500\n",
      "Skipping - Token count 9547 >= 2500\n",
      "Skipping - Token count 9547 >= 2500\n",
      "Skipping - Token count 9575 >= 2500\n"
     ]
    },
    {
     "name": "stderr",
     "output_type": "stream",
     "text": [
      " 23%|██▎       | 8856/39034 [27:26<32:15, 15.59it/s]"
     ]
    },
    {
     "name": "stdout",
     "output_type": "stream",
     "text": [
      "Skipping - Token count 9547 >= 2500\n",
      "Skipping - Token count 9575 >= 2500\n",
      "Skipping - Token count 9575 >= 2500\n",
      "Skipping - Token count 9575 >= 2500\n",
      "Skipping - Token count 9575 >= 2500\n"
     ]
    },
    {
     "name": "stderr",
     "output_type": "stream",
     "text": [
      " 23%|██▎       | 8862/39034 [27:27<30:50, 16.31it/s]"
     ]
    },
    {
     "name": "stdout",
     "output_type": "stream",
     "text": [
      "Skipping - Token count 9547 >= 2500\n",
      "Skipping - Token count 9575 >= 2500\n",
      "Skipping - Token count 9575 >= 2500\n",
      "Skipping - Token count 9575 >= 2500\n"
     ]
    },
    {
     "name": "stderr",
     "output_type": "stream",
     "text": [
      " 23%|██▎       | 8866/39034 [27:27<30:49, 16.31it/s]"
     ]
    },
    {
     "name": "stdout",
     "output_type": "stream",
     "text": [
      "Skipping - Token count 9547 >= 2500\n",
      "Skipping - Token count 9575 >= 2500\n",
      "Skipping - Token count 9575 >= 2500\n",
      "Skipping - Token count 9547 >= 2500\n"
     ]
    },
    {
     "name": "stderr",
     "output_type": "stream",
     "text": [
      " 23%|██▎       | 8870/39034 [27:27<32:00, 15.70it/s]"
     ]
    },
    {
     "name": "stdout",
     "output_type": "stream",
     "text": [
      "Skipping - Token count 9575 >= 2500\n",
      "Skipping - Token count 9547 >= 2500\n",
      "Skipping - Token count 9575 >= 2500\n",
      "Skipping - Token count 9547 >= 2500\n"
     ]
    },
    {
     "name": "stderr",
     "output_type": "stream",
     "text": [
      " 23%|██▎       | 8874/39034 [27:27<31:07, 16.15it/s]"
     ]
    },
    {
     "name": "stdout",
     "output_type": "stream",
     "text": [
      "Skipping - Token count 9575 >= 2500\n",
      "Skipping - Token count 9575 >= 2500\n",
      "Skipping - Token count 9575 >= 2500\n",
      "Skipping - Token count 9547 >= 2500\n"
     ]
    },
    {
     "name": "stderr",
     "output_type": "stream",
     "text": [
      " 23%|██▎       | 8878/39034 [27:28<31:05, 16.17it/s]"
     ]
    },
    {
     "name": "stdout",
     "output_type": "stream",
     "text": [
      "Skipping - Token count 9575 >= 2500\n",
      "Skipping - Token count 9575 >= 2500\n",
      "Skipping - Token count 9575 >= 2500\n",
      "Skipping - Token count 9575 >= 2500\n"
     ]
    },
    {
     "name": "stderr",
     "output_type": "stream",
     "text": [
      " 23%|██▎       | 8882/39034 [27:28<31:19, 16.04it/s]"
     ]
    },
    {
     "name": "stdout",
     "output_type": "stream",
     "text": [
      "Skipping - Token count 9575 >= 2500\n",
      "Skipping - Token count 9575 >= 2500\n",
      "Skipping - Token count 9575 >= 2500\n",
      "Skipping - Token count 9547 >= 2500\n"
     ]
    },
    {
     "name": "stderr",
     "output_type": "stream",
     "text": [
      " 23%|██▎       | 8886/39034 [27:28<31:36, 15.90it/s]"
     ]
    },
    {
     "name": "stdout",
     "output_type": "stream",
     "text": [
      "Skipping - Token count 9575 >= 2500\n",
      "Skipping - Token count 9575 >= 2500\n",
      "Skipping - Token count 9575 >= 2500\n",
      "Skipping - Token count 9575 >= 2500\n"
     ]
    },
    {
     "name": "stderr",
     "output_type": "stream",
     "text": [
      " 23%|██▎       | 8890/39034 [27:29<30:52, 16.27it/s]"
     ]
    },
    {
     "name": "stdout",
     "output_type": "stream",
     "text": [
      "Skipping - Token count 9575 >= 2500\n",
      "Skipping - Token count 9575 >= 2500\n",
      "\n",
      "Processed 8880/39034 files\n",
      "Valid results: 40\n",
      "Unique function/input pairs: 40\n",
      "Skipping - Token count 9575 >= 2500\n",
      "Skipping - Token count 9575 >= 2500\n"
     ]
    },
    {
     "name": "stderr",
     "output_type": "stream",
     "text": [
      " 23%|██▎       | 8894/39034 [27:29<31:19, 16.03it/s]"
     ]
    },
    {
     "name": "stdout",
     "output_type": "stream",
     "text": [
      "Skipping - Token count 9572 >= 2500\n",
      "Skipping - Token count 9575 >= 2500\n",
      "Skipping - Token count 9547 >= 2500\n",
      "Skipping - Token count 9547 >= 2500\n"
     ]
    },
    {
     "name": "stderr",
     "output_type": "stream",
     "text": [
      " 23%|██▎       | 8898/39034 [27:29<31:55, 15.73it/s]"
     ]
    },
    {
     "name": "stdout",
     "output_type": "stream",
     "text": [
      "Skipping - Token count 9575 >= 2500\n",
      "Skipping - Token count 9575 >= 2500\n",
      "Skipping - Token count 9575 >= 2500\n",
      "Skipping - Token count 9575 >= 2500\n"
     ]
    },
    {
     "name": "stderr",
     "output_type": "stream",
     "text": [
      " 23%|██▎       | 8902/39034 [27:29<34:33, 14.53it/s]"
     ]
    },
    {
     "name": "stdout",
     "output_type": "stream",
     "text": [
      "Skipping - Token count 9575 >= 2500\n",
      "Skipping - Token count 9575 >= 2500\n",
      "Skipping - Token count 9547 >= 2500\n",
      "Skipping - Token count 9547 >= 2500\n"
     ]
    },
    {
     "name": "stderr",
     "output_type": "stream",
     "text": [
      " 23%|██▎       | 8906/39034 [27:30<34:40, 14.48it/s]"
     ]
    },
    {
     "name": "stdout",
     "output_type": "stream",
     "text": [
      "Skipping - Token count 9547 >= 2500\n",
      "Skipping - Token count 9575 >= 2500\n",
      "Skipping - Token count 9575 >= 2500\n",
      "Skipping - Token count 9575 >= 2500\n"
     ]
    },
    {
     "name": "stderr",
     "output_type": "stream",
     "text": [
      " 23%|██▎       | 8910/39034 [27:30<34:23, 14.60it/s]"
     ]
    },
    {
     "name": "stdout",
     "output_type": "stream",
     "text": [
      "Skipping - Token count 9547 >= 2500\n",
      "Skipping - Token count 9575 >= 2500\n",
      "Skipping - Token count 9575 >= 2500\n",
      "Skipping - Token count 9575 >= 2500\n"
     ]
    },
    {
     "name": "stderr",
     "output_type": "stream",
     "text": [
      " 23%|██▎       | 8914/39034 [27:30<32:41, 15.36it/s]"
     ]
    },
    {
     "name": "stdout",
     "output_type": "stream",
     "text": [
      "Skipping - Token count 9547 >= 2500\n",
      "Skipping - Token count 9575 >= 2500\n",
      "Skipping - Token count 9575 >= 2500\n",
      "Skipping - Token count 9547 >= 2500\n"
     ]
    },
    {
     "name": "stderr",
     "output_type": "stream",
     "text": [
      " 23%|██▎       | 8916/39034 [27:30<35:00, 14.34it/s]"
     ]
    },
    {
     "name": "stdout",
     "output_type": "stream",
     "text": [
      "Skipping - Token count 9547 >= 2500\n",
      "Skipping - Token count 9575 >= 2500\n",
      "Skipping - Token count 9575 >= 2500\n",
      "Skipping - Token count 9575 >= 2500\n"
     ]
    },
    {
     "name": "stderr",
     "output_type": "stream",
     "text": [
      " 23%|██▎       | 8921/39034 [27:31<32:02, 15.67it/s]"
     ]
    },
    {
     "name": "stdout",
     "output_type": "stream",
     "text": [
      "Skipping - Token count 9572 >= 2500\n",
      "Skipping - Token count 9547 >= 2500\n",
      "Skipping - Token count 9575 >= 2500\n",
      "Skipping - Token count 9547 >= 2500\n"
     ]
    },
    {
     "name": "stderr",
     "output_type": "stream",
     "text": [
      " 23%|██▎       | 8925/39034 [27:31<31:56, 15.71it/s]"
     ]
    },
    {
     "name": "stdout",
     "output_type": "stream",
     "text": [
      "Skipping - Token count 9547 >= 2500\n",
      "Skipping - Token count 9575 >= 2500\n",
      "Skipping - Token count 9575 >= 2500\n",
      "Skipping - Token count 9575 >= 2500\n"
     ]
    },
    {
     "name": "stderr",
     "output_type": "stream",
     "text": [
      " 23%|██▎       | 8929/39034 [27:31<31:30, 15.92it/s]"
     ]
    },
    {
     "name": "stdout",
     "output_type": "stream",
     "text": [
      "Skipping - Token count 9575 >= 2500\n",
      "Skipping - Token count 9575 >= 2500\n",
      "Skipping - Token count 9575 >= 2500\n",
      "Skipping - Token count 9575 >= 2500\n"
     ]
    },
    {
     "name": "stderr",
     "output_type": "stream",
     "text": [
      " 23%|██▎       | 8933/39034 [27:31<32:47, 15.30it/s]"
     ]
    },
    {
     "name": "stdout",
     "output_type": "stream",
     "text": [
      "Skipping - Token count 9575 >= 2500\n",
      "Skipping - Token count 9575 >= 2500\n",
      "Skipping - Token count 9575 >= 2500\n",
      "Skipping - Token count 9575 >= 2500\n"
     ]
    },
    {
     "name": "stderr",
     "output_type": "stream",
     "text": [
      " 23%|██▎       | 8937/39034 [27:32<33:41, 14.89it/s]"
     ]
    },
    {
     "name": "stdout",
     "output_type": "stream",
     "text": [
      "Skipping - Token count 9575 >= 2500\n",
      "Skipping - Token count 9575 >= 2500\n",
      "Skipping - Token count 9547 >= 2500\n",
      "Skipping - Token count 9575 >= 2500\n"
     ]
    },
    {
     "name": "stderr",
     "output_type": "stream",
     "text": [
      " 23%|██▎       | 8942/39034 [27:32<31:08, 16.10it/s]"
     ]
    },
    {
     "name": "stdout",
     "output_type": "stream",
     "text": [
      "Skipping - Token count 9575 >= 2500\n",
      "Skipping - Token count 9575 >= 2500\n",
      "Skipping - Token count 9575 >= 2500\n",
      "Skipping - Token count 9575 >= 2500\n"
     ]
    },
    {
     "name": "stderr",
     "output_type": "stream",
     "text": [
      " 23%|██▎       | 8946/39034 [27:32<32:26, 15.45it/s]"
     ]
    },
    {
     "name": "stdout",
     "output_type": "stream",
     "text": [
      "Skipping - Token count 9547 >= 2500\n",
      "Skipping - Token count 9575 >= 2500\n",
      "Skipping - Token count 9547 >= 2500\n",
      "Skipping - Token count 9575 >= 2500\n"
     ]
    },
    {
     "name": "stderr",
     "output_type": "stream",
     "text": [
      " 23%|██▎       | 8950/39034 [27:33<32:19, 15.51it/s]"
     ]
    },
    {
     "name": "stdout",
     "output_type": "stream",
     "text": [
      "Skipping - Token count 9575 >= 2500\n",
      "Skipping - Token count 9575 >= 2500\n",
      "Skipping - Token count 9575 >= 2500\n",
      "Skipping - Token count 9575 >= 2500\n"
     ]
    },
    {
     "name": "stderr",
     "output_type": "stream",
     "text": [
      " 23%|██▎       | 8954/39034 [27:33<32:05, 15.62it/s]"
     ]
    },
    {
     "name": "stdout",
     "output_type": "stream",
     "text": [
      "Skipping - Token count 9547 >= 2500\n",
      "Skipping - Token count 9547 >= 2500\n",
      "Skipping - Token count 9575 >= 2500\n",
      "Skipping - Token count 9547 >= 2500\n"
     ]
    },
    {
     "name": "stderr",
     "output_type": "stream",
     "text": [
      " 23%|██▎       | 8956/39034 [27:33<35:58, 13.93it/s]"
     ]
    },
    {
     "name": "stdout",
     "output_type": "stream",
     "text": [
      "Skipping - Token count 9575 >= 2500\n",
      "Skipping - Token count 9547 >= 2500\n",
      "Skipping - Token count 9575 >= 2500\n",
      "Skipping - Token count 9575 >= 2500\n"
     ]
    },
    {
     "name": "stderr",
     "output_type": "stream",
     "text": [
      " 23%|██▎       | 8962/39034 [27:33<34:19, 14.60it/s]"
     ]
    },
    {
     "name": "stdout",
     "output_type": "stream",
     "text": [
      "Skipping - Token count 9547 >= 2500\n",
      "Skipping - Token count 9575 >= 2500\n",
      "Skipping - Token count 9547 >= 2500\n",
      "Skipping - Token count 9575 >= 2500\n"
     ]
    },
    {
     "name": "stderr",
     "output_type": "stream",
     "text": [
      " 23%|██▎       | 8966/39034 [27:34<33:07, 15.13it/s]"
     ]
    },
    {
     "name": "stdout",
     "output_type": "stream",
     "text": [
      "Skipping - Token count 9575 >= 2500\n",
      "Skipping - Token count 9575 >= 2500\n",
      "Skipping - Token count 9575 >= 2500\n",
      "Skipping - Token count 9547 >= 2500\n"
     ]
    },
    {
     "name": "stderr",
     "output_type": "stream",
     "text": [
      " 23%|██▎       | 8970/39034 [27:34<34:12, 14.65it/s]"
     ]
    },
    {
     "name": "stdout",
     "output_type": "stream",
     "text": [
      "Skipping - Token count 9575 >= 2500\n",
      "Skipping - Token count 9575 >= 2500\n",
      "\n",
      "Processed 8960/39034 files\n",
      "Valid results: 40\n",
      "Unique function/input pairs: 40\n",
      "Skipping - Token count 9575 >= 2500\n",
      "Skipping - Token count 9572 >= 2500\n"
     ]
    },
    {
     "name": "stderr",
     "output_type": "stream",
     "text": [
      " 23%|██▎       | 8974/39034 [27:34<32:56, 15.21it/s]"
     ]
    },
    {
     "name": "stdout",
     "output_type": "stream",
     "text": [
      "Skipping - Token count 9575 >= 2500\n",
      "Skipping - Token count 9575 >= 2500\n",
      "Skipping - Token count 9547 >= 2500\n",
      "Skipping - Token count 9575 >= 2500\n"
     ]
    },
    {
     "name": "stderr",
     "output_type": "stream",
     "text": [
      " 23%|██▎       | 8978/39034 [27:35<33:25, 14.99it/s]"
     ]
    },
    {
     "name": "stdout",
     "output_type": "stream",
     "text": [
      "Skipping - Token count 9575 >= 2500\n",
      "Skipping - Token count 9575 >= 2500\n",
      "Skipping - Token count 9547 >= 2500\n",
      "Skipping - Token count 9575 >= 2500\n"
     ]
    },
    {
     "name": "stderr",
     "output_type": "stream",
     "text": [
      " 23%|██▎       | 8982/39034 [27:35<34:05, 14.69it/s]"
     ]
    },
    {
     "name": "stdout",
     "output_type": "stream",
     "text": [
      "Skipping - Token count 9547 >= 2500\n",
      "Skipping - Token count 9575 >= 2500\n",
      "Skipping - Token count 9575 >= 2500\n",
      "Skipping - Token count 9575 >= 2500\n"
     ]
    },
    {
     "name": "stderr",
     "output_type": "stream",
     "text": [
      " 23%|██▎       | 8986/39034 [27:35<34:12, 14.64it/s]"
     ]
    },
    {
     "name": "stdout",
     "output_type": "stream",
     "text": [
      "Skipping - Token count 9575 >= 2500\n",
      "Skipping - Token count 9575 >= 2500\n",
      "Skipping - Token count 9575 >= 2500\n",
      "Skipping - Token count 9547 >= 2500\n"
     ]
    },
    {
     "name": "stderr",
     "output_type": "stream",
     "text": [
      " 23%|██▎       | 8990/39034 [27:35<33:29, 14.95it/s]"
     ]
    },
    {
     "name": "stdout",
     "output_type": "stream",
     "text": [
      "Skipping - Token count 9547 >= 2500\n",
      "Skipping - Token count 9575 >= 2500\n",
      "Skipping - Token count 9575 >= 2500\n",
      "Skipping - Token count 9575 >= 2500\n"
     ]
    },
    {
     "name": "stderr",
     "output_type": "stream",
     "text": [
      " 23%|██▎       | 8994/39034 [27:36<32:17, 15.50it/s]"
     ]
    },
    {
     "name": "stdout",
     "output_type": "stream",
     "text": [
      "Skipping - Token count 9575 >= 2500\n",
      "Skipping - Token count 9575 >= 2500\n",
      "Skipping - Token count 9547 >= 2500\n",
      "Skipping - Token count 9575 >= 2500\n"
     ]
    },
    {
     "name": "stderr",
     "output_type": "stream",
     "text": [
      " 23%|██▎       | 8996/39034 [27:36<34:09, 14.66it/s]"
     ]
    },
    {
     "name": "stdout",
     "output_type": "stream",
     "text": [
      "Skipping - Token count 9575 >= 2500\n",
      "Skipping - Token count 9575 >= 2500\n",
      "Skipping - Token count 9575 >= 2500\n",
      "Skipping - Token count 9575 >= 2500\n"
     ]
    },
    {
     "name": "stderr",
     "output_type": "stream",
     "text": [
      " 23%|██▎       | 9001/39034 [27:36<32:54, 15.21it/s]"
     ]
    },
    {
     "name": "stdout",
     "output_type": "stream",
     "text": [
      "Skipping - Token count 9575 >= 2500\n",
      "Skipping - Token count 9575 >= 2500\n",
      "Skipping - Token count 9575 >= 2500\n"
     ]
    },
    {
     "name": "stderr",
     "output_type": "stream",
     "text": [
      " 23%|██▎       | 9005/39034 [27:36<32:54, 15.21it/s]"
     ]
    },
    {
     "name": "stdout",
     "output_type": "stream",
     "text": [
      "Skipping - Token count 9575 >= 2500\n",
      "Skipping - Token count 9575 >= 2500\n",
      "Skipping - Token count 9575 >= 2500\n",
      "Skipping - Token count 9575 >= 2500\n"
     ]
    },
    {
     "name": "stderr",
     "output_type": "stream",
     "text": [
      " 23%|██▎       | 9007/39034 [27:37<34:14, 14.61it/s]"
     ]
    },
    {
     "name": "stdout",
     "output_type": "stream",
     "text": [
      "Skipping - Token count 9575 >= 2500\n",
      "Skipping - Token count 9575 >= 2500\n",
      "Skipping - Token count 9575 >= 2500\n"
     ]
    },
    {
     "name": "stderr",
     "output_type": "stream",
     "text": [
      " 23%|██▎       | 9011/39034 [27:37<36:05, 13.86it/s]"
     ]
    },
    {
     "name": "stdout",
     "output_type": "stream",
     "text": [
      "Skipping - Token count 9575 >= 2500\n",
      "Skipping - Token count 9575 >= 2500\n",
      "Skipping - Token count 9575 >= 2500\n",
      "Skipping - Token count 9547 >= 2500\n"
     ]
    },
    {
     "name": "stderr",
     "output_type": "stream",
     "text": [
      " 23%|██▎       | 9014/39034 [27:37<31:50, 15.71it/s]"
     ]
    },
    {
     "name": "stdout",
     "output_type": "stream",
     "text": [
      "Skipping - Token count 9575 >= 2500\n",
      "Skipping - Token count 9547 >= 2500\n",
      "Skipping - Token count 9575 >= 2500\n"
     ]
    },
    {
     "name": "stderr",
     "output_type": "stream",
     "text": [
      " 23%|██▎       | 9018/39034 [27:37<31:42, 15.78it/s]"
     ]
    },
    {
     "name": "stdout",
     "output_type": "stream",
     "text": [
      "Skipping - Token count 9575 >= 2500\n",
      "Skipping - Token count 9575 >= 2500\n",
      "Skipping - Token count 9547 >= 2500\n"
     ]
    },
    {
     "name": "stderr",
     "output_type": "stream",
     "text": [
      " 23%|██▎       | 9022/39034 [27:37<31:34, 15.84it/s]"
     ]
    },
    {
     "name": "stdout",
     "output_type": "stream",
     "text": [
      "Skipping - Token count 9575 >= 2500\n",
      "Skipping - Token count 9575 >= 2500\n",
      "Skipping - Token count 9575 >= 2500\n",
      "Skipping - Token count 9575 >= 2500\n"
     ]
    },
    {
     "name": "stderr",
     "output_type": "stream",
     "text": [
      " 23%|██▎       | 9026/39034 [27:38<31:37, 15.82it/s]"
     ]
    },
    {
     "name": "stdout",
     "output_type": "stream",
     "text": [
      "Skipping - Token count 9575 >= 2500\n",
      "Skipping - Token count 9547 >= 2500\n",
      "Skipping - Token count 9575 >= 2500\n",
      "Skipping - Token count 9547 >= 2500\n"
     ]
    },
    {
     "name": "stderr",
     "output_type": "stream",
     "text": [
      " 23%|██▎       | 9030/39034 [27:38<32:25, 15.42it/s]"
     ]
    },
    {
     "name": "stdout",
     "output_type": "stream",
     "text": [
      "Skipping - Token count 9575 >= 2500\n",
      "Skipping - Token count 9575 >= 2500\n",
      "Skipping - Token count 9575 >= 2500\n",
      "Skipping - Token count 9575 >= 2500\n"
     ]
    },
    {
     "name": "stderr",
     "output_type": "stream",
     "text": [
      " 23%|██▎       | 9034/39034 [27:38<31:47, 15.73it/s]"
     ]
    },
    {
     "name": "stdout",
     "output_type": "stream",
     "text": [
      "Skipping - Token count 9575 >= 2500\n",
      "Skipping - Token count 9547 >= 2500\n",
      "Skipping - Token count 9575 >= 2500\n",
      "Skipping - Token count 9575 >= 2500\n"
     ]
    },
    {
     "name": "stderr",
     "output_type": "stream",
     "text": [
      " 23%|██▎       | 9036/39034 [27:38<35:53, 13.93it/s]"
     ]
    },
    {
     "name": "stdout",
     "output_type": "stream",
     "text": [
      "Skipping - Token count 9575 >= 2500\n",
      "Skipping - Token count 9575 >= 2500\n",
      "Skipping - Token count 9575 >= 2500\n"
     ]
    },
    {
     "name": "stderr",
     "output_type": "stream",
     "text": [
      " 23%|██▎       | 9040/39034 [27:39<36:38, 13.64it/s]"
     ]
    },
    {
     "name": "stdout",
     "output_type": "stream",
     "text": [
      "Skipping - Token count 9575 >= 2500\n",
      "Skipping - Token count 9575 >= 2500\n",
      "Skipping - Token count 9575 >= 2500\n"
     ]
    },
    {
     "name": "stderr",
     "output_type": "stream",
     "text": [
      " 23%|██▎       | 9042/39034 [27:39<34:43, 14.40it/s]"
     ]
    },
    {
     "name": "stdout",
     "output_type": "stream",
     "text": [
      "Skipping - Token count 9575 >= 2500\n",
      "Skipping - Token count 9575 >= 2500\n",
      "Skipping - Token count 9575 >= 2500\n"
     ]
    },
    {
     "name": "stderr",
     "output_type": "stream",
     "text": [
      " 23%|██▎       | 9046/39034 [27:39<35:37, 14.03it/s]"
     ]
    },
    {
     "name": "stdout",
     "output_type": "stream",
     "text": [
      "Skipping - Token count 9547 >= 2500\n",
      "Skipping - Token count 9575 >= 2500\n",
      "Skipping - Token count 9575 >= 2500\n"
     ]
    },
    {
     "name": "stderr",
     "output_type": "stream",
     "text": [
      " 23%|██▎       | 9050/39034 [27:39<36:15, 13.78it/s]"
     ]
    },
    {
     "name": "stdout",
     "output_type": "stream",
     "text": [
      "Skipping - Token count 9547 >= 2500\n",
      "Skipping - Token count 9547 >= 2500\n",
      "\n",
      "Processed 9040/39034 files\n",
      "Valid results: 40\n",
      "Unique function/input pairs: 40\n",
      "Skipping - Token count 9547 >= 2500\n",
      "Skipping - Token count 9547 >= 2500\n"
     ]
    },
    {
     "name": "stderr",
     "output_type": "stream",
     "text": [
      " 23%|██▎       | 9052/39034 [27:40<36:45, 13.60it/s]"
     ]
    },
    {
     "name": "stdout",
     "output_type": "stream",
     "text": [
      "Skipping - Token count 9575 >= 2500\n",
      "Skipping - Token count 9547 >= 2500\n",
      "Skipping - Token count 9547 >= 2500\n",
      "Skipping - Token count 9575 >= 2500\n"
     ]
    },
    {
     "name": "stderr",
     "output_type": "stream",
     "text": [
      " 23%|██▎       | 9058/39034 [27:40<33:40, 14.84it/s]"
     ]
    },
    {
     "name": "stdout",
     "output_type": "stream",
     "text": [
      "Skipping - Token count 9575 >= 2500\n",
      "Skipping - Token count 9575 >= 2500\n",
      "Skipping - Token count 9547 >= 2500\n",
      "Skipping - Token count 9575 >= 2500\n"
     ]
    },
    {
     "name": "stderr",
     "output_type": "stream",
     "text": [
      " 23%|██▎       | 9062/39034 [27:40<32:08, 15.54it/s]"
     ]
    },
    {
     "name": "stdout",
     "output_type": "stream",
     "text": [
      "Skipping - Token count 9575 >= 2500\n",
      "Skipping - Token count 9575 >= 2500\n",
      "Skipping - Token count 9575 >= 2500\n",
      "Skipping - Token count 9575 >= 2500\n"
     ]
    },
    {
     "name": "stderr",
     "output_type": "stream",
     "text": [
      " 23%|██▎       | 9064/39034 [27:40<35:23, 14.11it/s]"
     ]
    },
    {
     "name": "stdout",
     "output_type": "stream",
     "text": [
      "Skipping - Token count 9547 >= 2500\n",
      "Skipping - Token count 9575 >= 2500\n",
      "Skipping - Token count 9575 >= 2500\n"
     ]
    },
    {
     "name": "stderr",
     "output_type": "stream",
     "text": [
      " 23%|██▎       | 9068/39034 [27:41<33:47, 14.78it/s]"
     ]
    },
    {
     "name": "stdout",
     "output_type": "stream",
     "text": [
      "Skipping - Token count 9547 >= 2500\n",
      "Skipping - Token count 9547 >= 2500\n",
      "Skipping - Token count 9547 >= 2500\n",
      "Skipping - Token count 9575 >= 2500\n"
     ]
    },
    {
     "name": "stderr",
     "output_type": "stream",
     "text": [
      " 23%|██▎       | 9072/39034 [27:41<34:37, 14.42it/s]"
     ]
    },
    {
     "name": "stdout",
     "output_type": "stream",
     "text": [
      "Skipping - Token count 9575 >= 2500\n",
      "Skipping - Token count 9575 >= 2500\n",
      "Skipping - Token count 9547 >= 2500\n"
     ]
    },
    {
     "name": "stderr",
     "output_type": "stream",
     "text": [
      " 23%|██▎       | 9074/39034 [27:41<33:29, 14.91it/s]"
     ]
    },
    {
     "name": "stdout",
     "output_type": "stream",
     "text": [
      "Skipping - Token count 9575 >= 2500\n",
      "Skipping - Token count 9575 >= 2500\n",
      "Skipping - Token count 9575 >= 2500\n",
      "Skipping - Token count 9575 >= 2500\n"
     ]
    },
    {
     "name": "stderr",
     "output_type": "stream",
     "text": [
      " 23%|██▎       | 9080/39034 [27:41<33:14, 15.02it/s]"
     ]
    },
    {
     "name": "stdout",
     "output_type": "stream",
     "text": [
      "Skipping - Token count 9575 >= 2500\n",
      "Skipping - Token count 9575 >= 2500\n",
      "Skipping - Token count 9575 >= 2500\n",
      "Skipping - Token count 9575 >= 2500\n"
     ]
    },
    {
     "name": "stderr",
     "output_type": "stream",
     "text": [
      " 23%|██▎       | 9082/39034 [27:42<30:56, 16.14it/s]"
     ]
    },
    {
     "name": "stdout",
     "output_type": "stream",
     "text": [
      "Skipping - Token count 9575 >= 2500\n",
      "Skipping - Token count 9575 >= 2500\n",
      "Skipping - Token count 9575 >= 2500\n",
      "Skipping - Token count 9575 >= 2500\n"
     ]
    },
    {
     "name": "stderr",
     "output_type": "stream",
     "text": [
      " 23%|██▎       | 9086/39034 [27:42<32:40, 15.27it/s]"
     ]
    },
    {
     "name": "stdout",
     "output_type": "stream",
     "text": [
      "Skipping - Token count 9575 >= 2500\n",
      "Skipping - Token count 9575 >= 2500\n",
      "Skipping - Token count 9575 >= 2500\n"
     ]
    },
    {
     "name": "stderr",
     "output_type": "stream",
     "text": [
      " 23%|██▎       | 9091/39034 [27:42<30:30, 16.36it/s]"
     ]
    },
    {
     "name": "stdout",
     "output_type": "stream",
     "text": [
      "Skipping - Token count 9575 >= 2500\n",
      "Skipping - Token count 9575 >= 2500\n",
      "Skipping - Token count 9575 >= 2500\n",
      "Skipping - Token count 9575 >= 2500\n"
     ]
    },
    {
     "name": "stderr",
     "output_type": "stream",
     "text": [
      " 23%|██▎       | 9095/39034 [27:42<30:59, 16.10it/s]"
     ]
    },
    {
     "name": "stdout",
     "output_type": "stream",
     "text": [
      "Skipping - Token count 9575 >= 2500\n",
      "Skipping - Token count 9575 >= 2500\n",
      "Skipping - Token count 9575 >= 2500\n",
      "Skipping - Token count 9575 >= 2500\n"
     ]
    },
    {
     "name": "stderr",
     "output_type": "stream",
     "text": [
      " 23%|██▎       | 9099/39034 [27:43<31:21, 15.91it/s]"
     ]
    },
    {
     "name": "stdout",
     "output_type": "stream",
     "text": [
      "Skipping - Token count 9575 >= 2500\n",
      "Skipping - Token count 9575 >= 2500\n",
      "Skipping - Token count 9575 >= 2500\n",
      "Skipping - Token count 9575 >= 2500\n"
     ]
    },
    {
     "name": "stderr",
     "output_type": "stream",
     "text": [
      " 23%|██▎       | 9101/39034 [27:43<33:46, 14.77it/s]"
     ]
    },
    {
     "name": "stdout",
     "output_type": "stream",
     "text": [
      "Skipping - Token count 9575 >= 2500\n",
      "Skipping - Token count 9575 >= 2500\n",
      "Skipping - Token count 9575 >= 2500\n",
      "Skipping - Token count 9575 >= 2500\n"
     ]
    },
    {
     "name": "stderr",
     "output_type": "stream",
     "text": [
      " 23%|██▎       | 9106/39034 [27:43<31:35, 15.79it/s]"
     ]
    },
    {
     "name": "stdout",
     "output_type": "stream",
     "text": [
      "Skipping - Token count 9575 >= 2500\n",
      "Skipping - Token count 9575 >= 2500\n",
      "Skipping - Token count 9575 >= 2500\n",
      "Skipping - Token count 9547 >= 2500\n"
     ]
    },
    {
     "name": "stderr",
     "output_type": "stream",
     "text": [
      " 23%|██▎       | 9110/39034 [27:43<31:24, 15.88it/s]"
     ]
    },
    {
     "name": "stdout",
     "output_type": "stream",
     "text": [
      "Skipping - Token count 9575 >= 2500\n",
      "Skipping - Token count 9575 >= 2500\n",
      "Skipping - Token count 9575 >= 2500\n",
      "Skipping - Token count 9547 >= 2500\n"
     ]
    },
    {
     "name": "stderr",
     "output_type": "stream",
     "text": [
      " 23%|██▎       | 9114/39034 [27:44<32:13, 15.47it/s]"
     ]
    },
    {
     "name": "stdout",
     "output_type": "stream",
     "text": [
      "Skipping - Token count 9547 >= 2500\n",
      "Skipping - Token count 9547 >= 2500\n",
      "Skipping - Token count 9575 >= 2500\n",
      "Skipping - Token count 9575 >= 2500\n"
     ]
    },
    {
     "name": "stderr",
     "output_type": "stream",
     "text": [
      " 23%|██▎       | 9118/39034 [27:44<31:58, 15.60it/s]"
     ]
    },
    {
     "name": "stdout",
     "output_type": "stream",
     "text": [
      "Skipping - Token count 9575 >= 2500\n",
      "Skipping - Token count 9575 >= 2500\n",
      "Skipping - Token count 9575 >= 2500\n",
      "Skipping - Token count 9575 >= 2500\n"
     ]
    },
    {
     "name": "stderr",
     "output_type": "stream",
     "text": [
      " 23%|██▎       | 9122/39034 [27:44<31:47, 15.68it/s]"
     ]
    },
    {
     "name": "stdout",
     "output_type": "stream",
     "text": [
      "Skipping - Token count 9575 >= 2500\n",
      "Skipping - Token count 9547 >= 2500\n",
      "Skipping - Token count 9575 >= 2500\n",
      "Skipping - Token count 9575 >= 2500\n"
     ]
    },
    {
     "name": "stderr",
     "output_type": "stream",
     "text": [
      " 23%|██▎       | 9126/39034 [27:45<33:27, 14.90it/s]"
     ]
    },
    {
     "name": "stdout",
     "output_type": "stream",
     "text": [
      "Skipping - Token count 9575 >= 2500\n",
      "Skipping - Token count 9575 >= 2500\n",
      "Skipping - Token count 9575 >= 2500\n"
     ]
    },
    {
     "name": "stderr",
     "output_type": "stream",
     "text": [
      " 23%|██▎       | 9128/39034 [27:45<31:14, 15.96it/s]"
     ]
    },
    {
     "name": "stdout",
     "output_type": "stream",
     "text": [
      "Skipping - Token count 9547 >= 2500\n",
      "Skipping - Token count 9575 >= 2500\n",
      "\n",
      "Processed 9120/39034 files\n",
      "Valid results: 40\n",
      "Unique function/input pairs: 40\n",
      "Skipping - Token count 9547 >= 2500\n"
     ]
    },
    {
     "name": "stderr",
     "output_type": "stream",
     "text": [
      " 23%|██▎       | 9132/39034 [27:45<31:22, 15.88it/s]"
     ]
    },
    {
     "name": "stdout",
     "output_type": "stream",
     "text": [
      "Skipping - Token count 9547 >= 2500\n",
      "Skipping - Token count 9547 >= 2500\n",
      "Skipping - Token count 9547 >= 2500\n"
     ]
    },
    {
     "name": "stderr",
     "output_type": "stream",
     "text": [
      " 23%|██▎       | 9136/39034 [27:45<31:17, 15.92it/s]"
     ]
    },
    {
     "name": "stdout",
     "output_type": "stream",
     "text": [
      "Skipping - Token count 9575 >= 2500\n",
      "Skipping - Token count 9547 >= 2500\n",
      "Skipping - Token count 9575 >= 2500\n",
      "Skipping - Token count 9575 >= 2500\n"
     ]
    },
    {
     "name": "stderr",
     "output_type": "stream",
     "text": [
      " 23%|██▎       | 9138/39034 [27:45<33:47, 14.75it/s]"
     ]
    },
    {
     "name": "stdout",
     "output_type": "stream",
     "text": [
      "Skipping - Token count 9575 >= 2500\n",
      "Skipping - Token count 9575 >= 2500\n",
      "Skipping - Token count 9575 >= 2500\n",
      "Skipping - Token count 9575 >= 2500\n"
     ]
    },
    {
     "name": "stderr",
     "output_type": "stream",
     "text": [
      " 23%|██▎       | 9143/39034 [27:46<31:46, 15.68it/s]"
     ]
    },
    {
     "name": "stdout",
     "output_type": "stream",
     "text": [
      "Skipping - Token count 9547 >= 2500\n",
      "Skipping - Token count 9575 >= 2500\n",
      "Skipping - Token count 9575 >= 2500\n",
      "Skipping - Token count 9547 >= 2500\n"
     ]
    },
    {
     "name": "stderr",
     "output_type": "stream",
     "text": [
      " 23%|██▎       | 9147/39034 [27:46<32:54, 15.14it/s]"
     ]
    },
    {
     "name": "stdout",
     "output_type": "stream",
     "text": [
      "Skipping - Token count 9575 >= 2500\n",
      "Skipping - Token count 9547 >= 2500\n",
      "Skipping - Token count 9575 >= 2500\n",
      "Skipping - Token count 9575 >= 2500\n"
     ]
    },
    {
     "name": "stderr",
     "output_type": "stream",
     "text": [
      " 23%|██▎       | 9151/39034 [27:46<32:54, 15.13it/s]"
     ]
    },
    {
     "name": "stdout",
     "output_type": "stream",
     "text": [
      "Skipping - Token count 9575 >= 2500\n",
      "Skipping - Token count 9547 >= 2500\n",
      "Skipping - Token count 9575 >= 2500\n",
      "Skipping - Token count 9575 >= 2500\n"
     ]
    },
    {
     "name": "stderr",
     "output_type": "stream",
     "text": [
      " 23%|██▎       | 9155/39034 [27:46<32:48, 15.18it/s]"
     ]
    },
    {
     "name": "stdout",
     "output_type": "stream",
     "text": [
      "Skipping - Token count 9575 >= 2500\n",
      "Skipping - Token count 9575 >= 2500\n",
      "Skipping - Token count 9575 >= 2500\n"
     ]
    },
    {
     "name": "stderr",
     "output_type": "stream",
     "text": [
      " 23%|██▎       | 9157/39034 [27:46<31:20, 15.89it/s]"
     ]
    },
    {
     "name": "stdout",
     "output_type": "stream",
     "text": [
      "Skipping - Token count 9575 >= 2500\n",
      "Skipping - Token count 9547 >= 2500\n",
      "Skipping - Token count 9575 >= 2500\n"
     ]
    },
    {
     "name": "stderr",
     "output_type": "stream",
     "text": [
      " 23%|██▎       | 9161/39034 [27:47<32:27, 15.34it/s]"
     ]
    },
    {
     "name": "stdout",
     "output_type": "stream",
     "text": [
      "Skipping - Token count 9575 >= 2500\n",
      "Skipping - Token count 9575 >= 2500\n",
      "Skipping - Token count 9575 >= 2500\n"
     ]
    },
    {
     "name": "stderr",
     "output_type": "stream",
     "text": [
      " 23%|██▎       | 9165/39034 [27:47<31:50, 15.63it/s]"
     ]
    },
    {
     "name": "stdout",
     "output_type": "stream",
     "text": [
      "Skipping - Token count 9575 >= 2500\n",
      "Skipping - Token count 9575 >= 2500\n",
      "Skipping - Token count 9575 >= 2500\n",
      "Skipping - Token count 9575 >= 2500\n"
     ]
    },
    {
     "name": "stderr",
     "output_type": "stream",
     "text": [
      " 23%|██▎       | 9169/39034 [27:47<31:34, 15.76it/s]"
     ]
    },
    {
     "name": "stdout",
     "output_type": "stream",
     "text": [
      "Skipping - Token count 9575 >= 2500\n",
      "Skipping - Token count 9575 >= 2500\n",
      "Skipping - Token count 9575 >= 2500\n",
      "Skipping - Token count 9575 >= 2500\n"
     ]
    },
    {
     "name": "stderr",
     "output_type": "stream",
     "text": [
      " 24%|██▎       | 9173/39034 [27:48<32:45, 15.20it/s]"
     ]
    },
    {
     "name": "stdout",
     "output_type": "stream",
     "text": [
      "Skipping - Token count 9547 >= 2500\n",
      "Skipping - Token count 9575 >= 2500\n",
      "Skipping - Token count 9547 >= 2500\n",
      "Skipping - Token count 9575 >= 2500\n"
     ]
    },
    {
     "name": "stderr",
     "output_type": "stream",
     "text": [
      " 24%|██▎       | 9177/39034 [27:48<32:36, 15.26it/s]"
     ]
    },
    {
     "name": "stdout",
     "output_type": "stream",
     "text": [
      "Skipping - Token count 9575 >= 2500\n",
      "Skipping - Token count 9575 >= 2500\n",
      "Skipping - Token count 9575 >= 2500\n",
      "Skipping - Token count 9547 >= 2500\n"
     ]
    },
    {
     "name": "stderr",
     "output_type": "stream",
     "text": [
      " 24%|██▎       | 9181/39034 [27:48<32:41, 15.22it/s]"
     ]
    },
    {
     "name": "stdout",
     "output_type": "stream",
     "text": [
      "Skipping - Token count 9575 >= 2500\n",
      "Skipping - Token count 9575 >= 2500\n",
      "Skipping - Token count 9575 >= 2500\n",
      "Skipping - Token count 9575 >= 2500\n"
     ]
    },
    {
     "name": "stderr",
     "output_type": "stream",
     "text": [
      " 24%|██▎       | 9185/39034 [27:48<31:40, 15.71it/s]"
     ]
    },
    {
     "name": "stdout",
     "output_type": "stream",
     "text": [
      "Skipping - Token count 9575 >= 2500\n",
      "Skipping - Token count 9547 >= 2500\n",
      "Skipping - Token count 9575 >= 2500\n",
      "Skipping - Token count 9575 >= 2500\n"
     ]
    },
    {
     "name": "stderr",
     "output_type": "stream",
     "text": [
      " 24%|██▎       | 9189/39034 [27:49<31:25, 15.83it/s]"
     ]
    },
    {
     "name": "stdout",
     "output_type": "stream",
     "text": [
      "Skipping - Token count 9547 >= 2500\n",
      "Skipping - Token count 9575 >= 2500\n",
      "Skipping - Token count 9575 >= 2500\n",
      "Skipping - Token count 9575 >= 2500\n"
     ]
    },
    {
     "name": "stderr",
     "output_type": "stream",
     "text": [
      " 24%|██▎       | 9193/39034 [27:49<31:06, 15.98it/s]"
     ]
    },
    {
     "name": "stdout",
     "output_type": "stream",
     "text": [
      "Skipping - Token count 9575 >= 2500\n",
      "Skipping - Token count 9575 >= 2500\n",
      "Skipping - Token count 9547 >= 2500\n",
      "Skipping - Token count 9575 >= 2500\n"
     ]
    },
    {
     "name": "stderr",
     "output_type": "stream",
     "text": [
      " 24%|██▎       | 9195/39034 [27:49<33:07, 15.02it/s]"
     ]
    },
    {
     "name": "stdout",
     "output_type": "stream",
     "text": [
      "Skipping - Token count 9547 >= 2500\n",
      "Skipping - Token count 9575 >= 2500\n",
      "Skipping - Token count 9547 >= 2500\n"
     ]
    },
    {
     "name": "stderr",
     "output_type": "stream",
     "text": [
      " 24%|██▎       | 9199/39034 [27:49<34:32, 14.39it/s]"
     ]
    },
    {
     "name": "stdout",
     "output_type": "stream",
     "text": [
      "Skipping - Token count 9547 >= 2500\n",
      "Skipping - Token count 9547 >= 2500\n",
      "Skipping - Token count 9575 >= 2500\n"
     ]
    },
    {
     "name": "stderr",
     "output_type": "stream",
     "text": [
      " 24%|██▎       | 9201/39034 [27:49<32:14, 15.43it/s]"
     ]
    },
    {
     "name": "stdout",
     "output_type": "stream",
     "text": [
      "Skipping - Token count 9572 >= 2500\n",
      "Skipping - Token count 9575 >= 2500\n",
      "Skipping - Token count 9575 >= 2500\n"
     ]
    },
    {
     "name": "stderr",
     "output_type": "stream",
     "text": [
      " 24%|██▎       | 9205/39034 [27:50<34:28, 14.42it/s]"
     ]
    },
    {
     "name": "stdout",
     "output_type": "stream",
     "text": [
      "Skipping - Token count 9575 >= 2500\n",
      "Skipping - Token count 9575 >= 2500\n",
      "Skipping - Token count 9575 >= 2500\n",
      "Skipping - Token count 9547 >= 2500\n"
     ]
    },
    {
     "name": "stderr",
     "output_type": "stream",
     "text": [
      " 24%|██▎       | 9209/39034 [27:50<33:31, 14.83it/s]"
     ]
    },
    {
     "name": "stdout",
     "output_type": "stream",
     "text": [
      "Skipping - Token count 9575 >= 2500\n",
      "Skipping - Token count 9575 >= 2500\n",
      "\n",
      "Processed 9200/39034 files\n",
      "Valid results: 40\n",
      "Unique function/input pairs: 40\n",
      "Skipping - Token count 9547 >= 2500\n",
      "Skipping - Token count 9547 >= 2500\n"
     ]
    },
    {
     "name": "stderr",
     "output_type": "stream",
     "text": [
      " 24%|██▎       | 9213/39034 [27:50<32:29, 15.30it/s]"
     ]
    },
    {
     "name": "stdout",
     "output_type": "stream",
     "text": [
      "Skipping - Token count 9575 >= 2500\n",
      "Skipping - Token count 9575 >= 2500\n",
      "Skipping - Token count 9575 >= 2500\n",
      "Skipping - Token count 9547 >= 2500\n"
     ]
    },
    {
     "name": "stderr",
     "output_type": "stream",
     "text": [
      " 24%|██▎       | 9217/39034 [27:51<34:06, 14.57it/s]"
     ]
    },
    {
     "name": "stdout",
     "output_type": "stream",
     "text": [
      "Skipping - Token count 9575 >= 2500\n",
      "Skipping - Token count 9547 >= 2500\n",
      "Skipping - Token count 9547 >= 2500\n"
     ]
    },
    {
     "name": "stderr",
     "output_type": "stream",
     "text": [
      " 24%|██▎       | 9219/39034 [27:51<32:05, 15.48it/s]"
     ]
    },
    {
     "name": "stdout",
     "output_type": "stream",
     "text": [
      "Skipping - Token count 9575 >= 2500\n",
      "Skipping - Token count 9575 >= 2500\n",
      "Skipping - Token count 9575 >= 2500\n"
     ]
    },
    {
     "name": "stderr",
     "output_type": "stream",
     "text": [
      " 24%|██▎       | 9223/39034 [27:51<31:45, 15.65it/s]"
     ]
    },
    {
     "name": "stdout",
     "output_type": "stream",
     "text": [
      "Skipping - Token count 9575 >= 2500\n",
      "Skipping - Token count 9575 >= 2500\n",
      "Skipping - Token count 9575 >= 2500\n"
     ]
    },
    {
     "name": "stderr",
     "output_type": "stream",
     "text": [
      " 24%|██▎       | 9227/39034 [27:51<31:45, 15.65it/s]"
     ]
    },
    {
     "name": "stdout",
     "output_type": "stream",
     "text": [
      "Skipping - Token count 9575 >= 2500\n",
      "Skipping - Token count 9575 >= 2500\n",
      "Skipping - Token count 9547 >= 2500\n",
      "Skipping - Token count 9575 >= 2500\n"
     ]
    },
    {
     "name": "stderr",
     "output_type": "stream",
     "text": [
      " 24%|██▎       | 9231/39034 [27:51<32:12, 15.42it/s]"
     ]
    },
    {
     "name": "stdout",
     "output_type": "stream",
     "text": [
      "Skipping - Token count 9575 >= 2500\n",
      "Skipping - Token count 9547 >= 2500\n",
      "Skipping - Token count 9575 >= 2500\n",
      "Skipping - Token count 9575 >= 2500\n"
     ]
    },
    {
     "name": "stderr",
     "output_type": "stream",
     "text": [
      " 24%|██▎       | 9233/39034 [27:52<33:55, 14.64it/s]"
     ]
    },
    {
     "name": "stdout",
     "output_type": "stream",
     "text": [
      "Skipping - Token count 9575 >= 2500\n",
      "Skipping - Token count 9575 >= 2500\n",
      "Skipping - Token count 9575 >= 2500\n",
      "Skipping - Token count 9575 >= 2500\n"
     ]
    },
    {
     "name": "stderr",
     "output_type": "stream",
     "text": [
      " 24%|██▎       | 9237/39034 [27:52<29:58, 16.57it/s]"
     ]
    },
    {
     "name": "stdout",
     "output_type": "stream",
     "text": [
      "Skipping - Token count 9575 >= 2500\n",
      "Skipping - Token count 9575 >= 2500\n",
      "Skipping - Token count 9575 >= 2500\n",
      "Skipping - Token count 9575 >= 2500\n"
     ]
    },
    {
     "name": "stderr",
     "output_type": "stream",
     "text": [
      " 24%|██▎       | 9241/39034 [27:52<32:02, 15.50it/s]"
     ]
    },
    {
     "name": "stdout",
     "output_type": "stream",
     "text": [
      "Skipping - Token count 9575 >= 2500\n",
      "Skipping - Token count 9575 >= 2500\n",
      "Skipping - Token count 9575 >= 2500\n"
     ]
    },
    {
     "name": "stderr",
     "output_type": "stream",
     "text": [
      " 24%|██▎       | 9246/39034 [27:52<33:34, 14.78it/s]"
     ]
    },
    {
     "name": "stdout",
     "output_type": "stream",
     "text": [
      "Skipping - Token count 9575 >= 2500\n",
      "Skipping - Token count 9575 >= 2500\n",
      "Skipping - Token count 9575 >= 2500\n",
      "Skipping - Token count 9547 >= 2500\n"
     ]
    },
    {
     "name": "stderr",
     "output_type": "stream",
     "text": [
      " 24%|██▎       | 9248/39034 [27:53<34:06, 14.55it/s]"
     ]
    },
    {
     "name": "stdout",
     "output_type": "stream",
     "text": [
      "Skipping - Token count 9575 >= 2500\n",
      "Skipping - Token count 9575 >= 2500\n",
      "Skipping - Token count 9575 >= 2500\n"
     ]
    },
    {
     "name": "stderr",
     "output_type": "stream",
     "text": [
      " 24%|██▎       | 9252/39034 [27:53<36:18, 13.67it/s]"
     ]
    },
    {
     "name": "stdout",
     "output_type": "stream",
     "text": [
      "Skipping - Token count 9575 >= 2500\n",
      "Skipping - Token count 9575 >= 2500\n",
      "Skipping - Token count 9575 >= 2500\n"
     ]
    },
    {
     "name": "stderr",
     "output_type": "stream",
     "text": [
      " 24%|██▎       | 9254/39034 [27:53<36:58, 13.42it/s]"
     ]
    },
    {
     "name": "stdout",
     "output_type": "stream",
     "text": [
      "Skipping - Token count 9575 >= 2500\n",
      "Skipping - Token count 9575 >= 2500\n",
      "Skipping - Token count 9575 >= 2500\n",
      "Skipping - Token count 9547 >= 2500\n"
     ]
    },
    {
     "name": "stderr",
     "output_type": "stream",
     "text": [
      " 24%|██▎       | 9258/39034 [27:53<35:03, 14.16it/s]"
     ]
    },
    {
     "name": "stdout",
     "output_type": "stream",
     "text": [
      "Skipping - Token count 9575 >= 2500\n",
      "Skipping - Token count 9575 >= 2500\n",
      "Skipping - Token count 9575 >= 2500\n",
      "Skipping - Token count 9575 >= 2500\n"
     ]
    },
    {
     "name": "stderr",
     "output_type": "stream",
     "text": [
      " 24%|██▎       | 9262/39034 [27:54<33:40, 14.74it/s]"
     ]
    },
    {
     "name": "stdout",
     "output_type": "stream",
     "text": [
      "Skipping - Token count 9575 >= 2500\n",
      "Skipping - Token count 9575 >= 2500\n",
      "Skipping - Token count 9575 >= 2500\n",
      "Skipping - Token count 9547 >= 2500\n"
     ]
    },
    {
     "name": "stderr",
     "output_type": "stream",
     "text": [
      " 24%|██▎       | 9266/39034 [27:54<33:25, 14.85it/s]"
     ]
    },
    {
     "name": "stdout",
     "output_type": "stream",
     "text": [
      "Skipping - Token count 9575 >= 2500\n",
      "Skipping - Token count 9575 >= 2500\n",
      "Skipping - Token count 9575 >= 2500\n"
     ]
    },
    {
     "name": "stderr",
     "output_type": "stream",
     "text": [
      " 24%|██▎       | 9270/39034 [27:54<34:11, 14.51it/s]"
     ]
    },
    {
     "name": "stdout",
     "output_type": "stream",
     "text": [
      "Skipping - Token count 9575 >= 2500\n",
      "Skipping - Token count 9575 >= 2500\n",
      "Skipping - Token count 9547 >= 2500\n",
      "Skipping - Token count 9572 >= 2500\n"
     ]
    },
    {
     "name": "stderr",
     "output_type": "stream",
     "text": [
      " 24%|██▍       | 9274/39034 [27:54<33:34, 14.77it/s]"
     ]
    },
    {
     "name": "stdout",
     "output_type": "stream",
     "text": [
      "Skipping - Token count 9575 >= 2500\n",
      "Skipping - Token count 9547 >= 2500\n",
      "Skipping - Token count 9575 >= 2500\n"
     ]
    },
    {
     "name": "stderr",
     "output_type": "stream",
     "text": [
      " 24%|██▍       | 9276/39034 [27:54<31:48, 15.60it/s]"
     ]
    },
    {
     "name": "stdout",
     "output_type": "stream",
     "text": [
      "Skipping - Token count 9575 >= 2500\n",
      "Skipping - Token count 9575 >= 2500\n",
      "Skipping - Token count 9575 >= 2500\n"
     ]
    },
    {
     "name": "stderr",
     "output_type": "stream",
     "text": [
      " 24%|██▍       | 9280/39034 [27:55<32:13, 15.39it/s]"
     ]
    },
    {
     "name": "stdout",
     "output_type": "stream",
     "text": [
      "Skipping - Token count 9575 >= 2500\n",
      "Skipping - Token count 9575 >= 2500\n",
      "Skipping - Token count 9547 >= 2500\n",
      "Skipping - Token count 9572 >= 2500\n"
     ]
    },
    {
     "name": "stderr",
     "output_type": "stream",
     "text": [
      " 24%|██▍       | 9285/39034 [27:55<31:44, 15.62it/s]"
     ]
    },
    {
     "name": "stdout",
     "output_type": "stream",
     "text": [
      "Skipping - Token count 9547 >= 2500\n",
      "Skipping - Token count 9575 >= 2500\n",
      "Skipping - Token count 9575 >= 2500\n",
      "Skipping - Token count 9575 >= 2500\n"
     ]
    },
    {
     "name": "stderr",
     "output_type": "stream",
     "text": [
      " 24%|██▍       | 9287/39034 [27:55<33:24, 14.84it/s]"
     ]
    },
    {
     "name": "stdout",
     "output_type": "stream",
     "text": [
      "Skipping - Token count 9575 >= 2500\n",
      "Skipping - Token count 9575 >= 2500\n",
      "Skipping - Token count 9576 >= 2500\n",
      "\n",
      "Processed 9280/39034 files\n",
      "Valid results: 40\n",
      "Unique function/input pairs: 40\n",
      "Skipping - Token count 9547 >= 2500\n"
     ]
    },
    {
     "name": "stderr",
     "output_type": "stream",
     "text": [
      " 24%|██▍       | 9293/39034 [27:56<30:36, 16.20it/s]"
     ]
    },
    {
     "name": "stdout",
     "output_type": "stream",
     "text": [
      "Skipping - Token count 9575 >= 2500\n",
      "Skipping - Token count 9575 >= 2500\n",
      "Skipping - Token count 9575 >= 2500\n",
      "Skipping - Token count 9575 >= 2500\n"
     ]
    },
    {
     "name": "stderr",
     "output_type": "stream",
     "text": [
      " 24%|██▍       | 9297/39034 [27:56<34:07, 14.52it/s]"
     ]
    },
    {
     "name": "stdout",
     "output_type": "stream",
     "text": [
      "Skipping - Token count 9547 >= 2500\n",
      "Skipping - Token count 9547 >= 2500\n",
      "Skipping - Token count 9575 >= 2500\n",
      "Skipping - Token count 9547 >= 2500\n"
     ]
    },
    {
     "name": "stderr",
     "output_type": "stream",
     "text": [
      " 24%|██▍       | 9301/39034 [27:56<34:10, 14.50it/s]"
     ]
    },
    {
     "name": "stdout",
     "output_type": "stream",
     "text": [
      "Skipping - Token count 9547 >= 2500\n",
      "Skipping - Token count 9547 >= 2500\n",
      "Skipping - Token count 9575 >= 2500\n",
      "Skipping - Token count 9575 >= 2500\n"
     ]
    },
    {
     "name": "stderr",
     "output_type": "stream",
     "text": [
      " 24%|██▍       | 9305/39034 [27:57<33:05, 14.97it/s]"
     ]
    },
    {
     "name": "stdout",
     "output_type": "stream",
     "text": [
      "Skipping - Token count 9575 >= 2500\n",
      "Skipping - Token count 9575 >= 2500\n",
      "Skipping - Token count 9547 >= 2500\n",
      "Skipping - Token count 9575 >= 2500\n"
     ]
    },
    {
     "name": "stderr",
     "output_type": "stream",
     "text": [
      " 24%|██▍       | 9309/39034 [27:57<33:09, 14.94it/s]"
     ]
    },
    {
     "name": "stdout",
     "output_type": "stream",
     "text": [
      "Skipping - Token count 9575 >= 2500\n",
      "Skipping - Token count 9575 >= 2500\n",
      "Skipping - Token count 9575 >= 2500\n",
      "Skipping - Token count 9575 >= 2500\n"
     ]
    },
    {
     "name": "stderr",
     "output_type": "stream",
     "text": [
      " 24%|██▍       | 9313/39034 [27:57<33:04, 14.97it/s]"
     ]
    },
    {
     "name": "stdout",
     "output_type": "stream",
     "text": [
      "Skipping - Token count 9547 >= 2500\n",
      "Skipping - Token count 9547 >= 2500\n",
      "Skipping - Token count 9575 >= 2500\n",
      "Skipping - Token count 9575 >= 2500\n"
     ]
    },
    {
     "name": "stderr",
     "output_type": "stream",
     "text": [
      " 24%|██▍       | 9317/39034 [27:57<34:37, 14.31it/s]"
     ]
    },
    {
     "name": "stdout",
     "output_type": "stream",
     "text": [
      "Skipping - Token count 9575 >= 2500\n",
      "Skipping - Token count 9547 >= 2500\n",
      "Skipping - Token count 9575 >= 2500\n",
      "Skipping - Token count 9575 >= 2500\n"
     ]
    },
    {
     "name": "stderr",
     "output_type": "stream",
     "text": [
      " 24%|██▍       | 9319/39034 [27:58<37:02, 13.37it/s]"
     ]
    },
    {
     "name": "stdout",
     "output_type": "stream",
     "text": [
      "Skipping - Token count 9575 >= 2500\n",
      "Skipping - Token count 9575 >= 2500\n",
      "Skipping - Token count 9575 >= 2500\n"
     ]
    },
    {
     "name": "stderr",
     "output_type": "stream",
     "text": [
      " 24%|██▍       | 9323/39034 [27:58<35:07, 14.10it/s]"
     ]
    },
    {
     "name": "stdout",
     "output_type": "stream",
     "text": [
      "Skipping - Token count 9575 >= 2500\n",
      "Skipping - Token count 9575 >= 2500\n",
      "Skipping - Token count 9547 >= 2500\n"
     ]
    },
    {
     "name": "stderr",
     "output_type": "stream",
     "text": [
      " 24%|██▍       | 9325/39034 [27:58<33:53, 14.61it/s]"
     ]
    },
    {
     "name": "stdout",
     "output_type": "stream",
     "text": [
      "Skipping - Token count 9547 >= 2500\n",
      "Skipping - Token count 9575 >= 2500\n",
      "Skipping - Token count 9575 >= 2500\n"
     ]
    },
    {
     "name": "stderr",
     "output_type": "stream",
     "text": [
      " 24%|██▍       | 9329/39034 [27:58<32:50, 15.08it/s]"
     ]
    },
    {
     "name": "stdout",
     "output_type": "stream",
     "text": [
      "Skipping - Token count 9575 >= 2500\n",
      "Skipping - Token count 9575 >= 2500\n",
      "Skipping - Token count 9575 >= 2500\n",
      "Skipping - Token count 9575 >= 2500\n"
     ]
    },
    {
     "name": "stderr",
     "output_type": "stream",
     "text": [
      " 24%|██▍       | 9333/39034 [27:58<33:33, 14.75it/s]"
     ]
    },
    {
     "name": "stdout",
     "output_type": "stream",
     "text": [
      "Skipping - Token count 9547 >= 2500\n",
      "Skipping - Token count 9547 >= 2500\n",
      "Skipping - Token count 9547 >= 2500\n",
      "Skipping - Token count 9547 >= 2500\n"
     ]
    },
    {
     "name": "stderr",
     "output_type": "stream",
     "text": [
      " 24%|██▍       | 9337/39034 [27:59<33:04, 14.96it/s]"
     ]
    },
    {
     "name": "stdout",
     "output_type": "stream",
     "text": [
      "Skipping - Token count 9547 >= 2500\n",
      "Skipping - Token count 9575 >= 2500\n",
      "Skipping - Token count 9547 >= 2500\n",
      "Skipping - Token count 9575 >= 2500\n"
     ]
    },
    {
     "name": "stderr",
     "output_type": "stream",
     "text": [
      " 24%|██▍       | 9341/39034 [27:59<34:18, 14.43it/s]"
     ]
    },
    {
     "name": "stdout",
     "output_type": "stream",
     "text": [
      "Skipping - Token count 9575 >= 2500\n",
      "Skipping - Token count 9575 >= 2500\n",
      "Skipping - Token count 9575 >= 2500\n",
      "Skipping - Token count 9575 >= 2500\n"
     ]
    },
    {
     "name": "stderr",
     "output_type": "stream",
     "text": [
      " 24%|██▍       | 9346/39034 [27:59<31:34, 15.67it/s]"
     ]
    },
    {
     "name": "stdout",
     "output_type": "stream",
     "text": [
      "Skipping - Token count 9575 >= 2500\n",
      "Skipping - Token count 9575 >= 2500\n",
      "Skipping - Token count 9575 >= 2500\n",
      "Skipping - Token count 9575 >= 2500\n"
     ]
    },
    {
     "name": "stderr",
     "output_type": "stream",
     "text": [
      " 24%|██▍       | 9350/39034 [28:00<31:11, 15.86it/s]"
     ]
    },
    {
     "name": "stdout",
     "output_type": "stream",
     "text": [
      "Skipping - Token count 9575 >= 2500\n",
      "Skipping - Token count 9575 >= 2500\n",
      "Skipping - Token count 9575 >= 2500\n",
      "Skipping - Token count 9575 >= 2500\n"
     ]
    },
    {
     "name": "stderr",
     "output_type": "stream",
     "text": [
      " 24%|██▍       | 9354/39034 [28:00<33:07, 14.93it/s]"
     ]
    },
    {
     "name": "stdout",
     "output_type": "stream",
     "text": [
      "Skipping - Token count 9575 >= 2500\n",
      "Skipping - Token count 9575 >= 2500\n",
      "Skipping - Token count 9547 >= 2500\n",
      "Skipping - Token count 9575 >= 2500\n"
     ]
    },
    {
     "name": "stderr",
     "output_type": "stream",
     "text": [
      " 24%|██▍       | 9358/39034 [28:00<31:58, 15.47it/s]"
     ]
    },
    {
     "name": "stdout",
     "output_type": "stream",
     "text": [
      "Skipping - Token count 9575 >= 2500\n",
      "Skipping - Token count 9575 >= 2500\n",
      "Skipping - Token count 9575 >= 2500\n",
      "Skipping - Token count 9547 >= 2500\n"
     ]
    },
    {
     "name": "stderr",
     "output_type": "stream",
     "text": [
      " 24%|██▍       | 9360/39034 [28:00<34:16, 14.43it/s]"
     ]
    },
    {
     "name": "stdout",
     "output_type": "stream",
     "text": [
      "Skipping - Token count 9575 >= 2500\n",
      "Skipping - Token count 9575 >= 2500\n",
      "Skipping - Token count 9575 >= 2500\n",
      "Skipping - Token count 9580 >= 2500\n"
     ]
    },
    {
     "name": "stderr",
     "output_type": "stream",
     "text": [
      " 24%|██▍       | 9365/39034 [28:01<31:45, 15.57it/s]"
     ]
    },
    {
     "name": "stdout",
     "output_type": "stream",
     "text": [
      "Skipping - Token count 9575 >= 2500\n",
      "Skipping - Token count 9575 >= 2500\n",
      "Skipping - Token count 9547 >= 2500\n",
      "Skipping - Token count 9575 >= 2500\n"
     ]
    },
    {
     "name": "stderr",
     "output_type": "stream",
     "text": [
      " 24%|██▍       | 9369/39034 [28:01<31:27, 15.72it/s]"
     ]
    },
    {
     "name": "stdout",
     "output_type": "stream",
     "text": [
      "Skipping - Token count 9575 >= 2500\n",
      "Skipping - Token count 9547 >= 2500\n",
      "\n",
      "Processed 9360/39034 files\n",
      "Valid results: 40\n",
      "Unique function/input pairs: 40\n",
      "Skipping - Token count 9575 >= 2500\n",
      "Skipping - Token count 9575 >= 2500\n"
     ]
    },
    {
     "name": "stderr",
     "output_type": "stream",
     "text": [
      " 24%|██▍       | 9373/39034 [28:01<31:44, 15.57it/s]"
     ]
    },
    {
     "name": "stdout",
     "output_type": "stream",
     "text": [
      "Skipping - Token count 9575 >= 2500\n",
      "Skipping - Token count 9575 >= 2500\n",
      "Skipping - Token count 9575 >= 2500\n",
      "Skipping - Token count 9575 >= 2500\n"
     ]
    },
    {
     "name": "stderr",
     "output_type": "stream",
     "text": [
      " 24%|██▍       | 9377/39034 [28:01<31:57, 15.47it/s]"
     ]
    },
    {
     "name": "stdout",
     "output_type": "stream",
     "text": [
      "Skipping - Token count 9575 >= 2500\n",
      "Skipping - Token count 9575 >= 2500\n",
      "Skipping - Token count 9575 >= 2500\n",
      "Skipping - Token count 9575 >= 2500\n"
     ]
    },
    {
     "name": "stderr",
     "output_type": "stream",
     "text": [
      " 24%|██▍       | 9381/39034 [28:02<31:32, 15.67it/s]"
     ]
    },
    {
     "name": "stdout",
     "output_type": "stream",
     "text": [
      "Skipping - Token count 9575 >= 2500\n",
      "Skipping - Token count 9575 >= 2500\n",
      "Skipping - Token count 9547 >= 2500\n",
      "Skipping - Token count 9575 >= 2500\n"
     ]
    },
    {
     "name": "stderr",
     "output_type": "stream",
     "text": [
      " 24%|██▍       | 9385/39034 [28:02<31:39, 15.61it/s]"
     ]
    },
    {
     "name": "stdout",
     "output_type": "stream",
     "text": [
      "Skipping - Token count 9575 >= 2500\n",
      "Skipping - Token count 9547 >= 2500\n",
      "Skipping - Token count 9575 >= 2500\n",
      "Skipping - Token count 9575 >= 2500\n"
     ]
    },
    {
     "name": "stderr",
     "output_type": "stream",
     "text": [
      " 24%|██▍       | 9389/39034 [28:02<35:05, 14.08it/s]"
     ]
    },
    {
     "name": "stdout",
     "output_type": "stream",
     "text": [
      "Skipping - Token count 9575 >= 2500\n",
      "Skipping - Token count 9575 >= 2500\n",
      "Skipping - Token count 9575 >= 2500\n"
     ]
    },
    {
     "name": "stderr",
     "output_type": "stream",
     "text": [
      " 24%|██▍       | 9391/39034 [28:02<35:17, 14.00it/s]"
     ]
    },
    {
     "name": "stdout",
     "output_type": "stream",
     "text": [
      "Skipping - Token count 9547 >= 2500\n",
      "Skipping - Token count 9575 >= 2500\n",
      "Skipping - Token count 9575 >= 2500\n"
     ]
    },
    {
     "name": "stderr",
     "output_type": "stream",
     "text": [
      " 24%|██▍       | 9395/39034 [28:03<34:15, 14.42it/s]"
     ]
    },
    {
     "name": "stdout",
     "output_type": "stream",
     "text": [
      "Skipping - Token count 9547 >= 2500\n",
      "Skipping - Token count 9575 >= 2500\n",
      "Skipping - Token count 9575 >= 2500\n"
     ]
    },
    {
     "name": "stderr",
     "output_type": "stream",
     "text": [
      " 24%|██▍       | 9399/39034 [28:03<33:14, 14.86it/s]"
     ]
    },
    {
     "name": "stdout",
     "output_type": "stream",
     "text": [
      "Skipping - Token count 9575 >= 2500\n",
      "Skipping - Token count 9575 >= 2500\n",
      "Skipping - Token count 9575 >= 2500\n",
      "Skipping - Token count 9547 >= 2500\n"
     ]
    },
    {
     "name": "stderr",
     "output_type": "stream",
     "text": [
      " 24%|██▍       | 9403/39034 [28:03<31:59, 15.43it/s]"
     ]
    },
    {
     "name": "stdout",
     "output_type": "stream",
     "text": [
      "Skipping - Token count 9547 >= 2500\n",
      "Skipping - Token count 9547 >= 2500\n",
      "Skipping - Token count 9575 >= 2500\n",
      "Skipping - Token count 9575 >= 2500\n"
     ]
    },
    {
     "name": "stderr",
     "output_type": "stream",
     "text": [
      " 24%|██▍       | 9407/39034 [28:03<31:36, 15.63it/s]"
     ]
    },
    {
     "name": "stdout",
     "output_type": "stream",
     "text": [
      "Skipping - Token count 9575 >= 2500\n",
      "Skipping - Token count 9575 >= 2500\n",
      "Skipping - Token count 9575 >= 2500\n",
      "Skipping - Token count 9575 >= 2500\n"
     ]
    },
    {
     "name": "stderr",
     "output_type": "stream",
     "text": [
      " 24%|██▍       | 9411/39034 [28:04<32:47, 15.06it/s]"
     ]
    },
    {
     "name": "stdout",
     "output_type": "stream",
     "text": [
      "Skipping - Token count 9575 >= 2500\n",
      "Skipping - Token count 9547 >= 2500\n",
      "Skipping - Token count 9575 >= 2500\n",
      "Skipping - Token count 9575 >= 2500\n"
     ]
    },
    {
     "name": "stderr",
     "output_type": "stream",
     "text": [
      " 24%|██▍       | 9415/39034 [28:04<32:01, 15.41it/s]"
     ]
    },
    {
     "name": "stdout",
     "output_type": "stream",
     "text": [
      "Skipping - Token count 9575 >= 2500\n",
      "Skipping - Token count 9575 >= 2500\n",
      "Skipping - Token count 9575 >= 2500\n",
      "Skipping - Token count 9575 >= 2500\n"
     ]
    },
    {
     "name": "stderr",
     "output_type": "stream",
     "text": [
      " 24%|██▍       | 9419/39034 [28:04<33:21, 14.80it/s]"
     ]
    },
    {
     "name": "stdout",
     "output_type": "stream",
     "text": [
      "Skipping - Token count 9575 >= 2500\n",
      "Skipping - Token count 9575 >= 2500\n",
      "Skipping - Token count 9575 >= 2500\n",
      "Skipping - Token count 9575 >= 2500\n"
     ]
    },
    {
     "name": "stderr",
     "output_type": "stream",
     "text": [
      " 24%|██▍       | 9423/39034 [28:05<31:54, 15.46it/s]"
     ]
    },
    {
     "name": "stdout",
     "output_type": "stream",
     "text": [
      "Skipping - Token count 9575 >= 2500\n",
      "Skipping - Token count 9575 >= 2500\n",
      "Skipping - Token count 9575 >= 2500\n",
      "Skipping - Token count 9547 >= 2500\n"
     ]
    },
    {
     "name": "stderr",
     "output_type": "stream",
     "text": [
      " 24%|██▍       | 9427/39034 [28:05<32:31, 15.17it/s]"
     ]
    },
    {
     "name": "stdout",
     "output_type": "stream",
     "text": [
      "Skipping - Token count 9575 >= 2500\n",
      "Skipping - Token count 9547 >= 2500\n",
      "Skipping - Token count 9575 >= 2500\n",
      "Skipping - Token count 9575 >= 2500\n"
     ]
    },
    {
     "name": "stderr",
     "output_type": "stream",
     "text": [
      " 24%|██▍       | 9431/39034 [28:05<31:23, 15.71it/s]"
     ]
    },
    {
     "name": "stdout",
     "output_type": "stream",
     "text": [
      "Skipping - Token count 9575 >= 2500\n",
      "Skipping - Token count 9575 >= 2500\n",
      "Skipping - Token count 9575 >= 2500\n",
      "Skipping - Token count 9575 >= 2500\n"
     ]
    },
    {
     "name": "stderr",
     "output_type": "stream",
     "text": [
      " 24%|██▍       | 9433/39034 [28:05<33:19, 14.80it/s]"
     ]
    },
    {
     "name": "stdout",
     "output_type": "stream",
     "text": [
      "Skipping - Token count 9575 >= 2500\n",
      "Skipping - Token count 9575 >= 2500\n",
      "Skipping - Token count 9575 >= 2500\n"
     ]
    },
    {
     "name": "stderr",
     "output_type": "stream",
     "text": [
      " 24%|██▍       | 9437/39034 [28:06<33:02, 14.93it/s]"
     ]
    },
    {
     "name": "stdout",
     "output_type": "stream",
     "text": [
      "Skipping - Token count 9575 >= 2500\n",
      "Skipping - Token count 9547 >= 2500\n",
      "Skipping - Token count 9575 >= 2500\n"
     ]
    },
    {
     "name": "stderr",
     "output_type": "stream",
     "text": [
      " 24%|██▍       | 9440/39034 [28:06<32:00, 15.41it/s]"
     ]
    },
    {
     "name": "stdout",
     "output_type": "stream",
     "text": [
      "Skipping - Token count 9575 >= 2500\n",
      "Skipping - Token count 9547 >= 2500\n",
      "Skipping - Token count 9575 >= 2500\n"
     ]
    },
    {
     "name": "stderr",
     "output_type": "stream",
     "text": [
      " 24%|██▍       | 9442/39034 [28:06<35:14, 14.00it/s]"
     ]
    },
    {
     "name": "stdout",
     "output_type": "stream",
     "text": [
      "Skipping - Token count 9575 >= 2500\n",
      "Skipping - Token count 9575 >= 2500\n",
      "Skipping - Token count 9575 >= 2500\n",
      "Skipping - Token count 9575 >= 2500\n"
     ]
    },
    {
     "name": "stderr",
     "output_type": "stream",
     "text": [
      " 24%|██▍       | 9448/39034 [28:06<32:28, 15.19it/s]"
     ]
    },
    {
     "name": "stdout",
     "output_type": "stream",
     "text": [
      "Skipping - Token count 9575 >= 2500\n",
      "Skipping - Token count 9575 >= 2500\n",
      "Skipping - Token count 9575 >= 2500\n",
      "Skipping - Token count 9575 >= 2500\n",
      "\n",
      "Processed 9440/39034 files\n",
      "Valid results: 40\n",
      "Unique function/input pairs: 40\n"
     ]
    },
    {
     "name": "stderr",
     "output_type": "stream",
     "text": [
      " 24%|██▍       | 9452/39034 [28:07<32:53, 14.99it/s]"
     ]
    },
    {
     "name": "stdout",
     "output_type": "stream",
     "text": [
      "Skipping - Token count 9575 >= 2500\n",
      "Skipping - Token count 9575 >= 2500\n",
      "Skipping - Token count 9575 >= 2500\n",
      "Skipping - Token count 9547 >= 2500\n"
     ]
    },
    {
     "name": "stderr",
     "output_type": "stream",
     "text": [
      " 24%|██▍       | 9456/39034 [28:07<34:29, 14.29it/s]"
     ]
    },
    {
     "name": "stdout",
     "output_type": "stream",
     "text": [
      "Skipping - Token count 9575 >= 2500\n",
      "Skipping - Token count 9575 >= 2500\n",
      "Skipping - Token count 9575 >= 2500\n",
      "Skipping - Token count 9575 >= 2500\n"
     ]
    },
    {
     "name": "stderr",
     "output_type": "stream",
     "text": [
      " 24%|██▍       | 9460/39034 [28:07<32:51, 15.00it/s]"
     ]
    },
    {
     "name": "stdout",
     "output_type": "stream",
     "text": [
      "Skipping - Token count 9575 >= 2500\n",
      "Skipping - Token count 9575 >= 2500\n",
      "Skipping - Token count 9575 >= 2500\n",
      "Skipping - Token count 9547 >= 2500\n"
     ]
    },
    {
     "name": "stderr",
     "output_type": "stream",
     "text": [
      " 24%|██▍       | 9464/39034 [28:07<32:50, 15.00it/s]"
     ]
    },
    {
     "name": "stdout",
     "output_type": "stream",
     "text": [
      "Skipping - Token count 9575 >= 2500\n",
      "Skipping - Token count 9575 >= 2500\n",
      "Skipping - Token count 9547 >= 2500\n",
      "Skipping - Token count 9547 >= 2500\n"
     ]
    },
    {
     "name": "stderr",
     "output_type": "stream",
     "text": [
      " 24%|██▍       | 9468/39034 [28:08<33:24, 14.75it/s]"
     ]
    },
    {
     "name": "stdout",
     "output_type": "stream",
     "text": [
      "Skipping - Token count 9575 >= 2500\n",
      "Skipping - Token count 9575 >= 2500\n",
      "Skipping - Token count 9575 >= 2500\n",
      "Skipping - Token count 9575 >= 2500\n"
     ]
    },
    {
     "name": "stderr",
     "output_type": "stream",
     "text": [
      " 24%|██▍       | 9472/39034 [28:08<33:21, 14.77it/s]"
     ]
    },
    {
     "name": "stdout",
     "output_type": "stream",
     "text": [
      "Skipping - Token count 9575 >= 2500\n",
      "Skipping - Token count 9575 >= 2500\n",
      "Skipping - Token count 9575 >= 2500\n",
      "Skipping - Token count 9575 >= 2500\n"
     ]
    },
    {
     "name": "stderr",
     "output_type": "stream",
     "text": [
      " 24%|██▍       | 9476/39034 [28:08<33:50, 14.56it/s]"
     ]
    },
    {
     "name": "stdout",
     "output_type": "stream",
     "text": [
      "Skipping - Token count 9575 >= 2500\n",
      "Skipping - Token count 9547 >= 2500\n",
      "Skipping - Token count 9575 >= 2500\n",
      "Skipping - Token count 9575 >= 2500\n"
     ]
    },
    {
     "name": "stderr",
     "output_type": "stream",
     "text": [
      " 24%|██▍       | 9480/39034 [28:09<32:28, 15.17it/s]"
     ]
    },
    {
     "name": "stdout",
     "output_type": "stream",
     "text": [
      "Skipping - Token count 9575 >= 2500\n",
      "Skipping - Token count 9547 >= 2500\n",
      "Skipping - Token count 9575 >= 2500\n",
      "Skipping - Token count 9575 >= 2500\n"
     ]
    },
    {
     "name": "stderr",
     "output_type": "stream",
     "text": [
      " 24%|██▍       | 9484/39034 [28:09<32:47, 15.02it/s]"
     ]
    },
    {
     "name": "stdout",
     "output_type": "stream",
     "text": [
      "Skipping - Token count 9575 >= 2500\n",
      "Skipping - Token count 9575 >= 2500\n",
      "Skipping - Token count 9547 >= 2500\n",
      "Skipping - Token count 9575 >= 2500\n"
     ]
    },
    {
     "name": "stderr",
     "output_type": "stream",
     "text": [
      " 24%|██▍       | 9488/39034 [28:09<33:23, 14.75it/s]"
     ]
    },
    {
     "name": "stdout",
     "output_type": "stream",
     "text": [
      "Skipping - Token count 9575 >= 2500\n",
      "Skipping - Token count 9575 >= 2500\n",
      "Skipping - Token count 9575 >= 2500\n",
      "Skipping - Token count 9547 >= 2500\n"
     ]
    },
    {
     "name": "stderr",
     "output_type": "stream",
     "text": [
      " 24%|██▍       | 9492/39034 [28:09<32:45, 15.03it/s]"
     ]
    },
    {
     "name": "stdout",
     "output_type": "stream",
     "text": [
      "Skipping - Token count 9575 >= 2500\n",
      "Skipping - Token count 9572 >= 2500\n",
      "Skipping - Token count 9575 >= 2500\n",
      "Skipping - Token count 9547 >= 2500\n"
     ]
    },
    {
     "name": "stderr",
     "output_type": "stream",
     "text": [
      " 24%|██▍       | 9496/39034 [28:10<31:49, 15.47it/s]"
     ]
    },
    {
     "name": "stdout",
     "output_type": "stream",
     "text": [
      "Skipping - Token count 9547 >= 2500\n",
      "Skipping - Token count 9575 >= 2500\n",
      "Skipping - Token count 9547 >= 2500\n",
      "Skipping - Token count 9547 >= 2500\n"
     ]
    },
    {
     "name": "stderr",
     "output_type": "stream",
     "text": [
      " 24%|██▍       | 9500/39034 [28:10<31:41, 15.53it/s]"
     ]
    },
    {
     "name": "stdout",
     "output_type": "stream",
     "text": [
      "Skipping - Token count 9575 >= 2500\n",
      "Skipping - Token count 9575 >= 2500\n",
      "Skipping - Token count 9575 >= 2500\n",
      "Skipping - Token count 9575 >= 2500\n"
     ]
    },
    {
     "name": "stderr",
     "output_type": "stream",
     "text": [
      " 24%|██▍       | 9502/39034 [28:10<33:40, 14.62it/s]"
     ]
    },
    {
     "name": "stdout",
     "output_type": "stream",
     "text": [
      "Skipping - Token count 9547 >= 2500\n",
      "Skipping - Token count 9575 >= 2500\n",
      "Skipping - Token count 9580 >= 2500\n",
      "Skipping - Token count 9575 >= 2500\n"
     ]
    },
    {
     "name": "stderr",
     "output_type": "stream",
     "text": [
      " 24%|██▍       | 9507/39034 [28:10<31:18, 15.72it/s]"
     ]
    },
    {
     "name": "stdout",
     "output_type": "stream",
     "text": [
      "Skipping - Token count 9547 >= 2500\n",
      "Skipping - Token count 9575 >= 2500\n",
      "Skipping - Token count 9575 >= 2500\n",
      "Skipping - Token count 9575 >= 2500\n"
     ]
    },
    {
     "name": "stderr",
     "output_type": "stream",
     "text": [
      " 24%|██▍       | 9511/39034 [28:11<30:24, 16.18it/s]"
     ]
    },
    {
     "name": "stdout",
     "output_type": "stream",
     "text": [
      "Skipping - Token count 9575 >= 2500\n",
      "Skipping - Token count 9575 >= 2500\n",
      "Skipping - Token count 9547 >= 2500\n",
      "Skipping - Token count 9575 >= 2500\n"
     ]
    },
    {
     "name": "stderr",
     "output_type": "stream",
     "text": [
      " 24%|██▍       | 9516/39034 [28:11<31:00, 15.87it/s]"
     ]
    },
    {
     "name": "stdout",
     "output_type": "stream",
     "text": [
      "Skipping - Token count 9575 >= 2500\n",
      "Skipping - Token count 9575 >= 2500\n",
      "Skipping - Token count 9575 >= 2500\n",
      "Skipping - Token count 9547 >= 2500\n"
     ]
    },
    {
     "name": "stderr",
     "output_type": "stream",
     "text": [
      " 24%|██▍       | 9520/39034 [28:11<31:38, 15.55it/s]"
     ]
    },
    {
     "name": "stdout",
     "output_type": "stream",
     "text": [
      "Skipping - Token count 9575 >= 2500\n",
      "Skipping - Token count 9575 >= 2500\n",
      "Skipping - Token count 9575 >= 2500\n",
      "Skipping - Token count 9575 >= 2500\n"
     ]
    },
    {
     "name": "stderr",
     "output_type": "stream",
     "text": [
      " 24%|██▍       | 9524/39034 [28:11<31:08, 15.79it/s]"
     ]
    },
    {
     "name": "stdout",
     "output_type": "stream",
     "text": [
      "Skipping - Token count 9575 >= 2500\n",
      "Skipping - Token count 9575 >= 2500\n",
      "Skipping - Token count 9575 >= 2500\n",
      "Skipping - Token count 9575 >= 2500\n"
     ]
    },
    {
     "name": "stderr",
     "output_type": "stream",
     "text": [
      " 24%|██▍       | 9526/39034 [28:12<32:03, 15.34it/s]"
     ]
    },
    {
     "name": "stdout",
     "output_type": "stream",
     "text": [
      "Skipping - Token count 9575 >= 2500\n",
      "Skipping - Token count 9575 >= 2500\n",
      "Skipping - Token count 9575 >= 2500\n",
      "Skipping - Token count 9547 >= 2500\n",
      "\n",
      "Processed 9520/39034 files\n",
      "Valid results: 40\n",
      "Unique function/input pairs: 40\n"
     ]
    },
    {
     "name": "stderr",
     "output_type": "stream",
     "text": [
      " 24%|██▍       | 9532/39034 [28:12<29:33, 16.64it/s]"
     ]
    },
    {
     "name": "stdout",
     "output_type": "stream",
     "text": [
      "Skipping - Token count 9575 >= 2500\n",
      "Skipping - Token count 9575 >= 2500\n",
      "Skipping - Token count 9575 >= 2500\n",
      "Skipping - Token count 9575 >= 2500\n"
     ]
    },
    {
     "name": "stderr",
     "output_type": "stream",
     "text": [
      " 24%|██▍       | 9536/39034 [28:12<31:32, 15.59it/s]"
     ]
    },
    {
     "name": "stdout",
     "output_type": "stream",
     "text": [
      "Skipping - Token count 9547 >= 2500\n",
      "Skipping - Token count 9575 >= 2500\n",
      "Skipping - Token count 9575 >= 2500\n",
      "Skipping - Token count 9575 >= 2500\n"
     ]
    },
    {
     "name": "stderr",
     "output_type": "stream",
     "text": [
      " 24%|██▍       | 9540/39034 [28:12<32:35, 15.08it/s]"
     ]
    },
    {
     "name": "stdout",
     "output_type": "stream",
     "text": [
      "Skipping - Token count 9575 >= 2500\n",
      "Skipping - Token count 9575 >= 2500\n",
      "Skipping - Token count 9575 >= 2500\n",
      "Skipping - Token count 9575 >= 2500\n"
     ]
    },
    {
     "name": "stderr",
     "output_type": "stream",
     "text": [
      " 24%|██▍       | 9544/39034 [28:13<32:56, 14.92it/s]"
     ]
    },
    {
     "name": "stdout",
     "output_type": "stream",
     "text": [
      "Skipping - Token count 9547 >= 2500\n",
      "Skipping - Token count 9547 >= 2500\n",
      "Skipping - Token count 9547 >= 2500\n",
      "Skipping - Token count 9575 >= 2500\n"
     ]
    },
    {
     "name": "stderr",
     "output_type": "stream",
     "text": [
      " 24%|██▍       | 9548/39034 [28:13<32:17, 15.22it/s]"
     ]
    },
    {
     "name": "stdout",
     "output_type": "stream",
     "text": [
      "Skipping - Token count 9575 >= 2500\n",
      "Skipping - Token count 9575 >= 2500\n",
      "Skipping - Token count 9575 >= 2500\n",
      "Skipping - Token count 9575 >= 2500\n"
     ]
    },
    {
     "name": "stderr",
     "output_type": "stream",
     "text": [
      " 24%|██▍       | 9552/39034 [28:13<32:04, 15.32it/s]"
     ]
    },
    {
     "name": "stdout",
     "output_type": "stream",
     "text": [
      "Skipping - Token count 9575 >= 2500\n",
      "Skipping - Token count 9575 >= 2500\n",
      "Skipping - Token count 9575 >= 2500\n",
      "Skipping - Token count 9547 >= 2500\n"
     ]
    },
    {
     "name": "stderr",
     "output_type": "stream",
     "text": [
      " 24%|██▍       | 9554/39034 [28:13<35:23, 13.88it/s]"
     ]
    },
    {
     "name": "stdout",
     "output_type": "stream",
     "text": [
      "Skipping - Token count 9575 >= 2500\n",
      "Skipping - Token count 9575 >= 2500\n",
      "Skipping - Token count 9575 >= 2500\n"
     ]
    },
    {
     "name": "stderr",
     "output_type": "stream",
     "text": [
      " 24%|██▍       | 9558/39034 [28:14<37:48, 12.99it/s]"
     ]
    },
    {
     "name": "stdout",
     "output_type": "stream",
     "text": [
      "Skipping - Token count 9575 >= 2500\n",
      "Skipping - Token count 9575 >= 2500\n",
      "Skipping - Token count 9575 >= 2500\n"
     ]
    },
    {
     "name": "stderr",
     "output_type": "stream",
     "text": [
      " 24%|██▍       | 9560/39034 [28:14<34:47, 14.12it/s]"
     ]
    },
    {
     "name": "stdout",
     "output_type": "stream",
     "text": [
      "Skipping - Token count 9575 >= 2500\n",
      "Skipping - Token count 9575 >= 2500\n",
      "Skipping - Token count 9547 >= 2500\n"
     ]
    },
    {
     "name": "stderr",
     "output_type": "stream",
     "text": [
      " 25%|██▍       | 9564/39034 [28:14<35:17, 13.92it/s]"
     ]
    },
    {
     "name": "stdout",
     "output_type": "stream",
     "text": [
      "Skipping - Token count 9575 >= 2500\n",
      "Skipping - Token count 9547 >= 2500\n",
      "Skipping - Token count 9547 >= 2500\n"
     ]
    },
    {
     "name": "stderr",
     "output_type": "stream",
     "text": [
      " 25%|██▍       | 9566/39034 [28:14<37:40, 13.04it/s]"
     ]
    },
    {
     "name": "stdout",
     "output_type": "stream",
     "text": [
      "Skipping - Token count 9575 >= 2500\n",
      "Skipping - Token count 9575 >= 2500\n",
      "Skipping - Token count 9575 >= 2500\n"
     ]
    },
    {
     "name": "stderr",
     "output_type": "stream",
     "text": [
      " 25%|██▍       | 9570/39034 [28:15<36:27, 13.47it/s]"
     ]
    },
    {
     "name": "stdout",
     "output_type": "stream",
     "text": [
      "Skipping - Token count 9575 >= 2500\n",
      "Skipping - Token count 9547 >= 2500\n",
      "Skipping - Token count 9575 >= 2500\n",
      "Skipping - Token count 9575 >= 2500\n"
     ]
    },
    {
     "name": "stderr",
     "output_type": "stream",
     "text": [
      " 25%|██▍       | 9573/39034 [28:15<31:45, 15.46it/s]"
     ]
    },
    {
     "name": "stdout",
     "output_type": "stream",
     "text": [
      "Skipping - Token count 9575 >= 2500\n",
      "Skipping - Token count 9575 >= 2500\n",
      "Skipping - Token count 9575 >= 2500\n"
     ]
    },
    {
     "name": "stderr",
     "output_type": "stream",
     "text": [
      " 25%|██▍       | 9577/39034 [28:15<31:04, 15.80it/s]"
     ]
    },
    {
     "name": "stdout",
     "output_type": "stream",
     "text": [
      "Skipping - Token count 9575 >= 2500\n",
      "Skipping - Token count 9575 >= 2500\n",
      "Skipping - Token count 9575 >= 2500\n"
     ]
    },
    {
     "name": "stderr",
     "output_type": "stream",
     "text": [
      " 25%|██▍       | 9581/39034 [28:15<31:37, 15.52it/s]"
     ]
    },
    {
     "name": "stdout",
     "output_type": "stream",
     "text": [
      "Skipping - Token count 9575 >= 2500\n",
      "Skipping - Token count 9575 >= 2500\n",
      "Skipping - Token count 9575 >= 2500\n",
      "Skipping - Token count 9575 >= 2500\n"
     ]
    },
    {
     "name": "stderr",
     "output_type": "stream",
     "text": [
      " 25%|██▍       | 9585/39034 [28:16<32:08, 15.27it/s]"
     ]
    },
    {
     "name": "stdout",
     "output_type": "stream",
     "text": [
      "Skipping - Token count 9575 >= 2500\n",
      "Skipping - Token count 9575 >= 2500\n",
      "Skipping - Token count 9575 >= 2500\n",
      "Skipping - Token count 9547 >= 2500\n"
     ]
    },
    {
     "name": "stderr",
     "output_type": "stream",
     "text": [
      " 25%|██▍       | 9589/39034 [28:16<32:33, 15.07it/s]"
     ]
    },
    {
     "name": "stdout",
     "output_type": "stream",
     "text": [
      "Skipping - Token count 9547 >= 2500\n",
      "Skipping - Token count 9547 >= 2500\n",
      "Skipping - Token count 9575 >= 2500\n",
      "Skipping - Token count 9547 >= 2500\n"
     ]
    },
    {
     "name": "stderr",
     "output_type": "stream",
     "text": [
      " 25%|██▍       | 9591/39034 [28:16<34:34, 14.19it/s]"
     ]
    },
    {
     "name": "stdout",
     "output_type": "stream",
     "text": [
      "Skipping - Token count 9575 >= 2500\n",
      "Skipping - Token count 9575 >= 2500\n",
      "Skipping - Token count 9575 >= 2500\n",
      "Skipping - Token count 9575 >= 2500\n"
     ]
    },
    {
     "name": "stderr",
     "output_type": "stream",
     "text": [
      " 25%|██▍       | 9596/39034 [28:16<31:12, 15.73it/s]"
     ]
    },
    {
     "name": "stdout",
     "output_type": "stream",
     "text": [
      "Skipping - Token count 9575 >= 2500\n",
      "Skipping - Token count 9575 >= 2500\n",
      "Skipping - Token count 9575 >= 2500\n",
      "Skipping - Token count 9547 >= 2500\n"
     ]
    },
    {
     "name": "stderr",
     "output_type": "stream",
     "text": [
      " 25%|██▍       | 9600/39034 [28:17<30:40, 15.99it/s]"
     ]
    },
    {
     "name": "stdout",
     "output_type": "stream",
     "text": [
      "Skipping - Token count 9575 >= 2500\n",
      "Skipping - Token count 9575 >= 2500\n",
      "Skipping - Token count 9575 >= 2500\n",
      "Skipping - Token count 9575 >= 2500\n"
     ]
    },
    {
     "name": "stderr",
     "output_type": "stream",
     "text": [
      " 25%|██▍       | 9604/39034 [28:17<32:19, 15.17it/s]"
     ]
    },
    {
     "name": "stdout",
     "output_type": "stream",
     "text": [
      "Skipping - Token count 9575 >= 2500\n",
      "Skipping - Token count 9575 >= 2500\n",
      "Skipping - Token count 9575 >= 2500\n"
     ]
    },
    {
     "name": "stderr",
     "output_type": "stream",
     "text": [
      " 25%|██▍       | 9608/39034 [28:17<32:55, 14.89it/s]"
     ]
    },
    {
     "name": "stdout",
     "output_type": "stream",
     "text": [
      "Skipping - Token count 9575 >= 2500\n",
      "Skipping - Token count 9575 >= 2500\n",
      "Skipping - Token count 9575 >= 2500\n",
      "Skipping - Token count 9575 >= 2500\n",
      "\n",
      "Processed 9600/39034 files\n",
      "Valid results: 40\n",
      "Unique function/input pairs: 40\n"
     ]
    },
    {
     "name": "stderr",
     "output_type": "stream",
     "text": [
      " 25%|██▍       | 9610/39034 [28:17<31:40, 15.48it/s]"
     ]
    },
    {
     "name": "stdout",
     "output_type": "stream",
     "text": [
      "Skipping - Token count 9575 >= 2500\n",
      "Skipping - Token count 9575 >= 2500\n",
      "Skipping - Token count 9575 >= 2500\n"
     ]
    },
    {
     "name": "stderr",
     "output_type": "stream",
     "text": [
      " 25%|██▍       | 9614/39034 [28:18<31:19, 15.65it/s]"
     ]
    },
    {
     "name": "stdout",
     "output_type": "stream",
     "text": [
      "Skipping - Token count 9547 >= 2500\n",
      "Skipping - Token count 9575 >= 2500\n",
      "Skipping - Token count 9575 >= 2500\n"
     ]
    },
    {
     "name": "stderr",
     "output_type": "stream",
     "text": [
      " 25%|██▍       | 9618/39034 [28:18<31:32, 15.55it/s]"
     ]
    },
    {
     "name": "stdout",
     "output_type": "stream",
     "text": [
      "Skipping - Token count 9547 >= 2500\n",
      "Skipping - Token count 9575 >= 2500\n",
      "Skipping - Token count 9575 >= 2500\n",
      "Skipping - Token count 9575 >= 2500\n"
     ]
    },
    {
     "name": "stderr",
     "output_type": "stream",
     "text": [
      " 25%|██▍       | 9622/39034 [28:18<31:32, 15.54it/s]"
     ]
    },
    {
     "name": "stdout",
     "output_type": "stream",
     "text": [
      "Skipping - Token count 9575 >= 2500\n",
      "Skipping - Token count 9575 >= 2500\n",
      "Skipping - Token count 9575 >= 2500\n",
      "Skipping - Token count 9572 >= 2500\n"
     ]
    },
    {
     "name": "stderr",
     "output_type": "stream",
     "text": [
      " 25%|██▍       | 9626/39034 [28:18<32:22, 15.14it/s]"
     ]
    },
    {
     "name": "stdout",
     "output_type": "stream",
     "text": [
      "Skipping - Token count 9547 >= 2500\n",
      "Skipping - Token count 9575 >= 2500\n",
      "Skipping - Token count 9575 >= 2500\n",
      "Skipping - Token count 9575 >= 2500\n"
     ]
    },
    {
     "name": "stderr",
     "output_type": "stream",
     "text": [
      " 25%|██▍       | 9630/39034 [28:19<31:57, 15.33it/s]"
     ]
    },
    {
     "name": "stdout",
     "output_type": "stream",
     "text": [
      "Skipping - Token count 9547 >= 2500\n",
      "Skipping - Token count 9575 >= 2500\n",
      "Skipping - Token count 9547 >= 2500\n",
      "Skipping - Token count 9547 >= 2500\n"
     ]
    },
    {
     "name": "stderr",
     "output_type": "stream",
     "text": [
      " 25%|██▍       | 9634/39034 [28:19<34:54, 14.04it/s]"
     ]
    },
    {
     "name": "stdout",
     "output_type": "stream",
     "text": [
      "Skipping - Token count 9547 >= 2500\n",
      "Skipping - Token count 9575 >= 2500\n",
      "Skipping - Token count 9575 >= 2500\n",
      "Skipping - Token count 9575 >= 2500\n"
     ]
    },
    {
     "name": "stderr",
     "output_type": "stream",
     "text": [
      " 25%|██▍       | 9638/39034 [28:19<33:53, 14.45it/s]"
     ]
    },
    {
     "name": "stdout",
     "output_type": "stream",
     "text": [
      "Skipping - Token count 9547 >= 2500\n",
      "Skipping - Token count 9575 >= 2500\n",
      "Skipping - Token count 9575 >= 2500\n",
      "Skipping - Token count 9575 >= 2500\n"
     ]
    },
    {
     "name": "stderr",
     "output_type": "stream",
     "text": [
      " 25%|██▍       | 9642/39034 [28:19<33:56, 14.43it/s]"
     ]
    },
    {
     "name": "stdout",
     "output_type": "stream",
     "text": [
      "Skipping - Token count 9547 >= 2500\n",
      "Skipping - Token count 9575 >= 2500\n",
      "Skipping - Token count 9575 >= 2500\n",
      "Skipping - Token count 9575 >= 2500\n"
     ]
    },
    {
     "name": "stderr",
     "output_type": "stream",
     "text": [
      " 25%|██▍       | 9644/39034 [28:20<35:29, 13.80it/s]"
     ]
    },
    {
     "name": "stdout",
     "output_type": "stream",
     "text": [
      "Skipping - Token count 9575 >= 2500\n",
      "Skipping - Token count 9547 >= 2500\n",
      "Skipping - Token count 9575 >= 2500\n"
     ]
    },
    {
     "name": "stderr",
     "output_type": "stream",
     "text": [
      " 25%|██▍       | 9648/39034 [28:20<36:51, 13.29it/s]"
     ]
    },
    {
     "name": "stdout",
     "output_type": "stream",
     "text": [
      "Skipping - Token count 9547 >= 2500\n",
      "Skipping - Token count 9575 >= 2500\n",
      "Skipping - Token count 9575 >= 2500\n"
     ]
    },
    {
     "name": "stderr",
     "output_type": "stream",
     "text": [
      " 25%|██▍       | 9652/39034 [28:20<34:13, 14.31it/s]"
     ]
    },
    {
     "name": "stdout",
     "output_type": "stream",
     "text": [
      "Skipping - Token count 9547 >= 2500\n",
      "Skipping - Token count 9547 >= 2500\n",
      "Skipping - Token count 9575 >= 2500\n",
      "Skipping - Token count 9547 >= 2500\n"
     ]
    },
    {
     "name": "stderr",
     "output_type": "stream",
     "text": [
      " 25%|██▍       | 9654/39034 [28:20<31:17, 15.64it/s]"
     ]
    },
    {
     "name": "stdout",
     "output_type": "stream",
     "text": [
      "Skipping - Token count 9575 >= 2500\n",
      "Skipping - Token count 9575 >= 2500\n",
      "Skipping - Token count 9575 >= 2500\n"
     ]
    },
    {
     "name": "stderr",
     "output_type": "stream",
     "text": [
      " 25%|██▍       | 9658/39034 [28:21<33:45, 14.51it/s]"
     ]
    },
    {
     "name": "stdout",
     "output_type": "stream",
     "text": [
      "Skipping - Token count 9575 >= 2500\n",
      "Skipping - Token count 9575 >= 2500\n",
      "Skipping - Token count 9575 >= 2500\n",
      "Skipping - Token count 9575 >= 2500\n"
     ]
    },
    {
     "name": "stderr",
     "output_type": "stream",
     "text": [
      " 25%|██▍       | 9662/39034 [28:21<32:05, 15.26it/s]"
     ]
    },
    {
     "name": "stdout",
     "output_type": "stream",
     "text": [
      "Skipping - Token count 9575 >= 2500\n",
      "Skipping - Token count 9575 >= 2500\n",
      "Skipping - Token count 9575 >= 2500\n"
     ]
    },
    {
     "name": "stderr",
     "output_type": "stream",
     "text": [
      " 25%|██▍       | 9666/39034 [28:21<31:19, 15.62it/s]"
     ]
    },
    {
     "name": "stdout",
     "output_type": "stream",
     "text": [
      "Skipping - Token count 9575 >= 2500\n",
      "Skipping - Token count 9575 >= 2500\n",
      "Skipping - Token count 9575 >= 2500\n",
      "Skipping - Token count 9547 >= 2500\n"
     ]
    },
    {
     "name": "stderr",
     "output_type": "stream",
     "text": [
      " 25%|██▍       | 9668/39034 [28:21<34:02, 14.38it/s]"
     ]
    },
    {
     "name": "stdout",
     "output_type": "stream",
     "text": [
      "Skipping - Token count 9547 >= 2500\n",
      "Skipping - Token count 9575 >= 2500\n",
      "Skipping - Token count 9575 >= 2500\n",
      "Skipping - Token count 9575 >= 2500\n"
     ]
    },
    {
     "name": "stderr",
     "output_type": "stream",
     "text": [
      " 25%|██▍       | 9672/39034 [28:22<33:59, 14.40it/s]"
     ]
    },
    {
     "name": "stdout",
     "output_type": "stream",
     "text": [
      "Skipping - Token count 9575 >= 2500\n",
      "Skipping - Token count 9575 >= 2500\n",
      "Skipping - Token count 9575 >= 2500\n"
     ]
    },
    {
     "name": "stderr",
     "output_type": "stream",
     "text": [
      " 25%|██▍       | 9676/39034 [28:22<35:26, 13.80it/s]"
     ]
    },
    {
     "name": "stdout",
     "output_type": "stream",
     "text": [
      "Skipping - Token count 9575 >= 2500\n",
      "Skipping - Token count 9575 >= 2500\n",
      "Skipping - Token count 9575 >= 2500\n",
      "Skipping - Token count 9575 >= 2500\n"
     ]
    },
    {
     "name": "stderr",
     "output_type": "stream",
     "text": [
      " 25%|██▍       | 9680/39034 [28:22<35:03, 13.95it/s]"
     ]
    },
    {
     "name": "stdout",
     "output_type": "stream",
     "text": [
      "Skipping - Token count 9575 >= 2500\n",
      "Skipping - Token count 9547 >= 2500\n",
      "Skipping - Token count 9575 >= 2500\n"
     ]
    },
    {
     "name": "stderr",
     "output_type": "stream",
     "text": [
      " 25%|██▍       | 9682/39034 [28:22<32:14, 15.18it/s]"
     ]
    },
    {
     "name": "stdout",
     "output_type": "stream",
     "text": [
      "Skipping - Token count 9575 >= 2500\n",
      "Skipping - Token count 9575 >= 2500\n",
      "Skipping - Token count 9575 >= 2500\n"
     ]
    },
    {
     "name": "stderr",
     "output_type": "stream",
     "text": [
      " 25%|██▍       | 9686/39034 [28:22<31:19, 15.62it/s]"
     ]
    },
    {
     "name": "stdout",
     "output_type": "stream",
     "text": [
      "Skipping - Token count 9575 >= 2500\n",
      "Skipping - Token count 9575 >= 2500\n",
      "Skipping - Token count 9575 >= 2500\n",
      "Skipping - Token count 9575 >= 2500\n"
     ]
    },
    {
     "name": "stderr",
     "output_type": "stream",
     "text": [
      " 25%|██▍       | 9688/39034 [28:23<34:41, 14.10it/s]"
     ]
    },
    {
     "name": "stdout",
     "output_type": "stream",
     "text": [
      "Skipping - Token count 9547 >= 2500\n",
      "\n",
      "Processed 9680/39034 files\n",
      "Valid results: 40\n",
      "Unique function/input pairs: 40\n"
     ]
    },
    {
     "name": "stderr",
     "output_type": "stream",
     "text": [
      " 25%|██▌       | 9769/39034 [28:37<1:25:34,  5.70it/s]"
     ]
    },
    {
     "name": "stdout",
     "output_type": "stream",
     "text": [
      "\n",
      "Processed 9760/39034 files\n",
      "Valid results: 40\n",
      "Unique function/input pairs: 40\n"
     ]
    },
    {
     "name": "stderr",
     "output_type": "stream",
     "text": [
      " 25%|██▌       | 9848/39034 [28:50<1:29:27,  5.44it/s]"
     ]
    },
    {
     "name": "stdout",
     "output_type": "stream",
     "text": [
      "\n",
      "Processed 9840/39034 files\n",
      "Valid results: 40\n",
      "Unique function/input pairs: 40\n"
     ]
    },
    {
     "name": "stderr",
     "output_type": "stream",
     "text": [
      " 25%|██▌       | 9928/39034 [29:04<1:32:17,  5.26it/s]"
     ]
    },
    {
     "name": "stdout",
     "output_type": "stream",
     "text": [
      "\n",
      "Processed 9920/39034 files\n",
      "Valid results: 40\n",
      "Unique function/input pairs: 40\n"
     ]
    },
    {
     "name": "stderr",
     "output_type": "stream",
     "text": [
      " 26%|██▌       | 10009/39034 [29:17<1:08:34,  7.06it/s]"
     ]
    },
    {
     "name": "stdout",
     "output_type": "stream",
     "text": [
      "\n",
      "Processed 10000/39034 files\n",
      "Valid results: 40\n",
      "Unique function/input pairs: 40\n"
     ]
    },
    {
     "name": "stderr",
     "output_type": "stream",
     "text": [
      " 26%|██▌       | 10089/39034 [29:30<1:08:51,  7.01it/s]"
     ]
    },
    {
     "name": "stdout",
     "output_type": "stream",
     "text": [
      "\n",
      "Processed 10080/39034 files\n",
      "Valid results: 40\n",
      "Unique function/input pairs: 40\n"
     ]
    },
    {
     "name": "stderr",
     "output_type": "stream",
     "text": [
      " 26%|██▌       | 10169/39034 [29:43<1:20:51,  5.95it/s]"
     ]
    },
    {
     "name": "stdout",
     "output_type": "stream",
     "text": [
      "\n",
      "Processed 10160/39034 files\n",
      "Valid results: 40\n",
      "Unique function/input pairs: 40\n"
     ]
    },
    {
     "name": "stderr",
     "output_type": "stream",
     "text": [
      " 26%|██▋       | 10250/39034 [29:55<1:05:44,  7.30it/s]"
     ]
    },
    {
     "name": "stdout",
     "output_type": "stream",
     "text": [
      "\n",
      "Processed 10240/39034 files\n",
      "Valid results: 42\n",
      "Unique function/input pairs: 42\n"
     ]
    },
    {
     "name": "stderr",
     "output_type": "stream",
     "text": [
      " 26%|██▋       | 10329/39034 [30:04<43:48, 10.92it/s]  "
     ]
    },
    {
     "name": "stdout",
     "output_type": "stream",
     "text": [
      "\n",
      "Processed 10320/39034 files\n",
      "Valid results: 42\n",
      "Unique function/input pairs: 42\n"
     ]
    },
    {
     "name": "stderr",
     "output_type": "stream",
     "text": [
      " 27%|██▋       | 10406/39034 [30:15<2:13:58,  3.56it/s]"
     ]
    },
    {
     "name": "stdout",
     "output_type": "stream",
     "text": [
      "\n",
      "Processed 10400/39034 files\n",
      "Valid results: 42\n",
      "Unique function/input pairs: 42\n"
     ]
    },
    {
     "name": "stderr",
     "output_type": "stream",
     "text": [
      " 27%|██▋       | 10490/39034 [30:25<1:03:33,  7.49it/s]"
     ]
    },
    {
     "name": "stdout",
     "output_type": "stream",
     "text": [
      "\n",
      "Processed 10480/39034 files\n",
      "Valid results: 42\n",
      "Unique function/input pairs: 42\n"
     ]
    },
    {
     "name": "stderr",
     "output_type": "stream",
     "text": [
      " 27%|██▋       | 10569/39034 [30:34<37:05, 12.79it/s]  "
     ]
    },
    {
     "name": "stdout",
     "output_type": "stream",
     "text": [
      "\n",
      "Processed 10560/39034 files\n",
      "Valid results: 42\n",
      "Unique function/input pairs: 42\n"
     ]
    },
    {
     "name": "stderr",
     "output_type": "stream",
     "text": [
      " 27%|██▋       | 10650/39034 [30:44<45:02, 10.50it/s]  "
     ]
    },
    {
     "name": "stdout",
     "output_type": "stream",
     "text": [
      "\n",
      "Processed 10640/39034 files\n",
      "Valid results: 42\n",
      "Unique function/input pairs: 42\n"
     ]
    },
    {
     "name": "stderr",
     "output_type": "stream",
     "text": [
      " 27%|██▋       | 10730/39034 [30:54<50:20,  9.37it/s]  "
     ]
    },
    {
     "name": "stdout",
     "output_type": "stream",
     "text": [
      "\n",
      "Processed 10720/39034 files\n",
      "Valid results: 42\n",
      "Unique function/input pairs: 42\n"
     ]
    },
    {
     "name": "stderr",
     "output_type": "stream",
     "text": [
      " 28%|██▊       | 10809/39034 [31:03<54:25,  8.64it/s]  "
     ]
    },
    {
     "name": "stdout",
     "output_type": "stream",
     "text": [
      "\n",
      "Processed 10800/39034 files\n",
      "Valid results: 42\n",
      "Unique function/input pairs: 42\n"
     ]
    },
    {
     "name": "stderr",
     "output_type": "stream",
     "text": [
      " 28%|██▊       | 10891/39034 [31:13<32:18, 14.52it/s]  "
     ]
    },
    {
     "name": "stdout",
     "output_type": "stream",
     "text": [
      "\n",
      "Processed 10880/39034 files\n",
      "Valid results: 42\n",
      "Unique function/input pairs: 42\n"
     ]
    },
    {
     "name": "stderr",
     "output_type": "stream",
     "text": [
      " 28%|██▊       | 10968/39034 [31:22<52:46,  8.86it/s]  "
     ]
    },
    {
     "name": "stdout",
     "output_type": "stream",
     "text": [
      "\n",
      "Processed 10960/39034 files\n",
      "Valid results: 42\n",
      "Unique function/input pairs: 42\n"
     ]
    },
    {
     "name": "stderr",
     "output_type": "stream",
     "text": [
      " 28%|██▊       | 11026/39034 [31:28<38:59, 11.97it/s]  Falling back to HTML parser for /home/XXX/trace-modeling-oss-fuzz-c/trace_test/traces/opusfile_own/trace_opusfile_fuzzer_exe/log_0.xml\n",
      " 28%|██▊       | 11030/39034 [31:30<1:33:32,  4.99it/s]"
     ]
    },
    {
     "name": "stdout",
     "output_type": "stream",
     "text": [
      "Skipping - Token count 10673 >= 2500\n"
     ]
    },
    {
     "name": "stderr",
     "output_type": "stream",
     "text": [
      " 28%|██▊       | 11032/39034 [31:30<1:22:34,  5.65it/s]"
     ]
    },
    {
     "name": "stdout",
     "output_type": "stream",
     "text": [
      "Skipping - Token count 21569 >= 2500\n",
      "Skipping - Token count 21115 >= 2500\n",
      "Skipping - Token count 9444 >= 2500\n"
     ]
    },
    {
     "name": "stderr",
     "output_type": "stream",
     "text": [
      " 28%|██▊       | 11035/39034 [31:31<1:27:56,  5.31it/s]"
     ]
    },
    {
     "name": "stdout",
     "output_type": "stream",
     "text": [
      "Skipping - Token count 21112 >= 2500\n"
     ]
    },
    {
     "name": "stderr",
     "output_type": "stream",
     "text": [
      " 28%|██▊       | 11037/39034 [31:31<1:45:03,  4.44it/s]"
     ]
    },
    {
     "name": "stdout",
     "output_type": "stream",
     "text": [
      "Skipping - Token count 13060 >= 2500\n"
     ]
    },
    {
     "name": "stderr",
     "output_type": "stream",
     "text": [
      " 28%|██▊       | 11038/39034 [31:32<1:47:10,  4.35it/s]"
     ]
    },
    {
     "name": "stdout",
     "output_type": "stream",
     "text": [
      "Skipping - Token count 11359 >= 2500\n"
     ]
    },
    {
     "name": "stderr",
     "output_type": "stream",
     "text": [
      " 28%|██▊       | 11039/39034 [31:32<1:53:13,  4.12it/s]"
     ]
    },
    {
     "name": "stdout",
     "output_type": "stream",
     "text": [
      "Skipping - Token count 21763 >= 2500\n"
     ]
    },
    {
     "name": "stderr",
     "output_type": "stream",
     "text": [
      "Error processing source file: Source file not found: /home/XXX/trace-modeling-oss-fuzz-c/trace_test/traces/lldpd_own/trace_fuzz_sonmp_exe/src_30.xml\n",
      " 28%|██▊       | 11041/39034 [31:32<1:40:45,  4.63it/s]"
     ]
    },
    {
     "name": "stdout",
     "output_type": "stream",
     "text": [
      "Skipping - Token count 13342 >= 2500\n"
     ]
    },
    {
     "name": "stderr",
     "output_type": "stream",
     "text": [
      " 28%|██▊       | 11042/39034 [31:32<1:42:51,  4.54it/s]"
     ]
    },
    {
     "name": "stdout",
     "output_type": "stream",
     "text": [
      "Skipping - Token count 9900 >= 2500\n"
     ]
    },
    {
     "name": "stderr",
     "output_type": "stream",
     "text": [
      " 28%|██▊       | 11043/39034 [31:33<1:50:12,  4.23it/s]"
     ]
    },
    {
     "name": "stdout",
     "output_type": "stream",
     "text": [
      "Skipping - Token count 21973 >= 2500\n"
     ]
    },
    {
     "name": "stderr",
     "output_type": "stream",
     "text": [
      " 28%|██▊       | 11044/39034 [31:34<4:37:13,  1.68it/s]"
     ]
    },
    {
     "name": "stdout",
     "output_type": "stream",
     "text": [
      "Skipping - Token count 12021 >= 2500\n"
     ]
    },
    {
     "name": "stderr",
     "output_type": "stream",
     "text": [
      " 28%|██▊       | 11045/39034 [31:35<4:18:17,  1.81it/s]"
     ]
    },
    {
     "name": "stdout",
     "output_type": "stream",
     "text": [
      "Skipping - Token count 9899 >= 2500\n"
     ]
    },
    {
     "name": "stderr",
     "output_type": "stream",
     "text": [
      " 28%|██▊       | 11046/39034 [31:35<3:43:55,  2.08it/s]"
     ]
    },
    {
     "name": "stdout",
     "output_type": "stream",
     "text": [
      "Skipping - Token count 11342 >= 2500\n"
     ]
    },
    {
     "name": "stderr",
     "output_type": "stream",
     "text": [
      " 28%|██▊       | 11047/39034 [31:35<3:32:51,  2.19it/s]"
     ]
    },
    {
     "name": "stdout",
     "output_type": "stream",
     "text": [
      "Skipping - Token count 11288 >= 2500\n",
      "\n",
      "Processed 11040/39034 files\n",
      "Valid results: 43\n",
      "Unique function/input pairs: 43\n"
     ]
    },
    {
     "name": "stderr",
     "output_type": "stream",
     "text": [
      " 28%|██▊       | 11050/39034 [31:36<1:57:47,  3.96it/s]"
     ]
    },
    {
     "name": "stdout",
     "output_type": "stream",
     "text": [
      "Skipping - Token count 13608 >= 2500\n"
     ]
    },
    {
     "name": "stderr",
     "output_type": "stream",
     "text": [
      " 28%|██▊       | 11052/39034 [31:36<1:32:33,  5.04it/s]"
     ]
    },
    {
     "name": "stdout",
     "output_type": "stream",
     "text": [
      "Skipping - Token count 21113 >= 2500\n",
      "Skipping - Token count 11124 >= 2500\n"
     ]
    },
    {
     "name": "stderr",
     "output_type": "stream",
     "text": [
      " 28%|██▊       | 11055/39034 [31:36<1:20:09,  5.82it/s]"
     ]
    },
    {
     "name": "stdout",
     "output_type": "stream",
     "text": [
      "Skipping - Token count 9900 >= 2500\n",
      "Skipping - Token count 10674 >= 2500\n"
     ]
    },
    {
     "name": "stderr",
     "output_type": "stream",
     "text": [
      " 28%|██▊       | 11057/39034 [31:37<1:26:19,  5.40it/s]"
     ]
    },
    {
     "name": "stdout",
     "output_type": "stream",
     "text": [
      "Skipping - Token count 10648 >= 2500\n",
      "Skipping - Token count 21115 >= 2500\n"
     ]
    },
    {
     "name": "stderr",
     "output_type": "stream",
     "text": [
      " 28%|██▊       | 11059/39034 [31:38<2:14:51,  3.46it/s]"
     ]
    },
    {
     "name": "stdout",
     "output_type": "stream",
     "text": [
      "Skipping - Token count 21914 >= 2500\n"
     ]
    },
    {
     "name": "stderr",
     "output_type": "stream",
     "text": [
      "Falling back to HTML parser for /home/XXX/trace-modeling-oss-fuzz-c/trace_test/traces/lldpd_own/trace_fuzz_cdp_exe_exe/log_2.xml\n",
      "Fatal error processing trace file /home/XXX/trace-modeling-oss-fuzz-c/trace_test/traces/lldpd_own/trace_fuzz_cdp_exe_exe/log_2.xml: 'NoneType' object has no attribute 'xpath'\n",
      " 28%|██▊       | 11064/39034 [31:38<1:00:06,  7.76it/s]"
     ]
    },
    {
     "name": "stdout",
     "output_type": "stream",
     "text": [
      "Skipping - Token count 6995 >= 2500\n",
      "Skipping - Token count 6995 >= 2500\n"
     ]
    },
    {
     "name": "stderr",
     "output_type": "stream",
     "text": [
      " 28%|██▊       | 11066/39034 [31:38<1:15:04,  6.21it/s]"
     ]
    },
    {
     "name": "stdout",
     "output_type": "stream",
     "text": [
      "Skipping - Token count 6995 >= 2500\n"
     ]
    },
    {
     "name": "stderr",
     "output_type": "stream",
     "text": [
      " 28%|██▊       | 11067/39034 [31:38<1:19:14,  5.88it/s]"
     ]
    },
    {
     "name": "stdout",
     "output_type": "stream",
     "text": [
      "Skipping - Token count 6995 >= 2500\n"
     ]
    },
    {
     "name": "stderr",
     "output_type": "stream",
     "text": [
      " 28%|██▊       | 11068/39034 [31:39<1:26:59,  5.36it/s]"
     ]
    },
    {
     "name": "stdout",
     "output_type": "stream",
     "text": [
      "Skipping - Token count 6995 >= 2500\n"
     ]
    },
    {
     "name": "stderr",
     "output_type": "stream",
     "text": [
      " 28%|██▊       | 11069/39034 [31:39<1:36:49,  4.81it/s]"
     ]
    },
    {
     "name": "stdout",
     "output_type": "stream",
     "text": [
      "Skipping - Token count 6995 >= 2500\n"
     ]
    },
    {
     "name": "stderr",
     "output_type": "stream",
     "text": [
      " 28%|██▊       | 11070/39034 [31:39<1:36:24,  4.83it/s]"
     ]
    },
    {
     "name": "stdout",
     "output_type": "stream",
     "text": [
      "Skipping - Token count 6995 >= 2500\n",
      "Skipping - Token count 6995 >= 2500\n"
     ]
    },
    {
     "name": "stderr",
     "output_type": "stream",
     "text": [
      " 28%|██▊       | 11072/39034 [31:40<1:40:12,  4.65it/s]"
     ]
    },
    {
     "name": "stdout",
     "output_type": "stream",
     "text": [
      "Skipping - Token count 6995 >= 2500\n"
     ]
    },
    {
     "name": "stderr",
     "output_type": "stream",
     "text": [
      " 28%|██▊       | 11073/39034 [31:40<1:45:14,  4.43it/s]"
     ]
    },
    {
     "name": "stdout",
     "output_type": "stream",
     "text": [
      "Skipping - Token count 6995 >= 2500\n",
      "Skipping - Token count 6995 >= 2500\n"
     ]
    },
    {
     "name": "stderr",
     "output_type": "stream",
     "text": [
      " 28%|██▊       | 11075/39034 [31:40<1:40:08,  4.65it/s]"
     ]
    },
    {
     "name": "stdout",
     "output_type": "stream",
     "text": [
      "Skipping - Token count 6995 >= 2500\n"
     ]
    },
    {
     "name": "stderr",
     "output_type": "stream",
     "text": [
      " 28%|██▊       | 11077/39034 [31:41<1:26:42,  5.37it/s]"
     ]
    },
    {
     "name": "stdout",
     "output_type": "stream",
     "text": [
      "Skipping - Token count 6995 >= 2500\n"
     ]
    },
    {
     "name": "stderr",
     "output_type": "stream",
     "text": [
      " 28%|██▊       | 11078/39034 [31:41<1:29:56,  5.18it/s]"
     ]
    },
    {
     "name": "stdout",
     "output_type": "stream",
     "text": [
      "Skipping - Token count 6995 >= 2500\n"
     ]
    },
    {
     "name": "stderr",
     "output_type": "stream",
     "text": [
      " 28%|██▊       | 11079/39034 [31:41<1:39:07,  4.70it/s]"
     ]
    },
    {
     "name": "stdout",
     "output_type": "stream",
     "text": [
      "Skipping - Token count 6995 >= 2500\n"
     ]
    },
    {
     "name": "stderr",
     "output_type": "stream",
     "text": [
      " 28%|██▊       | 11080/39034 [31:41<1:41:43,  4.58it/s]"
     ]
    },
    {
     "name": "stdout",
     "output_type": "stream",
     "text": [
      "Skipping - Token count 6995 >= 2500\n"
     ]
    },
    {
     "name": "stderr",
     "output_type": "stream",
     "text": [
      " 28%|██▊       | 11081/39034 [31:42<1:51:42,  4.17it/s]"
     ]
    },
    {
     "name": "stdout",
     "output_type": "stream",
     "text": [
      "Skipping - Token count 6995 >= 2500\n"
     ]
    },
    {
     "name": "stderr",
     "output_type": "stream",
     "text": [
      " 28%|██▊       | 11082/39034 [31:42<1:54:27,  4.07it/s]"
     ]
    },
    {
     "name": "stdout",
     "output_type": "stream",
     "text": [
      "Skipping - Token count 6995 >= 2500\n"
     ]
    },
    {
     "name": "stderr",
     "output_type": "stream",
     "text": [
      " 28%|██▊       | 11083/39034 [31:42<1:49:58,  4.24it/s]"
     ]
    },
    {
     "name": "stdout",
     "output_type": "stream",
     "text": [
      "Skipping - Token count 6995 >= 2500\n"
     ]
    },
    {
     "name": "stderr",
     "output_type": "stream",
     "text": [
      " 28%|██▊       | 11084/39034 [31:42<1:53:31,  4.10it/s]"
     ]
    },
    {
     "name": "stdout",
     "output_type": "stream",
     "text": [
      "Skipping - Token count 6995 >= 2500\n"
     ]
    },
    {
     "name": "stderr",
     "output_type": "stream",
     "text": [
      " 28%|██▊       | 11085/39034 [31:43<1:49:30,  4.25it/s]"
     ]
    },
    {
     "name": "stdout",
     "output_type": "stream",
     "text": [
      "Skipping - Token count 6995 >= 2500\n"
     ]
    },
    {
     "name": "stderr",
     "output_type": "stream",
     "text": [
      " 28%|██▊       | 11086/39034 [31:43<1:54:38,  4.06it/s]"
     ]
    },
    {
     "name": "stdout",
     "output_type": "stream",
     "text": [
      "Skipping - Token count 6995 >= 2500\n"
     ]
    },
    {
     "name": "stderr",
     "output_type": "stream",
     "text": [
      " 28%|██▊       | 11087/39034 [31:43<1:50:52,  4.20it/s]"
     ]
    },
    {
     "name": "stdout",
     "output_type": "stream",
     "text": [
      "Skipping - Token count 6995 >= 2500\n"
     ]
    },
    {
     "name": "stderr",
     "output_type": "stream",
     "text": [
      " 28%|██▊       | 11088/39034 [31:43<1:55:13,  4.04it/s]"
     ]
    },
    {
     "name": "stdout",
     "output_type": "stream",
     "text": [
      "Skipping - Token count 6995 >= 2500\n"
     ]
    },
    {
     "name": "stderr",
     "output_type": "stream",
     "text": [
      " 28%|██▊       | 11089/39034 [31:44<1:50:20,  4.22it/s]"
     ]
    },
    {
     "name": "stdout",
     "output_type": "stream",
     "text": [
      "Skipping - Token count 6995 >= 2500\n"
     ]
    },
    {
     "name": "stderr",
     "output_type": "stream",
     "text": [
      " 28%|██▊       | 11090/39034 [31:44<1:54:25,  4.07it/s]"
     ]
    },
    {
     "name": "stdout",
     "output_type": "stream",
     "text": [
      "Skipping - Token count 6995 >= 2500\n",
      "Skipping - Token count 6995 >= 2500\n"
     ]
    },
    {
     "name": "stderr",
     "output_type": "stream",
     "text": [
      " 28%|██▊       | 11092/39034 [31:44<1:45:36,  4.41it/s]"
     ]
    },
    {
     "name": "stdout",
     "output_type": "stream",
     "text": [
      "Skipping - Token count 6995 >= 2500\n"
     ]
    },
    {
     "name": "stderr",
     "output_type": "stream",
     "text": [
      " 28%|██▊       | 11093/39034 [31:45<1:52:27,  4.14it/s]"
     ]
    },
    {
     "name": "stdout",
     "output_type": "stream",
     "text": [
      "Skipping - Token count 6995 >= 2500\n"
     ]
    },
    {
     "name": "stderr",
     "output_type": "stream",
     "text": [
      " 28%|██▊       | 11094/39034 [31:45<1:49:38,  4.25it/s]"
     ]
    },
    {
     "name": "stdout",
     "output_type": "stream",
     "text": [
      "Skipping - Token count 6995 >= 2500\n"
     ]
    },
    {
     "name": "stderr",
     "output_type": "stream",
     "text": [
      " 28%|██▊       | 11095/39034 [31:45<1:53:17,  4.11it/s]"
     ]
    },
    {
     "name": "stdout",
     "output_type": "stream",
     "text": [
      "Skipping - Token count 6995 >= 2500\n"
     ]
    },
    {
     "name": "stderr",
     "output_type": "stream",
     "text": [
      " 28%|██▊       | 11096/39034 [31:45<1:49:00,  4.27it/s]"
     ]
    },
    {
     "name": "stdout",
     "output_type": "stream",
     "text": [
      "Skipping - Token count 6995 >= 2500\n"
     ]
    },
    {
     "name": "stderr",
     "output_type": "stream",
     "text": [
      " 28%|██▊       | 11097/39034 [31:45<1:53:03,  4.12it/s]"
     ]
    },
    {
     "name": "stdout",
     "output_type": "stream",
     "text": [
      "Skipping - Token count 6995 >= 2500\n"
     ]
    },
    {
     "name": "stderr",
     "output_type": "stream",
     "text": [
      " 28%|██▊       | 11098/39034 [31:46<1:48:40,  4.28it/s]"
     ]
    },
    {
     "name": "stdout",
     "output_type": "stream",
     "text": [
      "Skipping - Token count 6995 >= 2500\n"
     ]
    },
    {
     "name": "stderr",
     "output_type": "stream",
     "text": [
      " 28%|██▊       | 11099/39034 [31:46<1:56:23,  4.00it/s]"
     ]
    },
    {
     "name": "stdout",
     "output_type": "stream",
     "text": [
      "Skipping - Token count 6995 >= 2500\n"
     ]
    },
    {
     "name": "stderr",
     "output_type": "stream",
     "text": [
      " 28%|██▊       | 11100/39034 [31:46<1:52:10,  4.15it/s]"
     ]
    },
    {
     "name": "stdout",
     "output_type": "stream",
     "text": [
      "Skipping - Token count 6995 >= 2500\n"
     ]
    },
    {
     "name": "stderr",
     "output_type": "stream",
     "text": [
      " 28%|██▊       | 11102/39034 [31:46<1:29:52,  5.18it/s]"
     ]
    },
    {
     "name": "stdout",
     "output_type": "stream",
     "text": [
      "Skipping - Token count 6995 >= 2500\n"
     ]
    },
    {
     "name": "stderr",
     "output_type": "stream",
     "text": [
      " 28%|██▊       | 11103/39034 [31:47<1:32:16,  5.04it/s]"
     ]
    },
    {
     "name": "stdout",
     "output_type": "stream",
     "text": [
      "Skipping - Token count 6995 >= 2500\n"
     ]
    },
    {
     "name": "stderr",
     "output_type": "stream",
     "text": [
      " 28%|██▊       | 11104/39034 [31:47<1:34:44,  4.91it/s]"
     ]
    },
    {
     "name": "stdout",
     "output_type": "stream",
     "text": [
      "Skipping - Token count 6995 >= 2500\n"
     ]
    },
    {
     "name": "stderr",
     "output_type": "stream",
     "text": [
      " 28%|██▊       | 11105/39034 [31:47<1:45:45,  4.40it/s]"
     ]
    },
    {
     "name": "stdout",
     "output_type": "stream",
     "text": [
      "Skipping - Token count 6995 >= 2500\n"
     ]
    },
    {
     "name": "stderr",
     "output_type": "stream",
     "text": [
      " 28%|██▊       | 11107/39034 [31:47<1:21:24,  5.72it/s]"
     ]
    },
    {
     "name": "stdout",
     "output_type": "stream",
     "text": [
      "Skipping - Token count 6995 >= 2500\n",
      "Skipping - Token count 6995 >= 2500\n"
     ]
    },
    {
     "name": "stderr",
     "output_type": "stream",
     "text": [
      " 28%|██▊       | 11109/39034 [31:48<1:34:13,  4.94it/s]"
     ]
    },
    {
     "name": "stdout",
     "output_type": "stream",
     "text": [
      "Skipping - Token count 6995 >= 2500\n",
      "Skipping - Token count 6995 >= 2500\n"
     ]
    },
    {
     "name": "stderr",
     "output_type": "stream",
     "text": [
      " 28%|██▊       | 11111/39034 [31:48<1:34:25,  4.93it/s]"
     ]
    },
    {
     "name": "stdout",
     "output_type": "stream",
     "text": [
      "Skipping - Token count 6995 >= 2500\n"
     ]
    },
    {
     "name": "stderr",
     "output_type": "stream",
     "text": [
      " 28%|██▊       | 11113/39034 [31:49<1:22:28,  5.64it/s]"
     ]
    },
    {
     "name": "stdout",
     "output_type": "stream",
     "text": [
      "Skipping - Token count 6995 >= 2500\n",
      "Skipping - Token count 6995 >= 2500\n"
     ]
    },
    {
     "name": "stderr",
     "output_type": "stream",
     "text": [
      " 28%|██▊       | 11115/39034 [31:49<1:33:54,  4.96it/s]"
     ]
    },
    {
     "name": "stdout",
     "output_type": "stream",
     "text": [
      "Skipping - Token count 6995 >= 2500\n"
     ]
    },
    {
     "name": "stderr",
     "output_type": "stream",
     "text": [
      " 28%|██▊       | 11116/39034 [31:49<1:33:27,  4.98it/s]"
     ]
    },
    {
     "name": "stdout",
     "output_type": "stream",
     "text": [
      "Skipping - Token count 6995 >= 2500\n"
     ]
    },
    {
     "name": "stderr",
     "output_type": "stream",
     "text": [
      " 28%|██▊       | 11117/39034 [31:49<1:42:05,  4.56it/s]"
     ]
    },
    {
     "name": "stdout",
     "output_type": "stream",
     "text": [
      "Skipping - Token count 6995 >= 2500\n"
     ]
    },
    {
     "name": "stderr",
     "output_type": "stream",
     "text": [
      " 28%|██▊       | 11118/39034 [31:50<1:42:53,  4.52it/s]"
     ]
    },
    {
     "name": "stdout",
     "output_type": "stream",
     "text": [
      "Skipping - Token count 6995 >= 2500\n"
     ]
    },
    {
     "name": "stderr",
     "output_type": "stream",
     "text": [
      " 28%|██▊       | 11119/39034 [31:50<1:42:00,  4.56it/s]"
     ]
    },
    {
     "name": "stdout",
     "output_type": "stream",
     "text": [
      "Skipping - Token count 6995 >= 2500\n"
     ]
    },
    {
     "name": "stderr",
     "output_type": "stream",
     "text": [
      " 28%|██▊       | 11120/39034 [31:50<1:47:35,  4.32it/s]"
     ]
    },
    {
     "name": "stdout",
     "output_type": "stream",
     "text": [
      "Skipping - Token count 6995 >= 2500\n"
     ]
    },
    {
     "name": "stderr",
     "output_type": "stream",
     "text": [
      " 28%|██▊       | 11121/39034 [31:50<1:46:11,  4.38it/s]"
     ]
    },
    {
     "name": "stdout",
     "output_type": "stream",
     "text": [
      "Skipping - Token count 6995 >= 2500\n"
     ]
    },
    {
     "name": "stderr",
     "output_type": "stream",
     "text": [
      " 28%|██▊       | 11122/39034 [31:51<1:50:11,  4.22it/s]"
     ]
    },
    {
     "name": "stdout",
     "output_type": "stream",
     "text": [
      "Skipping - Token count 6995 >= 2500\n",
      "Skipping - Token count 6995 >= 2500\n"
     ]
    },
    {
     "name": "stderr",
     "output_type": "stream",
     "text": [
      " 28%|██▊       | 11124/39034 [31:51<1:55:00,  4.04it/s]"
     ]
    },
    {
     "name": "stdout",
     "output_type": "stream",
     "text": [
      "Skipping - Token count 6995 >= 2500\n"
     ]
    },
    {
     "name": "stderr",
     "output_type": "stream",
     "text": [
      " 29%|██▊       | 11125/39034 [31:51<1:50:58,  4.19it/s]"
     ]
    },
    {
     "name": "stdout",
     "output_type": "stream",
     "text": [
      "Skipping - Token count 6995 >= 2500\n"
     ]
    },
    {
     "name": "stderr",
     "output_type": "stream",
     "text": [
      " 29%|██▊       | 11129/39034 [31:52<1:18:20,  5.94it/s]"
     ]
    },
    {
     "name": "stdout",
     "output_type": "stream",
     "text": [
      "\n",
      "Processed 11120/39034 files\n",
      "Valid results: 43\n",
      "Unique function/input pairs: 43\n"
     ]
    },
    {
     "name": "stderr",
     "output_type": "stream",
     "text": [
      " 29%|██▊       | 11206/39034 [32:03<1:03:28,  7.31it/s]Falling back to HTML parser for /home/XXX/trace-modeling-oss-fuzz-c/trace_test/traces/lldpd_own/trace_fuzz_edp_exe_exe/log_2.xml\n",
      "Fatal error processing trace file /home/XXX/trace-modeling-oss-fuzz-c/trace_test/traces/lldpd_own/trace_fuzz_edp_exe_exe/log_2.xml: 'NoneType' object has no attribute 'xpath'\n",
      " 29%|██▊       | 11211/39034 [32:03<38:22, 12.09it/s]  "
     ]
    },
    {
     "name": "stdout",
     "output_type": "stream",
     "text": [
      "\n",
      "Processed 11200/39034 files\n",
      "Valid results: 43\n",
      "Unique function/input pairs: 43\n",
      "Skipping - Token count 18797 >= 2500\n",
      "Skipping - Token count 18796 >= 2500\n"
     ]
    },
    {
     "name": "stderr",
     "output_type": "stream",
     "text": [
      " 29%|██▊       | 11213/39034 [32:04<55:59,  8.28it/s]"
     ]
    },
    {
     "name": "stdout",
     "output_type": "stream",
     "text": [
      "Skipping - Token count 18790 >= 2500\n"
     ]
    },
    {
     "name": "stderr",
     "output_type": "stream",
     "text": [
      " 29%|██▊       | 11214/39034 [32:04<1:01:32,  7.53it/s]"
     ]
    },
    {
     "name": "stdout",
     "output_type": "stream",
     "text": [
      "Skipping - Token count 2947 >= 2500\n",
      "Skipping - Token count 6759 >= 2500\n"
     ]
    },
    {
     "name": "stderr",
     "output_type": "stream",
     "text": [
      " 29%|██▊       | 11217/39034 [32:04<1:01:33,  7.53it/s]"
     ]
    },
    {
     "name": "stdout",
     "output_type": "stream",
     "text": [
      "Skipping - Token count 18743 >= 2500\n"
     ]
    },
    {
     "name": "stderr",
     "output_type": "stream",
     "text": [
      " 29%|██▊       | 11218/39034 [32:05<1:11:02,  6.53it/s]"
     ]
    },
    {
     "name": "stdout",
     "output_type": "stream",
     "text": [
      "Skipping - Token count 6759 >= 2500\n",
      "Skipping - Token count 6759 >= 2500\n"
     ]
    },
    {
     "name": "stderr",
     "output_type": "stream",
     "text": [
      " 29%|██▊       | 11221/39034 [32:05<1:05:06,  7.12it/s]"
     ]
    },
    {
     "name": "stdout",
     "output_type": "stream",
     "text": [
      "Skipping - Token count 2947 >= 2500\n"
     ]
    },
    {
     "name": "stderr",
     "output_type": "stream",
     "text": [
      " 29%|██▊       | 11222/39034 [32:05<1:18:14,  5.92it/s]"
     ]
    },
    {
     "name": "stdout",
     "output_type": "stream",
     "text": [
      "Skipping - Token count 2947 >= 2500\n",
      "Skipping - Token count 18810 >= 2500\n"
     ]
    },
    {
     "name": "stderr",
     "output_type": "stream",
     "text": [
      " 29%|██▉       | 11224/39034 [32:06<1:23:31,  5.55it/s]"
     ]
    },
    {
     "name": "stdout",
     "output_type": "stream",
     "text": [
      "Skipping - Token count 18806 >= 2500\n",
      "Skipping - Token count 2947 >= 2500\n"
     ]
    },
    {
     "name": "stderr",
     "output_type": "stream",
     "text": [
      " 29%|██▉       | 11226/39034 [32:06<1:36:57,  4.78it/s]"
     ]
    },
    {
     "name": "stdout",
     "output_type": "stream",
     "text": [
      "Skipping - Token count 6759 >= 2500\n"
     ]
    },
    {
     "name": "stderr",
     "output_type": "stream",
     "text": [
      " 29%|██▉       | 11227/39034 [32:07<1:41:26,  4.57it/s]"
     ]
    },
    {
     "name": "stdout",
     "output_type": "stream",
     "text": [
      "Skipping - Token count 18807 >= 2500\n"
     ]
    },
    {
     "name": "stderr",
     "output_type": "stream",
     "text": [
      " 29%|██▉       | 11228/39034 [32:07<1:40:48,  4.60it/s]"
     ]
    },
    {
     "name": "stdout",
     "output_type": "stream",
     "text": [
      "Skipping - Token count 6759 >= 2500\n"
     ]
    },
    {
     "name": "stderr",
     "output_type": "stream",
     "text": [
      " 29%|██▉       | 11229/39034 [32:07<1:47:45,  4.30it/s]"
     ]
    },
    {
     "name": "stdout",
     "output_type": "stream",
     "text": [
      "Skipping - Token count 6759 >= 2500\n",
      "Skipping - Token count 18790 >= 2500\n"
     ]
    },
    {
     "name": "stderr",
     "output_type": "stream",
     "text": [
      " 29%|██▉       | 11231/39034 [32:07<1:37:02,  4.78it/s]"
     ]
    },
    {
     "name": "stdout",
     "output_type": "stream",
     "text": [
      "Skipping - Token count 6759 >= 2500\n"
     ]
    },
    {
     "name": "stderr",
     "output_type": "stream",
     "text": [
      " 29%|██▉       | 11232/39034 [32:08<1:45:54,  4.38it/s]"
     ]
    },
    {
     "name": "stdout",
     "output_type": "stream",
     "text": [
      "Skipping - Token count 18799 >= 2500\n",
      "Skipping - Token count 18803 >= 2500\n"
     ]
    },
    {
     "name": "stderr",
     "output_type": "stream",
     "text": [
      " 29%|██▉       | 11234/39034 [32:08<1:41:47,  4.55it/s]"
     ]
    },
    {
     "name": "stdout",
     "output_type": "stream",
     "text": [
      "Skipping - Token count 18706 >= 2500\n"
     ]
    },
    {
     "name": "stderr",
     "output_type": "stream",
     "text": [
      " 29%|██▉       | 11235/39034 [32:08<1:47:59,  4.29it/s]"
     ]
    },
    {
     "name": "stdout",
     "output_type": "stream",
     "text": [
      "Skipping - Token count 18795 >= 2500\n"
     ]
    },
    {
     "name": "stderr",
     "output_type": "stream",
     "text": [
      " 29%|██▉       | 11236/39034 [32:09<1:46:48,  4.34it/s]"
     ]
    },
    {
     "name": "stdout",
     "output_type": "stream",
     "text": [
      "Skipping - Token count 2947 >= 2500\n",
      "Skipping - Token count 2947 >= 2500\n"
     ]
    },
    {
     "name": "stderr",
     "output_type": "stream",
     "text": [
      " 29%|██▉       | 11238/39034 [32:09<1:45:05,  4.41it/s]"
     ]
    },
    {
     "name": "stdout",
     "output_type": "stream",
     "text": [
      "Skipping - Token count 18670 >= 2500\n"
     ]
    },
    {
     "name": "stderr",
     "output_type": "stream",
     "text": [
      " 29%|██▉       | 11239/39034 [32:09<1:41:44,  4.55it/s]"
     ]
    },
    {
     "name": "stdout",
     "output_type": "stream",
     "text": [
      "Skipping - Token count 18811 >= 2500\n"
     ]
    },
    {
     "name": "stderr",
     "output_type": "stream",
     "text": [
      " 29%|██▉       | 11240/39034 [32:09<1:41:18,  4.57it/s]"
     ]
    },
    {
     "name": "stdout",
     "output_type": "stream",
     "text": [
      "Skipping - Token count 18807 >= 2500\n"
     ]
    },
    {
     "name": "stderr",
     "output_type": "stream",
     "text": [
      " 29%|██▉       | 11241/39034 [32:10<1:47:50,  4.30it/s]"
     ]
    },
    {
     "name": "stdout",
     "output_type": "stream",
     "text": [
      "Skipping - Token count 6759 >= 2500\n",
      "Skipping - Token count 18782 >= 2500\n"
     ]
    },
    {
     "name": "stderr",
     "output_type": "stream",
     "text": [
      " 29%|██▉       | 11244/39034 [32:10<1:23:48,  5.53it/s]"
     ]
    },
    {
     "name": "stdout",
     "output_type": "stream",
     "text": [
      "Skipping - Token count 18802 >= 2500\n"
     ]
    },
    {
     "name": "stderr",
     "output_type": "stream",
     "text": [
      " 29%|██▉       | 11246/39034 [32:10<1:12:35,  6.38it/s]"
     ]
    },
    {
     "name": "stdout",
     "output_type": "stream",
     "text": [
      "Skipping - Token count 18696 >= 2500\n"
     ]
    },
    {
     "name": "stderr",
     "output_type": "stream",
     "text": [
      " 29%|██▉       | 11247/39034 [32:11<1:20:38,  5.74it/s]"
     ]
    },
    {
     "name": "stdout",
     "output_type": "stream",
     "text": [
      "Skipping - Token count 2947 >= 2500\n",
      "Skipping - Token count 6759 >= 2500\n"
     ]
    },
    {
     "name": "stderr",
     "output_type": "stream",
     "text": [
      " 29%|██▉       | 11250/39034 [32:11<1:08:30,  6.76it/s]"
     ]
    },
    {
     "name": "stdout",
     "output_type": "stream",
     "text": [
      "Skipping - Token count 18672 >= 2500\n",
      "Skipping - Token count 18784 >= 2500\n"
     ]
    },
    {
     "name": "stderr",
     "output_type": "stream",
     "text": [
      " 29%|██▉       | 11252/39034 [32:11<1:23:36,  5.54it/s]"
     ]
    },
    {
     "name": "stdout",
     "output_type": "stream",
     "text": [
      "Skipping - Token count 18806 >= 2500\n"
     ]
    },
    {
     "name": "stderr",
     "output_type": "stream",
     "text": [
      " 29%|██▉       | 11253/39034 [32:12<1:29:01,  5.20it/s]"
     ]
    },
    {
     "name": "stdout",
     "output_type": "stream",
     "text": [
      "Skipping - Token count 6759 >= 2500\n",
      "Skipping - Token count 18794 >= 2500\n"
     ]
    },
    {
     "name": "stderr",
     "output_type": "stream",
     "text": [
      " 29%|██▉       | 11255/39034 [32:12<1:34:27,  4.90it/s]"
     ]
    },
    {
     "name": "stdout",
     "output_type": "stream",
     "text": [
      "Skipping - Token count 2947 >= 2500\n",
      "Skipping - Token count 6759 >= 2500\n"
     ]
    },
    {
     "name": "stderr",
     "output_type": "stream",
     "text": [
      " 29%|██▉       | 11257/39034 [32:12<1:35:28,  4.85it/s]"
     ]
    },
    {
     "name": "stdout",
     "output_type": "stream",
     "text": [
      "Skipping - Token count 18806 >= 2500\n"
     ]
    },
    {
     "name": "stderr",
     "output_type": "stream",
     "text": [
      "Falling back to HTML parser for /home/XXX/trace-modeling-oss-fuzz-c/trace_test/traces/lldpd_own/trace_fuzz_sonmp_exe_exe/log_2.xml\n",
      "Fatal error processing trace file /home/XXX/trace-modeling-oss-fuzz-c/trace_test/traces/lldpd_own/trace_fuzz_sonmp_exe_exe/log_2.xml: 'NoneType' object has no attribute 'xpath'\n",
      "Falling back to HTML parser for /home/XXX/trace-modeling-oss-fuzz-c/trace_test/traces/lldpd_own/trace_fuzz_lldp_exe_exe/log_2.xml\n",
      "Fatal error processing trace file /home/XXX/trace-modeling-oss-fuzz-c/trace_test/traces/lldpd_own/trace_fuzz_lldp_exe_exe/log_2.xml: 'NoneType' object has no attribute 'xpath'\n",
      "Falling back to HTML parser for /home/XXX/trace-modeling-oss-fuzz-c/trace_test/traces/oss-fuzz-example_own/trace_fuzz_char_lib_exe/log_0.xml\n",
      "Falling back to HTML parser for /home/XXX/trace-modeling-oss-fuzz-c/trace_test/traces/oss-fuzz-example_own/trace_fuzz_char_lib_exe/log_1.xml\n",
      "Fatal error processing trace file /home/XXX/trace-modeling-oss-fuzz-c/trace_test/traces/oss-fuzz-example_own/trace_fuzz_char_lib_exe/log_1.xml: 'NoneType' object has no attribute 'xpath'\n",
      "Falling back to HTML parser for /home/XXX/trace-modeling-oss-fuzz-c/trace_test/traces/oss-fuzz-example_own/trace_fuzz_complex_parser_exe/log_0.xml\n",
      "Falling back to HTML parser for /home/XXX/trace-modeling-oss-fuzz-c/trace_test/traces/oss-fuzz-example_own/trace_fuzz_complex_parser_exe/log_1.xml\n",
      "Fatal error processing trace file /home/XXX/trace-modeling-oss-fuzz-c/trace_test/traces/oss-fuzz-example_own/trace_fuzz_complex_parser_exe/log_1.xml: 'NoneType' object has no attribute 'xpath'\n",
      " 29%|██▉       | 11268/39034 [32:14<1:09:27,  6.66it/s]Error processing source file: Source file not found: /home/XXX/trace-modeling-oss-fuzz-c/trace_test/traces/selinux_own/trace_secilc-fuzzer_exe/src_1.xml\n"
     ]
    },
    {
     "name": "stdout",
     "output_type": "stream",
     "text": [
      "Skipping - Token count 9235 >= 2500\n",
      "Skipping - Token count 3983 >= 2500\n"
     ]
    },
    {
     "name": "stderr",
     "output_type": "stream",
     "text": [
      " 29%|██▉       | 11272/39034 [32:19<3:25:13,  2.25it/s]Error processing source file: Source file not found: /home/XXX/trace-modeling-oss-fuzz-c/trace_test/traces/selinux_own/trace_checkpolicy-fuzzer_exe/src_13.xml\n"
     ]
    },
    {
     "name": "stdout",
     "output_type": "stream",
     "text": [
      "Skipping - Token count 10754 >= 2500\n"
     ]
    },
    {
     "name": "stderr",
     "output_type": "stream",
     "text": [
      " 29%|██▉       | 11284/39034 [32:22<2:45:21,  2.80it/s]"
     ]
    },
    {
     "name": "stdout",
     "output_type": "stream",
     "text": [
      "Skipping - Token count 9312 >= 2500\n",
      "Skipping - Token count 4162 >= 2500\n"
     ]
    },
    {
     "name": "stderr",
     "output_type": "stream",
     "text": [
      " 29%|██▉       | 11285/39034 [32:25<4:13:18,  1.83it/s]Error processing source file: Source file not found: /home/XXX/trace-modeling-oss-fuzz-c/trace_test/traces/selinux_own/trace_binpolicy-fuzzer_exe/src_2.xml\n",
      "Error processing call: 'NoneType' object has no attribute 'splitlines'\n",
      "Error processing call: 'NoneType' object has no attribute 'splitlines'\n",
      "Error processing call: 'NoneType' object has no attribute 'splitlines'\n",
      " 29%|██▉       | 11334/39034 [32:26<31:16, 14.76it/s]  "
     ]
    },
    {
     "name": "stdout",
     "output_type": "stream",
     "text": [
      "\n",
      "Processed 11280/39034 files\n",
      "Valid results: 46\n",
      "Unique function/input pairs: 46\n"
     ]
    },
    {
     "name": "stderr",
     "output_type": "stream",
     "text": [
      " 29%|██▉       | 11382/39034 [32:26<12:31, 36.80it/s]"
     ]
    },
    {
     "name": "stdout",
     "output_type": "stream",
     "text": [
      "\n",
      "Processed 11360/39034 files\n",
      "Valid results: 46\n",
      "Unique function/input pairs: 46\n"
     ]
    },
    {
     "name": "stderr",
     "output_type": "stream",
     "text": [
      " 29%|██▉       | 11481/39034 [32:27<03:58, 115.56it/s]"
     ]
    },
    {
     "name": "stdout",
     "output_type": "stream",
     "text": [
      "\n",
      "Processed 11440/39034 files\n",
      "Valid results: 46\n",
      "Unique function/input pairs: 46\n"
     ]
    },
    {
     "name": "stderr",
     "output_type": "stream",
     "text": [
      " 30%|██▉       | 11539/39034 [32:27<03:35, 127.72it/s]"
     ]
    },
    {
     "name": "stdout",
     "output_type": "stream",
     "text": [
      "\n",
      "Processed 11520/39034 files\n",
      "Valid results: 46\n",
      "Unique function/input pairs: 46\n"
     ]
    },
    {
     "name": "stderr",
     "output_type": "stream",
     "text": [
      " 30%|██▉       | 11617/39034 [32:28<02:51, 159.99it/s]"
     ]
    },
    {
     "name": "stdout",
     "output_type": "stream",
     "text": [
      "\n",
      "Processed 11600/39034 files\n",
      "Valid results: 46\n",
      "Unique function/input pairs: 46\n"
     ]
    },
    {
     "name": "stderr",
     "output_type": "stream",
     "text": [
      " 30%|██▉       | 11701/39034 [32:28<03:29, 130.72it/s]"
     ]
    },
    {
     "name": "stdout",
     "output_type": "stream",
     "text": [
      "\n",
      "Processed 11680/39034 files\n",
      "Valid results: 46\n",
      "Unique function/input pairs: 46\n"
     ]
    },
    {
     "name": "stderr",
     "output_type": "stream",
     "text": [
      " 30%|███       | 11790/39034 [32:29<03:00, 151.03it/s]"
     ]
    },
    {
     "name": "stdout",
     "output_type": "stream",
     "text": [
      "\n",
      "Processed 11760/39034 files\n",
      "Valid results: 46\n",
      "Unique function/input pairs: 46\n"
     ]
    },
    {
     "name": "stderr",
     "output_type": "stream",
     "text": [
      " 30%|███       | 11857/39034 [32:30<03:14, 139.71it/s]"
     ]
    },
    {
     "name": "stdout",
     "output_type": "stream",
     "text": [
      "\n",
      "Processed 11840/39034 files\n",
      "Valid results: 46\n",
      "Unique function/input pairs: 46\n"
     ]
    },
    {
     "name": "stderr",
     "output_type": "stream",
     "text": [
      " 31%|███       | 11970/39034 [32:30<02:32, 177.39it/s]"
     ]
    },
    {
     "name": "stdout",
     "output_type": "stream",
     "text": [
      "\n",
      "Processed 11920/39034 files\n",
      "Valid results: 46\n",
      "Unique function/input pairs: 46\n"
     ]
    },
    {
     "name": "stderr",
     "output_type": "stream",
     "text": [
      " 31%|███       | 12052/39034 [32:31<02:30, 179.32it/s]"
     ]
    },
    {
     "name": "stdout",
     "output_type": "stream",
     "text": [
      "\n",
      "Processed 12000/39034 files\n",
      "Valid results: 46\n",
      "Unique function/input pairs: 46\n"
     ]
    },
    {
     "name": "stderr",
     "output_type": "stream",
     "text": [
      " 31%|███       | 12105/39034 [32:31<02:59, 149.70it/s]"
     ]
    },
    {
     "name": "stdout",
     "output_type": "stream",
     "text": [
      "\n",
      "Processed 12080/39034 files\n",
      "Valid results: 46\n",
      "Unique function/input pairs: 46\n"
     ]
    },
    {
     "name": "stderr",
     "output_type": "stream",
     "text": [
      " 31%|███       | 12193/39034 [32:32<02:28, 180.35it/s]"
     ]
    },
    {
     "name": "stdout",
     "output_type": "stream",
     "text": [
      "\n",
      "Processed 12160/39034 files\n",
      "Valid results: 46\n",
      "Unique function/input pairs: 46\n"
     ]
    },
    {
     "name": "stderr",
     "output_type": "stream",
     "text": [
      " 31%|███▏      | 12261/39034 [32:32<02:25, 184.43it/s]"
     ]
    },
    {
     "name": "stdout",
     "output_type": "stream",
     "text": [
      "\n",
      "Processed 12240/39034 files\n",
      "Valid results: 46\n",
      "Unique function/input pairs: 46\n"
     ]
    },
    {
     "name": "stderr",
     "output_type": "stream",
     "text": [
      " 32%|███▏      | 12357/39034 [32:33<02:46, 160.31it/s]"
     ]
    },
    {
     "name": "stdout",
     "output_type": "stream",
     "text": [
      "\n",
      "Processed 12320/39034 files\n",
      "Valid results: 46\n",
      "Unique function/input pairs: 46\n"
     ]
    },
    {
     "name": "stderr",
     "output_type": "stream",
     "text": [
      " 32%|███▏      | 12443/39034 [32:33<02:38, 168.12it/s]"
     ]
    },
    {
     "name": "stdout",
     "output_type": "stream",
     "text": [
      "\n",
      "Processed 12400/39034 files\n",
      "Valid results: 46\n",
      "Unique function/input pairs: 46\n"
     ]
    },
    {
     "name": "stderr",
     "output_type": "stream",
     "text": [
      " 32%|███▏      | 12518/39034 [32:34<02:40, 165.63it/s]"
     ]
    },
    {
     "name": "stdout",
     "output_type": "stream",
     "text": [
      "\n",
      "Processed 12480/39034 files\n",
      "Valid results: 46\n",
      "Unique function/input pairs: 46\n"
     ]
    },
    {
     "name": "stderr",
     "output_type": "stream",
     "text": [
      " 32%|███▏      | 12582/39034 [32:34<02:46, 159.25it/s]"
     ]
    },
    {
     "name": "stdout",
     "output_type": "stream",
     "text": [
      "\n",
      "Processed 12560/39034 files\n",
      "Valid results: 46\n",
      "Unique function/input pairs: 46\n"
     ]
    },
    {
     "name": "stderr",
     "output_type": "stream",
     "text": [
      " 32%|███▏      | 12654/39034 [32:35<02:14, 196.58it/s]"
     ]
    },
    {
     "name": "stdout",
     "output_type": "stream",
     "text": [
      "\n",
      "Processed 12640/39034 files\n",
      "Valid results: 46\n",
      "Unique function/input pairs: 46\n"
     ]
    },
    {
     "name": "stderr",
     "output_type": "stream",
     "text": [
      " 33%|███▎      | 12757/39034 [32:35<02:48, 155.60it/s]"
     ]
    },
    {
     "name": "stdout",
     "output_type": "stream",
     "text": [
      "\n",
      "Processed 12720/39034 files\n",
      "Valid results: 46\n",
      "Unique function/input pairs: 46\n"
     ]
    },
    {
     "name": "stderr",
     "output_type": "stream",
     "text": [
      " 33%|███▎      | 12822/39034 [32:36<02:33, 170.44it/s]"
     ]
    },
    {
     "name": "stdout",
     "output_type": "stream",
     "text": [
      "\n",
      "Processed 12800/39034 files\n",
      "Valid results: 46\n",
      "Unique function/input pairs: 46\n"
     ]
    },
    {
     "name": "stderr",
     "output_type": "stream",
     "text": [
      " 33%|███▎      | 12856/39034 [32:36<03:00, 145.28it/s]Falling back to HTML parser for /home/XXX/trace-modeling-oss-fuzz-c/trace_test/traces/libcue_own/trace_fuzz_exe/log_0.xml\n",
      "Falling back to HTML parser for /home/XXX/trace-modeling-oss-fuzz-c/trace_test/traces/libcue_own/trace_fuzz_exe/log_1.xml\n",
      "Fatal error processing trace file /home/XXX/trace-modeling-oss-fuzz-c/trace_test/traces/libcue_own/trace_fuzz_exe/log_1.xml: 'NoneType' object has no attribute 'xpath'\n"
     ]
    },
    {
     "name": "stdout",
     "output_type": "stream",
     "text": [
      "Skipping - Token count 18278 >= 2500\n",
      "Skipping - Token count 17907 >= 2500\n",
      "Skipping - Token count 18279 >= 2500\n"
     ]
    },
    {
     "name": "stderr",
     "output_type": "stream",
     "text": [
      "Falling back to HTML parser for /home/XXX/trace-modeling-oss-fuzz-c/trace_test/traces/mdbtools_own/trace_fuzz_mdb_exe/log_2.xml\n",
      "Fatal error processing trace file /home/XXX/trace-modeling-oss-fuzz-c/trace_test/traces/mdbtools_own/trace_fuzz_mdb_exe/log_2.xml: 'NoneType' object has no attribute 'xpath'\n"
     ]
    },
    {
     "name": "stdout",
     "output_type": "stream",
     "text": [
      "Skipping - Token count 18278 >= 2500\n",
      "Skipping - Token count 17909 >= 2500\n",
      "Skipping - Token count 18279 >= 2500\n"
     ]
    },
    {
     "name": "stderr",
     "output_type": "stream",
     "text": [
      "Falling back to HTML parser for /home/XXX/trace-modeling-oss-fuzz-c/trace_test/traces/mdbtools_own/trace_fuzz_mdb_exe_exe/log_2.xml\n",
      "Fatal error processing trace file /home/XXX/trace-modeling-oss-fuzz-c/trace_test/traces/mdbtools_own/trace_fuzz_mdb_exe_exe/log_2.xml: 'NoneType' object has no attribute 'xpath'\n",
      " 33%|███▎      | 12871/39034 [32:43<50:26,  8.65it/s] Error processing call: 'NoneType' object has no attribute 'splitlines'\n",
      "Error processing call: 'NoneType' object has no attribute 'splitlines'\n",
      "Falling back to HTML parser for /home/XXX/trace-modeling-oss-fuzz-c/trace_test/traces/cpuinfo_own/trace_fuzz_cpuinfo_exe_exe/log_0.xml\n",
      "Falling back to HTML parser for /home/XXX/trace-modeling-oss-fuzz-c/trace_test/traces/cpuinfo_own/trace_fuzz_cpuinfo_exe_exe/log_1.xml\n",
      "Fatal error processing trace file /home/XXX/trace-modeling-oss-fuzz-c/trace_test/traces/cpuinfo_own/trace_fuzz_cpuinfo_exe_exe/log_1.xml: 'NoneType' object has no attribute 'xpath'\n",
      "Error processing source file: Source file not found: /home/XXX/trace-modeling-oss-fuzz-c/trace_test/traces/quickjs_own/trace_fuzz_eval_exe/src_0.xml\n",
      "Error processing source file: Source file not found: /home/XXX/trace-modeling-oss-fuzz-c/trace_test/traces/quickjs_own/trace_fuzz_compile_exe/src_0.xml\n",
      "Error processing source file: Source file not found: /home/XXX/trace-modeling-oss-fuzz-c/trace_test/traces/quickjs_own/trace_fuzz_regexp_exe/src_0.xml\n",
      " 33%|███▎      | 12890/39034 [32:45<49:13,  8.85it/s]"
     ]
    },
    {
     "name": "stdout",
     "output_type": "stream",
     "text": [
      "\n",
      "Processed 12880/39034 files\n",
      "Valid results: 47\n",
      "Unique function/input pairs: 47\n"
     ]
    },
    {
     "name": "stderr",
     "output_type": "stream",
     "text": [
      " 33%|███▎      | 12952/39034 [32:49<25:10, 17.27it/s]Error processing source file: Source file not found: /home/XXX/trace-modeling-oss-fuzz-c/trace_test/traces/libyal_own/trace_libfwnt_lzxpress_fuzzer_exe/src_184.xml\n",
      " 33%|███▎      | 12971/39034 [32:50<28:42, 15.13it/s]"
     ]
    },
    {
     "name": "stdout",
     "output_type": "stream",
     "text": [
      "\n",
      "Processed 12960/39034 files\n",
      "Valid results: 47\n",
      "Unique function/input pairs: 47\n"
     ]
    },
    {
     "name": "stderr",
     "output_type": "stream",
     "text": [
      " 33%|███▎      | 13051/39034 [32:55<25:45, 16.81it/s]"
     ]
    },
    {
     "name": "stdout",
     "output_type": "stream",
     "text": [
      "\n",
      "Processed 13040/39034 files\n",
      "Valid results: 47\n",
      "Unique function/input pairs: 47\n"
     ]
    },
    {
     "name": "stderr",
     "output_type": "stream",
     "text": [
      " 34%|███▎      | 13128/39034 [33:55<6:27:46,  1.11it/s]"
     ]
    },
    {
     "name": "stdout",
     "output_type": "stream",
     "text": [
      "\n",
      "Processed 13120/39034 files\n",
      "Valid results: 48\n",
      "Unique function/input pairs: 48\n"
     ]
    },
    {
     "name": "stderr",
     "output_type": "stream",
     "text": [
      " 34%|███▍      | 13209/39034 [34:44<4:29:32,  1.60it/s]"
     ]
    },
    {
     "name": "stdout",
     "output_type": "stream",
     "text": [
      "\n",
      "Processed 13200/39034 files\n",
      "Valid results: 48\n",
      "Unique function/input pairs: 48\n"
     ]
    },
    {
     "name": "stderr",
     "output_type": "stream",
     "text": [
      " 34%|███▍      | 13288/39034 [34:56<36:25, 11.78it/s]  "
     ]
    },
    {
     "name": "stdout",
     "output_type": "stream",
     "text": [
      "\n",
      "Processed 13280/39034 files\n",
      "Valid results: 48\n",
      "Unique function/input pairs: 48\n"
     ]
    },
    {
     "name": "stderr",
     "output_type": "stream",
     "text": [
      " 34%|███▍      | 13368/39034 [35:29<2:50:18,  2.51it/s]"
     ]
    },
    {
     "name": "stdout",
     "output_type": "stream",
     "text": [
      "\n",
      "Processed 13360/39034 files\n",
      "Valid results: 48\n",
      "Unique function/input pairs: 48\n"
     ]
    },
    {
     "name": "stderr",
     "output_type": "stream",
     "text": [
      " 34%|███▍      | 13448/39034 [35:46<2:55:16,  2.43it/s]"
     ]
    },
    {
     "name": "stdout",
     "output_type": "stream",
     "text": [
      "\n",
      "Processed 13440/39034 files\n",
      "Valid results: 48\n",
      "Unique function/input pairs: 48\n"
     ]
    },
    {
     "name": "stderr",
     "output_type": "stream",
     "text": [
      " 34%|███▍      | 13454/39034 [35:49<3:03:41,  2.32it/s]Falling back to HTML parser for /home/XXX/trace-modeling-oss-fuzz-c/trace_test/traces/libyal_own/trace_libfcrypto_crypt_serpent_cbc_fuzzer_exe/log_101.xml\n",
      "Fatal error processing trace file /home/XXX/trace-modeling-oss-fuzz-c/trace_test/traces/libyal_own/trace_libfcrypto_crypt_serpent_cbc_fuzzer_exe/log_101.xml: 'NoneType' object has no attribute 'xpath'\n",
      " 35%|███▍      | 13528/39034 [36:22<3:23:42,  2.09it/s]"
     ]
    },
    {
     "name": "stdout",
     "output_type": "stream",
     "text": [
      "\n",
      "Processed 13520/39034 files\n",
      "Valid results: 48\n",
      "Unique function/input pairs: 48\n"
     ]
    },
    {
     "name": "stderr",
     "output_type": "stream",
     "text": [
      " 35%|███▍      | 13608/39034 [37:37<6:36:54,  1.07it/s]"
     ]
    },
    {
     "name": "stdout",
     "output_type": "stream",
     "text": [
      "\n",
      "Processed 13600/39034 files\n",
      "Valid results: 48\n",
      "Unique function/input pairs: 48\n"
     ]
    },
    {
     "name": "stderr",
     "output_type": "stream",
     "text": [
      " 35%|███▌      | 13688/39034 [38:54<7:45:25,  1.10s/it]"
     ]
    },
    {
     "name": "stdout",
     "output_type": "stream",
     "text": [
      "\n",
      "Processed 13680/39034 files\n",
      "Valid results: 48\n",
      "Unique function/input pairs: 48\n"
     ]
    },
    {
     "name": "stderr",
     "output_type": "stream",
     "text": [
      " 35%|███▌      | 13768/39034 [40:15<7:17:23,  1.04s/it]"
     ]
    },
    {
     "name": "stdout",
     "output_type": "stream",
     "text": [
      "\n",
      "Processed 13760/39034 files\n",
      "Valid results: 48\n",
      "Unique function/input pairs: 48\n"
     ]
    },
    {
     "name": "stderr",
     "output_type": "stream",
     "text": [
      " 35%|███▌      | 13849/39034 [40:58<1:30:41,  4.63it/s]"
     ]
    },
    {
     "name": "stdout",
     "output_type": "stream",
     "text": [
      "\n",
      "Processed 13840/39034 files\n",
      "Valid results: 48\n",
      "Unique function/input pairs: 48\n"
     ]
    },
    {
     "name": "stderr",
     "output_type": "stream",
     "text": [
      " 36%|███▌      | 13928/39034 [41:57<7:17:21,  1.05s/it]"
     ]
    },
    {
     "name": "stdout",
     "output_type": "stream",
     "text": [
      "\n",
      "Processed 13920/39034 files\n",
      "Valid results: 48\n",
      "Unique function/input pairs: 48\n"
     ]
    },
    {
     "name": "stderr",
     "output_type": "stream",
     "text": [
      " 36%|███▌      | 14008/39034 [43:12<6:56:29,  1.00it/s]"
     ]
    },
    {
     "name": "stdout",
     "output_type": "stream",
     "text": [
      "\n",
      "Processed 14000/39034 files\n",
      "Valid results: 48\n",
      "Unique function/input pairs: 48\n"
     ]
    },
    {
     "name": "stderr",
     "output_type": "stream",
     "text": [
      " 36%|███▌      | 14039/39034 [45:15<174:13:01, 25.09s/it]Error processing source file: Source file not found: /home/XXX/trace-modeling-oss-fuzz-c/trace_test/traces/libyal_own/trace_libfcrypto_crypt_blowfish_ecb_fuzzer_exe/src_2.xml\n",
      " 36%|███▌      | 14088/39034 [46:57<14:12:08,  2.05s/it] "
     ]
    },
    {
     "name": "stdout",
     "output_type": "stream",
     "text": [
      "\n",
      "Processed 14080/39034 files\n",
      "Valid results: 49\n",
      "Unique function/input pairs: 49\n"
     ]
    },
    {
     "name": "stderr",
     "output_type": "stream",
     "text": [
      " 36%|███▋      | 14168/39034 [49:21<6:56:06,  1.00s/it] "
     ]
    },
    {
     "name": "stdout",
     "output_type": "stream",
     "text": [
      "\n",
      "Processed 14160/39034 files\n",
      "Valid results: 49\n",
      "Unique function/input pairs: 49\n"
     ]
    },
    {
     "name": "stderr",
     "output_type": "stream",
     "text": [
      " 37%|███▋      | 14248/39034 [50:46<6:15:35,  1.10it/s]"
     ]
    },
    {
     "name": "stdout",
     "output_type": "stream",
     "text": [
      "\n",
      "Processed 14240/39034 files\n",
      "Valid results: 49\n",
      "Unique function/input pairs: 49\n"
     ]
    },
    {
     "name": "stderr",
     "output_type": "stream",
     "text": [
      " 37%|███▋      | 14328/39034 [51:59<6:21:22,  1.08it/s]"
     ]
    },
    {
     "name": "stdout",
     "output_type": "stream",
     "text": [
      "\n",
      "Processed 14320/39034 files\n",
      "Valid results: 49\n",
      "Unique function/input pairs: 49\n"
     ]
    },
    {
     "name": "stderr",
     "output_type": "stream",
     "text": [
      " 37%|███▋      | 14337/39034 [53:33<183:56:13, 26.81s/it]Falling back to HTML parser for /home/XXX/trace-modeling-oss-fuzz-c/trace_test/traces/libyal_own/trace_libcaes_crypt_ecb_fuzzer_exe/log_31.xml\n",
      "Fatal error processing trace file /home/XXX/trace-modeling-oss-fuzz-c/trace_test/traces/libyal_own/trace_libcaes_crypt_ecb_fuzzer_exe/log_31.xml: 'NoneType' object has no attribute 'xpath'\n",
      " 37%|███▋      | 14408/39034 [57:22<12:21:52,  1.81s/it] "
     ]
    },
    {
     "name": "stdout",
     "output_type": "stream",
     "text": [
      "\n",
      "Processed 14400/39034 files\n",
      "Valid results: 49\n",
      "Unique function/input pairs: 49\n"
     ]
    },
    {
     "name": "stderr",
     "output_type": "stream",
     "text": [
      " 37%|███▋      | 14464/39034 [58:13<26:33, 15.42it/s]   Falling back to HTML parser for /home/XXX/trace-modeling-oss-fuzz-c/trace_test/traces/libyal_own/trace_libfusn_record_fuzzer_exe/log_161.xml\n",
      "Fatal error processing trace file /home/XXX/trace-modeling-oss-fuzz-c/trace_test/traces/libyal_own/trace_libfusn_record_fuzzer_exe/log_161.xml: 'NoneType' object has no attribute 'xpath'\n",
      " 37%|███▋      | 14490/39034 [58:14<21:27, 19.06it/s]"
     ]
    },
    {
     "name": "stdout",
     "output_type": "stream",
     "text": [
      "\n",
      "Processed 14480/39034 files\n",
      "Valid results: 49\n",
      "Unique function/input pairs: 49\n"
     ]
    },
    {
     "name": "stderr",
     "output_type": "stream",
     "text": [
      " 37%|███▋      | 14571/39034 [58:19<22:26, 18.16it/s]"
     ]
    },
    {
     "name": "stdout",
     "output_type": "stream",
     "text": [
      "\n",
      "Processed 14560/39034 files\n",
      "Valid results: 49\n",
      "Unique function/input pairs: 49\n"
     ]
    },
    {
     "name": "stderr",
     "output_type": "stream",
     "text": [
      " 37%|███▋      | 14631/39034 [2:32:35<4:14:30,  1.60it/s] \n"
     ]
    },
    {
     "ename": "KeyboardInterrupt",
     "evalue": "",
     "output_type": "error",
     "traceback": [
      "\u001b[0;31m---------------------------------------------------------------------------\u001b[0m",
      "\u001b[0;31mKeyboardInterrupt\u001b[0m                         Traceback (most recent call last)",
      "Cell \u001b[0;32mIn[2], line 124\u001b[0m\n\u001b[1;32m    120\u001b[0m     \u001b[38;5;28mprint\u001b[39m(\u001b[38;5;124mf\u001b[39m\u001b[38;5;124m\"\u001b[39m\u001b[38;5;124mTotal unique function/input pairs: \u001b[39m\u001b[38;5;132;01m{\u001b[39;00m\u001b[38;5;28mlen\u001b[39m(global_tracker)\u001b[38;5;132;01m}\u001b[39;00m\u001b[38;5;124m\"\u001b[39m)\n\u001b[1;32m    123\u001b[0m \u001b[38;5;28;01mif\u001b[39;00m \u001b[38;5;18m__name__\u001b[39m \u001b[38;5;241m==\u001b[39m \u001b[38;5;124m\"\u001b[39m\u001b[38;5;124m__main__\u001b[39m\u001b[38;5;124m\"\u001b[39m:\n\u001b[0;32m--> 124\u001b[0m     \u001b[43mprocess_files_in_batches\u001b[49m\u001b[43m(\u001b[49m\u001b[43mlog_files\u001b[49m\u001b[43m,\u001b[49m\u001b[43m \u001b[49m\u001b[43mbatch_size\u001b[49m\u001b[38;5;241;43m=\u001b[39;49m\u001b[38;5;241;43m8\u001b[39;49m\u001b[43m)\u001b[49m\n",
      "Cell \u001b[0;32mIn[2], line 107\u001b[0m, in \u001b[0;36mprocess_files_in_batches\u001b[0;34m(log_files, batch_size)\u001b[0m\n\u001b[1;32m    104\u001b[0m batch \u001b[38;5;241m=\u001b[39m log_files[i:i\u001b[38;5;241m+\u001b[39mbatch_size]\n\u001b[1;32m    106\u001b[0m \u001b[38;5;28;01mfor\u001b[39;00m fpath \u001b[38;5;129;01min\u001b[39;00m batch:\n\u001b[0;32m--> 107\u001b[0m     success \u001b[38;5;241m=\u001b[39m \u001b[43mprocess_single_file\u001b[49m\u001b[43m(\u001b[49m\u001b[43mfpath\u001b[49m\u001b[43m)\u001b[49m\n\u001b[1;32m    108\u001b[0m     \u001b[38;5;28;01mif\u001b[39;00m success:\n\u001b[1;32m    109\u001b[0m         processed_count \u001b[38;5;241m+\u001b[39m\u001b[38;5;241m=\u001b[39m \u001b[38;5;241m1\u001b[39m\n",
      "Cell \u001b[0;32mIn[2], line 73\u001b[0m, in \u001b[0;36mprocess_single_file\u001b[0;34m(fpath)\u001b[0m\n\u001b[1;32m     70\u001b[0m src_file_path \u001b[38;5;241m=\u001b[39m Path(\u001b[38;5;28mstr\u001b[39m(fpath)\u001b[38;5;241m.\u001b[39mreplace(\u001b[38;5;124m\"\u001b[39m\u001b[38;5;124mlog_\u001b[39m\u001b[38;5;124m\"\u001b[39m, \u001b[38;5;124m\"\u001b[39m\u001b[38;5;124msrc_\u001b[39m\u001b[38;5;124m\"\u001b[39m))\n\u001b[1;32m     72\u001b[0m \u001b[38;5;28;01mtry\u001b[39;00m:\n\u001b[0;32m---> 73\u001b[0m     result \u001b[38;5;241m=\u001b[39m \u001b[43mprocess_xml_to_code\u001b[49m\u001b[43m(\u001b[49m\u001b[38;5;28;43mstr\u001b[39;49m\u001b[43m(\u001b[49m\u001b[43mfpath\u001b[49m\u001b[43m)\u001b[49m\u001b[43m,\u001b[49m\u001b[43m \u001b[49m\u001b[38;5;28;43mstr\u001b[39;49m\u001b[43m(\u001b[49m\u001b[43msrc_file_path\u001b[49m\u001b[43m)\u001b[49m\u001b[43m)\u001b[49m\n\u001b[1;32m     75\u001b[0m     \u001b[38;5;28;01mif\u001b[39;00m result \u001b[38;5;129;01mand\u001b[39;00m is_valid_result(result):\n\u001b[1;32m     76\u001b[0m         \u001b[38;5;66;03m# Check if we've seen this source code + input pair before\u001b[39;00m\n\u001b[1;32m     77\u001b[0m         \u001b[38;5;28;01mif\u001b[39;00m global_tracker\u001b[38;5;241m.\u001b[39mcontains(result[\u001b[38;5;124m\"\u001b[39m\u001b[38;5;124mSource Code\u001b[39m\u001b[38;5;124m\"\u001b[39m], result[\u001b[38;5;124m\"\u001b[39m\u001b[38;5;124mFunction Input\u001b[39m\u001b[38;5;124m\"\u001b[39m]):\n",
      "File \u001b[0;32m~/Tracing/Annotation/C Benchmark Collection/RQ-3/alias.py:391\u001b[0m, in \u001b[0;36mprocess_xml_to_code\u001b[0;34m(in_file, src_file)\u001b[0m\n\u001b[1;32m    386\u001b[0m file_code \u001b[38;5;241m=\u001b[39m get_file_code(fpath_to_text, call\u001b[38;5;241m.\u001b[39mattrib[\u001b[38;5;124m\"\u001b[39m\u001b[38;5;124mfilepath\u001b[39m\u001b[38;5;124m\"\u001b[39m])\n\u001b[1;32m    389\u001b[0m \u001b[38;5;66;03m#print(attrib)\u001b[39;00m\n\u001b[0;32m--> 391\u001b[0m code, \u001b[38;5;28minput\u001b[39m, aliasing_info \u001b[38;5;241m=\u001b[39m \u001b[43mannotate\u001b[49m\u001b[43m(\u001b[49m\n\u001b[1;32m    392\u001b[0m \u001b[43m    \u001b[49m\u001b[43mcall\u001b[49m\u001b[38;5;241;43m.\u001b[39;49m\u001b[43mattrib\u001b[49m\u001b[43m[\u001b[49m\u001b[38;5;124;43m\"\u001b[39;49m\u001b[38;5;124;43mfilepath\u001b[39;49m\u001b[38;5;124;43m\"\u001b[39;49m\u001b[43m]\u001b[49m\u001b[43m,\u001b[49m\u001b[43m \u001b[49m\u001b[43mfile_code\u001b[49m\u001b[43m,\u001b[49m\u001b[43m \u001b[49m\u001b[43mattrib\u001b[49m\u001b[43m,\u001b[49m\u001b[43m \u001b[49m\u001b[43msteps\u001b[49m\n\u001b[1;32m    393\u001b[0m \u001b[43m\u001b[49m\u001b[43m)\u001b[49m\n\u001b[1;32m    394\u001b[0m \u001b[38;5;28;01mif\u001b[39;00m (code \u001b[38;5;129;01mis\u001b[39;00m \u001b[38;5;28;01mNone\u001b[39;00m \u001b[38;5;129;01mor\u001b[39;00m aliasing_info \u001b[38;5;129;01mis\u001b[39;00m \u001b[38;5;28;01mNone\u001b[39;00m) \u001b[38;5;129;01mor\u001b[39;00m \u001b[38;5;28mlen\u001b[39m(code) \u001b[38;5;241m==\u001b[39m \u001b[38;5;241m0\u001b[39m:\n\u001b[1;32m    395\u001b[0m     \u001b[38;5;28;01mcontinue\u001b[39;00m\n",
      "File \u001b[0;32m~/Tracing/Annotation/C Benchmark Collection/RQ-3/alias.py:160\u001b[0m, in \u001b[0;36mannotate\u001b[0;34m(filepath, code, attrib, steps)\u001b[0m\n\u001b[1;32m    158\u001b[0m \u001b[38;5;28;01mdef\u001b[39;00m \u001b[38;5;21mannotate\u001b[39m(filepath, code, attrib, steps):\n\u001b[1;32m    159\u001b[0m     lines \u001b[38;5;241m=\u001b[39m code\u001b[38;5;241m.\u001b[39msplitlines(keepends\u001b[38;5;241m=\u001b[39m\u001b[38;5;28;01mTrue\u001b[39;00m)\n\u001b[0;32m--> 160\u001b[0m     source_code \u001b[38;5;241m=\u001b[39m \u001b[43mextract_complete_function\u001b[49m\u001b[43m(\u001b[49m\u001b[43mcode\u001b[49m\u001b[43m,\u001b[49m\u001b[43m \u001b[49m\u001b[43msteps\u001b[49m\u001b[43m[\u001b[49m\u001b[38;5;241;43m0\u001b[39;49m\u001b[43m]\u001b[49m\u001b[43m[\u001b[49m\u001b[38;5;124;43m'\u001b[39;49m\u001b[38;5;124;43mattr\u001b[39;49m\u001b[38;5;124;43m'\u001b[39;49m\u001b[43m]\u001b[49m\u001b[43m[\u001b[49m\u001b[38;5;124;43m'\u001b[39;49m\u001b[38;5;124;43mfunc_name\u001b[39;49m\u001b[38;5;124;43m'\u001b[39;49m\u001b[43m]\u001b[49m\u001b[43m)\u001b[49m\n\u001b[1;32m    162\u001b[0m     \u001b[38;5;28;01mif\u001b[39;00m \u001b[38;5;129;01mnot\u001b[39;00m source_code:\n\u001b[1;32m    163\u001b[0m         \u001b[38;5;28;01mreturn\u001b[39;00m \u001b[38;5;28;01mNone\u001b[39;00m, \u001b[38;5;28;01mNone\u001b[39;00m, \u001b[38;5;28;01mNone\u001b[39;00m\n",
      "File \u001b[0;32m~/Tracing/Annotation/C Benchmark Collection/RQ-3/function_name.py:23\u001b[0m, in \u001b[0;36mextract_complete_function\u001b[0;34m(source_code, target_function_name)\u001b[0m\n\u001b[1;32m     20\u001b[0m queue \u001b[38;5;241m=\u001b[39m [tree\u001b[38;5;241m.\u001b[39mroot_node]\n\u001b[1;32m     22\u001b[0m \u001b[38;5;28;01mwhile\u001b[39;00m queue:\n\u001b[0;32m---> 23\u001b[0m     node \u001b[38;5;241m=\u001b[39m \u001b[43mqueue\u001b[49m\u001b[38;5;241;43m.\u001b[39;49m\u001b[43mpop\u001b[49m\u001b[43m(\u001b[49m\u001b[38;5;241;43m0\u001b[39;49m\u001b[43m)\u001b[49m\n\u001b[1;32m     25\u001b[0m     \u001b[38;5;66;03m# Check for function definition\u001b[39;00m\n\u001b[1;32m     26\u001b[0m     \u001b[38;5;28;01mif\u001b[39;00m node\u001b[38;5;241m.\u001b[39mtype \u001b[38;5;241m==\u001b[39m \u001b[38;5;124m\"\u001b[39m\u001b[38;5;124mfunction_definition\u001b[39m\u001b[38;5;124m\"\u001b[39m:\n\u001b[1;32m     27\u001b[0m         \u001b[38;5;66;03m# Get function declarator and name\u001b[39;00m\n",
      "\u001b[0;31mKeyboardInterrupt\u001b[0m: "
     ]
    }
   ],
   "source": [
    "import json\n",
    "import os\n",
    "from pathlib import Path\n",
    "from filelock import FileLock\n",
    "import tqdm\n",
    "from alias import process_xml_to_code\n",
    "\n",
    "class GlobalFunctionTracker:\n",
    "    \"\"\"Persistent function tracker using source code and function input pairs\"\"\"\n",
    "    def __init__(self, cache_file=\".function_cache.json\"):\n",
    "        self.cache_file = cache_file\n",
    "        self.lock = FileLock(f\"{cache_file}.lock\")\n",
    "        self.cache = set()\n",
    "        self._load_cache()\n",
    "    \n",
    "    def _load_cache(self):\n",
    "        try:\n",
    "            with self.lock:\n",
    "                if os.path.exists(self.cache_file):\n",
    "                    with open(self.cache_file, 'r') as f:\n",
    "                        self.cache = set(json.load(f))\n",
    "        except Exception as e:\n",
    "            print(f\"Warning: Could not load cache - {e}\")\n",
    "            self.cache = set()\n",
    "    \n",
    "    def _save_cache(self):\n",
    "        try:\n",
    "            with self.lock:\n",
    "                with open(self.cache_file, 'w') as f:\n",
    "                    json.dump(list(self.cache), f)\n",
    "        except Exception as e:\n",
    "            print(f\"Warning: Could not save cache - {e}\")\n",
    "    \n",
    "    def add(self, source_code, function_input):\n",
    "        # Create a unique signature from the source code and input\n",
    "        signature = self._generate_signature(source_code, function_input)\n",
    "        if signature not in self.cache:\n",
    "            self.cache.add(signature)\n",
    "            self._save_cache()\n",
    "            return True\n",
    "        return False\n",
    "    \n",
    "    def contains(self, source_code, function_input):\n",
    "        signature = self._generate_signature(source_code, function_input)\n",
    "        return signature in self.cache\n",
    "    \n",
    "    def _generate_signature(self, source_code, function_input):\n",
    "        \"\"\"Generate a hash-based signature for the source code and input pair\"\"\"\n",
    "        return f\"{hash(source_code.strip())}:{hash(tuple(sorted(function_input)))}\"\n",
    "\n",
    "    def __len__(self):\n",
    "        return len(self.cache)\n",
    "\n",
    "\n",
    "global_tracker = GlobalFunctionTracker()\n",
    "output_file = \"aliasing_dataset_new.jsonl\"\n",
    "\n",
    "def is_valid_result(result):\n",
    "    \"\"\"Check if result contains all required fields with valid content\"\"\"\n",
    "    required = {\n",
    "        \"Source Code\": lambda x: len(x.strip()) > 0,\n",
    "        \"Selected Statement\": lambda x: len(x.strip()) > 0,\n",
    "        \"Selected Pointer\": lambda x: len(x.strip()) > 0,\n",
    "        \"Function Input\": lambda x: len(x) > 0\n",
    "    }\n",
    "    return all(field in result and validator(result[field]) \n",
    "           for field, validator in required.items())\n",
    "\n",
    "def process_single_file(fpath):\n",
    "    src_file_path = Path(str(fpath).replace(\"log_\", \"src_\"))\n",
    "    \n",
    "    try:\n",
    "        result = process_xml_to_code(str(fpath), str(src_file_path))\n",
    "        \n",
    "        if result and is_valid_result(result):\n",
    "            # Check if we've seen this source code + input pair before\n",
    "            if global_tracker.contains(result[\"Source Code\"], result[\"Function Input\"]):\n",
    "                return False\n",
    "            \n",
    "            # If not, add to dataset and tracker\n",
    "            with open(output_file, 'a') as f:\n",
    "                json.dump(result, f)\n",
    "                f.write('\\n')\n",
    "            \n",
    "            global_tracker.add(result[\"Source Code\"], result[\"Function Input\"])\n",
    "            return True\n",
    "        \n",
    "        return False\n",
    "    \n",
    "    except Exception as e:\n",
    "        print(f\"Error processing {fpath}: {e}\")\n",
    "        return None\n",
    "\n",
    "def process_files_in_batches(log_files, batch_size=8):\n",
    "    \"\"\"Process files in batches with progress tracking\"\"\"\n",
    "    os.makedirs(os.path.dirname(output_file) or '.', exist_ok=True)\n",
    "    \n",
    "    # Clear output file at start\n",
    "    open(output_file, 'w').close()\n",
    "    \n",
    "    processed_count = 0\n",
    "    with tqdm.tqdm(total=len(log_files)) as pbar:\n",
    "        for i in range(0, len(log_files), batch_size):\n",
    "            batch = log_files[i:i+batch_size]\n",
    "            \n",
    "            for fpath in batch:\n",
    "                success = process_single_file(fpath)\n",
    "                if success:\n",
    "                    processed_count += 1\n",
    "                pbar.update(1)\n",
    "            \n",
    "            # Periodic status updates\n",
    "            if i % (10*batch_size) == 0:\n",
    "                print(f\"\\nProcessed {i}/{len(log_files)} files\")\n",
    "                print(f\"Valid results: {processed_count}\")\n",
    "                print(f\"Unique function/input pairs: {len(global_tracker)}\")\n",
    "    \n",
    "    print(f\"\\nCompleted processing {len(log_files)} files\")\n",
    "    print(f\"Total valid results saved to {output_file}: {processed_count}\")\n",
    "    print(f\"Total unique function/input pairs: {len(global_tracker)}\")\n",
    "\n",
    "\n",
    "if __name__ == \"__main__\":\n",
    "    process_files_in_batches(log_files, batch_size=8)"
   ]
  },
  {
   "cell_type": "code",
   "execution_count": null,
   "id": "8c8693cd",
   "metadata": {},
   "outputs": [],
   "source": [
    "import sys\n",
    "import json\n",
    "from alias import process_xml_to_code\n",
    "\n",
    "jsonl_file_path = \"aliasing_dataset_new.jsonl\"  \n",
    "\n",
    "for fpath in log_files[:50]:\n",
    "    src_file_path = str(fpath).replace(\"log_\", \"src_\")\n",
    "    \n",
    "    result = process_xml_to_code(str(fpath), str(src_file_path))\n",
    "    \n",
    "    if result:\n",
    "        has_code = len(result[\"Source Code\"].strip()) > 0\n",
    "        has_selected = len(result[\"Selected Statement\"].strip()) > 0\n",
    "        has_pointer = len(result[\"Selected Pointer\"].strip()) > 0\n",
    "        has_input = len(result[\"Function Input\"]) > 0 \n",
    "        \n",
    "        if (has_code and has_selected and has_pointer) and has_input:\n",
    "            print(result[\"Function Input\"])\n",
    "            with open(jsonl_file_path, \"a\") as jsonl_file:\n",
    "                json_str = json.dumps(result)\n",
    "                jsonl_file.write(json_str + \"\\n\")\n",
    "        else:\n",
    "            print(f\"Skipping incomplete result from {fpath}\")"
   ]
  },
  {
   "cell_type": "code",
   "execution_count": null,
   "id": "d8fdb106",
   "metadata": {},
   "outputs": [],
   "source": [
    "import json\n",
    "\n",
    "\n",
    "with open(\"aliasing_dataset.jsonl\", \"r\") as f:\n",
    "    lines = f.readlines()\n",
    "\n",
    "with open(\"aliasing_dataset.jsonl\", \"w\") as f:\n",
    "    for idx, line in enumerate(lines):\n",
    "        try:\n",
    "            data = json.loads(line)\n",
    "            data[\"idx\"] = idx \n",
    "            f.write(json.dumps(data) + \"\\n\")\n",
    "        except json.JSONDecodeError:\n",
    "            print(f\"Skipping malformed line at position {idx}\")\n",
    "            continue\n",
    "\n",
    "print(f\"Added idx to {len(lines)} samples\")"
   ]
  }
 ],
 "metadata": {
  "kernelspec": {
   "display_name": "venv",
   "language": "python",
   "name": "python3"
  },
  "language_info": {
   "codemirror_mode": {
    "name": "ipython",
    "version": 3
   },
   "file_extension": ".py",
   "mimetype": "text/x-python",
   "name": "python",
   "nbconvert_exporter": "python",
   "pygments_lexer": "ipython3",
   "version": "3.10.12"
  }
 },
 "nbformat": 4,
 "nbformat_minor": 5
}
