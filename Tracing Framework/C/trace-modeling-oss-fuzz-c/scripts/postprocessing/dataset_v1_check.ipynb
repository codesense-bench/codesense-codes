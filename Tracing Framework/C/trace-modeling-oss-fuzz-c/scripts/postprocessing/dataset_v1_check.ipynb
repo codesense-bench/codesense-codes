{
 "cells": [
  {
   "cell_type": "code",
   "execution_count": null,
   "metadata": {},
   "outputs": [],
   "source": [
    "import pandas as pd\n",
    "df = pd.read_json(\"dataset_v1/build_export_formatted_with-entry2/apache-httpd/apache-httpd_fuzz_request.jsonl\", lines=True)\n",
    "df"
   ]
  },
  {
   "cell_type": "code",
   "execution_count": null,
   "metadata": {},
   "outputs": [],
   "source": [
    "import re\n",
    "def pairwise(t):\n",
    "    it = iter(t)\n",
    "    return zip(it,it)\n",
    "def visualize(example):\n",
    "    print(example[\"line_coverage\"])\n",
    "    assert set(example[\"line_sequence\"]) == set(example[\"line_coverage\"])\n",
    "    for i, (line, delim) in enumerate(pairwise(re.split(r\"// L([0-9]+)\", example[\"src\"])), start=1):\n",
    "        executed = i in example[\"line_sequence\"]\n",
    "        print(f\"{i}\\t{line}\", \"<-\", delim, executed)\n",
    "visualize(df.iloc[1001])"
   ]
  }
 ],
 "metadata": {
  "kernelspec": {
   "display_name": "venv",
   "language": "python",
   "name": "python3"
  },
  "language_info": {
   "codemirror_mode": {
    "name": "ipython",
    "version": 3
   },
   "file_extension": ".py",
   "mimetype": "text/x-python",
   "name": "python",
   "nbconvert_exporter": "python",
   "pygments_lexer": "ipython3",
   "version": "3.8.16"
  },
  "orig_nbformat": 4
 },
 "nbformat": 4,
 "nbformat_minor": 2
}
